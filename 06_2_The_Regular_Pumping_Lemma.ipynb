{
  "nbformat": 4,
  "nbformat_minor": 0,
  "metadata": {
    "colab": {
      "name": "06_2_The_Regular_Pumping_Lemma.ipynb",
      "provenance": [],
      "include_colab_link": true
    },
    "kernelspec": {
      "name": "python3",
      "display_name": "Python 3"
    }
  },
  "cells": [
    {
      "cell_type": "markdown",
      "metadata": {
        "id": "view-in-github",
        "colab_type": "text"
      },
      "source": [
        "<a href=\"https://colab.research.google.com/github/mloumeau/cse480-notebooks/blob/master/06_2_The_Regular_Pumping_Lemma.ipynb\" target=\"_parent\"><img src=\"https://colab.research.google.com/assets/colab-badge.svg\" alt=\"Open In Colab\"/></a>"
      ]
    },
    {
      "cell_type": "markdown",
      "metadata": {
        "id": "15fp3DYOO1OE"
      },
      "source": [
        "# The Regular Pumping Lemma\n",
        "## Class Directed Learning\n",
        "### Due: 9 February 2021"
      ]
    },
    {
      "cell_type": "markdown",
      "metadata": {
        "id": "Kb_PKGBePDV5"
      },
      "source": [
        "Do you understand this \"theorem helper\" (what a lemma is) and how it helps you prove by contradiction that a language is **NOT** regular? Do you understand why it cannot be used to prove that a language **IS** regular?\n",
        "\n",
        "Work through the two resources below and enhance your understanding by helping each other and assess your understanding by quizzing each other.\n",
        "\n",
        "https://rickneff.github.io/regular-languages-pumping-words.pdf\n",
        "\n",
        "https://cs.stackexchange.com/questions/50559/pumping-lemma-if-you-can-keep-pumping-what-does-this-tell-you\n"
      ]
    },
    {
      "cell_type": "markdown",
      "metadata": {
        "id": "ZzN4wvGTPu9d"
      },
      "source": [
        "## Proving by Contradiction\r\n",
        "For a given language $L$ = {$0^n,1^n | n \\ge 0$}, the following steps are in order:\r\n",
        "\r\n",
        "* Assume that L is regular\r\n",
        "* Define a pumping length, p\r\n",
        "* Define s (often in terms of p).<br>\r\n",
        " *NOTE* it is possible to define an s that can act as a regular language, despite L not being one. Sometimes finding an appropriate s is the\r\n",
        "hard part.\r\n",
        "  - s ∈ L\r\n",
        "  - |s| ≥ p\r\n",
        "  - Pumping Lemma guarantees that s can be split into 3 pieces\r\n",
        "  - s = xyz, where for any i ≥ 0\r\n",
        "      - Y has to able to repeat for this to work.\r\n",
        "  - $xy^iz$ ∈ $L$.\r\n",
        "  - Show that for some values of y, the Pumping Lemma causes contradiction\r\n",
        "\r\n",
        "Source:&ensp;&ensp; https://www3.nd.edu/~cpennycu/2018/assets/fa-ToC-5.pdf\r\n",
        "\r\n",
        "## Cannot Prove for Regular Languages\r\n",
        "\r\n",
        "There are non-regular languages that are able to \"trick\" the property stated in the Pumping Lemma  implication. Thus - you can't use the Pumping Lemma to prove that a language is, in fact, regular.\r\n",
        "\r\n",
        "Source:&ensp;&ensp;https://cs.stackexchange.com/questions/96551/how-to-prove-using-pumping-lemma-that-language-generated-by-abcde-is-regul"
      ]
    }
  ]
}