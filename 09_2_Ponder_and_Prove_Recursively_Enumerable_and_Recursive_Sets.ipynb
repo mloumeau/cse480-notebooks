{
  "nbformat": 4,
  "nbformat_minor": 0,
  "metadata": {
    "colab": {
      "name": "09_2_Ponder_and_Prove_Recursively_Enumerable_and_Recursive_Sets.ipynb",
      "provenance": [],
      "include_colab_link": true
    },
    "kernelspec": {
      "name": "python3",
      "display_name": "Python 3"
    }
  },
  "cells": [
    {
      "cell_type": "markdown",
      "metadata": {
        "id": "view-in-github",
        "colab_type": "text"
      },
      "source": [
        "<a href=\"https://colab.research.google.com/github/mloumeau/cse480-notebooks/blob/master/09_2_Ponder_and_Prove_Recursively_Enumerable_and_Recursive_Sets.ipynb\" target=\"_parent\"><img src=\"https://colab.research.google.com/assets/colab-badge.svg\" alt=\"Open In Colab\"/></a>"
      ]
    },
    {
      "cell_type": "markdown",
      "metadata": {
        "id": "KROWXw9EqAOY"
      },
      "source": [
        "# Ponder and Prove Recursively Enumerable and Recursive Sets\n",
        "## Due: Saturday, 27 February 2021, 11:59 pm"
      ]
    },
    {
      "cell_type": "markdown",
      "metadata": {
        "id": "uLXu2I4YqK2x"
      },
      "source": [
        "## TODO Exercise 14.4.1, RE and Recursive\n"
      ]
    },
    {
      "cell_type": "markdown",
      "metadata": {
        "id": "m7clQtUHqQDq"
      },
      "source": [
        "Do the first six parts only (we'll do part 7 in class together)."
      ]
    },
    {
      "cell_type": "markdown",
      "metadata": {
        "id": "ND770ZuCq5kG"
      },
      "source": [
        "1. Describe a decider to check whether the language of a given DFA $D$ is infinite."
      ]
    },
    {
      "cell_type": "markdown",
      "metadata": {
        "id": "MRG7nNwoq_qT"
      },
      "source": [
        "## \\#1 Answer\r\n",
        "One way to go about checking if the language for DFA $D$ is infinite would be to reduce. First we'd reduce the DFA $D$ into an an NFA, which we can call $ND$. From there, we'd find the regular expression for $ND$. If the regular expression contains a '*', then the language for DFA $D$ is indeed infinite.\r\n",
        "\r\n",
        "A star represents a loop that goes on for as long as it desires. This means it could potentially loop forever, signifying the language to be infinite.\r\n",
        "\r\n",
        "Another good point Caleb brought up was the conversion to an NFA $ND$ is necessary before checking for a star. We could potentially have a '*' in a black hole state, which would end up giving us a false positive. Once converted to an NFA, we no longer have this problen."
      ]
    },
    {
      "cell_type": "markdown",
      "metadata": {
        "id": "5rVqkMA0kWFT"
      },
      "source": [
        "2. Describe a decider to check whether a linear bounded automaton $L$ working on an input $w$ will go into an infinite loop."
      ]
    },
    {
      "cell_type": "markdown",
      "metadata": {
        "id": "CzHz1MFfkWFY"
      },
      "source": [
        "## \\#2 Answer\r\n",
        "This question indirectly addresses the halting problem. Therefore, we can use the halting problem for our solution. The decider would output 'yes, $Halt_{TM} \\in L$' or 'no, $Halt_{TM} \\notin L$'"
      ]
    },
    {
      "cell_type": "markdown",
      "metadata": {
        "id": "PBAwrOrkkWk7"
      },
      "source": [
        "3. Describe an enumerator for the language $Halt_{TM}$ similar to how the enumerator for $A_{TM}$ was designed."
      ]
    },
    {
      "cell_type": "markdown",
      "metadata": {
        "id": "BNHY7u_0kWk8"
      },
      "source": [
        "## \\#3 Answer\r\n",
        "• Keep listing pairs (A,B) of strings from $\\Sigma^*$ on an “internal tape.”\r\n",
        "\r\n",
        "• Keep checking whether A is a Turing machine description (e.g., our\r\n",
        "markdown language for the TM has a parser; one can run this parser\r\n",
        "and see if it halts at A). If so, A happens to be a Turing machine\r\n",
        "description.\r\n",
        "\r\n",
        "• Run Turing machine A on B, treating B as its input. Again, do not run\r\n",
        "to completion; instead, engage in a dovetailed execution with all other\r\n",
        "TMs and inputs meanwhile being enumerated internally.\r\n",
        "\r\n",
        "• When the dovetailed simulation finds an (A,B) pair such that A halts B, it lists the (A,B) pair on the output tape.\r\n",
        "\r\n",
        "• This listing will produce every (M,w) such that M halts w.\r\n",
        "\r\n",
        "• The existence of this enumerator means that $Halt_{TM}$ is RE."
      ]
    },
    {
      "cell_type": "markdown",
      "metadata": {
        "id": "8Jeqy8I_kWrR"
      },
      "source": [
        "4. Describe an enumerator for the language $\\overline{L_{UnivCFG}}$."
      ]
    },
    {
      "cell_type": "markdown",
      "metadata": {
        "id": "t9SwwfftkWrS"
      },
      "source": [
        "Your answer goes here."
      ]
    },
    {
      "cell_type": "markdown",
      "metadata": {
        "id": "98rHo7ggkWwM"
      },
      "source": [
        "5. Describe a semi-decider for whether or not a grammar $G_{1}$ has a language that is not contained in the language of another grammar $G_{2}$. That is, we must be able to enumerate all such pairs\n",
        "$(G_{1}, G_{2})$ such that $L(G_{1}) \\not \\subseteq L(G_{2})$."
      ]
    },
    {
      "cell_type": "markdown",
      "metadata": {
        "id": "tGMfPWVSkWwN"
      },
      "source": [
        "Your answer goes here."
      ]
    },
    {
      "cell_type": "markdown",
      "metadata": {
        "id": "55N7qScokW2I"
      },
      "source": [
        "6. Suppose someone claims to have a decider for $L(G_{1}) \\subseteq L(G_{2})$. Demonstrate how to build a reduction proof from $UnivCFG$. Draw a diagram similar to Figure 14.1 explaining your proof."
      ]
    },
    {
      "cell_type": "markdown",
      "metadata": {
        "id": "Y5s-HiojkW2J"
      },
      "source": [
        "Your answer goes here."
      ]
    }
  ]
}