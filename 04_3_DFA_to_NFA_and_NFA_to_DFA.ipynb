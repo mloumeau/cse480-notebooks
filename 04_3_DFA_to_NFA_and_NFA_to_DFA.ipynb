{
  "nbformat": 4,
  "nbformat_minor": 0,
  "metadata": {
    "kernelspec": {
      "display_name": "Python 3",
      "language": "python",
      "name": "python3"
    },
    "language_info": {
      "codemirror_mode": {
        "name": "ipython",
        "version": 3
      },
      "file_extension": ".py",
      "mimetype": "text/x-python",
      "name": "python",
      "nbconvert_exporter": "python",
      "pygments_lexer": "ipython3",
      "version": "3.9.0"
    },
    "toc": {
      "colors": {
        "hover_highlight": "#DAA520",
        "running_highlight": "#FF0000",
        "selected_highlight": "#FFD700"
      },
      "moveMenuLeft": true,
      "nav_menu": {
        "height": "121px",
        "width": "252px"
      },
      "navigate_menu": true,
      "number_sections": true,
      "sideBar": true,
      "threshold": 4,
      "toc_cell": false,
      "toc_section_display": "block",
      "toc_window_display": false,
      "widenNotebook": false
    },
    "colab": {
      "name": "04_3_DFA_to_NFA_and_NFA_to_DFA.ipynb",
      "provenance": [],
      "include_colab_link": true
    }
  },
  "cells": [
    {
      "cell_type": "markdown",
      "metadata": {
        "id": "view-in-github",
        "colab_type": "text"
      },
      "source": [
        "<a href=\"https://colab.research.google.com/github/croesusking/cse480-notebooks/blob/master/04_3_DFA_to_NFA_and_NFA_to_DFA.ipynb\" target=\"_parent\"><img src=\"https://colab.research.google.com/assets/colab-badge.svg\" alt=\"Open In Colab\"/></a>"
      ]
    },
    {
      "cell_type": "markdown",
      "metadata": {
        "run_control": {
          "frozen": false,
          "read_only": false
        },
        "id": "h-RPPBkjSoeb"
      },
      "source": [
        "# Converting DFA to NFA (easy!) and NFA to DFA (harder!).\n"
      ]
    },
    {
      "cell_type": "code",
      "metadata": {
        "run_control": {
          "frozen": false,
          "read_only": false
        },
        "id": "ToZBTHfjSoel",
        "colab": {
          "base_uri": "https://localhost:8080/"
        },
        "outputId": "246e2175-ddcc-43e8-b074-da1acba8ca99"
      },
      "source": [
        "#~~~~~~~~~~~~~~~~~~~~~~~~~~~~~~~~~~~~~~~~~~~~~~~~~~~~~~~\n",
        "import sys\n",
        "\n",
        "# -- Detect if in Own Install or in Colab\n",
        "try:\n",
        "    import google.colab\n",
        "    OWN_INSTALL = False\n",
        "except:\n",
        "    OWN_INSTALL = True\n",
        "    \n",
        "if OWN_INSTALL:\n",
        "    \n",
        "  #---- Leave these definitions ON if running on laptop\n",
        "  #---- Else turn OFF by putting them between ''' ... '''\n",
        "\n",
        "  sys.path[0:0] = ['../../../../..',  '../../../../../3rdparty',  \n",
        "                   '../../../..',  '../../../../3rdparty',  \n",
        "                   '../../..',     '../../../3rdparty', \n",
        "                   '../..',        '../../3rdparty',\n",
        "                   '..',           '../3rdparty',\n",
        "                   '../Jove',      '../Jove/jove']\n",
        "\n",
        "else: # In colab\n",
        "  ! if [ ! -d Jove ]; then git clone https://github.com/ganeshutah/Jove Jove; fi\n",
        "  sys.path.append('./Jove')\n",
        "  sys.path.append('./Jove/jove')\n",
        "\n",
        "# -- common imports --\n",
        "from jove.DotBashers import *\n",
        "from jove.Def_md2mc  import *\n",
        "from jove.Def_NFA    import *\n",
        "from jove.Def_DFA    import *\n",
        "from jove.AnimateNFA import *\n",
        "#~~~~~~~~~~~~~~~~~~~~~~~~~~~~~~~~~~~~~~~~~~~~~~~~~~~~~~~"
      ],
      "execution_count": null,
      "outputs": [
        {
          "output_type": "stream",
          "text": [
            "Cloning into 'Jove'...\n",
            "remote: Enumerating objects: 4634, done.\u001b[K\n",
            "remote: Total 4634 (delta 0), reused 0 (delta 0), pack-reused 4634\u001b[K\n",
            "Receiving objects: 100% (4634/4634), 7.38 MiB | 8.33 MiB/s, done.\n",
            "Resolving deltas: 100% (3005/3005), done.\n",
            "You may use any of these help commands:\n",
            "help(ResetStNum)\n",
            "help(NxtStateStr)\n",
            "\n",
            "You may use any of these help commands:\n",
            "help(md2mc)\n",
            ".. and if you want to dig more, then ..\n",
            "help(default_line_attr)\n",
            "help(length_ok_input_items)\n",
            "help(union_line_attr_list_fld)\n",
            "help(extend_rsltdict)\n",
            "help(form_delta)\n",
            "help(get_machine_components)\n",
            "\n",
            "You may use any of these help commands:\n",
            "help(mkp_dfa)\n",
            "help(mk_dfa)\n",
            "help(totalize_dfa)\n",
            "help(addtosigma_delta)\n",
            "help(step_dfa)\n",
            "help(run_dfa)\n",
            "help(accepts_dfa)\n",
            "help(comp_dfa)\n",
            "help(union_dfa)\n",
            "help(intersect_dfa)\n",
            "help(pruneUnreach)\n",
            "help(iso_dfa)\n",
            "help(langeq_dfa)\n",
            "help(same_status)\n",
            "help(h_langeq_dfa)\n",
            "help(fixptDist)\n",
            "help(min_dfa)\n",
            "help(pairFR)\n",
            "help(state_combos)\n",
            "help(sepFinNonFin)\n",
            "help(bash_eql_classes)\n",
            "help(listminus)\n",
            "help(bash_1)\n",
            "help(mk_rep_eqc)\n",
            "help(F_of)\n",
            "help(rep_of_s)\n",
            "help(q0_of)\n",
            "help(Delta_of)\n",
            "help(mk_state_eqc_name)\n",
            "\n",
            "You may use any of these help commands:\n",
            "help(mk_nfa)\n",
            "help(totalize_nfa)\n",
            "help(step_nfa)\n",
            "help(run_nfa)\n",
            "help(ec_step_nfa)\n",
            "help(Eclosure)\n",
            "help(Echelp)\n",
            "help(accepts_nfa)\n",
            "help(nfa2dfa)\n",
            "help(n2d)\n",
            "help(inSets)\n",
            "help(rev_dfa)\n",
            "help(min_dfa_brz)\n",
            "\n",
            " \"help(AnimateNFA)\" gives you info on how to use animations with NFA \n"
          ],
          "name": "stdout"
        }
      ]
    },
    {
      "cell_type": "markdown",
      "metadata": {
        "id": "0ubbHxsRSoem"
      },
      "source": [
        "L(dfaD1) = { w | w has exactly two 0's}"
      ]
    },
    {
      "cell_type": "code",
      "metadata": {
        "id": "7DRDrnFhSoem",
        "colab": {
          "base_uri": "https://localhost:8080/"
        },
        "outputId": "44f9df60-d7f3-43eb-de25-8a6d2a3bb7d6"
      },
      "source": [
        "dfaD1 = md2mc('''\n",
        "  DFA\n",
        "  I : 0 -> S1\n",
        "  I : 1 -> I\n",
        "  S1: 0 -> F\n",
        "  S1: 1 -> S1\n",
        "  F : 0 -> S2\n",
        "  F : 1 -> F\n",
        "  S2: 0|1 -> S2\n",
        "''')"
      ],
      "execution_count": null,
      "outputs": [
        {
          "output_type": "stream",
          "text": [
            "Generating LALR tables\n"
          ],
          "name": "stderr"
        }
      ]
    },
    {
      "cell_type": "code",
      "metadata": {
        "id": "kcoFXrMESoen",
        "colab": {
          "base_uri": "https://localhost:8080/",
          "height": 153
        },
        "outputId": "62efd61a-afca-4cf8-c301-a24658c8d4a9"
      },
      "source": [
        "dotObj_dfa(dfaD1, FuseEdges=True)"
      ],
      "execution_count": null,
      "outputs": [
        {
          "output_type": "execute_result",
          "data": {
            "text/plain": [
              "<graphviz.dot.Digraph at 0x7f2ec1ec1b00>"
            ],
            "image/svg+xml": "<?xml version=\"1.0\" encoding=\"UTF-8\" standalone=\"no\"?>\n<!DOCTYPE svg PUBLIC \"-//W3C//DTD SVG 1.1//EN\"\n \"http://www.w3.org/Graphics/SVG/1.1/DTD/svg11.dtd\">\n<!-- Generated by graphviz version 2.40.1 (20161225.0304)\n -->\n<!-- Title: %3 Pages: 1 -->\n<svg width=\"406pt\" height=\"99pt\"\n viewBox=\"0.00 0.00 406.19 98.80\" xmlns=\"http://www.w3.org/2000/svg\" xmlns:xlink=\"http://www.w3.org/1999/xlink\">\n<g id=\"graph0\" class=\"graph\" transform=\"scale(1 1) rotate(0) translate(4 94.7982)\">\n<title>%3</title>\n<polygon fill=\"#ffffff\" stroke=\"transparent\" points=\"-4,4 -4,-94.7982 402.1926,-94.7982 402.1926,4 -4,4\"/>\n<!-- EMPTY -->\n<g id=\"node1\" class=\"node\">\n<title>EMPTY</title>\n</g>\n<!-- I -->\n<g id=\"node2\" class=\"node\">\n<title>I</title>\n<ellipse fill=\"none\" stroke=\"#000000\" cx=\"109\" cy=\"-22\" rx=\"18\" ry=\"18\"/>\n<text text-anchor=\"middle\" x=\"109\" y=\"-18.3\" font-family=\"Times,serif\" font-size=\"14.00\" fill=\"#000000\">I</text>\n</g>\n<!-- EMPTY&#45;&gt;I -->\n<g id=\"edge1\" class=\"edge\">\n<title>EMPTY&#45;&gt;I</title>\n<path fill=\"none\" stroke=\"#000000\" d=\"M54.3048,-22C62.6909,-22 71.9407,-22 80.4103,-22\"/>\n<polygon fill=\"#000000\" stroke=\"#000000\" points=\"80.5976,-25.5001 90.5976,-22 80.5976,-18.5001 80.5976,-25.5001\"/>\n</g>\n<!-- I&#45;&gt;I -->\n<g id=\"edge3\" class=\"edge\">\n<title>I&#45;&gt;I</title>\n<path fill=\"none\" stroke=\"#000000\" d=\"M102.6208,-39.0373C101.3189,-48.8579 103.4453,-58 109,-58 112.4717,-58 114.6042,-54.4289 115.3975,-49.3529\"/>\n<polygon fill=\"#000000\" stroke=\"#000000\" points=\"118.8971,-49.031 115.3792,-39.0373 111.8971,-49.0435 118.8971,-49.031\"/>\n<text text-anchor=\"middle\" x=\"109\" y=\"-61.8\" font-family=\"Times,serif\" font-size=\"14.00\" fill=\"#000000\">1 </text>\n</g>\n<!-- S1 -->\n<g id=\"node3\" class=\"node\">\n<title>S1</title>\n<ellipse fill=\"none\" stroke=\"#000000\" cx=\"195.7982\" cy=\"-22\" rx=\"20.5982\" ry=\"20.5982\"/>\n<text text-anchor=\"middle\" x=\"195.7982\" y=\"-18.3\" font-family=\"Times,serif\" font-size=\"14.00\" fill=\"#000000\">S1</text>\n</g>\n<!-- I&#45;&gt;S1 -->\n<g id=\"edge2\" class=\"edge\">\n<title>I&#45;&gt;S1</title>\n<path fill=\"none\" stroke=\"#000000\" d=\"M127.4077,-22C138.2934,-22 152.3613,-22 164.9052,-22\"/>\n<polygon fill=\"#000000\" stroke=\"#000000\" points=\"164.9803,-25.5001 174.9802,-22 164.9802,-18.5001 164.9803,-25.5001\"/>\n<text text-anchor=\"middle\" x=\"151\" y=\"-25.8\" font-family=\"Times,serif\" font-size=\"14.00\" fill=\"#000000\">0 </text>\n</g>\n<!-- S1&#45;&gt;S1 -->\n<g id=\"edge5\" class=\"edge\">\n<title>S1&#45;&gt;S1</title>\n<path fill=\"none\" stroke=\"#000000\" d=\"M187.8382,-41.5637C186.6136,-51.6796 189.2669,-60.7982 195.7982,-60.7982 199.9822,-60.7982 202.5748,-57.0559 203.5759,-51.7065\"/>\n<polygon fill=\"#000000\" stroke=\"#000000\" points=\"207.0778,-51.6249 203.7581,-41.5637 200.079,-51.4991 207.0778,-51.6249\"/>\n<text text-anchor=\"middle\" x=\"195.7982\" y=\"-64.5982\" font-family=\"Times,serif\" font-size=\"14.00\" fill=\"#000000\">1 </text>\n</g>\n<!-- F -->\n<g id=\"node5\" class=\"node\">\n<title>F</title>\n<ellipse fill=\"none\" stroke=\"#000000\" cx=\"286.5963\" cy=\"-22\" rx=\"18\" ry=\"18\"/>\n<ellipse fill=\"none\" stroke=\"#000000\" cx=\"286.5963\" cy=\"-22\" rx=\"22\" ry=\"22\"/>\n<text text-anchor=\"middle\" x=\"286.5963\" y=\"-18.3\" font-family=\"Times,serif\" font-size=\"14.00\" fill=\"#000000\">F</text>\n</g>\n<!-- S1&#45;&gt;F -->\n<g id=\"edge4\" class=\"edge\">\n<title>S1&#45;&gt;F</title>\n<path fill=\"none\" stroke=\"#000000\" d=\"M216.8573,-22C227.9898,-22 241.8945,-22 254.3526,-22\"/>\n<polygon fill=\"#000000\" stroke=\"#000000\" points=\"254.3846,-25.5001 264.3846,-22 254.3845,-18.5001 254.3846,-25.5001\"/>\n<text text-anchor=\"middle\" x=\"240.5963\" y=\"-25.8\" font-family=\"Times,serif\" font-size=\"14.00\" fill=\"#000000\">0 </text>\n</g>\n<!-- S2 -->\n<g id=\"node4\" class=\"node\">\n<title>S2</title>\n<ellipse fill=\"none\" stroke=\"#000000\" cx=\"377.3945\" cy=\"-22\" rx=\"20.5982\" ry=\"20.5982\"/>\n<text text-anchor=\"middle\" x=\"377.3945\" y=\"-18.3\" font-family=\"Times,serif\" font-size=\"14.00\" fill=\"#000000\">S2</text>\n</g>\n<!-- S2&#45;&gt;S2 -->\n<g id=\"edge8\" class=\"edge\">\n<title>S2&#45;&gt;S2</title>\n<path fill=\"none\" stroke=\"#000000\" d=\"M369.4345,-41.5637C368.2099,-51.6796 370.8632,-60.7982 377.3945,-60.7982 381.5785,-60.7982 384.1711,-57.0559 385.1722,-51.7065\"/>\n<polygon fill=\"#000000\" stroke=\"#000000\" points=\"388.6741,-51.6249 385.3544,-41.5637 381.6753,-51.4991 388.6741,-51.6249\"/>\n<text text-anchor=\"middle\" x=\"377.3945\" y=\"-79.5982\" font-family=\"Times,serif\" font-size=\"14.00\" fill=\"#000000\">1 </text>\n<text text-anchor=\"middle\" x=\"377.3945\" y=\"-64.5982\" font-family=\"Times,serif\" font-size=\"14.00\" fill=\"#000000\"> 0 </text>\n</g>\n<!-- F&#45;&gt;S2 -->\n<g id=\"edge6\" class=\"edge\">\n<title>F&#45;&gt;S2</title>\n<path fill=\"none\" stroke=\"#000000\" d=\"M309.0408,-22C320.2512,-22 333.9957,-22 346.2125,-22\"/>\n<polygon fill=\"#000000\" stroke=\"#000000\" points=\"346.4531,-25.5001 356.4531,-22 346.4531,-18.5001 346.4531,-25.5001\"/>\n<text text-anchor=\"middle\" x=\"332.5963\" y=\"-25.8\" font-family=\"Times,serif\" font-size=\"14.00\" fill=\"#000000\">0 </text>\n</g>\n<!-- F&#45;&gt;F -->\n<g id=\"edge7\" class=\"edge\">\n<title>F&#45;&gt;F</title>\n<path fill=\"none\" stroke=\"#000000\" d=\"M278.2261,-42.5808C277.068,-52.8447 279.858,-62 286.5963,-62 290.913,-62 293.6094,-58.2427 294.6854,-52.8436\"/>\n<polygon fill=\"#000000\" stroke=\"#000000\" points=\"298.1913,-52.6729 294.9665,-42.5808 291.1939,-52.4812 298.1913,-52.6729\"/>\n<text text-anchor=\"middle\" x=\"286.5963\" y=\"-65.8\" font-family=\"Times,serif\" font-size=\"14.00\" fill=\"#000000\">1 </text>\n</g>\n</g>\n</svg>\n"
          },
          "metadata": {
            "tags": []
          },
          "execution_count": 3
        }
      ]
    },
    {
      "cell_type": "markdown",
      "metadata": {
        "id": "0GgRuMnCSoen"
      },
      "source": [
        "L(dfaD2) = { w | w has at least two 1's}"
      ]
    },
    {
      "cell_type": "code",
      "metadata": {
        "id": "GZNHRNV0Soen"
      },
      "source": [
        "dfaD2 = md2mc('''\n",
        "  DFA\n",
        "  I : 0 -> I\n",
        "  I : 1 -> S1\n",
        "  S1: 0 -> S1\n",
        "  S1: 1 -> F\n",
        "  F : 0|1 -> F\n",
        "''')"
      ],
      "execution_count": null,
      "outputs": []
    },
    {
      "cell_type": "code",
      "metadata": {
        "id": "q8aUKzBQSoen",
        "colab": {
          "base_uri": "https://localhost:8080/",
          "height": 154
        },
        "outputId": "cc615d2e-003c-4558-f1e6-09e2db6b5800"
      },
      "source": [
        "dotObj_dfa(dfaD2, FuseEdges=True)"
      ],
      "execution_count": null,
      "outputs": [
        {
          "output_type": "execute_result",
          "data": {
            "text/plain": [
              "<graphviz.dot.Digraph at 0x7f2ec228ae10>"
            ],
            "image/svg+xml": "<?xml version=\"1.0\" encoding=\"UTF-8\" standalone=\"no\"?>\n<!DOCTYPE svg PUBLIC \"-//W3C//DTD SVG 1.1//EN\"\n \"http://www.w3.org/Graphics/SVG/1.1/DTD/svg11.dtd\">\n<!-- Generated by graphviz version 2.40.1 (20161225.0304)\n -->\n<!-- Title: %3 Pages: 1 -->\n<svg width=\"317pt\" height=\"100pt\"\n viewBox=\"0.00 0.00 316.60 100.00\" xmlns=\"http://www.w3.org/2000/svg\" xmlns:xlink=\"http://www.w3.org/1999/xlink\">\n<g id=\"graph0\" class=\"graph\" transform=\"scale(1 1) rotate(0) translate(4 96)\">\n<title>%3</title>\n<polygon fill=\"#ffffff\" stroke=\"transparent\" points=\"-4,4 -4,-96 312.5963,-96 312.5963,4 -4,4\"/>\n<!-- EMPTY -->\n<g id=\"node1\" class=\"node\">\n<title>EMPTY</title>\n</g>\n<!-- I -->\n<g id=\"node2\" class=\"node\">\n<title>I</title>\n<ellipse fill=\"none\" stroke=\"#000000\" cx=\"109\" cy=\"-22\" rx=\"18\" ry=\"18\"/>\n<text text-anchor=\"middle\" x=\"109\" y=\"-18.3\" font-family=\"Times,serif\" font-size=\"14.00\" fill=\"#000000\">I</text>\n</g>\n<!-- EMPTY&#45;&gt;I -->\n<g id=\"edge1\" class=\"edge\">\n<title>EMPTY&#45;&gt;I</title>\n<path fill=\"none\" stroke=\"#000000\" d=\"M54.3048,-22C62.6909,-22 71.9407,-22 80.4103,-22\"/>\n<polygon fill=\"#000000\" stroke=\"#000000\" points=\"80.5976,-25.5001 90.5976,-22 80.5976,-18.5001 80.5976,-25.5001\"/>\n</g>\n<!-- I&#45;&gt;I -->\n<g id=\"edge2\" class=\"edge\">\n<title>I&#45;&gt;I</title>\n<path fill=\"none\" stroke=\"#000000\" d=\"M102.6208,-39.0373C101.3189,-48.8579 103.4453,-58 109,-58 112.4717,-58 114.6042,-54.4289 115.3975,-49.3529\"/>\n<polygon fill=\"#000000\" stroke=\"#000000\" points=\"118.8971,-49.031 115.3792,-39.0373 111.8971,-49.0435 118.8971,-49.031\"/>\n<text text-anchor=\"middle\" x=\"109\" y=\"-61.8\" font-family=\"Times,serif\" font-size=\"14.00\" fill=\"#000000\">0 </text>\n</g>\n<!-- S1 -->\n<g id=\"node3\" class=\"node\">\n<title>S1</title>\n<ellipse fill=\"none\" stroke=\"#000000\" cx=\"195.7982\" cy=\"-22\" rx=\"20.5982\" ry=\"20.5982\"/>\n<text text-anchor=\"middle\" x=\"195.7982\" y=\"-18.3\" font-family=\"Times,serif\" font-size=\"14.00\" fill=\"#000000\">S1</text>\n</g>\n<!-- I&#45;&gt;S1 -->\n<g id=\"edge3\" class=\"edge\">\n<title>I&#45;&gt;S1</title>\n<path fill=\"none\" stroke=\"#000000\" d=\"M127.4077,-22C138.2934,-22 152.3613,-22 164.9052,-22\"/>\n<polygon fill=\"#000000\" stroke=\"#000000\" points=\"164.9803,-25.5001 174.9802,-22 164.9802,-18.5001 164.9803,-25.5001\"/>\n<text text-anchor=\"middle\" x=\"151\" y=\"-25.8\" font-family=\"Times,serif\" font-size=\"14.00\" fill=\"#000000\">1 </text>\n</g>\n<!-- S1&#45;&gt;S1 -->\n<g id=\"edge4\" class=\"edge\">\n<title>S1&#45;&gt;S1</title>\n<path fill=\"none\" stroke=\"#000000\" d=\"M187.8382,-41.5637C186.6136,-51.6796 189.2669,-60.7982 195.7982,-60.7982 199.9822,-60.7982 202.5748,-57.0559 203.5759,-51.7065\"/>\n<polygon fill=\"#000000\" stroke=\"#000000\" points=\"207.0778,-51.6249 203.7581,-41.5637 200.079,-51.4991 207.0778,-51.6249\"/>\n<text text-anchor=\"middle\" x=\"195.7982\" y=\"-64.5982\" font-family=\"Times,serif\" font-size=\"14.00\" fill=\"#000000\">0 </text>\n</g>\n<!-- F -->\n<g id=\"node4\" class=\"node\">\n<title>F</title>\n<ellipse fill=\"none\" stroke=\"#000000\" cx=\"286.5963\" cy=\"-22\" rx=\"18\" ry=\"18\"/>\n<ellipse fill=\"none\" stroke=\"#000000\" cx=\"286.5963\" cy=\"-22\" rx=\"22\" ry=\"22\"/>\n<text text-anchor=\"middle\" x=\"286.5963\" y=\"-18.3\" font-family=\"Times,serif\" font-size=\"14.00\" fill=\"#000000\">F</text>\n</g>\n<!-- S1&#45;&gt;F -->\n<g id=\"edge5\" class=\"edge\">\n<title>S1&#45;&gt;F</title>\n<path fill=\"none\" stroke=\"#000000\" d=\"M216.8573,-22C227.9898,-22 241.8945,-22 254.3526,-22\"/>\n<polygon fill=\"#000000\" stroke=\"#000000\" points=\"254.3846,-25.5001 264.3846,-22 254.3845,-18.5001 254.3846,-25.5001\"/>\n<text text-anchor=\"middle\" x=\"240.5963\" y=\"-25.8\" font-family=\"Times,serif\" font-size=\"14.00\" fill=\"#000000\">1 </text>\n</g>\n<!-- F&#45;&gt;F -->\n<g id=\"edge6\" class=\"edge\">\n<title>F&#45;&gt;F</title>\n<path fill=\"none\" stroke=\"#000000\" d=\"M278.2261,-42.5808C277.068,-52.8447 279.858,-62 286.5963,-62 290.913,-62 293.6094,-58.2427 294.6854,-52.8436\"/>\n<polygon fill=\"#000000\" stroke=\"#000000\" points=\"298.1913,-52.6729 294.9665,-42.5808 291.1939,-52.4812 298.1913,-52.6729\"/>\n<text text-anchor=\"middle\" x=\"286.5963\" y=\"-80.8\" font-family=\"Times,serif\" font-size=\"14.00\" fill=\"#000000\">1 </text>\n<text text-anchor=\"middle\" x=\"286.5963\" y=\"-65.8\" font-family=\"Times,serif\" font-size=\"14.00\" fill=\"#000000\"> 0 </text>\n</g>\n</g>\n</svg>\n"
          },
          "metadata": {
            "tags": []
          },
          "execution_count": 5
        }
      ]
    },
    {
      "cell_type": "code",
      "metadata": {
        "id": "rCNucasxSoeo"
      },
      "source": [
        "dfaD3 = intersect_dfa(dfaD1, dfaD2)"
      ],
      "execution_count": null,
      "outputs": []
    },
    {
      "cell_type": "code",
      "metadata": {
        "id": "yeu1MSf-Soeo",
        "colab": {
          "base_uri": "https://localhost:8080/"
        },
        "outputId": "1591d4f5-7a44-47b2-83f2-16eda4c231a9"
      },
      "source": [
        "len(dfaD3[\"Q\"])"
      ],
      "execution_count": null,
      "outputs": [
        {
          "output_type": "execute_result",
          "data": {
            "text/plain": [
              "12"
            ]
          },
          "metadata": {
            "tags": []
          },
          "execution_count": 7
        }
      ]
    },
    {
      "cell_type": "code",
      "metadata": {
        "id": "JYLLJZ4eSoeo",
        "colab": {
          "base_uri": "https://localhost:8080/",
          "height": 456
        },
        "outputId": "df7655fa-bacf-4203-bffb-bd9bcb0b45de"
      },
      "source": [
        "dotObj_dfa(dfaD3, FuseEdges=True)"
      ],
      "execution_count": null,
      "outputs": [
        {
          "output_type": "execute_result",
          "data": {
            "text/plain": [
              "<graphviz.dot.Digraph at 0x7f2ec31bbf98>"
            ],
            "image/svg+xml": "<?xml version=\"1.0\" encoding=\"UTF-8\" standalone=\"no\"?>\n<!DOCTYPE svg PUBLIC \"-//W3C//DTD SVG 1.1//EN\"\n \"http://www.w3.org/Graphics/SVG/1.1/DTD/svg11.dtd\">\n<!-- Generated by graphviz version 2.40.1 (20161225.0304)\n -->\n<!-- Title: %3 Pages: 1 -->\n<svg width=\"780pt\" height=\"326pt\"\n viewBox=\"0.00 0.00 779.66 326.49\" xmlns=\"http://www.w3.org/2000/svg\" xmlns:xlink=\"http://www.w3.org/1999/xlink\">\n<g id=\"graph0\" class=\"graph\" transform=\"scale(1 1) rotate(0) translate(4 322.4937)\">\n<title>%3</title>\n<polygon fill=\"#ffffff\" stroke=\"transparent\" points=\"-4,4 -4,-322.4937 775.6609,-322.4937 775.6609,4 -4,4\"/>\n<!-- EMPTY -->\n<g id=\"node1\" class=\"node\">\n<title>EMPTY</title>\n</g>\n<!-- \\(I_I\\) -->\n<g id=\"node5\" class=\"node\">\n<title>\\(I_I\\)</title>\n<ellipse fill=\"none\" stroke=\"#000000\" cx=\"118.2976\" cy=\"-141.4469\" rx=\"27.0966\" ry=\"27.0966\"/>\n<text text-anchor=\"middle\" x=\"118.2976\" y=\"-137.7469\" font-family=\"Times,serif\" font-size=\"14.00\" fill=\"#000000\">(I_I)</text>\n</g>\n<!-- EMPTY&#45;&gt;\\(I_I\\) -->\n<g id=\"edge1\" class=\"edge\">\n<title>EMPTY&#45;&gt;\\(I_I\\)</title>\n<path fill=\"none\" stroke=\"#000000\" d=\"M54.3923,-141.4469C62.6976,-141.4469 71.9683,-141.4469 80.8159,-141.4469\"/>\n<polygon fill=\"#000000\" stroke=\"#000000\" points=\"80.9247,-144.947 90.9246,-141.4469 80.9246,-137.947 80.9247,-144.947\"/>\n</g>\n<!-- \\(S1_F\\) -->\n<g id=\"node2\" class=\"node\">\n<title>\\(S1_F\\)</title>\n<ellipse fill=\"none\" stroke=\"#000000\" cx=\"480.0283\" cy=\"-248.4469\" rx=\"37.0935\" ry=\"37.0935\"/>\n<text text-anchor=\"middle\" x=\"480.0283\" y=\"-244.7469\" font-family=\"Times,serif\" font-size=\"14.00\" fill=\"#000000\">(S1_F)</text>\n</g>\n<!-- \\(S1_F\\)&#45;&gt;\\(S1_F\\) -->\n<g id=\"edge15\" class=\"edge\">\n<title>\\(S1_F\\)&#45;&gt;\\(S1_F\\)</title>\n<path fill=\"none\" stroke=\"#000000\" d=\"M468.7892,-283.9193C469.0163,-294.8836 472.7626,-303.4937 480.0283,-303.4937 484.7963,-303.4937 488.0488,-299.7856 489.7856,-294.1376\"/>\n<polygon fill=\"#000000\" stroke=\"#000000\" points=\"493.2959,-294.3181 491.2673,-283.9193 486.3684,-293.3135 493.2959,-294.3181\"/>\n<text text-anchor=\"middle\" x=\"480.0283\" y=\"-307.2937\" font-family=\"Times,serif\" font-size=\"14.00\" fill=\"#000000\">1 </text>\n</g>\n<!-- \\(F_F\\) -->\n<g id=\"node13\" class=\"node\">\n<title>\\(F_F\\)</title>\n<ellipse fill=\"none\" stroke=\"#000000\" cx=\"607.3212\" cy=\"-214.4469\" rx=\"32.4945\" ry=\"32.4945\"/>\n<ellipse fill=\"none\" stroke=\"#000000\" cx=\"607.3212\" cy=\"-214.4469\" rx=\"36.4942\" ry=\"36.4942\"/>\n<text text-anchor=\"middle\" x=\"607.3212\" y=\"-210.7469\" font-family=\"Times,serif\" font-size=\"14.00\" fill=\"#000000\">(F_F)</text>\n</g>\n<!-- \\(S1_F\\)&#45;&gt;\\(F_F\\) -->\n<g id=\"edge5\" class=\"edge\">\n<title>\\(S1_F\\)&#45;&gt;\\(F_F\\)</title>\n<path fill=\"none\" stroke=\"#000000\" d=\"M515.8252,-238.8856C530.1818,-235.0509 546.8934,-230.5872 562.0764,-226.5319\"/>\n<polygon fill=\"#000000\" stroke=\"#000000\" points=\"563.0349,-229.8986 571.793,-223.9366 561.2285,-223.1357 563.0349,-229.8986\"/>\n<text text-anchor=\"middle\" x=\"541.075\" y=\"-237.2469\" font-family=\"Times,serif\" font-size=\"14.00\" fill=\"#000000\">0 </text>\n</g>\n<!-- \\(I_F\\) -->\n<g id=\"node3\" class=\"node\">\n<title>\\(I_F\\)</title>\n<ellipse fill=\"none\" stroke=\"#000000\" cx=\"352.7353\" cy=\"-248.4469\" rx=\"29.795\" ry=\"29.795\"/>\n<text text-anchor=\"middle\" x=\"352.7353\" y=\"-244.7469\" font-family=\"Times,serif\" font-size=\"14.00\" fill=\"#000000\">(I_F)</text>\n</g>\n<!-- \\(I_F\\)&#45;&gt;\\(S1_F\\) -->\n<g id=\"edge3\" class=\"edge\">\n<title>\\(I_F\\)&#45;&gt;\\(S1_F\\)</title>\n<path fill=\"none\" stroke=\"#000000\" d=\"M382.9019,-248.4469C397.7576,-248.4469 416.0151,-248.4469 432.6756,-248.4469\"/>\n<polygon fill=\"#000000\" stroke=\"#000000\" points=\"432.7981,-251.947 442.7981,-248.4469 432.798,-244.947 432.7981,-251.947\"/>\n<text text-anchor=\"middle\" x=\"418.9815\" y=\"-252.2469\" font-family=\"Times,serif\" font-size=\"14.00\" fill=\"#000000\">0 </text>\n</g>\n<!-- \\(I_F\\)&#45;&gt;\\(I_F\\) -->\n<g id=\"edge14\" class=\"edge\">\n<title>\\(I_F\\)&#45;&gt;\\(I_F\\)</title>\n<path fill=\"none\" stroke=\"#000000\" d=\"M340.4358,-276.0104C339.7409,-287.0653 343.8408,-296.3443 352.7353,-296.3443 358.7113,-296.3443 362.5229,-292.1556 364.1701,-286.0539\"/>\n<polygon fill=\"#000000\" stroke=\"#000000\" points=\"367.664,-286.2737 365.0348,-276.0104 360.6898,-285.6733 367.664,-286.2737\"/>\n<text text-anchor=\"middle\" x=\"352.7353\" y=\"-300.1443\" font-family=\"Times,serif\" font-size=\"14.00\" fill=\"#000000\">1 </text>\n</g>\n<!-- \\(S2_I\\) -->\n<g id=\"node4\" class=\"node\">\n<title>\\(S2_I\\)</title>\n<ellipse fill=\"none\" stroke=\"#000000\" cx=\"480.0283\" cy=\"-34.4469\" rx=\"34.394\" ry=\"34.394\"/>\n<text text-anchor=\"middle\" x=\"480.0283\" y=\"-30.7469\" font-family=\"Times,serif\" font-size=\"14.00\" fill=\"#000000\">(S2_I)</text>\n</g>\n<!-- \\(S2_I\\)&#45;&gt;\\(S2_I\\) -->\n<g id=\"edge22\" class=\"edge\">\n<title>\\(S2_I\\)&#45;&gt;\\(S2_I\\)</title>\n<path fill=\"none\" stroke=\"#000000\" d=\"M468.7783,-67.2263C468.7783,-78.1527 472.5283,-86.8939 480.0283,-86.8939 484.9501,-86.8939 488.257,-83.1294 489.9489,-77.4532\"/>\n<polygon fill=\"#000000\" stroke=\"#000000\" points=\"493.46,-77.594 491.2783,-67.2263 486.5184,-76.6917 493.46,-77.594\"/>\n<text text-anchor=\"middle\" x=\"480.0283\" y=\"-90.6939\" font-family=\"Times,serif\" font-size=\"14.00\" fill=\"#000000\">0 </text>\n</g>\n<!-- \\(S2_S1\\) -->\n<g id=\"node11\" class=\"node\">\n<title>\\(S2_S1\\)</title>\n<ellipse fill=\"none\" stroke=\"#000000\" cx=\"607.3212\" cy=\"-84.4469\" rx=\"42.4939\" ry=\"42.4939\"/>\n<text text-anchor=\"middle\" x=\"607.3212\" y=\"-80.7469\" font-family=\"Times,serif\" font-size=\"14.00\" fill=\"#000000\">(S2_S1)</text>\n</g>\n<!-- \\(S2_I\\)&#45;&gt;\\(S2_S1\\) -->\n<g id=\"edge2\" class=\"edge\">\n<title>\\(S2_I\\)&#45;&gt;\\(S2_S1\\)</title>\n<path fill=\"none\" stroke=\"#000000\" d=\"M512.1496,-47.0641C526.1779,-52.5743 542.9398,-59.1583 558.46,-65.2545\"/>\n<polygon fill=\"#000000\" stroke=\"#000000\" points=\"557.3402,-68.5749 567.9275,-68.9733 559.8995,-62.0595 557.3402,-68.5749\"/>\n<text text-anchor=\"middle\" x=\"541.075\" y=\"-63.2469\" font-family=\"Times,serif\" font-size=\"14.00\" fill=\"#000000\">1 </text>\n</g>\n<!-- \\(I_S1\\) -->\n<g id=\"node7\" class=\"node\">\n<title>\\(I_S1\\)</title>\n<ellipse fill=\"none\" stroke=\"#000000\" cx=\"228.0421\" cy=\"-185.4469\" rx=\"34.394\" ry=\"34.394\"/>\n<text text-anchor=\"middle\" x=\"228.0421\" y=\"-181.7469\" font-family=\"Times,serif\" font-size=\"14.00\" fill=\"#000000\">(I_S1)</text>\n</g>\n<!-- \\(I_I\\)&#45;&gt;\\(I_S1\\) -->\n<g id=\"edge12\" class=\"edge\">\n<title>\\(I_I\\)&#45;&gt;\\(I_S1\\)</title>\n<path fill=\"none\" stroke=\"#000000\" d=\"M143.751,-151.652C156.407,-156.7262 172.0274,-162.9889 186.369,-168.7389\"/>\n<polygon fill=\"#000000\" stroke=\"#000000\" points=\"185.4571,-172.1441 196.0413,-172.6168 188.062,-165.6468 185.4571,-172.1441\"/>\n<text text-anchor=\"middle\" x=\"169.5952\" y=\"-167.2469\" font-family=\"Times,serif\" font-size=\"14.00\" fill=\"#000000\">1 </text>\n</g>\n<!-- \\(S1_I\\) -->\n<g id=\"node10\" class=\"node\">\n<title>\\(S1_I\\)</title>\n<ellipse fill=\"none\" stroke=\"#000000\" cx=\"228.0421\" cy=\"-98.4469\" rx=\"34.394\" ry=\"34.394\"/>\n<text text-anchor=\"middle\" x=\"228.0421\" y=\"-94.7469\" font-family=\"Times,serif\" font-size=\"14.00\" fill=\"#000000\">(S1_I)</text>\n</g>\n<!-- \\(I_I\\)&#45;&gt;\\(S1_I\\) -->\n<g id=\"edge24\" class=\"edge\">\n<title>\\(I_I\\)&#45;&gt;\\(S1_I\\)</title>\n<path fill=\"none\" stroke=\"#000000\" d=\"M143.751,-131.4738C156.3041,-126.5552 171.7736,-120.494 186.019,-114.9124\"/>\n<polygon fill=\"#000000\" stroke=\"#000000\" points=\"187.6007,-118.0518 195.6347,-111.1448 185.047,-111.5342 187.6007,-118.0518\"/>\n<text text-anchor=\"middle\" x=\"169.5952\" y=\"-127.2469\" font-family=\"Times,serif\" font-size=\"14.00\" fill=\"#000000\">0 </text>\n</g>\n<!-- \\(F_S1\\) -->\n<g id=\"node6\" class=\"node\">\n<title>\\(F_S1\\)</title>\n<ellipse fill=\"none\" stroke=\"#000000\" cx=\"480.0283\" cy=\"-156.4469\" rx=\"37.0935\" ry=\"37.0935\"/>\n<text text-anchor=\"middle\" x=\"480.0283\" y=\"-152.7469\" font-family=\"Times,serif\" font-size=\"14.00\" fill=\"#000000\">(F_S1)</text>\n</g>\n<!-- \\(F_S1\\)&#45;&gt;\\(S2_S1\\) -->\n<g id=\"edge10\" class=\"edge\">\n<title>\\(F_S1\\)&#45;&gt;\\(S2_S1\\)</title>\n<path fill=\"none\" stroke=\"#000000\" d=\"M512.479,-138.092C527.3951,-129.6551 545.3481,-119.5004 561.6026,-110.3065\"/>\n<polygon fill=\"#000000\" stroke=\"#000000\" points=\"563.4471,-113.2844 570.428,-105.3146 560.0008,-107.1915 563.4471,-113.2844\"/>\n<text text-anchor=\"middle\" x=\"541.075\" y=\"-129.2469\" font-family=\"Times,serif\" font-size=\"14.00\" fill=\"#000000\">0 </text>\n</g>\n<!-- \\(F_S1\\)&#45;&gt;\\(F_F\\) -->\n<g id=\"edge19\" class=\"edge\">\n<title>\\(F_S1\\)&#45;&gt;\\(F_F\\)</title>\n<path fill=\"none\" stroke=\"#000000\" d=\"M513.8062,-171.8376C529.322,-178.9073 547.9006,-187.3724 564.3951,-194.888\"/>\n<polygon fill=\"#000000\" stroke=\"#000000\" points=\"563.276,-198.2242 573.8271,-199.1856 566.1784,-191.8543 563.276,-198.2242\"/>\n<text text-anchor=\"middle\" x=\"541.075\" y=\"-189.2469\" font-family=\"Times,serif\" font-size=\"14.00\" fill=\"#000000\">1 </text>\n</g>\n<!-- \\(I_S1\\)&#45;&gt;\\(I_F\\) -->\n<g id=\"edge17\" class=\"edge\">\n<title>\\(I_S1\\)&#45;&gt;\\(I_F\\)</title>\n<path fill=\"none\" stroke=\"#000000\" d=\"M258.8651,-201.02C276.3068,-209.8322 298.2152,-220.9012 316.4791,-230.1288\"/>\n<polygon fill=\"#000000\" stroke=\"#000000\" points=\"315.1509,-233.3791 325.6547,-234.7647 318.3076,-227.1313 315.1509,-233.3791\"/>\n<text text-anchor=\"middle\" x=\"286.489\" y=\"-220.2469\" font-family=\"Times,serif\" font-size=\"14.00\" fill=\"#000000\">1 </text>\n</g>\n<!-- \\(S1_S1\\) -->\n<g id=\"node9\" class=\"node\">\n<title>\\(S1_S1\\)</title>\n<ellipse fill=\"none\" stroke=\"#000000\" cx=\"352.7353\" cy=\"-158.4469\" rx=\"42.4939\" ry=\"42.4939\"/>\n<text text-anchor=\"middle\" x=\"352.7353\" y=\"-154.7469\" font-family=\"Times,serif\" font-size=\"14.00\" fill=\"#000000\">(S1_S1)</text>\n</g>\n<!-- \\(I_S1\\)&#45;&gt;\\(S1_S1\\) -->\n<g id=\"edge6\" class=\"edge\">\n<title>\\(I_S1\\)&#45;&gt;\\(S1_S1\\)</title>\n<path fill=\"none\" stroke=\"#000000\" d=\"M261.7859,-178.1404C273.9706,-175.502 288.0163,-172.4606 301.3682,-169.5695\"/>\n<polygon fill=\"#000000\" stroke=\"#000000\" points=\"302.3682,-172.9342 311.401,-167.3971 300.8868,-166.0927 302.3682,-172.9342\"/>\n<text text-anchor=\"middle\" x=\"286.489\" y=\"-177.2469\" font-family=\"Times,serif\" font-size=\"14.00\" fill=\"#000000\">0 </text>\n</g>\n<!-- \\(F_I\\) -->\n<g id=\"node8\" class=\"node\">\n<title>\\(F_I\\)</title>\n<ellipse fill=\"none\" stroke=\"#000000\" cx=\"352.7353\" cy=\"-68.4469\" rx=\"29.795\" ry=\"29.795\"/>\n<text text-anchor=\"middle\" x=\"352.7353\" y=\"-64.7469\" font-family=\"Times,serif\" font-size=\"14.00\" fill=\"#000000\">(F_I)</text>\n</g>\n<!-- \\(F_I\\)&#45;&gt;\\(S2_I\\) -->\n<g id=\"edge21\" class=\"edge\">\n<title>\\(F_I\\)&#45;&gt;\\(S2_I\\)</title>\n<path fill=\"none\" stroke=\"#000000\" d=\"M381.62,-60.7318C397.8356,-56.4006 418.3938,-50.9095 436.5218,-46.0675\"/>\n<polygon fill=\"#000000\" stroke=\"#000000\" points=\"437.5417,-49.4179 446.2998,-43.4558 435.7353,-42.655 437.5417,-49.4179\"/>\n<text text-anchor=\"middle\" x=\"418.9815\" y=\"-55.2469\" font-family=\"Times,serif\" font-size=\"14.00\" fill=\"#000000\">0 </text>\n</g>\n<!-- \\(F_I\\)&#45;&gt;\\(F_S1\\) -->\n<g id=\"edge11\" class=\"edge\">\n<title>\\(F_I\\)&#45;&gt;\\(F_S1\\)</title>\n<path fill=\"none\" stroke=\"#000000\" d=\"M377.5808,-85.6231C395.6408,-98.1083 420.4407,-115.2529 441.1165,-129.5465\"/>\n<polygon fill=\"#000000\" stroke=\"#000000\" points=\"439.1832,-132.4649 449.3992,-135.2725 443.1638,-126.7069 439.1832,-132.4649\"/>\n<text text-anchor=\"middle\" x=\"418.9815\" y=\"-122.2469\" font-family=\"Times,serif\" font-size=\"14.00\" fill=\"#000000\">1 </text>\n</g>\n<!-- \\(S1_S1\\)&#45;&gt;\\(S1_F\\) -->\n<g id=\"edge23\" class=\"edge\">\n<title>\\(S1_S1\\)&#45;&gt;\\(S1_F\\)</title>\n<path fill=\"none\" stroke=\"#000000\" d=\"M387.5187,-183.0398C404.2193,-194.8477 424.2837,-209.0338 441.4515,-221.172\"/>\n<polygon fill=\"#000000\" stroke=\"#000000\" points=\"439.4334,-224.0316 449.6193,-226.9469 443.4746,-218.3159 439.4334,-224.0316\"/>\n<text text-anchor=\"middle\" x=\"418.9815\" y=\"-212.2469\" font-family=\"Times,serif\" font-size=\"14.00\" fill=\"#000000\">1 </text>\n</g>\n<!-- \\(S1_S1\\)&#45;&gt;\\(F_S1\\) -->\n<g id=\"edge20\" class=\"edge\">\n<title>\\(S1_S1\\)&#45;&gt;\\(F_S1\\)</title>\n<path fill=\"none\" stroke=\"#000000\" d=\"M395.122,-157.781C407.2136,-157.591 420.4617,-157.3828 432.8219,-157.1886\"/>\n<polygon fill=\"#000000\" stroke=\"#000000\" points=\"433.0069,-160.6863 442.9506,-157.0295 432.8968,-153.6871 433.0069,-160.6863\"/>\n<text text-anchor=\"middle\" x=\"418.9815\" y=\"-161.2469\" font-family=\"Times,serif\" font-size=\"14.00\" fill=\"#000000\">0 </text>\n</g>\n<!-- \\(S1_I\\)&#45;&gt;\\(F_I\\) -->\n<g id=\"edge16\" class=\"edge\">\n<title>\\(S1_I\\)&#45;&gt;\\(F_I\\)</title>\n<path fill=\"none\" stroke=\"#000000\" d=\"M261.7859,-90.3285C277.7933,-86.4773 297.0124,-81.8533 313.651,-77.8502\"/>\n<polygon fill=\"#000000\" stroke=\"#000000\" points=\"314.7219,-81.1926 323.6257,-75.4504 313.0844,-74.3868 314.7219,-81.1926\"/>\n<text text-anchor=\"middle\" x=\"286.489\" y=\"-89.2469\" font-family=\"Times,serif\" font-size=\"14.00\" fill=\"#000000\">0 </text>\n</g>\n<!-- \\(S1_I\\)&#45;&gt;\\(S1_S1\\) -->\n<g id=\"edge18\" class=\"edge\">\n<title>\\(S1_I\\)&#45;&gt;\\(S1_S1\\)</title>\n<path fill=\"none\" stroke=\"#000000\" d=\"M259.1858,-113.4327C273.0448,-120.1014 289.6753,-128.1037 305.0459,-135.4997\"/>\n<polygon fill=\"#000000\" stroke=\"#000000\" points=\"303.8887,-138.827 314.4174,-140.0091 306.9239,-132.5192 303.8887,-138.827\"/>\n<text text-anchor=\"middle\" x=\"286.489\" y=\"-132.2469\" font-family=\"Times,serif\" font-size=\"14.00\" fill=\"#000000\">1 </text>\n</g>\n<!-- \\(S2_S1\\)&#45;&gt;\\(S2_S1\\) -->\n<g id=\"edge4\" class=\"edge\">\n<title>\\(S2_S1\\)&#45;&gt;\\(S2_S1\\)</title>\n<path fill=\"none\" stroke=\"#000000\" d=\"M595.0218,-124.993C595.6159,-136.1598 599.7158,-144.6932 607.3212,-144.6932 612.4311,-144.6932 615.9586,-140.8411 617.9035,-134.9263\"/>\n<polygon fill=\"#000000\" stroke=\"#000000\" points=\"621.366,-135.4431 619.6207,-124.993 614.4683,-134.2506 621.366,-135.4431\"/>\n<text text-anchor=\"middle\" x=\"607.3212\" y=\"-148.4932\" font-family=\"Times,serif\" font-size=\"14.00\" fill=\"#000000\">0 </text>\n</g>\n<!-- \\(S2_F\\) -->\n<g id=\"node12\" class=\"node\">\n<title>\\(S2_F\\)</title>\n<ellipse fill=\"none\" stroke=\"#000000\" cx=\"734.6142\" cy=\"-149.4469\" rx=\"37.0935\" ry=\"37.0935\"/>\n<text text-anchor=\"middle\" x=\"734.6142\" y=\"-145.7469\" font-family=\"Times,serif\" font-size=\"14.00\" fill=\"#000000\">(S2_F)</text>\n</g>\n<!-- \\(S2_S1\\)&#45;&gt;\\(S2_F\\) -->\n<g id=\"edge13\" class=\"edge\">\n<title>\\(S2_S1\\)&#45;&gt;\\(S2_F\\)</title>\n<path fill=\"none\" stroke=\"#000000\" d=\"M645.1687,-103.7731C659.977,-111.3347 677.0283,-120.0417 692.2457,-127.8122\"/>\n<polygon fill=\"#000000\" stroke=\"#000000\" points=\"690.9495,-131.0802 701.4473,-132.5108 694.1329,-124.8459 690.9495,-131.0802\"/>\n<text text-anchor=\"middle\" x=\"673.5675\" y=\"-125.2469\" font-family=\"Times,serif\" font-size=\"14.00\" fill=\"#000000\">1 </text>\n</g>\n<!-- \\(S2_F\\)&#45;&gt;\\(S2_F\\) -->\n<g id=\"edge8\" class=\"edge\">\n<title>\\(S2_F\\)&#45;&gt;\\(S2_F\\)</title>\n<path fill=\"none\" stroke=\"#000000\" d=\"M723.3752,-184.9193C723.6022,-195.8836 727.3486,-204.4937 734.6142,-204.4937 739.3823,-204.4937 742.6347,-200.7856 744.3715,-195.1376\"/>\n<polygon fill=\"#000000\" stroke=\"#000000\" points=\"747.8818,-195.3181 745.8532,-184.9193 740.9543,-194.3135 747.8818,-195.3181\"/>\n<text text-anchor=\"middle\" x=\"734.6142\" y=\"-223.2937\" font-family=\"Times,serif\" font-size=\"14.00\" fill=\"#000000\">1 </text>\n<text text-anchor=\"middle\" x=\"734.6142\" y=\"-208.2937\" font-family=\"Times,serif\" font-size=\"14.00\" fill=\"#000000\"> 0 </text>\n</g>\n<!-- \\(F_F\\)&#45;&gt;\\(S2_F\\) -->\n<g id=\"edge7\" class=\"edge\">\n<title>\\(F_F\\)&#45;&gt;\\(S2_F\\)</title>\n<path fill=\"none\" stroke=\"#000000\" d=\"M640.1023,-197.7078C656.0138,-189.5829 675.321,-179.724 692.3269,-171.0402\"/>\n<polygon fill=\"#000000\" stroke=\"#000000\" points=\"694.1874,-174.0202 701.5018,-166.3552 691.0039,-167.7859 694.1874,-174.0202\"/>\n<text text-anchor=\"middle\" x=\"673.5675\" y=\"-185.2469\" font-family=\"Times,serif\" font-size=\"14.00\" fill=\"#000000\">0 </text>\n</g>\n<!-- \\(F_F\\)&#45;&gt;\\(F_F\\) -->\n<g id=\"edge9\" class=\"edge\">\n<title>\\(F_F\\)&#45;&gt;\\(F_F\\)</title>\n<path fill=\"none\" stroke=\"#000000\" d=\"M594.9492,-249.0382C595.0761,-260.1428 599.2001,-268.9441 607.3212,-268.9441 612.7776,-268.9441 616.4296,-264.971 618.2772,-258.9958\"/>\n<polygon fill=\"#000000\" stroke=\"#000000\" points=\"621.7504,-259.4313 619.6932,-249.0382 614.8201,-258.4458 621.7504,-259.4313\"/>\n<text text-anchor=\"middle\" x=\"607.3212\" y=\"-272.7441\" font-family=\"Times,serif\" font-size=\"14.00\" fill=\"#000000\">1 </text>\n</g>\n</g>\n</svg>\n"
          },
          "metadata": {
            "tags": []
          },
          "execution_count": 8
        }
      ]
    },
    {
      "cell_type": "code",
      "metadata": {
        "id": "Km-T7mkFSoeo"
      },
      "source": [
        "nfahas0101 = md2mc('''\n",
        "  NFA\n",
        "  I : 0|1 -> I\n",
        "  I : \"\" -> A\n",
        "  A : 0 -> B\n",
        "  B : 1 -> C\n",
        "  C : 0 -> D\n",
        "  D : 1 -> E\n",
        "  E : 0|1 -> E\n",
        "  E : \"\" -> F\n",
        "  ''')"
      ],
      "execution_count": null,
      "outputs": []
    },
    {
      "cell_type": "code",
      "metadata": {
        "id": "AuzBeZ1FSoep",
        "colab": {
          "base_uri": "https://localhost:8080/",
          "height": 149
        },
        "outputId": "ed76a897-0c7d-4896-bfba-982cafb55c50"
      },
      "source": [
        "dotObj_nfa(nfahas0101, FuseEdges=True)"
      ],
      "execution_count": null,
      "outputs": [
        {
          "output_type": "execute_result",
          "data": {
            "text/plain": [
              "<graphviz.dot.Digraph at 0x7f2ec31e6b70>"
            ],
            "image/svg+xml": "<?xml version=\"1.0\" encoding=\"UTF-8\" standalone=\"no\"?>\n<!DOCTYPE svg PUBLIC \"-//W3C//DTD SVG 1.1//EN\"\n \"http://www.w3.org/Graphics/SVG/1.1/DTD/svg11.dtd\">\n<!-- Generated by graphviz version 2.40.1 (20161225.0304)\n -->\n<!-- Title: %3 Pages: 1 -->\n<svg width=\"641pt\" height=\"96pt\"\n viewBox=\"0.00 0.00 641.00 96.00\" xmlns=\"http://www.w3.org/2000/svg\" xmlns:xlink=\"http://www.w3.org/1999/xlink\">\n<g id=\"graph0\" class=\"graph\" transform=\"scale(1 1) rotate(0) translate(4 92)\">\n<title>%3</title>\n<polygon fill=\"#ffffff\" stroke=\"transparent\" points=\"-4,4 -4,-92 637,-92 637,4 -4,4\"/>\n<!-- EMPTY -->\n<g id=\"node1\" class=\"node\">\n<title>EMPTY</title>\n</g>\n<!-- I -->\n<g id=\"node3\" class=\"node\">\n<title>I</title>\n<ellipse fill=\"none\" stroke=\"#000000\" cx=\"109\" cy=\"-22\" rx=\"18\" ry=\"18\"/>\n<text text-anchor=\"middle\" x=\"109\" y=\"-18.3\" font-family=\"Times,serif\" font-size=\"14.00\" fill=\"#000000\">I</text>\n</g>\n<!-- EMPTY&#45;&gt;I -->\n<g id=\"edge1\" class=\"edge\">\n<title>EMPTY&#45;&gt;I</title>\n<path fill=\"none\" stroke=\"#000000\" d=\"M54.3048,-22C62.6909,-22 71.9407,-22 80.4103,-22\"/>\n<polygon fill=\"#000000\" stroke=\"#000000\" points=\"80.5976,-25.5001 90.5976,-22 80.5976,-18.5001 80.5976,-25.5001\"/>\n</g>\n<!-- C -->\n<g id=\"node2\" class=\"node\">\n<title>C</title>\n<ellipse fill=\"none\" stroke=\"#000000\" cx=\"358\" cy=\"-22\" rx=\"18\" ry=\"18\"/>\n<text text-anchor=\"middle\" x=\"358\" y=\"-18.3\" font-family=\"Times,serif\" font-size=\"14.00\" fill=\"#000000\">C</text>\n</g>\n<!-- D -->\n<g id=\"node5\" class=\"node\">\n<title>D</title>\n<ellipse fill=\"none\" stroke=\"#000000\" cx=\"442\" cy=\"-22\" rx=\"18\" ry=\"18\"/>\n<text text-anchor=\"middle\" x=\"442\" y=\"-18.3\" font-family=\"Times,serif\" font-size=\"14.00\" fill=\"#000000\">D</text>\n</g>\n<!-- C&#45;&gt;D -->\n<g id=\"edge6\" class=\"edge\">\n<title>C&#45;&gt;D</title>\n<path fill=\"none\" stroke=\"#000000\" d=\"M376.2267,-22C387.1242,-22 401.2054,-22 413.5413,-22\"/>\n<polygon fill=\"#000000\" stroke=\"#000000\" points=\"413.8089,-25.5001 423.8088,-22 413.8088,-18.5001 413.8089,-25.5001\"/>\n<text text-anchor=\"middle\" x=\"400\" y=\"-25.8\" font-family=\"Times,serif\" font-size=\"14.00\" fill=\"#000000\">0 </text>\n</g>\n<!-- I&#45;&gt;I -->\n<g id=\"edge2\" class=\"edge\">\n<title>I&#45;&gt;I</title>\n<path fill=\"none\" stroke=\"#000000\" d=\"M102.6208,-39.0373C101.3189,-48.8579 103.4453,-58 109,-58 112.4717,-58 114.6042,-54.4289 115.3975,-49.3529\"/>\n<polygon fill=\"#000000\" stroke=\"#000000\" points=\"118.8971,-49.031 115.3792,-39.0373 111.8971,-49.0435 118.8971,-49.031\"/>\n<text text-anchor=\"middle\" x=\"109\" y=\"-76.8\" font-family=\"Times,serif\" font-size=\"14.00\" fill=\"#000000\">1 </text>\n<text text-anchor=\"middle\" x=\"109\" y=\"-61.8\" font-family=\"Times,serif\" font-size=\"14.00\" fill=\"#000000\"> 0 </text>\n</g>\n<!-- A -->\n<g id=\"node4\" class=\"node\">\n<title>A</title>\n<ellipse fill=\"none\" stroke=\"#000000\" cx=\"190\" cy=\"-22\" rx=\"18\" ry=\"18\"/>\n<text text-anchor=\"middle\" x=\"190\" y=\"-18.3\" font-family=\"Times,serif\" font-size=\"14.00\" fill=\"#000000\">A</text>\n</g>\n<!-- I&#45;&gt;A -->\n<g id=\"edge3\" class=\"edge\">\n<title>I&#45;&gt;A</title>\n<path fill=\"none\" stroke=\"#000000\" d=\"M127.3802,-22C137.4966,-22 150.2691,-22 161.6363,-22\"/>\n<polygon fill=\"#000000\" stroke=\"#000000\" points=\"161.9716,-25.5001 171.9716,-22 161.9716,-18.5001 161.9716,-25.5001\"/>\n<text text-anchor=\"middle\" x=\"149.5\" y=\"-25.8\" font-family=\"Times,serif\" font-size=\"14.00\" fill=\"#000000\">&#39;&#39; </text>\n</g>\n<!-- B -->\n<g id=\"node7\" class=\"node\">\n<title>B</title>\n<ellipse fill=\"none\" stroke=\"#000000\" cx=\"274\" cy=\"-22\" rx=\"18\" ry=\"18\"/>\n<text text-anchor=\"middle\" x=\"274\" y=\"-18.3\" font-family=\"Times,serif\" font-size=\"14.00\" fill=\"#000000\">B</text>\n</g>\n<!-- A&#45;&gt;B -->\n<g id=\"edge4\" class=\"edge\">\n<title>A&#45;&gt;B</title>\n<path fill=\"none\" stroke=\"#000000\" d=\"M208.2267,-22C219.1242,-22 233.2054,-22 245.5413,-22\"/>\n<polygon fill=\"#000000\" stroke=\"#000000\" points=\"245.8089,-25.5001 255.8088,-22 245.8088,-18.5001 245.8089,-25.5001\"/>\n<text text-anchor=\"middle\" x=\"232\" y=\"-25.8\" font-family=\"Times,serif\" font-size=\"14.00\" fill=\"#000000\">0 </text>\n</g>\n<!-- E -->\n<g id=\"node6\" class=\"node\">\n<title>E</title>\n<ellipse fill=\"none\" stroke=\"#000000\" cx=\"526\" cy=\"-22\" rx=\"18\" ry=\"18\"/>\n<text text-anchor=\"middle\" x=\"526\" y=\"-18.3\" font-family=\"Times,serif\" font-size=\"14.00\" fill=\"#000000\">E</text>\n</g>\n<!-- D&#45;&gt;E -->\n<g id=\"edge7\" class=\"edge\">\n<title>D&#45;&gt;E</title>\n<path fill=\"none\" stroke=\"#000000\" d=\"M460.2267,-22C471.1242,-22 485.2054,-22 497.5413,-22\"/>\n<polygon fill=\"#000000\" stroke=\"#000000\" points=\"497.8089,-25.5001 507.8088,-22 497.8088,-18.5001 497.8089,-25.5001\"/>\n<text text-anchor=\"middle\" x=\"484\" y=\"-25.8\" font-family=\"Times,serif\" font-size=\"14.00\" fill=\"#000000\">1 </text>\n</g>\n<!-- E&#45;&gt;E -->\n<g id=\"edge8\" class=\"edge\">\n<title>E&#45;&gt;E</title>\n<path fill=\"none\" stroke=\"#000000\" d=\"M518.9688,-38.6641C517.4063,-48.625 519.75,-58 526,-58 530.0039,-58 532.4047,-54.1525 533.2023,-48.7682\"/>\n<polygon fill=\"#000000\" stroke=\"#000000\" points=\"536.7001,-48.6033 533.0313,-38.6641 529.7011,-48.7219 536.7001,-48.6033\"/>\n<text text-anchor=\"middle\" x=\"526\" y=\"-76.8\" font-family=\"Times,serif\" font-size=\"14.00\" fill=\"#000000\">1 </text>\n<text text-anchor=\"middle\" x=\"526\" y=\"-61.8\" font-family=\"Times,serif\" font-size=\"14.00\" fill=\"#000000\"> 0 </text>\n</g>\n<!-- F -->\n<g id=\"node8\" class=\"node\">\n<title>F</title>\n<ellipse fill=\"none\" stroke=\"#000000\" cx=\"611\" cy=\"-22\" rx=\"18\" ry=\"18\"/>\n<ellipse fill=\"none\" stroke=\"#000000\" cx=\"611\" cy=\"-22\" rx=\"22\" ry=\"22\"/>\n<text text-anchor=\"middle\" x=\"611\" y=\"-18.3\" font-family=\"Times,serif\" font-size=\"14.00\" fill=\"#000000\">F</text>\n</g>\n<!-- E&#45;&gt;F -->\n<g id=\"edge9\" class=\"edge\">\n<title>E&#45;&gt;F</title>\n<path fill=\"none\" stroke=\"#000000\" d=\"M544.0263,-22C554.0256,-22 566.7667,-22 578.4461,-22\"/>\n<polygon fill=\"#000000\" stroke=\"#000000\" points=\"578.7644,-25.5001 588.7644,-22 578.7644,-18.5001 578.7644,-25.5001\"/>\n<text text-anchor=\"middle\" x=\"566.5\" y=\"-25.8\" font-family=\"Times,serif\" font-size=\"14.00\" fill=\"#000000\">&#39;&#39; </text>\n</g>\n<!-- B&#45;&gt;C -->\n<g id=\"edge5\" class=\"edge\">\n<title>B&#45;&gt;C</title>\n<path fill=\"none\" stroke=\"#000000\" d=\"M292.2267,-22C303.1242,-22 317.2054,-22 329.5413,-22\"/>\n<polygon fill=\"#000000\" stroke=\"#000000\" points=\"329.8089,-25.5001 339.8088,-22 329.8088,-18.5001 329.8089,-25.5001\"/>\n<text text-anchor=\"middle\" x=\"316\" y=\"-25.8\" font-family=\"Times,serif\" font-size=\"14.00\" fill=\"#000000\">1 </text>\n</g>\n</g>\n</svg>\n"
          },
          "metadata": {
            "tags": []
          },
          "execution_count": 10
        }
      ]
    },
    {
      "cell_type": "code",
      "metadata": {
        "id": "2zOholOaSoep"
      },
      "source": [
        "dfahas0101 = nfa2dfa(nfahas0101, STATENAME_MAXSIZE=50)"
      ],
      "execution_count": null,
      "outputs": []
    },
    {
      "cell_type": "code",
      "metadata": {
        "id": "xvYhzLrLSoep",
        "colab": {
          "base_uri": "https://localhost:8080/",
          "height": 298
        },
        "outputId": "cd8632ab-fa47-49a7-da21-f22ed2fa356f"
      },
      "source": [
        "dotObj_dfa(min_dfa(dfahas0101), STATENAME_MAXSIZE=50)"
      ],
      "execution_count": null,
      "outputs": [
        {
          "output_type": "execute_result",
          "data": {
            "text/plain": [
              "<graphviz.dot.Digraph at 0x7f2ec228a588>"
            ],
            "image/svg+xml": "<?xml version=\"1.0\" encoding=\"UTF-8\" standalone=\"no\"?>\n<!DOCTYPE svg PUBLIC \"-//W3C//DTD SVG 1.1//EN\"\n \"http://www.w3.org/Graphics/SVG/1.1/DTD/svg11.dtd\">\n<!-- Generated by graphviz version 2.40.1 (20161225.0304)\n -->\n<!-- Title: %3 Pages: 1 -->\n<svg width=\"707pt\" height=\"208pt\"\n viewBox=\"0.00 0.00 707.16 208.24\" xmlns=\"http://www.w3.org/2000/svg\" xmlns:xlink=\"http://www.w3.org/1999/xlink\">\n<g id=\"graph0\" class=\"graph\" transform=\"scale(1 1) rotate(0) translate(4 204.2416)\">\n<title>%3</title>\n<polygon fill=\"#ffffff\" stroke=\"transparent\" points=\"-4,4 -4,-204.2416 703.1638,-204.2416 703.1638,4 -4,4\"/>\n<!-- EMPTY -->\n<g id=\"node1\" class=\"node\">\n<title>EMPTY</title>\n</g>\n<!-- A_I -->\n<g id=\"node2\" class=\"node\">\n<title>A_I</title>\n<ellipse fill=\"none\" stroke=\"#000000\" cx=\"116.3478\" cy=\"-52.3968\" rx=\"25.1964\" ry=\"25.1964\"/>\n<text text-anchor=\"middle\" x=\"116.3478\" y=\"-48.6968\" font-family=\"Times,serif\" font-size=\"14.00\" fill=\"#000000\">A_I</text>\n</g>\n<!-- EMPTY&#45;&gt;A_I -->\n<g id=\"edge1\" class=\"edge\">\n<title>EMPTY&#45;&gt;A_I</title>\n<path fill=\"none\" stroke=\"#000000\" d=\"M54.2928,-52.3968C62.629,-52.3968 71.9218,-52.3968 80.7251,-52.3968\"/>\n<polygon fill=\"#000000\" stroke=\"#000000\" points=\"80.748,-55.8969 90.748,-52.3968 80.748,-48.8969 80.748,-55.8969\"/>\n</g>\n<!-- A_I&#45;&gt;A_I -->\n<g id=\"edge2\" class=\"edge\">\n<title>A_I&#45;&gt;A_I</title>\n<path fill=\"none\" stroke=\"#000000\" d=\"M108.542,-76.906C108.0036,-87.1018 110.6056,-95.7445 116.3478,-95.7445 120.0263,-95.7445 122.4162,-92.1975 123.5172,-86.9676\"/>\n<polygon fill=\"#000000\" stroke=\"#000000\" points=\"127.0153,-87.107 124.1535,-76.906 120.0293,-86.6652 127.0153,-87.107\"/>\n<text text-anchor=\"middle\" x=\"116.3478\" y=\"-99.5445\" font-family=\"Times,serif\" font-size=\"14.00\" fill=\"#000000\">1 </text>\n</g>\n<!-- A_B_I -->\n<g id=\"node5\" class=\"node\">\n<title>A_B_I</title>\n<ellipse fill=\"none\" stroke=\"#000000\" cx=\"226.0923\" cy=\"-105.3968\" rx=\"36.2938\" ry=\"36.2938\"/>\n<text text-anchor=\"middle\" x=\"226.0923\" y=\"-101.6968\" font-family=\"Times,serif\" font-size=\"14.00\" fill=\"#000000\">A_B_I</text>\n</g>\n<!-- A_I&#45;&gt;A_B_I -->\n<g id=\"edge3\" class=\"edge\">\n<title>A_I&#45;&gt;A_B_I</title>\n<path fill=\"none\" stroke=\"#000000\" d=\"M139.3538,-63.5073C152.2622,-69.7413 168.7711,-77.7141 183.915,-85.0277\"/>\n<polygon fill=\"#000000\" stroke=\"#000000\" points=\"182.5965,-88.2777 193.1235,-89.4748 185.6407,-81.9742 182.5965,-88.2777\"/>\n<text text-anchor=\"middle\" x=\"165.6955\" y=\"-82.1968\" font-family=\"Times,serif\" font-size=\"14.00\" fill=\"#000000\">0 </text>\n</g>\n<!-- A_B_D_I -->\n<g id=\"node3\" class=\"node\">\n<title>A_B_D_I</title>\n<ellipse fill=\"none\" stroke=\"#000000\" cx=\"479.3783\" cy=\"-72.3968\" rx=\"48.1917\" ry=\"48.1917\"/>\n<text text-anchor=\"middle\" x=\"479.3783\" y=\"-68.6968\" font-family=\"Times,serif\" font-size=\"14.00\" fill=\"#000000\">A_B_D_I</text>\n</g>\n<!-- A_B_D_I&#45;&gt;A_B_I -->\n<g id=\"edge9\" class=\"edge\">\n<title>A_B_D_I&#45;&gt;A_B_I</title>\n<path fill=\"none\" stroke=\"#000000\" d=\"M431.4743,-78.6381C385.8441,-84.5831 317.6062,-93.4736 272.484,-99.3525\"/>\n<polygon fill=\"#000000\" stroke=\"#000000\" points=\"271.846,-95.906 262.382,-100.6687 272.7504,-102.8473 271.846,-95.906\"/>\n<text text-anchor=\"middle\" x=\"346.8858\" y=\"-97.1968\" font-family=\"Times,serif\" font-size=\"14.00\" fill=\"#000000\">0 </text>\n</g>\n<!-- A_B_E_F_I -->\n<g id=\"node6\" class=\"node\">\n<title>A_B_E_F_I</title>\n<ellipse fill=\"none\" stroke=\"#000000\" cx=\"637.3189\" cy=\"-72.3968\" rx=\"57.7001\" ry=\"57.7001\"/>\n<ellipse fill=\"none\" stroke=\"#000000\" cx=\"637.3189\" cy=\"-72.3968\" rx=\"61.6901\" ry=\"61.6901\"/>\n<text text-anchor=\"middle\" x=\"637.3189\" y=\"-68.6968\" font-family=\"Times,serif\" font-size=\"14.00\" fill=\"#000000\">A_B_E_F_I</text>\n</g>\n<!-- A_B_D_I&#45;&gt;A_B_E_F_I -->\n<g id=\"edge8\" class=\"edge\">\n<title>A_B_D_I&#45;&gt;A_B_E_F_I</title>\n<path fill=\"none\" stroke=\"#000000\" d=\"M527.6239,-72.3968C539.5065,-72.3968 552.4886,-72.3968 565.23,-72.3968\"/>\n<polygon fill=\"#000000\" stroke=\"#000000\" points=\"565.3712,-75.8969 575.3712,-72.3968 565.3711,-68.8969 565.3712,-75.8969\"/>\n<text text-anchor=\"middle\" x=\"551.474\" y=\"-76.1968\" font-family=\"Times,serif\" font-size=\"14.00\" fill=\"#000000\">1 </text>\n</g>\n<!-- A_C_I -->\n<g id=\"node4\" class=\"node\">\n<title>A_C_I</title>\n<ellipse fill=\"none\" stroke=\"#000000\" cx=\"346.8858\" cy=\"-36.3968\" rx=\"36.2938\" ry=\"36.2938\"/>\n<text text-anchor=\"middle\" x=\"346.8858\" y=\"-32.6968\" font-family=\"Times,serif\" font-size=\"14.00\" fill=\"#000000\">A_C_I</text>\n</g>\n<!-- A_C_I&#45;&gt;A_I -->\n<g id=\"edge6\" class=\"edge\">\n<title>A_C_I&#45;&gt;A_I</title>\n<path fill=\"none\" stroke=\"#000000\" d=\"M310.3333,-38.0961C278.4583,-39.672 230.9875,-42.2455 189.6955,-45.3968 177.3642,-46.3379 163.8858,-47.5665 151.8854,-48.7313\"/>\n<polygon fill=\"#000000\" stroke=\"#000000\" points=\"151.3932,-45.2628 141.786,-49.7296 152.0819,-52.2288 151.3932,-45.2628\"/>\n<text text-anchor=\"middle\" x=\"226.0923\" y=\"-49.1968\" font-family=\"Times,serif\" font-size=\"14.00\" fill=\"#000000\">1 </text>\n</g>\n<!-- A_C_I&#45;&gt;A_B_D_I -->\n<g id=\"edge7\" class=\"edge\">\n<title>A_C_I&#45;&gt;A_B_D_I</title>\n<path fill=\"none\" stroke=\"#000000\" d=\"M382.0435,-45.9496C394.5049,-49.3355 408.8643,-53.2372 422.6606,-56.9858\"/>\n<polygon fill=\"#000000\" stroke=\"#000000\" points=\"422.0039,-60.4342 432.5718,-59.6788 423.8394,-53.6791 422.0039,-60.4342\"/>\n<text text-anchor=\"middle\" x=\"407.2826\" y=\"-58.1968\" font-family=\"Times,serif\" font-size=\"14.00\" fill=\"#000000\">0 </text>\n</g>\n<!-- A_B_I&#45;&gt;A_C_I -->\n<g id=\"edge4\" class=\"edge\">\n<title>A_B_I&#45;&gt;A_C_I</title>\n<path fill=\"none\" stroke=\"#000000\" d=\"M257.8294,-87.2678C272.5543,-78.8566 290.2381,-68.7552 305.9532,-59.7784\"/>\n<polygon fill=\"#000000\" stroke=\"#000000\" points=\"307.9941,-62.6434 314.9413,-54.6442 304.5221,-56.5652 307.9941,-62.6434\"/>\n<text text-anchor=\"middle\" x=\"286.489\" y=\"-76.1968\" font-family=\"Times,serif\" font-size=\"14.00\" fill=\"#000000\">1 </text>\n</g>\n<!-- A_B_I&#45;&gt;A_B_I -->\n<g id=\"edge5\" class=\"edge\">\n<title>A_B_I&#45;&gt;A_B_I</title>\n<path fill=\"none\" stroke=\"#000000\" d=\"M214.8485,-140.1878C215.0201,-151.1474 218.7681,-159.7935 226.0923,-159.7935 230.8988,-159.7935 234.1651,-156.07 235.8913,-150.4125\"/>\n<polygon fill=\"#000000\" stroke=\"#000000\" points=\"239.4025,-150.5791 237.3361,-140.1878 232.4713,-149.5997 239.4025,-150.5791\"/>\n<text text-anchor=\"middle\" x=\"226.0923\" y=\"-163.5935\" font-family=\"Times,serif\" font-size=\"14.00\" fill=\"#000000\">0 </text>\n</g>\n<!-- A_B_E_F_I&#45;&gt;A_B_E_F_I -->\n<g id=\"edge10\" class=\"edge\">\n<title>A_B_E_F_I&#45;&gt;A_B_E_F_I</title>\n<path fill=\"none\" stroke=\"#000000\" d=\"M629.9361,-133.9958C630.9205,-144.7562 633.3814,-152.2416 637.3189,-152.2416 639.8414,-152.2416 641.7579,-149.1696 643.0684,-144.1325\"/>\n<polygon fill=\"#000000\" stroke=\"#000000\" points=\"646.5662,-144.4253 644.7017,-133.9958 639.6554,-143.3117 646.5662,-144.4253\"/>\n<text text-anchor=\"middle\" x=\"637.3189\" y=\"-156.0416\" font-family=\"Times,serif\" font-size=\"14.00\" fill=\"#000000\">1 </text>\n</g>\n<!-- A_B_E_F_I&#45;&gt;A_B_E_F_I -->\n<g id=\"edge11\" class=\"edge\">\n<title>A_B_E_F_I&#45;&gt;A_B_E_F_I</title>\n<path fill=\"none\" stroke=\"#000000\" d=\"M621.5728,-132.5914C621.4061,-153.4206 626.6549,-170.2416 637.3189,-170.2416 646.1501,-170.2416 651.2675,-158.7059 652.6711,-142.9112\"/>\n<polygon fill=\"#000000\" stroke=\"#000000\" points=\"656.1809,-142.7176 653.0651,-132.5914 649.186,-142.4505 656.1809,-142.7176\"/>\n<text text-anchor=\"middle\" x=\"637.3189\" y=\"-174.0416\" font-family=\"Times,serif\" font-size=\"14.00\" fill=\"#000000\">0 </text>\n</g>\n</g>\n</svg>\n"
          },
          "metadata": {
            "tags": []
          },
          "execution_count": 12
        }
      ]
    },
    {
      "cell_type": "code",
      "metadata": {
        "id": "RHo5tbKtSoeq"
      },
      "source": [
        "nfa1 = md2mc('''\n",
        "        NFA\n",
        "            I : a -> F1\n",
        "            I : b -> F2\n",
        "            I : a -> S\n",
        "''')"
      ],
      "execution_count": null,
      "outputs": []
    },
    {
      "cell_type": "code",
      "metadata": {
        "id": "GvL57-bdSoer"
      },
      "source": [
        "nfa2 = md2mc('''\n",
        "        NFA\n",
        "            I : b -> F1\n",
        "            I : c -> F2\n",
        "''')"
      ],
      "execution_count": null,
      "outputs": []
    },
    {
      "cell_type": "code",
      "metadata": {
        "id": "DJ4umVqlSoer",
        "colab": {
          "base_uri": "https://localhost:8080/"
        },
        "outputId": "595e203d-911c-460b-8154-25ad451120f3"
      },
      "source": [
        "nfa1Unfa2 = union_dfa(nfa2dfa(nfa1), nfa2dfa(nfa2))"
      ],
      "execution_count": null,
      "outputs": [
        {
          "output_type": "stream",
          "text": [
            "Union on DFA with different alphabets.\n",
            "Making alphabets the same (taking unions).\n"
          ],
          "name": "stdout"
        }
      ]
    },
    {
      "cell_type": "code",
      "metadata": {
        "id": "nwCpDlubSoer",
        "colab": {
          "base_uri": "https://localhost:8080/",
          "height": 317
        },
        "outputId": "a315bf33-3d10-4b17-ba3c-59c21c6cfdf4"
      },
      "source": [
        "dotObj_dfa(min_dfa(nfa1Unfa2))"
      ],
      "execution_count": null,
      "outputs": [
        {
          "output_type": "execute_result",
          "data": {
            "text/plain": [
              "<graphviz.dot.Digraph at 0x7f2ec228a630>"
            ],
            "image/svg+xml": "<?xml version=\"1.0\" encoding=\"UTF-8\" standalone=\"no\"?>\n<!DOCTYPE svg PUBLIC \"-//W3C//DTD SVG 1.1//EN\"\n \"http://www.w3.org/Graphics/SVG/1.1/DTD/svg11.dtd\">\n<!-- Generated by graphviz version 2.40.1 (20161225.0304)\n -->\n<!-- Title: %3 Pages: 1 -->\n<svg width=\"511pt\" height=\"222pt\"\n viewBox=\"0.00 0.00 511.07 222.14\" xmlns=\"http://www.w3.org/2000/svg\" xmlns:xlink=\"http://www.w3.org/1999/xlink\">\n<g id=\"graph0\" class=\"graph\" transform=\"scale(1 1) rotate(0) translate(4 218.1401)\">\n<title>%3</title>\n<polygon fill=\"#ffffff\" stroke=\"transparent\" points=\"-4,4 -4,-218.1401 507.0727,-218.1401 507.0727,4 -4,4\"/>\n<!-- EMPTY -->\n<g id=\"node1\" class=\"node\">\n<title>EMPTY</title>\n</g>\n<!-- \\(&quot;I&quot;_&quot;I&quot;\\) -->\n<g id=\"node2\" class=\"node\">\n<title>\\(&quot;I&quot;_&quot;I&quot;\\)</title>\n<ellipse fill=\"none\" stroke=\"#000000\" cx=\"133.8962\" cy=\"-67.0444\" rx=\"42.7926\" ry=\"42.7926\"/>\n<text text-anchor=\"middle\" x=\"133.8962\" y=\"-63.3444\" font-family=\"Times,serif\" font-size=\"14.00\" fill=\"#000000\">(&quot;I&quot;_&quot;I&quot;)</text>\n</g>\n<!-- EMPTY&#45;&gt;\\(&quot;I&quot;_&quot;I&quot;\\) -->\n<g id=\"edge1\" class=\"edge\">\n<title>EMPTY&#45;&gt;\\(&quot;I&quot;_&quot;I&quot;\\)</title>\n<path fill=\"none\" stroke=\"#000000\" d=\"M54.251,-67.0444C62.3407,-67.0444 71.4942,-67.0444 80.6401,-67.0444\"/>\n<polygon fill=\"#000000\" stroke=\"#000000\" points=\"80.906,-70.5445 90.9059,-67.0444 80.9059,-63.5445 80.906,-70.5445\"/>\n</g>\n<!-- \\(&quot;F1_S&quot;_BH\\) -->\n<g id=\"node4\" class=\"node\">\n<title>\\(&quot;F1_S&quot;_BH\\)</title>\n<ellipse fill=\"none\" stroke=\"#000000\" cx=\"291.8368\" cy=\"-67.0444\" rx=\"63.0862\" ry=\"63.0862\"/>\n<ellipse fill=\"none\" stroke=\"#000000\" cx=\"291.8368\" cy=\"-67.0444\" rx=\"67.0888\" ry=\"67.0888\"/>\n<text text-anchor=\"middle\" x=\"291.8368\" y=\"-63.3444\" font-family=\"Times,serif\" font-size=\"14.00\" fill=\"#000000\">(&quot;F1_S&quot;_BH)</text>\n</g>\n<!-- \\(&quot;I&quot;_&quot;I&quot;\\)&#45;&gt;\\(&quot;F1_S&quot;_BH\\) -->\n<g id=\"edge5\" class=\"edge\">\n<title>\\(&quot;I&quot;_&quot;I&quot;\\)&#45;&gt;\\(&quot;F1_S&quot;_BH\\)</title>\n<path fill=\"none\" stroke=\"#000000\" d=\"M175.2166,-79.4187C181.7137,-80.9229 188.3962,-82.2182 194.7924,-83.0444 201.8944,-83.9618 209.2738,-84.1493 216.6493,-83.8213\"/>\n<polygon fill=\"#000000\" stroke=\"#000000\" points=\"216.9651,-87.3076 226.6777,-83.0748 216.4454,-80.3269 216.9651,-87.3076\"/>\n<text text-anchor=\"middle\" x=\"200.7924\" y=\"-86.8444\" font-family=\"Times,serif\" font-size=\"14.00\" fill=\"#000000\">a </text>\n</g>\n<!-- \\(&quot;I&quot;_&quot;I&quot;\\)&#45;&gt;\\(&quot;F1_S&quot;_BH\\) -->\n<g id=\"edge7\" class=\"edge\">\n<title>\\(&quot;I&quot;_&quot;I&quot;\\)&#45;&gt;\\(&quot;F1_S&quot;_BH\\)</title>\n<path fill=\"none\" stroke=\"#000000\" d=\"M176.804,-64.6653C182.8423,-64.4079 188.9724,-64.1877 194.7924,-64.0444 201.151,-63.8879 207.7435,-63.8427 214.3629,-63.8794\"/>\n<polygon fill=\"#000000\" stroke=\"#000000\" points=\"214.717,-67.3836 224.7571,-64.0002 214.7985,-60.3841 214.717,-67.3836\"/>\n<text text-anchor=\"middle\" x=\"200.7924\" y=\"-67.8444\" font-family=\"Times,serif\" font-size=\"14.00\" fill=\"#000000\">c </text>\n</g>\n<!-- \\(&quot;I&quot;_&quot;I&quot;\\)&#45;&gt;\\(&quot;F1_S&quot;_BH\\) -->\n<g id=\"edge10\" class=\"edge\">\n<title>\\(&quot;I&quot;_&quot;I&quot;\\)&#45;&gt;\\(&quot;F1_S&quot;_BH\\)</title>\n<path fill=\"none\" stroke=\"#000000\" d=\"M173.2705,-49.83C180.3136,-47.4302 187.6772,-45.3433 194.7924,-44.0444 202.5172,-42.6342 210.5507,-42.4455 218.541,-43.0897\"/>\n<polygon fill=\"#000000\" stroke=\"#000000\" points=\"218.2614,-46.5815 228.6125,-44.322 219.1116,-39.6334 218.2614,-46.5815\"/>\n<text text-anchor=\"middle\" x=\"200.7924\" y=\"-47.8444\" font-family=\"Times,serif\" font-size=\"14.00\" fill=\"#000000\">b </text>\n</g>\n<!-- \\(BH_BH\\) -->\n<g id=\"node3\" class=\"node\">\n<title>\\(BH_BH\\)</title>\n<ellipse fill=\"none\" stroke=\"#000000\" cx=\"454.9769\" cy=\"-67.0444\" rx=\"48.1917\" ry=\"48.1917\"/>\n<text text-anchor=\"middle\" x=\"454.9769\" y=\"-63.3444\" font-family=\"Times,serif\" font-size=\"14.00\" fill=\"#000000\">(BH_BH)</text>\n</g>\n<!-- \\(BH_BH\\)&#45;&gt;\\(BH_BH\\) -->\n<g id=\"edge2\" class=\"edge\">\n<title>\\(BH_BH\\)&#45;&gt;\\(BH_BH\\)</title>\n<path fill=\"none\" stroke=\"#000000\" d=\"M450.6099,-115.1684C451.0369,-125.5855 452.4926,-133.1401 454.9769,-133.1401 456.5297,-133.1401 457.6806,-130.1891 458.4296,-125.4326\"/>\n<polygon fill=\"#000000\" stroke=\"#000000\" points=\"461.9428,-125.4395 459.344,-115.1684 454.9704,-124.8183 461.9428,-125.4395\"/>\n<text text-anchor=\"middle\" x=\"454.9769\" y=\"-136.9401\" font-family=\"Times,serif\" font-size=\"14.00\" fill=\"#000000\">a </text>\n</g>\n<!-- \\(BH_BH\\)&#45;&gt;\\(BH_BH\\) -->\n<g id=\"edge6\" class=\"edge\">\n<title>\\(BH_BH\\)&#45;&gt;\\(BH_BH\\)</title>\n<path fill=\"none\" stroke=\"#000000\" d=\"M446.056,-114.593C445.4408,-134.373 448.4144,-151.1401 454.9769,-151.1401 460.3602,-151.1401 463.3285,-139.8573 463.8819,-124.884\"/>\n<polygon fill=\"#000000\" stroke=\"#000000\" points=\"467.3822,-124.5985 463.8978,-114.593 460.3822,-124.5875 467.3822,-124.5985\"/>\n<text text-anchor=\"middle\" x=\"454.9769\" y=\"-154.9401\" font-family=\"Times,serif\" font-size=\"14.00\" fill=\"#000000\">c </text>\n</g>\n<!-- \\(BH_BH\\)&#45;&gt;\\(BH_BH\\) -->\n<g id=\"edge9\" class=\"edge\">\n<title>\\(BH_BH\\)&#45;&gt;\\(BH_BH\\)</title>\n<path fill=\"none\" stroke=\"#000000\" d=\"M442.4016,-113.5086C439.4297,-142.0519 443.6215,-169.1401 454.9769,-169.1401 464.9573,-169.1401 469.4039,-148.2151 468.3167,-123.7683\"/>\n<polygon fill=\"#000000\" stroke=\"#000000\" points=\"471.7857,-123.2209 467.5522,-113.5086 464.8051,-123.7411 471.7857,-123.2209\"/>\n<text text-anchor=\"middle\" x=\"454.9769\" y=\"-172.9401\" font-family=\"Times,serif\" font-size=\"14.00\" fill=\"#000000\">b </text>\n</g>\n<!-- \\(&quot;F1_S&quot;_BH\\)&#45;&gt;\\(BH_BH\\) -->\n<g id=\"edge3\" class=\"edge\">\n<title>\\(&quot;F1_S&quot;_BH\\)&#45;&gt;\\(BH_BH\\)</title>\n<path fill=\"none\" stroke=\"#000000\" d=\"M357.2359,-82.9273C367.7939,-84.0201 378.6233,-84.2683 388.8812,-83.0444 391.9476,-82.6785 395.0773,-82.2204 398.2255,-81.6927\"/>\n<polygon fill=\"#000000\" stroke=\"#000000\" points=\"399.1081,-85.0881 408.2878,-79.7982 397.8128,-78.209 399.1081,-85.0881\"/>\n<text text-anchor=\"middle\" x=\"382.8812\" y=\"-86.8444\" font-family=\"Times,serif\" font-size=\"14.00\" fill=\"#000000\">c </text>\n</g>\n<!-- \\(&quot;F1_S&quot;_BH\\)&#45;&gt;\\(BH_BH\\) -->\n<g id=\"edge4\" class=\"edge\">\n<title>\\(&quot;F1_S&quot;_BH\\)&#45;&gt;\\(BH_BH\\)</title>\n<path fill=\"none\" stroke=\"#000000\" d=\"M358.9157,-64.034C368.9587,-63.8549 379.1915,-63.8246 388.8812,-64.0444 391.3933,-64.1014 393.9587,-64.1705 396.5499,-64.2494\"/>\n<polygon fill=\"#000000\" stroke=\"#000000\" points=\"396.4998,-67.7496 406.6144,-64.596 396.7408,-60.7538 396.4998,-67.7496\"/>\n<text text-anchor=\"middle\" x=\"382.8812\" y=\"-67.8444\" font-family=\"Times,serif\" font-size=\"14.00\" fill=\"#000000\">b </text>\n</g>\n<!-- \\(&quot;F1_S&quot;_BH\\)&#45;&gt;\\(BH_BH\\) -->\n<g id=\"edge8\" class=\"edge\">\n<title>\\(&quot;F1_S&quot;_BH\\)&#45;&gt;\\(BH_BH\\)</title>\n<path fill=\"none\" stroke=\"#000000\" d=\"M355.0185,-44.5644C366.2461,-42.7199 377.8694,-42.1832 388.8812,-44.0444 392.5725,-44.6683 396.3328,-45.4752 400.0919,-46.4121\"/>\n<polygon fill=\"#000000\" stroke=\"#000000\" points=\"399.42,-49.8578 409.9917,-49.1589 401.2915,-43.1126 399.42,-49.8578\"/>\n<text text-anchor=\"middle\" x=\"382.8812\" y=\"-47.8444\" font-family=\"Times,serif\" font-size=\"14.00\" fill=\"#000000\">a </text>\n</g>\n</g>\n</svg>\n"
          },
          "metadata": {
            "tags": []
          },
          "execution_count": 16
        }
      ]
    },
    {
      "cell_type": "code",
      "metadata": {
        "id": "DnZfiki1Soer",
        "colab": {
          "base_uri": "https://localhost:8080/"
        },
        "outputId": "471c46fb-3bff-429e-f35e-47c968a8114d"
      },
      "source": [
        "nfa1Infa2 = intersect_dfa(nfa2dfa(nfa1), nfa2dfa(nfa2))"
      ],
      "execution_count": null,
      "outputs": [
        {
          "output_type": "stream",
          "text": [
            "Intersection on DFA with different alphabets.\n",
            "Making alphabets the same (taking unions).\n"
          ],
          "name": "stdout"
        }
      ]
    },
    {
      "cell_type": "code",
      "metadata": {
        "id": "fER35e0eSoer",
        "colab": {
          "base_uri": "https://localhost:8080/",
          "height": 421
        },
        "outputId": "e7a0c2cc-f63d-481e-8184-d227dd790fba"
      },
      "source": [
        "dotObj_dfa(min_dfa(nfa1Infa2))"
      ],
      "execution_count": null,
      "outputs": [
        {
          "output_type": "execute_result",
          "data": {
            "text/plain": [
              "<graphviz.dot.Digraph at 0x7f2ec228aa58>"
            ],
            "image/svg+xml": "<?xml version=\"1.0\" encoding=\"UTF-8\" standalone=\"no\"?>\n<!DOCTYPE svg PUBLIC \"-//W3C//DTD SVG 1.1//EN\"\n \"http://www.w3.org/Graphics/SVG/1.1/DTD/svg11.dtd\">\n<!-- Generated by graphviz version 2.40.1 (20161225.0304)\n -->\n<!-- Title: %3 Pages: 1 -->\n<svg width=\"531pt\" height=\"300pt\"\n viewBox=\"0.00 0.00 530.57 299.89\" xmlns=\"http://www.w3.org/2000/svg\" xmlns:xlink=\"http://www.w3.org/1999/xlink\">\n<g id=\"graph0\" class=\"graph\" transform=\"scale(1 1) rotate(0) translate(4 295.8893)\">\n<title>%3</title>\n<polygon fill=\"#ffffff\" stroke=\"transparent\" points=\"-4,4 -4,-295.8893 526.5709,-295.8893 526.5709,4 -4,4\"/>\n<!-- EMPTY -->\n<g id=\"node1\" class=\"node\">\n<title>EMPTY</title>\n</g>\n<!-- \\(&quot;I&quot;_&quot;I&quot;\\) -->\n<g id=\"node3\" class=\"node\">\n<title>\\(&quot;I&quot;_&quot;I&quot;\\)</title>\n<ellipse fill=\"none\" stroke=\"#000000\" cx=\"133.8962\" cy=\"-159.8449\" rx=\"42.7926\" ry=\"42.7926\"/>\n<text text-anchor=\"middle\" x=\"133.8962\" y=\"-156.1449\" font-family=\"Times,serif\" font-size=\"14.00\" fill=\"#000000\">(&quot;I&quot;_&quot;I&quot;)</text>\n</g>\n<!-- EMPTY&#45;&gt;\\(&quot;I&quot;_&quot;I&quot;\\) -->\n<g id=\"edge1\" class=\"edge\">\n<title>EMPTY&#45;&gt;\\(&quot;I&quot;_&quot;I&quot;\\)</title>\n<path fill=\"none\" stroke=\"#000000\" d=\"M54.251,-159.8449C62.3407,-159.8449 71.4942,-159.8449 80.6401,-159.8449\"/>\n<polygon fill=\"#000000\" stroke=\"#000000\" points=\"80.906,-163.345 90.9059,-159.8449 80.9059,-156.345 80.906,-163.345\"/>\n</g>\n<!-- \\(&quot;F1_S&quot;_BH\\) -->\n<g id=\"node2\" class=\"node\">\n<title>\\(&quot;F1_S&quot;_BH\\)</title>\n<ellipse fill=\"none\" stroke=\"#000000\" cx=\"459.5265\" cy=\"-129.8449\" rx=\"63.0888\" ry=\"63.0888\"/>\n<text text-anchor=\"middle\" x=\"459.5265\" y=\"-126.1449\" font-family=\"Times,serif\" font-size=\"14.00\" fill=\"#000000\">(&quot;F1_S&quot;_BH)</text>\n</g>\n<!-- \\(&quot;F1_S&quot;_BH\\)&#45;&gt;\\(&quot;F1_S&quot;_BH\\) -->\n<g id=\"edge2\" class=\"edge\">\n<title>\\(&quot;F1_S&quot;_BH\\)&#45;&gt;\\(&quot;F1_S&quot;_BH\\)</title>\n<path fill=\"none\" stroke=\"#000000\" d=\"M454.5088,-192.7096C455.1944,-203.4488 456.867,-210.8893 459.5265,-210.8893 461.2303,-210.8893 462.529,-207.8357 463.4227,-202.8175\"/>\n<polygon fill=\"#000000\" stroke=\"#000000\" points=\"466.92,-203.0346 464.5443,-192.7096 459.9627,-202.2626 466.92,-203.0346\"/>\n<text text-anchor=\"middle\" x=\"459.5265\" y=\"-214.6893\" font-family=\"Times,serif\" font-size=\"14.00\" fill=\"#000000\">a </text>\n</g>\n<!-- \\(&quot;F1_S&quot;_BH\\)&#45;&gt;\\(&quot;F1_S&quot;_BH\\) -->\n<g id=\"edge3\" class=\"edge\">\n<title>\\(&quot;F1_S&quot;_BH\\)&#45;&gt;\\(&quot;F1_S&quot;_BH\\)</title>\n<path fill=\"none\" stroke=\"#000000\" d=\"M448.7772,-192.2305C448.8327,-212.6388 452.4159,-228.8893 459.5265,-228.8893 465.4151,-228.8893 468.8844,-217.7448 469.9346,-202.3236\"/>\n<polygon fill=\"#000000\" stroke=\"#000000\" points=\"473.4359,-202.3431 470.2759,-192.2305 466.4399,-202.1065 473.4359,-202.3431\"/>\n<text text-anchor=\"middle\" x=\"459.5265\" y=\"-232.6893\" font-family=\"Times,serif\" font-size=\"14.00\" fill=\"#000000\">c </text>\n</g>\n<!-- \\(&quot;F1_S&quot;_BH\\)&#45;&gt;\\(&quot;F1_S&quot;_BH\\) -->\n<g id=\"edge6\" class=\"edge\">\n<title>\\(&quot;F1_S&quot;_BH\\)&#45;&gt;\\(&quot;F1_S&quot;_BH\\)</title>\n<path fill=\"none\" stroke=\"#000000\" d=\"M443.8151,-190.9666C441.8177,-220.633 447.0548,-246.8893 459.5265,-246.8893 470.5367,-246.8893 475.9085,-226.4263 475.6421,-201.2189\"/>\n<polygon fill=\"#000000\" stroke=\"#000000\" points=\"479.1292,-200.8209 475.2379,-190.9666 472.1346,-201.0967 479.1292,-200.8209\"/>\n<text text-anchor=\"middle\" x=\"459.5265\" y=\"-250.6893\" font-family=\"Times,serif\" font-size=\"14.00\" fill=\"#000000\">b </text>\n</g>\n<!-- \\(&quot;I&quot;_&quot;I&quot;\\)&#45;&gt;\\(&quot;F1_S&quot;_BH\\) -->\n<g id=\"edge5\" class=\"edge\">\n<title>\\(&quot;I&quot;_&quot;I&quot;\\)&#45;&gt;\\(&quot;F1_S&quot;_BH\\)</title>\n<path fill=\"none\" stroke=\"#000000\" d=\"M175.4487,-171.5908C225.1885,-183.5527 310.3094,-197.2923 378.4821,-173.8449 384.344,-171.8287 390.2866,-169.4159 396.1515,-166.7726\"/>\n<polygon fill=\"#000000\" stroke=\"#000000\" points=\"397.7386,-169.8937 405.2808,-162.4529 394.7447,-163.5663 397.7386,-169.8937\"/>\n<text text-anchor=\"middle\" x=\"286.6373\" y=\"-189.6449\" font-family=\"Times,serif\" font-size=\"14.00\" fill=\"#000000\">a </text>\n</g>\n<!-- \\(&quot;I&quot;_&quot;I&quot;\\)&#45;&gt;\\(&quot;F1_S&quot;_BH\\) -->\n<g id=\"edge7\" class=\"edge\">\n<title>\\(&quot;I&quot;_&quot;I&quot;\\)&#45;&gt;\\(&quot;F1_S&quot;_BH\\)</title>\n<path fill=\"none\" stroke=\"#000000\" d=\"M176.8015,-155.892C230.161,-150.9761 322.0777,-142.5079 386.5848,-136.5649\"/>\n<polygon fill=\"#000000\" stroke=\"#000000\" points=\"387.0557,-140.0365 396.6924,-135.6337 386.4134,-133.066 387.0557,-140.0365\"/>\n<text text-anchor=\"middle\" x=\"286.6373\" y=\"-154.6449\" font-family=\"Times,serif\" font-size=\"14.00\" fill=\"#000000\">c </text>\n</g>\n<!-- \\(&quot;F2&quot;_&quot;F1&quot;\\) -->\n<g id=\"node4\" class=\"node\">\n<title>\\(&quot;F2&quot;_&quot;F1&quot;\\)</title>\n<ellipse fill=\"none\" stroke=\"#000000\" cx=\"286.6373\" cy=\"-61.8449\" rx=\"57.7001\" ry=\"57.7001\"/>\n<ellipse fill=\"none\" stroke=\"#000000\" cx=\"286.6373\" cy=\"-61.8449\" rx=\"61.6901\" ry=\"61.6901\"/>\n<text text-anchor=\"middle\" x=\"286.6373\" y=\"-58.1449\" font-family=\"Times,serif\" font-size=\"14.00\" fill=\"#000000\">(&quot;F2&quot;_&quot;F1&quot;)</text>\n</g>\n<!-- \\(&quot;I&quot;_&quot;I&quot;\\)&#45;&gt;\\(&quot;F2&quot;_&quot;F1&quot;\\) -->\n<g id=\"edge8\" class=\"edge\">\n<title>\\(&quot;I&quot;_&quot;I&quot;\\)&#45;&gt;\\(&quot;F2&quot;_&quot;F1&quot;\\)</title>\n<path fill=\"none\" stroke=\"#000000\" d=\"M170.0937,-136.6202C186.771,-125.9199 207.0214,-112.9271 225.9326,-100.7935\"/>\n<polygon fill=\"#000000\" stroke=\"#000000\" points=\"227.9831,-103.6364 234.5097,-95.2904 224.203,-97.7448 227.9831,-103.6364\"/>\n<text text-anchor=\"middle\" x=\"200.7924\" y=\"-122.6449\" font-family=\"Times,serif\" font-size=\"14.00\" fill=\"#000000\">b </text>\n</g>\n<!-- \\(&quot;F2&quot;_&quot;F1&quot;\\)&#45;&gt;\\(&quot;F1_S&quot;_BH\\) -->\n<g id=\"edge4\" class=\"edge\">\n<title>\\(&quot;F2&quot;_&quot;F1&quot;\\)&#45;&gt;\\(&quot;F1_S&quot;_BH\\)</title>\n<path fill=\"none\" stroke=\"#000000\" d=\"M339.2514,-94.9942C348.1283,-99.7542 357.4103,-104.2485 366.4821,-107.8449 373.1655,-110.4944 380.2508,-112.8771 387.4107,-115.0075\"/>\n<polygon fill=\"#000000\" stroke=\"#000000\" points=\"386.6155,-118.4196 397.1896,-117.7575 388.5105,-111.681 386.6155,-118.4196\"/>\n<text text-anchor=\"middle\" x=\"372.4821\" y=\"-114.6449\" font-family=\"Times,serif\" font-size=\"14.00\" fill=\"#000000\">b </text>\n</g>\n<!-- \\(&quot;F2&quot;_&quot;F1&quot;\\)&#45;&gt;\\(&quot;F1_S&quot;_BH\\) -->\n<g id=\"edge9\" class=\"edge\">\n<title>\\(&quot;F2&quot;_&quot;F1&quot;\\)&#45;&gt;\\(&quot;F1_S&quot;_BH\\)</title>\n<path fill=\"none\" stroke=\"#000000\" d=\"M346.4628,-77.711C357.2393,-81.0541 368.2838,-84.8054 378.4821,-88.8449 383.8353,-90.9653 389.3103,-93.3149 394.7634,-95.7853\"/>\n<polygon fill=\"#000000\" stroke=\"#000000\" points=\"393.3518,-98.9888 403.8946,-100.0377 396.307,-92.6432 393.3518,-98.9888\"/>\n<text text-anchor=\"middle\" x=\"372.4821\" y=\"-92.6449\" font-family=\"Times,serif\" font-size=\"14.00\" fill=\"#000000\">c </text>\n</g>\n<!-- \\(&quot;F2&quot;_&quot;F1&quot;\\)&#45;&gt;\\(&quot;F1_S&quot;_BH\\) -->\n<g id=\"edge10\" class=\"edge\">\n<title>\\(&quot;F2&quot;_&quot;F1&quot;\\)&#45;&gt;\\(&quot;F1_S&quot;_BH\\)</title>\n<path fill=\"none\" stroke=\"#000000\" d=\"M348.4637,-60.0813C358.7101,-61.2327 369.0581,-63.3236 378.4821,-66.8449 387.7473,-70.3068 396.8044,-75.2287 405.308,-80.8148\"/>\n<polygon fill=\"#000000\" stroke=\"#000000\" points=\"403.4065,-83.7556 413.6144,-86.5929 407.4039,-78.0091 403.4065,-83.7556\"/>\n<text text-anchor=\"middle\" x=\"372.4821\" y=\"-70.6449\" font-family=\"Times,serif\" font-size=\"14.00\" fill=\"#000000\">a </text>\n</g>\n</g>\n</svg>\n"
          },
          "metadata": {
            "tags": []
          },
          "execution_count": 18
        }
      ]
    },
    {
      "cell_type": "markdown",
      "metadata": {
        "id": "lZWqAsEKTDKu"
      },
      "source": [
        "# Done\r\n",
        "We read and understood the material."
      ]
    }
  ]
}