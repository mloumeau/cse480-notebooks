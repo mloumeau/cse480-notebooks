{
  "nbformat": 4,
  "nbformat_minor": 0,
  "metadata": {
    "kernelspec": {
      "display_name": "Python 3",
      "language": "python",
      "name": "python3"
    },
    "language_info": {
      "codemirror_mode": {
        "name": "ipython",
        "version": 3
      },
      "file_extension": ".py",
      "mimetype": "text/x-python",
      "name": "python",
      "nbconvert_exporter": "python",
      "pygments_lexer": "ipython3",
      "version": "3.9.0"
    },
    "colab": {
      "name": "02_3_nthnumeric.ipynb",
      "provenance": []
    }
  },
  "cells": [
    {
      "cell_type": "markdown",
      "metadata": {
        "id": "df57xMRHoMSf"
      },
      "source": [
        "# Main Definition here: \"nthnumeric\"\n",
        "\n",
        "Function nthnumeric allows you to obtain the nth string in numeric order. Check the book's \n",
        "Chapter 3 that defines Lexicographic order and Numeric order."
      ]
    },
    {
      "cell_type": "code",
      "metadata": {
        "id": "49NUfvjfoMSn",
        "outputId": "13504ad2-38d9-4aa1-c39d-8d6b906a3f43",
        "colab": {
          "base_uri": "https://localhost:8080/"
        }
      },
      "source": [
        "#~~~~~~~~~~~~~~~~~~~~~~~~~~~~~~~~~~~~~~~~~~~~~~~~~~~~~~~\n",
        "import sys\n",
        "\n",
        "# -- Detect if in Own Install or in Colab\n",
        "try:\n",
        "    import google.colab\n",
        "    OWN_INSTALL = False\n",
        "except:\n",
        "    OWN_INSTALL = True\n",
        "    \n",
        "if OWN_INSTALL:\n",
        "    \n",
        "  sys.path[0:0] = ['../../../../..',  '../../../../../3rdparty',  \n",
        "                   '../../../..',  '../../../../3rdparty',  \n",
        "                   '../../..',     '../../../3rdparty', \n",
        "                   '../..',        '../../3rdparty',\n",
        "                   '..',           '../3rdparty' ]\n",
        "\n",
        "else: # In colab\n",
        "  ! if [ ! -d Jove ]; then git clone https://github.com/ganeshutah/Jove Jove; fi\n",
        "  sys.path.append('./Jove')\n",
        "  sys.path.append('./Jove/jove')\n",
        "\n",
        "# -- common imports --\n",
        "from jove.LangDef   import *\n",
        "#~~~~~~~~~~~~~~~~~~~~~~~~~~~~~~~~~~~~~~~~~~~~~~~~~~~~~~~"
      ],
      "execution_count": 1,
      "outputs": [
        {
          "output_type": "stream",
          "text": [
            "Cloning into 'Jove'...\n",
            "remote: Enumerating objects: 4634, done.\u001b[K\n",
            "remote: Total 4634 (delta 0), reused 0 (delta 0), pack-reused 4634\u001b[K\n",
            "Receiving objects: 100% (4634/4634), 7.38 MiB | 4.98 MiB/s, done.\n",
            "Resolving deltas: 100% (3005/3005), done.\n",
            "You may use any of these help commands:\n",
            "help(lphi)\n",
            "help(lunit)\n",
            "help(lcat)\n",
            "help(lexp)\n",
            "help(lunion)\n",
            "help(lstar)\n",
            "help(srev)\n",
            "help(lrev)\n",
            "help(shomo)\n",
            "help(lhomo)\n",
            "help(powset)\n",
            "help(lint)\n",
            "help(lsymdiff)\n",
            "help(lminus)\n",
            "help(lissubset)\n",
            "help(lissuperset)\n",
            "help(lcomplem)\n",
            "help(product)\n",
            "help(nthnumeric)\n",
            "\n"
          ],
          "name": "stdout"
        }
      ]
    },
    {
      "cell_type": "markdown",
      "metadata": {
        "id": "IxeWlJBvoMSo"
      },
      "source": [
        "### Let us import Language Definitions"
      ]
    },
    {
      "cell_type": "code",
      "metadata": {
        "id": "eV3UggzBoMSo"
      },
      "source": [
        "from jove.LangDef import *"
      ],
      "execution_count": 3,
      "outputs": []
    },
    {
      "cell_type": "markdown",
      "metadata": {
        "id": "-cMKBbhWoMSp"
      },
      "source": [
        "### We can generate sets according to numeric order"
      ]
    },
    {
      "cell_type": "code",
      "metadata": {
        "id": "1IsshmM_oMSp",
        "outputId": "d27dba99-be68-4f2d-af94-52be0bc7d5a0",
        "colab": {
          "base_uri": "https://localhost:8080/"
        }
      },
      "source": [
        "help(nthnumeric)"
      ],
      "execution_count": 4,
      "outputs": [
        {
          "output_type": "stream",
          "text": [
            "Help on function nthnumeric in module jove.LangDef:\n",
            "\n",
            "nthnumeric(N, S=['a', 'b'])\n",
            "    Assume S ('Sigma') is a 2-sized list of chars (default ['a','b']). \n",
            "    Produce the Nth string in numeric order, where N >= 0.\n",
            "    Idea : Given N, get b = floor(log_2(N+1)) - need that \n",
            "    many places; what to fill in the places is the binary \n",
            "    code for N - (2^b - 1) with 0 as S[0] and 1 as S[1].\n",
            "\n"
          ],
          "name": "stdout"
        }
      ]
    },
    {
      "cell_type": "code",
      "metadata": {
        "id": "_rAZ9VXPoMSp",
        "outputId": "19f9324d-dfd6-4e9f-9146-9d65aa052f74",
        "colab": {
          "base_uri": "https://localhost:8080/",
          "height": 35
        }
      },
      "source": [
        "nthnumeric(8, ['0','1'])"
      ],
      "execution_count": 5,
      "outputs": [
        {
          "output_type": "execute_result",
          "data": {
            "application/vnd.google.colaboratory.intrinsic+json": {
              "type": "string"
            },
            "text/plain": [
              "'001'"
            ]
          },
          "metadata": {
            "tags": []
          },
          "execution_count": 5
        }
      ]
    },
    {
      "cell_type": "markdown",
      "metadata": {
        "id": "v9PG_50FoMSq"
      },
      "source": [
        "# Now, we can generate the first 27 strings in numeric order\n",
        "\n",
        "This is a handy way to test DFA and other machines. One can pump all strings in numeric order up to \n",
        "some number (e.g. a few dozen) and test the machines."
      ]
    },
    {
      "cell_type": "code",
      "metadata": {
        "id": "5nUoLQlxoMSq",
        "outputId": "f482ad30-57a8-4bec-e547-e7a725c8e576",
        "colab": {
          "base_uri": "https://localhost:8080/"
        }
      },
      "source": [
        "[nthnumeric(i, ['0','1']) for i in range(28)]"
      ],
      "execution_count": 6,
      "outputs": [
        {
          "output_type": "execute_result",
          "data": {
            "text/plain": [
              "['',\n",
              " '0',\n",
              " '1',\n",
              " '00',\n",
              " '01',\n",
              " '10',\n",
              " '11',\n",
              " '000',\n",
              " '001',\n",
              " '010',\n",
              " '011',\n",
              " '100',\n",
              " '101',\n",
              " '110',\n",
              " '111',\n",
              " '0000',\n",
              " '0001',\n",
              " '0010',\n",
              " '0011',\n",
              " '0100',\n",
              " '0101',\n",
              " '0110',\n",
              " '0111',\n",
              " '1000',\n",
              " '1001',\n",
              " '1010',\n",
              " '1011',\n",
              " '1100']"
            ]
          },
          "metadata": {
            "tags": []
          },
          "execution_count": 6
        }
      ]
    },
    {
      "cell_type": "markdown",
      "metadata": {
        "id": "QPzuZpFVoMSq"
      },
      "source": [
        "# See the usage of nthnumeric for testing DFA, in Overview.ipynb"
      ]
    },
    {
      "cell_type": "markdown",
      "metadata": {
        "id": "hXyMxspxomkP"
      },
      "source": [
        "#As a group, we looked over the information and understood it.\r\n",
        "Implementation of the nthnumeric function was provided in the previous notebook."
      ]
    },
    {
      "cell_type": "code",
      "metadata": {
        "id": "6OA-aNI3pF57"
      },
      "source": [
        ""
      ],
      "execution_count": null,
      "outputs": []
    }
  ]
}