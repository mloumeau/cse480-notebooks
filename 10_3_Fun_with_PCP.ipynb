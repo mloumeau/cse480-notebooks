{
  "nbformat": 4,
  "nbformat_minor": 0,
  "metadata": {
    "colab": {
      "name": "proof_problems.ipynb",
      "provenance": [],
      "include_colab_link": true
    },
    "kernelspec": {
      "name": "python3",
      "display_name": "Python 3"
    }
  },
  "cells": [
    {
      "cell_type": "markdown",
      "metadata": {
        "id": "view-in-github",
        "colab_type": "text"
      },
      "source": [
        "<a href=\"https://colab.research.google.com/github/mloumeau/cse480-notebooks/blob/master/proof_problems.ipynb\" target=\"_parent\"><img src=\"https://colab.research.google.com/assets/colab-badge.svg\" alt=\"Open In Colab\"/></a>"
      ]
    },
    {
      "source": [
        "* Class Directed Learning\n",
        "** TODO Solve\n",
        "   a PCP Instance by working on 15.2.3.4 as teams, and see why unary versus\n",
        "   binary matters:\n",
        "\n",
        "  [('000', '00'), ('0', '0000'), ('0000', '000'), ('0', '0000'), ('000000', '0')]"
      ],
      "cell_type": "markdown",
      "metadata": {}
    },
    {
      "source": [
        "** TODO Create\n",
        "   Create your own =10_3_Fun_with_PCP.ipynb= notebook containing the contents of\n",
        "   this org-mode file and your results, and push it to your fork."
      ],
      "cell_type": "markdown",
      "metadata": {}
    }
  ]
}