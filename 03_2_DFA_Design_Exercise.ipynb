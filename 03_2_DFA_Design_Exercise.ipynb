{
  "nbformat": 4,
  "nbformat_minor": 0,
  "metadata": {
    "kernelspec": {
      "display_name": "Python 3",
      "language": "python",
      "name": "python3"
    },
    "language_info": {
      "codemirror_mode": {
        "name": "ipython",
        "version": 3
      },
      "file_extension": ".py",
      "mimetype": "text/x-python",
      "name": "python",
      "nbconvert_exporter": "python",
      "pygments_lexer": "ipython3",
      "version": "3.9.0"
    },
    "toc": {
      "colors": {
        "hover_highlight": "#DAA520",
        "running_highlight": "#FF0000",
        "selected_highlight": "#FFD700"
      },
      "moveMenuLeft": true,
      "nav_menu": {
        "height": "318px",
        "width": "252px"
      },
      "navigate_menu": true,
      "number_sections": true,
      "sideBar": true,
      "threshold": 4,
      "toc_cell": false,
      "toc_section_display": "block",
      "toc_window_display": false,
      "widenNotebook": false
    },
    "colab": {
      "name": "03_2_DFA_Design_Exercise.ipynb",
      "provenance": [],
      "include_colab_link": true
    }
  },
  "cells": [
    {
      "cell_type": "markdown",
      "metadata": {
        "id": "view-in-github",
        "colab_type": "text"
      },
      "source": [
        "<a href=\"https://colab.research.google.com/github/croesusking/cse480-notebooks/blob/master/03_2_DFA_Design_Exercise.ipynb\" target=\"_parent\"><img src=\"https://colab.research.google.com/assets/colab-badge.svg\" alt=\"Open In Colab\"/></a>"
      ]
    },
    {
      "cell_type": "markdown",
      "metadata": {
        "run_control": {
          "frozen": false,
          "read_only": false
        },
        "id": "lHF-MKTuQ2AC"
      },
      "source": [
        "# DFA Design Exercise\n",
        "\n",
        "Design a DFA that accepts strings which are multiples of 3 in value\n",
        "and contain a 100 in them."
      ]
    },
    {
      "cell_type": "code",
      "metadata": {
        "run_control": {
          "frozen": false,
          "read_only": false
        },
        "scrolled": true,
        "id": "P_L5gz9PQ2AI",
        "colab": {
          "base_uri": "https://localhost:8080/"
        },
        "outputId": "859358df-c76f-46a1-bcd5-238340a36da4"
      },
      "source": [
        "#~~~~~~~~~~~~~~~~~~~~~~~~~~~~~~~~~~~~~~~~~~~~~~~~~~~~~~~\n",
        "import sys\n",
        "\n",
        "# -- Detect if in Own Install or in Colab\n",
        "try:\n",
        "    import google.colab\n",
        "    OWN_INSTALL = False\n",
        "except:\n",
        "    OWN_INSTALL = True\n",
        "    \n",
        "if OWN_INSTALL:\n",
        "\n",
        "  sys.path[0:0] = ['../../../../..',  '../../../../../3rdparty',  \n",
        "                   '../../../..',  '../../../../3rdparty',  \n",
        "                   '../../..',     '../../../3rdparty', \n",
        "                   '../..',        '../../3rdparty',\n",
        "                   '..',           '../3rdparty' ]\n",
        "\n",
        "else: # In colab\n",
        "  ! if [ ! -d Jove ]; then git clone https://github.com/ganeshutah/Jove Jove; fi\n",
        "  sys.path.append('./Jove')\n",
        "  sys.path.append('./Jove/jove')\n",
        "\n",
        "# -- common imports --\n",
        "from jove.DotBashers import *\n",
        "from jove.Def_md2mc  import *\n",
        "from jove.Def_DFA    import *\n",
        "from jove.Def_NFA import *\n",
        "from jove.LangDef    import *  # for testing DFA actions\n",
        "from jove.Def_RE2NFA import *\n",
        "#~~~~~~~~~~~~~~~~~~~~~~~~~~~~~~~~~~~~~~~~~~~~~~~~~~~~~~~"
      ],
      "execution_count": null,
      "outputs": [
        {
          "output_type": "stream",
          "text": [
            "Cloning into 'Jove'...\n",
            "remote: Enumerating objects: 4634, done.\u001b[K\n",
            "remote: Total 4634 (delta 0), reused 0 (delta 0), pack-reused 4634\u001b[K\n",
            "Receiving objects: 100% (4634/4634), 7.38 MiB | 18.56 MiB/s, done.\n",
            "Resolving deltas: 100% (3005/3005), done.\n",
            "You may use any of these help commands:\n",
            "help(ResetStNum)\n",
            "help(NxtStateStr)\n",
            "\n",
            "You may use any of these help commands:\n",
            "help(md2mc)\n",
            ".. and if you want to dig more, then ..\n",
            "help(default_line_attr)\n",
            "help(length_ok_input_items)\n",
            "help(union_line_attr_list_fld)\n",
            "help(extend_rsltdict)\n",
            "help(form_delta)\n",
            "help(get_machine_components)\n",
            "\n",
            "You may use any of these help commands:\n",
            "help(mkp_dfa)\n",
            "help(mk_dfa)\n",
            "help(totalize_dfa)\n",
            "help(addtosigma_delta)\n",
            "help(step_dfa)\n",
            "help(run_dfa)\n",
            "help(accepts_dfa)\n",
            "help(comp_dfa)\n",
            "help(union_dfa)\n",
            "help(intersect_dfa)\n",
            "help(pruneUnreach)\n",
            "help(iso_dfa)\n",
            "help(langeq_dfa)\n",
            "help(same_status)\n",
            "help(h_langeq_dfa)\n",
            "help(fixptDist)\n",
            "help(min_dfa)\n",
            "help(pairFR)\n",
            "help(state_combos)\n",
            "help(sepFinNonFin)\n",
            "help(bash_eql_classes)\n",
            "help(listminus)\n",
            "help(bash_1)\n",
            "help(mk_rep_eqc)\n",
            "help(F_of)\n",
            "help(rep_of_s)\n",
            "help(q0_of)\n",
            "help(Delta_of)\n",
            "help(mk_state_eqc_name)\n",
            "\n",
            "You may use any of these help commands:\n",
            "help(mk_nfa)\n",
            "help(totalize_nfa)\n",
            "help(step_nfa)\n",
            "help(run_nfa)\n",
            "help(ec_step_nfa)\n",
            "help(Eclosure)\n",
            "help(Echelp)\n",
            "help(accepts_nfa)\n",
            "help(nfa2dfa)\n",
            "help(n2d)\n",
            "help(inSets)\n",
            "help(rev_dfa)\n",
            "help(min_dfa_brz)\n",
            "\n",
            "You may use any of these help commands:\n",
            "help(lphi)\n",
            "help(lunit)\n",
            "help(lcat)\n",
            "help(lexp)\n",
            "help(lunion)\n",
            "help(lstar)\n",
            "help(srev)\n",
            "help(lrev)\n",
            "help(shomo)\n",
            "help(lhomo)\n",
            "help(powset)\n",
            "help(lint)\n",
            "help(lsymdiff)\n",
            "help(lminus)\n",
            "help(lissubset)\n",
            "help(lissuperset)\n",
            "help(lcomplem)\n",
            "help(product)\n",
            "help(nthnumeric)\n",
            "\n",
            "You may use any of these help commands:\n",
            "help(re2nfa)\n",
            "\n"
          ],
          "name": "stdout"
        }
      ]
    },
    {
      "cell_type": "markdown",
      "metadata": {
        "id": "gM9YA4dcQ2AJ"
      },
      "source": [
        "# Mod-3 DFA \n",
        "\n",
        "Does it matter whether MSB-first or LSB-first?\n",
        "\n"
      ]
    },
    {
      "cell_type": "code",
      "metadata": {
        "run_control": {
          "frozen": false,
          "read_only": false
        },
        "id": "3A_VLgUUQ2AK",
        "colab": {
          "base_uri": "https://localhost:8080/",
          "height": 137
        },
        "outputId": "48c1e989-875f-4581-c982-c2c9a45a2cc6"
      },
      "source": [
        "DFA3 = md2mc('''DFA\n",
        "\n",
        "IF : 0 -> IF\n",
        "IF : 1 -> S1 \n",
        "\n",
        "S1 : 0 -> S2\n",
        "S1 : 1 -> IF\n",
        "\n",
        "S2 : 0 -> S1\n",
        "S2 : 1 -> S2\n",
        "\n",
        "\n",
        "''')\n",
        "\n",
        "dotObj_dfa(DFA3)"
      ],
      "execution_count": null,
      "outputs": [
        {
          "output_type": "execute_result",
          "data": {
            "text/plain": [
              "<graphviz.dot.Digraph at 0x7f2bdb458320>"
            ],
            "image/svg+xml": "<?xml version=\"1.0\" encoding=\"UTF-8\" standalone=\"no\"?>\n<!DOCTYPE svg PUBLIC \"-//W3C//DTD SVG 1.1//EN\"\n \"http://www.w3.org/Graphics/SVG/1.1/DTD/svg11.dtd\">\n<!-- Generated by graphviz version 2.40.1 (20161225.0304)\n -->\n<!-- Title: %3 Pages: 1 -->\n<svg width=\"324pt\" height=\"87pt\"\n viewBox=\"0.00 0.00 323.89 86.70\" xmlns=\"http://www.w3.org/2000/svg\" xmlns:xlink=\"http://www.w3.org/1999/xlink\">\n<g id=\"graph0\" class=\"graph\" transform=\"scale(1 1) rotate(0) translate(4 82.6967)\">\n<title>%3</title>\n<polygon fill=\"#ffffff\" stroke=\"transparent\" points=\"-4,4 -4,-82.6967 319.8893,-82.6967 319.8893,4 -4,4\"/>\n<!-- EMPTY -->\n<g id=\"node1\" class=\"node\">\n<title>EMPTY</title>\n</g>\n<!-- IF -->\n<g id=\"node4\" class=\"node\">\n<title>IF</title>\n<ellipse fill=\"none\" stroke=\"#000000\" cx=\"113.8483\" cy=\"-22.8483\" rx=\"18.724\" ry=\"18.724\"/>\n<ellipse fill=\"none\" stroke=\"#000000\" cx=\"113.8483\" cy=\"-22.8483\" rx=\"22.6977\" ry=\"22.6977\"/>\n<text text-anchor=\"middle\" x=\"113.8483\" y=\"-19.1483\" font-family=\"Times,serif\" font-size=\"14.00\" fill=\"#000000\">IF</text>\n</g>\n<!-- EMPTY&#45;&gt;IF -->\n<g id=\"edge1\" class=\"edge\">\n<title>EMPTY&#45;&gt;IF</title>\n<path fill=\"none\" stroke=\"#000000\" d=\"M54.0033,-22.8483C62.5212,-22.8483 72.0276,-22.8483 80.9112,-22.8483\"/>\n<polygon fill=\"#000000\" stroke=\"#000000\" points=\"80.9572,-26.3484 90.9572,-22.8483 80.9572,-19.3484 80.9572,-26.3484\"/>\n</g>\n<!-- S2 -->\n<g id=\"node2\" class=\"node\">\n<title>S2</title>\n<ellipse fill=\"none\" stroke=\"#000000\" cx=\"295.0911\" cy=\"-22.8483\" rx=\"20.5982\" ry=\"20.5982\"/>\n<text text-anchor=\"middle\" x=\"295.0911\" y=\"-19.1483\" font-family=\"Times,serif\" font-size=\"14.00\" fill=\"#000000\">S2</text>\n</g>\n<!-- S2&#45;&gt;S2 -->\n<g id=\"edge7\" class=\"edge\">\n<title>S2&#45;&gt;S2</title>\n<path fill=\"none\" stroke=\"#000000\" d=\"M287.1312,-42.412C285.9065,-52.5279 288.5599,-61.6465 295.0911,-61.6465 299.2752,-61.6465 301.8678,-57.9042 302.8689,-52.5549\"/>\n<polygon fill=\"#000000\" stroke=\"#000000\" points=\"306.3708,-52.4733 303.0511,-42.412 299.3719,-52.3475 306.3708,-52.4733\"/>\n<text text-anchor=\"middle\" x=\"295.0911\" y=\"-65.4465\" font-family=\"Times,serif\" font-size=\"14.00\" fill=\"#000000\">1 </text>\n</g>\n<!-- S1 -->\n<g id=\"node3\" class=\"node\">\n<title>S1</title>\n<ellipse fill=\"none\" stroke=\"#000000\" cx=\"205.4948\" cy=\"-22.8483\" rx=\"20.5982\" ry=\"20.5982\"/>\n<text text-anchor=\"middle\" x=\"205.4948\" y=\"-19.1483\" font-family=\"Times,serif\" font-size=\"14.00\" fill=\"#000000\">S1</text>\n</g>\n<!-- S2&#45;&gt;S1 -->\n<g id=\"edge6\" class=\"edge\">\n<title>S2&#45;&gt;S1</title>\n<path fill=\"none\" stroke=\"#000000\" d=\"M277.1796,-11.9656C270.8173,-8.6807 263.4534,-5.5075 256.293,-3.8483 248.2954,-1.9952 239.8532,-3.6082 232.1969,-6.5413\"/>\n<polygon fill=\"#000000\" stroke=\"#000000\" points=\"230.6112,-3.4186 223.0119,-10.801 233.5563,-9.7689 230.6112,-3.4186\"/>\n<text text-anchor=\"middle\" x=\"250.293\" y=\"-7.6483\" font-family=\"Times,serif\" font-size=\"14.00\" fill=\"#000000\">0 </text>\n</g>\n<!-- S1&#45;&gt;S2 -->\n<g id=\"edge4\" class=\"edge\">\n<title>S1&#45;&gt;S2</title>\n<path fill=\"none\" stroke=\"#000000\" d=\"M226.7279,-22.8483C237.7744,-22.8483 251.4933,-22.8483 263.736,-22.8483\"/>\n<polygon fill=\"#000000\" stroke=\"#000000\" points=\"264.0105,-26.3484 274.0105,-22.8483 264.0104,-19.3484 264.0105,-26.3484\"/>\n<text text-anchor=\"middle\" x=\"250.293\" y=\"-26.6483\" font-family=\"Times,serif\" font-size=\"14.00\" fill=\"#000000\">0 </text>\n</g>\n<!-- S1&#45;&gt;IF -->\n<g id=\"edge5\" class=\"edge\">\n<title>S1&#45;&gt;IF</title>\n<path fill=\"none\" stroke=\"#000000\" d=\"M187.5833,-11.9656C181.221,-8.6807 173.8571,-5.5075 166.6967,-3.8483 158.6824,-1.9913 150.2101,-3.4224 142.4523,-6.1758\"/>\n<polygon fill=\"#000000\" stroke=\"#000000\" points=\"140.8848,-3.0404 133.0961,-10.2227 143.6638,-9.4651 140.8848,-3.0404\"/>\n<text text-anchor=\"middle\" x=\"160.6967\" y=\"-7.6483\" font-family=\"Times,serif\" font-size=\"14.00\" fill=\"#000000\">1 </text>\n</g>\n<!-- IF&#45;&gt;S1 -->\n<g id=\"edge3\" class=\"edge\">\n<title>IF&#45;&gt;S1</title>\n<path fill=\"none\" stroke=\"#000000\" d=\"M136.9746,-22.8483C148.2941,-22.8483 162.0857,-22.8483 174.3202,-22.8483\"/>\n<polygon fill=\"#000000\" stroke=\"#000000\" points=\"174.5698,-26.3484 184.5698,-22.8483 174.5697,-19.3484 174.5698,-26.3484\"/>\n<text text-anchor=\"middle\" x=\"160.6967\" y=\"-26.6483\" font-family=\"Times,serif\" font-size=\"14.00\" fill=\"#000000\">1 </text>\n</g>\n<!-- IF&#45;&gt;IF -->\n<g id=\"edge2\" class=\"edge\">\n<title>IF&#45;&gt;IF</title>\n<path fill=\"none\" stroke=\"#000000\" d=\"M106.4966,-44.7016C105.6946,-54.8392 108.1452,-63.6967 113.8483,-63.6967 117.5019,-63.6967 119.8206,-60.0616 120.8045,-54.7835\"/>\n<polygon fill=\"#000000\" stroke=\"#000000\" points=\"124.3052,-54.8311 121.2,-44.7016 117.3106,-54.5566 124.3052,-54.8311\"/>\n<text text-anchor=\"middle\" x=\"113.8483\" y=\"-67.4967\" font-family=\"Times,serif\" font-size=\"14.00\" fill=\"#000000\">0 </text>\n</g>\n</g>\n</svg>\n"
          },
          "metadata": {
            "tags": []
          },
          "execution_count": 6
        }
      ]
    },
    {
      "cell_type": "markdown",
      "metadata": {
        "run_control": {
          "frozen": false,
          "read_only": false
        },
        "id": "em-9tb4eQ2AK"
      },
      "source": [
        "# DFA for \"contains 100\""
      ]
    },
    {
      "cell_type": "code",
      "metadata": {
        "run_control": {
          "frozen": false,
          "read_only": false
        },
        "id": "I6B7c_uJQ2AL",
        "colab": {
          "base_uri": "https://localhost:8080/"
        },
        "outputId": "4ef8e140-a652-430e-aa8f-75cb6dee5fc4"
      },
      "source": [
        "DFA100 = md2mc(''' DFA\n",
        "\n",
        "I : 0 -> I\n",
        "I : 1 -> S1\n",
        "\n",
        "S1  : 0 -> S10\n",
        "S1  : 1 -> S1\n",
        "\n",
        "S10 : 0 -> F\n",
        "S10 : 1 -> S1\n",
        "\n",
        "\n",
        "F   : 0|1 -> F\n",
        "\n",
        "''')"
      ],
      "execution_count": null,
      "outputs": [
        {
          "output_type": "stream",
          "text": [
            "Generating LALR tables\n"
          ],
          "name": "stderr"
        }
      ]
    },
    {
      "cell_type": "code",
      "metadata": {
        "id": "N8-1W8YPQ2AL",
        "colab": {
          "base_uri": "https://localhost:8080/",
          "height": 184
        },
        "outputId": "d2fe3440-bb9a-4214-8941-4f6cc9fdf551"
      },
      "source": [
        "dotObj_dfa(DFA100)"
      ],
      "execution_count": null,
      "outputs": [
        {
          "output_type": "execute_result",
          "data": {
            "text/plain": [
              "<graphviz.dot.Digraph at 0x7f2bd7b08780>"
            ],
            "image/svg+xml": "<?xml version=\"1.0\" encoding=\"UTF-8\" standalone=\"no\"?>\n<!DOCTYPE svg PUBLIC \"-//W3C//DTD SVG 1.1//EN\"\n \"http://www.w3.org/Graphics/SVG/1.1/DTD/svg11.dtd\">\n<!-- Generated by graphviz version 2.40.1 (20161225.0304)\n -->\n<!-- Title: %3 Pages: 1 -->\n<svg width=\"417pt\" height=\"122pt\"\n viewBox=\"0.00 0.00 416.59 122.00\" xmlns=\"http://www.w3.org/2000/svg\" xmlns:xlink=\"http://www.w3.org/1999/xlink\">\n<g id=\"graph0\" class=\"graph\" transform=\"scale(1 1) rotate(0) translate(4 117.9977)\">\n<title>%3</title>\n<polygon fill=\"#ffffff\" stroke=\"transparent\" points=\"-4,4 -4,-117.9977 412.5917,-117.9977 412.5917,4 -4,4\"/>\n<!-- EMPTY -->\n<g id=\"node1\" class=\"node\">\n<title>EMPTY</title>\n</g>\n<!-- I -->\n<g id=\"node2\" class=\"node\">\n<title>I</title>\n<ellipse fill=\"none\" stroke=\"#000000\" cx=\"109\" cy=\"-25.9977\" rx=\"18\" ry=\"18\"/>\n<text text-anchor=\"middle\" x=\"109\" y=\"-22.2977\" font-family=\"Times,serif\" font-size=\"14.00\" fill=\"#000000\">I</text>\n</g>\n<!-- EMPTY&#45;&gt;I -->\n<g id=\"edge1\" class=\"edge\">\n<title>EMPTY&#45;&gt;I</title>\n<path fill=\"none\" stroke=\"#000000\" d=\"M54.3048,-25.9977C62.6909,-25.9977 71.9407,-25.9977 80.4103,-25.9977\"/>\n<polygon fill=\"#000000\" stroke=\"#000000\" points=\"80.5976,-29.4978 90.5976,-25.9977 80.5976,-22.4978 80.5976,-29.4978\"/>\n</g>\n<!-- I&#45;&gt;I -->\n<g id=\"edge2\" class=\"edge\">\n<title>I&#45;&gt;I</title>\n<path fill=\"none\" stroke=\"#000000\" d=\"M102.6208,-43.035C101.3189,-52.8556 103.4453,-61.9977 109,-61.9977 112.4717,-61.9977 114.6042,-58.4266 115.3975,-53.3506\"/>\n<polygon fill=\"#000000\" stroke=\"#000000\" points=\"118.8971,-53.0287 115.3792,-43.035 111.8971,-53.0412 118.8971,-53.0287\"/>\n<text text-anchor=\"middle\" x=\"109\" y=\"-65.7977\" font-family=\"Times,serif\" font-size=\"14.00\" fill=\"#000000\">0 </text>\n</g>\n<!-- S1 -->\n<g id=\"node3\" class=\"node\">\n<title>S1</title>\n<ellipse fill=\"none\" stroke=\"#000000\" cx=\"195.7982\" cy=\"-25.9977\" rx=\"20.5982\" ry=\"20.5982\"/>\n<text text-anchor=\"middle\" x=\"195.7982\" y=\"-22.2977\" font-family=\"Times,serif\" font-size=\"14.00\" fill=\"#000000\">S1</text>\n</g>\n<!-- I&#45;&gt;S1 -->\n<g id=\"edge3\" class=\"edge\">\n<title>I&#45;&gt;S1</title>\n<path fill=\"none\" stroke=\"#000000\" d=\"M127.4077,-25.9977C138.2934,-25.9977 152.3613,-25.9977 164.9052,-25.9977\"/>\n<polygon fill=\"#000000\" stroke=\"#000000\" points=\"164.9803,-29.4978 174.9802,-25.9977 164.9802,-22.4978 164.9803,-29.4978\"/>\n<text text-anchor=\"middle\" x=\"151\" y=\"-29.7977\" font-family=\"Times,serif\" font-size=\"14.00\" fill=\"#000000\">1 </text>\n</g>\n<!-- S1&#45;&gt;S1 -->\n<g id=\"edge5\" class=\"edge\">\n<title>S1&#45;&gt;S1</title>\n<path fill=\"none\" stroke=\"#000000\" d=\"M187.8382,-45.5614C186.6136,-55.6773 189.2669,-64.7958 195.7982,-64.7958 199.9822,-64.7958 202.5748,-61.0536 203.5759,-55.7042\"/>\n<polygon fill=\"#000000\" stroke=\"#000000\" points=\"207.0778,-55.6226 203.7581,-45.5614 200.079,-55.4968 207.0778,-55.6226\"/>\n<text text-anchor=\"middle\" x=\"195.7982\" y=\"-68.5958\" font-family=\"Times,serif\" font-size=\"14.00\" fill=\"#000000\">1 </text>\n</g>\n<!-- S10 -->\n<g id=\"node4\" class=\"node\">\n<title>S10</title>\n<ellipse fill=\"none\" stroke=\"#000000\" cx=\"290.594\" cy=\"-25.9977\" rx=\"25.9954\" ry=\"25.9954\"/>\n<text text-anchor=\"middle\" x=\"290.594\" y=\"-22.2977\" font-family=\"Times,serif\" font-size=\"14.00\" fill=\"#000000\">S10</text>\n</g>\n<!-- S1&#45;&gt;S10 -->\n<g id=\"edge4\" class=\"edge\">\n<title>S1&#45;&gt;S10</title>\n<path fill=\"none\" stroke=\"#000000\" d=\"M216.8364,-25.9977C227.8309,-25.9977 241.5999,-25.9977 254.2549,-25.9977\"/>\n<polygon fill=\"#000000\" stroke=\"#000000\" points=\"254.5378,-29.4978 264.5378,-25.9977 254.5378,-22.4978 254.5378,-29.4978\"/>\n<text text-anchor=\"middle\" x=\"240.5963\" y=\"-29.7977\" font-family=\"Times,serif\" font-size=\"14.00\" fill=\"#000000\">0 </text>\n</g>\n<!-- S10&#45;&gt;S1 -->\n<g id=\"edge7\" class=\"edge\">\n<title>S10&#45;&gt;S1</title>\n<path fill=\"none\" stroke=\"#000000\" d=\"M268.275,-12.3841C258.1326,-7.7741 245.8977,-4.379 234.5963,-6.9977 230.6805,-7.905 226.7038,-9.2652 222.8633,-10.8488\"/>\n<polygon fill=\"#000000\" stroke=\"#000000\" points=\"221.2951,-7.7182 213.7097,-15.115 224.2522,-14.0629 221.2951,-7.7182\"/>\n<text text-anchor=\"middle\" x=\"240.5963\" y=\"-10.7977\" font-family=\"Times,serif\" font-size=\"14.00\" fill=\"#000000\">1 </text>\n</g>\n<!-- F -->\n<g id=\"node5\" class=\"node\">\n<title>F</title>\n<ellipse fill=\"none\" stroke=\"#000000\" cx=\"386.5917\" cy=\"-25.9977\" rx=\"18\" ry=\"18\"/>\n<ellipse fill=\"none\" stroke=\"#000000\" cx=\"386.5917\" cy=\"-25.9977\" rx=\"22\" ry=\"22\"/>\n<text text-anchor=\"middle\" x=\"386.5917\" y=\"-22.2977\" font-family=\"Times,serif\" font-size=\"14.00\" fill=\"#000000\">F</text>\n</g>\n<!-- S10&#45;&gt;F -->\n<g id=\"edge6\" class=\"edge\">\n<title>S10&#45;&gt;F</title>\n<path fill=\"none\" stroke=\"#000000\" d=\"M316.8258,-25.9977C328.3328,-25.9977 341.9573,-25.9977 354.0988,-25.9977\"/>\n<polygon fill=\"#000000\" stroke=\"#000000\" points=\"354.2964,-29.4978 364.2964,-25.9977 354.2964,-22.4978 354.2964,-29.4978\"/>\n<text text-anchor=\"middle\" x=\"340.5917\" y=\"-29.7977\" font-family=\"Times,serif\" font-size=\"14.00\" fill=\"#000000\">0 </text>\n</g>\n<!-- F&#45;&gt;F -->\n<g id=\"edge8\" class=\"edge\">\n<title>F&#45;&gt;F</title>\n<path fill=\"none\" stroke=\"#000000\" d=\"M382.3466,-47.8043C381.9423,-57.5602 383.3573,-65.9977 386.5917,-65.9977 388.6132,-65.9977 389.924,-62.7018 390.5241,-57.8481\"/>\n<polygon fill=\"#000000\" stroke=\"#000000\" points=\"394.0238,-57.9084 390.8368,-47.8043 387.0272,-57.6905 394.0238,-57.9084\"/>\n<text text-anchor=\"middle\" x=\"386.5917\" y=\"-69.7977\" font-family=\"Times,serif\" font-size=\"14.00\" fill=\"#000000\">0 </text>\n</g>\n<!-- F&#45;&gt;F -->\n<g id=\"edge9\" class=\"edge\">\n<title>F&#45;&gt;F</title>\n<path fill=\"none\" stroke=\"#000000\" d=\"M379.3902,-46.8107C376.1052,-64.8815 378.5058,-83.9977 386.5917,-83.9977 393.1615,-83.9977 395.9781,-71.378 395.0414,-56.9529\"/>\n<polygon fill=\"#000000\" stroke=\"#000000\" points=\"398.4885,-56.3083 393.7932,-46.8107 391.5409,-57.1633 398.4885,-56.3083\"/>\n<text text-anchor=\"middle\" x=\"386.5917\" y=\"-87.7977\" font-family=\"Times,serif\" font-size=\"14.00\" fill=\"#000000\">1 </text>\n</g>\n</g>\n</svg>\n"
          },
          "metadata": {
            "tags": []
          },
          "execution_count": 3
        }
      ]
    },
    {
      "cell_type": "code",
      "metadata": {
        "id": "a83rsQWNQ2AL",
        "colab": {
          "base_uri": "https://localhost:8080/"
        },
        "outputId": "23a3fbdd-6536-4543-ac96-efadd687a85e"
      },
      "source": [
        "help(intersect_dfa)"
      ],
      "execution_count": null,
      "outputs": [
        {
          "output_type": "stream",
          "text": [
            "Help on function intersect_dfa in module jove.Def_DFA:\n",
            "\n",
            "intersect_dfa(D1in, D2in)\n",
            "    In : D1in (consistent DFA)\n",
            "         D2in (consistent DFA)\n",
            "    Out: DFA for language intersection of D1in, D2in (consistent DFA).\n",
            "\n"
          ],
          "name": "stdout"
        }
      ]
    },
    {
      "cell_type": "code",
      "metadata": {
        "id": "pC3CmakFQ2AL"
      },
      "source": [
        "DFA3_100 = intersect_dfa(DFA3, DFA100)"
      ],
      "execution_count": null,
      "outputs": []
    },
    {
      "cell_type": "code",
      "metadata": {
        "id": "5zYNXHCDQ2AM",
        "colab": {
          "base_uri": "https://localhost:8080/",
          "height": 456
        },
        "outputId": "054e8937-e884-401d-8b4c-12de6e647007"
      },
      "source": [
        "min_DFA3_100 = min_dfa(DFA3_100)\n",
        "dotObj_dfa(min_DFA3_100)"
      ],
      "execution_count": null,
      "outputs": [
        {
          "output_type": "execute_result",
          "data": {
            "text/plain": [
              "<graphviz.dot.Digraph at 0x7f2bd7b64be0>"
            ],
            "image/svg+xml": "<?xml version=\"1.0\" encoding=\"UTF-8\" standalone=\"no\"?>\n<!DOCTYPE svg PUBLIC \"-//W3C//DTD SVG 1.1//EN\"\n \"http://www.w3.org/Graphics/SVG/1.1/DTD/svg11.dtd\">\n<!-- Generated by graphviz version 2.40.1 (20161225.0304)\n -->\n<!-- Title: %3 Pages: 1 -->\n<svg width=\"1349pt\" height=\"311pt\"\n viewBox=\"0.00 0.00 1348.83 311.00\" xmlns=\"http://www.w3.org/2000/svg\" xmlns:xlink=\"http://www.w3.org/1999/xlink\">\n<g id=\"graph0\" class=\"graph\" transform=\"scale(1 1) rotate(0) translate(4 307)\">\n<title>%3</title>\n<polygon fill=\"#ffffff\" stroke=\"transparent\" points=\"-4,4 -4,-307 1344.8281,-307 1344.8281,4 -4,4\"/>\n<!-- EMPTY -->\n<g id=\"node1\" class=\"node\">\n<title>EMPTY</title>\n</g>\n<!-- \\(IF_I\\) -->\n<g id=\"node5\" class=\"node\">\n<title>\\(IF_I\\)</title>\n<ellipse fill=\"none\" stroke=\"#000000\" cx=\"123.4971\" cy=\"-88\" rx=\"32.4942\" ry=\"32.4942\"/>\n<text text-anchor=\"middle\" x=\"123.4971\" y=\"-84.3\" font-family=\"Times,serif\" font-size=\"14.00\" fill=\"#000000\">(IF_I)</text>\n</g>\n<!-- EMPTY&#45;&gt;\\(IF_I\\) -->\n<g id=\"edge1\" class=\"edge\">\n<title>EMPTY&#45;&gt;\\(IF_I\\)</title>\n<path fill=\"none\" stroke=\"#000000\" d=\"M54.1366,-88C62.3991,-88 71.6905,-88 80.7226,-88\"/>\n<polygon fill=\"#000000\" stroke=\"#000000\" points=\"80.7414,-91.5001 90.7413,-88 80.7413,-84.5001 80.7414,-91.5001\"/>\n</g>\n<!-- \\(S1_F\\) -->\n<g id=\"node2\" class=\"node\">\n<title>\\(S1_F\\)</title>\n<ellipse fill=\"none\" stroke=\"#000000\" cx=\"1181.688\" cy=\"-212\" rx=\"37.0935\" ry=\"37.0935\"/>\n<text text-anchor=\"middle\" x=\"1181.688\" y=\"-208.3\" font-family=\"Times,serif\" font-size=\"14.00\" fill=\"#000000\">(S1_F)</text>\n</g>\n<!-- \\(S2_F\\) -->\n<g id=\"node3\" class=\"node\">\n<title>\\(S2_F\\)</title>\n<ellipse fill=\"none\" stroke=\"#000000\" cx=\"1303.7814\" cy=\"-174\" rx=\"37.0935\" ry=\"37.0935\"/>\n<text text-anchor=\"middle\" x=\"1303.7814\" y=\"-170.3\" font-family=\"Times,serif\" font-size=\"14.00\" fill=\"#000000\">(S2_F)</text>\n</g>\n<!-- \\(S1_F\\)&#45;&gt;\\(S2_F\\) -->\n<g id=\"edge7\" class=\"edge\">\n<title>\\(S1_F\\)&#45;&gt;\\(S2_F\\)</title>\n<path fill=\"none\" stroke=\"#000000\" d=\"M1217.3307,-200.9067C1230.2443,-196.8875 1245.0038,-192.2938 1258.6281,-188.0534\"/>\n<polygon fill=\"#000000\" stroke=\"#000000\" points=\"1259.7974,-191.3551 1268.3055,-185.0414 1257.7171,-184.6714 1259.7974,-191.3551\"/>\n<text text-anchor=\"middle\" x=\"1242.7347\" y=\"-197.8\" font-family=\"Times,serif\" font-size=\"14.00\" fill=\"#000000\">0 </text>\n</g>\n<!-- \\(IF_F\\) -->\n<g id=\"node11\" class=\"node\">\n<title>\\(IF_F\\)</title>\n<ellipse fill=\"none\" stroke=\"#000000\" cx=\"1057.5444\" cy=\"-191\" rx=\"35.1841\" ry=\"35.1841\"/>\n<ellipse fill=\"none\" stroke=\"#000000\" cx=\"1057.5444\" cy=\"-191\" rx=\"39.194\" ry=\"39.194\"/>\n<text text-anchor=\"middle\" x=\"1057.5444\" y=\"-187.3\" font-family=\"Times,serif\" font-size=\"14.00\" fill=\"#000000\">(IF_F)</text>\n</g>\n<!-- \\(S1_F\\)&#45;&gt;\\(IF_F\\) -->\n<g id=\"edge11\" class=\"edge\">\n<title>\\(S1_F\\)&#45;&gt;\\(IF_F\\)</title>\n<path fill=\"none\" stroke=\"#000000\" d=\"M1144.811,-205.7619C1132.7075,-203.7145 1119.0645,-201.4067 1106.2244,-199.2347\"/>\n<polygon fill=\"#000000\" stroke=\"#000000\" points=\"1106.5874,-195.7464 1096.1437,-197.5294 1105.4198,-202.6484 1106.5874,-195.7464\"/>\n<text text-anchor=\"middle\" x=\"1120.6413\" y=\"-205.8\" font-family=\"Times,serif\" font-size=\"14.00\" fill=\"#000000\">1 </text>\n</g>\n<!-- \\(S2_F\\)&#45;&gt;\\(S1_F\\) -->\n<g id=\"edge2\" class=\"edge\">\n<title>\\(S2_F\\)&#45;&gt;\\(S1_F\\)</title>\n<path fill=\"none\" stroke=\"#000000\" d=\"M1266.6413,-170.7859C1256.742,-170.9409 1246.1781,-172.0441 1236.7347,-175 1230.6769,-176.8962 1224.6756,-179.6913 1218.9874,-182.9104\"/>\n<polygon fill=\"#000000\" stroke=\"#000000\" points=\"1217.0118,-180.0168 1210.3432,-188.2496 1220.6904,-185.9723 1217.0118,-180.0168\"/>\n<text text-anchor=\"middle\" x=\"1242.7347\" y=\"-178.8\" font-family=\"Times,serif\" font-size=\"14.00\" fill=\"#000000\">0 </text>\n</g>\n<!-- \\(S2_F\\)&#45;&gt;\\(S2_F\\) -->\n<g id=\"edge17\" class=\"edge\">\n<title>\\(S2_F\\)&#45;&gt;\\(S2_F\\)</title>\n<path fill=\"none\" stroke=\"#000000\" d=\"M1292.5424,-209.4724C1292.7695,-220.4367 1296.5158,-229.0467 1303.7814,-229.0467 1308.5495,-229.0467 1311.8019,-225.3387 1313.5387,-219.6907\"/>\n<polygon fill=\"#000000\" stroke=\"#000000\" points=\"1317.0491,-219.8712 1315.0204,-209.4724 1310.1215,-218.8666 1317.0491,-219.8712\"/>\n<text text-anchor=\"middle\" x=\"1303.7814\" y=\"-232.8467\" font-family=\"Times,serif\" font-size=\"14.00\" fill=\"#000000\">1 </text>\n</g>\n<!-- \\(IF_S1\\) -->\n<g id=\"node4\" class=\"node\">\n<title>\\(IF_S1\\)</title>\n<ellipse fill=\"none\" stroke=\"#000000\" cx=\"792.4591\" cy=\"-54\" rx=\"40.0939\" ry=\"40.0939\"/>\n<text text-anchor=\"middle\" x=\"792.4591\" y=\"-50.3\" font-family=\"Times,serif\" font-size=\"14.00\" fill=\"#000000\">(IF_S1)</text>\n</g>\n<!-- \\(IF_S10\\) -->\n<g id=\"node6\" class=\"node\">\n<title>\\(IF_S10\\)</title>\n<ellipse fill=\"none\" stroke=\"#000000\" cx=\"925.6015\" cy=\"-197\" rx=\"44.6926\" ry=\"44.6926\"/>\n<text text-anchor=\"middle\" x=\"925.6015\" y=\"-193.3\" font-family=\"Times,serif\" font-size=\"14.00\" fill=\"#000000\">(IF_S10)</text>\n</g>\n<!-- \\(IF_S1\\)&#45;&gt;\\(IF_S10\\) -->\n<g id=\"edge16\" class=\"edge\">\n<title>\\(IF_S1\\)&#45;&gt;\\(IF_S10\\)</title>\n<path fill=\"none\" stroke=\"#000000\" d=\"M820.0463,-83.6297C839.7718,-104.8157 866.548,-133.5743 888.1957,-156.8247\"/>\n<polygon fill=\"#000000\" stroke=\"#000000\" points=\"885.6526,-159.2296 895.0285,-164.1635 890.7758,-154.4596 885.6526,-159.2296\"/>\n<text text-anchor=\"middle\" x=\"856.7555\" y=\"-128.8\" font-family=\"Times,serif\" font-size=\"14.00\" fill=\"#000000\">0 </text>\n</g>\n<!-- \\(S1_S1\\) -->\n<g id=\"node7\" class=\"node\">\n<title>\\(S1_S1\\)</title>\n<ellipse fill=\"none\" stroke=\"#000000\" cx=\"246.2405\" cy=\"-88\" rx=\"42.4939\" ry=\"42.4939\"/>\n<text text-anchor=\"middle\" x=\"246.2405\" y=\"-84.3\" font-family=\"Times,serif\" font-size=\"14.00\" fill=\"#000000\">(S1_S1)</text>\n</g>\n<!-- \\(IF_S1\\)&#45;&gt;\\(S1_S1\\) -->\n<g id=\"edge21\" class=\"edge\">\n<title>\\(IF_S1\\)&#45;&gt;\\(S1_S1\\)</title>\n<path fill=\"none\" stroke=\"#000000\" d=\"M751.9714,-52.6317C725.1384,-51.8405 689.1541,-51 657.3668,-51 383.2826,-51 383.2826,-51 383.2826,-51 353.2358,-51 320.7244,-59.3926 294.9115,-68.1837\"/>\n<polygon fill=\"#000000\" stroke=\"#000000\" points=\"293.6288,-64.9248 285.3656,-71.5558 295.9604,-71.5251 293.6288,-64.9248\"/>\n<text text-anchor=\"middle\" x=\"520.3247\" y=\"-54.8\" font-family=\"Times,serif\" font-size=\"14.00\" fill=\"#000000\">1 </text>\n</g>\n<!-- \\(IF_I\\)&#45;&gt;\\(IF_I\\) -->\n<g id=\"edge6\" class=\"edge\">\n<title>\\(IF_I\\)&#45;&gt;\\(IF_I\\)</title>\n<path fill=\"none\" stroke=\"#000000\" d=\"M114.1221,-119.5607C114.1221,-130.0809 117.2471,-138.4971 123.4971,-138.4971 127.501,-138.4971 130.2224,-135.0431 131.6613,-129.7946\"/>\n<polygon fill=\"#000000\" stroke=\"#000000\" points=\"135.1729,-129.9027 132.8721,-119.5607 128.2214,-129.0802 135.1729,-129.9027\"/>\n<text text-anchor=\"middle\" x=\"123.4971\" y=\"-142.2971\" font-family=\"Times,serif\" font-size=\"14.00\" fill=\"#000000\">0 </text>\n</g>\n<!-- \\(IF_I\\)&#45;&gt;\\(S1_S1\\) -->\n<g id=\"edge20\" class=\"edge\">\n<title>\\(IF_I\\)&#45;&gt;\\(S1_S1\\)</title>\n<path fill=\"none\" stroke=\"#000000\" d=\"M156.0678,-88C167.6123,-88 180.9151,-88 193.6962,-88\"/>\n<polygon fill=\"#000000\" stroke=\"#000000\" points=\"193.7911,-91.5001 203.791,-88 193.791,-84.5001 193.7911,-91.5001\"/>\n<text text-anchor=\"middle\" x=\"179.9942\" y=\"-91.8\" font-family=\"Times,serif\" font-size=\"14.00\" fill=\"#000000\">1 </text>\n</g>\n<!-- \\(IF_S10\\)&#45;&gt;\\(S1_S1\\) -->\n<g id=\"edge13\" class=\"edge\">\n<title>\\(IF_S10\\)&#45;&gt;\\(S1_S1\\)</title>\n<path fill=\"none\" stroke=\"#000000\" d=\"M883.1011,-211.5891C819.4462,-232.1041 695.2035,-267 586.5709,-267 383.2826,-267 383.2826,-267 383.2826,-267 318.2512,-267 279.9056,-191.5921 261.0007,-138.6642\"/>\n<polygon fill=\"#000000\" stroke=\"#000000\" points=\"264.2607,-137.3813 257.6949,-129.0662 257.6423,-139.6609 264.2607,-137.3813\"/>\n<text text-anchor=\"middle\" x=\"586.5709\" y=\"-270.8\" font-family=\"Times,serif\" font-size=\"14.00\" fill=\"#000000\">1 </text>\n</g>\n<!-- \\(IF_S10\\)&#45;&gt;\\(IF_F\\) -->\n<g id=\"edge5\" class=\"edge\">\n<title>\\(IF_S10\\)&#45;&gt;\\(IF_F\\)</title>\n<path fill=\"none\" stroke=\"#000000\" d=\"M970.6397,-194.9519C982.771,-194.4003 995.9558,-193.8007 1008.3034,-193.2392\"/>\n<polygon fill=\"#000000\" stroke=\"#000000\" points=\"1008.6064,-196.7291 1018.437,-192.7784 1008.2883,-189.7364 1008.6064,-196.7291\"/>\n<text text-anchor=\"middle\" x=\"994.4475\" y=\"-197.8\" font-family=\"Times,serif\" font-size=\"14.00\" fill=\"#000000\">0 </text>\n</g>\n<!-- \\(S1_S1\\)&#45;&gt;\\(IF_S1\\) -->\n<g id=\"edge10\" class=\"edge\">\n<title>\\(S1_S1\\)&#45;&gt;\\(IF_S1\\)</title>\n<path fill=\"none\" stroke=\"#000000\" d=\"M274.4367,-56.23C300.0504,-31.0234 340.3047,0 383.2826,0 383.2826,0 383.2826,0 657.3668,0 689.76,0 723.6018,-13.5528 749.3109,-27.0791\"/>\n<polygon fill=\"#000000\" stroke=\"#000000\" points=\"747.9421,-30.3193 758.3969,-32.0361 751.2946,-24.1743 747.9421,-30.3193\"/>\n<text text-anchor=\"middle\" x=\"520.3247\" y=\"-3.8\" font-family=\"Times,serif\" font-size=\"14.00\" fill=\"#000000\">1 </text>\n</g>\n<!-- \\(S2_S10\\) -->\n<g id=\"node8\" class=\"node\">\n<title>\\(S2_S10\\)</title>\n<ellipse fill=\"none\" stroke=\"#000000\" cx=\"383.2826\" cy=\"-126\" rx=\"46.5926\" ry=\"46.5926\"/>\n<text text-anchor=\"middle\" x=\"383.2826\" y=\"-122.3\" font-family=\"Times,serif\" font-size=\"14.00\" fill=\"#000000\">(S2_S10)</text>\n</g>\n<!-- \\(S1_S1\\)&#45;&gt;\\(S2_S10\\) -->\n<g id=\"edge9\" class=\"edge\">\n<title>\\(S1_S1\\)&#45;&gt;\\(S2_S10\\)</title>\n<path fill=\"none\" stroke=\"#000000\" d=\"M286.9866,-99.2984C299.9384,-102.8897 314.4838,-106.923 328.2696,-110.7456\"/>\n<polygon fill=\"#000000\" stroke=\"#000000\" points=\"327.5683,-114.1831 338.1399,-113.4825 329.4388,-107.4377 327.5683,-114.1831\"/>\n<text text-anchor=\"middle\" x=\"312.4867\" y=\"-110.8\" font-family=\"Times,serif\" font-size=\"14.00\" fill=\"#000000\">0 </text>\n</g>\n<!-- \\(S2_S10\\)&#45;&gt;\\(S1_F\\) -->\n<g id=\"edge4\" class=\"edge\">\n<title>\\(S2_S10\\)&#45;&gt;\\(S1_F\\)</title>\n<path fill=\"none\" stroke=\"#000000\" d=\"M414.7532,-161.4303C431.8549,-178.5775 454.3313,-197.9997 478.0784,-210 516.4806,-229.4061 813.7285,-291 856.7555,-291 856.7555,-291 856.7555,-291 1057.5444,-291 1092.8905,-291 1126.2927,-267.9238 1149.5274,-246.7152\"/>\n<polygon fill=\"#000000\" stroke=\"#000000\" points=\"1152.1533,-249.0488 1157.0054,-239.6304 1147.3389,-243.9673 1152.1533,-249.0488\"/>\n<text text-anchor=\"middle\" x=\"792.4591\" y=\"-291.8\" font-family=\"Times,serif\" font-size=\"14.00\" fill=\"#000000\">0 </text>\n</g>\n<!-- \\(S2_S1\\) -->\n<g id=\"node10\" class=\"node\">\n<title>\\(S2_S1\\)</title>\n<ellipse fill=\"none\" stroke=\"#000000\" cx=\"520.3247\" cy=\"-126\" rx=\"42.4939\" ry=\"42.4939\"/>\n<text text-anchor=\"middle\" x=\"520.3247\" y=\"-122.3\" font-family=\"Times,serif\" font-size=\"14.00\" fill=\"#000000\">(S2_S1)</text>\n</g>\n<!-- \\(S2_S10\\)&#45;&gt;\\(S2_S1\\) -->\n<g id=\"edge14\" class=\"edge\">\n<title>\\(S2_S10\\)&#45;&gt;\\(S2_S1\\)</title>\n<path fill=\"none\" stroke=\"#000000\" d=\"M430.4447,-126C442.4213,-126 455.3652,-126 467.5988,-126\"/>\n<polygon fill=\"#000000\" stroke=\"#000000\" points=\"467.671,-129.5001 477.671,-126 467.671,-122.5001 467.671,-129.5001\"/>\n<text text-anchor=\"middle\" x=\"454.0784\" y=\"-129.8\" font-family=\"Times,serif\" font-size=\"14.00\" fill=\"#000000\">1 </text>\n</g>\n<!-- \\(S1_S10\\) -->\n<g id=\"node9\" class=\"node\">\n<title>\\(S1_S10\\)</title>\n<ellipse fill=\"none\" stroke=\"#000000\" cx=\"657.3668\" cy=\"-126\" rx=\"46.5926\" ry=\"46.5926\"/>\n<text text-anchor=\"middle\" x=\"657.3668\" y=\"-122.3\" font-family=\"Times,serif\" font-size=\"14.00\" fill=\"#000000\">(S1_S10)</text>\n</g>\n<!-- \\(S1_S10\\)&#45;&gt;\\(S2_F\\) -->\n<g id=\"edge19\" class=\"edge\">\n<title>\\(S1_S10\\)&#45;&gt;\\(S2_F\\)</title>\n<path fill=\"none\" stroke=\"#000000\" d=\"M704.2542,-124.9649C730.2432,-124.4768 763.1389,-124 792.4591,-124 792.4591,-124 792.4591,-124 1181.688,-124 1210.7053,-124 1240.9025,-136.2442 1264.0059,-148.6143\"/>\n<polygon fill=\"#000000\" stroke=\"#000000\" points=\"1262.3726,-151.7109 1272.8121,-153.5188 1265.7786,-145.5954 1262.3726,-151.7109\"/>\n<text text-anchor=\"middle\" x=\"994.4475\" y=\"-127.8\" font-family=\"Times,serif\" font-size=\"14.00\" fill=\"#000000\">0 </text>\n</g>\n<!-- \\(S1_S10\\)&#45;&gt;\\(IF_S1\\) -->\n<g id=\"edge12\" class=\"edge\">\n<title>\\(S1_S10\\)&#45;&gt;\\(IF_S1\\)</title>\n<path fill=\"none\" stroke=\"#000000\" d=\"M699.0012,-103.8101C714.4253,-95.5896 731.974,-86.2367 747.6672,-77.8727\"/>\n<polygon fill=\"#000000\" stroke=\"#000000\" points=\"749.484,-80.8705 756.6627,-73.0784 746.1916,-74.6931 749.484,-80.8705\"/>\n<text text-anchor=\"middle\" x=\"728.1626\" y=\"-93.8\" font-family=\"Times,serif\" font-size=\"14.00\" fill=\"#000000\">1 </text>\n</g>\n<!-- \\(S2_S1\\)&#45;&gt;\\(S1_S10\\) -->\n<g id=\"edge3\" class=\"edge\">\n<title>\\(S2_S1\\)&#45;&gt;\\(S1_S10\\)</title>\n<path fill=\"none\" stroke=\"#000000\" d=\"M562.9344,-126C574.7203,-126 587.7056,-126 600.1759,-126\"/>\n<polygon fill=\"#000000\" stroke=\"#000000\" points=\"600.4922,-129.5001 610.4922,-126 600.4922,-122.5001 600.4922,-129.5001\"/>\n<text text-anchor=\"middle\" x=\"586.5709\" y=\"-129.8\" font-family=\"Times,serif\" font-size=\"14.00\" fill=\"#000000\">0 </text>\n</g>\n<!-- \\(S2_S1\\)&#45;&gt;\\(S2_S1\\) -->\n<g id=\"edge15\" class=\"edge\">\n<title>\\(S2_S1\\)&#45;&gt;\\(S2_S1\\)</title>\n<path fill=\"none\" stroke=\"#000000\" d=\"M508.0252,-166.5461C508.6194,-177.7128 512.7192,-186.2463 520.3247,-186.2463 525.4346,-186.2463 528.962,-182.3941 530.9069,-176.4793\"/>\n<polygon fill=\"#000000\" stroke=\"#000000\" points=\"534.3694,-176.9962 532.6242,-166.5461 527.4717,-175.8037 534.3694,-176.9962\"/>\n<text text-anchor=\"middle\" x=\"520.3247\" y=\"-190.0463\" font-family=\"Times,serif\" font-size=\"14.00\" fill=\"#000000\">1 </text>\n</g>\n<!-- \\(IF_F\\)&#45;&gt;\\(S1_F\\) -->\n<g id=\"edge8\" class=\"edge\">\n<title>\\(IF_F\\)&#45;&gt;\\(S1_F\\)</title>\n<path fill=\"none\" stroke=\"#000000\" d=\"M1095.867,-182.569C1105.9671,-181.5811 1116.7921,-181.639 1126.6413,-184 1131.2844,-185.113 1135.9778,-186.6861 1140.5635,-188.5254\"/>\n<polygon fill=\"#000000\" stroke=\"#000000\" points=\"1139.2143,-191.7558 1149.7744,-192.6129 1142.0537,-185.3575 1139.2143,-191.7558\"/>\n<text text-anchor=\"middle\" x=\"1120.6413\" y=\"-187.8\" font-family=\"Times,serif\" font-size=\"14.00\" fill=\"#000000\">1 </text>\n</g>\n<!-- \\(IF_F\\)&#45;&gt;\\(IF_F\\) -->\n<g id=\"edge18\" class=\"edge\">\n<title>\\(IF_F\\)&#45;&gt;\\(IF_F\\)</title>\n<path fill=\"none\" stroke=\"#000000\" d=\"M1045.9449,-228.3419C1046.2912,-239.452 1050.1577,-248.0969 1057.5444,-248.0969 1062.5074,-248.0969 1065.8812,-244.1944 1067.666,-238.2638\"/>\n<polygon fill=\"#000000\" stroke=\"#000000\" points=\"1071.1323,-238.7484 1069.1439,-228.3419 1064.2087,-237.7171 1071.1323,-238.7484\"/>\n<text text-anchor=\"middle\" x=\"1057.5444\" y=\"-251.8969\" font-family=\"Times,serif\" font-size=\"14.00\" fill=\"#000000\">0 </text>\n</g>\n</g>\n</svg>\n"
          },
          "metadata": {
            "tags": []
          },
          "execution_count": 9
        }
      ]
    },
    {
      "cell_type": "code",
      "metadata": {
        "id": "pPVCZP9aQ2AM",
        "colab": {
          "base_uri": "https://localhost:8080/"
        },
        "outputId": "8148f558-9f2c-4b4a-c0ae-a8e48d73a146"
      },
      "source": [
        "len(DFA3_100[\"Q\"])"
      ],
      "execution_count": null,
      "outputs": [
        {
          "output_type": "execute_result",
          "data": {
            "text/plain": [
              "10"
            ]
          },
          "metadata": {
            "tags": []
          },
          "execution_count": 10
        }
      ]
    },
    {
      "cell_type": "code",
      "metadata": {
        "id": "W_DLt6JhQ2AN",
        "colab": {
          "base_uri": "https://localhost:8080/"
        },
        "outputId": "ced8e099-6aa9-40bd-cee2-4dd0731a41f9"
      },
      "source": [
        "len(min_DFA3_100[\"Q\"])"
      ],
      "execution_count": null,
      "outputs": [
        {
          "output_type": "execute_result",
          "data": {
            "text/plain": [
              "10"
            ]
          },
          "metadata": {
            "tags": []
          },
          "execution_count": 11
        }
      ]
    },
    {
      "cell_type": "markdown",
      "metadata": {
        "id": "Igg4lb8UQ2AO"
      },
      "source": [
        "# Observation: even the minimal DFA can be large!"
      ]
    },
    {
      "cell_type": "markdown",
      "metadata": {
        "id": "KCjNwSZhQ2AO"
      },
      "source": [
        "# Illustrate Regular Expression to generate test DFA"
      ]
    },
    {
      "cell_type": "code",
      "metadata": {
        "id": "sJd5_EOkQ2AO",
        "colab": {
          "base_uri": "https://localhost:8080/"
        },
        "outputId": "7785967a-5fdc-4ca7-a3a7-f76be4e18290"
      },
      "source": [
        "re2nfa('00*(0+1*)')"
      ],
      "execution_count": null,
      "outputs": [
        {
          "output_type": "stream",
          "text": [
            "Generating LALR tables\n"
          ],
          "name": "stderr"
        },
        {
          "output_type": "execute_result",
          "data": {
            "text/plain": [
              "{'Delta': {('St1', '0'): {'St2'},\n",
              "  ('St10', ''): {'St8'},\n",
              "  ('St2', ''): {'St5'},\n",
              "  ('St3', '0'): {'St4'},\n",
              "  ('St4', ''): {'St5'},\n",
              "  ('St5', ''): {'St10', 'St3', 'St6'},\n",
              "  ('St6', '0'): {'St7'},\n",
              "  ('St8', '1'): {'St9'},\n",
              "  ('St9', ''): {'St10'}},\n",
              " 'F': {'St10', 'St7'},\n",
              " 'Q': {'St1', 'St10', 'St2', 'St3', 'St4', 'St5', 'St6', 'St7', 'St8', 'St9'},\n",
              " 'Q0': {'St1'},\n",
              " 'Sigma': {'0', '1'}}"
            ]
          },
          "metadata": {
            "tags": []
          },
          "execution_count": 12
        }
      ]
    },
    {
      "cell_type": "code",
      "metadata": {
        "id": "a5Ok-wBdQ2AP",
        "colab": {
          "base_uri": "https://localhost:8080/"
        },
        "outputId": "276794ff-7487-4f31-ab49-59173fb83702"
      },
      "source": [
        "nd = nfa2dfa(re2nfa('00*(0+1*)'))"
      ],
      "execution_count": null,
      "outputs": [
        {
          "output_type": "stream",
          "text": [
            "Generating LALR tables\n"
          ],
          "name": "stderr"
        }
      ]
    },
    {
      "cell_type": "code",
      "metadata": {
        "id": "gTJZ7t0MQ2AP"
      },
      "source": [
        "mnd = min_dfa(nd, state_name_mode='verbose')"
      ],
      "execution_count": null,
      "outputs": []
    },
    {
      "cell_type": "code",
      "metadata": {
        "id": "LQZGfaycQ2AQ",
        "colab": {
          "base_uri": "https://localhost:8080/"
        },
        "outputId": "8fedcce5-af48-4fa2-d3cf-893c9015fd9c"
      },
      "source": [
        "help(min_dfa)"
      ],
      "execution_count": null,
      "outputs": [
        {
          "output_type": "stream",
          "text": [
            "Help on function min_dfa in module jove.Def_DFA:\n",
            "\n",
            "min_dfa(D, state_name_mode='succinct', chatty=False)\n",
            "    The top-level callable DFA minimizer.\n",
            "    \n",
            "    In : D (consistent DFA to be minimized)\n",
            "    Out: Minimized version of D.\n",
            "    \n",
            "    Given a DFA D, go through the state minimization algorithm.\n",
            "    \n",
            "    Setting chatty=True helps reveal the detailed steps. Please try it!        \n",
            "    \n",
            "    If the state_name_mode is verbose, we will make state names\n",
            "    by stringing together the state names in the equivalence\n",
            "    classes. If 'succinct', then only the name of the equivalence-class\n",
            "    representative is retained.\n",
            "\n"
          ],
          "name": "stdout"
        }
      ]
    },
    {
      "cell_type": "code",
      "metadata": {
        "id": "Aved5OX6Q2AR",
        "colab": {
          "base_uri": "https://localhost:8080/"
        },
        "outputId": "42b058b1-8075-49da-b525-d78ea592c6de"
      },
      "source": [
        "len(nd[\"Q\"])"
      ],
      "execution_count": null,
      "outputs": [
        {
          "output_type": "execute_result",
          "data": {
            "text/plain": [
              "5"
            ]
          },
          "metadata": {
            "tags": []
          },
          "execution_count": 17
        }
      ]
    },
    {
      "cell_type": "code",
      "metadata": {
        "id": "TV1S_4BYQ2AR",
        "colab": {
          "base_uri": "https://localhost:8080/"
        },
        "outputId": "1bf67cc1-3e8e-4ea4-bc7e-ae991aab6626"
      },
      "source": [
        "len(mnd[\"Q\"])"
      ],
      "execution_count": null,
      "outputs": [
        {
          "output_type": "execute_result",
          "data": {
            "text/plain": [
              "4"
            ]
          },
          "metadata": {
            "tags": []
          },
          "execution_count": 18
        }
      ]
    },
    {
      "cell_type": "code",
      "metadata": {
        "id": "Ahdyp2SMQ2AR",
        "colab": {
          "base_uri": "https://localhost:8080/",
          "height": 213
        },
        "outputId": "24007fe3-6a00-4d33-866a-d03f2a8d5cdc"
      },
      "source": [
        "dotObj_dfa(nd, STATENAME_MAXSIZE=40)"
      ],
      "execution_count": null,
      "outputs": [
        {
          "output_type": "execute_result",
          "data": {
            "text/plain": [
              "<graphviz.dot.Digraph at 0x7f2bd79a8780>"
            ],
            "image/svg+xml": "<?xml version=\"1.0\" encoding=\"UTF-8\" standalone=\"no\"?>\n<!DOCTYPE svg PUBLIC \"-//W3C//DTD SVG 1.1//EN\"\n \"http://www.w3.org/Graphics/SVG/1.1/DTD/svg11.dtd\">\n<!-- Generated by graphviz version 2.40.1 (20161225.0304)\n -->\n<!-- Title: %3 Pages: 1 -->\n<svg width=\"454pt\" height=\"144pt\"\n viewBox=\"0.00 0.00 454.18 143.80\" xmlns=\"http://www.w3.org/2000/svg\" xmlns:xlink=\"http://www.w3.org/1999/xlink\">\n<g id=\"graph0\" class=\"graph\" transform=\"scale(1 1) rotate(0) translate(4 139.7958)\">\n<title>%3</title>\n<polygon fill=\"#ffffff\" stroke=\"transparent\" points=\"-4,4 -4,-139.7958 450.1834,-139.7958 450.1834,4 -4,4\"/>\n<!-- EMPTY -->\n<g id=\"node1\" class=\"node\">\n<title>EMPTY</title>\n</g>\n<!-- St1 -->\n<g id=\"node2\" class=\"node\">\n<title>St1</title>\n<ellipse fill=\"none\" stroke=\"#000000\" cx=\"114.3979\" cy=\"-75.3979\" rx=\"23.2963\" ry=\"23.2963\"/>\n<text text-anchor=\"middle\" x=\"114.3979\" y=\"-71.6979\" font-family=\"Times,serif\" font-size=\"14.00\" fill=\"#000000\">St1</text>\n</g>\n<!-- EMPTY&#45;&gt;St1 -->\n<g id=\"edge1\" class=\"edge\">\n<title>EMPTY&#45;&gt;St1</title>\n<path fill=\"none\" stroke=\"#000000\" d=\"M54.1742,-75.3979C62.5103,-75.3979 71.7873,-75.3979 80.5137,-75.3979\"/>\n<polygon fill=\"#000000\" stroke=\"#000000\" points=\"80.7846,-78.898 90.7846,-75.3979 80.7845,-71.898 80.7846,-78.898\"/>\n</g>\n<!-- St2 -->\n<g id=\"node5\" class=\"node\">\n<title>St2</title>\n<ellipse fill=\"none\" stroke=\"#000000\" cx=\"213.1938\" cy=\"-75.3979\" rx=\"23.3111\" ry=\"23.3111\"/>\n<ellipse fill=\"none\" stroke=\"#000000\" cx=\"213.1938\" cy=\"-75.3979\" rx=\"27.2962\" ry=\"27.2962\"/>\n<text text-anchor=\"middle\" x=\"213.1938\" y=\"-71.6979\" font-family=\"Times,serif\" font-size=\"14.00\" fill=\"#000000\">St2</text>\n</g>\n<!-- St1&#45;&gt;St2 -->\n<g id=\"edge2\" class=\"edge\">\n<title>St1&#45;&gt;St2</title>\n<path fill=\"none\" stroke=\"#000000\" d=\"M137.8112,-75.3979C149.0451,-75.3979 162.7854,-75.3979 175.4437,-75.3979\"/>\n<polygon fill=\"#000000\" stroke=\"#000000\" points=\"175.7434,-78.898 185.7433,-75.3979 175.7433,-71.898 175.7434,-78.898\"/>\n<text text-anchor=\"middle\" x=\"161.7958\" y=\"-79.1979\" font-family=\"Times,serif\" font-size=\"14.00\" fill=\"#000000\">0 </text>\n</g>\n<!-- St4 -->\n<g id=\"node3\" class=\"node\">\n<title>St4</title>\n<ellipse fill=\"none\" stroke=\"#000000\" cx=\"418.7855\" cy=\"-75.3979\" rx=\"23.3111\" ry=\"23.3111\"/>\n<ellipse fill=\"none\" stroke=\"#000000\" cx=\"418.7855\" cy=\"-75.3979\" rx=\"27.2962\" ry=\"27.2962\"/>\n<text text-anchor=\"middle\" x=\"418.7855\" y=\"-71.6979\" font-family=\"Times,serif\" font-size=\"14.00\" fill=\"#000000\">St4</text>\n</g>\n<!-- St4&#45;&gt;St4 -->\n<g id=\"edge5\" class=\"edge\">\n<title>St4&#45;&gt;St4</title>\n<path fill=\"none\" stroke=\"#000000\" d=\"M409.4677,-101.523C408.9413,-112.0011 412.0472,-120.7958 418.7855,-120.7958 423.1022,-120.7958 425.9282,-117.1865 427.2634,-111.8374\"/>\n<polygon fill=\"#000000\" stroke=\"#000000\" points=\"430.7801,-111.7741 428.1032,-101.523 423.8032,-111.206 430.7801,-111.7741\"/>\n<text text-anchor=\"middle\" x=\"418.7855\" y=\"-124.5958\" font-family=\"Times,serif\" font-size=\"14.00\" fill=\"#000000\">1 </text>\n</g>\n<!-- St3 -->\n<g id=\"node4\" class=\"node\">\n<title>St3</title>\n<ellipse fill=\"none\" stroke=\"#000000\" cx=\"315.9896\" cy=\"-27.3979\" rx=\"23.3111\" ry=\"23.3111\"/>\n<ellipse fill=\"none\" stroke=\"#000000\" cx=\"315.9896\" cy=\"-27.3979\" rx=\"27.2962\" ry=\"27.2962\"/>\n<text text-anchor=\"middle\" x=\"315.9896\" y=\"-23.6979\" font-family=\"Times,serif\" font-size=\"14.00\" fill=\"#000000\">St3</text>\n</g>\n<!-- St3&#45;&gt;St4 -->\n<g id=\"edge6\" class=\"edge\">\n<title>St3&#45;&gt;St4</title>\n<path fill=\"none\" stroke=\"#000000\" d=\"M340.8736,-39.0174C354.0341,-45.1626 370.3882,-52.7991 384.7102,-59.4866\"/>\n<polygon fill=\"#000000\" stroke=\"#000000\" points=\"383.2326,-62.6594 393.7743,-63.7191 386.1943,-56.3168 383.2326,-62.6594\"/>\n<text text-anchor=\"middle\" x=\"367.3875\" y=\"-56.1979\" font-family=\"Times,serif\" font-size=\"14.00\" fill=\"#000000\">1 </text>\n</g>\n<!-- St3&#45;&gt;St3 -->\n<g id=\"edge7\" class=\"edge\">\n<title>St3&#45;&gt;St3</title>\n<path fill=\"none\" stroke=\"#000000\" d=\"M306.6718,-53.523C306.1454,-64.0011 309.2513,-72.7958 315.9896,-72.7958 320.3063,-72.7958 323.1323,-69.1865 324.4676,-63.8374\"/>\n<polygon fill=\"#000000\" stroke=\"#000000\" points=\"327.9842,-63.7741 325.3074,-53.523 321.0073,-63.206 327.9842,-63.7741\"/>\n<text text-anchor=\"middle\" x=\"315.9896\" y=\"-76.5958\" font-family=\"Times,serif\" font-size=\"14.00\" fill=\"#000000\">0 </text>\n</g>\n<!-- St2&#45;&gt;St4 -->\n<g id=\"edge3\" class=\"edge\">\n<title>St2&#45;&gt;St4</title>\n<path fill=\"none\" stroke=\"#000000\" d=\"M239.3439,-84.5703C253.6861,-89.1182 271.8975,-94.1165 288.5917,-96.3979 312.7211,-99.6955 319.2581,-99.6955 343.3875,-96.3979 356.4298,-94.6156 370.3983,-91.1749 382.7242,-87.5863\"/>\n<polygon fill=\"#000000\" stroke=\"#000000\" points=\"384.0875,-90.83 392.6353,-84.5703 382.0495,-84.1333 384.0875,-90.83\"/>\n<text text-anchor=\"middle\" x=\"315.9896\" y=\"-102.1979\" font-family=\"Times,serif\" font-size=\"14.00\" fill=\"#000000\">1 </text>\n</g>\n<!-- St2&#45;&gt;St3 -->\n<g id=\"edge4\" class=\"edge\">\n<title>St2&#45;&gt;St3</title>\n<path fill=\"none\" stroke=\"#000000\" d=\"M238.0778,-63.7785C251.2382,-57.6333 267.5924,-49.9968 281.9143,-43.3092\"/>\n<polygon fill=\"#000000\" stroke=\"#000000\" points=\"283.3984,-46.479 290.9785,-39.0767 280.4368,-40.1364 283.3984,-46.479\"/>\n<text text-anchor=\"middle\" x=\"264.5917\" y=\"-56.1979\" font-family=\"Times,serif\" font-size=\"14.00\" fill=\"#000000\">0 </text>\n</g>\n</g>\n</svg>\n"
          },
          "metadata": {
            "tags": []
          },
          "execution_count": 19
        }
      ]
    },
    {
      "cell_type": "code",
      "metadata": {
        "scrolled": true,
        "id": "p7S1Pz2_Q2AS",
        "colab": {
          "base_uri": "https://localhost:8080/",
          "height": 196
        },
        "outputId": "20c9857c-938f-4709-f879-e67a028da093"
      },
      "source": [
        "dotObj_dfa(mnd)"
      ],
      "execution_count": null,
      "outputs": [
        {
          "output_type": "execute_result",
          "data": {
            "text/plain": [
              "<graphviz.dot.Digraph at 0x7f2bd79a8860>"
            ],
            "image/svg+xml": "<?xml version=\"1.0\" encoding=\"UTF-8\" standalone=\"no\"?>\n<!DOCTYPE svg PUBLIC \"-//W3C//DTD SVG 1.1//EN\"\n \"http://www.w3.org/Graphics/SVG/1.1/DTD/svg11.dtd\">\n<!-- Generated by graphviz version 2.40.1 (20161225.0304)\n -->\n<!-- Title: %3 Pages: 1 -->\n<svg width=\"386pt\" height=\"131pt\"\n viewBox=\"0.00 0.00 386.48 130.89\" xmlns=\"http://www.w3.org/2000/svg\" xmlns:xlink=\"http://www.w3.org/1999/xlink\">\n<g id=\"graph0\" class=\"graph\" transform=\"scale(1 1) rotate(0) translate(4 126.8927)\">\n<title>%3</title>\n<polygon fill=\"#ffffff\" stroke=\"transparent\" points=\"-4,4 -4,-126.8927 382.4844,-126.8927 382.4844,4 -4,4\"/>\n<!-- EMPTY -->\n<g id=\"node1\" class=\"node\">\n<title>EMPTY</title>\n</g>\n<!-- St1 -->\n<g id=\"node2\" class=\"node\">\n<title>St1</title>\n<ellipse fill=\"none\" stroke=\"#000000\" cx=\"114.3979\" cy=\"-44.9464\" rx=\"23.2963\" ry=\"23.2963\"/>\n<text text-anchor=\"middle\" x=\"114.3979\" y=\"-41.2464\" font-family=\"Times,serif\" font-size=\"14.00\" fill=\"#000000\">St1</text>\n</g>\n<!-- EMPTY&#45;&gt;St1 -->\n<g id=\"edge1\" class=\"edge\">\n<title>EMPTY&#45;&gt;St1</title>\n<path fill=\"none\" stroke=\"#000000\" d=\"M54.1742,-44.9464C62.5103,-44.9464 71.7873,-44.9464 80.5137,-44.9464\"/>\n<polygon fill=\"#000000\" stroke=\"#000000\" points=\"80.7846,-48.4465 90.7846,-44.9464 80.7845,-41.4465 80.7846,-48.4465\"/>\n</g>\n<!-- St3_St2 -->\n<g id=\"node4\" class=\"node\">\n<title>St3_St2</title>\n<ellipse fill=\"none\" stroke=\"#000000\" cx=\"230.7422\" cy=\"-44.9464\" rx=\"40.8976\" ry=\"40.8976\"/>\n<ellipse fill=\"none\" stroke=\"#000000\" cx=\"230.7422\" cy=\"-44.9464\" rx=\"44.8928\" ry=\"44.8928\"/>\n<text text-anchor=\"middle\" x=\"230.7422\" y=\"-41.2464\" font-family=\"Times,serif\" font-size=\"14.00\" fill=\"#000000\">St3_St2</text>\n</g>\n<!-- St1&#45;&gt;St3_St2 -->\n<g id=\"edge2\" class=\"edge\">\n<title>St1&#45;&gt;St3_St2</title>\n<path fill=\"none\" stroke=\"#000000\" d=\"M137.9419,-44.9464C148.8417,-44.9464 162.2916,-44.9464 175.536,-44.9464\"/>\n<polygon fill=\"#000000\" stroke=\"#000000\" points=\"175.5784,-48.4465 185.5783,-44.9464 175.5783,-41.4465 175.5784,-48.4465\"/>\n<text text-anchor=\"middle\" x=\"161.7958\" y=\"-48.7464\" font-family=\"Times,serif\" font-size=\"14.00\" fill=\"#000000\">0 </text>\n</g>\n<!-- St4 -->\n<g id=\"node3\" class=\"node\">\n<title>St4</title>\n<ellipse fill=\"none\" stroke=\"#000000\" cx=\"351.0865\" cy=\"-44.9464\" rx=\"23.3111\" ry=\"23.3111\"/>\n<ellipse fill=\"none\" stroke=\"#000000\" cx=\"351.0865\" cy=\"-44.9464\" rx=\"27.2962\" ry=\"27.2962\"/>\n<text text-anchor=\"middle\" x=\"351.0865\" y=\"-41.2464\" font-family=\"Times,serif\" font-size=\"14.00\" fill=\"#000000\">St4</text>\n</g>\n<!-- St4&#45;&gt;St4 -->\n<g id=\"edge5\" class=\"edge\">\n<title>St4&#45;&gt;St4</title>\n<path fill=\"none\" stroke=\"#000000\" d=\"M341.7687,-71.0714C341.2423,-81.5496 344.3482,-90.3443 351.0865,-90.3443 355.4032,-90.3443 358.2292,-86.7349 359.5645,-81.3859\"/>\n<polygon fill=\"#000000\" stroke=\"#000000\" points=\"363.0811,-81.3225 360.4043,-71.0714 356.1042,-80.7544 363.0811,-81.3225\"/>\n<text text-anchor=\"middle\" x=\"351.0865\" y=\"-94.1443\" font-family=\"Times,serif\" font-size=\"14.00\" fill=\"#000000\">1 </text>\n</g>\n<!-- St3_St2&#45;&gt;St4 -->\n<g id=\"edge3\" class=\"edge\">\n<title>St3_St2&#45;&gt;St4</title>\n<path fill=\"none\" stroke=\"#000000\" d=\"M275.8964,-44.9464C288.2768,-44.9464 301.5633,-44.9464 313.4716,-44.9464\"/>\n<polygon fill=\"#000000\" stroke=\"#000000\" points=\"313.5243,-48.4465 323.5243,-44.9464 313.5242,-41.4465 313.5243,-48.4465\"/>\n<text text-anchor=\"middle\" x=\"299.6886\" y=\"-48.7464\" font-family=\"Times,serif\" font-size=\"14.00\" fill=\"#000000\">1 </text>\n</g>\n<!-- St3_St2&#45;&gt;St3_St2 -->\n<g id=\"edge4\" class=\"edge\">\n<title>St3_St2&#45;&gt;St3_St2</title>\n<path fill=\"none\" stroke=\"#000000\" d=\"M218.1237,-88.1941C218.8993,-99.4245 223.1055,-107.8927 230.7422,-107.8927 235.8731,-107.8927 239.4554,-104.07 241.4892,-98.1552\"/>\n<polygon fill=\"#000000\" stroke=\"#000000\" points=\"244.9539,-98.6684 243.3607,-88.1941 238.0743,-97.3758 244.9539,-98.6684\"/>\n<text text-anchor=\"middle\" x=\"230.7422\" y=\"-111.6927\" font-family=\"Times,serif\" font-size=\"14.00\" fill=\"#000000\">0 </text>\n</g>\n</g>\n</svg>\n"
          },
          "metadata": {
            "tags": []
          },
          "execution_count": 20
        }
      ]
    },
    {
      "cell_type": "markdown",
      "metadata": {
        "id": "tlNElKuPSx4s"
      },
      "source": [
        "#Done\r\n",
        "We read and understood the material."
      ]
    },
    {
      "cell_type": "code",
      "metadata": {
        "id": "r3hIRL8JS6eL"
      },
      "source": [
        ""
      ],
      "execution_count": null,
      "outputs": []
    }
  ]
}