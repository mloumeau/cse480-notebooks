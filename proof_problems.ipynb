{
  "nbformat": 4,
  "nbformat_minor": 0,
  "metadata": {
    "colab": {
      "name": "proof_problems.ipynb",
      "provenance": [],
      "include_colab_link": true
    },
    "kernelspec": {
      "name": "python3",
      "display_name": "Python 3"
    }
  },
  "cells": [
    {
      "cell_type": "markdown",
      "metadata": {
        "id": "view-in-github",
        "colab_type": "text"
      },
      "source": [
        "<a href=\"https://colab.research.google.com/github/mloumeau/cse480-notebooks/blob/master/proof_problems.ipynb\" target=\"_parent\"><img src=\"https://colab.research.google.com/assets/colab-badge.svg\" alt=\"Open In Colab\"/></a>"
      ]
    },
    {
      "cell_type": "markdown",
      "metadata": {
        "id": "NJbnmTGuC2yN"
      },
      "source": [
        "# Look at a Series of Proof Problems\n",
        "Think about how you would go about trying to solve these problems.\n",
        "\n",
        "In other words, how would you approach trying to prove each one?\n",
        "\n",
        "It will be good warm-up for next week's exploration of the Pumping Lemma for Regular Languages."
      ]
    },
    {
      "cell_type": "markdown",
      "metadata": {
        "id": "-OdWAKyfFPkx"
      },
      "source": [
        "## Easiest Proof Problem"
      ]
    },
    {
      "cell_type": "markdown",
      "metadata": {
        "id": "5fMk--buC87a"
      },
      "source": [
        "Prove that if $a \\equiv_5 b$ where $a$ and $b$ are integers, then $a^2 \\equiv_5 b^2$.\n",
        "\n",
        "What about the converse?"
      ]
    },
    {
      "cell_type": "markdown",
      "metadata": {
        "id": "c95PEdirFUdr"
      },
      "source": [
        "## Easy Proof Problem"
      ]
    },
    {
      "cell_type": "markdown",
      "metadata": {
        "id": "n376QHhFDP8V"
      },
      "source": [
        "Prove that for every natural number $n$, there exist integers $a$ and $b$ such that $n = 3a + 7b$.\n",
        "\n",
        "Can you generalize this result?"
      ]
    },
    {
      "cell_type": "markdown",
      "metadata": {
        "id": "SsFkn_PuFZOp"
      },
      "source": [
        "## Hard Proof Problem"
      ]
    },
    {
      "cell_type": "markdown",
      "metadata": {
        "id": "euibTihmDjRp"
      },
      "source": [
        "Show that for $n \\ge 2$, the sum $1 + \\frac{1}{2} + \\cdots + \\frac{1}{n}$ is never an integer.\n",
        "\n",
        "In other words, for $n \\ge 2$, $\\sum_{i = 1}^n \\frac{1}{i}$ is never an integer."
      ]
    },
    {
      "cell_type": "markdown",
      "metadata": {
        "id": "cfVwMa5yFiz7"
      },
      "source": [
        "## Harder Proof Problem"
      ]
    },
    {
      "cell_type": "markdown",
      "metadata": {
        "id": "AFljtCEUDv-G"
      },
      "source": [
        "Given that\n",
        "$$\\frac{1}{n(n+1)} = \\frac{1}{n} - \\frac{1}{n+1},$$\n",
        "what is the value of the summation\n",
        "$$\\sum_{n=1}^\\infty \\frac{b(n)}{n(n+1)},$$\n",
        "\n",
        "where $b(n)$ counts the number of ones in the binary expansion of $n$?\n",
        "\n",
        "The harder question is, why does this value converge to the number it does? Can you find an expression in common mathematical symbols (using 5 or fewer characters) for this value? And what does binary expansion have to do with why this value is what it is? How would you prove it?\n",
        "\n",
        "Hint: you may find it helpful at some point to refer to the so-called [Theoretical Computer Science Cheat Sheet](https://www.tug.org/texshowcase/cheat.pdf)."
      ]
    },
    {
      "cell_type": "markdown",
      "metadata": {
        "id": "Xo6QG65dJjPz"
      },
      "source": [
        "# Our Answer\r\n",
        "After consulting with others, we have learned that b(n) = b(2n), and b(2n + 1) = b(2n) + 1.\r\n",
        "\r\n",
        "For example, with the table below as reference, we can test n = 9.\r\n",
        "\r\n",
        "b(9) = 2\r\n",
        "b(2(9)) = 2\r\n",
        "\r\n",
        "b(2(9) + 1) = 3\r\n",
        "b(2(9)) + 1 = 3"
      ]
    },
    {
      "cell_type": "markdown",
      "metadata": {
        "id": "h8IqjwQKO1D0"
      },
      "source": [
        "https://mathworld.wolfram.com/Binary.html\r\n",
        "\r\n",
        "00) 0\\\r\n",
        "01) 1\\\r\n",
        "02) 1\\\r\n",
        "03) 2\r\n",
        "\r\n",
        "<br>\r\n",
        "\r\n",
        "04) 1\\\r\n",
        "05) 2\\\r\n",
        "06) 2\\\r\n",
        "07) 3\r\n",
        "\r\n",
        "\r\n",
        "<br>\r\n",
        "\r\n",
        "08) 1\\\r\n",
        "09) 2\\\r\n",
        "10) 2\\\r\n",
        "11) 3\r\n",
        "\r\n",
        "\r\n",
        "<br>\r\n",
        "\r\n",
        "12) 2\\\r\n",
        "13) 3\\\r\n",
        "14) 3\\\r\n",
        "15) 4\r\n",
        "\r\n",
        "<br>\r\n",
        "\r\n",
        "16) 1\\\r\n",
        "17) 2\\\r\n",
        "18) 2\\\r\n",
        "19) 3\r\n",
        "\r\n",
        "<br>\r\n",
        "\r\n",
        "20) 2\\\r\n",
        "21) 3\\\r\n",
        "22) 3\\\r\n",
        "23) 4\r\n",
        "\r\n",
        "<br>\r\n",
        "\r\n",
        "24) 2\\\r\n",
        "25) 3\\\r\n",
        "26) 3\\\r\n",
        "27) 4\r\n",
        "\r\n",
        "<br>\r\n",
        "\r\n",
        "28) 3\\\r\n",
        "29) 4\\\r\n",
        "30) 4\\\r\n",
        "31) 5\r\n",
        "\r\n",
        "<br>\r\n",
        "\r\n",
        "32) 1\\\r\n",
        "33) 2\\\r\n",
        "34) 2\\\r\n",
        "35) 3\r\n",
        "\r\n",
        "<br>\r\n",
        "\r\n",
        "36) 2\\\r\n",
        "37) 3\\\r\n",
        "38) 3\\\r\n",
        "39) 4\r\n",
        "\r\n",
        "<br>\r\n",
        "\r\n",
        "40) 2\\\r\n",
        "41) 3\\\r\n",
        "42) 3\\\r\n",
        "43) 4\r\n",
        "\r\n",
        "<br>\r\n",
        "\r\n",
        "44) 3\\\r\n",
        "45) 4\\\r\n",
        "46) 4\\\r\n",
        "47) 5\r\n",
        "\r\n",
        "<br>\r\n",
        "\r\n",
        "48) 2\\\r\n",
        "49) 3\\\r\n",
        "50) 3\\\r\n",
        "51) 4\r\n",
        "\r\n",
        "<br>\r\n",
        "\r\n",
        "52) 3\\\r\n",
        "53) 4\\\r\n",
        "54) 4\\\r\n",
        "55) 5\r\n",
        "\r\n",
        "<br>\r\n",
        "\r\n",
        "56) 3\\\r\n",
        "57) 4\\\r\n",
        "58) 4\\\r\n",
        "59) 5\r\n",
        "\r\n",
        "\r\n",
        "<br>\r\n",
        "\r\n",
        "60) 4\\\r\n",
        "61) 5\\\r\n",
        "62) 5\\\r\n",
        "63) 6\r\n",
        "\r\n",
        "<br>\r\n",
        "\r\n",
        "64) 1\\\r\n",
        "65) 2\\\r\n",
        "66) 2\\\r\n",
        "67) 3\r\n",
        "\r\n",
        "<br>\r\n",
        "\r\n",
        "68) 2\\\r\n",
        "69) 3\\\r\n",
        "70) 3\\\r\n",
        "71) 4\r\n",
        "\r\n",
        "<br>\r\n",
        "\r\n",
        "72) 2\\\r\n",
        "73) 3\\\r\n",
        "74) 3\\\r\n",
        "75) 4\r\n",
        "\r\n",
        "<br>\r\n",
        "\r\n",
        "76) 3\\\r\n",
        "77) 4\\\r\n",
        "78) 4\\\r\n",
        "79) 5\r\n",
        "\r\n",
        "<br>\r\n",
        "\r\n",
        "80) 2\\\r\n",
        "81) 3\\\r\n",
        "82) 3\\\r\n",
        "83) 4\r\n",
        "\r\n",
        "<br>\r\n",
        "\r\n",
        "84) 3\\\r\n",
        "85) 4\\\r\n",
        "86) 4\\\r\n",
        "87) 5\r\n",
        "\r\n",
        "<br>\r\n",
        "\r\n",
        "88) 3\\\r\n",
        "89) 4\\\r\n",
        "90) 4\\\r\n",
        "91) 5\r\n",
        "\r\n",
        "<br>\r\n",
        "\r\n",
        "92) 4\\\r\n",
        "93) 5\\\r\n",
        "94) 5\\\r\n",
        "95) 6\r\n",
        "\r\n",
        "<br>\r\n",
        "\r\n",
        "96) 2\\\r\n",
        "97) 3\\\r\n",
        "98) 3\\\r\n",
        "99) 4"
      ]
    },
    {
      "cell_type": "markdown",
      "metadata": {
        "id": "vOJ5QKLGQS98"
      },
      "source": [
        "### Step 1\r\n",
        "The goal is to sum these two principles together. To make things simpler, we will create a function to simplify. Our function, $f(n)$, will be defined as $f(n)$ = $\\frac{b(n)}{n(n+1)}$.\r\n",
        "\r\n",
        "### Step 2\r\n",
        "To sum these two principle together, we will say $f(2n) + f(2n +1)$\r\n",
        "\r\n",
        "\r\n",
        "### Step 3\r\n",
        "To further expand our simplified equation, we will convert it to its original form:\r\n",
        "$\\frac{b(2n)}{2n(2n +1)} + \\frac{b(2n) + 1}{(2n+1)(2n + 2)}$\r\n",
        "\r\n",
        "### Step 4\r\n",
        "To simplify this equation we can use:\r\n",
        "$\\frac{1}{2n+1} - \\frac{1}{2n+2}$\r\n",
        "\r\n",
        "### Step 5\r\n",
        "Because we are using sigma in our original equation, it is imperative that we apply it with our simplified version as well:\r\n",
        "$\\sum_{n=0}^{\\infty} \\frac{1}{2n+1} - \\frac{1}{2n+2}$\r\n",
        "\r\n",
        "### Step 6\r\n",
        "Now we will concretize the first few values of our simplified summing equation:\r\n",
        "\r\n",
        "$\\frac {1}{2(0) + 1} - \\frac{1}{2(0) + 2}$\r\n",
        "= \r\n",
        "$\\frac {1}{1} - \\frac{1}{2}$\r\n",
        "\r\n",
        "\r\n",
        "$\\frac {1}{2(1) + 1} - \\frac{1}{2(1) + 2}$\r\n",
        "= \r\n",
        "$\\frac {1}{3} - \\frac{1}{4}$\r\n",
        "\r\n",
        "\r\n",
        "$\\frac {1}{2(2) + 1} - \\frac{1}{2(2) + 2}$\r\n",
        "= \r\n",
        "$\\frac {1}{5} - \\frac{1}{6}$\r\n",
        "\r\n",
        "Sum the three together:\r\n",
        "\r\n",
        "$1 - \\frac{1}{2} + \\frac{1}{3} - \\frac{1}{4} + \\frac {1}{5} - \\frac{1}{6} ...$\r\n",
        "\r\n",
        "As n increases, the pattern continues of flipping the operating symbol between plus and minus, the numerator stays at 1, and the denominator increases by 1.\r\n",
        "<br><br>\r\n",
        "This sequence is called the **Alternating Harmonic Series**.  We know that this series converges to $ln(2)$\r\n",
        "\r\n",
        "<br>\r\n",
        "\r\n",
        "### Step 7\r\n",
        "Since we know that b(n) = b(2n), we can multiply our original equation by $\\frac{1}{2}$ which equates to:\r\n",
        "\r\n",
        "$\\frac{1}{2}\\sum_{n=1}^\\infty \\frac{b(n)}{n(n+1)}$\r\n",
        "\r\n",
        "Thus this modified equation also equals $ln(2)$. When $ln(2)$ is multiplied by $2$, our result is $ln(4)$."
      ]
    },
    {
      "cell_type": "code",
      "metadata": {
        "id": "0Tt9uT0CUiyg",
        "outputId": "74880170-0334-47f7-afcc-5f7b6f2da36f",
        "colab": {
          "base_uri": "https://localhost:8080/"
        }
      },
      "source": [
        "def onesSequence(n):\r\n",
        "    if n >= 0:\r\n",
        "        if n <= 1:\r\n",
        "            return n\r\n",
        "        return onesSequence(n // 2) + n % 2\r\n",
        "\r\n",
        "def denom(n):\r\n",
        "    return n*(n+1)\r\n",
        "\r\n",
        "q = [onesSequence(x)/denom(x) for x in range(1,1000000)]\r\n",
        "print(sum(q))\r\n",
        "\r\n",
        "from numpy import log as ln\r\n",
        "\r\n",
        "ln(4)"
      ],
      "execution_count": 3,
      "outputs": [
        {
          "output_type": "stream",
          "text": [
            "1.3862831558739863\n"
          ],
          "name": "stdout"
        },
        {
          "output_type": "execute_result",
          "data": {
            "text/plain": [
              "1.3862943611198906"
            ]
          },
          "metadata": {
            "tags": []
          },
          "execution_count": 3
        }
      ]
    },
    {
      "cell_type": "markdown",
      "metadata": {
        "id": "V1Gu8LgaYUoD"
      },
      "source": [
        "# Conclusion\r\n",
        "\r\n",
        "As we can see, our provided answer is very similar to that of $ln(4)$. Since we aren't able to compute up to infinity, we will never be able to get a infinitely precise decimal.  However, the further we iterate, the closer our number converges to $ln(4)$."
      ]
    },
    {
      "cell_type": "markdown",
      "metadata": {
        "id": "q18gZ23MFmKj"
      },
      "source": [
        "## Hardest Proof Problem"
      ]
    },
    {
      "cell_type": "markdown",
      "metadata": {
        "id": "Jl44d2HdE85J"
      },
      "source": [
        "Prove that $a^4 + b^4 + c^4 = d^4$ has no positive integer solutions."
      ]
    }
  ]
}