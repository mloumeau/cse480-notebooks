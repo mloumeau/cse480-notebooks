{
  "nbformat": 4,
  "nbformat_minor": 0,
  "metadata": {
    "kernelspec": {
      "display_name": "Python 3",
      "language": "python",
      "name": "python3"
    },
    "language_info": {
      "codemirror_mode": {
        "name": "ipython",
        "version": 3
      },
      "file_extension": ".py",
      "mimetype": "text/x-python",
      "name": "python",
      "nbconvert_exporter": "python",
      "pygments_lexer": "ipython3",
      "version": "3.9.0"
    },
    "toc": {
      "colors": {
        "hover_highlight": "#DAA520",
        "running_highlight": "#FF0000",
        "selected_highlight": "#FFD700"
      },
      "moveMenuLeft": true,
      "nav_menu": {
        "height": "121px",
        "width": "252px"
      },
      "navigate_menu": true,
      "number_sections": true,
      "sideBar": true,
      "threshold": 4,
      "toc_cell": false,
      "toc_section_display": "block",
      "toc_window_display": false,
      "widenNotebook": false
    },
    "widgets": {
      "application/vnd.jupyter.widget-state+json": {
        "840086e0578049f2b54cf85aabcca8d5": {
          "model_module": "@jupyter-widgets/controls",
          "model_name": "VBoxModel",
          "state": {
            "_view_name": "VBoxView",
            "_dom_classes": [],
            "_model_name": "VBoxModel",
            "_view_module": "@jupyter-widgets/controls",
            "_model_module_version": "1.5.0",
            "_view_count": null,
            "_view_module_version": "1.5.0",
            "box_style": "",
            "layout": "IPY_MODEL_c4c81eec53564f6493b8403e97c92407",
            "_model_module": "@jupyter-widgets/controls",
            "children": [
              "IPY_MODEL_078f954dabca4313a5d4c9182c104f57",
              "IPY_MODEL_73085197a6424b0a831b08459cf74c4f",
              "IPY_MODEL_edb64c44dfd044148a09993cdadaedea",
              "IPY_MODEL_ab7c6cd4a5a04dac9564c7a7ba666d52"
            ]
          }
        },
        "c4c81eec53564f6493b8403e97c92407": {
          "model_module": "@jupyter-widgets/base",
          "model_name": "LayoutModel",
          "state": {
            "_view_name": "LayoutView",
            "grid_template_rows": null,
            "right": null,
            "justify_content": null,
            "_view_module": "@jupyter-widgets/base",
            "overflow": null,
            "_model_module_version": "1.2.0",
            "_view_count": null,
            "flex_flow": null,
            "width": null,
            "min_width": null,
            "border": null,
            "align_items": null,
            "bottom": null,
            "_model_module": "@jupyter-widgets/base",
            "top": null,
            "grid_column": null,
            "overflow_y": null,
            "overflow_x": null,
            "grid_auto_flow": null,
            "grid_area": null,
            "grid_template_columns": null,
            "flex": null,
            "_model_name": "LayoutModel",
            "justify_items": null,
            "grid_row": null,
            "max_height": null,
            "align_content": null,
            "visibility": null,
            "align_self": null,
            "height": null,
            "min_height": null,
            "padding": null,
            "grid_auto_rows": null,
            "grid_gap": null,
            "max_width": null,
            "order": null,
            "_view_module_version": "1.2.0",
            "grid_template_areas": null,
            "object_position": null,
            "object_fit": null,
            "grid_auto_columns": null,
            "margin": null,
            "display": null,
            "left": null
          }
        },
        "078f954dabca4313a5d4c9182c104f57": {
          "model_module": "@jupyter-widgets/controls",
          "model_name": "HBoxModel",
          "state": {
            "_view_name": "HBoxView",
            "_dom_classes": [],
            "_model_name": "HBoxModel",
            "_view_module": "@jupyter-widgets/controls",
            "_model_module_version": "1.5.0",
            "_view_count": null,
            "_view_module_version": "1.5.0",
            "box_style": "",
            "layout": "IPY_MODEL_5150c84c06e040a7b417bd883c6c0d2c",
            "_model_module": "@jupyter-widgets/controls",
            "children": [
              "IPY_MODEL_ece9bde8302046aa940a0f40028feb20",
              "IPY_MODEL_4953203a40ef48cb9bc62d2f2770a320"
            ]
          }
        },
        "73085197a6424b0a831b08459cf74c4f": {
          "model_module": "@jupyter-widgets/output",
          "model_name": "OutputModel",
          "state": {
            "_view_name": "OutputView",
            "msg_id": "",
            "_dom_classes": [],
            "_model_name": "OutputModel",
            "outputs": [
              {
                "output_type": "display_data",
                "metadata": {
                  "tags": []
                },
                "text/plain": "<graphviz.files.Source at 0x7fd5e34da4e0>",
                "image/svg+xml": "<?xml version=\"1.0\" encoding=\"UTF-8\" standalone=\"no\"?>\n<!DOCTYPE svg PUBLIC \"-//W3C//DTD SVG 1.1//EN\"\n \"http://www.w3.org/Graphics/SVG/1.1/DTD/svg11.dtd\">\n<!-- Generated by graphviz version 2.40.1 (20161225.0304)\n -->\n<!-- Title: %3 Pages: 1 -->\n<svg width=\"317pt\" height=\"114pt\"\n viewBox=\"0.00 0.00 316.60 114.00\" xmlns=\"http://www.w3.org/2000/svg\" xmlns:xlink=\"http://www.w3.org/1999/xlink\">\n<g id=\"graph0\" class=\"graph\" transform=\"scale(1 1) rotate(0) translate(4 110)\">\n<title>%3</title>\n<polygon fill=\"#ffffff\" stroke=\"transparent\" points=\"-4,4 -4,-110 312.5963,-110 312.5963,4 -4,4\"/>\n<!-- EMPTY -->\n<g id=\"node1\" class=\"node\">\n<title>EMPTY</title>\n</g>\n<!-- I -->\n<g id=\"node3\" class=\"node\">\n<title>I</title>\n<ellipse fill=\"none\" stroke=\"#000000\" cx=\"109\" cy=\"-22\" rx=\"18\" ry=\"18\"/>\n<text text-anchor=\"middle\" x=\"109\" y=\"-18.3\" font-family=\"Times,serif\" font-size=\"14.00\" fill=\"#000000\">I</text>\n</g>\n<!-- EMPTY&#45;&gt;I -->\n<g id=\"edge1\" class=\"edge\">\n<title>EMPTY&#45;&gt;I</title>\n<path fill=\"none\" stroke=\"#000000\" d=\"M54.3048,-22C62.6909,-22 71.9407,-22 80.4103,-22\"/>\n<polygon fill=\"#000000\" stroke=\"#000000\" points=\"80.5976,-25.5001 90.5976,-22 80.5976,-18.5001 80.5976,-25.5001\"/>\n</g>\n<!-- S0 -->\n<g id=\"node2\" class=\"node\">\n<title>S0</title>\n<ellipse fill=\"none\" stroke=\"#000000\" cx=\"195.7982\" cy=\"-22\" rx=\"20.5982\" ry=\"20.5982\"/>\n<text text-anchor=\"middle\" x=\"195.7982\" y=\"-18.3\" font-family=\"Times,serif\" font-size=\"14.00\" fill=\"#000000\">S0</text>\n</g>\n<!-- F -->\n<g id=\"node4\" class=\"node\">\n<title>F</title>\n<ellipse fill=\"none\" stroke=\"#000000\" cx=\"286.5963\" cy=\"-22\" rx=\"18\" ry=\"18\"/>\n<ellipse fill=\"none\" stroke=\"#000000\" cx=\"286.5963\" cy=\"-22\" rx=\"22\" ry=\"22\"/>\n<text text-anchor=\"middle\" x=\"286.5963\" y=\"-18.3\" font-family=\"Times,serif\" font-size=\"14.00\" fill=\"#000000\">F</text>\n</g>\n<!-- S0&#45;&gt;F -->\n<g id=\"edge5\" class=\"edge\">\n<title>S0&#45;&gt;F</title>\n<path fill=\"none\" stroke=\"#000000\" d=\"M216.8573,-22C227.9898,-22 241.8945,-22 254.3526,-22\"/>\n<polygon fill=\"#000000\" stroke=\"#000000\" points=\"254.3846,-25.5001 264.3846,-22 254.3845,-18.5001 254.3846,-25.5001\"/>\n<text text-anchor=\"start\" x=\"234.5963\" y=\"-25.8\" font-family=\"Times,serif\" font-size=\"14.00\" fill=\"#000000\"> 0</text>\n</g>\n<!-- I&#45;&gt;S0 -->\n<g id=\"edge3\" class=\"edge\">\n<title>I&#45;&gt;S0</title>\n<path fill=\"none\" stroke=\"#000000\" d=\"M127.4077,-22C138.2934,-22 152.3613,-22 164.9052,-22\"/>\n<polygon fill=\"#000000\" stroke=\"#000000\" points=\"164.9803,-25.5001 174.9802,-22 164.9802,-18.5001 164.9803,-25.5001\"/>\n<text text-anchor=\"start\" x=\"145\" y=\"-25.8\" font-family=\"Times,serif\" font-size=\"14.00\" fill=\"#000000\"> 1</text>\n</g>\n<!-- I&#45;&gt;I -->\n<g id=\"edge2\" class=\"edge\">\n<title>I&#45;&gt;I</title>\n<path fill=\"none\" stroke=\"#000000\" d=\"M105.7643,-39.7817C105.2144,-49.3149 106.293,-58 109,-58 110.6496,-58 111.6945,-54.7749 112.1347,-50.0981\"/>\n<polygon fill=\"#000000\" stroke=\"#000000\" points=\"115.6375,-49.8156 112.2357,-39.7817 108.6379,-49.7469 115.6375,-49.8156\"/>\n<text text-anchor=\"start\" x=\"103\" y=\"-61.8\" font-family=\"Times,serif\" font-size=\"14.00\" fill=\"#000000\"> 0</text>\n</g>\n<!-- I&#45;&gt;I -->\n<g id=\"edge4\" class=\"edge\">\n<title>I&#45;&gt;I</title>\n<path fill=\"none\" stroke=\"#000000\" d=\"M103.6841,-39.4203C100.6538,-56.791 102.4258,-76 109,-76 114.2902,-76 116.4708,-63.5617 115.5419,-49.652\"/>\n<polygon fill=\"#000000\" stroke=\"#000000\" points=\"118.9808,-48.9328 114.3159,-39.4203 112.0305,-49.7657 118.9808,-48.9328\"/>\n<text text-anchor=\"start\" x=\"103\" y=\"-79.8\" font-family=\"Times,serif\" font-size=\"14.00\" fill=\"#000000\"> 1</text>\n</g>\n</g>\n</svg>\n"
              }
            ],
            "_view_module": "@jupyter-widgets/output",
            "_model_module_version": "1.0.0",
            "_view_count": null,
            "_view_module_version": "1.0.0",
            "layout": "IPY_MODEL_967f137e77e646418a7e213b68cbabd4",
            "_model_module": "@jupyter-widgets/output"
          }
        },
        "edb64c44dfd044148a09993cdadaedea": {
          "model_module": "@jupyter-widgets/output",
          "model_name": "OutputModel",
          "state": {
            "_view_name": "OutputView",
            "msg_id": "",
            "_dom_classes": [],
            "_model_name": "OutputModel",
            "outputs": [],
            "_view_module": "@jupyter-widgets/output",
            "_model_module_version": "1.0.0",
            "_view_count": null,
            "_view_module_version": "1.0.0",
            "layout": "IPY_MODEL_de14c5435e33489191b8458f56fb6296",
            "_model_module": "@jupyter-widgets/output"
          }
        },
        "ab7c6cd4a5a04dac9564c7a7ba666d52": {
          "model_module": "@jupyter-widgets/controls",
          "model_name": "HBoxModel",
          "state": {
            "_view_name": "HBoxView",
            "_dom_classes": [],
            "_model_name": "HBoxModel",
            "_view_module": "@jupyter-widgets/controls",
            "_model_module_version": "1.5.0",
            "_view_count": null,
            "_view_module_version": "1.5.0",
            "box_style": "",
            "layout": "IPY_MODEL_2191798cbeb64e9f8ffabafeb7d3fcdd",
            "_model_module": "@jupyter-widgets/controls",
            "children": [
              "IPY_MODEL_350db6f394314806975be2d7d754f75a",
              "IPY_MODEL_1aac5f8a2283409d89430a9f2f7cdf00",
              "IPY_MODEL_e62c6863e71b4fc3a839dfabf837cf30",
              "IPY_MODEL_420b13c095004dd19745e8de08909788"
            ]
          }
        },
        "5150c84c06e040a7b417bd883c6c0d2c": {
          "model_module": "@jupyter-widgets/base",
          "model_name": "LayoutModel",
          "state": {
            "_view_name": "LayoutView",
            "grid_template_rows": null,
            "right": null,
            "justify_content": null,
            "_view_module": "@jupyter-widgets/base",
            "overflow": null,
            "_model_module_version": "1.2.0",
            "_view_count": null,
            "flex_flow": null,
            "width": null,
            "min_width": null,
            "border": null,
            "align_items": null,
            "bottom": null,
            "_model_module": "@jupyter-widgets/base",
            "top": null,
            "grid_column": null,
            "overflow_y": null,
            "overflow_x": null,
            "grid_auto_flow": null,
            "grid_area": null,
            "grid_template_columns": null,
            "flex": null,
            "_model_name": "LayoutModel",
            "justify_items": null,
            "grid_row": null,
            "max_height": null,
            "align_content": null,
            "visibility": null,
            "align_self": null,
            "height": null,
            "min_height": null,
            "padding": null,
            "grid_auto_rows": null,
            "grid_gap": null,
            "max_width": null,
            "order": null,
            "_view_module_version": "1.2.0",
            "grid_template_areas": null,
            "object_position": null,
            "object_fit": null,
            "grid_auto_columns": null,
            "margin": null,
            "display": null,
            "left": null
          }
        },
        "ece9bde8302046aa940a0f40028feb20": {
          "model_module": "@jupyter-widgets/controls",
          "model_name": "TextModel",
          "state": {
            "_view_name": "TextView",
            "style": "IPY_MODEL_13f689f7c388474e9b0910e9a8db8e84",
            "_dom_classes": [],
            "description": "Input:",
            "_model_name": "TextModel",
            "placeholder": "Sigma: {0,1}",
            "_view_module": "@jupyter-widgets/controls",
            "_model_module_version": "1.5.0",
            "value": "",
            "_view_count": null,
            "disabled": false,
            "_view_module_version": "1.5.0",
            "continuous_update": true,
            "description_tooltip": null,
            "_model_module": "@jupyter-widgets/controls",
            "layout": "IPY_MODEL_5c9bd55ac36c41cf82401668feb51cfc"
          }
        },
        "4953203a40ef48cb9bc62d2f2770a320": {
          "model_module": "@jupyter-widgets/controls",
          "model_name": "ButtonModel",
          "state": {
            "_view_name": "ButtonView",
            "style": "IPY_MODEL_a21028c3f28147c29e0f99506cae3cbc",
            "_dom_classes": [],
            "description": "Animate",
            "_model_name": "ButtonModel",
            "button_style": "primary",
            "_view_module": "@jupyter-widgets/controls",
            "_model_module_version": "1.5.0",
            "tooltip": "",
            "_view_count": null,
            "disabled": false,
            "_view_module_version": "1.5.0",
            "layout": "IPY_MODEL_7f0878b340854d428fa504648eb17d48",
            "_model_module": "@jupyter-widgets/controls",
            "icon": ""
          }
        },
        "2191798cbeb64e9f8ffabafeb7d3fcdd": {
          "model_module": "@jupyter-widgets/base",
          "model_name": "LayoutModel",
          "state": {
            "_view_name": "LayoutView",
            "grid_template_rows": null,
            "right": null,
            "justify_content": null,
            "_view_module": "@jupyter-widgets/base",
            "overflow": null,
            "_model_module_version": "1.2.0",
            "_view_count": null,
            "flex_flow": null,
            "width": null,
            "min_width": null,
            "border": null,
            "align_items": null,
            "bottom": null,
            "_model_module": "@jupyter-widgets/base",
            "top": null,
            "grid_column": null,
            "overflow_y": null,
            "overflow_x": null,
            "grid_auto_flow": null,
            "grid_area": null,
            "grid_template_columns": null,
            "flex": null,
            "_model_name": "LayoutModel",
            "justify_items": null,
            "grid_row": null,
            "max_height": null,
            "align_content": null,
            "visibility": null,
            "align_self": null,
            "height": null,
            "min_height": null,
            "padding": null,
            "grid_auto_rows": null,
            "grid_gap": null,
            "max_width": null,
            "order": null,
            "_view_module_version": "1.2.0",
            "grid_template_areas": null,
            "object_position": null,
            "object_fit": null,
            "grid_auto_columns": null,
            "margin": null,
            "display": null,
            "left": null
          }
        },
        "350db6f394314806975be2d7d754f75a": {
          "model_module": "@jupyter-widgets/controls",
          "model_name": "PlayModel",
          "state": {
            "_view_name": "PlayView",
            "style": "IPY_MODEL_663bbcfb35d248beb1c6efbd932e8858",
            "interval": 950,
            "_dom_classes": [],
            "description": "Press play",
            "_model_name": "PlayModel",
            "max": 100,
            "_view_module": "@jupyter-widgets/controls",
            "_model_module_version": "1.5.0",
            "value": 0,
            "_view_count": null,
            "disabled": true,
            "_repeat": false,
            "_view_module_version": "1.5.0",
            "show_repeat": true,
            "min": 0,
            "_playing": false,
            "step": 1,
            "description_tooltip": null,
            "_model_module": "@jupyter-widgets/controls",
            "layout": "IPY_MODEL_5119afbf9e484e8dbc5782ec8901486e"
          }
        },
        "1aac5f8a2283409d89430a9f2f7cdf00": {
          "model_module": "@jupyter-widgets/controls",
          "model_name": "ButtonModel",
          "state": {
            "_view_name": "ButtonView",
            "style": "IPY_MODEL_d8ff9331a7b148c8a65356ddf5b64865",
            "_dom_classes": [],
            "description": "",
            "_model_name": "ButtonModel",
            "button_style": "",
            "_view_module": "@jupyter-widgets/controls",
            "_model_module_version": "1.5.0",
            "tooltip": "",
            "_view_count": null,
            "disabled": true,
            "_view_module_version": "1.5.0",
            "layout": "IPY_MODEL_a07a444751d3474b9905495acfe3db14",
            "_model_module": "@jupyter-widgets/controls",
            "icon": "step-backward"
          }
        },
        "e62c6863e71b4fc3a839dfabf837cf30": {
          "model_module": "@jupyter-widgets/controls",
          "model_name": "ButtonModel",
          "state": {
            "_view_name": "ButtonView",
            "style": "IPY_MODEL_51231a62e7dd4d829b0020bd3cb8e7b8",
            "_dom_classes": [],
            "description": "",
            "_model_name": "ButtonModel",
            "button_style": "",
            "_view_module": "@jupyter-widgets/controls",
            "_model_module_version": "1.5.0",
            "tooltip": "",
            "_view_count": null,
            "disabled": true,
            "_view_module_version": "1.5.0",
            "layout": "IPY_MODEL_d3888039af00412ab441889db41acd46",
            "_model_module": "@jupyter-widgets/controls",
            "icon": "step-forward"
          }
        },
        "420b13c095004dd19745e8de08909788": {
          "model_module": "@jupyter-widgets/controls",
          "model_name": "IntSliderModel",
          "state": {
            "_view_name": "IntSliderView",
            "style": "IPY_MODEL_8b4ad81e82b7470a9adf24edb2b89c06",
            "_dom_classes": [],
            "description": "Speed:",
            "step": 1,
            "_model_name": "IntSliderModel",
            "orientation": "horizontal",
            "max": 10,
            "_view_module": "@jupyter-widgets/controls",
            "_model_module_version": "1.5.0",
            "value": 1,
            "_view_count": null,
            "disabled": true,
            "_view_module_version": "1.5.0",
            "min": 1,
            "continuous_update": false,
            "readout_format": "d",
            "description_tooltip": null,
            "readout": true,
            "_model_module": "@jupyter-widgets/controls",
            "layout": "IPY_MODEL_1fb0d372a41e4d25976816df98675a9d"
          }
        },
        "13f689f7c388474e9b0910e9a8db8e84": {
          "model_module": "@jupyter-widgets/controls",
          "model_name": "DescriptionStyleModel",
          "state": {
            "_view_name": "StyleView",
            "_model_name": "DescriptionStyleModel",
            "description_width": "",
            "_view_module": "@jupyter-widgets/base",
            "_model_module_version": "1.5.0",
            "_view_count": null,
            "_view_module_version": "1.2.0",
            "_model_module": "@jupyter-widgets/controls"
          }
        },
        "5c9bd55ac36c41cf82401668feb51cfc": {
          "model_module": "@jupyter-widgets/base",
          "model_name": "LayoutModel",
          "state": {
            "_view_name": "LayoutView",
            "grid_template_rows": null,
            "right": null,
            "justify_content": null,
            "_view_module": "@jupyter-widgets/base",
            "overflow": null,
            "_model_module_version": "1.2.0",
            "_view_count": null,
            "flex_flow": null,
            "width": "500px",
            "min_width": null,
            "border": null,
            "align_items": null,
            "bottom": null,
            "_model_module": "@jupyter-widgets/base",
            "top": null,
            "grid_column": null,
            "overflow_y": null,
            "overflow_x": null,
            "grid_auto_flow": null,
            "grid_area": null,
            "grid_template_columns": null,
            "flex": null,
            "_model_name": "LayoutModel",
            "justify_items": null,
            "grid_row": null,
            "max_height": null,
            "align_content": null,
            "visibility": null,
            "align_self": null,
            "height": null,
            "min_height": null,
            "padding": null,
            "grid_auto_rows": null,
            "grid_gap": null,
            "max_width": null,
            "order": null,
            "_view_module_version": "1.2.0",
            "grid_template_areas": null,
            "object_position": null,
            "object_fit": null,
            "grid_auto_columns": null,
            "margin": null,
            "display": null,
            "left": null
          }
        },
        "a21028c3f28147c29e0f99506cae3cbc": {
          "model_module": "@jupyter-widgets/controls",
          "model_name": "ButtonStyleModel",
          "state": {
            "_view_name": "StyleView",
            "_model_name": "ButtonStyleModel",
            "_view_module": "@jupyter-widgets/base",
            "_model_module_version": "1.5.0",
            "_view_count": null,
            "button_color": null,
            "font_weight": "",
            "_view_module_version": "1.2.0",
            "_model_module": "@jupyter-widgets/controls"
          }
        },
        "7f0878b340854d428fa504648eb17d48": {
          "model_module": "@jupyter-widgets/base",
          "model_name": "LayoutModel",
          "state": {
            "_view_name": "LayoutView",
            "grid_template_rows": null,
            "right": null,
            "justify_content": null,
            "_view_module": "@jupyter-widgets/base",
            "overflow": null,
            "_model_module_version": "1.2.0",
            "_view_count": null,
            "flex_flow": null,
            "width": null,
            "min_width": null,
            "border": null,
            "align_items": null,
            "bottom": null,
            "_model_module": "@jupyter-widgets/base",
            "top": null,
            "grid_column": null,
            "overflow_y": null,
            "overflow_x": null,
            "grid_auto_flow": null,
            "grid_area": null,
            "grid_template_columns": null,
            "flex": null,
            "_model_name": "LayoutModel",
            "justify_items": null,
            "grid_row": null,
            "max_height": null,
            "align_content": null,
            "visibility": null,
            "align_self": null,
            "height": null,
            "min_height": null,
            "padding": null,
            "grid_auto_rows": null,
            "grid_gap": null,
            "max_width": null,
            "order": null,
            "_view_module_version": "1.2.0",
            "grid_template_areas": null,
            "object_position": null,
            "object_fit": null,
            "grid_auto_columns": null,
            "margin": null,
            "display": null,
            "left": null
          }
        },
        "663bbcfb35d248beb1c6efbd932e8858": {
          "model_module": "@jupyter-widgets/controls",
          "model_name": "DescriptionStyleModel",
          "state": {
            "_view_name": "StyleView",
            "_model_name": "DescriptionStyleModel",
            "description_width": "",
            "_view_module": "@jupyter-widgets/base",
            "_model_module_version": "1.5.0",
            "_view_count": null,
            "_view_module_version": "1.2.0",
            "_model_module": "@jupyter-widgets/controls"
          }
        },
        "5119afbf9e484e8dbc5782ec8901486e": {
          "model_module": "@jupyter-widgets/base",
          "model_name": "LayoutModel",
          "state": {
            "_view_name": "LayoutView",
            "grid_template_rows": null,
            "right": null,
            "justify_content": null,
            "_view_module": "@jupyter-widgets/base",
            "overflow": null,
            "_model_module_version": "1.2.0",
            "_view_count": null,
            "flex_flow": null,
            "width": null,
            "min_width": null,
            "border": null,
            "align_items": null,
            "bottom": null,
            "_model_module": "@jupyter-widgets/base",
            "top": null,
            "grid_column": null,
            "overflow_y": null,
            "overflow_x": null,
            "grid_auto_flow": null,
            "grid_area": null,
            "grid_template_columns": null,
            "flex": null,
            "_model_name": "LayoutModel",
            "justify_items": null,
            "grid_row": null,
            "max_height": null,
            "align_content": null,
            "visibility": null,
            "align_self": null,
            "height": null,
            "min_height": null,
            "padding": null,
            "grid_auto_rows": null,
            "grid_gap": null,
            "max_width": null,
            "order": null,
            "_view_module_version": "1.2.0",
            "grid_template_areas": null,
            "object_position": null,
            "object_fit": null,
            "grid_auto_columns": null,
            "margin": null,
            "display": null,
            "left": null
          }
        },
        "d8ff9331a7b148c8a65356ddf5b64865": {
          "model_module": "@jupyter-widgets/controls",
          "model_name": "ButtonStyleModel",
          "state": {
            "_view_name": "StyleView",
            "_model_name": "ButtonStyleModel",
            "_view_module": "@jupyter-widgets/base",
            "_model_module_version": "1.5.0",
            "_view_count": null,
            "button_color": null,
            "font_weight": "",
            "_view_module_version": "1.2.0",
            "_model_module": "@jupyter-widgets/controls"
          }
        },
        "a07a444751d3474b9905495acfe3db14": {
          "model_module": "@jupyter-widgets/base",
          "model_name": "LayoutModel",
          "state": {
            "_view_name": "LayoutView",
            "grid_template_rows": null,
            "right": null,
            "justify_content": null,
            "_view_module": "@jupyter-widgets/base",
            "overflow": null,
            "_model_module_version": "1.2.0",
            "_view_count": null,
            "flex_flow": null,
            "width": "40px",
            "min_width": null,
            "border": null,
            "align_items": null,
            "bottom": null,
            "_model_module": "@jupyter-widgets/base",
            "top": null,
            "grid_column": null,
            "overflow_y": null,
            "overflow_x": null,
            "grid_auto_flow": null,
            "grid_area": null,
            "grid_template_columns": null,
            "flex": null,
            "_model_name": "LayoutModel",
            "justify_items": null,
            "grid_row": null,
            "max_height": null,
            "align_content": null,
            "visibility": null,
            "align_self": null,
            "height": null,
            "min_height": null,
            "padding": null,
            "grid_auto_rows": null,
            "grid_gap": null,
            "max_width": null,
            "order": null,
            "_view_module_version": "1.2.0",
            "grid_template_areas": null,
            "object_position": null,
            "object_fit": null,
            "grid_auto_columns": null,
            "margin": null,
            "display": null,
            "left": null
          }
        },
        "51231a62e7dd4d829b0020bd3cb8e7b8": {
          "model_module": "@jupyter-widgets/controls",
          "model_name": "ButtonStyleModel",
          "state": {
            "_view_name": "StyleView",
            "_model_name": "ButtonStyleModel",
            "_view_module": "@jupyter-widgets/base",
            "_model_module_version": "1.5.0",
            "_view_count": null,
            "button_color": null,
            "font_weight": "",
            "_view_module_version": "1.2.0",
            "_model_module": "@jupyter-widgets/controls"
          }
        },
        "d3888039af00412ab441889db41acd46": {
          "model_module": "@jupyter-widgets/base",
          "model_name": "LayoutModel",
          "state": {
            "_view_name": "LayoutView",
            "grid_template_rows": null,
            "right": null,
            "justify_content": null,
            "_view_module": "@jupyter-widgets/base",
            "overflow": null,
            "_model_module_version": "1.2.0",
            "_view_count": null,
            "flex_flow": null,
            "width": "40px",
            "min_width": null,
            "border": null,
            "align_items": null,
            "bottom": null,
            "_model_module": "@jupyter-widgets/base",
            "top": null,
            "grid_column": null,
            "overflow_y": null,
            "overflow_x": null,
            "grid_auto_flow": null,
            "grid_area": null,
            "grid_template_columns": null,
            "flex": null,
            "_model_name": "LayoutModel",
            "justify_items": null,
            "grid_row": null,
            "max_height": null,
            "align_content": null,
            "visibility": null,
            "align_self": null,
            "height": null,
            "min_height": null,
            "padding": null,
            "grid_auto_rows": null,
            "grid_gap": null,
            "max_width": null,
            "order": null,
            "_view_module_version": "1.2.0",
            "grid_template_areas": null,
            "object_position": null,
            "object_fit": null,
            "grid_auto_columns": null,
            "margin": null,
            "display": null,
            "left": null
          }
        },
        "8b4ad81e82b7470a9adf24edb2b89c06": {
          "model_module": "@jupyter-widgets/controls",
          "model_name": "SliderStyleModel",
          "state": {
            "_view_name": "StyleView",
            "handle_color": null,
            "_model_name": "SliderStyleModel",
            "description_width": "",
            "_view_module": "@jupyter-widgets/base",
            "_model_module_version": "1.5.0",
            "_view_count": null,
            "_view_module_version": "1.2.0",
            "_model_module": "@jupyter-widgets/controls"
          }
        },
        "1fb0d372a41e4d25976816df98675a9d": {
          "model_module": "@jupyter-widgets/base",
          "model_name": "LayoutModel",
          "state": {
            "_view_name": "LayoutView",
            "grid_template_rows": null,
            "right": null,
            "justify_content": null,
            "_view_module": "@jupyter-widgets/base",
            "overflow": null,
            "_model_module_version": "1.2.0",
            "_view_count": null,
            "flex_flow": null,
            "width": null,
            "min_width": null,
            "border": null,
            "align_items": null,
            "bottom": null,
            "_model_module": "@jupyter-widgets/base",
            "top": null,
            "grid_column": null,
            "overflow_y": null,
            "overflow_x": null,
            "grid_auto_flow": null,
            "grid_area": null,
            "grid_template_columns": null,
            "flex": null,
            "_model_name": "LayoutModel",
            "justify_items": null,
            "grid_row": null,
            "max_height": null,
            "align_content": null,
            "visibility": null,
            "align_self": null,
            "height": null,
            "min_height": null,
            "padding": null,
            "grid_auto_rows": null,
            "grid_gap": null,
            "max_width": null,
            "order": null,
            "_view_module_version": "1.2.0",
            "grid_template_areas": null,
            "object_position": null,
            "object_fit": null,
            "grid_auto_columns": null,
            "margin": null,
            "display": null,
            "left": null
          }
        },
        "967f137e77e646418a7e213b68cbabd4": {
          "model_module": "@jupyter-widgets/base",
          "model_name": "LayoutModel",
          "state": {
            "_view_name": "LayoutView",
            "grid_template_rows": null,
            "right": null,
            "justify_content": null,
            "_view_module": "@jupyter-widgets/base",
            "overflow": null,
            "_model_module_version": "1.2.0",
            "_view_count": null,
            "flex_flow": null,
            "width": null,
            "min_width": null,
            "border": null,
            "align_items": null,
            "bottom": null,
            "_model_module": "@jupyter-widgets/base",
            "top": null,
            "grid_column": null,
            "overflow_y": null,
            "overflow_x": null,
            "grid_auto_flow": null,
            "grid_area": null,
            "grid_template_columns": null,
            "flex": null,
            "_model_name": "LayoutModel",
            "justify_items": null,
            "grid_row": null,
            "max_height": null,
            "align_content": null,
            "visibility": null,
            "align_self": null,
            "height": null,
            "min_height": null,
            "padding": null,
            "grid_auto_rows": null,
            "grid_gap": null,
            "max_width": null,
            "order": null,
            "_view_module_version": "1.2.0",
            "grid_template_areas": null,
            "object_position": null,
            "object_fit": null,
            "grid_auto_columns": null,
            "margin": null,
            "display": null,
            "left": null
          }
        },
        "de14c5435e33489191b8458f56fb6296": {
          "model_module": "@jupyter-widgets/base",
          "model_name": "LayoutModel",
          "state": {
            "_view_name": "LayoutView",
            "grid_template_rows": null,
            "right": null,
            "justify_content": null,
            "_view_module": "@jupyter-widgets/base",
            "overflow": null,
            "_model_module_version": "1.2.0",
            "_view_count": null,
            "flex_flow": null,
            "width": null,
            "min_width": null,
            "border": null,
            "align_items": null,
            "bottom": null,
            "_model_module": "@jupyter-widgets/base",
            "top": null,
            "grid_column": null,
            "overflow_y": null,
            "overflow_x": null,
            "grid_auto_flow": null,
            "grid_area": null,
            "grid_template_columns": null,
            "flex": null,
            "_model_name": "LayoutModel",
            "justify_items": null,
            "grid_row": null,
            "max_height": null,
            "align_content": null,
            "visibility": null,
            "align_self": null,
            "height": null,
            "min_height": null,
            "padding": null,
            "grid_auto_rows": null,
            "grid_gap": null,
            "max_width": null,
            "order": null,
            "_view_module_version": "1.2.0",
            "grid_template_areas": null,
            "object_position": null,
            "object_fit": null,
            "grid_auto_columns": null,
            "margin": null,
            "display": null,
            "left": null
          }
        }
      }
    },
    "colab": {
      "name": "04_2_NFA_Problems.ipynb",
      "provenance": []
    }
  },
  "cells": [
    {
      "cell_type": "markdown",
      "metadata": {
        "run_control": {
          "frozen": false,
          "read_only": false
        },
        "id": "V4t9868jYDJO"
      },
      "source": [
        "# Imports first, then the Assignment (6 Tasks)\n"
      ]
    },
    {
      "cell_type": "code",
      "metadata": {
        "run_control": {
          "frozen": false,
          "read_only": false
        },
        "scrolled": true,
        "id": "ggJw7PZKYDJa"
      },
      "source": [
        "#~~~~~~~~~~~~~~~~~~~~~~~~~~~~~~~~~~~~~~~~~~~~~~~~~~~~~~~\n",
        "import sys\n",
        "\n",
        "# -- Detect if in Own Install or in Colab\n",
        "try:\n",
        "    import google.colab\n",
        "    OWN_INSTALL = False\n",
        "except:\n",
        "    OWN_INSTALL = True\n",
        "    \n",
        "if OWN_INSTALL:\n",
        "    \n",
        "  #---- Leave these definitions ON if running on laptop\n",
        "  #---- Else turn OFF by putting them between ''' ... '''\n",
        "\n",
        "  sys.path[0:0] = ['../../../../..',  '../../../../../3rdparty',  \n",
        "                   '../../../..',  '../../../../3rdparty',  \n",
        "                   '../../..',     '../../../3rdparty', \n",
        "                   '../..',        '../../3rdparty',\n",
        "                   '..',           '../3rdparty' ]\n",
        "\n",
        "else: # In colab\n",
        "  ! if [ ! -d Jove ]; then git clone https://github.com/ganeshutah/Jove Jove; fi\n",
        "  sys.path.append('./Jove')\n",
        "  sys.path.append('./Jove/jove')\n",
        "\n",
        "# -- common imports --\n",
        "from jove.DotBashers import *\n",
        "from jove.Def_md2mc  import *\n",
        "from jove.Def_NFA    import *\n",
        "from jove.Def_DFA    import *\n",
        "from jove.AnimateNFA import *\n",
        "#~~~~~~~~~~~~~~~~~~~~~~~~~~~~~~~~~~~~~~~~~~~~~~~~~~~~~~~"
      ],
      "execution_count": 40,
      "outputs": []
    },
    {
      "cell_type": "markdown",
      "metadata": {
        "id": "N5XbckWjYDJc"
      },
      "source": [
        "# Task 1: Design an NFA for $\\{0,1\\}^* 1 0$ (\"Ends 10\")\n",
        "\n",
        "## It will be a 3-state NFA.\n",
        "\n",
        "## Name the states I, S0, and F.\n",
        "\n",
        "### Document each line of your Jove code with a short comment.\n"
      ]
    },
    {
      "cell_type": "code",
      "metadata": {
        "id": "MCbOLElmYDJd"
      },
      "source": [
        "# SOLUTION\n",
        "\n",
        "nfaEnds10 = md2mc('''\n",
        "\n",
        "NFA \n",
        "I : 0 | 1 -> I\n",
        "I : 1 -> S0\n",
        "S0 : 0 -> F\n",
        "  \n",
        "''')\n"
      ],
      "execution_count": 41,
      "outputs": []
    },
    {
      "cell_type": "code",
      "metadata": {
        "id": "hmKoCifTYhoh",
        "colab": {
          "base_uri": "https://localhost:8080/",
          "height": 173
        },
        "outputId": "53c3f980-e4a0-4dc8-b4e8-d3f78609bf8a"
      },
      "source": [
        "dotObj_nfa(nfaEnds10)"
      ],
      "execution_count": 42,
      "outputs": [
        {
          "output_type": "execute_result",
          "data": {
            "text/plain": [
              "<graphviz.dot.Digraph at 0x7fd5e2eaee80>"
            ],
            "image/svg+xml": "<?xml version=\"1.0\" encoding=\"UTF-8\" standalone=\"no\"?>\n<!DOCTYPE svg PUBLIC \"-//W3C//DTD SVG 1.1//EN\"\n \"http://www.w3.org/Graphics/SVG/1.1/DTD/svg11.dtd\">\n<!-- Generated by graphviz version 2.40.1 (20161225.0304)\n -->\n<!-- Title: %3 Pages: 1 -->\n<svg width=\"317pt\" height=\"114pt\"\n viewBox=\"0.00 0.00 316.60 114.00\" xmlns=\"http://www.w3.org/2000/svg\" xmlns:xlink=\"http://www.w3.org/1999/xlink\">\n<g id=\"graph0\" class=\"graph\" transform=\"scale(1 1) rotate(0) translate(4 110)\">\n<title>%3</title>\n<polygon fill=\"#ffffff\" stroke=\"transparent\" points=\"-4,4 -4,-110 312.5963,-110 312.5963,4 -4,4\"/>\n<!-- EMPTY -->\n<g id=\"node1\" class=\"node\">\n<title>EMPTY</title>\n</g>\n<!-- I -->\n<g id=\"node3\" class=\"node\">\n<title>I</title>\n<ellipse fill=\"none\" stroke=\"#000000\" cx=\"109\" cy=\"-22\" rx=\"18\" ry=\"18\"/>\n<text text-anchor=\"middle\" x=\"109\" y=\"-18.3\" font-family=\"Times,serif\" font-size=\"14.00\" fill=\"#000000\">I</text>\n</g>\n<!-- EMPTY&#45;&gt;I -->\n<g id=\"edge1\" class=\"edge\">\n<title>EMPTY&#45;&gt;I</title>\n<path fill=\"none\" stroke=\"#000000\" d=\"M54.3048,-22C62.6909,-22 71.9407,-22 80.4103,-22\"/>\n<polygon fill=\"#000000\" stroke=\"#000000\" points=\"80.5976,-25.5001 90.5976,-22 80.5976,-18.5001 80.5976,-25.5001\"/>\n</g>\n<!-- S0 -->\n<g id=\"node2\" class=\"node\">\n<title>S0</title>\n<ellipse fill=\"none\" stroke=\"#000000\" cx=\"195.7982\" cy=\"-22\" rx=\"20.5982\" ry=\"20.5982\"/>\n<text text-anchor=\"middle\" x=\"195.7982\" y=\"-18.3\" font-family=\"Times,serif\" font-size=\"14.00\" fill=\"#000000\">S0</text>\n</g>\n<!-- F -->\n<g id=\"node4\" class=\"node\">\n<title>F</title>\n<ellipse fill=\"none\" stroke=\"#000000\" cx=\"286.5963\" cy=\"-22\" rx=\"18\" ry=\"18\"/>\n<ellipse fill=\"none\" stroke=\"#000000\" cx=\"286.5963\" cy=\"-22\" rx=\"22\" ry=\"22\"/>\n<text text-anchor=\"middle\" x=\"286.5963\" y=\"-18.3\" font-family=\"Times,serif\" font-size=\"14.00\" fill=\"#000000\">F</text>\n</g>\n<!-- S0&#45;&gt;F -->\n<g id=\"edge5\" class=\"edge\">\n<title>S0&#45;&gt;F</title>\n<path fill=\"none\" stroke=\"#000000\" d=\"M216.8573,-22C227.9898,-22 241.8945,-22 254.3526,-22\"/>\n<polygon fill=\"#000000\" stroke=\"#000000\" points=\"254.3846,-25.5001 264.3846,-22 254.3845,-18.5001 254.3846,-25.5001\"/>\n<text text-anchor=\"middle\" x=\"240.5963\" y=\"-25.8\" font-family=\"Times,serif\" font-size=\"14.00\" fill=\"#000000\">0 </text>\n</g>\n<!-- I&#45;&gt;S0 -->\n<g id=\"edge3\" class=\"edge\">\n<title>I&#45;&gt;S0</title>\n<path fill=\"none\" stroke=\"#000000\" d=\"M127.4077,-22C138.2934,-22 152.3613,-22 164.9052,-22\"/>\n<polygon fill=\"#000000\" stroke=\"#000000\" points=\"164.9803,-25.5001 174.9802,-22 164.9802,-18.5001 164.9803,-25.5001\"/>\n<text text-anchor=\"middle\" x=\"151\" y=\"-25.8\" font-family=\"Times,serif\" font-size=\"14.00\" fill=\"#000000\">1 </text>\n</g>\n<!-- I&#45;&gt;I -->\n<g id=\"edge2\" class=\"edge\">\n<title>I&#45;&gt;I</title>\n<path fill=\"none\" stroke=\"#000000\" d=\"M105.7643,-39.7817C105.2144,-49.3149 106.293,-58 109,-58 110.6496,-58 111.6945,-54.7749 112.1347,-50.0981\"/>\n<polygon fill=\"#000000\" stroke=\"#000000\" points=\"115.6375,-49.8156 112.2357,-39.7817 108.6379,-49.7469 115.6375,-49.8156\"/>\n<text text-anchor=\"middle\" x=\"109\" y=\"-61.8\" font-family=\"Times,serif\" font-size=\"14.00\" fill=\"#000000\">0 </text>\n</g>\n<!-- I&#45;&gt;I -->\n<g id=\"edge4\" class=\"edge\">\n<title>I&#45;&gt;I</title>\n<path fill=\"none\" stroke=\"#000000\" d=\"M103.6841,-39.4203C100.6538,-56.791 102.4258,-76 109,-76 114.2902,-76 116.4708,-63.5617 115.5419,-49.652\"/>\n<polygon fill=\"#000000\" stroke=\"#000000\" points=\"118.9808,-48.9328 114.3159,-39.4203 112.0305,-49.7657 118.9808,-48.9328\"/>\n<text text-anchor=\"middle\" x=\"109\" y=\"-79.8\" font-family=\"Times,serif\" font-size=\"14.00\" fill=\"#000000\">1 </text>\n</g>\n</g>\n</svg>\n"
          },
          "metadata": {
            "tags": []
          },
          "execution_count": 42
        }
      ]
    },
    {
      "cell_type": "markdown",
      "metadata": {
        "id": "ee5LCAGPYDJd"
      },
      "source": [
        "# Task 2: Determine States in Animation\n",
        "\n",
        "Put the above NFA in animation, and note down the set of states attained\n",
        "after the DFA has seen every character in 10010. More detailed instructions follow."
      ]
    },
    {
      "cell_type": "markdown",
      "metadata": {
        "id": "YHXe-yKFYDJe"
      },
      "source": [
        "## Execute the cell below and follow the bulleted instructions:\n",
        "\n",
        "* When the animation pane comes up, type in 10010 and click Animate\n",
        "\n",
        "* Then click the \">|\" button, which is for single-stepping\n",
        "\n",
        "* Note down the results as you single-step, and fill answers in 1b(ii) below\n"
      ]
    },
    {
      "cell_type": "code",
      "metadata": {
        "scrolled": false,
        "id": "WLkFxgusYDJe",
        "colab": {
          "base_uri": "https://localhost:8080/",
          "height": 237,
          "referenced_widgets": [
            "840086e0578049f2b54cf85aabcca8d5",
            "c4c81eec53564f6493b8403e97c92407",
            "078f954dabca4313a5d4c9182c104f57",
            "73085197a6424b0a831b08459cf74c4f",
            "edb64c44dfd044148a09993cdadaedea",
            "ab7c6cd4a5a04dac9564c7a7ba666d52",
            "5150c84c06e040a7b417bd883c6c0d2c",
            "ece9bde8302046aa940a0f40028feb20",
            "4953203a40ef48cb9bc62d2f2770a320",
            "2191798cbeb64e9f8ffabafeb7d3fcdd",
            "350db6f394314806975be2d7d754f75a",
            "1aac5f8a2283409d89430a9f2f7cdf00",
            "e62c6863e71b4fc3a839dfabf837cf30",
            "420b13c095004dd19745e8de08909788",
            "13f689f7c388474e9b0910e9a8db8e84",
            "5c9bd55ac36c41cf82401668feb51cfc",
            "a21028c3f28147c29e0f99506cae3cbc",
            "7f0878b340854d428fa504648eb17d48",
            "663bbcfb35d248beb1c6efbd932e8858",
            "5119afbf9e484e8dbc5782ec8901486e",
            "d8ff9331a7b148c8a65356ddf5b64865",
            "a07a444751d3474b9905495acfe3db14",
            "51231a62e7dd4d829b0020bd3cb8e7b8",
            "d3888039af00412ab441889db41acd46",
            "8b4ad81e82b7470a9adf24edb2b89c06",
            "1fb0d372a41e4d25976816df98675a9d",
            "967f137e77e646418a7e213b68cbabd4",
            "de14c5435e33489191b8458f56fb6296"
          ]
        },
        "outputId": "c1924023-4c98-4ed2-9a00-240ade139cbb"
      },
      "source": [
        "AnimateNFA(nfaEnds10, FuseEdges=False)\n",
        "display(HTML('<link rel=\\\"stylesheet\\\" href=\\\"//stackpath.bootstrapcdn.com/font-awesome/4.7.0/css/font-awesome.min.css\\\"/>'))"
      ],
      "execution_count": 43,
      "outputs": [
        {
          "output_type": "display_data",
          "data": {
            "application/vnd.jupyter.widget-view+json": {
              "model_id": "840086e0578049f2b54cf85aabcca8d5",
              "version_minor": 0,
              "version_major": 2
            },
            "text/plain": [
              "VBox(children=(HBox(children=(Text(value='', description='Input:', layout=Layout(width='500px'), placeholder='…"
            ]
          },
          "metadata": {
            "tags": []
          }
        },
        {
          "output_type": "display_data",
          "data": {
            "text/html": [
              "<link rel=\"stylesheet\" href=\"//stackpath.bootstrapcdn.com/font-awesome/4.7.0/css/font-awesome.min.css\"/>"
            ],
            "text/plain": [
              "<IPython.core.display.HTML object>"
            ]
          },
          "metadata": {
            "tags": []
          }
        }
      ]
    },
    {
      "cell_type": "markdown",
      "metadata": {
        "id": "s86ZtgmUYDJf"
      },
      "source": [
        "## Provide these answers based on single-stepping the animation (please type in a SET OF STATES - else no credit). \n",
        "\n",
        "## Also say whether a token dropped out of the diagram (with the move on a symbol being undefined) and whether the state reached is final. \n",
        "\n",
        "### SET of states before consuming any of 10010 = {I}\n",
        "#### NONE OF THESE \n",
        "\n",
        "### SET of states AFTER consuming \"1\" and before consuming \"0010\"  = {I, S0}\n",
        "#### NONE OF THESE \n",
        "\n",
        "### SET of states AFTER consuming \"10\" and before consuming \"010\"  = {I, F}\n",
        "#### The SET of states reached is FINAL\n",
        "\n",
        "### SET of states AFTER consuming \"100\" and before consuming \"10\"  = {I}\n",
        "#### NONE OF THESE \n",
        "\n",
        "### SET of states AFTER consuming \"1001\" and before consuming \"0\"  = {I, S0}\n",
        "#### NONE OF THESE \n",
        "\n",
        "### SET of states AFTER consuming \"10010\" entirely  = {I, F}\n",
        "#### The SET of states reached is FINAL"
      ]
    },
    {
      "cell_type": "code",
      "metadata": {
        "id": "qT30N9nqa9hb",
        "colab": {
          "base_uri": "https://localhost:8080/"
        },
        "outputId": "a2c27926-8b0d-4961-dcd7-22618de3ab95"
      },
      "source": [
        "accepts_nfa(nfaEnds10, \"10010\", chatty=True)"
      ],
      "execution_count": 44,
      "outputs": [
        {
          "output_type": "stream",
          "text": [
            "States reached =  {'S0', 'I'}\n",
            "States reached =  {'F', 'I'}\n",
            "States reached =  {'I'}\n",
            "States reached =  {'S0', 'I'}\n",
            "States reached =  {'F', 'I'}\n",
            "NFA accepts '10010' by reaching {'F', 'I'}\n"
          ],
          "name": "stdout"
        },
        {
          "output_type": "execute_result",
          "data": {
            "text/plain": [
              "True"
            ]
          },
          "metadata": {
            "tags": []
          },
          "execution_count": 44
        }
      ]
    },
    {
      "cell_type": "markdown",
      "metadata": {
        "id": "pvsWVDfPYDJg"
      },
      "source": [
        "# Task 3: Convert the NFA to a DFA and answer questions\n",
        "\n",
        "Convert the NFA to a DFA by the command below, and answer the questions below."
      ]
    },
    {
      "cell_type": "code",
      "metadata": {
        "id": "S2c7i0iRYDJg",
        "colab": {
          "base_uri": "https://localhost:8080/",
          "height": 200
        },
        "outputId": "a30b43ea-e32c-44c0-8405-72dcf7e46b35"
      },
      "source": [
        "dotObj_dfa(nfa2dfa(nfaEnds10, STATENAME_MAXSIZE=50), STATENAME_MAXSIZE=50)"
      ],
      "execution_count": 45,
      "outputs": [
        {
          "output_type": "execute_result",
          "data": {
            "text/plain": [
              "<graphviz.dot.Digraph at 0x7fd5e34dad68>"
            ],
            "image/svg+xml": "<?xml version=\"1.0\" encoding=\"UTF-8\" standalone=\"no\"?>\n<!DOCTYPE svg PUBLIC \"-//W3C//DTD SVG 1.1//EN\"\n \"http://www.w3.org/Graphics/SVG/1.1/DTD/svg11.dtd\">\n<!-- Generated by graphviz version 2.40.1 (20161225.0304)\n -->\n<!-- Title: %3 Pages: 1 -->\n<svg width=\"344pt\" height=\"134pt\"\n viewBox=\"0.00 0.00 344.29 133.60\" xmlns=\"http://www.w3.org/2000/svg\" xmlns:xlink=\"http://www.w3.org/1999/xlink\">\n<g id=\"graph0\" class=\"graph\" transform=\"scale(1 1) rotate(0) translate(4 129.5975)\">\n<title>%3</title>\n<polygon fill=\"#ffffff\" stroke=\"transparent\" points=\"-4,4 -4,-129.5975 340.2907,-129.5975 340.2907,4 -4,4\"/>\n<!-- EMPTY -->\n<g id=\"node1\" class=\"node\">\n<title>EMPTY</title>\n</g>\n<!-- I -->\n<g id=\"node3\" class=\"node\">\n<title>I</title>\n<ellipse fill=\"none\" stroke=\"#000000\" cx=\"109\" cy=\"-18\" rx=\"18\" ry=\"18\"/>\n<text text-anchor=\"middle\" x=\"109\" y=\"-14.3\" font-family=\"Times,serif\" font-size=\"14.00\" fill=\"#000000\">I</text>\n</g>\n<!-- EMPTY&#45;&gt;I -->\n<g id=\"edge1\" class=\"edge\">\n<title>EMPTY&#45;&gt;I</title>\n<path fill=\"none\" stroke=\"#000000\" d=\"M54.3048,-18C62.6909,-18 71.9407,-18 80.4103,-18\"/>\n<polygon fill=\"#000000\" stroke=\"#000000\" points=\"80.5976,-21.5001 90.5976,-18 80.5976,-14.5001 80.5976,-21.5001\"/>\n</g>\n<!-- I_S0 -->\n<g id=\"node2\" class=\"node\">\n<title>I_S0</title>\n<ellipse fill=\"none\" stroke=\"#000000\" cx=\"203.5975\" cy=\"-64\" rx=\"28.6953\" ry=\"28.6953\"/>\n<text text-anchor=\"middle\" x=\"203.5975\" y=\"-60.3\" font-family=\"Times,serif\" font-size=\"14.00\" fill=\"#000000\">I_S0</text>\n</g>\n<!-- I_S0&#45;&gt;I_S0 -->\n<g id=\"edge4\" class=\"edge\">\n<title>I_S0&#45;&gt;I_S0</title>\n<path fill=\"none\" stroke=\"#000000\" d=\"M193.8855,-91.2819C193.4539,-101.8301 196.6912,-110.5975 203.5975,-110.5975 208.0218,-110.5975 210.9404,-106.9993 212.3532,-101.6399\"/>\n<polygon fill=\"#000000\" stroke=\"#000000\" points=\"215.8753,-101.5613 213.3094,-91.2819 208.9049,-100.9178 215.8753,-101.5613\"/>\n<text text-anchor=\"middle\" x=\"203.5975\" y=\"-114.3975\" font-family=\"Times,serif\" font-size=\"14.00\" fill=\"#000000\">1 </text>\n</g>\n<!-- F_I -->\n<g id=\"node4\" class=\"node\">\n<title>F_I</title>\n<ellipse fill=\"none\" stroke=\"#000000\" cx=\"308.2428\" cy=\"-35\" rx=\"24.089\" ry=\"24.089\"/>\n<ellipse fill=\"none\" stroke=\"#000000\" cx=\"308.2428\" cy=\"-35\" rx=\"28.0958\" ry=\"28.0958\"/>\n<text text-anchor=\"middle\" x=\"308.2428\" y=\"-31.3\" font-family=\"Times,serif\" font-size=\"14.00\" fill=\"#000000\">F_I</text>\n</g>\n<!-- I_S0&#45;&gt;F_I -->\n<g id=\"edge5\" class=\"edge\">\n<title>I_S0&#45;&gt;F_I</title>\n<path fill=\"none\" stroke=\"#000000\" d=\"M231.7808,-58.441C241.4805,-56.3447 252.3703,-53.7865 262.1949,-51 265.3703,-50.0994 268.647,-49.1018 271.9203,-48.0578\"/>\n<polygon fill=\"#000000\" stroke=\"#000000\" points=\"273.2372,-51.3085 281.6256,-44.8366 271.0321,-44.6649 273.2372,-51.3085\"/>\n<text text-anchor=\"middle\" x=\"256.1949\" y=\"-56.8\" font-family=\"Times,serif\" font-size=\"14.00\" fill=\"#000000\">0 </text>\n</g>\n<!-- I&#45;&gt;I_S0 -->\n<g id=\"edge2\" class=\"edge\">\n<title>I&#45;&gt;I_S0</title>\n<path fill=\"none\" stroke=\"#000000\" d=\"M125.4776,-26.0126C137.2888,-31.756 153.6416,-39.7079 168.3345,-46.8526\"/>\n<polygon fill=\"#000000\" stroke=\"#000000\" points=\"167.162,-50.1743 177.6857,-51.3999 170.2232,-43.8791 167.162,-50.1743\"/>\n<text text-anchor=\"middle\" x=\"151\" y=\"-44.8\" font-family=\"Times,serif\" font-size=\"14.00\" fill=\"#000000\">1 </text>\n</g>\n<!-- I&#45;&gt;I -->\n<g id=\"edge3\" class=\"edge\">\n<title>I&#45;&gt;I</title>\n<path fill=\"none\" stroke=\"#000000\" d=\"M102.6208,-35.0373C101.3189,-44.8579 103.4453,-54 109,-54 112.4717,-54 114.6042,-50.4289 115.3975,-45.3529\"/>\n<polygon fill=\"#000000\" stroke=\"#000000\" points=\"118.8971,-45.031 115.3792,-35.0373 111.8971,-45.0435 118.8971,-45.031\"/>\n<text text-anchor=\"middle\" x=\"109\" y=\"-57.8\" font-family=\"Times,serif\" font-size=\"14.00\" fill=\"#000000\">0 </text>\n</g>\n<!-- F_I&#45;&gt;I_S0 -->\n<g id=\"edge6\" class=\"edge\">\n<title>F_I&#45;&gt;I_S0</title>\n<path fill=\"none\" stroke=\"#000000\" d=\"M280.584,-29.684C270.7985,-28.8129 259.8328,-29.0093 250.1949,-32 244.5507,-33.7514 238.9835,-36.4495 233.7693,-39.552\"/>\n<polygon fill=\"#000000\" stroke=\"#000000\" points=\"231.817,-36.6469 225.3764,-45.0594 235.6573,-42.4994 231.817,-36.6469\"/>\n<text text-anchor=\"middle\" x=\"256.1949\" y=\"-35.8\" font-family=\"Times,serif\" font-size=\"14.00\" fill=\"#000000\">1 </text>\n</g>\n<!-- F_I&#45;&gt;I -->\n<g id=\"edge7\" class=\"edge\">\n<title>F_I&#45;&gt;I</title>\n<path fill=\"none\" stroke=\"#000000\" d=\"M281.9702,-24.5225C267.5346,-19.3263 249.1621,-13.6138 232.1949,-11 199.7742,-6.0056 162.0617,-9.4904 136.9873,-13.0977\"/>\n<polygon fill=\"#000000\" stroke=\"#000000\" points=\"136.4173,-9.6441 127.0672,-14.6268 137.4837,-16.5624 136.4173,-9.6441\"/>\n<text text-anchor=\"middle\" x=\"203.5975\" y=\"-14.8\" font-family=\"Times,serif\" font-size=\"14.00\" fill=\"#000000\">0 </text>\n</g>\n</g>\n</svg>\n"
          },
          "metadata": {
            "tags": []
          },
          "execution_count": 45
        }
      ]
    },
    {
      "cell_type": "markdown",
      "metadata": {
        "id": "5vBgnN9eYDJh"
      },
      "source": [
        "#### State DFA is in after 10010 = F_I\n",
        "\n",
        "The string \"10010\" ends only in the F_I state in the DFA.\n",
        "\n",
        "#### Set of states NFA is in after 10010 (last ans of 1b(ii) ) = {I, F}\n",
        "\n",
        "In the NFA, it ends in F $or$ I.\n",
        "\n",
        "#### Do the above match? Recall that for an NFA set of states (A,B), a DFA state may be named A_B or B_A. We use \"match\" in this sense.\n",
        "\n",
        "If we decompress F_I to F and I, as the instructions say to do, then they do indeed match.\n",
        "\n",
        "#### Reason that the above should match? Please provide a sentence stating when a DFA accepts and when an NFA accepts in terms of its tokens being in many states that includes a final state.\n",
        "\n",
        "In a DFA, there is only a destination the token can result in, and that must be a final state, where as in an NFA, there is a set of states where the token may result in, and so long as one of them is a final state, the string is considered accepted."
      ]
    },
    {
      "cell_type": "markdown",
      "metadata": {
        "id": "c2wOs3qiYDJh"
      },
      "source": [
        "# Task 4: Design an NFA for $\\{\\varepsilon, 0\\}$ \n",
        "### It will be a 2-state NFA with an IF state and a final state (call that final state \"F2\" )"
      ]
    },
    {
      "cell_type": "code",
      "metadata": {
        "id": "vfq7j-ymYDJi"
      },
      "source": [
        "nfaEps0 = md2mc('''\n",
        "NFA \n",
        "IF : \" -> IF\n",
        "IF : 0 -> F2\n",
        " \n",
        "''')"
      ],
      "execution_count": 46,
      "outputs": []
    },
    {
      "cell_type": "code",
      "metadata": {
        "id": "WoY-DuBHYDJi",
        "colab": {
          "base_uri": "https://localhost:8080/",
          "height": 140
        },
        "outputId": "69755210-a16a-4ce0-f676-81b729bd714c"
      },
      "source": [
        "dotObj_nfa(nfaEps0)"
      ],
      "execution_count": 47,
      "outputs": [
        {
          "output_type": "execute_result",
          "data": {
            "text/plain": [
              "<graphviz.dot.Digraph at 0x7fd5e2e6f978>"
            ],
            "image/svg+xml": "<?xml version=\"1.0\" encoding=\"UTF-8\" standalone=\"no\"?>\n<!DOCTYPE svg PUBLIC \"-//W3C//DTD SVG 1.1//EN\"\n \"http://www.w3.org/Graphics/SVG/1.1/DTD/svg11.dtd\">\n<!-- Generated by graphviz version 2.40.1 (20161225.0304)\n -->\n<!-- Title: %3 Pages: 1 -->\n<svg width=\"242pt\" height=\"89pt\"\n viewBox=\"0.00 0.00 242.29 88.65\" xmlns=\"http://www.w3.org/2000/svg\" xmlns:xlink=\"http://www.w3.org/1999/xlink\">\n<g id=\"graph0\" class=\"graph\" transform=\"scale(1 1) rotate(0) translate(4 84.6465)\">\n<title>%3</title>\n<polygon fill=\"#ffffff\" stroke=\"transparent\" points=\"-4,4 -4,-84.6465 238.293,-84.6465 238.293,4 -4,4\"/>\n<!-- EMPTY -->\n<g id=\"node1\" class=\"node\">\n<title>EMPTY</title>\n</g>\n<!-- IF -->\n<g id=\"node3\" class=\"node\">\n<title>IF</title>\n<ellipse fill=\"none\" stroke=\"#000000\" cx=\"113.8483\" cy=\"-24.7982\" rx=\"18.724\" ry=\"18.724\"/>\n<ellipse fill=\"none\" stroke=\"#000000\" cx=\"113.8483\" cy=\"-24.7982\" rx=\"22.6977\" ry=\"22.6977\"/>\n<text text-anchor=\"middle\" x=\"113.8483\" y=\"-21.0982\" font-family=\"Times,serif\" font-size=\"14.00\" fill=\"#000000\">IF</text>\n</g>\n<!-- EMPTY&#45;&gt;IF -->\n<g id=\"edge1\" class=\"edge\">\n<title>EMPTY&#45;&gt;IF</title>\n<path fill=\"none\" stroke=\"#000000\" d=\"M54.0033,-24.7982C62.5212,-24.7982 72.0276,-24.7982 80.9112,-24.7982\"/>\n<polygon fill=\"#000000\" stroke=\"#000000\" points=\"80.9572,-28.2983 90.9572,-24.7982 80.9572,-21.2983 80.9572,-28.2983\"/>\n</g>\n<!-- F2 -->\n<g id=\"node2\" class=\"node\">\n<title>F2</title>\n<ellipse fill=\"none\" stroke=\"#000000\" cx=\"209.4948\" cy=\"-24.7982\" rx=\"20.6302\" ry=\"20.6302\"/>\n<ellipse fill=\"none\" stroke=\"#000000\" cx=\"209.4948\" cy=\"-24.7982\" rx=\"24.5979\" ry=\"24.5979\"/>\n<text text-anchor=\"middle\" x=\"209.4948\" y=\"-21.0982\" font-family=\"Times,serif\" font-size=\"14.00\" fill=\"#000000\">F2</text>\n</g>\n<!-- IF&#45;&gt;F2 -->\n<g id=\"edge3\" class=\"edge\">\n<title>IF&#45;&gt;F2</title>\n<path fill=\"none\" stroke=\"#000000\" d=\"M137.0017,-24.7982C148.2318,-24.7982 161.9613,-24.7982 174.4394,-24.7982\"/>\n<polygon fill=\"#000000\" stroke=\"#000000\" points=\"174.5444,-28.2983 184.5444,-24.7982 174.5443,-21.2983 174.5444,-28.2983\"/>\n<text text-anchor=\"middle\" x=\"160.6967\" y=\"-28.5982\" font-family=\"Times,serif\" font-size=\"14.00\" fill=\"#000000\">0 </text>\n</g>\n<!-- IF&#45;&gt;IF -->\n<g id=\"edge2\" class=\"edge\">\n<title>IF&#45;&gt;IF</title>\n<path fill=\"none\" stroke=\"#000000\" d=\"M106.4966,-46.6514C105.6946,-56.789 108.1452,-65.6465 113.8483,-65.6465 117.5019,-65.6465 119.8206,-62.0114 120.8045,-56.7333\"/>\n<polygon fill=\"#000000\" stroke=\"#000000\" points=\"124.3052,-56.781 121.2,-46.6514 117.3106,-56.5065 124.3052,-56.781\"/>\n<text text-anchor=\"middle\" x=\"113.8483\" y=\"-69.4465\" font-family=\"Times,serif\" font-size=\"14.00\" fill=\"#000000\">&quot; </text>\n</g>\n</g>\n</svg>\n"
          },
          "metadata": {
            "tags": []
          },
          "execution_count": 47
        }
      ]
    },
    {
      "cell_type": "markdown",
      "metadata": {
        "id": "SsAXBEw8YDJi"
      },
      "source": [
        "# A tutorial on Concatenating NFA\n",
        "\n",
        "Watch this video, then do Task 5.\n",
        "\n",
        "To watch the video separately in Youtube in large size, \n",
        "visit https://youtu.be/VWyOT1uYfIc\n",
        "\n",
        "Otherwise just run the command below!"
      ]
    },
    {
      "cell_type": "code",
      "metadata": {
        "id": "2um8N0irYDJj",
        "colab": {
          "base_uri": "https://localhost:8080/",
          "height": 321
        },
        "outputId": "f635f1d3-2df4-4829-be54-6eda4f140905"
      },
      "source": [
        "# NFA Concatenation\n",
        "from IPython.display import YouTubeVideo\n",
        "YouTubeVideo('VWyOT1uYfIc')"
      ],
      "execution_count": 48,
      "outputs": [
        {
          "output_type": "execute_result",
          "data": {
            "text/html": [
              "\n",
              "        <iframe\n",
              "            width=\"400\"\n",
              "            height=\"300\"\n",
              "            src=\"https://www.youtube.com/embed/VWyOT1uYfIc\"\n",
              "            frameborder=\"0\"\n",
              "            allowfullscreen\n",
              "        ></iframe>\n",
              "        "
            ],
            "text/plain": [
              "<IPython.lib.display.YouTubeVideo at 0x7fd5e2e6f9b0>"
            ],
            "image/jpeg": "[encoded data removed]"
          },
          "metadata": {
            "tags": []
          },
          "execution_count": 48
        }
      ]
    },
    {
      "cell_type": "markdown",
      "metadata": {
        "id": "kO7-c11-YDJk"
      },
      "source": [
        "# Task 5: Develop a Concatenation NFA\n",
        "\n",
        "## Concatenate nfaEnds10 and nfaEps0 to obtain NFAEnds10Eps0.\n",
        "\n",
        "### Follow the steps in the above video.\n",
        "\n",
        "### Describe the steps in a few bullets below, then finish the notebook code cell that defines NFAEnds10Eps0 below where space is provided for your work.\n"
      ]
    },
    {
      "cell_type": "markdown",
      "metadata": {
        "id": "Lxkw3n6Se44S"
      },
      "source": [
        "Any final states in ndaEnds10, will now be considered regular states.<br>\r\n",
        "Create connection for every former final state to the initial state(s) of nfaEps0."
      ]
    },
    {
      "cell_type": "markdown",
      "metadata": {
        "id": "BS4_n3fYYDJl"
      },
      "source": [
        "# Show the full Concatenation NFA below\n"
      ]
    },
    {
      "cell_type": "code",
      "metadata": {
        "run_control": {
          "frozen": false,
          "read_only": false
        },
        "id": "SPkbgCG7YDJl"
      },
      "source": [
        "# Here is the resulting NFA\n",
        "\n",
        "NFAEnds10Eps0 = md2mc('''\n",
        "NFA \n",
        "\n",
        "!!---- Put NFA 1's transitions below, \n",
        "!!----  after suitably renaming states to make final states non-final etc.\n",
        " \n",
        "I : 0 | 1 -> I\n",
        "I : 1 -> S11\n",
        "S11 : 0 -> S12\n",
        "\n",
        "!!--- put the \"bridge\" transition below\n",
        " \n",
        "S12 : \"\" -> F1\n",
        "\n",
        "!!--- put NFA 2's transitions below, again after suitable state renamings as above\n",
        "\n",
        "F1 : \"\" -> F1\n",
        "F1 : 0 -> F2\n",
        "\n",
        "''')"
      ],
      "execution_count": 49,
      "outputs": []
    },
    {
      "cell_type": "markdown",
      "metadata": {
        "id": "aRuf3P-EYDJm"
      },
      "source": [
        "## Draw the concat NFA and convert to a DFA\n",
        "\n",
        "... Run the THREE commands below, and then move on to do Task 6 \n",
        "... based on the results you observe from these commands.\n"
      ]
    },
    {
      "cell_type": "code",
      "metadata": {
        "id": "xqpMSF4tYDJm",
        "colab": {
          "base_uri": "https://localhost:8080/",
          "height": 178
        },
        "outputId": "a2a01020-d715-4ae3-ae3e-5ffce2944982"
      },
      "source": [
        "# command-1\n",
        "dotObj_nfa(NFAEnds10Eps0)"
      ],
      "execution_count": 50,
      "outputs": [
        {
          "output_type": "execute_result",
          "data": {
            "text/plain": [
              "<graphviz.dot.Digraph at 0x7fd5e2ea4b00>"
            ],
            "image/svg+xml": "<?xml version=\"1.0\" encoding=\"UTF-8\" standalone=\"no\"?>\n<!DOCTYPE svg PUBLIC \"-//W3C//DTD SVG 1.1//EN\"\n \"http://www.w3.org/Graphics/SVG/1.1/DTD/svg11.dtd\">\n<!-- Generated by graphviz version 2.40.1 (20161225.0304)\n -->\n<!-- Title: %3 Pages: 1 -->\n<svg width=\"526pt\" height=\"118pt\"\n viewBox=\"0.00 0.00 525.88 118.00\" xmlns=\"http://www.w3.org/2000/svg\" xmlns:xlink=\"http://www.w3.org/1999/xlink\">\n<g id=\"graph0\" class=\"graph\" transform=\"scale(1 1) rotate(0) translate(4 113.9977)\">\n<title>%3</title>\n<polygon fill=\"#ffffff\" stroke=\"transparent\" points=\"-4,4 -4,-113.9977 521.8835,-113.9977 521.8835,4 -4,4\"/>\n<!-- EMPTY -->\n<g id=\"node1\" class=\"node\">\n<title>EMPTY</title>\n</g>\n<!-- I -->\n<g id=\"node4\" class=\"node\">\n<title>I</title>\n<ellipse fill=\"none\" stroke=\"#000000\" cx=\"109\" cy=\"-25.9977\" rx=\"18\" ry=\"18\"/>\n<text text-anchor=\"middle\" x=\"109\" y=\"-22.2977\" font-family=\"Times,serif\" font-size=\"14.00\" fill=\"#000000\">I</text>\n</g>\n<!-- EMPTY&#45;&gt;I -->\n<g id=\"edge1\" class=\"edge\">\n<title>EMPTY&#45;&gt;I</title>\n<path fill=\"none\" stroke=\"#000000\" d=\"M54.3048,-25.9977C62.6909,-25.9977 71.9407,-25.9977 80.4103,-25.9977\"/>\n<polygon fill=\"#000000\" stroke=\"#000000\" points=\"80.5976,-29.4978 90.5976,-25.9977 80.5976,-22.4978 80.5976,-29.4978\"/>\n</g>\n<!-- S12 -->\n<g id=\"node2\" class=\"node\">\n<title>S12</title>\n<ellipse fill=\"none\" stroke=\"#000000\" cx=\"299.6932\" cy=\"-25.9977\" rx=\"25.9954\" ry=\"25.9954\"/>\n<text text-anchor=\"middle\" x=\"299.6932\" y=\"-22.2977\" font-family=\"Times,serif\" font-size=\"14.00\" fill=\"#000000\">S12</text>\n</g>\n<!-- F1 -->\n<g id=\"node6\" class=\"node\">\n<title>F1</title>\n<ellipse fill=\"none\" stroke=\"#000000\" cx=\"395.489\" cy=\"-25.9977\" rx=\"20.6302\" ry=\"20.6302\"/>\n<ellipse fill=\"none\" stroke=\"#000000\" cx=\"395.489\" cy=\"-25.9977\" rx=\"24.5979\" ry=\"24.5979\"/>\n<text text-anchor=\"middle\" x=\"395.489\" y=\"-22.2977\" font-family=\"Times,serif\" font-size=\"14.00\" fill=\"#000000\">F1</text>\n</g>\n<!-- S12&#45;&gt;F1 -->\n<g id=\"edge6\" class=\"edge\">\n<title>S12&#45;&gt;F1</title>\n<path fill=\"none\" stroke=\"#000000\" d=\"M325.8698,-25.9977C336.558,-25.9977 349.077,-25.9977 360.5292,-25.9977\"/>\n<polygon fill=\"#000000\" stroke=\"#000000\" points=\"360.6635,-29.4978 370.6635,-25.9977 360.6634,-22.4978 360.6635,-29.4978\"/>\n<text text-anchor=\"middle\" x=\"348.1909\" y=\"-29.7977\" font-family=\"Times,serif\" font-size=\"14.00\" fill=\"#000000\">&#39;&#39; </text>\n</g>\n<!-- S11 -->\n<g id=\"node3\" class=\"node\">\n<title>S11</title>\n<ellipse fill=\"none\" stroke=\"#000000\" cx=\"200.3478\" cy=\"-25.9977\" rx=\"25.1964\" ry=\"25.1964\"/>\n<text text-anchor=\"middle\" x=\"200.3478\" y=\"-22.2977\" font-family=\"Times,serif\" font-size=\"14.00\" fill=\"#000000\">S11</text>\n</g>\n<!-- S11&#45;&gt;S12 -->\n<g id=\"edge5\" class=\"edge\">\n<title>S11&#45;&gt;S12</title>\n<path fill=\"none\" stroke=\"#000000\" d=\"M225.9317,-25.9977C237.34,-25.9977 250.9852,-25.9977 263.4196,-25.9977\"/>\n<polygon fill=\"#000000\" stroke=\"#000000\" points=\"263.5041,-29.4978 273.5041,-25.9977 263.504,-22.4978 263.5041,-29.4978\"/>\n<text text-anchor=\"middle\" x=\"249.6955\" y=\"-29.7977\" font-family=\"Times,serif\" font-size=\"14.00\" fill=\"#000000\">0 </text>\n</g>\n<!-- I&#45;&gt;S11 -->\n<g id=\"edge3\" class=\"edge\">\n<title>I&#45;&gt;S11</title>\n<path fill=\"none\" stroke=\"#000000\" d=\"M127.0474,-25.9977C137.7966,-25.9977 151.8158,-25.9977 164.7119,-25.9977\"/>\n<polygon fill=\"#000000\" stroke=\"#000000\" points=\"164.7296,-29.4978 174.7296,-25.9977 164.7295,-22.4978 164.7296,-29.4978\"/>\n<text text-anchor=\"middle\" x=\"151\" y=\"-29.7977\" font-family=\"Times,serif\" font-size=\"14.00\" fill=\"#000000\">1 </text>\n</g>\n<!-- I&#45;&gt;I -->\n<g id=\"edge2\" class=\"edge\">\n<title>I&#45;&gt;I</title>\n<path fill=\"none\" stroke=\"#000000\" d=\"M105.7643,-43.7794C105.2144,-53.3126 106.293,-61.9977 109,-61.9977 110.6496,-61.9977 111.6945,-58.7726 112.1347,-54.0958\"/>\n<polygon fill=\"#000000\" stroke=\"#000000\" points=\"115.6375,-53.8133 112.2357,-43.7794 108.6379,-53.7446 115.6375,-53.8133\"/>\n<text text-anchor=\"middle\" x=\"109\" y=\"-65.7977\" font-family=\"Times,serif\" font-size=\"14.00\" fill=\"#000000\">0 </text>\n</g>\n<!-- I&#45;&gt;I -->\n<g id=\"edge4\" class=\"edge\">\n<title>I&#45;&gt;I</title>\n<path fill=\"none\" stroke=\"#000000\" d=\"M103.6841,-43.418C100.6538,-60.7886 102.4258,-79.9977 109,-79.9977 114.2902,-79.9977 116.4708,-67.5594 115.5419,-53.6497\"/>\n<polygon fill=\"#000000\" stroke=\"#000000\" points=\"118.9808,-52.9305 114.3159,-43.418 112.0305,-53.7634 118.9808,-52.9305\"/>\n<text text-anchor=\"middle\" x=\"109\" y=\"-83.7977\" font-family=\"Times,serif\" font-size=\"14.00\" fill=\"#000000\">1 </text>\n</g>\n<!-- F2 -->\n<g id=\"node5\" class=\"node\">\n<title>F2</title>\n<ellipse fill=\"none\" stroke=\"#000000\" cx=\"493.0854\" cy=\"-25.9977\" rx=\"20.6302\" ry=\"20.6302\"/>\n<ellipse fill=\"none\" stroke=\"#000000\" cx=\"493.0854\" cy=\"-25.9977\" rx=\"24.5979\" ry=\"24.5979\"/>\n<text text-anchor=\"middle\" x=\"493.0854\" y=\"-22.2977\" font-family=\"Times,serif\" font-size=\"14.00\" fill=\"#000000\">F2</text>\n</g>\n<!-- F1&#45;&gt;F2 -->\n<g id=\"edge8\" class=\"edge\">\n<title>F1&#45;&gt;F2</title>\n<path fill=\"none\" stroke=\"#000000\" d=\"M420.3692,-25.9977C431.8408,-25.9977 445.6552,-25.9977 458.148,-25.9977\"/>\n<polygon fill=\"#000000\" stroke=\"#000000\" points=\"458.2506,-29.4978 468.2506,-25.9977 458.2506,-22.4978 458.2506,-29.4978\"/>\n<text text-anchor=\"middle\" x=\"444.2872\" y=\"-29.7977\" font-family=\"Times,serif\" font-size=\"14.00\" fill=\"#000000\">0 </text>\n</g>\n<!-- F1&#45;&gt;F1 -->\n<g id=\"edge7\" class=\"edge\">\n<title>F1&#45;&gt;F1</title>\n<path fill=\"none\" stroke=\"#000000\" d=\"M386.9988,-49.3298C386.1902,-59.7681 389.0203,-68.7958 395.489,-68.7958 399.6331,-68.7958 402.2838,-65.0909 403.4412,-59.6835\"/>\n<polygon fill=\"#000000\" stroke=\"#000000\" points=\"406.9555,-59.498 403.9793,-49.3298 399.9649,-59.1346 406.9555,-59.498\"/>\n<text text-anchor=\"middle\" x=\"395.489\" y=\"-72.5958\" font-family=\"Times,serif\" font-size=\"14.00\" fill=\"#000000\">&#39;&#39; </text>\n</g>\n</g>\n</svg>\n"
          },
          "metadata": {
            "tags": []
          },
          "execution_count": 50
        }
      ]
    },
    {
      "cell_type": "code",
      "metadata": {
        "id": "OryWhwn0YDJm",
        "colab": {
          "base_uri": "https://localhost:8080/",
          "height": 281
        },
        "outputId": "8cbed8df-85da-43e8-c1dc-c86b3fe1a894"
      },
      "source": [
        "# command-2\n",
        "\n",
        "dotObj_dfa(nfa2dfa(NFAEnds10Eps0, STATENAME_MAXSIZE=50), STATENAME_MAXSIZE=50)"
      ],
      "execution_count": 51,
      "outputs": [
        {
          "output_type": "execute_result",
          "data": {
            "text/plain": [
              "<graphviz.dot.Digraph at 0x7fd5e2ea4e80>"
            ],
            "image/svg+xml": "<?xml version=\"1.0\" encoding=\"UTF-8\" standalone=\"no\"?>\n<!DOCTYPE svg PUBLIC \"-//W3C//DTD SVG 1.1//EN\"\n \"http://www.w3.org/Graphics/SVG/1.1/DTD/svg11.dtd\">\n<!-- Generated by graphviz version 2.40.1 (20161225.0304)\n -->\n<!-- Title: %3 Pages: 1 -->\n<svg width=\"516pt\" height=\"195pt\"\n viewBox=\"0.00 0.00 515.98 194.75\" xmlns=\"http://www.w3.org/2000/svg\" xmlns:xlink=\"http://www.w3.org/1999/xlink\">\n<g id=\"graph0\" class=\"graph\" transform=\"scale(1 1) rotate(0) translate(4 190.7457)\">\n<title>%3</title>\n<polygon fill=\"#ffffff\" stroke=\"transparent\" points=\"-4,4 -4,-190.7457 511.9804,-190.7457 511.9804,4 -4,4\"/>\n<!-- EMPTY -->\n<g id=\"node1\" class=\"node\">\n<title>EMPTY</title>\n</g>\n<!-- I -->\n<g id=\"node3\" class=\"node\">\n<title>I</title>\n<ellipse fill=\"none\" stroke=\"#000000\" cx=\"109\" cy=\"-18\" rx=\"18\" ry=\"18\"/>\n<text text-anchor=\"middle\" x=\"109\" y=\"-14.3\" font-family=\"Times,serif\" font-size=\"14.00\" fill=\"#000000\">I</text>\n</g>\n<!-- EMPTY&#45;&gt;I -->\n<g id=\"edge1\" class=\"edge\">\n<title>EMPTY&#45;&gt;I</title>\n<path fill=\"none\" stroke=\"#000000\" d=\"M54.3048,-18C62.6909,-18 71.9407,-18 80.4103,-18\"/>\n<polygon fill=\"#000000\" stroke=\"#000000\" points=\"80.5976,-21.5001 90.5976,-18 80.5976,-14.5001 80.5976,-21.5001\"/>\n</g>\n<!-- I_S11 -->\n<g id=\"node2\" class=\"node\">\n<title>I_S11</title>\n<ellipse fill=\"none\" stroke=\"#000000\" cx=\"208.1471\" cy=\"-75\" rx=\"33.2948\" ry=\"33.2948\"/>\n<text text-anchor=\"middle\" x=\"208.1471\" y=\"-71.3\" font-family=\"Times,serif\" font-size=\"14.00\" fill=\"#000000\">I_S11</text>\n</g>\n<!-- I_S11&#45;&gt;I_S11 -->\n<g id=\"edge4\" class=\"edge\">\n<title>I_S11&#45;&gt;I_S11</title>\n<path fill=\"none\" stroke=\"#000000\" d=\"M197.6496,-106.4659C197.5385,-117.3541 201.0377,-126.1471 208.1471,-126.1471 212.8126,-126.1471 215.9233,-122.3602 217.4793,-116.6795\"/>\n<polygon fill=\"#000000\" stroke=\"#000000\" points=\"220.9883,-116.7982 218.6445,-106.4659 214.0335,-116.0047 220.9883,-116.7982\"/>\n<text text-anchor=\"middle\" x=\"208.1471\" y=\"-129.9471\" font-family=\"Times,serif\" font-size=\"14.00\" fill=\"#000000\">1 </text>\n</g>\n<!-- F1_I_S12 -->\n<g id=\"node5\" class=\"node\">\n<title>F1_I_S12</title>\n<ellipse fill=\"none\" stroke=\"#000000\" cx=\"342.0398\" cy=\"-134\" rx=\"48.9738\" ry=\"48.9738\"/>\n<ellipse fill=\"none\" stroke=\"#000000\" cx=\"342.0398\" cy=\"-134\" rx=\"52.9925\" ry=\"52.9925\"/>\n<text text-anchor=\"middle\" x=\"342.0398\" y=\"-130.3\" font-family=\"Times,serif\" font-size=\"14.00\" fill=\"#000000\">F1_I_S12</text>\n</g>\n<!-- I_S11&#45;&gt;F1_I_S12 -->\n<g id=\"edge5\" class=\"edge\">\n<title>I_S11&#45;&gt;F1_I_S12</title>\n<path fill=\"none\" stroke=\"#000000\" d=\"M235.5931,-93.8796C243.0766,-98.5484 251.3233,-103.2744 259.2941,-107 266.3206,-110.2843 273.8559,-113.3369 281.4135,-116.1189\"/>\n<polygon fill=\"#000000\" stroke=\"#000000\" points=\"280.367,-119.4611 290.9618,-119.4949 282.7005,-112.8615 280.367,-119.4611\"/>\n<text text-anchor=\"middle\" x=\"265.2941\" y=\"-114.8\" font-family=\"Times,serif\" font-size=\"14.00\" fill=\"#000000\">0 </text>\n</g>\n<!-- I&#45;&gt;I_S11 -->\n<g id=\"edge2\" class=\"edge\">\n<title>I&#45;&gt;I_S11</title>\n<path fill=\"none\" stroke=\"#000000\" d=\"M124.9297,-27.158C137.1015,-34.1557 154.3968,-44.0988 170.0697,-53.1092\"/>\n<polygon fill=\"#000000\" stroke=\"#000000\" points=\"168.6453,-56.3274 179.0592,-58.2773 172.1342,-50.2588 168.6453,-56.3274\"/>\n<text text-anchor=\"middle\" x=\"151\" y=\"-47.8\" font-family=\"Times,serif\" font-size=\"14.00\" fill=\"#000000\">1 </text>\n</g>\n<!-- I&#45;&gt;I -->\n<g id=\"edge3\" class=\"edge\">\n<title>I&#45;&gt;I</title>\n<path fill=\"none\" stroke=\"#000000\" d=\"M102.6208,-35.0373C101.3189,-44.8579 103.4453,-54 109,-54 112.4717,-54 114.6042,-50.4289 115.3975,-45.3529\"/>\n<polygon fill=\"#000000\" stroke=\"#000000\" points=\"118.8971,-45.031 115.3792,-35.0373 111.8971,-45.0435 118.8971,-45.031\"/>\n<text text-anchor=\"middle\" x=\"109\" y=\"-57.8\" font-family=\"Times,serif\" font-size=\"14.00\" fill=\"#000000\">0 </text>\n</g>\n<!-- F2_I -->\n<g id=\"node4\" class=\"node\">\n<title>F2_I</title>\n<ellipse fill=\"none\" stroke=\"#000000\" cx=\"475.3829\" cy=\"-48\" rx=\"28.6832\" ry=\"28.6832\"/>\n<ellipse fill=\"none\" stroke=\"#000000\" cx=\"475.3829\" cy=\"-48\" rx=\"32.6952\" ry=\"32.6952\"/>\n<text text-anchor=\"middle\" x=\"475.3829\" y=\"-44.3\" font-family=\"Times,serif\" font-size=\"14.00\" fill=\"#000000\">F2_I</text>\n</g>\n<!-- F2_I&#45;&gt;I_S11 -->\n<g id=\"edge8\" class=\"edge\">\n<title>F2_I&#45;&gt;I_S11</title>\n<path fill=\"none\" stroke=\"#000000\" d=\"M442.6237,-47.9063C405.3329,-48.188 342.6705,-49.8422 289.2941,-57 276.556,-58.7082 262.8595,-61.4064 250.4132,-64.1991\"/>\n<polygon fill=\"#000000\" stroke=\"#000000\" points=\"249.2498,-60.8761 240.3008,-66.5475 250.8333,-67.6946 249.2498,-60.8761\"/>\n<text text-anchor=\"middle\" x=\"342.0398\" y=\"-60.8\" font-family=\"Times,serif\" font-size=\"14.00\" fill=\"#000000\">1 </text>\n</g>\n<!-- F2_I&#45;&gt;I -->\n<g id=\"edge9\" class=\"edge\">\n<title>F2_I&#45;&gt;I</title>\n<path fill=\"none\" stroke=\"#000000\" d=\"M442.6688,-45.3213C371.6326,-39.5048 204.2893,-25.8024 137.3764,-20.3235\"/>\n<polygon fill=\"#000000\" stroke=\"#000000\" points=\"137.4213,-16.8156 127.169,-19.4877 136.85,-23.7922 137.4213,-16.8156\"/>\n<text text-anchor=\"middle\" x=\"265.2941\" y=\"-34.8\" font-family=\"Times,serif\" font-size=\"14.00\" fill=\"#000000\">0 </text>\n</g>\n<!-- F1_I_S12&#45;&gt;I_S11 -->\n<g id=\"edge6\" class=\"edge\">\n<title>F1_I_S12&#45;&gt;I_S11</title>\n<path fill=\"none\" stroke=\"#000000\" d=\"M299.2927,-102.6084C290.368,-97.1019 280.7801,-91.8968 271.2941,-88 264.964,-85.3996 258.0556,-83.2998 251.2063,-81.6098\"/>\n<polygon fill=\"#000000\" stroke=\"#000000\" points=\"251.8075,-78.1583 241.2876,-79.4164 250.296,-84.9931 251.8075,-78.1583\"/>\n<text text-anchor=\"middle\" x=\"265.2941\" y=\"-91.8\" font-family=\"Times,serif\" font-size=\"14.00\" fill=\"#000000\">1 </text>\n</g>\n<!-- F1_I_S12&#45;&gt;F2_I -->\n<g id=\"edge7\" class=\"edge\">\n<title>F1_I_S12&#45;&gt;F2_I</title>\n<path fill=\"none\" stroke=\"#000000\" d=\"M386.4411,-105.3632C403.5726,-94.3143 422.9203,-81.8359 439.1852,-71.3458\"/>\n<polygon fill=\"#000000\" stroke=\"#000000\" points=\"441.3636,-74.1057 447.8704,-65.7443 437.5696,-68.223 441.3636,-74.1057\"/>\n<text text-anchor=\"middle\" x=\"418.7855\" y=\"-88.8\" font-family=\"Times,serif\" font-size=\"14.00\" fill=\"#000000\">0 </text>\n</g>\n</g>\n</svg>\n"
          },
          "metadata": {
            "tags": []
          },
          "execution_count": 51
        }
      ]
    },
    {
      "cell_type": "code",
      "metadata": {
        "run_control": {
          "frozen": false,
          "read_only": false
        },
        "id": "HJruDQkDYDJn",
        "colab": {
          "base_uri": "https://localhost:8080/"
        },
        "outputId": "08ac5612-7ca6-4078-8046-a3af5dc6280d"
      },
      "source": [
        "# Let us see its internal representation -- this may give you hints for doing Task 6.\n",
        "\n",
        "# command-3\n",
        "\n",
        "NFAEnds10Eps0"
      ],
      "execution_count": 52,
      "outputs": [
        {
          "output_type": "execute_result",
          "data": {
            "text/plain": [
              "{'Delta': {('F1', ''): {'F1'},\n",
              "  ('F1', '0'): {'F2'},\n",
              "  ('I', '0'): {'I'},\n",
              "  ('I', '1'): {'I', 'S11'},\n",
              "  ('S11', '0'): {'S12'},\n",
              "  ('S12', ''): {'F1'}},\n",
              " 'F': {'F1', 'F2'},\n",
              " 'Q': {'F1', 'F2', 'I', 'S11', 'S12'},\n",
              " 'Q0': {'I'},\n",
              " 'Sigma': {'0', '1'}}"
            ]
          },
          "metadata": {
            "tags": []
          },
          "execution_count": 52
        }
      ]
    },
    {
      "cell_type": "markdown",
      "metadata": {
        "id": "-2AzI37YYDJn"
      },
      "source": [
        "# Task 6: Explain the NFA2DFA algorithm\n",
        "\n",
        "Below, you must explain the states of the DFA that resulted from converting the\n",
        "NFA to DFA using subset construction. \n",
        "\n",
        "You must look at the results of running command-1, command-2, and command-3 in your explanation.\n",
        "\n",
        "For each question, your answer must be in the following form:\n",
        "\n",
        "* Currently the NFA is in a *set* of states, say S1. That is already an E-closed state. That is where the DFA begins its operation (in the corresponding DFA state).\n",
        "\n",
        "* Let S1 be {s11, s12} for example. (Notice the use of upper and lower cases.)\n",
        "\n",
        "* Consider a '0' transition\n",
        "\n",
        "* Upon a '0', s11 went to set of states S11, s12 went to set of states S12, and so on.\n",
        "\n",
        "* I performed E-Closure of the states in S11 and that resulted in S11c. (If E-closure did not generate any new states, say \"E-Closure did not generate any new state.\")\n",
        "\n",
        "* Similarly, I performed E-Closure of the states in S12 and that resulted in S12c\n",
        "\n",
        "* Then I unioned S11c and S12c and called it S2\n",
        "\n",
        "* S2 is now an E-closed set of states\n",
        "\n",
        "* Thus, I arrive at a single NFA state corresponding to \n",
        "  - S1 going upon '0' to S2 (and the DFA now has a state corresponding to S2).\n",
        "\n",
        " \n",
        "## QUESTIONS FOR YOU TO ANSWER IN THE ABOVE MANNER\n",
        "\n",
        "### Looking at the NFA NFAEnds10Eps0, why did state I arise in the DFA?\n",
        "\n",
        " * Initially, the NFA is in state I. Performing E-Closure on this state yields the current state set { I }.\n",
        "   - Because there is only one state in this state set, the state I will arise in the DFA.\n",
        "   - There is no epsilon transitioning from I to another state.\n",
        "\n",
        "\n",
        "### Why did state A1_I arise in the DFA?\n",
        "\n",
        "* In the NFA, starting at I, 1 has two options. It can either stay at I, or it could be at S11. Since there are two possible locations for the token, a state in the DFA conversion is represented as I_S11.\n",
        " - Since there are no epsilon transitions from S11, there are no more state concatenations required. \n",
        "\n",
        "### Why did F3_I_T1 arise (mention E-closure steps)\n",
        "\n",
        "* Looking at the string \"10\", there are three possible destinations in the NFA. It could stay at I, it could be in S12, or if we take the epsilon, it could be in F1. Because it could possibly be in all three states, the three-state concatenation is necessary in the DFA.\n",
        "\n",
        "### Explain in detail why A1_I went upon a '0' to F3_I_T1 (include all the E-closure steps)\n",
        "\n",
        "* If S11 encounters a 0, it finds its way not only to S12, but with its epsilon transitions, it includes F1 as well. Where there are epsilon transitions, the token could be found in all the included states.\n",
        "\n",
        "### Why did F2_I arise?\n",
        "\n",
        "* Since I recursively calls 0s and 1s, it is possible for the token to never leave 1, since our sigma is {0,1}. Whenever the token reaches F2, it is always possible that the token could be in I as well."
      ]
    },
    {
      "cell_type": "markdown",
      "metadata": {
        "id": "RJXv7RK9YDJp"
      },
      "source": [
        "# Task 7: Brzozowski's minimization\n",
        "\n",
        "This is a DFA minimization algorithm that shows you that a bloated DFA can be minimized simply by following these steps, as explained in Section 7.7. In this problem, you will practice these steps on an initially bloated DFA given to you.\n",
        "\n",
        "The steps are these:\n",
        "\n",
        "1. Reverse the given DFA, say DFA_bloated, to obtain an NFA called NFA1 (use the rev_dfa function)\n",
        "\n",
        "2. Determinize NFA1 to obtain a DFA called DFA2\n",
        "\n",
        "3. Reverse DFA2 to obtain another NFA, say NFA2\n",
        "\n",
        "4. Determinize NFA2 to obtain the final minimized DFA, say DFA_min\n",
        "\n",
        "The problem asks you to apply this procedure to minimize DFA_bloated.\n",
        "\n"
      ]
    },
    {
      "cell_type": "code",
      "metadata": {
        "id": "DAvKLMvqYDJq"
      },
      "source": [
        "# This is a slight variant of Figure 6.7's bloated DFA \n",
        "\n",
        "DFA_bloated = md2mc('''\n",
        "\n",
        "DFA\n",
        "\n",
        "IS1: a -> Temp\n",
        "IS1: b -> FS3\n",
        "\n",
        "Temp: a -> FS2\n",
        "Temp: b -> FS3\n",
        "\n",
        "FS2: a -> S4\n",
        "FS2: b -> S5\n",
        "\n",
        "FS3: a -> S5\n",
        "FS3: b -> S4\n",
        "\n",
        "S4: a|b -> FS6\n",
        "S5: a|b -> FS6\n",
        "\n",
        "FS6: a|b -> FS6\n",
        "\n",
        "''')"
      ],
      "execution_count": 53,
      "outputs": []
    },
    {
      "cell_type": "code",
      "metadata": {
        "id": "h0EpcVHcYDJq",
        "outputId": "13ab960f-9b13-4336-a31b-14b2dec029a8",
        "colab": {
          "base_uri": "https://localhost:8080/",
          "height": 260
        }
      },
      "source": [
        "dotObj_dfa(DFA_bloated)"
      ],
      "execution_count": 54,
      "outputs": [
        {
          "output_type": "execute_result",
          "data": {
            "text/plain": [
              "<graphviz.dot.Digraph at 0x7fd5e2ea4da0>"
            ],
            "image/svg+xml": "<?xml version=\"1.0\" encoding=\"UTF-8\" standalone=\"no\"?>\n<!DOCTYPE svg PUBLIC \"-//W3C//DTD SVG 1.1//EN\"\n \"http://www.w3.org/Graphics/SVG/1.1/DTD/svg11.dtd\">\n<!-- Generated by graphviz version 2.40.1 (20161225.0304)\n -->\n<!-- Title: %3 Pages: 1 -->\n<svg width=\"566pt\" height=\"179pt\"\n viewBox=\"0.00 0.00 566.28 179.30\" xmlns=\"http://www.w3.org/2000/svg\" xmlns:xlink=\"http://www.w3.org/1999/xlink\">\n<g id=\"graph0\" class=\"graph\" transform=\"scale(1 1) rotate(0) translate(4 175.2953)\">\n<title>%3</title>\n<polygon fill=\"#ffffff\" stroke=\"transparent\" points=\"-4,4 -4,-175.2953 562.2768,-175.2953 562.2768,4 -4,4\"/>\n<!-- EMPTY -->\n<g id=\"node1\" class=\"node\">\n<title>EMPTY</title>\n</g>\n<!-- IS1 -->\n<g id=\"node5\" class=\"node\">\n<title>IS1</title>\n<ellipse fill=\"none\" stroke=\"#000000\" cx=\"115.0479\" cy=\"-46.6476\" rx=\"24.0958\" ry=\"24.0958\"/>\n<text text-anchor=\"middle\" x=\"115.0479\" y=\"-42.9476\" font-family=\"Times,serif\" font-size=\"14.00\" fill=\"#000000\">IS1</text>\n</g>\n<!-- EMPTY&#45;&gt;IS1 -->\n<g id=\"edge1\" class=\"edge\">\n<title>EMPTY&#45;&gt;IS1</title>\n<path fill=\"none\" stroke=\"#000000\" d=\"M54.3763,-46.6476C62.7026,-46.6476 71.9607,-46.6476 80.6861,-46.6476\"/>\n<polygon fill=\"#000000\" stroke=\"#000000\" points=\"80.9666,-50.1477 90.9666,-46.6476 80.9665,-43.1477 80.9666,-50.1477\"/>\n</g>\n<!-- S5 -->\n<g id=\"node2\" class=\"node\">\n<title>S5</title>\n<ellipse fill=\"none\" stroke=\"#000000\" cx=\"428.1834\" cy=\"-108.6476\" rx=\"20.5982\" ry=\"20.5982\"/>\n<text text-anchor=\"middle\" x=\"428.1834\" y=\"-104.9476\" font-family=\"Times,serif\" font-size=\"14.00\" fill=\"#000000\">S5</text>\n</g>\n<!-- FS6 -->\n<g id=\"node8\" class=\"node\">\n<title>FS6</title>\n<ellipse fill=\"none\" stroke=\"#000000\" cx=\"527.6292\" cy=\"-74.6476\" rx=\"26.7766\" ry=\"26.7766\"/>\n<ellipse fill=\"none\" stroke=\"#000000\" cx=\"527.6292\" cy=\"-74.6476\" rx=\"30.796\" ry=\"30.796\"/>\n<text text-anchor=\"middle\" x=\"527.6292\" y=\"-70.9476\" font-family=\"Times,serif\" font-size=\"14.00\" fill=\"#000000\">FS6</text>\n</g>\n<!-- S5&#45;&gt;FS6 -->\n<g id=\"edge12\" class=\"edge\">\n<title>S5&#45;&gt;FS6</title>\n<path fill=\"none\" stroke=\"#000000\" d=\"M448.8987,-112.077C458.2905,-112.8719 469.4108,-112.7328 478.9815,-109.6476 485.0903,-107.6785 491.0797,-104.6261 496.6527,-101.1268\"/>\n<polygon fill=\"#000000\" stroke=\"#000000\" points=\"498.7806,-103.9109 505.0247,-95.3515 494.8058,-98.1489 498.7806,-103.9109\"/>\n<text text-anchor=\"middle\" x=\"472.9815\" y=\"-115.4476\" font-family=\"Times,serif\" font-size=\"14.00\" fill=\"#000000\">a </text>\n</g>\n<!-- S5&#45;&gt;FS6 -->\n<g id=\"edge13\" class=\"edge\">\n<title>S5&#45;&gt;FS6</title>\n<path fill=\"none\" stroke=\"#000000\" d=\"M446.8475,-99.1772C453.1436,-96.2021 460.276,-93.0662 466.9815,-90.6476 473.5885,-88.2646 480.7162,-86.0667 487.6827,-84.1119\"/>\n<polygon fill=\"#000000\" stroke=\"#000000\" points=\"488.9416,-87.3981 497.6947,-81.4286 487.1295,-80.6367 488.9416,-87.3981\"/>\n<text text-anchor=\"middle\" x=\"472.9815\" y=\"-94.4476\" font-family=\"Times,serif\" font-size=\"14.00\" fill=\"#000000\">b </text>\n</g>\n<!-- Temp -->\n<g id=\"node3\" class=\"node\">\n<title>Temp</title>\n<ellipse fill=\"none\" stroke=\"#000000\" cx=\"217.5928\" cy=\"-95.6476\" rx=\"32.4942\" ry=\"32.4942\"/>\n<text text-anchor=\"middle\" x=\"217.5928\" y=\"-91.9476\" font-family=\"Times,serif\" font-size=\"14.00\" fill=\"#000000\">Temp</text>\n</g>\n<!-- FS2 -->\n<g id=\"node6\" class=\"node\">\n<title>FS2</title>\n<ellipse fill=\"none\" stroke=\"#000000\" cx=\"328.7376\" cy=\"-109.6476\" rx=\"26.7766\" ry=\"26.7766\"/>\n<ellipse fill=\"none\" stroke=\"#000000\" cx=\"328.7376\" cy=\"-109.6476\" rx=\"30.796\" ry=\"30.796\"/>\n<text text-anchor=\"middle\" x=\"328.7376\" y=\"-105.9476\" font-family=\"Times,serif\" font-size=\"14.00\" fill=\"#000000\">FS2</text>\n</g>\n<!-- Temp&#45;&gt;FS2 -->\n<g id=\"edge4\" class=\"edge\">\n<title>Temp&#45;&gt;FS2</title>\n<path fill=\"none\" stroke=\"#000000\" d=\"M250.0393,-99.7347C261.8529,-101.2227 275.3636,-102.9245 287.8171,-104.4932\"/>\n<polygon fill=\"#000000\" stroke=\"#000000\" points=\"287.6099,-107.9947 297.969,-105.772 288.4848,-101.0496 287.6099,-107.9947\"/>\n<text text-anchor=\"middle\" x=\"274.09\" y=\"-106.4476\" font-family=\"Times,serif\" font-size=\"14.00\" fill=\"#000000\">a </text>\n</g>\n<!-- FS3 -->\n<g id=\"node7\" class=\"node\">\n<title>FS3</title>\n<ellipse fill=\"none\" stroke=\"#000000\" cx=\"328.7376\" cy=\"-30.6476\" rx=\"26.7766\" ry=\"26.7766\"/>\n<ellipse fill=\"none\" stroke=\"#000000\" cx=\"328.7376\" cy=\"-30.6476\" rx=\"30.796\" ry=\"30.796\"/>\n<text text-anchor=\"middle\" x=\"328.7376\" y=\"-26.9476\" font-family=\"Times,serif\" font-size=\"14.00\" fill=\"#000000\">FS3</text>\n</g>\n<!-- Temp&#45;&gt;FS3 -->\n<g id=\"edge5\" class=\"edge\">\n<title>Temp&#45;&gt;FS3</title>\n<path fill=\"none\" stroke=\"#000000\" d=\"M245.9269,-79.0772C260.3356,-70.6507 277.9898,-60.3261 293.2906,-51.3778\"/>\n<polygon fill=\"#000000\" stroke=\"#000000\" points=\"295.12,-54.3626 301.9853,-46.293 291.5862,-48.3201 295.12,-54.3626\"/>\n<text text-anchor=\"middle\" x=\"274.09\" y=\"-69.4476\" font-family=\"Times,serif\" font-size=\"14.00\" fill=\"#000000\">b </text>\n</g>\n<!-- S4 -->\n<g id=\"node4\" class=\"node\">\n<title>S4</title>\n<ellipse fill=\"none\" stroke=\"#000000\" cx=\"428.1834\" cy=\"-40.6476\" rx=\"20.5982\" ry=\"20.5982\"/>\n<text text-anchor=\"middle\" x=\"428.1834\" y=\"-36.9476\" font-family=\"Times,serif\" font-size=\"14.00\" fill=\"#000000\">S4</text>\n</g>\n<!-- S4&#45;&gt;FS6 -->\n<g id=\"edge10\" class=\"edge\">\n<title>S4&#45;&gt;FS6</title>\n<path fill=\"none\" stroke=\"#000000\" d=\"M448.5277,-46.8043C457.8446,-49.6882 469.0088,-53.2344 478.9815,-56.6476 482.3204,-57.7904 485.777,-59.0051 489.237,-60.2429\"/>\n<polygon fill=\"#000000\" stroke=\"#000000\" points=\"488.3082,-63.6291 498.9024,-63.752 490.6971,-57.0494 488.3082,-63.6291\"/>\n<text text-anchor=\"middle\" x=\"472.9815\" y=\"-60.4476\" font-family=\"Times,serif\" font-size=\"14.00\" fill=\"#000000\">a </text>\n</g>\n<!-- S4&#45;&gt;FS6 -->\n<g id=\"edge11\" class=\"edge\">\n<title>S4&#45;&gt;FS6</title>\n<path fill=\"none\" stroke=\"#000000\" d=\"M448.443,-34.1092C457.9449,-32.0789 469.284,-31.1727 478.9815,-34.6476 485.9167,-37.1327 492.571,-41.0803 498.6119,-45.5486\"/>\n<polygon fill=\"#000000\" stroke=\"#000000\" points=\"496.4612,-48.3105 506.4381,-51.8758 500.8621,-42.867 496.4612,-48.3105\"/>\n<text text-anchor=\"middle\" x=\"472.9815\" y=\"-38.4476\" font-family=\"Times,serif\" font-size=\"14.00\" fill=\"#000000\">b </text>\n</g>\n<!-- IS1&#45;&gt;Temp -->\n<g id=\"edge2\" class=\"edge\">\n<title>IS1&#45;&gt;Temp</title>\n<path fill=\"none\" stroke=\"#000000\" d=\"M136.795,-57.0393C149.0447,-62.8927 164.7053,-70.3759 178.9719,-77.193\"/>\n<polygon fill=\"#000000\" stroke=\"#000000\" points=\"177.5641,-80.3993 188.0959,-81.5529 180.5821,-74.0834 177.5641,-80.3993\"/>\n<text text-anchor=\"middle\" x=\"162.0957\" y=\"-74.4476\" font-family=\"Times,serif\" font-size=\"14.00\" fill=\"#000000\">a </text>\n</g>\n<!-- IS1&#45;&gt;FS3 -->\n<g id=\"edge3\" class=\"edge\">\n<title>IS1&#45;&gt;FS3</title>\n<path fill=\"none\" stroke=\"#000000\" d=\"M139.0185,-44.0306C152.5382,-42.6102 169.747,-40.895 185.0957,-39.6476 219.6976,-36.8357 259.0506,-34.425 287.8057,-32.8083\"/>\n<polygon fill=\"#000000\" stroke=\"#000000\" points=\"288.1007,-36.2974 297.8917,-32.2493 287.7133,-29.3082 288.1007,-36.2974\"/>\n<text text-anchor=\"middle\" x=\"217.5928\" y=\"-43.4476\" font-family=\"Times,serif\" font-size=\"14.00\" fill=\"#000000\">b </text>\n</g>\n<!-- FS2&#45;&gt;S5 -->\n<g id=\"edge7\" class=\"edge\">\n<title>FS2&#45;&gt;S5</title>\n<path fill=\"none\" stroke=\"#000000\" d=\"M359.3861,-109.3394C371.392,-109.2187 385.1468,-109.0804 397.1863,-108.9593\"/>\n<polygon fill=\"#000000\" stroke=\"#000000\" points=\"397.2735,-112.4587 407.2378,-108.8583 397.203,-105.4591 397.2735,-112.4587\"/>\n<text text-anchor=\"middle\" x=\"383.3852\" y=\"-112.4476\" font-family=\"Times,serif\" font-size=\"14.00\" fill=\"#000000\">b </text>\n</g>\n<!-- FS2&#45;&gt;S4 -->\n<g id=\"edge6\" class=\"edge\">\n<title>FS2&#45;&gt;S4</title>\n<path fill=\"none\" stroke=\"#000000\" d=\"M354.1233,-92.0865C364.9875,-84.566 377.8124,-75.6817 389.3852,-67.6476 393.6574,-64.6818 398.1921,-61.5297 402.5976,-58.4653\"/>\n<polygon fill=\"#000000\" stroke=\"#000000\" points=\"404.598,-61.3374 410.807,-52.7526 400.5996,-55.5917 404.598,-61.3374\"/>\n<text text-anchor=\"middle\" x=\"383.3852\" y=\"-79.4476\" font-family=\"Times,serif\" font-size=\"14.00\" fill=\"#000000\">a </text>\n</g>\n<!-- FS3&#45;&gt;S5 -->\n<g id=\"edge8\" class=\"edge\">\n<title>FS3&#45;&gt;S5</title>\n<path fill=\"none\" stroke=\"#000000\" d=\"M359.0583,-35.2208C369.4158,-37.8788 380.5932,-42.0653 389.3852,-48.6476 395.6168,-53.313 405.0636,-67.8254 413.0752,-81.4082\"/>\n<polygon fill=\"#000000\" stroke=\"#000000\" points=\"410.0542,-83.1758 418.0846,-90.0869 416.1168,-79.6764 410.0542,-83.1758\"/>\n<text text-anchor=\"middle\" x=\"383.3852\" y=\"-52.4476\" font-family=\"Times,serif\" font-size=\"14.00\" fill=\"#000000\">a </text>\n</g>\n<!-- FS3&#45;&gt;S4 -->\n<g id=\"edge9\" class=\"edge\">\n<title>FS3&#45;&gt;S4</title>\n<path fill=\"none\" stroke=\"#000000\" d=\"M356.3334,-16.837C366.7408,-13.3373 378.6544,-11.3845 389.3852,-14.6476 394.3962,-16.1714 399.3485,-18.5815 403.9528,-21.3336\"/>\n<polygon fill=\"#000000\" stroke=\"#000000\" points=\"402.0409,-24.2655 412.3018,-26.9045 405.9262,-18.4427 402.0409,-24.2655\"/>\n<text text-anchor=\"middle\" x=\"383.3852\" y=\"-18.4476\" font-family=\"Times,serif\" font-size=\"14.00\" fill=\"#000000\">b </text>\n</g>\n<!-- FS6&#45;&gt;FS6 -->\n<g id=\"edge14\" class=\"edge\">\n<title>FS6&#45;&gt;FS6</title>\n<path fill=\"none\" stroke=\"#000000\" d=\"M522.5667,-105.0524C522.5667,-115.1873 524.2542,-123.2953 527.6292,-123.2953 529.7386,-123.2953 531.1888,-120.1281 531.9798,-115.2784\"/>\n<polygon fill=\"#000000\" stroke=\"#000000\" points=\"535.4886,-115.2714 532.6917,-105.0524 528.5055,-114.7852 535.4886,-115.2714\"/>\n<text text-anchor=\"middle\" x=\"527.6292\" y=\"-127.0953\" font-family=\"Times,serif\" font-size=\"14.00\" fill=\"#000000\">a </text>\n</g>\n<!-- FS6&#45;&gt;FS6 -->\n<g id=\"edge15\" class=\"edge\">\n<title>FS6&#45;&gt;FS6</title>\n<path fill=\"none\" stroke=\"#000000\" d=\"M518.3051,-104.1134C515.8727,-123.0605 518.9807,-141.2953 527.6292,-141.2953 534.7236,-141.2953 538.0898,-129.0248 537.7278,-114.1564\"/>\n<polygon fill=\"#000000\" stroke=\"#000000\" points=\"541.2119,-113.8146 536.9533,-104.1134 534.2327,-114.3529 541.2119,-113.8146\"/>\n<text text-anchor=\"middle\" x=\"527.6292\" y=\"-145.0953\" font-family=\"Times,serif\" font-size=\"14.00\" fill=\"#000000\">b </text>\n</g>\n</g>\n</svg>\n"
          },
          "metadata": {
            "tags": []
          },
          "execution_count": 54
        }
      ]
    },
    {
      "cell_type": "markdown",
      "metadata": {
        "id": "V5WZCtToYDJq"
      },
      "source": [
        "## Show the result of reversing the above DFA"
      ]
    },
    {
      "cell_type": "code",
      "metadata": {
        "id": "vQCdnlZcYDJr",
        "outputId": "7492c3fc-d8bc-4034-b810-764fa4b7122e",
        "colab": {
          "base_uri": "https://localhost:8080/"
        }
      },
      "source": [
        "help(rev_dfa)"
      ],
      "execution_count": 55,
      "outputs": [
        {
          "output_type": "stream",
          "text": [
            "Help on function rev_dfa in module jove.Def_NFA:\n",
            "\n",
            "rev_dfa(D)\n",
            "    In : D = a partially consistent DFA without any unreachable states.\n",
            "    Out: A consistent NFA whose language is D's language reversed.\n",
            "\n"
          ],
          "name": "stdout"
        }
      ]
    },
    {
      "cell_type": "markdown",
      "metadata": {
        "id": "0p03DKClYDJr"
      },
      "source": [
        "### The reverse invocation"
      ]
    },
    {
      "cell_type": "code",
      "metadata": {
        "id": "iVsGq7SRYDJr"
      },
      "source": [
        "# Reverse DFA_bloated here\n",
        "\n",
        "NFA1 =  rev_dfa(DFA_bloated)"
      ],
      "execution_count": 56,
      "outputs": []
    },
    {
      "cell_type": "code",
      "metadata": {
        "id": "EgfGhM_VYDJs",
        "outputId": "7cbb7225-9e6f-4e35-8c30-d84aff0f49b7",
        "colab": {
          "base_uri": "https://localhost:8080/",
          "height": 242
        }
      },
      "source": [
        "dotObj_nfa(NFA1)"
      ],
      "execution_count": 57,
      "outputs": [
        {
          "output_type": "execute_result",
          "data": {
            "text/plain": [
              "<graphviz.dot.Digraph at 0x7fd5e2ea49e8>"
            ],
            "image/svg+xml": "<?xml version=\"1.0\" encoding=\"UTF-8\" standalone=\"no\"?>\n<!DOCTYPE svg PUBLIC \"-//W3C//DTD SVG 1.1//EN\"\n \"http://www.w3.org/Graphics/SVG/1.1/DTD/svg11.dtd\">\n<!-- Generated by graphviz version 2.40.1 (20161225.0304)\n -->\n<!-- Title: %3 Pages: 1 -->\n<svg width=\"558pt\" height=\"166pt\"\n viewBox=\"0.00 0.00 558.28 166.19\" xmlns=\"http://www.w3.org/2000/svg\" xmlns:xlink=\"http://www.w3.org/1999/xlink\">\n<g id=\"graph0\" class=\"graph\" transform=\"scale(1 1) rotate(0) translate(4 162.186)\">\n<title>%3</title>\n<polygon fill=\"#ffffff\" stroke=\"transparent\" points=\"-4,4 -4,-162.186 554.2768,-162.186 554.2768,4 -4,4\"/>\n<!-- EMPTY -->\n<g id=\"node1\" class=\"node\">\n<title>EMPTY</title>\n</g>\n<!-- FS2 -->\n<g id=\"node3\" class=\"node\">\n<title>FS2</title>\n<ellipse fill=\"none\" stroke=\"#000000\" cx=\"308.5392\" cy=\"-34.2306\" rx=\"26.7961\" ry=\"26.7961\"/>\n<text text-anchor=\"middle\" x=\"308.5392\" y=\"-30.5306\" font-family=\"Times,serif\" font-size=\"14.00\" fill=\"#000000\">FS2</text>\n</g>\n<!-- EMPTY&#45;&gt;FS2 -->\n<g id=\"edge1\" class=\"edge\">\n<title>EMPTY&#45;&gt;FS2</title>\n<path fill=\"none\" stroke=\"#000000\" d=\"M52.1628,-22.1169C63.461,-15.0608 77.3112,-7.8164 91,-4.2306 119.4522,3.2224 231.8342,-.1472 263.8916,-9.2306 268.3388,-10.4908 272.8227,-12.2714 277.1445,-14.3089\"/>\n<polygon fill=\"#000000\" stroke=\"#000000\" points=\"275.7859,-17.548 286.2698,-19.0772 279.0278,-11.3439 275.7859,-17.548\"/>\n</g>\n<!-- FS3 -->\n<g id=\"node4\" class=\"node\">\n<title>FS3</title>\n<ellipse fill=\"none\" stroke=\"#000000\" cx=\"308.5392\" cy=\"-116.2306\" rx=\"26.7961\" ry=\"26.7961\"/>\n<text text-anchor=\"middle\" x=\"308.5392\" y=\"-112.5306\" font-family=\"Times,serif\" font-size=\"14.00\" fill=\"#000000\">FS3</text>\n</g>\n<!-- EMPTY&#45;&gt;FS3 -->\n<g id=\"edge2\" class=\"edge\">\n<title>EMPTY&#45;&gt;FS3</title>\n<path fill=\"none\" stroke=\"#000000\" d=\"M32.2719,-58.2595C40.4207,-82.4169 58.62,-124.3213 91,-142.2306 149.4517,-174.5601 230.0795,-150.2987 274.9515,-131.8746\"/>\n<polygon fill=\"#000000\" stroke=\"#000000\" points=\"276.3904,-135.0662 284.2286,-127.9379 273.6559,-128.6223 276.3904,-135.0662\"/>\n</g>\n<!-- FS6 -->\n<g id=\"node6\" class=\"node\">\n<title>FS6</title>\n<ellipse fill=\"none\" stroke=\"#000000\" cx=\"117.6476\" cy=\"-40.2306\" rx=\"26.7961\" ry=\"26.7961\"/>\n<text text-anchor=\"middle\" x=\"117.6476\" y=\"-36.5306\" font-family=\"Times,serif\" font-size=\"14.00\" fill=\"#000000\">FS6</text>\n</g>\n<!-- EMPTY&#45;&gt;FS6 -->\n<g id=\"edge3\" class=\"edge\">\n<title>EMPTY&#45;&gt;FS6</title>\n<path fill=\"none\" stroke=\"#000000\" d=\"M54.1973,-40.2306C62.5185,-40.2306 71.8156,-40.2306 80.6723,-40.2306\"/>\n<polygon fill=\"#000000\" stroke=\"#000000\" points=\"80.782,-43.7307 90.7819,-40.2306 80.7819,-36.7307 80.782,-43.7307\"/>\n</g>\n<!-- S4 -->\n<g id=\"node2\" class=\"node\">\n<title>S4</title>\n<ellipse fill=\"none\" stroke=\"#000000\" cx=\"213.0934\" cy=\"-38.2306\" rx=\"20.5982\" ry=\"20.5982\"/>\n<text text-anchor=\"middle\" x=\"213.0934\" y=\"-34.5306\" font-family=\"Times,serif\" font-size=\"14.00\" fill=\"#000000\">S4</text>\n</g>\n<!-- S4&#45;&gt;FS2 -->\n<g id=\"edge5\" class=\"edge\">\n<title>S4&#45;&gt;FS2</title>\n<path fill=\"none\" stroke=\"#000000\" d=\"M229.5048,-25.2775C236.0796,-20.8665 243.9684,-16.4832 251.8916,-14.2306 260.0223,-11.9191 268.6825,-13.0758 276.7221,-15.7363\"/>\n<polygon fill=\"#000000\" stroke=\"#000000\" points=\"275.5629,-19.0437 286.1434,-19.5954 278.2163,-12.5661 275.5629,-19.0437\"/>\n<text text-anchor=\"middle\" x=\"257.8916\" y=\"-18.0306\" font-family=\"Times,serif\" font-size=\"14.00\" fill=\"#000000\">a </text>\n</g>\n<!-- S4&#45;&gt;FS3 -->\n<g id=\"edge4\" class=\"edge\">\n<title>S4&#45;&gt;FS3</title>\n<path fill=\"none\" stroke=\"#000000\" d=\"M234.0406,-38.6826C243.8048,-39.7683 255.1653,-42.3615 263.8916,-48.2306 267.6489,-50.7578 278.8471,-67.8193 289.0878,-84.2182\"/>\n<polygon fill=\"#000000\" stroke=\"#000000\" points=\"286.3859,-86.5033 294.6252,-93.164 292.338,-82.819 286.3859,-86.5033\"/>\n<text text-anchor=\"middle\" x=\"257.8916\" y=\"-52.0306\" font-family=\"Times,serif\" font-size=\"14.00\" fill=\"#000000\">b </text>\n</g>\n<!-- Temp -->\n<g id=\"node5\" class=\"node\">\n<title>Temp</title>\n<ellipse fill=\"none\" stroke=\"#000000\" cx=\"415.684\" cy=\"-48.2306\" rx=\"32.4942\" ry=\"32.4942\"/>\n<text text-anchor=\"middle\" x=\"415.684\" y=\"-44.5306\" font-family=\"Times,serif\" font-size=\"14.00\" fill=\"#000000\">Temp</text>\n</g>\n<!-- FS2&#45;&gt;Temp -->\n<g id=\"edge6\" class=\"edge\">\n<title>FS2&#45;&gt;Temp</title>\n<path fill=\"none\" stroke=\"#000000\" d=\"M335.0244,-37.6913C346.5644,-39.1992 360.38,-41.0044 373.2893,-42.6912\"/>\n<polygon fill=\"#000000\" stroke=\"#000000\" points=\"373.018,-46.1854 383.3872,-44.0106 373.925,-39.2444 373.018,-46.1854\"/>\n<text text-anchor=\"middle\" x=\"359.1869\" y=\"-45.0306\" font-family=\"Times,serif\" font-size=\"14.00\" fill=\"#000000\">a </text>\n</g>\n<!-- FS3&#45;&gt;Temp -->\n<g id=\"edge7\" class=\"edge\">\n<title>FS3&#45;&gt;Temp</title>\n<path fill=\"none\" stroke=\"#000000\" d=\"M331.2012,-101.3977C338.2303,-96.8275 346.0139,-91.7977 353.1869,-87.2306 361.5942,-81.8777 370.6743,-76.1697 379.2386,-70.8189\"/>\n<polygon fill=\"#000000\" stroke=\"#000000\" points=\"381.2928,-73.6627 387.9269,-65.402 377.5893,-67.7227 381.2928,-73.6627\"/>\n<text text-anchor=\"middle\" x=\"359.1869\" y=\"-91.0306\" font-family=\"Times,serif\" font-size=\"14.00\" fill=\"#000000\">b </text>\n</g>\n<!-- IS1 -->\n<g id=\"node8\" class=\"node\">\n<title>IS1</title>\n<ellipse fill=\"none\" stroke=\"#000000\" cx=\"522.229\" cy=\"-82.2306\" rx=\"24.089\" ry=\"24.089\"/>\n<ellipse fill=\"none\" stroke=\"#000000\" cx=\"522.229\" cy=\"-82.2306\" rx=\"28.0958\" ry=\"28.0958\"/>\n<text text-anchor=\"middle\" x=\"522.229\" y=\"-78.5306\" font-family=\"Times,serif\" font-size=\"14.00\" fill=\"#000000\">IS1</text>\n</g>\n<!-- FS3&#45;&gt;IS1 -->\n<g id=\"edge8\" class=\"edge\">\n<title>FS3&#45;&gt;IS1</title>\n<path fill=\"none\" stroke=\"#000000\" d=\"M335.1711,-111.9933C372.6905,-106.0236 441.3085,-95.1058 484.1915,-88.2828\"/>\n<polygon fill=\"#000000\" stroke=\"#000000\" points=\"484.9164,-91.7115 494.2422,-86.6836 483.8164,-84.7985 484.9164,-91.7115\"/>\n<text text-anchor=\"middle\" x=\"415.684\" y=\"-109.0306\" font-family=\"Times,serif\" font-size=\"14.00\" fill=\"#000000\">b </text>\n</g>\n<!-- Temp&#45;&gt;IS1 -->\n<g id=\"edge9\" class=\"edge\">\n<title>Temp&#45;&gt;IS1</title>\n<path fill=\"none\" stroke=\"#000000\" d=\"M446.7876,-58.1562C458.9041,-62.0228 472.8828,-66.4836 485.4902,-70.5068\"/>\n<polygon fill=\"#000000\" stroke=\"#000000\" points=\"484.6545,-73.9139 495.2453,-73.6198 486.7826,-67.2453 484.6545,-73.9139\"/>\n<text text-anchor=\"middle\" x=\"471.1811\" y=\"-72.0306\" font-family=\"Times,serif\" font-size=\"14.00\" fill=\"#000000\">a </text>\n</g>\n<!-- FS6&#45;&gt;S4 -->\n<g id=\"edge11\" class=\"edge\">\n<title>FS6&#45;&gt;S4</title>\n<path fill=\"none\" stroke=\"#000000\" d=\"M138.6491,-23.0541C145.7324,-18.2642 153.9648,-13.6986 162.2953,-11.2306 171.819,-8.4091 181.6096,-11.8548 190.0224,-17.1241\"/>\n<polygon fill=\"#000000\" stroke=\"#000000\" points=\"188.0762,-20.0364 198.2218,-23.089 192.1942,-14.3758 188.0762,-20.0364\"/>\n<text text-anchor=\"middle\" x=\"168.2953\" y=\"-15.0306\" font-family=\"Times,serif\" font-size=\"14.00\" fill=\"#000000\">b </text>\n</g>\n<!-- FS6&#45;&gt;S4 -->\n<g id=\"edge14\" class=\"edge\">\n<title>FS6&#45;&gt;S4</title>\n<path fill=\"none\" stroke=\"#000000\" d=\"M144.4886,-39.6682C156.1735,-39.4234 169.9389,-39.1349 182.0606,-38.8809\"/>\n<polygon fill=\"#000000\" stroke=\"#000000\" points=\"182.2719,-42.3774 192.1963,-38.6685 182.1251,-35.3789 182.2719,-42.3774\"/>\n<text text-anchor=\"middle\" x=\"168.2953\" y=\"-44.0306\" font-family=\"Times,serif\" font-size=\"14.00\" fill=\"#000000\">a </text>\n</g>\n<!-- FS6&#45;&gt;FS6 -->\n<g id=\"edge12\" class=\"edge\">\n<title>FS6&#45;&gt;FS6</title>\n<path fill=\"none\" stroke=\"#000000\" d=\"M113.5317,-66.8157C113.3968,-76.723 114.7687,-84.8783 117.6476,-84.8783 119.447,-84.8783 120.6576,-81.6926 121.2797,-76.8846\"/>\n<polygon fill=\"#000000\" stroke=\"#000000\" points=\"124.7794,-76.9722 121.7636,-66.8157 117.7875,-76.6361 124.7794,-76.9722\"/>\n<text text-anchor=\"middle\" x=\"117.6476\" y=\"-88.6783\" font-family=\"Times,serif\" font-size=\"14.00\" fill=\"#000000\">b </text>\n</g>\n<!-- FS6&#45;&gt;FS6 -->\n<g id=\"edge15\" class=\"edge\">\n<title>FS6&#45;&gt;FS6</title>\n<path fill=\"none\" stroke=\"#000000\" d=\"M110.2859,-65.9713C107.889,-84.4607 110.3429,-102.8783 117.6476,-102.8783 123.5827,-102.8783 126.3155,-90.7198 125.846,-76.2431\"/>\n<polygon fill=\"#000000\" stroke=\"#000000\" points=\"129.3097,-75.6541 125.0094,-65.9713 122.3328,-76.2224 129.3097,-75.6541\"/>\n<text text-anchor=\"middle\" x=\"117.6476\" y=\"-106.6783\" font-family=\"Times,serif\" font-size=\"14.00\" fill=\"#000000\">a </text>\n</g>\n<!-- S5 -->\n<g id=\"node7\" class=\"node\">\n<title>S5</title>\n<ellipse fill=\"none\" stroke=\"#000000\" cx=\"213.0934\" cy=\"-98.2306\" rx=\"20.5982\" ry=\"20.5982\"/>\n<text text-anchor=\"middle\" x=\"213.0934\" y=\"-94.5306\" font-family=\"Times,serif\" font-size=\"14.00\" fill=\"#000000\">S5</text>\n</g>\n<!-- FS6&#45;&gt;S5 -->\n<g id=\"edge10\" class=\"edge\">\n<title>FS6&#45;&gt;S5</title>\n<path fill=\"none\" stroke=\"#000000\" d=\"M140.7524,-54.2708C154.5106,-62.6313 172.028,-73.2762 186.3788,-81.9968\"/>\n<polygon fill=\"#000000\" stroke=\"#000000\" points=\"184.9172,-85.2042 195.2807,-87.4063 188.5525,-79.2221 184.9172,-85.2042\"/>\n<text text-anchor=\"middle\" x=\"168.2953\" y=\"-79.0306\" font-family=\"Times,serif\" font-size=\"14.00\" fill=\"#000000\">b </text>\n</g>\n<!-- FS6&#45;&gt;S5 -->\n<g id=\"edge13\" class=\"edge\">\n<title>FS6&#45;&gt;S5</title>\n<path fill=\"none\" stroke=\"#000000\" d=\"M130.7158,-63.5028C138.3693,-74.8026 149.1266,-87.3874 162.2953,-94.2306 168.2709,-97.3359 175.1845,-98.9481 181.9498,-99.6806\"/>\n<polygon fill=\"#000000\" stroke=\"#000000\" points=\"182.1413,-103.1944 192.3029,-100.1957 182.4892,-96.203 182.1413,-103.1944\"/>\n<text text-anchor=\"middle\" x=\"168.2953\" y=\"-103.0306\" font-family=\"Times,serif\" font-size=\"14.00\" fill=\"#000000\">a </text>\n</g>\n<!-- S5&#45;&gt;FS2 -->\n<g id=\"edge16\" class=\"edge\">\n<title>S5&#45;&gt;FS2</title>\n<path fill=\"none\" stroke=\"#000000\" d=\"M231.2045,-87.7082C241.0117,-81.8785 253.262,-74.3819 263.8916,-67.2306 268.81,-63.9217 273.9419,-60.2981 278.901,-56.702\"/>\n<polygon fill=\"#000000\" stroke=\"#000000\" points=\"281.0317,-59.4797 287.0154,-50.7363 276.8853,-53.8398 281.0317,-59.4797\"/>\n<text text-anchor=\"middle\" x=\"257.8916\" y=\"-79.0306\" font-family=\"Times,serif\" font-size=\"14.00\" fill=\"#000000\">b </text>\n</g>\n<!-- S5&#45;&gt;FS3 -->\n<g id=\"edge17\" class=\"edge\">\n<title>S5&#45;&gt;FS3</title>\n<path fill=\"none\" stroke=\"#000000\" d=\"M233.8037,-102.1364C244.9653,-104.2413 259.0663,-106.9006 272.0046,-109.3406\"/>\n<polygon fill=\"#000000\" stroke=\"#000000\" points=\"271.5778,-112.8218 282.0533,-111.2357 272.8751,-105.943 271.5778,-112.8218\"/>\n<text text-anchor=\"middle\" x=\"257.8916\" y=\"-112.0306\" font-family=\"Times,serif\" font-size=\"14.00\" fill=\"#000000\">a </text>\n</g>\n</g>\n</svg>\n"
          },
          "metadata": {
            "tags": []
          },
          "execution_count": 57
        }
      ]
    },
    {
      "cell_type": "markdown",
      "metadata": {
        "id": "tFioDUxlYDJt"
      },
      "source": [
        "## Check that NFA1 is indeed the reverse of DFA_bloated by checking one string\n",
        "\n",
        "Point out that \"aabba\" is in DFA_bloated's language but its reversal (i.e. \"abbaa\") is in NFA1's language\n",
        "\n",
        "### Which path does abbaa take in being accepted by NFA1 ?\n",
        "\n",
        "FS6 -> FS6 -> S5 -> FS2 -> Temp -> IS1\n",
        "\n",
        "* Starting from State  FS6\n",
        "\n",
        "* The next state after 'a' is FS6\n",
        "\n",
        "* The next state after 'b' is S5\n",
        "\n",
        "* The next state after 'b' is FS2\n",
        "\n",
        "* The next state after 'a' is Temp\n",
        "\n",
        "* The next state after 'a' is IS1\n"
      ]
    },
    {
      "cell_type": "markdown",
      "metadata": {
        "id": "WLWCQMsQYDJt"
      },
      "source": [
        "## Determinize NFA1 to obtain DFA2"
      ]
    },
    {
      "cell_type": "code",
      "metadata": {
        "id": "esmqnARjYDJt",
        "outputId": "7999f608-844c-4449-f4ce-d416a3773417",
        "colab": {
          "base_uri": "https://localhost:8080/"
        }
      },
      "source": [
        "help(nfa2dfa)"
      ],
      "execution_count": 58,
      "outputs": [
        {
          "output_type": "stream",
          "text": [
            "Help on function nfa2dfa in module jove.Def_NFA:\n",
            "\n",
            "nfa2dfa(N, STATENAME_MAXSIZE=20)\n",
            "    In : N (consistent NFA), and optional STATENAME_MAXSIZE\n",
            "         for the generated DFA states\n",
            "    Out: A consistent DFA that is language-equivalent to N.\n",
            "\n"
          ],
          "name": "stdout"
        }
      ]
    },
    {
      "cell_type": "code",
      "metadata": {
        "id": "o-7or_U0YDJt"
      },
      "source": [
        "DFA2 = nfa2dfa(NFA1)"
      ],
      "execution_count": 59,
      "outputs": []
    },
    {
      "cell_type": "code",
      "metadata": {
        "id": "h_njT37EYDJu",
        "outputId": "ba1f7528-8d32-4bb6-906b-cec8744b8c0a",
        "colab": {
          "base_uri": "https://localhost:8080/",
          "height": 241
        }
      },
      "source": [
        "dotObj_dfa(DFA2)"
      ],
      "execution_count": 60,
      "outputs": [
        {
          "output_type": "execute_result",
          "data": {
            "text/plain": [
              "<graphviz.dot.Digraph at 0x7fd5e2ea4a20>"
            ],
            "image/svg+xml": "<?xml version=\"1.0\" encoding=\"UTF-8\" standalone=\"no\"?>\n<!DOCTYPE svg PUBLIC \"-//W3C//DTD SVG 1.1//EN\"\n \"http://www.w3.org/Graphics/SVG/1.1/DTD/svg11.dtd\">\n<!-- Generated by graphviz version 2.40.1 (20161225.0304)\n -->\n<!-- Title: %3 Pages: 1 -->\n<svg width=\"547pt\" height=\"165pt\"\n viewBox=\"0.00 0.00 546.98 164.80\" xmlns=\"http://www.w3.org/2000/svg\" xmlns:xlink=\"http://www.w3.org/1999/xlink\">\n<g id=\"graph0\" class=\"graph\" transform=\"scale(1 1) rotate(0) translate(4 160.7958)\">\n<title>%3</title>\n<polygon fill=\"#ffffff\" stroke=\"transparent\" points=\"-4,4 -4,-160.7958 542.9792,-160.7958 542.9792,4 -4,4\"/>\n<!-- EMPTY -->\n<g id=\"node1\" class=\"node\">\n<title>EMPTY</title>\n</g>\n<!-- St4 -->\n<g id=\"node5\" class=\"node\">\n<title>St4</title>\n<ellipse fill=\"none\" stroke=\"#000000\" cx=\"114.3979\" cy=\"-61.3979\" rx=\"23.2963\" ry=\"23.2963\"/>\n<text text-anchor=\"middle\" x=\"114.3979\" y=\"-57.6979\" font-family=\"Times,serif\" font-size=\"14.00\" fill=\"#000000\">St4</text>\n</g>\n<!-- EMPTY&#45;&gt;St4 -->\n<g id=\"edge1\" class=\"edge\">\n<title>EMPTY&#45;&gt;St4</title>\n<path fill=\"none\" stroke=\"#000000\" d=\"M54.1742,-61.3979C62.5103,-61.3979 71.7873,-61.3979 80.5137,-61.3979\"/>\n<polygon fill=\"#000000\" stroke=\"#000000\" points=\"80.7846,-64.898 90.7846,-61.3979 80.7845,-57.898 80.7846,-64.898\"/>\n</g>\n<!-- St6 -->\n<g id=\"node2\" class=\"node\">\n<title>St6</title>\n<ellipse fill=\"none\" stroke=\"#000000\" cx=\"213.1938\" cy=\"-96.3979\" rx=\"23.2963\" ry=\"23.2963\"/>\n<text text-anchor=\"middle\" x=\"213.1938\" y=\"-92.6979\" font-family=\"Times,serif\" font-size=\"14.00\" fill=\"#000000\">St6</text>\n</g>\n<!-- St3 -->\n<g id=\"node4\" class=\"node\">\n<title>St3</title>\n<ellipse fill=\"none\" stroke=\"#000000\" cx=\"315.9896\" cy=\"-102.3979\" rx=\"23.2963\" ry=\"23.2963\"/>\n<text text-anchor=\"middle\" x=\"315.9896\" y=\"-98.6979\" font-family=\"Times,serif\" font-size=\"14.00\" fill=\"#000000\">St3</text>\n</g>\n<!-- St6&#45;&gt;St3 -->\n<g id=\"edge6\" class=\"edge\">\n<title>St6&#45;&gt;St3</title>\n<path fill=\"none\" stroke=\"#000000\" d=\"M236.7772,-97.7744C250.228,-98.5595 267.3157,-99.5569 282.1744,-100.4242\"/>\n<polygon fill=\"#000000\" stroke=\"#000000\" points=\"282.3289,-103.9391 292.5159,-101.0278 282.7369,-96.951 282.3289,-103.9391\"/>\n<text text-anchor=\"middle\" x=\"264.5917\" y=\"-103.1979\" font-family=\"Times,serif\" font-size=\"14.00\" fill=\"#000000\">b </text>\n</g>\n<!-- St1 -->\n<g id=\"node6\" class=\"node\">\n<title>St1</title>\n<ellipse fill=\"none\" stroke=\"#000000\" cx=\"315.9896\" cy=\"-27.3979\" rx=\"23.3111\" ry=\"23.3111\"/>\n<ellipse fill=\"none\" stroke=\"#000000\" cx=\"315.9896\" cy=\"-27.3979\" rx=\"27.2962\" ry=\"27.2962\"/>\n<text text-anchor=\"middle\" x=\"315.9896\" y=\"-23.6979\" font-family=\"Times,serif\" font-size=\"14.00\" fill=\"#000000\">St1</text>\n</g>\n<!-- St6&#45;&gt;St1 -->\n<g id=\"edge7\" class=\"edge\">\n<title>St6&#45;&gt;St1</title>\n<path fill=\"none\" stroke=\"#000000\" d=\"M233.249,-83.7566C244.3317,-76.6993 258.3044,-67.6836 270.5917,-59.3979 275.2887,-56.2306 280.2208,-52.8317 285.0327,-49.4743\"/>\n<polygon fill=\"#000000\" stroke=\"#000000\" points=\"287.3168,-52.1471 293.4877,-43.5348 283.293,-46.4192 287.3168,-52.1471\"/>\n<text text-anchor=\"middle\" x=\"264.5917\" y=\"-70.1979\" font-family=\"Times,serif\" font-size=\"14.00\" fill=\"#000000\">a </text>\n</g>\n<!-- St2 -->\n<g id=\"node3\" class=\"node\">\n<title>St2</title>\n<ellipse fill=\"none\" stroke=\"#000000\" cx=\"412.7855\" cy=\"-60.3979\" rx=\"23.2963\" ry=\"23.2963\"/>\n<text text-anchor=\"middle\" x=\"412.7855\" y=\"-56.6979\" font-family=\"Times,serif\" font-size=\"14.00\" fill=\"#000000\">St2</text>\n</g>\n<!-- St0 -->\n<g id=\"node7\" class=\"node\">\n<title>St0</title>\n<ellipse fill=\"none\" stroke=\"#000000\" cx=\"511.5813\" cy=\"-63.3979\" rx=\"23.3111\" ry=\"23.3111\"/>\n<ellipse fill=\"none\" stroke=\"#000000\" cx=\"511.5813\" cy=\"-63.3979\" rx=\"27.2962\" ry=\"27.2962\"/>\n<text text-anchor=\"middle\" x=\"511.5813\" y=\"-59.6979\" font-family=\"Times,serif\" font-size=\"14.00\" fill=\"#000000\">St0</text>\n</g>\n<!-- St2&#45;&gt;St0 -->\n<g id=\"edge14\" class=\"edge\">\n<title>St2&#45;&gt;St0</title>\n<path fill=\"none\" stroke=\"#000000\" d=\"M433.8947,-49.7713C443.6326,-46.0876 455.4009,-43.3383 466.1834,-45.3979 469.8112,-46.0909 473.519,-47.0692 477.1744,-48.2158\"/>\n<polygon fill=\"#000000\" stroke=\"#000000\" points=\"476.0425,-51.5279 486.6373,-51.563 478.3769,-44.9286 476.0425,-51.5279\"/>\n<text text-anchor=\"middle\" x=\"460.1834\" y=\"-49.1979\" font-family=\"Times,serif\" font-size=\"14.00\" fill=\"#000000\">b </text>\n</g>\n<!-- St2&#45;&gt;St0 -->\n<g id=\"edge15\" class=\"edge\">\n<title>St2&#45;&gt;St0</title>\n<path fill=\"none\" stroke=\"#000000\" d=\"M436.1987,-61.1089C447.4326,-61.45 461.173,-61.8672 473.8312,-62.2516\"/>\n<polygon fill=\"#000000\" stroke=\"#000000\" points=\"474.0292,-65.7592 484.1309,-62.5644 474.2418,-58.7624 474.0292,-65.7592\"/>\n<text text-anchor=\"middle\" x=\"460.1834\" y=\"-66.1979\" font-family=\"Times,serif\" font-size=\"14.00\" fill=\"#000000\">a </text>\n</g>\n<!-- St3&#45;&gt;St2 -->\n<g id=\"edge9\" class=\"edge\">\n<title>St3&#45;&gt;St2</title>\n<path fill=\"none\" stroke=\"#000000\" d=\"M337.4718,-93.0768C350.4143,-87.4609 367.1224,-80.2113 381.5119,-73.9676\"/>\n<polygon fill=\"#000000\" stroke=\"#000000\" points=\"383.2482,-77.0296 391.0287,-69.8383 380.4618,-70.608 383.2482,-77.0296\"/>\n<text text-anchor=\"middle\" x=\"366.3875\" y=\"-86.1979\" font-family=\"Times,serif\" font-size=\"14.00\" fill=\"#000000\">a </text>\n</g>\n<!-- St3&#45;&gt;St0 -->\n<g id=\"edge8\" class=\"edge\">\n<title>St3&#45;&gt;St0</title>\n<path fill=\"none\" stroke=\"#000000\" d=\"M339.4706,-102.5959C349.3398,-102.5179 360.9345,-102.2153 371.3875,-101.3979 400.3737,-99.1315 407.9751,-99.4425 436.1834,-92.3979 449.9616,-88.957 452.9148,-86.46 466.1834,-81.3979 469.451,-80.1513 472.8444,-78.8391 476.238,-77.5147\"/>\n<polygon fill=\"#000000\" stroke=\"#000000\" points=\"477.673,-80.7114 485.6988,-73.7949 475.1115,-74.1969 477.673,-80.7114\"/>\n<text text-anchor=\"middle\" x=\"412.7855\" y=\"-103.1979\" font-family=\"Times,serif\" font-size=\"14.00\" fill=\"#000000\">b </text>\n</g>\n<!-- St4&#45;&gt;St6 -->\n<g id=\"edge3\" class=\"edge\">\n<title>St4&#45;&gt;St6</title>\n<path fill=\"none\" stroke=\"#000000\" d=\"M136.8162,-69.34C149.9532,-73.9939 166.7624,-79.9489 181.2655,-85.0868\"/>\n<polygon fill=\"#000000\" stroke=\"#000000\" points=\"180.2694,-88.447 190.8642,-88.4873 182.607,-81.8488 180.2694,-88.447\"/>\n<text text-anchor=\"middle\" x=\"161.7958\" y=\"-83.1979\" font-family=\"Times,serif\" font-size=\"14.00\" fill=\"#000000\">a </text>\n</g>\n<!-- St5 -->\n<g id=\"node8\" class=\"node\">\n<title>St5</title>\n<ellipse fill=\"none\" stroke=\"#000000\" cx=\"213.1938\" cy=\"-27.3979\" rx=\"23.3111\" ry=\"23.3111\"/>\n<ellipse fill=\"none\" stroke=\"#000000\" cx=\"213.1938\" cy=\"-27.3979\" rx=\"27.2962\" ry=\"27.2962\"/>\n<text text-anchor=\"middle\" x=\"213.1938\" y=\"-23.6979\" font-family=\"Times,serif\" font-size=\"14.00\" fill=\"#000000\">St5</text>\n</g>\n<!-- St4&#45;&gt;St5 -->\n<g id=\"edge2\" class=\"edge\">\n<title>St4&#45;&gt;St5</title>\n<path fill=\"none\" stroke=\"#000000\" d=\"M136.8162,-53.6828C148.819,-49.5521 163.8873,-44.3665 177.4614,-39.695\"/>\n<polygon fill=\"#000000\" stroke=\"#000000\" points=\"178.6994,-42.9705 187.0161,-36.4068 176.4214,-36.3515 178.6994,-42.9705\"/>\n<text text-anchor=\"middle\" x=\"161.7958\" y=\"-51.1979\" font-family=\"Times,serif\" font-size=\"14.00\" fill=\"#000000\">b </text>\n</g>\n<!-- St1&#45;&gt;St2 -->\n<g id=\"edge11\" class=\"edge\">\n<title>St1&#45;&gt;St2</title>\n<path fill=\"none\" stroke=\"#000000\" d=\"M341.9291,-36.2413C353.8598,-40.3088 368.13,-45.1738 380.7271,-49.4685\"/>\n<polygon fill=\"#000000\" stroke=\"#000000\" points=\"379.7998,-52.8501 390.3943,-52.7642 382.0586,-46.2245 379.7998,-52.8501\"/>\n<text text-anchor=\"middle\" x=\"366.3875\" y=\"-50.1979\" font-family=\"Times,serif\" font-size=\"14.00\" fill=\"#000000\">a </text>\n</g>\n<!-- St1&#45;&gt;St0 -->\n<g id=\"edge10\" class=\"edge\">\n<title>St1&#45;&gt;St0</title>\n<path fill=\"none\" stroke=\"#000000\" d=\"M342.3181,-18.3283C367.0369,-11.207 404.8055,-3.9392 436.1834,-13.3979 453.0838,-18.4924 469.6762,-28.7499 482.9741,-38.6554\"/>\n<polygon fill=\"#000000\" stroke=\"#000000\" points=\"481.1641,-41.6815 491.2071,-45.0562 485.4606,-36.1552 481.1641,-41.6815\"/>\n<text text-anchor=\"middle\" x=\"412.7855\" y=\"-17.1979\" font-family=\"Times,serif\" font-size=\"14.00\" fill=\"#000000\">b </text>\n</g>\n<!-- St0&#45;&gt;St0 -->\n<g id=\"edge12\" class=\"edge\">\n<title>St0&#45;&gt;St0</title>\n<path fill=\"none\" stroke=\"#000000\" d=\"M506.9041,-90.4297C506.7508,-100.5036 508.3098,-108.7958 511.5813,-108.7958 513.626,-108.7958 515.0018,-105.5567 515.7086,-100.6679\"/>\n<polygon fill=\"#000000\" stroke=\"#000000\" points=\"519.217,-100.6031 516.2585,-90.4297 512.2271,-100.2276 519.217,-100.6031\"/>\n<text text-anchor=\"middle\" x=\"511.5813\" y=\"-112.5958\" font-family=\"Times,serif\" font-size=\"14.00\" fill=\"#000000\">b </text>\n</g>\n<!-- St0&#45;&gt;St0 -->\n<g id=\"edge13\" class=\"edge\">\n<title>St0&#45;&gt;St0</title>\n<path fill=\"none\" stroke=\"#000000\" d=\"M503.1682,-89.777C500.525,-108.3764 503.3294,-126.7958 511.5813,-126.7958 518.286,-126.7958 521.3945,-114.6361 520.9067,-100.1\"/>\n<polygon fill=\"#000000\" stroke=\"#000000\" points=\"524.3612,-99.4301 519.9944,-89.777 517.3884,-100.0463 524.3612,-99.4301\"/>\n<text text-anchor=\"middle\" x=\"511.5813\" y=\"-130.5958\" font-family=\"Times,serif\" font-size=\"14.00\" fill=\"#000000\">a </text>\n</g>\n<!-- St5&#45;&gt;St3 -->\n<g id=\"edge4\" class=\"edge\">\n<title>St5&#45;&gt;St3</title>\n<path fill=\"none\" stroke=\"#000000\" d=\"M240.7655,-29.5908C250.7832,-31.3919 261.7932,-34.624 270.5917,-40.3979 272.4794,-41.6367 285.0697,-58.9087 296.5133,-74.9075\"/>\n<polygon fill=\"#000000\" stroke=\"#000000\" points=\"293.6751,-76.9556 302.3303,-83.066 299.3747,-72.8918 293.6751,-76.9556\"/>\n<text text-anchor=\"middle\" x=\"264.5917\" y=\"-44.1979\" font-family=\"Times,serif\" font-size=\"14.00\" fill=\"#000000\">b </text>\n</g>\n<!-- St5&#45;&gt;St1 -->\n<g id=\"edge5\" class=\"edge\">\n<title>St5&#45;&gt;St1</title>\n<path fill=\"none\" stroke=\"#000000\" d=\"M236.2287,-12.5147C246.5481,-7.5437 258.9852,-3.8435 270.5917,-6.3979 274.4877,-7.2554 278.4472,-8.4813 282.3221,-9.9158\"/>\n<polygon fill=\"#000000\" stroke=\"#000000\" points=\"281.1182,-13.2058 291.6952,-13.8204 283.8101,-6.7441 281.1182,-13.2058\"/>\n<text text-anchor=\"middle\" x=\"264.5917\" y=\"-10.1979\" font-family=\"Times,serif\" font-size=\"14.00\" fill=\"#000000\">a </text>\n</g>\n</g>\n</svg>\n"
          },
          "metadata": {
            "tags": []
          },
          "execution_count": 60
        }
      ]
    },
    {
      "cell_type": "markdown",
      "metadata": {
        "id": "2rmW1zS_YDJu"
      },
      "source": [
        "## Reverse DFA2 to obtain NFA3"
      ]
    },
    {
      "cell_type": "code",
      "metadata": {
        "id": "ghxiT1gFYDJv"
      },
      "source": [
        "NFA3 = rev_dfa(DFA2)"
      ],
      "execution_count": 61,
      "outputs": []
    },
    {
      "cell_type": "code",
      "metadata": {
        "id": "qo-ZOq6JYDJv",
        "outputId": "32c4f327-5d28-40e2-a9c9-fcbc583465f9",
        "colab": {
          "base_uri": "https://localhost:8080/",
          "height": 296
        }
      },
      "source": [
        "dotObj_nfa(NFA3)"
      ],
      "execution_count": 62,
      "outputs": [
        {
          "output_type": "execute_result",
          "data": {
            "text/plain": [
              "<graphviz.dot.Digraph at 0x7fd5e2ea4390>"
            ],
            "image/svg+xml": "<?xml version=\"1.0\" encoding=\"UTF-8\" standalone=\"no\"?>\n<!DOCTYPE svg PUBLIC \"-//W3C//DTD SVG 1.1//EN\"\n \"http://www.w3.org/Graphics/SVG/1.1/DTD/svg11.dtd\">\n<!-- Generated by graphviz version 2.40.1 (20161225.0304)\n -->\n<!-- Title: %3 Pages: 1 -->\n<svg width=\"531pt\" height=\"206pt\"\n viewBox=\"0.00 0.00 530.98 205.72\" xmlns=\"http://www.w3.org/2000/svg\" xmlns:xlink=\"http://www.w3.org/1999/xlink\">\n<g id=\"graph0\" class=\"graph\" transform=\"scale(1 1) rotate(0) translate(4 201.7177)\">\n<title>%3</title>\n<polygon fill=\"#ffffff\" stroke=\"transparent\" points=\"-4,4 -4,-201.7177 526.9792,-201.7177 526.9792,4 -4,4\"/>\n<!-- EMPTY -->\n<g id=\"node1\" class=\"node\">\n<title>EMPTY</title>\n</g>\n<!-- St5 -->\n<g id=\"node3\" class=\"node\">\n<title>St5</title>\n<ellipse fill=\"none\" stroke=\"#000000\" cx=\"396.7855\" cy=\"-46\" rx=\"23.2963\" ry=\"23.2963\"/>\n<text text-anchor=\"middle\" x=\"396.7855\" y=\"-42.3\" font-family=\"Times,serif\" font-size=\"14.00\" fill=\"#000000\">St5</text>\n</g>\n<!-- EMPTY&#45;&gt;St5 -->\n<g id=\"edge3\" class=\"edge\">\n<title>EMPTY&#45;&gt;St5</title>\n<path fill=\"none\" stroke=\"#000000\" d=\"M35.4614,-66.9737C48.5687,-42.0227 76.2993,0 114.3979,0 114.3979,0 114.3979,0 301.9896,0 326.828,0 351.9859,-12.9407 370.137,-25.0947\"/>\n<polygon fill=\"#000000\" stroke=\"#000000\" points=\"368.2582,-28.0522 378.4525,-30.9379 372.2828,-22.3248 368.2582,-28.0522\"/>\n</g>\n<!-- St1 -->\n<g id=\"node5\" class=\"node\">\n<title>St1</title>\n<ellipse fill=\"none\" stroke=\"#000000\" cx=\"301.9896\" cy=\"-154\" rx=\"23.2963\" ry=\"23.2963\"/>\n<text text-anchor=\"middle\" x=\"301.9896\" y=\"-150.3\" font-family=\"Times,serif\" font-size=\"14.00\" fill=\"#000000\">St1</text>\n</g>\n<!-- EMPTY&#45;&gt;St1 -->\n<g id=\"edge1\" class=\"edge\">\n<title>EMPTY&#45;&gt;St1</title>\n<path fill=\"none\" stroke=\"#000000\" d=\"M32.7745,-103.1404C41.3025,-126.4922 59.7265,-166.0718 91,-183 149.0708,-214.4335 228.8007,-187.8969 271.7094,-168.9741\"/>\n<polygon fill=\"#000000\" stroke=\"#000000\" points=\"273.391,-172.0541 281.0386,-164.7217 270.4876,-165.6846 273.391,-172.0541\"/>\n</g>\n<!-- St0 -->\n<g id=\"node7\" class=\"node\">\n<title>St0</title>\n<ellipse fill=\"none\" stroke=\"#000000\" cx=\"114.3979\" cy=\"-85\" rx=\"23.2963\" ry=\"23.2963\"/>\n<text text-anchor=\"middle\" x=\"114.3979\" y=\"-81.3\" font-family=\"Times,serif\" font-size=\"14.00\" fill=\"#000000\">St0</text>\n</g>\n<!-- EMPTY&#45;&gt;St0 -->\n<g id=\"edge2\" class=\"edge\">\n<title>EMPTY&#45;&gt;St0</title>\n<path fill=\"none\" stroke=\"#000000\" d=\"M54.1742,-85C62.5103,-85 71.7873,-85 80.5137,-85\"/>\n<polygon fill=\"#000000\" stroke=\"#000000\" points=\"80.7846,-88.5001 90.7846,-85 80.7845,-81.5001 80.7846,-88.5001\"/>\n</g>\n<!-- St2 -->\n<g id=\"node2\" class=\"node\">\n<title>St2</title>\n<ellipse fill=\"none\" stroke=\"#000000\" cx=\"209.1938\" cy=\"-102\" rx=\"23.2963\" ry=\"23.2963\"/>\n<text text-anchor=\"middle\" x=\"209.1938\" y=\"-98.3\" font-family=\"Times,serif\" font-size=\"14.00\" fill=\"#000000\">St2</text>\n</g>\n<!-- St2&#45;&gt;St1 -->\n<g id=\"edge4\" class=\"edge\">\n<title>St2&#45;&gt;St1</title>\n<path fill=\"none\" stroke=\"#000000\" d=\"M229.7882,-113.5405C242.4028,-120.6094 258.7487,-129.7691 272.6966,-137.5851\"/>\n<polygon fill=\"#000000\" stroke=\"#000000\" points=\"271.0181,-140.6565 281.4528,-142.4918 274.4401,-134.5499 271.0181,-140.6565\"/>\n<text text-anchor=\"middle\" x=\"255.5917\" y=\"-133.8\" font-family=\"Times,serif\" font-size=\"14.00\" fill=\"#000000\">a </text>\n</g>\n<!-- St3 -->\n<g id=\"node6\" class=\"node\">\n<title>St3</title>\n<ellipse fill=\"none\" stroke=\"#000000\" cx=\"301.9896\" cy=\"-74\" rx=\"23.2963\" ry=\"23.2963\"/>\n<text text-anchor=\"middle\" x=\"301.9896\" y=\"-70.3\" font-family=\"Times,serif\" font-size=\"14.00\" fill=\"#000000\">St3</text>\n</g>\n<!-- St2&#45;&gt;St3 -->\n<g id=\"edge5\" class=\"edge\">\n<title>St2&#45;&gt;St3</title>\n<path fill=\"none\" stroke=\"#000000\" d=\"M231.6571,-95.222C243.0847,-91.7738 257.1798,-87.5208 269.7439,-83.7297\"/>\n<polygon fill=\"#000000\" stroke=\"#000000\" points=\"270.849,-87.0522 279.4116,-80.8126 268.8268,-80.3507 270.849,-87.0522\"/>\n<text text-anchor=\"middle\" x=\"255.5917\" y=\"-92.8\" font-family=\"Times,serif\" font-size=\"14.00\" fill=\"#000000\">a </text>\n</g>\n<!-- St4 -->\n<g id=\"node8\" class=\"node\">\n<title>St4</title>\n<ellipse fill=\"none\" stroke=\"#000000\" cx=\"495.5813\" cy=\"-78\" rx=\"23.3111\" ry=\"23.3111\"/>\n<ellipse fill=\"none\" stroke=\"#000000\" cx=\"495.5813\" cy=\"-78\" rx=\"27.2962\" ry=\"27.2962\"/>\n<text text-anchor=\"middle\" x=\"495.5813\" y=\"-74.3\" font-family=\"Times,serif\" font-size=\"14.00\" fill=\"#000000\">St4</text>\n</g>\n<!-- St5&#45;&gt;St4 -->\n<g id=\"edge6\" class=\"edge\">\n<title>St5&#45;&gt;St4</title>\n<path fill=\"none\" stroke=\"#000000\" d=\"M419.2038,-53.2613C431.2065,-57.149 446.2748,-62.0296 459.8489,-66.4263\"/>\n<polygon fill=\"#000000\" stroke=\"#000000\" points=\"458.8117,-69.7693 469.4037,-69.5211 460.9688,-63.1099 458.8117,-69.7693\"/>\n<text text-anchor=\"middle\" x=\"444.1834\" y=\"-66.8\" font-family=\"Times,serif\" font-size=\"14.00\" fill=\"#000000\">b </text>\n</g>\n<!-- St6 -->\n<g id=\"node4\" class=\"node\">\n<title>St6</title>\n<ellipse fill=\"none\" stroke=\"#000000\" cx=\"396.7855\" cy=\"-116\" rx=\"23.2963\" ry=\"23.2963\"/>\n<text text-anchor=\"middle\" x=\"396.7855\" y=\"-112.3\" font-family=\"Times,serif\" font-size=\"14.00\" fill=\"#000000\">St6</text>\n</g>\n<!-- St6&#45;&gt;St4 -->\n<g id=\"edge7\" class=\"edge\">\n<title>St6&#45;&gt;St4</title>\n<path fill=\"none\" stroke=\"#000000\" d=\"M418.7115,-107.5666C430.8796,-102.8863 446.3085,-96.9519 460.1452,-91.6298\"/>\n<polygon fill=\"#000000\" stroke=\"#000000\" points=\"461.7928,-94.7462 469.8697,-87.8895 459.2798,-88.2128 461.7928,-94.7462\"/>\n<text text-anchor=\"middle\" x=\"444.1834\" y=\"-103.8\" font-family=\"Times,serif\" font-size=\"14.00\" fill=\"#000000\">a </text>\n</g>\n<!-- St1&#45;&gt;St5 -->\n<g id=\"edge9\" class=\"edge\">\n<title>St1&#45;&gt;St5</title>\n<path fill=\"none\" stroke=\"#000000\" d=\"M312.2643,-132.8747C323.003,-111.0529 338.9047,-79.5499 343.3875,-75 349.7203,-68.5726 357.782,-63.2028 365.7106,-58.9015\"/>\n<polygon fill=\"#000000\" stroke=\"#000000\" points=\"367.46,-61.9402 374.8452,-54.3436 364.3346,-55.6766 367.46,-61.9402\"/>\n<text text-anchor=\"middle\" x=\"349.3875\" y=\"-78.8\" font-family=\"Times,serif\" font-size=\"14.00\" fill=\"#000000\">a </text>\n</g>\n<!-- St1&#45;&gt;St6 -->\n<g id=\"edge8\" class=\"edge\">\n<title>St1&#45;&gt;St6</title>\n<path fill=\"none\" stroke=\"#000000\" d=\"M323.976,-145.1865C336.2993,-140.2466 351.8766,-134.0022 365.4574,-128.5582\"/>\n<polygon fill=\"#000000\" stroke=\"#000000\" points=\"366.9386,-131.7352 374.9184,-124.7657 364.334,-125.2378 366.9386,-131.7352\"/>\n<text text-anchor=\"middle\" x=\"349.3875\" y=\"-141.8\" font-family=\"Times,serif\" font-size=\"14.00\" fill=\"#000000\">a </text>\n</g>\n<!-- St3&#45;&gt;St5 -->\n<g id=\"edge11\" class=\"edge\">\n<title>St3&#45;&gt;St5</title>\n<path fill=\"none\" stroke=\"#000000\" d=\"M318.1055,-56.9507C325.1858,-50.663 334.0177,-44.2776 343.3875,-41 349.9421,-38.7072 357.2095,-38.1746 364.218,-38.5713\"/>\n<polygon fill=\"#000000\" stroke=\"#000000\" points=\"363.8531,-42.0523 374.1881,-39.7205 364.6547,-35.0983 363.8531,-42.0523\"/>\n<text text-anchor=\"middle\" x=\"349.3875\" y=\"-44.8\" font-family=\"Times,serif\" font-size=\"14.00\" fill=\"#000000\">b </text>\n</g>\n<!-- St3&#45;&gt;St6 -->\n<g id=\"edge10\" class=\"edge\">\n<title>St3&#45;&gt;St6</title>\n<path fill=\"none\" stroke=\"#000000\" d=\"M323.3628,-84.6238C329.7658,-87.7256 336.8294,-91.0679 343.3875,-94 350.4356,-97.1511 358.0747,-100.3969 365.3116,-103.3954\"/>\n<polygon fill=\"#000000\" stroke=\"#000000\" points=\"364.2572,-106.7458 374.8376,-107.2989 366.9114,-100.2685 364.2572,-106.7458\"/>\n<text text-anchor=\"middle\" x=\"349.3875\" y=\"-103.8\" font-family=\"Times,serif\" font-size=\"14.00\" fill=\"#000000\">b </text>\n</g>\n<!-- St0&#45;&gt;St2 -->\n<g id=\"edge13\" class=\"edge\">\n<title>St0&#45;&gt;St2</title>\n<path fill=\"none\" stroke=\"#000000\" d=\"M137.737,-82.3248C147.1605,-81.8229 158.0826,-81.9797 167.7958,-84 171.4645,-84.7631 175.2068,-85.869 178.8673,-87.163\"/>\n<polygon fill=\"#000000\" stroke=\"#000000\" points=\"177.6744,-90.4555 188.2589,-90.9218 180.2754,-83.9566 177.6744,-90.4555\"/>\n<text text-anchor=\"middle\" x=\"161.7958\" y=\"-87.8\" font-family=\"Times,serif\" font-size=\"14.00\" fill=\"#000000\">b </text>\n</g>\n<!-- St0&#45;&gt;St2 -->\n<g id=\"edge16\" class=\"edge\">\n<title>St0&#45;&gt;St2</title>\n<path fill=\"none\" stroke=\"#000000\" d=\"M136.4443,-93.682C142.6159,-95.7739 149.3898,-97.7606 155.7958,-99 162.1372,-100.2269 168.975,-101.0085 175.5712,-101.4963\"/>\n<polygon fill=\"#000000\" stroke=\"#000000\" points=\"175.4567,-104.9952 185.6318,-102.0427 175.8364,-98.0055 175.4567,-104.9952\"/>\n<text text-anchor=\"middle\" x=\"161.7958\" y=\"-104.8\" font-family=\"Times,serif\" font-size=\"14.00\" fill=\"#000000\">a </text>\n</g>\n<!-- St0&#45;&gt;St1 -->\n<g id=\"edge12\" class=\"edge\">\n<title>St0&#45;&gt;St1</title>\n<path fill=\"none\" stroke=\"#000000\" d=\"M131.7258,-101.429C138.8509,-107.698 147.3927,-114.6229 155.7958,-120 190.1086,-141.9565 237.0306,-149.7759 268.3667,-152.5364\"/>\n<polygon fill=\"#000000\" stroke=\"#000000\" points=\"268.1201,-156.0276 278.3555,-153.2917 268.648,-149.0476 268.1201,-156.0276\"/>\n<text text-anchor=\"middle\" x=\"209.1938\" y=\"-151.8\" font-family=\"Times,serif\" font-size=\"14.00\" fill=\"#000000\">b </text>\n</g>\n<!-- St0&#45;&gt;St3 -->\n<g id=\"edge15\" class=\"edge\">\n<title>St0&#45;&gt;St3</title>\n<path fill=\"none\" stroke=\"#000000\" d=\"M134.9386,-73.786C148.8407,-66.8539 167.8708,-58.6129 185.7958,-55 214.2467,-49.2656 246.8819,-55.7372 270.3076,-62.6389\"/>\n<polygon fill=\"#000000\" stroke=\"#000000\" points=\"269.4698,-66.0441 280.0588,-65.693 271.5621,-59.3641 269.4698,-66.0441\"/>\n<text text-anchor=\"middle\" x=\"209.1938\" y=\"-58.8\" font-family=\"Times,serif\" font-size=\"14.00\" fill=\"#000000\">b </text>\n</g>\n<!-- St0&#45;&gt;St0 -->\n<g id=\"edge14\" class=\"edge\">\n<title>St0&#45;&gt;St0</title>\n<path fill=\"none\" stroke=\"#000000\" d=\"M110.6809,-108.4068C110.4245,-118.1439 111.6635,-126.3979 114.3979,-126.3979 116.0642,-126.3979 117.1752,-123.3329 117.7309,-118.735\"/>\n<polygon fill=\"#000000\" stroke=\"#000000\" points=\"121.2408,-118.53 118.115,-108.4068 114.2456,-118.2698 121.2408,-118.53\"/>\n<text text-anchor=\"middle\" x=\"114.3979\" y=\"-130.1979\" font-family=\"Times,serif\" font-size=\"14.00\" fill=\"#000000\">b </text>\n</g>\n<!-- St0&#45;&gt;St0 -->\n<g id=\"edge17\" class=\"edge\">\n<title>St0&#45;&gt;St0</title>\n<path fill=\"none\" stroke=\"#000000\" d=\"M107.9526,-107.5497C105.3745,-125.6814 107.5229,-144.3979 114.3979,-144.3979 119.9839,-144.3979 122.4495,-132.0421 121.7949,-117.6833\"/>\n<polygon fill=\"#000000\" stroke=\"#000000\" points=\"125.263,-117.1786 120.8432,-107.5497 118.2937,-117.8332 125.263,-117.1786\"/>\n<text text-anchor=\"middle\" x=\"114.3979\" y=\"-148.1979\" font-family=\"Times,serif\" font-size=\"14.00\" fill=\"#000000\">a </text>\n</g>\n</g>\n</svg>\n"
          },
          "metadata": {
            "tags": []
          },
          "execution_count": 62
        }
      ]
    },
    {
      "cell_type": "markdown",
      "metadata": {
        "id": "ly33CMizYDJv"
      },
      "source": [
        "## One more determinization, and we are done minimizing\n"
      ]
    },
    {
      "cell_type": "code",
      "metadata": {
        "id": "RzVrBtKrYDJv"
      },
      "source": [
        "DFA_min = nfa2dfa(NFA3)"
      ],
      "execution_count": 63,
      "outputs": []
    },
    {
      "cell_type": "code",
      "metadata": {
        "id": "n1OtBZptYDJw",
        "outputId": "29fdab79-5519-43cd-baf1-2e0eb8f7d7dd",
        "colab": {
          "base_uri": "https://localhost:8080/",
          "height": 210
        }
      },
      "source": [
        "dotObj_dfa(DFA_min)"
      ],
      "execution_count": 64,
      "outputs": [
        {
          "output_type": "execute_result",
          "data": {
            "text/plain": [
              "<graphviz.dot.Digraph at 0x7fd5e2ea4d30>"
            ],
            "image/svg+xml": "<?xml version=\"1.0\" encoding=\"UTF-8\" standalone=\"no\"?>\n<!DOCTYPE svg PUBLIC \"-//W3C//DTD SVG 1.1//EN\"\n \"http://www.w3.org/Graphics/SVG/1.1/DTD/svg11.dtd\">\n<!-- Generated by graphviz version 2.40.1 (20161225.0304)\n -->\n<!-- Title: %3 Pages: 1 -->\n<svg width=\"539pt\" height=\"142pt\"\n viewBox=\"0.00 0.00 538.98 141.80\" xmlns=\"http://www.w3.org/2000/svg\" xmlns:xlink=\"http://www.w3.org/1999/xlink\">\n<g id=\"graph0\" class=\"graph\" transform=\"scale(1 1) rotate(0) translate(4 137.7958)\">\n<title>%3</title>\n<polygon fill=\"#ffffff\" stroke=\"transparent\" points=\"-4,4 -4,-137.7958 534.9792,-137.7958 534.9792,4 -4,4\"/>\n<!-- EMPTY -->\n<g id=\"node1\" class=\"node\">\n<title>EMPTY</title>\n</g>\n<!-- St3 -->\n<g id=\"node3\" class=\"node\">\n<title>St3</title>\n<ellipse fill=\"none\" stroke=\"#000000\" cx=\"114.3979\" cy=\"-23.3979\" rx=\"23.2963\" ry=\"23.2963\"/>\n<text text-anchor=\"middle\" x=\"114.3979\" y=\"-19.6979\" font-family=\"Times,serif\" font-size=\"14.00\" fill=\"#000000\">St3</text>\n</g>\n<!-- EMPTY&#45;&gt;St3 -->\n<g id=\"edge1\" class=\"edge\">\n<title>EMPTY&#45;&gt;St3</title>\n<path fill=\"none\" stroke=\"#000000\" d=\"M54.1742,-23.3979C62.5103,-23.3979 71.7873,-23.3979 80.5137,-23.3979\"/>\n<polygon fill=\"#000000\" stroke=\"#000000\" points=\"80.7846,-26.898 90.7846,-23.3979 80.7845,-19.898 80.7846,-26.898\"/>\n</g>\n<!-- St2 -->\n<g id=\"node2\" class=\"node\">\n<title>St2</title>\n<ellipse fill=\"none\" stroke=\"#000000\" cx=\"404.7855\" cy=\"-40.3979\" rx=\"23.2963\" ry=\"23.2963\"/>\n<text text-anchor=\"middle\" x=\"404.7855\" y=\"-36.6979\" font-family=\"Times,serif\" font-size=\"14.00\" fill=\"#000000\">St2</text>\n</g>\n<!-- St0 -->\n<g id=\"node6\" class=\"node\">\n<title>St0</title>\n<ellipse fill=\"none\" stroke=\"#000000\" cx=\"503.5813\" cy=\"-40.3979\" rx=\"23.3111\" ry=\"23.3111\"/>\n<ellipse fill=\"none\" stroke=\"#000000\" cx=\"503.5813\" cy=\"-40.3979\" rx=\"27.2962\" ry=\"27.2962\"/>\n<text text-anchor=\"middle\" x=\"503.5813\" y=\"-36.6979\" font-family=\"Times,serif\" font-size=\"14.00\" fill=\"#000000\">St0</text>\n</g>\n<!-- St2&#45;&gt;St0 -->\n<g id=\"edge8\" class=\"edge\">\n<title>St2&#45;&gt;St0</title>\n<path fill=\"none\" stroke=\"#000000\" d=\"M428.1987,-40.3979C439.4326,-40.3979 453.173,-40.3979 465.8312,-40.3979\"/>\n<polygon fill=\"#000000\" stroke=\"#000000\" points=\"466.1309,-43.898 476.1309,-40.3979 466.1309,-36.898 466.1309,-43.898\"/>\n<text text-anchor=\"middle\" x=\"452.1834\" y=\"-44.1979\" font-family=\"Times,serif\" font-size=\"14.00\" fill=\"#000000\">b </text>\n</g>\n<!-- St2&#45;&gt;St0 -->\n<g id=\"edge9\" class=\"edge\">\n<title>St2&#45;&gt;St0</title>\n<path fill=\"none\" stroke=\"#000000\" d=\"M425.2357,-28.908C431.7302,-25.8418 439.0758,-22.9511 446.1834,-21.3979 454.1148,-19.6647 462.4928,-20.7131 470.3237,-23.0205\"/>\n<polygon fill=\"#000000\" stroke=\"#000000\" points=\"469.2814,-26.3658 479.8754,-26.502 471.6786,-19.7891 469.2814,-26.3658\"/>\n<text text-anchor=\"middle\" x=\"452.1834\" y=\"-25.1979\" font-family=\"Times,serif\" font-size=\"14.00\" fill=\"#000000\">a </text>\n</g>\n<!-- St4 -->\n<g id=\"node4\" class=\"node\">\n<title>St4</title>\n<ellipse fill=\"none\" stroke=\"#000000\" cx=\"207.1938\" cy=\"-63.3979\" rx=\"23.2963\" ry=\"23.2963\"/>\n<text text-anchor=\"middle\" x=\"207.1938\" y=\"-59.6979\" font-family=\"Times,serif\" font-size=\"14.00\" fill=\"#000000\">St4</text>\n</g>\n<!-- St3&#45;&gt;St4 -->\n<g id=\"edge3\" class=\"edge\">\n<title>St3&#45;&gt;St4</title>\n<path fill=\"none\" stroke=\"#000000\" d=\"M135.9204,-32.6753C147.8976,-37.8381 163.0147,-44.3544 176.2414,-50.0558\"/>\n<polygon fill=\"#000000\" stroke=\"#000000\" points=\"174.8979,-53.2879 185.4666,-54.0323 177.6689,-46.8597 174.8979,-53.2879\"/>\n<text text-anchor=\"middle\" x=\"160.7958\" y=\"-48.1979\" font-family=\"Times,serif\" font-size=\"14.00\" fill=\"#000000\">a </text>\n</g>\n<!-- St1 -->\n<g id=\"node5\" class=\"node\">\n<title>St1</title>\n<ellipse fill=\"none\" stroke=\"#000000\" cx=\"305.9896\" cy=\"-40.3979\" rx=\"23.3111\" ry=\"23.3111\"/>\n<ellipse fill=\"none\" stroke=\"#000000\" cx=\"305.9896\" cy=\"-40.3979\" rx=\"27.2962\" ry=\"27.2962\"/>\n<text text-anchor=\"middle\" x=\"305.9896\" y=\"-36.6979\" font-family=\"Times,serif\" font-size=\"14.00\" fill=\"#000000\">St1</text>\n</g>\n<!-- St3&#45;&gt;St1 -->\n<g id=\"edge2\" class=\"edge\">\n<title>St3&#45;&gt;St1</title>\n<path fill=\"none\" stroke=\"#000000\" d=\"M137.6828,-19.0895C161.2399,-15.4104 198.6402,-11.4353 230.5917,-16.3979 243.9804,-18.4774 258.2446,-22.5172 270.7221,-26.698\"/>\n<polygon fill=\"#000000\" stroke=\"#000000\" points=\"269.7001,-30.0484 280.295,-30.0464 272.0114,-23.4409 269.7001,-30.0484\"/>\n<text text-anchor=\"middle\" x=\"207.1938\" y=\"-20.1979\" font-family=\"Times,serif\" font-size=\"14.00\" fill=\"#000000\">b </text>\n</g>\n<!-- St4&#45;&gt;St1 -->\n<g id=\"edge6\" class=\"edge\">\n<title>St4&#45;&gt;St1</title>\n<path fill=\"none\" stroke=\"#000000\" d=\"M230.5156,-61.4077C239.9366,-60.3278 250.8615,-58.7234 260.5917,-56.3979 263.9444,-55.5966 267.3954,-54.6381 270.8259,-53.5939\"/>\n<polygon fill=\"#000000\" stroke=\"#000000\" points=\"271.9236,-56.9174 280.341,-50.4834 269.7485,-50.2639 271.9236,-56.9174\"/>\n<text text-anchor=\"middle\" x=\"254.5917\" y=\"-62.1979\" font-family=\"Times,serif\" font-size=\"14.00\" fill=\"#000000\">b </text>\n</g>\n<!-- St4&#45;&gt;St1 -->\n<g id=\"edge7\" class=\"edge\">\n<title>St4&#45;&gt;St1</title>\n<path fill=\"none\" stroke=\"#000000\" d=\"M225.903,-48.5416C232.6593,-44.0493 240.5992,-39.6996 248.5917,-37.3979 254.9473,-35.5676 261.8595,-34.8862 268.614,-34.8814\"/>\n<polygon fill=\"#000000\" stroke=\"#000000\" points=\"268.8443,-38.3958 278.9958,-35.363 269.1688,-31.4033 268.8443,-38.3958\"/>\n<text text-anchor=\"middle\" x=\"254.5917\" y=\"-41.1979\" font-family=\"Times,serif\" font-size=\"14.00\" fill=\"#000000\">a </text>\n</g>\n<!-- St1&#45;&gt;St2 -->\n<g id=\"edge4\" class=\"edge\">\n<title>St1&#45;&gt;St2</title>\n<path fill=\"none\" stroke=\"#000000\" d=\"M333.5098,-40.3979C345.0796,-40.3979 358.6561,-40.3979 370.8385,-40.3979\"/>\n<polygon fill=\"#000000\" stroke=\"#000000\" points=\"371.0998,-43.898 381.0998,-40.3979 371.0998,-36.898 371.0998,-43.898\"/>\n<text text-anchor=\"middle\" x=\"357.3875\" y=\"-44.1979\" font-family=\"Times,serif\" font-size=\"14.00\" fill=\"#000000\">b </text>\n</g>\n<!-- St1&#45;&gt;St2 -->\n<g id=\"edge5\" class=\"edge\">\n<title>St1&#45;&gt;St2</title>\n<path fill=\"none\" stroke=\"#000000\" d=\"M329.6955,-26.502C339.9236,-22.0943 352.1074,-18.933 363.3875,-21.3979 367.2745,-22.2473 371.2327,-23.4967 375.0839,-24.9561\"/>\n<polygon fill=\"#000000\" stroke=\"#000000\" points=\"373.7642,-28.1983 384.3353,-28.908 376.5141,-21.761 373.7642,-28.1983\"/>\n<text text-anchor=\"middle\" x=\"357.3875\" y=\"-25.1979\" font-family=\"Times,serif\" font-size=\"14.00\" fill=\"#000000\">a </text>\n</g>\n<!-- St0&#45;&gt;St0 -->\n<g id=\"edge10\" class=\"edge\">\n<title>St0&#45;&gt;St0</title>\n<path fill=\"none\" stroke=\"#000000\" d=\"M498.9041,-67.4297C498.7508,-77.5036 500.3098,-85.7958 503.5813,-85.7958 505.626,-85.7958 507.0018,-82.5567 507.7086,-77.6679\"/>\n<polygon fill=\"#000000\" stroke=\"#000000\" points=\"511.217,-77.6031 508.2585,-67.4297 504.2271,-77.2276 511.217,-77.6031\"/>\n<text text-anchor=\"middle\" x=\"503.5813\" y=\"-89.5958\" font-family=\"Times,serif\" font-size=\"14.00\" fill=\"#000000\">b </text>\n</g>\n<!-- St0&#45;&gt;St0 -->\n<g id=\"edge11\" class=\"edge\">\n<title>St0&#45;&gt;St0</title>\n<path fill=\"none\" stroke=\"#000000\" d=\"M495.1682,-66.777C492.525,-85.3764 495.3294,-103.7958 503.5813,-103.7958 510.286,-103.7958 513.3945,-91.6361 512.9067,-77.1\"/>\n<polygon fill=\"#000000\" stroke=\"#000000\" points=\"516.3612,-76.4301 511.9944,-66.777 509.3884,-77.0463 516.3612,-76.4301\"/>\n<text text-anchor=\"middle\" x=\"503.5813\" y=\"-107.5958\" font-family=\"Times,serif\" font-size=\"14.00\" fill=\"#000000\">a </text>\n</g>\n</g>\n</svg>\n"
          },
          "metadata": {
            "tags": []
          },
          "execution_count": 64
        }
      ]
    },
    {
      "cell_type": "markdown",
      "metadata": {
        "id": "Vzk3_V7wYDJw"
      },
      "source": [
        "# Check that DFA_min and DFA_bloated have the same language but are not isomorphic"
      ]
    },
    {
      "cell_type": "code",
      "metadata": {
        "id": "J8zydUgeYDJw",
        "outputId": "29410d23-3627-4125-d511-83dfe0b16fa5",
        "colab": {
          "base_uri": "https://localhost:8080/"
        }
      },
      "source": [
        "help(langeq_dfa)"
      ],
      "execution_count": 65,
      "outputs": [
        {
          "output_type": "stream",
          "text": [
            "Help on function langeq_dfa in module jove.Def_DFA:\n",
            "\n",
            "langeq_dfa(D1, D2, gen_counterex=False)\n",
            "    Given consistent and total DFAs D1 and D2,\n",
            "    check whether they are language-equivalent. \n",
            "    gen_counterex is a flag that triggers the\n",
            "     printing of a counter-example showing the\n",
            "     pairs that were marched in tandem till a\n",
            "     difference was found.\n",
            "     \n",
            "    Two DFAs are language-equivalent if they \n",
            "    accept the same set of strings. We determine\n",
            "    this through a joint depth-first walk of the \n",
            "    two DFAs until we detect a difference (return\n",
            "    False then) or all pairs of states have been\n",
            "    visited (return True then).\n",
            "\n"
          ],
          "name": "stdout"
        }
      ]
    },
    {
      "cell_type": "code",
      "metadata": {
        "id": "iJzMX93oYDJx",
        "outputId": "d2b5db65-3ac4-4247-c8ed-17e593747e6f",
        "colab": {
          "base_uri": "https://localhost:8080/"
        }
      },
      "source": [
        "help(iso_dfa)"
      ],
      "execution_count": 66,
      "outputs": [
        {
          "output_type": "stream",
          "text": [
            "Help on function iso_dfa in module jove.Def_DFA:\n",
            "\n",
            "iso_dfa(D1, D2)\n",
            "    Given consistent and total DFAs D1 and D2,\n",
            "    check whether they are isomorphic. Two DFAs\n",
            "    are isomorphic if they have the same number\n",
            "    of states and are language-equivalent. (One would\n",
            "    then be able to match-up state for state and transition\n",
            "    for transition.)\n",
            "\n"
          ],
          "name": "stdout"
        }
      ]
    },
    {
      "cell_type": "code",
      "metadata": {
        "id": "ddo0oCNQYDJx",
        "outputId": "14141166-3c62-4b82-d008-f1c8c559e2e4",
        "colab": {
          "base_uri": "https://localhost:8080/"
        }
      },
      "source": [
        "langeq_dfa(DFA_bloated, DFA_min)"
      ],
      "execution_count": 67,
      "outputs": [
        {
          "output_type": "execute_result",
          "data": {
            "text/plain": [
              "True"
            ]
          },
          "metadata": {
            "tags": []
          },
          "execution_count": 67
        }
      ]
    },
    {
      "cell_type": "code",
      "metadata": {
        "id": "Y_P0zASJYDJx",
        "outputId": "624ecb3e-3389-4aba-ea83-ef9d19a1e958",
        "colab": {
          "base_uri": "https://localhost:8080/"
        }
      },
      "source": [
        "iso_dfa(DFA_bloated, DFA_min)"
      ],
      "execution_count": 68,
      "outputs": [
        {
          "output_type": "execute_result",
          "data": {
            "text/plain": [
              "False"
            ]
          },
          "metadata": {
            "tags": []
          },
          "execution_count": 68
        }
      ]
    },
    {
      "cell_type": "markdown",
      "metadata": {
        "id": "k9YNd-u_YDJx"
      },
      "source": [
        "##  But DFA_min indeed is minimal as shown by the number of states of the standard DFA min algorithm"
      ]
    },
    {
      "cell_type": "code",
      "metadata": {
        "id": "lGzjfPHqYDJy"
      },
      "source": [
        "DFA_min_alt = min_dfa(DFA_bloated)"
      ],
      "execution_count": 69,
      "outputs": []
    },
    {
      "cell_type": "code",
      "metadata": {
        "id": "f1rBCaKSYDJy",
        "outputId": "69341368-ab9a-45bb-b54a-ba16979d5505",
        "colab": {
          "base_uri": "https://localhost:8080/",
          "height": 210
        }
      },
      "source": [
        "dotObj_dfa(DFA_min)"
      ],
      "execution_count": 70,
      "outputs": [
        {
          "output_type": "execute_result",
          "data": {
            "text/plain": [
              "<graphviz.dot.Digraph at 0x7fd5e2e6f828>"
            ],
            "image/svg+xml": "<?xml version=\"1.0\" encoding=\"UTF-8\" standalone=\"no\"?>\n<!DOCTYPE svg PUBLIC \"-//W3C//DTD SVG 1.1//EN\"\n \"http://www.w3.org/Graphics/SVG/1.1/DTD/svg11.dtd\">\n<!-- Generated by graphviz version 2.40.1 (20161225.0304)\n -->\n<!-- Title: %3 Pages: 1 -->\n<svg width=\"539pt\" height=\"142pt\"\n viewBox=\"0.00 0.00 538.98 141.80\" xmlns=\"http://www.w3.org/2000/svg\" xmlns:xlink=\"http://www.w3.org/1999/xlink\">\n<g id=\"graph0\" class=\"graph\" transform=\"scale(1 1) rotate(0) translate(4 137.7958)\">\n<title>%3</title>\n<polygon fill=\"#ffffff\" stroke=\"transparent\" points=\"-4,4 -4,-137.7958 534.9792,-137.7958 534.9792,4 -4,4\"/>\n<!-- EMPTY -->\n<g id=\"node1\" class=\"node\">\n<title>EMPTY</title>\n</g>\n<!-- St3 -->\n<g id=\"node3\" class=\"node\">\n<title>St3</title>\n<ellipse fill=\"none\" stroke=\"#000000\" cx=\"114.3979\" cy=\"-23.3979\" rx=\"23.2963\" ry=\"23.2963\"/>\n<text text-anchor=\"middle\" x=\"114.3979\" y=\"-19.6979\" font-family=\"Times,serif\" font-size=\"14.00\" fill=\"#000000\">St3</text>\n</g>\n<!-- EMPTY&#45;&gt;St3 -->\n<g id=\"edge1\" class=\"edge\">\n<title>EMPTY&#45;&gt;St3</title>\n<path fill=\"none\" stroke=\"#000000\" d=\"M54.1742,-23.3979C62.5103,-23.3979 71.7873,-23.3979 80.5137,-23.3979\"/>\n<polygon fill=\"#000000\" stroke=\"#000000\" points=\"80.7846,-26.898 90.7846,-23.3979 80.7845,-19.898 80.7846,-26.898\"/>\n</g>\n<!-- St2 -->\n<g id=\"node2\" class=\"node\">\n<title>St2</title>\n<ellipse fill=\"none\" stroke=\"#000000\" cx=\"404.7855\" cy=\"-40.3979\" rx=\"23.2963\" ry=\"23.2963\"/>\n<text text-anchor=\"middle\" x=\"404.7855\" y=\"-36.6979\" font-family=\"Times,serif\" font-size=\"14.00\" fill=\"#000000\">St2</text>\n</g>\n<!-- St0 -->\n<g id=\"node6\" class=\"node\">\n<title>St0</title>\n<ellipse fill=\"none\" stroke=\"#000000\" cx=\"503.5813\" cy=\"-40.3979\" rx=\"23.3111\" ry=\"23.3111\"/>\n<ellipse fill=\"none\" stroke=\"#000000\" cx=\"503.5813\" cy=\"-40.3979\" rx=\"27.2962\" ry=\"27.2962\"/>\n<text text-anchor=\"middle\" x=\"503.5813\" y=\"-36.6979\" font-family=\"Times,serif\" font-size=\"14.00\" fill=\"#000000\">St0</text>\n</g>\n<!-- St2&#45;&gt;St0 -->\n<g id=\"edge8\" class=\"edge\">\n<title>St2&#45;&gt;St0</title>\n<path fill=\"none\" stroke=\"#000000\" d=\"M428.1987,-40.3979C439.4326,-40.3979 453.173,-40.3979 465.8312,-40.3979\"/>\n<polygon fill=\"#000000\" stroke=\"#000000\" points=\"466.1309,-43.898 476.1309,-40.3979 466.1309,-36.898 466.1309,-43.898\"/>\n<text text-anchor=\"middle\" x=\"452.1834\" y=\"-44.1979\" font-family=\"Times,serif\" font-size=\"14.00\" fill=\"#000000\">b </text>\n</g>\n<!-- St2&#45;&gt;St0 -->\n<g id=\"edge9\" class=\"edge\">\n<title>St2&#45;&gt;St0</title>\n<path fill=\"none\" stroke=\"#000000\" d=\"M425.2357,-28.908C431.7302,-25.8418 439.0758,-22.9511 446.1834,-21.3979 454.1148,-19.6647 462.4928,-20.7131 470.3237,-23.0205\"/>\n<polygon fill=\"#000000\" stroke=\"#000000\" points=\"469.2814,-26.3658 479.8754,-26.502 471.6786,-19.7891 469.2814,-26.3658\"/>\n<text text-anchor=\"middle\" x=\"452.1834\" y=\"-25.1979\" font-family=\"Times,serif\" font-size=\"14.00\" fill=\"#000000\">a </text>\n</g>\n<!-- St4 -->\n<g id=\"node4\" class=\"node\">\n<title>St4</title>\n<ellipse fill=\"none\" stroke=\"#000000\" cx=\"207.1938\" cy=\"-63.3979\" rx=\"23.2963\" ry=\"23.2963\"/>\n<text text-anchor=\"middle\" x=\"207.1938\" y=\"-59.6979\" font-family=\"Times,serif\" font-size=\"14.00\" fill=\"#000000\">St4</text>\n</g>\n<!-- St3&#45;&gt;St4 -->\n<g id=\"edge3\" class=\"edge\">\n<title>St3&#45;&gt;St4</title>\n<path fill=\"none\" stroke=\"#000000\" d=\"M135.9204,-32.6753C147.8976,-37.8381 163.0147,-44.3544 176.2414,-50.0558\"/>\n<polygon fill=\"#000000\" stroke=\"#000000\" points=\"174.8979,-53.2879 185.4666,-54.0323 177.6689,-46.8597 174.8979,-53.2879\"/>\n<text text-anchor=\"middle\" x=\"160.7958\" y=\"-48.1979\" font-family=\"Times,serif\" font-size=\"14.00\" fill=\"#000000\">a </text>\n</g>\n<!-- St1 -->\n<g id=\"node5\" class=\"node\">\n<title>St1</title>\n<ellipse fill=\"none\" stroke=\"#000000\" cx=\"305.9896\" cy=\"-40.3979\" rx=\"23.3111\" ry=\"23.3111\"/>\n<ellipse fill=\"none\" stroke=\"#000000\" cx=\"305.9896\" cy=\"-40.3979\" rx=\"27.2962\" ry=\"27.2962\"/>\n<text text-anchor=\"middle\" x=\"305.9896\" y=\"-36.6979\" font-family=\"Times,serif\" font-size=\"14.00\" fill=\"#000000\">St1</text>\n</g>\n<!-- St3&#45;&gt;St1 -->\n<g id=\"edge2\" class=\"edge\">\n<title>St3&#45;&gt;St1</title>\n<path fill=\"none\" stroke=\"#000000\" d=\"M137.6828,-19.0895C161.2399,-15.4104 198.6402,-11.4353 230.5917,-16.3979 243.9804,-18.4774 258.2446,-22.5172 270.7221,-26.698\"/>\n<polygon fill=\"#000000\" stroke=\"#000000\" points=\"269.7001,-30.0484 280.295,-30.0464 272.0114,-23.4409 269.7001,-30.0484\"/>\n<text text-anchor=\"middle\" x=\"207.1938\" y=\"-20.1979\" font-family=\"Times,serif\" font-size=\"14.00\" fill=\"#000000\">b </text>\n</g>\n<!-- St4&#45;&gt;St1 -->\n<g id=\"edge6\" class=\"edge\">\n<title>St4&#45;&gt;St1</title>\n<path fill=\"none\" stroke=\"#000000\" d=\"M230.5156,-61.4077C239.9366,-60.3278 250.8615,-58.7234 260.5917,-56.3979 263.9444,-55.5966 267.3954,-54.6381 270.8259,-53.5939\"/>\n<polygon fill=\"#000000\" stroke=\"#000000\" points=\"271.9236,-56.9174 280.341,-50.4834 269.7485,-50.2639 271.9236,-56.9174\"/>\n<text text-anchor=\"middle\" x=\"254.5917\" y=\"-62.1979\" font-family=\"Times,serif\" font-size=\"14.00\" fill=\"#000000\">b </text>\n</g>\n<!-- St4&#45;&gt;St1 -->\n<g id=\"edge7\" class=\"edge\">\n<title>St4&#45;&gt;St1</title>\n<path fill=\"none\" stroke=\"#000000\" d=\"M225.903,-48.5416C232.6593,-44.0493 240.5992,-39.6996 248.5917,-37.3979 254.9473,-35.5676 261.8595,-34.8862 268.614,-34.8814\"/>\n<polygon fill=\"#000000\" stroke=\"#000000\" points=\"268.8443,-38.3958 278.9958,-35.363 269.1688,-31.4033 268.8443,-38.3958\"/>\n<text text-anchor=\"middle\" x=\"254.5917\" y=\"-41.1979\" font-family=\"Times,serif\" font-size=\"14.00\" fill=\"#000000\">a </text>\n</g>\n<!-- St1&#45;&gt;St2 -->\n<g id=\"edge4\" class=\"edge\">\n<title>St1&#45;&gt;St2</title>\n<path fill=\"none\" stroke=\"#000000\" d=\"M333.5098,-40.3979C345.0796,-40.3979 358.6561,-40.3979 370.8385,-40.3979\"/>\n<polygon fill=\"#000000\" stroke=\"#000000\" points=\"371.0998,-43.898 381.0998,-40.3979 371.0998,-36.898 371.0998,-43.898\"/>\n<text text-anchor=\"middle\" x=\"357.3875\" y=\"-44.1979\" font-family=\"Times,serif\" font-size=\"14.00\" fill=\"#000000\">b </text>\n</g>\n<!-- St1&#45;&gt;St2 -->\n<g id=\"edge5\" class=\"edge\">\n<title>St1&#45;&gt;St2</title>\n<path fill=\"none\" stroke=\"#000000\" d=\"M329.6955,-26.502C339.9236,-22.0943 352.1074,-18.933 363.3875,-21.3979 367.2745,-22.2473 371.2327,-23.4967 375.0839,-24.9561\"/>\n<polygon fill=\"#000000\" stroke=\"#000000\" points=\"373.7642,-28.1983 384.3353,-28.908 376.5141,-21.761 373.7642,-28.1983\"/>\n<text text-anchor=\"middle\" x=\"357.3875\" y=\"-25.1979\" font-family=\"Times,serif\" font-size=\"14.00\" fill=\"#000000\">a </text>\n</g>\n<!-- St0&#45;&gt;St0 -->\n<g id=\"edge10\" class=\"edge\">\n<title>St0&#45;&gt;St0</title>\n<path fill=\"none\" stroke=\"#000000\" d=\"M498.9041,-67.4297C498.7508,-77.5036 500.3098,-85.7958 503.5813,-85.7958 505.626,-85.7958 507.0018,-82.5567 507.7086,-77.6679\"/>\n<polygon fill=\"#000000\" stroke=\"#000000\" points=\"511.217,-77.6031 508.2585,-67.4297 504.2271,-77.2276 511.217,-77.6031\"/>\n<text text-anchor=\"middle\" x=\"503.5813\" y=\"-89.5958\" font-family=\"Times,serif\" font-size=\"14.00\" fill=\"#000000\">b </text>\n</g>\n<!-- St0&#45;&gt;St0 -->\n<g id=\"edge11\" class=\"edge\">\n<title>St0&#45;&gt;St0</title>\n<path fill=\"none\" stroke=\"#000000\" d=\"M495.1682,-66.777C492.525,-85.3764 495.3294,-103.7958 503.5813,-103.7958 510.286,-103.7958 513.3945,-91.6361 512.9067,-77.1\"/>\n<polygon fill=\"#000000\" stroke=\"#000000\" points=\"516.3612,-76.4301 511.9944,-66.777 509.3884,-77.0463 516.3612,-76.4301\"/>\n<text text-anchor=\"middle\" x=\"503.5813\" y=\"-107.5958\" font-family=\"Times,serif\" font-size=\"14.00\" fill=\"#000000\">a </text>\n</g>\n</g>\n</svg>\n"
          },
          "metadata": {
            "tags": []
          },
          "execution_count": 70
        }
      ]
    },
    {
      "cell_type": "code",
      "metadata": {
        "id": "fd_IjEliYDJy",
        "outputId": "c48c4134-a71a-47b4-ad0d-2d7117f28fa0",
        "colab": {
          "base_uri": "https://localhost:8080/",
          "height": 216
        }
      },
      "source": [
        "dotObj_dfa(DFA_min_alt)"
      ],
      "execution_count": 71,
      "outputs": [
        {
          "output_type": "execute_result",
          "data": {
            "text/plain": [
              "<graphviz.dot.Digraph at 0x7fd5e2e6ff28>"
            ],
            "image/svg+xml": "<?xml version=\"1.0\" encoding=\"UTF-8\" standalone=\"no\"?>\n<!DOCTYPE svg PUBLIC \"-//W3C//DTD SVG 1.1//EN\"\n \"http://www.w3.org/Graphics/SVG/1.1/DTD/svg11.dtd\">\n<!-- Generated by graphviz version 2.40.1 (20161225.0304)\n -->\n<!-- Title: %3 Pages: 1 -->\n<svg width=\"566pt\" height=\"146pt\"\n viewBox=\"0.00 0.00 566.28 145.70\" xmlns=\"http://www.w3.org/2000/svg\" xmlns:xlink=\"http://www.w3.org/1999/xlink\">\n<g id=\"graph0\" class=\"graph\" transform=\"scale(1 1) rotate(0) translate(4 141.6955)\">\n<title>%3</title>\n<polygon fill=\"#ffffff\" stroke=\"transparent\" points=\"-4,4 -4,-141.6955 562.2768,-141.6955 562.2768,4 -4,4\"/>\n<!-- EMPTY -->\n<g id=\"node1\" class=\"node\">\n<title>EMPTY</title>\n</g>\n<!-- IS1 -->\n<g id=\"node4\" class=\"node\">\n<title>IS1</title>\n<ellipse fill=\"none\" stroke=\"#000000\" cx=\"115.0479\" cy=\"-24.0479\" rx=\"24.0958\" ry=\"24.0958\"/>\n<text text-anchor=\"middle\" x=\"115.0479\" y=\"-20.3479\" font-family=\"Times,serif\" font-size=\"14.00\" fill=\"#000000\">IS1</text>\n</g>\n<!-- EMPTY&#45;&gt;IS1 -->\n<g id=\"edge1\" class=\"edge\">\n<title>EMPTY&#45;&gt;IS1</title>\n<path fill=\"none\" stroke=\"#000000\" d=\"M54.3763,-24.0479C62.7026,-24.0479 71.9607,-24.0479 80.6861,-24.0479\"/>\n<polygon fill=\"#000000\" stroke=\"#000000\" points=\"80.9666,-27.548 90.9666,-24.0479 80.9665,-20.548 80.9666,-27.548\"/>\n</g>\n<!-- S5 -->\n<g id=\"node2\" class=\"node\">\n<title>S5</title>\n<ellipse fill=\"none\" stroke=\"#000000\" cx=\"428.1834\" cy=\"-41.0479\" rx=\"20.5982\" ry=\"20.5982\"/>\n<text text-anchor=\"middle\" x=\"428.1834\" y=\"-37.3479\" font-family=\"Times,serif\" font-size=\"14.00\" fill=\"#000000\">S5</text>\n</g>\n<!-- FS6 -->\n<g id=\"node6\" class=\"node\">\n<title>FS6</title>\n<ellipse fill=\"none\" stroke=\"#000000\" cx=\"527.6292\" cy=\"-41.0479\" rx=\"26.7766\" ry=\"26.7766\"/>\n<ellipse fill=\"none\" stroke=\"#000000\" cx=\"527.6292\" cy=\"-41.0479\" rx=\"30.796\" ry=\"30.796\"/>\n<text text-anchor=\"middle\" x=\"527.6292\" y=\"-37.3479\" font-family=\"Times,serif\" font-size=\"14.00\" fill=\"#000000\">FS6</text>\n</g>\n<!-- S5&#45;&gt;FS6 -->\n<g id=\"edge8\" class=\"edge\">\n<title>S5&#45;&gt;FS6</title>\n<path fill=\"none\" stroke=\"#000000\" d=\"M449.2733,-41.0479C460.1604,-41.0479 473.8256,-41.0479 486.6825,-41.0479\"/>\n<polygon fill=\"#000000\" stroke=\"#000000\" points=\"486.7516,-44.548 496.7515,-41.0479 486.7515,-37.548 486.7516,-44.548\"/>\n<text text-anchor=\"middle\" x=\"472.9815\" y=\"-44.8479\" font-family=\"Times,serif\" font-size=\"14.00\" fill=\"#000000\">a </text>\n</g>\n<!-- S5&#45;&gt;FS6 -->\n<g id=\"edge9\" class=\"edge\">\n<title>S5&#45;&gt;FS6</title>\n<path fill=\"none\" stroke=\"#000000\" d=\"M446.0949,-30.1652C452.4572,-26.8802 459.8211,-23.707 466.9815,-22.0479 474.8417,-20.2266 483.1598,-20.996 491.033,-23.0248\"/>\n<polygon fill=\"#000000\" stroke=\"#000000\" points=\"490.1075,-26.4042 500.6997,-26.1678 492.272,-19.7472 490.1075,-26.4042\"/>\n<text text-anchor=\"middle\" x=\"472.9815\" y=\"-25.8479\" font-family=\"Times,serif\" font-size=\"14.00\" fill=\"#000000\">b </text>\n</g>\n<!-- Temp -->\n<g id=\"node3\" class=\"node\">\n<title>Temp</title>\n<ellipse fill=\"none\" stroke=\"#000000\" cx=\"217.5928\" cy=\"-73.0479\" rx=\"32.4942\" ry=\"32.4942\"/>\n<text text-anchor=\"middle\" x=\"217.5928\" y=\"-69.3479\" font-family=\"Times,serif\" font-size=\"14.00\" fill=\"#000000\">Temp</text>\n</g>\n<!-- FS2 -->\n<g id=\"node5\" class=\"node\">\n<title>FS2</title>\n<ellipse fill=\"none\" stroke=\"#000000\" cx=\"328.7376\" cy=\"-41.0479\" rx=\"26.7766\" ry=\"26.7766\"/>\n<ellipse fill=\"none\" stroke=\"#000000\" cx=\"328.7376\" cy=\"-41.0479\" rx=\"30.796\" ry=\"30.796\"/>\n<text text-anchor=\"middle\" x=\"328.7376\" y=\"-37.3479\" font-family=\"Times,serif\" font-size=\"14.00\" fill=\"#000000\">FS2</text>\n</g>\n<!-- Temp&#45;&gt;FS2 -->\n<g id=\"edge4\" class=\"edge\">\n<title>Temp&#45;&gt;FS2</title>\n<path fill=\"none\" stroke=\"#000000\" d=\"M249.1785,-65.4004C259.1098,-62.8785 270.0917,-59.9683 280.09,-57.0479 283.2476,-56.1255 286.5087,-55.1356 289.7774,-54.1168\"/>\n<polygon fill=\"#000000\" stroke=\"#000000\" points=\"291.0466,-57.3858 299.5104,-51.0129 288.9197,-50.7167 291.0466,-57.3858\"/>\n<text text-anchor=\"middle\" x=\"274.09\" y=\"-63.8479\" font-family=\"Times,serif\" font-size=\"14.00\" fill=\"#000000\">a </text>\n</g>\n<!-- Temp&#45;&gt;FS2 -->\n<g id=\"edge5\" class=\"edge\">\n<title>Temp&#45;&gt;FS2</title>\n<path fill=\"none\" stroke=\"#000000\" d=\"M242.1967,-51.5977C249.9659,-46.0892 258.9273,-40.9128 268.09,-38.0479 274.5797,-36.0187 281.6492,-35.2025 288.5942,-35.1168\"/>\n<polygon fill=\"#000000\" stroke=\"#000000\" points=\"288.4851,-38.615 298.5986,-35.4578 288.7236,-31.6191 288.4851,-38.615\"/>\n<text text-anchor=\"middle\" x=\"274.09\" y=\"-41.8479\" font-family=\"Times,serif\" font-size=\"14.00\" fill=\"#000000\">b </text>\n</g>\n<!-- IS1&#45;&gt;Temp -->\n<g id=\"edge2\" class=\"edge\">\n<title>IS1&#45;&gt;Temp</title>\n<path fill=\"none\" stroke=\"#000000\" d=\"M136.795,-34.4395C149.0447,-40.2929 164.7053,-47.7761 178.9719,-54.5933\"/>\n<polygon fill=\"#000000\" stroke=\"#000000\" points=\"177.5641,-57.7996 188.0959,-58.9531 180.5821,-51.4836 177.5641,-57.7996\"/>\n<text text-anchor=\"middle\" x=\"162.0957\" y=\"-51.8479\" font-family=\"Times,serif\" font-size=\"14.00\" fill=\"#000000\">a </text>\n</g>\n<!-- IS1&#45;&gt;FS2 -->\n<g id=\"edge3\" class=\"edge\">\n<title>IS1&#45;&gt;FS2</title>\n<path fill=\"none\" stroke=\"#000000\" d=\"M139.0926,-19.9286C166.2073,-15.9481 211.5459,-11.2977 250.09,-17.0479 263.4593,-19.0424 277.6982,-22.8448 290.3344,-26.8449\"/>\n<polygon fill=\"#000000\" stroke=\"#000000\" points=\"289.4843,-30.25 300.0776,-30.0645 291.6807,-23.6035 289.4843,-30.25\"/>\n<text text-anchor=\"middle\" x=\"217.5928\" y=\"-20.8479\" font-family=\"Times,serif\" font-size=\"14.00\" fill=\"#000000\">b </text>\n</g>\n<!-- FS2&#45;&gt;S5 -->\n<g id=\"edge6\" class=\"edge\">\n<title>FS2&#45;&gt;S5</title>\n<path fill=\"none\" stroke=\"#000000\" d=\"M359.3861,-41.0479C371.392,-41.0479 385.1468,-41.0479 397.1863,-41.0479\"/>\n<polygon fill=\"#000000\" stroke=\"#000000\" points=\"397.2378,-44.548 407.2378,-41.0479 397.2377,-37.548 397.2378,-44.548\"/>\n<text text-anchor=\"middle\" x=\"383.3852\" y=\"-44.8479\" font-family=\"Times,serif\" font-size=\"14.00\" fill=\"#000000\">a </text>\n</g>\n<!-- FS2&#45;&gt;S5 -->\n<g id=\"edge7\" class=\"edge\">\n<title>FS2&#45;&gt;S5</title>\n<path fill=\"none\" stroke=\"#000000\" d=\"M355.6671,-26.1678C366.1011,-22.1077 378.2063,-19.4576 389.3852,-22.0479 393.3011,-22.9552 397.2778,-24.3154 401.1183,-25.899\"/>\n<polygon fill=\"#000000\" stroke=\"#000000\" points=\"399.7294,-29.1131 410.2718,-30.1652 402.6865,-22.7684 399.7294,-29.1131\"/>\n<text text-anchor=\"middle\" x=\"383.3852\" y=\"-25.8479\" font-family=\"Times,serif\" font-size=\"14.00\" fill=\"#000000\">b </text>\n</g>\n<!-- FS6&#45;&gt;FS6 -->\n<g id=\"edge10\" class=\"edge\">\n<title>FS6&#45;&gt;FS6</title>\n<path fill=\"none\" stroke=\"#000000\" d=\"M522.5667,-71.4526C522.5667,-81.5876 524.2542,-89.6955 527.6292,-89.6955 529.7386,-89.6955 531.1888,-86.5283 531.9798,-81.6786\"/>\n<polygon fill=\"#000000\" stroke=\"#000000\" points=\"535.4886,-81.6716 532.6917,-71.4526 528.5055,-81.1854 535.4886,-81.6716\"/>\n<text text-anchor=\"middle\" x=\"527.6292\" y=\"-93.4955\" font-family=\"Times,serif\" font-size=\"14.00\" fill=\"#000000\">a </text>\n</g>\n<!-- FS6&#45;&gt;FS6 -->\n<g id=\"edge11\" class=\"edge\">\n<title>FS6&#45;&gt;FS6</title>\n<path fill=\"none\" stroke=\"#000000\" d=\"M518.3051,-70.5136C515.8727,-89.4607 518.9807,-107.6955 527.6292,-107.6955 534.7236,-107.6955 538.0898,-95.4251 537.7278,-80.5566\"/>\n<polygon fill=\"#000000\" stroke=\"#000000\" points=\"541.2119,-80.2148 536.9533,-70.5136 534.2327,-80.7531 541.2119,-80.2148\"/>\n<text text-anchor=\"middle\" x=\"527.6292\" y=\"-111.4955\" font-family=\"Times,serif\" font-size=\"14.00\" fill=\"#000000\">b </text>\n</g>\n</g>\n</svg>\n"
          },
          "metadata": {
            "tags": []
          },
          "execution_count": 71
        }
      ]
    },
    {
      "cell_type": "code",
      "metadata": {
        "id": "7IOsB0y-YDJy",
        "outputId": "a16f339e-cbca-49e4-f2b7-23fd04bdaf1c",
        "colab": {
          "base_uri": "https://localhost:8080/"
        }
      },
      "source": [
        "help(iso_dfa)"
      ],
      "execution_count": 72,
      "outputs": [
        {
          "output_type": "stream",
          "text": [
            "Help on function iso_dfa in module jove.Def_DFA:\n",
            "\n",
            "iso_dfa(D1, D2)\n",
            "    Given consistent and total DFAs D1 and D2,\n",
            "    check whether they are isomorphic. Two DFAs\n",
            "    are isomorphic if they have the same number\n",
            "    of states and are language-equivalent. (One would\n",
            "    then be able to match-up state for state and transition\n",
            "    for transition.)\n",
            "\n"
          ],
          "name": "stdout"
        }
      ]
    },
    {
      "cell_type": "code",
      "metadata": {
        "id": "Hhz2qOxzYDJz",
        "outputId": "db97052d-1a92-46c2-a572-57d2aa6969f9",
        "colab": {
          "base_uri": "https://localhost:8080/"
        }
      },
      "source": [
        "iso_dfa(DFA_min_alt, DFA_min)\n",
        "\n"
      ],
      "execution_count": 73,
      "outputs": [
        {
          "output_type": "execute_result",
          "data": {
            "text/plain": [
              "True"
            ]
          },
          "metadata": {
            "tags": []
          },
          "execution_count": 73
        }
      ]
    },
    {
      "cell_type": "markdown",
      "metadata": {
        "id": "TV3g8mMrYDJz"
      },
      "source": [
        "# END of demonstration that DFA minimization can be done in two different ways\n",
        "\n",
        "## Here are some notes to understand Brzozowski's method\n",
        "\n",
        "* If you are given a DFA \"D1\", a minimal DFA for \"reverse(D1)\" is obtained by \"reverse followed by determinize\"\n",
        "\n",
        "* But since we are interested in the minimal DFA for \"D1\" (and not reverse(D1)), we do these steps again!\n",
        "\n",
        "* Hence the algorithm becomes \"reverse THEN determinize THEN reverse THEN determinize\""
      ]
    }
  ]
}