{
  "nbformat": 4,
  "nbformat_minor": 0,
  "metadata": {
    "kernelspec": {
      "display_name": "Python 3",
      "language": "python",
      "name": "python3"
    },
    "language_info": {
      "codemirror_mode": {
        "name": "ipython",
        "version": 3
      },
      "file_extension": ".py",
      "mimetype": "text/x-python",
      "name": "python",
      "nbconvert_exporter": "python",
      "pygments_lexer": "ipython3",
      "version": "3.9.0"
    },
    "toc": {
      "colors": {
        "hover_highlight": "#DAA520",
        "running_highlight": "#FF0000",
        "selected_highlight": "#FFD700"
      },
      "moveMenuLeft": true,
      "nav_menu": {
        "height": "121px",
        "width": "252px"
      },
      "navigate_menu": true,
      "number_sections": true,
      "sideBar": true,
      "threshold": 4,
      "toc_cell": false,
      "toc_section_display": "block",
      "toc_window_display": false,
      "widenNotebook": false
    },
    "widgets": {
      "application/vnd.jupyter.widget-state+json": {
        "db210431c0e24a81922fcbd92b64d585": {
          "model_module": "@jupyter-widgets/controls",
          "model_name": "VBoxModel",
          "state": {
            "_view_name": "VBoxView",
            "_dom_classes": [],
            "_model_name": "VBoxModel",
            "_view_module": "@jupyter-widgets/controls",
            "_model_module_version": "1.5.0",
            "_view_count": null,
            "_view_module_version": "1.5.0",
            "box_style": "",
            "layout": "IPY_MODEL_d751415d8e3441b4b2d4d35dbdffd77a",
            "_model_module": "@jupyter-widgets/controls",
            "children": [
              "IPY_MODEL_0edd2d7cbcd647a1be18c50b3db128c3",
              "IPY_MODEL_4efbf477f926431c9600b17462cdb4fa",
              "IPY_MODEL_951c940aaa654a5e8a6a4cec9b149d06",
              "IPY_MODEL_e65bc5ae66ba4e3a95ba87165539a022"
            ]
          }
        },
        "d751415d8e3441b4b2d4d35dbdffd77a": {
          "model_module": "@jupyter-widgets/base",
          "model_name": "LayoutModel",
          "state": {
            "_view_name": "LayoutView",
            "grid_template_rows": null,
            "right": null,
            "justify_content": null,
            "_view_module": "@jupyter-widgets/base",
            "overflow": null,
            "_model_module_version": "1.2.0",
            "_view_count": null,
            "flex_flow": null,
            "width": null,
            "min_width": null,
            "border": null,
            "align_items": null,
            "bottom": null,
            "_model_module": "@jupyter-widgets/base",
            "top": null,
            "grid_column": null,
            "overflow_y": null,
            "overflow_x": null,
            "grid_auto_flow": null,
            "grid_area": null,
            "grid_template_columns": null,
            "flex": null,
            "_model_name": "LayoutModel",
            "justify_items": null,
            "grid_row": null,
            "max_height": null,
            "align_content": null,
            "visibility": null,
            "align_self": null,
            "height": null,
            "min_height": null,
            "padding": null,
            "grid_auto_rows": null,
            "grid_gap": null,
            "max_width": null,
            "order": null,
            "_view_module_version": "1.2.0",
            "grid_template_areas": null,
            "object_position": null,
            "object_fit": null,
            "grid_auto_columns": null,
            "margin": null,
            "display": null,
            "left": null
          }
        },
        "0edd2d7cbcd647a1be18c50b3db128c3": {
          "model_module": "@jupyter-widgets/controls",
          "model_name": "HBoxModel",
          "state": {
            "_view_name": "HBoxView",
            "_dom_classes": [],
            "_model_name": "HBoxModel",
            "_view_module": "@jupyter-widgets/controls",
            "_model_module_version": "1.5.0",
            "_view_count": null,
            "_view_module_version": "1.5.0",
            "box_style": "",
            "layout": "IPY_MODEL_2a99a04433d342fe9ce800afa31feaca",
            "_model_module": "@jupyter-widgets/controls",
            "children": [
              "IPY_MODEL_790f0a69eebf4cfc987936eb5504cd41",
              "IPY_MODEL_3908706b176d480aa08fa11cfbb777ae"
            ]
          }
        },
        "4efbf477f926431c9600b17462cdb4fa": {
          "model_module": "@jupyter-widgets/output",
          "model_name": "OutputModel",
          "state": {
            "_view_name": "OutputView",
            "msg_id": "",
            "_dom_classes": [],
            "_model_name": "OutputModel",
            "outputs": [
              {
                "output_type": "display_data",
                "metadata": {
                  "tags": []
                },
                "text/plain": "<graphviz.files.Source at 0x7f7c4344ee10>",
                "image/svg+xml": "<?xml version=\"1.0\" encoding=\"UTF-8\" standalone=\"no\"?>\n<!DOCTYPE svg PUBLIC \"-//W3C//DTD SVG 1.1//EN\"\n \"http://www.w3.org/Graphics/SVG/1.1/DTD/svg11.dtd\">\n<!-- Generated by graphviz version 2.40.1 (20161225.0304)\n -->\n<!-- Title: %3 Pages: 1 -->\n<svg width=\"317pt\" height=\"114pt\"\n viewBox=\"0.00 0.00 316.60 114.00\" xmlns=\"http://www.w3.org/2000/svg\" xmlns:xlink=\"http://www.w3.org/1999/xlink\">\n<g id=\"graph0\" class=\"graph\" transform=\"scale(1 1) rotate(0) translate(4 110)\">\n<title>%3</title>\n<polygon fill=\"#ffffff\" stroke=\"transparent\" points=\"-4,4 -4,-110 312.5963,-110 312.5963,4 -4,4\"/>\n<!-- EMPTY -->\n<g id=\"node1\" class=\"node\">\n<title>EMPTY</title>\n</g>\n<!-- I -->\n<g id=\"node2\" class=\"node\">\n<title>I</title>\n<ellipse fill=\"#66cd00\" stroke=\"#000000\" cx=\"109\" cy=\"-22\" rx=\"18\" ry=\"18\"/>\n<text text-anchor=\"middle\" x=\"109\" y=\"-18.3\" font-family=\"Times,serif\" font-size=\"14.00\" fill=\"#ffffff\">I</text>\n</g>\n<!-- EMPTY&#45;&gt;I -->\n<g id=\"edge1\" class=\"edge\">\n<title>EMPTY&#45;&gt;I</title>\n<path fill=\"none\" stroke=\"#000000\" d=\"M54.3048,-22C62.6909,-22 71.9407,-22 80.4103,-22\"/>\n<polygon fill=\"#000000\" stroke=\"#000000\" points=\"80.5976,-25.5001 90.5976,-22 80.5976,-18.5001 80.5976,-25.5001\"/>\n</g>\n<!-- I&#45;&gt;I -->\n<g id=\"edge2\" class=\"edge\">\n<title>I&#45;&gt;I</title>\n<path fill=\"none\" stroke=\"#000000\" d=\"M105.7643,-39.7817C105.2144,-49.3149 106.293,-58 109,-58 110.6496,-58 111.6945,-54.7749 112.1347,-50.0981\"/>\n<polygon fill=\"#000000\" stroke=\"#000000\" points=\"115.6375,-49.8156 112.2357,-39.7817 108.6379,-49.7469 115.6375,-49.8156\"/>\n<text text-anchor=\"start\" x=\"103\" y=\"-61.8\" font-family=\"Times,serif\" font-size=\"14.00\" fill=\"#000000\"> 0</text>\n</g>\n<!-- I&#45;&gt;I -->\n<g id=\"edge3\" class=\"edge\">\n<title>I&#45;&gt;I</title>\n<path fill=\"none\" stroke=\"#000000\" d=\"M103.6841,-39.4203C100.6538,-56.791 102.4258,-76 109,-76 114.2902,-76 116.4708,-63.5617 115.5419,-49.652\"/>\n<polygon fill=\"#000000\" stroke=\"#000000\" points=\"118.9808,-48.9328 114.3159,-39.4203 112.0305,-49.7657 118.9808,-48.9328\"/>\n<text text-anchor=\"start\" x=\"103\" y=\"-79.8\" font-family=\"Times,serif\" font-size=\"14.00\" fill=\"#000000\"> 1</text>\n</g>\n<!-- S0 -->\n<g id=\"node3\" class=\"node\">\n<title>S0</title>\n<ellipse fill=\"none\" stroke=\"#000000\" cx=\"195.7982\" cy=\"-22\" rx=\"20.5982\" ry=\"20.5982\"/>\n<text text-anchor=\"middle\" x=\"195.7982\" y=\"-18.3\" font-family=\"Times,serif\" font-size=\"14.00\" fill=\"#000000\">S0</text>\n</g>\n<!-- I&#45;&gt;S0 -->\n<g id=\"edge4\" class=\"edge\">\n<title>I&#45;&gt;S0</title>\n<path fill=\"none\" stroke=\"#000000\" d=\"M127.4077,-22C138.2934,-22 152.3613,-22 164.9052,-22\"/>\n<polygon fill=\"#000000\" stroke=\"#000000\" points=\"164.9803,-25.5001 174.9802,-22 164.9802,-18.5001 164.9803,-25.5001\"/>\n<text text-anchor=\"start\" x=\"145\" y=\"-25.8\" font-family=\"Times,serif\" font-size=\"14.00\" fill=\"#000000\"> 1</text>\n</g>\n<!-- F -->\n<g id=\"node4\" class=\"node\">\n<title>F</title>\n<ellipse fill=\"#66cd00\" stroke=\"#000000\" cx=\"286.5963\" cy=\"-22\" rx=\"18\" ry=\"18\"/>\n<ellipse fill=\"none\" stroke=\"#000000\" cx=\"286.5963\" cy=\"-22\" rx=\"22\" ry=\"22\"/>\n<text text-anchor=\"middle\" x=\"286.5963\" y=\"-18.3\" font-family=\"Times,serif\" font-size=\"14.00\" fill=\"#ffffff\">F</text>\n</g>\n<!-- S0&#45;&gt;F -->\n<g id=\"edge5\" class=\"edge\">\n<title>S0&#45;&gt;F</title>\n<path fill=\"none\" stroke=\"#000000\" d=\"M216.8573,-22C227.9898,-22 241.8945,-22 254.3526,-22\"/>\n<polygon fill=\"#000000\" stroke=\"#000000\" points=\"254.3846,-25.5001 264.3846,-22 254.3845,-18.5001 254.3846,-25.5001\"/>\n<text text-anchor=\"start\" x=\"234.5963\" y=\"-25.8\" font-family=\"Times,serif\" font-size=\"14.00\" fill=\"#000000\"> 0</text>\n</g>\n</g>\n</svg>\n"
              }
            ],
            "_view_module": "@jupyter-widgets/output",
            "_model_module_version": "1.0.0",
            "_view_count": null,
            "_view_module_version": "1.0.0",
            "layout": "IPY_MODEL_b373d2c6ec7c4e9388476665ad905c37",
            "_model_module": "@jupyter-widgets/output"
          }
        },
        "951c940aaa654a5e8a6a4cec9b149d06": {
          "model_module": "@jupyter-widgets/output",
          "model_name": "OutputModel",
          "state": {
            "_view_name": "OutputView",
            "msg_id": "",
            "_dom_classes": [],
            "_model_name": "OutputModel",
            "outputs": [
              {
                "output_type": "display_data",
                "metadata": {
                  "tags": []
                },
                "text/plain": "<graphviz.files.Source at 0x7f7c4344ee10>",
                "image/svg+xml": "<?xml version=\"1.0\" encoding=\"UTF-8\" standalone=\"no\"?>\n<!DOCTYPE svg PUBLIC \"-//W3C//DTD SVG 1.1//EN\"\n \"http://www.w3.org/Graphics/SVG/1.1/DTD/svg11.dtd\">\n<!-- Generated by graphviz version 2.40.1 (20161225.0304)\n -->\n<!-- Title: %3 Pages: 1 -->\n<svg width=\"116pt\" height=\"47pt\"\n viewBox=\"0.00 0.00 116.00 47.00\" xmlns=\"http://www.w3.org/2000/svg\" xmlns:xlink=\"http://www.w3.org/1999/xlink\">\n<g id=\"graph0\" class=\"graph\" transform=\"scale(1 1) rotate(0) translate(4 43)\">\n<title>%3</title>\n<polygon fill=\"#ffffff\" stroke=\"transparent\" points=\"-4,4 -4,-43 112,-43 112,4 -4,4\"/>\n<!-- feed -->\n<g id=\"node1\" class=\"node\">\n<title>feed</title>\n<polygon fill=\"none\" stroke=\"#000000\" points=\"8,-3.5 8,-34.5 57,-34.5 57,-3.5 8,-3.5\"/>\n<text text-anchor=\"start\" x=\"17\" y=\"-15.9\" font-family=\"Times,serif\" font-size=\"12.00\" fill=\"#000000\">10010</text>\n<polygon fill=\"none\" stroke=\"#000000\" points=\"57,-3.5 57,-34.5 82,-34.5 82,-3.5 57,-3.5\"/>\n<text text-anchor=\"start\" x=\"66\" y=\"-15.9\" font-family=\"Times,serif\" font-size=\"12.00\" fill=\"#000000\"> &#160;</text>\n<polygon fill=\"none\" stroke=\"#000000\" points=\"82,-3.5 82,-34.5 100,-34.5 100,-3.5 82,-3.5\"/>\n</g>\n</g>\n</svg>\n"
              }
            ],
            "_view_module": "@jupyter-widgets/output",
            "_model_module_version": "1.0.0",
            "_view_count": null,
            "_view_module_version": "1.0.0",
            "layout": "IPY_MODEL_9abbf4f37d2b4536a5e0bcdc35c1ae67",
            "_model_module": "@jupyter-widgets/output"
          }
        },
        "e65bc5ae66ba4e3a95ba87165539a022": {
          "model_module": "@jupyter-widgets/controls",
          "model_name": "HBoxModel",
          "state": {
            "_view_name": "HBoxView",
            "_dom_classes": [],
            "_model_name": "HBoxModel",
            "_view_module": "@jupyter-widgets/controls",
            "_model_module_version": "1.5.0",
            "_view_count": null,
            "_view_module_version": "1.5.0",
            "box_style": "",
            "layout": "IPY_MODEL_697d9f9915b446e2b9e5ceaa05dc2c65",
            "_model_module": "@jupyter-widgets/controls",
            "children": [
              "IPY_MODEL_727ec5dc17074d00ab1fdb4d69b5bbb4",
              "IPY_MODEL_7211692cf9e1488b9014d8bc1f21de87",
              "IPY_MODEL_326a5ca9214446e89232395966c806fb",
              "IPY_MODEL_46c90abfb6cf4afaa123f9f1c50a7833"
            ]
          }
        },
        "2a99a04433d342fe9ce800afa31feaca": {
          "model_module": "@jupyter-widgets/base",
          "model_name": "LayoutModel",
          "state": {
            "_view_name": "LayoutView",
            "grid_template_rows": null,
            "right": null,
            "justify_content": null,
            "_view_module": "@jupyter-widgets/base",
            "overflow": null,
            "_model_module_version": "1.2.0",
            "_view_count": null,
            "flex_flow": null,
            "width": null,
            "min_width": null,
            "border": null,
            "align_items": null,
            "bottom": null,
            "_model_module": "@jupyter-widgets/base",
            "top": null,
            "grid_column": null,
            "overflow_y": null,
            "overflow_x": null,
            "grid_auto_flow": null,
            "grid_area": null,
            "grid_template_columns": null,
            "flex": null,
            "_model_name": "LayoutModel",
            "justify_items": null,
            "grid_row": null,
            "max_height": null,
            "align_content": null,
            "visibility": null,
            "align_self": null,
            "height": null,
            "min_height": null,
            "padding": null,
            "grid_auto_rows": null,
            "grid_gap": null,
            "max_width": null,
            "order": null,
            "_view_module_version": "1.2.0",
            "grid_template_areas": null,
            "object_position": null,
            "object_fit": null,
            "grid_auto_columns": null,
            "margin": null,
            "display": null,
            "left": null
          }
        },
        "790f0a69eebf4cfc987936eb5504cd41": {
          "model_module": "@jupyter-widgets/controls",
          "model_name": "TextModel",
          "state": {
            "_view_name": "TextView",
            "style": "IPY_MODEL_f4fc9f5bb04d4da79d224ea5237f6339",
            "_dom_classes": [],
            "description": "Input:",
            "_model_name": "TextModel",
            "placeholder": "Sigma: {0,1}",
            "_view_module": "@jupyter-widgets/controls",
            "_model_module_version": "1.5.0",
            "value": "10010",
            "_view_count": null,
            "disabled": true,
            "_view_module_version": "1.5.0",
            "continuous_update": true,
            "description_tooltip": null,
            "_model_module": "@jupyter-widgets/controls",
            "layout": "IPY_MODEL_e4657c28d5b24ac39271ad2344264741"
          }
        },
        "3908706b176d480aa08fa11cfbb777ae": {
          "model_module": "@jupyter-widgets/controls",
          "model_name": "ButtonModel",
          "state": {
            "_view_name": "ButtonView",
            "style": "IPY_MODEL_691ef7c77bd146af955f75258bdd127d",
            "_dom_classes": [],
            "description": "Change Input",
            "_model_name": "ButtonModel",
            "button_style": "primary",
            "_view_module": "@jupyter-widgets/controls",
            "_model_module_version": "1.5.0",
            "tooltip": "",
            "_view_count": null,
            "disabled": false,
            "_view_module_version": "1.5.0",
            "layout": "IPY_MODEL_319dee9e622c4be289d87ca3cfd0e682",
            "_model_module": "@jupyter-widgets/controls",
            "icon": ""
          }
        },
        "697d9f9915b446e2b9e5ceaa05dc2c65": {
          "model_module": "@jupyter-widgets/base",
          "model_name": "LayoutModel",
          "state": {
            "_view_name": "LayoutView",
            "grid_template_rows": null,
            "right": null,
            "justify_content": null,
            "_view_module": "@jupyter-widgets/base",
            "overflow": null,
            "_model_module_version": "1.2.0",
            "_view_count": null,
            "flex_flow": null,
            "width": null,
            "min_width": null,
            "border": null,
            "align_items": null,
            "bottom": null,
            "_model_module": "@jupyter-widgets/base",
            "top": null,
            "grid_column": null,
            "overflow_y": null,
            "overflow_x": null,
            "grid_auto_flow": null,
            "grid_area": null,
            "grid_template_columns": null,
            "flex": null,
            "_model_name": "LayoutModel",
            "justify_items": null,
            "grid_row": null,
            "max_height": null,
            "align_content": null,
            "visibility": null,
            "align_self": null,
            "height": null,
            "min_height": null,
            "padding": null,
            "grid_auto_rows": null,
            "grid_gap": null,
            "max_width": null,
            "order": null,
            "_view_module_version": "1.2.0",
            "grid_template_areas": null,
            "object_position": null,
            "object_fit": null,
            "grid_auto_columns": null,
            "margin": null,
            "display": null,
            "left": null
          }
        },
        "727ec5dc17074d00ab1fdb4d69b5bbb4": {
          "model_module": "@jupyter-widgets/controls",
          "model_name": "PlayModel",
          "state": {
            "_view_name": "PlayView",
            "style": "IPY_MODEL_b94ae575c62f432ab0ecfaed6cf210c7",
            "interval": 500,
            "_dom_classes": [],
            "description": "Press play",
            "_model_name": "PlayModel",
            "max": 15,
            "_view_module": "@jupyter-widgets/controls",
            "_model_module_version": "1.5.0",
            "value": 15,
            "_view_count": null,
            "disabled": false,
            "_repeat": false,
            "_view_module_version": "1.5.0",
            "show_repeat": true,
            "min": 0,
            "_playing": false,
            "step": 1,
            "description_tooltip": null,
            "_model_module": "@jupyter-widgets/controls",
            "layout": "IPY_MODEL_0b6f56d512774eb9b3b9d107bb65d583"
          }
        },
        "7211692cf9e1488b9014d8bc1f21de87": {
          "model_module": "@jupyter-widgets/controls",
          "model_name": "ButtonModel",
          "state": {
            "_view_name": "ButtonView",
            "style": "IPY_MODEL_0e5b473af1324f36bbf8273a52e89ce3",
            "_dom_classes": [],
            "description": "",
            "_model_name": "ButtonModel",
            "button_style": "",
            "_view_module": "@jupyter-widgets/controls",
            "_model_module_version": "1.5.0",
            "tooltip": "",
            "_view_count": null,
            "disabled": false,
            "_view_module_version": "1.5.0",
            "layout": "IPY_MODEL_e5137ce63bea4806840a80ae90b4c696",
            "_model_module": "@jupyter-widgets/controls",
            "icon": "step-backward"
          }
        },
        "326a5ca9214446e89232395966c806fb": {
          "model_module": "@jupyter-widgets/controls",
          "model_name": "ButtonModel",
          "state": {
            "_view_name": "ButtonView",
            "style": "IPY_MODEL_18fdf410ed4e4a8281ac00efe9e40a89",
            "_dom_classes": [],
            "description": "",
            "_model_name": "ButtonModel",
            "button_style": "",
            "_view_module": "@jupyter-widgets/controls",
            "_model_module_version": "1.5.0",
            "tooltip": "",
            "_view_count": null,
            "disabled": true,
            "_view_module_version": "1.5.0",
            "layout": "IPY_MODEL_2b7d367ea8c14cb3ba35459a7c3a600d",
            "_model_module": "@jupyter-widgets/controls",
            "icon": "step-forward"
          }
        },
        "46c90abfb6cf4afaa123f9f1c50a7833": {
          "model_module": "@jupyter-widgets/controls",
          "model_name": "IntSliderModel",
          "state": {
            "_view_name": "IntSliderView",
            "style": "IPY_MODEL_4e124f05694947358787cb2a207196bc",
            "_dom_classes": [],
            "description": "Speed:",
            "step": 1,
            "_model_name": "IntSliderModel",
            "orientation": "horizontal",
            "max": 10,
            "_view_module": "@jupyter-widgets/controls",
            "_model_module_version": "1.5.0",
            "value": 10,
            "_view_count": null,
            "disabled": false,
            "_view_module_version": "1.5.0",
            "min": 1,
            "continuous_update": false,
            "readout_format": "d",
            "description_tooltip": null,
            "readout": true,
            "_model_module": "@jupyter-widgets/controls",
            "layout": "IPY_MODEL_a7e1d9734ea242fd85ba5a2fd461c97d"
          }
        },
        "f4fc9f5bb04d4da79d224ea5237f6339": {
          "model_module": "@jupyter-widgets/controls",
          "model_name": "DescriptionStyleModel",
          "state": {
            "_view_name": "StyleView",
            "_model_name": "DescriptionStyleModel",
            "description_width": "",
            "_view_module": "@jupyter-widgets/base",
            "_model_module_version": "1.5.0",
            "_view_count": null,
            "_view_module_version": "1.2.0",
            "_model_module": "@jupyter-widgets/controls"
          }
        },
        "e4657c28d5b24ac39271ad2344264741": {
          "model_module": "@jupyter-widgets/base",
          "model_name": "LayoutModel",
          "state": {
            "_view_name": "LayoutView",
            "grid_template_rows": null,
            "right": null,
            "justify_content": null,
            "_view_module": "@jupyter-widgets/base",
            "overflow": null,
            "_model_module_version": "1.2.0",
            "_view_count": null,
            "flex_flow": null,
            "width": "500px",
            "min_width": null,
            "border": null,
            "align_items": null,
            "bottom": null,
            "_model_module": "@jupyter-widgets/base",
            "top": null,
            "grid_column": null,
            "overflow_y": null,
            "overflow_x": null,
            "grid_auto_flow": null,
            "grid_area": null,
            "grid_template_columns": null,
            "flex": null,
            "_model_name": "LayoutModel",
            "justify_items": null,
            "grid_row": null,
            "max_height": null,
            "align_content": null,
            "visibility": null,
            "align_self": null,
            "height": null,
            "min_height": null,
            "padding": null,
            "grid_auto_rows": null,
            "grid_gap": null,
            "max_width": null,
            "order": null,
            "_view_module_version": "1.2.0",
            "grid_template_areas": null,
            "object_position": null,
            "object_fit": null,
            "grid_auto_columns": null,
            "margin": null,
            "display": null,
            "left": null
          }
        },
        "691ef7c77bd146af955f75258bdd127d": {
          "model_module": "@jupyter-widgets/controls",
          "model_name": "ButtonStyleModel",
          "state": {
            "_view_name": "StyleView",
            "_model_name": "ButtonStyleModel",
            "_view_module": "@jupyter-widgets/base",
            "_model_module_version": "1.5.0",
            "_view_count": null,
            "button_color": null,
            "font_weight": "",
            "_view_module_version": "1.2.0",
            "_model_module": "@jupyter-widgets/controls"
          }
        },
        "319dee9e622c4be289d87ca3cfd0e682": {
          "model_module": "@jupyter-widgets/base",
          "model_name": "LayoutModel",
          "state": {
            "_view_name": "LayoutView",
            "grid_template_rows": null,
            "right": null,
            "justify_content": null,
            "_view_module": "@jupyter-widgets/base",
            "overflow": null,
            "_model_module_version": "1.2.0",
            "_view_count": null,
            "flex_flow": null,
            "width": null,
            "min_width": null,
            "border": null,
            "align_items": null,
            "bottom": null,
            "_model_module": "@jupyter-widgets/base",
            "top": null,
            "grid_column": null,
            "overflow_y": null,
            "overflow_x": null,
            "grid_auto_flow": null,
            "grid_area": null,
            "grid_template_columns": null,
            "flex": null,
            "_model_name": "LayoutModel",
            "justify_items": null,
            "grid_row": null,
            "max_height": null,
            "align_content": null,
            "visibility": null,
            "align_self": null,
            "height": null,
            "min_height": null,
            "padding": null,
            "grid_auto_rows": null,
            "grid_gap": null,
            "max_width": null,
            "order": null,
            "_view_module_version": "1.2.0",
            "grid_template_areas": null,
            "object_position": null,
            "object_fit": null,
            "grid_auto_columns": null,
            "margin": null,
            "display": null,
            "left": null
          }
        },
        "b94ae575c62f432ab0ecfaed6cf210c7": {
          "model_module": "@jupyter-widgets/controls",
          "model_name": "DescriptionStyleModel",
          "state": {
            "_view_name": "StyleView",
            "_model_name": "DescriptionStyleModel",
            "description_width": "",
            "_view_module": "@jupyter-widgets/base",
            "_model_module_version": "1.5.0",
            "_view_count": null,
            "_view_module_version": "1.2.0",
            "_model_module": "@jupyter-widgets/controls"
          }
        },
        "0b6f56d512774eb9b3b9d107bb65d583": {
          "model_module": "@jupyter-widgets/base",
          "model_name": "LayoutModel",
          "state": {
            "_view_name": "LayoutView",
            "grid_template_rows": null,
            "right": null,
            "justify_content": null,
            "_view_module": "@jupyter-widgets/base",
            "overflow": null,
            "_model_module_version": "1.2.0",
            "_view_count": null,
            "flex_flow": null,
            "width": null,
            "min_width": null,
            "border": null,
            "align_items": null,
            "bottom": null,
            "_model_module": "@jupyter-widgets/base",
            "top": null,
            "grid_column": null,
            "overflow_y": null,
            "overflow_x": null,
            "grid_auto_flow": null,
            "grid_area": null,
            "grid_template_columns": null,
            "flex": null,
            "_model_name": "LayoutModel",
            "justify_items": null,
            "grid_row": null,
            "max_height": null,
            "align_content": null,
            "visibility": null,
            "align_self": null,
            "height": null,
            "min_height": null,
            "padding": null,
            "grid_auto_rows": null,
            "grid_gap": null,
            "max_width": null,
            "order": null,
            "_view_module_version": "1.2.0",
            "grid_template_areas": null,
            "object_position": null,
            "object_fit": null,
            "grid_auto_columns": null,
            "margin": null,
            "display": null,
            "left": null
          }
        },
        "0e5b473af1324f36bbf8273a52e89ce3": {
          "model_module": "@jupyter-widgets/controls",
          "model_name": "ButtonStyleModel",
          "state": {
            "_view_name": "StyleView",
            "_model_name": "ButtonStyleModel",
            "_view_module": "@jupyter-widgets/base",
            "_model_module_version": "1.5.0",
            "_view_count": null,
            "button_color": null,
            "font_weight": "",
            "_view_module_version": "1.2.0",
            "_model_module": "@jupyter-widgets/controls"
          }
        },
        "e5137ce63bea4806840a80ae90b4c696": {
          "model_module": "@jupyter-widgets/base",
          "model_name": "LayoutModel",
          "state": {
            "_view_name": "LayoutView",
            "grid_template_rows": null,
            "right": null,
            "justify_content": null,
            "_view_module": "@jupyter-widgets/base",
            "overflow": null,
            "_model_module_version": "1.2.0",
            "_view_count": null,
            "flex_flow": null,
            "width": "40px",
            "min_width": null,
            "border": null,
            "align_items": null,
            "bottom": null,
            "_model_module": "@jupyter-widgets/base",
            "top": null,
            "grid_column": null,
            "overflow_y": null,
            "overflow_x": null,
            "grid_auto_flow": null,
            "grid_area": null,
            "grid_template_columns": null,
            "flex": null,
            "_model_name": "LayoutModel",
            "justify_items": null,
            "grid_row": null,
            "max_height": null,
            "align_content": null,
            "visibility": null,
            "align_self": null,
            "height": null,
            "min_height": null,
            "padding": null,
            "grid_auto_rows": null,
            "grid_gap": null,
            "max_width": null,
            "order": null,
            "_view_module_version": "1.2.0",
            "grid_template_areas": null,
            "object_position": null,
            "object_fit": null,
            "grid_auto_columns": null,
            "margin": null,
            "display": null,
            "left": null
          }
        },
        "18fdf410ed4e4a8281ac00efe9e40a89": {
          "model_module": "@jupyter-widgets/controls",
          "model_name": "ButtonStyleModel",
          "state": {
            "_view_name": "StyleView",
            "_model_name": "ButtonStyleModel",
            "_view_module": "@jupyter-widgets/base",
            "_model_module_version": "1.5.0",
            "_view_count": null,
            "button_color": null,
            "font_weight": "",
            "_view_module_version": "1.2.0",
            "_model_module": "@jupyter-widgets/controls"
          }
        },
        "2b7d367ea8c14cb3ba35459a7c3a600d": {
          "model_module": "@jupyter-widgets/base",
          "model_name": "LayoutModel",
          "state": {
            "_view_name": "LayoutView",
            "grid_template_rows": null,
            "right": null,
            "justify_content": null,
            "_view_module": "@jupyter-widgets/base",
            "overflow": null,
            "_model_module_version": "1.2.0",
            "_view_count": null,
            "flex_flow": null,
            "width": "40px",
            "min_width": null,
            "border": null,
            "align_items": null,
            "bottom": null,
            "_model_module": "@jupyter-widgets/base",
            "top": null,
            "grid_column": null,
            "overflow_y": null,
            "overflow_x": null,
            "grid_auto_flow": null,
            "grid_area": null,
            "grid_template_columns": null,
            "flex": null,
            "_model_name": "LayoutModel",
            "justify_items": null,
            "grid_row": null,
            "max_height": null,
            "align_content": null,
            "visibility": null,
            "align_self": null,
            "height": null,
            "min_height": null,
            "padding": null,
            "grid_auto_rows": null,
            "grid_gap": null,
            "max_width": null,
            "order": null,
            "_view_module_version": "1.2.0",
            "grid_template_areas": null,
            "object_position": null,
            "object_fit": null,
            "grid_auto_columns": null,
            "margin": null,
            "display": null,
            "left": null
          }
        },
        "4e124f05694947358787cb2a207196bc": {
          "model_module": "@jupyter-widgets/controls",
          "model_name": "SliderStyleModel",
          "state": {
            "_view_name": "StyleView",
            "handle_color": null,
            "_model_name": "SliderStyleModel",
            "description_width": "",
            "_view_module": "@jupyter-widgets/base",
            "_model_module_version": "1.5.0",
            "_view_count": null,
            "_view_module_version": "1.2.0",
            "_model_module": "@jupyter-widgets/controls"
          }
        },
        "a7e1d9734ea242fd85ba5a2fd461c97d": {
          "model_module": "@jupyter-widgets/base",
          "model_name": "LayoutModel",
          "state": {
            "_view_name": "LayoutView",
            "grid_template_rows": null,
            "right": null,
            "justify_content": null,
            "_view_module": "@jupyter-widgets/base",
            "overflow": null,
            "_model_module_version": "1.2.0",
            "_view_count": null,
            "flex_flow": null,
            "width": null,
            "min_width": null,
            "border": null,
            "align_items": null,
            "bottom": null,
            "_model_module": "@jupyter-widgets/base",
            "top": null,
            "grid_column": null,
            "overflow_y": null,
            "overflow_x": null,
            "grid_auto_flow": null,
            "grid_area": null,
            "grid_template_columns": null,
            "flex": null,
            "_model_name": "LayoutModel",
            "justify_items": null,
            "grid_row": null,
            "max_height": null,
            "align_content": null,
            "visibility": null,
            "align_self": null,
            "height": null,
            "min_height": null,
            "padding": null,
            "grid_auto_rows": null,
            "grid_gap": null,
            "max_width": null,
            "order": null,
            "_view_module_version": "1.2.0",
            "grid_template_areas": null,
            "object_position": null,
            "object_fit": null,
            "grid_auto_columns": null,
            "margin": null,
            "display": null,
            "left": null
          }
        },
        "b373d2c6ec7c4e9388476665ad905c37": {
          "model_module": "@jupyter-widgets/base",
          "model_name": "LayoutModel",
          "state": {
            "_view_name": "LayoutView",
            "grid_template_rows": null,
            "right": null,
            "justify_content": null,
            "_view_module": "@jupyter-widgets/base",
            "overflow": null,
            "_model_module_version": "1.2.0",
            "_view_count": null,
            "flex_flow": null,
            "width": null,
            "min_width": null,
            "border": null,
            "align_items": null,
            "bottom": null,
            "_model_module": "@jupyter-widgets/base",
            "top": null,
            "grid_column": null,
            "overflow_y": null,
            "overflow_x": null,
            "grid_auto_flow": null,
            "grid_area": null,
            "grid_template_columns": null,
            "flex": null,
            "_model_name": "LayoutModel",
            "justify_items": null,
            "grid_row": null,
            "max_height": null,
            "align_content": null,
            "visibility": null,
            "align_self": null,
            "height": null,
            "min_height": null,
            "padding": null,
            "grid_auto_rows": null,
            "grid_gap": null,
            "max_width": null,
            "order": null,
            "_view_module_version": "1.2.0",
            "grid_template_areas": null,
            "object_position": null,
            "object_fit": null,
            "grid_auto_columns": null,
            "margin": null,
            "display": null,
            "left": null
          }
        },
        "9abbf4f37d2b4536a5e0bcdc35c1ae67": {
          "model_module": "@jupyter-widgets/base",
          "model_name": "LayoutModel",
          "state": {
            "_view_name": "LayoutView",
            "grid_template_rows": null,
            "right": null,
            "justify_content": null,
            "_view_module": "@jupyter-widgets/base",
            "overflow": null,
            "_model_module_version": "1.2.0",
            "_view_count": null,
            "flex_flow": null,
            "width": null,
            "min_width": null,
            "border": null,
            "align_items": null,
            "bottom": null,
            "_model_module": "@jupyter-widgets/base",
            "top": null,
            "grid_column": null,
            "overflow_y": null,
            "overflow_x": null,
            "grid_auto_flow": null,
            "grid_area": null,
            "grid_template_columns": null,
            "flex": null,
            "_model_name": "LayoutModel",
            "justify_items": null,
            "grid_row": null,
            "max_height": null,
            "align_content": null,
            "visibility": null,
            "align_self": null,
            "height": null,
            "min_height": null,
            "padding": null,
            "grid_auto_rows": null,
            "grid_gap": null,
            "max_width": null,
            "order": null,
            "_view_module_version": "1.2.0",
            "grid_template_areas": null,
            "object_position": null,
            "object_fit": null,
            "grid_auto_columns": null,
            "margin": null,
            "display": null,
            "left": null
          }
        }
      }
    },
    "colab": {
      "name": "04_2_NFA_Problems.ipynb",
      "provenance": []
    }
  },
  "cells": [
    {
      "cell_type": "markdown",
      "metadata": {
        "run_control": {
          "frozen": false,
          "read_only": false
        },
        "id": "V4t9868jYDJO"
      },
      "source": [
        "# Imports first, then the Assignment (6 Tasks)\n"
      ]
    },
    {
      "cell_type": "code",
      "metadata": {
        "run_control": {
          "frozen": false,
          "read_only": false
        },
        "scrolled": true,
        "id": "ggJw7PZKYDJa",
        "outputId": "406d38f1-609a-4fcf-956a-a4a21385e794",
        "colab": {
          "base_uri": "https://localhost:8080/"
        }
      },
      "source": [
        "#~~~~~~~~~~~~~~~~~~~~~~~~~~~~~~~~~~~~~~~~~~~~~~~~~~~~~~~\n",
        "import sys\n",
        "\n",
        "# -- Detect if in Own Install or in Colab\n",
        "try:\n",
        "    import google.colab\n",
        "    OWN_INSTALL = False\n",
        "except:\n",
        "    OWN_INSTALL = True\n",
        "    \n",
        "if OWN_INSTALL:\n",
        "    \n",
        "  #---- Leave these definitions ON if running on laptop\n",
        "  #---- Else turn OFF by putting them between ''' ... '''\n",
        "\n",
        "  sys.path[0:0] = ['../../../../..',  '../../../../../3rdparty',  \n",
        "                   '../../../..',  '../../../../3rdparty',  \n",
        "                   '../../..',     '../../../3rdparty', \n",
        "                   '../..',        '../../3rdparty',\n",
        "                   '..',           '../3rdparty' ]\n",
        "\n",
        "else: # In colab\n",
        "  ! if [ ! -d Jove ]; then git clone https://github.com/ganeshutah/Jove Jove; fi\n",
        "  sys.path.append('./Jove')\n",
        "  sys.path.append('./Jove/jove')\n",
        "\n",
        "# -- common imports --\n",
        "from jove.DotBashers import *\n",
        "from jove.Def_md2mc  import *\n",
        "from jove.Def_NFA    import *\n",
        "from jove.Def_DFA    import *\n",
        "from jove.AnimateNFA import *\n",
        "#~~~~~~~~~~~~~~~~~~~~~~~~~~~~~~~~~~~~~~~~~~~~~~~~~~~~~~~"
      ],
      "execution_count": 1,
      "outputs": [
        {
          "output_type": "stream",
          "text": [
            "Cloning into 'Jove'...\n",
            "remote: Enumerating objects: 4634, done.\u001b[K\n",
            "remote: Total 4634 (delta 0), reused 0 (delta 0), pack-reused 4634\u001b[K\n",
            "Receiving objects: 100% (4634/4634), 7.38 MiB | 23.98 MiB/s, done.\n",
            "Resolving deltas: 100% (3005/3005), done.\n",
            "You may use any of these help commands:\n",
            "help(ResetStNum)\n",
            "help(NxtStateStr)\n",
            "\n",
            "You may use any of these help commands:\n",
            "help(md2mc)\n",
            ".. and if you want to dig more, then ..\n",
            "help(default_line_attr)\n",
            "help(length_ok_input_items)\n",
            "help(union_line_attr_list_fld)\n",
            "help(extend_rsltdict)\n",
            "help(form_delta)\n",
            "help(get_machine_components)\n",
            "\n",
            "You may use any of these help commands:\n",
            "help(mkp_dfa)\n",
            "help(mk_dfa)\n",
            "help(totalize_dfa)\n",
            "help(addtosigma_delta)\n",
            "help(step_dfa)\n",
            "help(run_dfa)\n",
            "help(accepts_dfa)\n",
            "help(comp_dfa)\n",
            "help(union_dfa)\n",
            "help(intersect_dfa)\n",
            "help(pruneUnreach)\n",
            "help(iso_dfa)\n",
            "help(langeq_dfa)\n",
            "help(same_status)\n",
            "help(h_langeq_dfa)\n",
            "help(fixptDist)\n",
            "help(min_dfa)\n",
            "help(pairFR)\n",
            "help(state_combos)\n",
            "help(sepFinNonFin)\n",
            "help(bash_eql_classes)\n",
            "help(listminus)\n",
            "help(bash_1)\n",
            "help(mk_rep_eqc)\n",
            "help(F_of)\n",
            "help(rep_of_s)\n",
            "help(q0_of)\n",
            "help(Delta_of)\n",
            "help(mk_state_eqc_name)\n",
            "\n",
            "You may use any of these help commands:\n",
            "help(mk_nfa)\n",
            "help(totalize_nfa)\n",
            "help(step_nfa)\n",
            "help(run_nfa)\n",
            "help(ec_step_nfa)\n",
            "help(Eclosure)\n",
            "help(Echelp)\n",
            "help(accepts_nfa)\n",
            "help(nfa2dfa)\n",
            "help(n2d)\n",
            "help(inSets)\n",
            "help(rev_dfa)\n",
            "help(min_dfa_brz)\n",
            "\n",
            " \"help(AnimateNFA)\" gives you info on how to use animations with NFA \n"
          ],
          "name": "stdout"
        }
      ]
    },
    {
      "cell_type": "markdown",
      "metadata": {
        "id": "N5XbckWjYDJc"
      },
      "source": [
        "# Task 1: Design an NFA for $\\{0,1\\}^* 1 0$ (\"Ends 10\")\n",
        "\n",
        "## It will be a 3-state NFA.\n",
        "\n",
        "## Name the states I, S0, and F.\n",
        "\n",
        "### Document each line of your Jove code with a short comment.\n"
      ]
    },
    {
      "cell_type": "code",
      "metadata": {
        "id": "MCbOLElmYDJd"
      },
      "source": [
        "# SOLUTION\n",
        "\n",
        "nfaEnds10 = md2mc('''\n",
        "\n",
        "NFA \n",
        "I : 0 | 1 -> I\n",
        "I : 1 -> S0\n",
        "S0 : 0 -> F\n",
        "  \n",
        "''')\n"
      ],
      "execution_count": 6,
      "outputs": []
    },
    {
      "cell_type": "code",
      "metadata": {
        "id": "hmKoCifTYhoh",
        "outputId": "8c50d052-87f4-4cde-b20e-a895c17cd99f",
        "colab": {
          "base_uri": "https://localhost:8080/",
          "height": 173
        }
      },
      "source": [
        "dotObj_nfa(nfaEnds10)"
      ],
      "execution_count": 10,
      "outputs": [
        {
          "output_type": "execute_result",
          "data": {
            "text/plain": [
              "<graphviz.dot.Digraph at 0x7f7c4344e630>"
            ],
            "image/svg+xml": "<?xml version=\"1.0\" encoding=\"UTF-8\" standalone=\"no\"?>\n<!DOCTYPE svg PUBLIC \"-//W3C//DTD SVG 1.1//EN\"\n \"http://www.w3.org/Graphics/SVG/1.1/DTD/svg11.dtd\">\n<!-- Generated by graphviz version 2.40.1 (20161225.0304)\n -->\n<!-- Title: %3 Pages: 1 -->\n<svg width=\"317pt\" height=\"114pt\"\n viewBox=\"0.00 0.00 316.60 114.00\" xmlns=\"http://www.w3.org/2000/svg\" xmlns:xlink=\"http://www.w3.org/1999/xlink\">\n<g id=\"graph0\" class=\"graph\" transform=\"scale(1 1) rotate(0) translate(4 110)\">\n<title>%3</title>\n<polygon fill=\"#ffffff\" stroke=\"transparent\" points=\"-4,4 -4,-110 312.5963,-110 312.5963,4 -4,4\"/>\n<!-- EMPTY -->\n<g id=\"node1\" class=\"node\">\n<title>EMPTY</title>\n</g>\n<!-- I -->\n<g id=\"node2\" class=\"node\">\n<title>I</title>\n<ellipse fill=\"none\" stroke=\"#000000\" cx=\"109\" cy=\"-22\" rx=\"18\" ry=\"18\"/>\n<text text-anchor=\"middle\" x=\"109\" y=\"-18.3\" font-family=\"Times,serif\" font-size=\"14.00\" fill=\"#000000\">I</text>\n</g>\n<!-- EMPTY&#45;&gt;I -->\n<g id=\"edge1\" class=\"edge\">\n<title>EMPTY&#45;&gt;I</title>\n<path fill=\"none\" stroke=\"#000000\" d=\"M54.3048,-22C62.6909,-22 71.9407,-22 80.4103,-22\"/>\n<polygon fill=\"#000000\" stroke=\"#000000\" points=\"80.5976,-25.5001 90.5976,-22 80.5976,-18.5001 80.5976,-25.5001\"/>\n</g>\n<!-- I&#45;&gt;I -->\n<g id=\"edge2\" class=\"edge\">\n<title>I&#45;&gt;I</title>\n<path fill=\"none\" stroke=\"#000000\" d=\"M105.7643,-39.7817C105.2144,-49.3149 106.293,-58 109,-58 110.6496,-58 111.6945,-54.7749 112.1347,-50.0981\"/>\n<polygon fill=\"#000000\" stroke=\"#000000\" points=\"115.6375,-49.8156 112.2357,-39.7817 108.6379,-49.7469 115.6375,-49.8156\"/>\n<text text-anchor=\"middle\" x=\"109\" y=\"-61.8\" font-family=\"Times,serif\" font-size=\"14.00\" fill=\"#000000\">0 </text>\n</g>\n<!-- I&#45;&gt;I -->\n<g id=\"edge3\" class=\"edge\">\n<title>I&#45;&gt;I</title>\n<path fill=\"none\" stroke=\"#000000\" d=\"M103.6841,-39.4203C100.6538,-56.791 102.4258,-76 109,-76 114.2902,-76 116.4708,-63.5617 115.5419,-49.652\"/>\n<polygon fill=\"#000000\" stroke=\"#000000\" points=\"118.9808,-48.9328 114.3159,-39.4203 112.0305,-49.7657 118.9808,-48.9328\"/>\n<text text-anchor=\"middle\" x=\"109\" y=\"-79.8\" font-family=\"Times,serif\" font-size=\"14.00\" fill=\"#000000\">1 </text>\n</g>\n<!-- S0 -->\n<g id=\"node3\" class=\"node\">\n<title>S0</title>\n<ellipse fill=\"none\" stroke=\"#000000\" cx=\"195.7982\" cy=\"-22\" rx=\"20.5982\" ry=\"20.5982\"/>\n<text text-anchor=\"middle\" x=\"195.7982\" y=\"-18.3\" font-family=\"Times,serif\" font-size=\"14.00\" fill=\"#000000\">S0</text>\n</g>\n<!-- I&#45;&gt;S0 -->\n<g id=\"edge4\" class=\"edge\">\n<title>I&#45;&gt;S0</title>\n<path fill=\"none\" stroke=\"#000000\" d=\"M127.4077,-22C138.2934,-22 152.3613,-22 164.9052,-22\"/>\n<polygon fill=\"#000000\" stroke=\"#000000\" points=\"164.9803,-25.5001 174.9802,-22 164.9802,-18.5001 164.9803,-25.5001\"/>\n<text text-anchor=\"middle\" x=\"151\" y=\"-25.8\" font-family=\"Times,serif\" font-size=\"14.00\" fill=\"#000000\">1 </text>\n</g>\n<!-- F -->\n<g id=\"node4\" class=\"node\">\n<title>F</title>\n<ellipse fill=\"none\" stroke=\"#000000\" cx=\"286.5963\" cy=\"-22\" rx=\"18\" ry=\"18\"/>\n<ellipse fill=\"none\" stroke=\"#000000\" cx=\"286.5963\" cy=\"-22\" rx=\"22\" ry=\"22\"/>\n<text text-anchor=\"middle\" x=\"286.5963\" y=\"-18.3\" font-family=\"Times,serif\" font-size=\"14.00\" fill=\"#000000\">F</text>\n</g>\n<!-- S0&#45;&gt;F -->\n<g id=\"edge5\" class=\"edge\">\n<title>S0&#45;&gt;F</title>\n<path fill=\"none\" stroke=\"#000000\" d=\"M216.8573,-22C227.9898,-22 241.8945,-22 254.3526,-22\"/>\n<polygon fill=\"#000000\" stroke=\"#000000\" points=\"254.3846,-25.5001 264.3846,-22 254.3845,-18.5001 254.3846,-25.5001\"/>\n<text text-anchor=\"middle\" x=\"240.5963\" y=\"-25.8\" font-family=\"Times,serif\" font-size=\"14.00\" fill=\"#000000\">0 </text>\n</g>\n</g>\n</svg>\n"
          },
          "metadata": {
            "tags": []
          },
          "execution_count": 10
        }
      ]
    },
    {
      "cell_type": "markdown",
      "metadata": {
        "id": "ee5LCAGPYDJd"
      },
      "source": [
        "# Task 2: Determine States in Animation\n",
        "\n",
        "Put the above NFA in animation, and note down the set of states attained\n",
        "after the DFA has seen every character in 10010. More detailed instructions follow."
      ]
    },
    {
      "cell_type": "markdown",
      "metadata": {
        "id": "YHXe-yKFYDJe"
      },
      "source": [
        "## Execute the cell below and follow the bulleted instructions:\n",
        "\n",
        "* When the animation pane comes up, type in 10010 and click Animate\n",
        "\n",
        "* Then click the \">|\" button, which is for single-stepping\n",
        "\n",
        "* Note down the results as you single-step, and fill answers in 1b(ii) below\n"
      ]
    },
    {
      "cell_type": "code",
      "metadata": {
        "scrolled": false,
        "id": "WLkFxgusYDJe",
        "outputId": "f2e4330b-1add-4174-bf6e-1deacf3a52f3",
        "colab": {
          "base_uri": "https://localhost:8080/",
          "height": 304,
          "referenced_widgets": [
            "db210431c0e24a81922fcbd92b64d585",
            "d751415d8e3441b4b2d4d35dbdffd77a",
            "0edd2d7cbcd647a1be18c50b3db128c3",
            "4efbf477f926431c9600b17462cdb4fa",
            "951c940aaa654a5e8a6a4cec9b149d06",
            "e65bc5ae66ba4e3a95ba87165539a022",
            "2a99a04433d342fe9ce800afa31feaca",
            "790f0a69eebf4cfc987936eb5504cd41",
            "3908706b176d480aa08fa11cfbb777ae",
            "697d9f9915b446e2b9e5ceaa05dc2c65",
            "727ec5dc17074d00ab1fdb4d69b5bbb4",
            "7211692cf9e1488b9014d8bc1f21de87",
            "326a5ca9214446e89232395966c806fb",
            "46c90abfb6cf4afaa123f9f1c50a7833",
            "f4fc9f5bb04d4da79d224ea5237f6339",
            "e4657c28d5b24ac39271ad2344264741",
            "691ef7c77bd146af955f75258bdd127d",
            "319dee9e622c4be289d87ca3cfd0e682",
            "b94ae575c62f432ab0ecfaed6cf210c7",
            "0b6f56d512774eb9b3b9d107bb65d583",
            "0e5b473af1324f36bbf8273a52e89ce3",
            "e5137ce63bea4806840a80ae90b4c696",
            "18fdf410ed4e4a8281ac00efe9e40a89",
            "2b7d367ea8c14cb3ba35459a7c3a600d",
            "4e124f05694947358787cb2a207196bc",
            "a7e1d9734ea242fd85ba5a2fd461c97d",
            "b373d2c6ec7c4e9388476665ad905c37",
            "9abbf4f37d2b4536a5e0bcdc35c1ae67"
          ]
        }
      },
      "source": [
        "AnimateNFA(nfaEnds10, FuseEdges=False)\n",
        "display(HTML('<link rel=\\\"stylesheet\\\" href=\\\"//stackpath.bootstrapcdn.com/font-awesome/4.7.0/css/font-awesome.min.css\\\"/>'))"
      ],
      "execution_count": 11,
      "outputs": [
        {
          "output_type": "display_data",
          "data": {
            "application/vnd.jupyter.widget-view+json": {
              "model_id": "db210431c0e24a81922fcbd92b64d585",
              "version_minor": 0,
              "version_major": 2
            },
            "text/plain": [
              "VBox(children=(HBox(children=(Text(value='', description='Input:', layout=Layout(width='500px'), placeholder='…"
            ]
          },
          "metadata": {
            "tags": []
          }
        },
        {
          "output_type": "display_data",
          "data": {
            "text/html": [
              "<link rel=\"stylesheet\" href=\"//stackpath.bootstrapcdn.com/font-awesome/4.7.0/css/font-awesome.min.css\"/>"
            ],
            "text/plain": [
              "<IPython.core.display.HTML object>"
            ]
          },
          "metadata": {
            "tags": []
          }
        }
      ]
    },
    {
      "cell_type": "markdown",
      "metadata": {
        "id": "s86ZtgmUYDJf"
      },
      "source": [
        "## Provide these answers based on single-stepping the animation (please type in a SET OF STATES - else no credit). \n",
        "\n",
        "## Also say whether a token dropped out of the diagram (with the move on a symbol being undefined) and whether the state reached is final. \n",
        "\n",
        "### SET of states before consuming any of 10010 = {I}\n",
        "#### NONE OF THESE \n",
        "\n",
        "### SET of states AFTER consuming \"1\" and before consuming \"0010\"  = {I, S0}\n",
        "#### NONE OF THESE \n",
        "\n",
        "### SET of states AFTER consuming \"10\" and before consuming \"010\"  = {I, F}\n",
        "#### The SET of states reached is FINAL\n",
        "\n",
        "### SET of states AFTER consuming \"100\" and before consuming \"10\"  = {I}\n",
        "#### NONE OF THESE \n",
        "\n",
        "### SET of states AFTER consuming \"1001\" and before consuming \"0\"  = {I, S0}\n",
        "#### NONE OF THESE \n",
        "\n",
        "### SET of states AFTER consuming \"10010\" entirely  = {I, F}\n",
        "#### The SET of states reached is FINAL"
      ]
    },
    {
      "cell_type": "code",
      "metadata": {
        "id": "qT30N9nqa9hb",
        "outputId": "e9a964a0-30e8-4041-ec68-0febc9f152a4",
        "colab": {
          "base_uri": "https://localhost:8080/"
        }
      },
      "source": [
        "accepts_nfa(nfaEnds10, \"10010\", chatty=True)"
      ],
      "execution_count": 12,
      "outputs": [
        {
          "output_type": "stream",
          "text": [
            "States reached =  {'I', 'S0'}\n",
            "States reached =  {'I', 'F'}\n",
            "States reached =  {'I'}\n",
            "States reached =  {'I', 'S0'}\n",
            "States reached =  {'I', 'F'}\n",
            "NFA accepts '10010' by reaching {'I', 'F'}\n"
          ],
          "name": "stdout"
        },
        {
          "output_type": "execute_result",
          "data": {
            "text/plain": [
              "True"
            ]
          },
          "metadata": {
            "tags": []
          },
          "execution_count": 12
        }
      ]
    },
    {
      "cell_type": "markdown",
      "metadata": {
        "id": "pvsWVDfPYDJg"
      },
      "source": [
        "# Task 3: Convert the NFA to a DFA and answer questions\n",
        "\n",
        "Convert the NFA to a DFA by the command below, and answer the questions below."
      ]
    },
    {
      "cell_type": "code",
      "metadata": {
        "id": "S2c7i0iRYDJg",
        "outputId": "48befa99-028b-4a4c-b66c-8baf63793043",
        "colab": {
          "base_uri": "https://localhost:8080/",
          "height": 200
        }
      },
      "source": [
        "dotObj_dfa(nfa2dfa(nfaEnds10, STATENAME_MAXSIZE=50), STATENAME_MAXSIZE=50)"
      ],
      "execution_count": 13,
      "outputs": [
        {
          "output_type": "execute_result",
          "data": {
            "text/plain": [
              "<graphviz.dot.Digraph at 0x7f7c433e3d68>"
            ],
            "image/svg+xml": "<?xml version=\"1.0\" encoding=\"UTF-8\" standalone=\"no\"?>\n<!DOCTYPE svg PUBLIC \"-//W3C//DTD SVG 1.1//EN\"\n \"http://www.w3.org/Graphics/SVG/1.1/DTD/svg11.dtd\">\n<!-- Generated by graphviz version 2.40.1 (20161225.0304)\n -->\n<!-- Title: %3 Pages: 1 -->\n<svg width=\"344pt\" height=\"134pt\"\n viewBox=\"0.00 0.00 344.29 133.60\" xmlns=\"http://www.w3.org/2000/svg\" xmlns:xlink=\"http://www.w3.org/1999/xlink\">\n<g id=\"graph0\" class=\"graph\" transform=\"scale(1 1) rotate(0) translate(4 129.5975)\">\n<title>%3</title>\n<polygon fill=\"#ffffff\" stroke=\"transparent\" points=\"-4,4 -4,-129.5975 340.2907,-129.5975 340.2907,4 -4,4\"/>\n<!-- EMPTY -->\n<g id=\"node1\" class=\"node\">\n<title>EMPTY</title>\n</g>\n<!-- I -->\n<g id=\"node3\" class=\"node\">\n<title>I</title>\n<ellipse fill=\"none\" stroke=\"#000000\" cx=\"109\" cy=\"-18\" rx=\"18\" ry=\"18\"/>\n<text text-anchor=\"middle\" x=\"109\" y=\"-14.3\" font-family=\"Times,serif\" font-size=\"14.00\" fill=\"#000000\">I</text>\n</g>\n<!-- EMPTY&#45;&gt;I -->\n<g id=\"edge1\" class=\"edge\">\n<title>EMPTY&#45;&gt;I</title>\n<path fill=\"none\" stroke=\"#000000\" d=\"M54.3048,-18C62.6909,-18 71.9407,-18 80.4103,-18\"/>\n<polygon fill=\"#000000\" stroke=\"#000000\" points=\"80.5976,-21.5001 90.5976,-18 80.5976,-14.5001 80.5976,-21.5001\"/>\n</g>\n<!-- I_S0 -->\n<g id=\"node2\" class=\"node\">\n<title>I_S0</title>\n<ellipse fill=\"none\" stroke=\"#000000\" cx=\"203.5975\" cy=\"-64\" rx=\"28.6953\" ry=\"28.6953\"/>\n<text text-anchor=\"middle\" x=\"203.5975\" y=\"-60.3\" font-family=\"Times,serif\" font-size=\"14.00\" fill=\"#000000\">I_S0</text>\n</g>\n<!-- I_S0&#45;&gt;I_S0 -->\n<g id=\"edge4\" class=\"edge\">\n<title>I_S0&#45;&gt;I_S0</title>\n<path fill=\"none\" stroke=\"#000000\" d=\"M193.8855,-91.2819C193.4539,-101.8301 196.6912,-110.5975 203.5975,-110.5975 208.0218,-110.5975 210.9404,-106.9993 212.3532,-101.6399\"/>\n<polygon fill=\"#000000\" stroke=\"#000000\" points=\"215.8753,-101.5613 213.3094,-91.2819 208.9049,-100.9178 215.8753,-101.5613\"/>\n<text text-anchor=\"middle\" x=\"203.5975\" y=\"-114.3975\" font-family=\"Times,serif\" font-size=\"14.00\" fill=\"#000000\">1 </text>\n</g>\n<!-- F_I -->\n<g id=\"node4\" class=\"node\">\n<title>F_I</title>\n<ellipse fill=\"none\" stroke=\"#000000\" cx=\"308.2428\" cy=\"-35\" rx=\"24.089\" ry=\"24.089\"/>\n<ellipse fill=\"none\" stroke=\"#000000\" cx=\"308.2428\" cy=\"-35\" rx=\"28.0958\" ry=\"28.0958\"/>\n<text text-anchor=\"middle\" x=\"308.2428\" y=\"-31.3\" font-family=\"Times,serif\" font-size=\"14.00\" fill=\"#000000\">F_I</text>\n</g>\n<!-- I_S0&#45;&gt;F_I -->\n<g id=\"edge5\" class=\"edge\">\n<title>I_S0&#45;&gt;F_I</title>\n<path fill=\"none\" stroke=\"#000000\" d=\"M231.7808,-58.441C241.4805,-56.3447 252.3703,-53.7865 262.1949,-51 265.3703,-50.0994 268.647,-49.1018 271.9203,-48.0578\"/>\n<polygon fill=\"#000000\" stroke=\"#000000\" points=\"273.2372,-51.3085 281.6256,-44.8366 271.0321,-44.6649 273.2372,-51.3085\"/>\n<text text-anchor=\"middle\" x=\"256.1949\" y=\"-56.8\" font-family=\"Times,serif\" font-size=\"14.00\" fill=\"#000000\">0 </text>\n</g>\n<!-- I&#45;&gt;I_S0 -->\n<g id=\"edge2\" class=\"edge\">\n<title>I&#45;&gt;I_S0</title>\n<path fill=\"none\" stroke=\"#000000\" d=\"M125.4776,-26.0126C137.2888,-31.756 153.6416,-39.7079 168.3345,-46.8526\"/>\n<polygon fill=\"#000000\" stroke=\"#000000\" points=\"167.162,-50.1743 177.6857,-51.3999 170.2232,-43.8791 167.162,-50.1743\"/>\n<text text-anchor=\"middle\" x=\"151\" y=\"-44.8\" font-family=\"Times,serif\" font-size=\"14.00\" fill=\"#000000\">1 </text>\n</g>\n<!-- I&#45;&gt;I -->\n<g id=\"edge3\" class=\"edge\">\n<title>I&#45;&gt;I</title>\n<path fill=\"none\" stroke=\"#000000\" d=\"M102.6208,-35.0373C101.3189,-44.8579 103.4453,-54 109,-54 112.4717,-54 114.6042,-50.4289 115.3975,-45.3529\"/>\n<polygon fill=\"#000000\" stroke=\"#000000\" points=\"118.8971,-45.031 115.3792,-35.0373 111.8971,-45.0435 118.8971,-45.031\"/>\n<text text-anchor=\"middle\" x=\"109\" y=\"-57.8\" font-family=\"Times,serif\" font-size=\"14.00\" fill=\"#000000\">0 </text>\n</g>\n<!-- F_I&#45;&gt;I_S0 -->\n<g id=\"edge6\" class=\"edge\">\n<title>F_I&#45;&gt;I_S0</title>\n<path fill=\"none\" stroke=\"#000000\" d=\"M280.584,-29.684C270.7985,-28.8129 259.8328,-29.0093 250.1949,-32 244.5507,-33.7514 238.9835,-36.4495 233.7693,-39.552\"/>\n<polygon fill=\"#000000\" stroke=\"#000000\" points=\"231.817,-36.6469 225.3764,-45.0594 235.6573,-42.4994 231.817,-36.6469\"/>\n<text text-anchor=\"middle\" x=\"256.1949\" y=\"-35.8\" font-family=\"Times,serif\" font-size=\"14.00\" fill=\"#000000\">1 </text>\n</g>\n<!-- F_I&#45;&gt;I -->\n<g id=\"edge7\" class=\"edge\">\n<title>F_I&#45;&gt;I</title>\n<path fill=\"none\" stroke=\"#000000\" d=\"M281.9702,-24.5225C267.5346,-19.3263 249.1621,-13.6138 232.1949,-11 199.7742,-6.0056 162.0617,-9.4904 136.9873,-13.0977\"/>\n<polygon fill=\"#000000\" stroke=\"#000000\" points=\"136.4173,-9.6441 127.0672,-14.6268 137.4837,-16.5624 136.4173,-9.6441\"/>\n<text text-anchor=\"middle\" x=\"203.5975\" y=\"-14.8\" font-family=\"Times,serif\" font-size=\"14.00\" fill=\"#000000\">0 </text>\n</g>\n</g>\n</svg>\n"
          },
          "metadata": {
            "tags": []
          },
          "execution_count": 13
        }
      ]
    },
    {
      "cell_type": "markdown",
      "metadata": {
        "id": "5vBgnN9eYDJh"
      },
      "source": [
        "#### State DFA is in after 10010 = F_I\n",
        "\n",
        "The string \"10010\" ends only in the F_I state in the DFA.\n",
        "\n",
        "#### Set of states NFA is in after 10010 (last ans of 1b(ii) ) = {I, F}\n",
        "\n",
        "In the NFA, it ends in F $or$ I.\n",
        "\n",
        "#### Do the above match? Recall that for an NFA set of states (A,B), a DFA state may be named A_B or B_A. We use \"match\" in this sense.\n",
        "\n",
        "If we decompress F_I to F and I, as the instructions say to do, then they do indeed match.\n",
        "\n",
        "#### Reason that the above should match? Please provide a sentence stating when a DFA accepts and when an NFA accepts in terms of its tokens being in many states that includes a final state.\n",
        "\n",
        "In a DFA, there is only a destination the token can result in, and that must be a final state, where as in an NFA, there is a set of states where the token may result in, and so long as one of them is a final state, the string is considered accepted."
      ]
    },
    {
      "cell_type": "markdown",
      "metadata": {
        "id": "c2wOs3qiYDJh"
      },
      "source": [
        "# Task 4: Design an NFA for $\\{\\varepsilon, 0\\}$ \n",
        "### It will be a 2-state NFA with an IF state and a final state (call that final state \"F2\" )"
      ]
    },
    {
      "cell_type": "code",
      "metadata": {
        "id": "vfq7j-ymYDJi"
      },
      "source": [
        "nfaEps0 = md2mc('''\n",
        "NFA \n",
        "IF : \" -> IF\n",
        "IF : 0 -> F2\n",
        " \n",
        "''')"
      ],
      "execution_count": 16,
      "outputs": []
    },
    {
      "cell_type": "code",
      "metadata": {
        "id": "WoY-DuBHYDJi",
        "outputId": "e077051b-e67f-407d-f1ca-4d32a12cdfe6",
        "colab": {
          "base_uri": "https://localhost:8080/",
          "height": 140
        }
      },
      "source": [
        "dotObj_nfa(nfaEps0)"
      ],
      "execution_count": 17,
      "outputs": [
        {
          "output_type": "execute_result",
          "data": {
            "text/plain": [
              "<graphviz.dot.Digraph at 0x7f7c43411be0>"
            ],
            "image/svg+xml": "<?xml version=\"1.0\" encoding=\"UTF-8\" standalone=\"no\"?>\n<!DOCTYPE svg PUBLIC \"-//W3C//DTD SVG 1.1//EN\"\n \"http://www.w3.org/Graphics/SVG/1.1/DTD/svg11.dtd\">\n<!-- Generated by graphviz version 2.40.1 (20161225.0304)\n -->\n<!-- Title: %3 Pages: 1 -->\n<svg width=\"242pt\" height=\"89pt\"\n viewBox=\"0.00 0.00 242.29 88.65\" xmlns=\"http://www.w3.org/2000/svg\" xmlns:xlink=\"http://www.w3.org/1999/xlink\">\n<g id=\"graph0\" class=\"graph\" transform=\"scale(1 1) rotate(0) translate(4 84.6465)\">\n<title>%3</title>\n<polygon fill=\"#ffffff\" stroke=\"transparent\" points=\"-4,4 -4,-84.6465 238.293,-84.6465 238.293,4 -4,4\"/>\n<!-- EMPTY -->\n<g id=\"node1\" class=\"node\">\n<title>EMPTY</title>\n</g>\n<!-- IF -->\n<g id=\"node2\" class=\"node\">\n<title>IF</title>\n<ellipse fill=\"none\" stroke=\"#000000\" cx=\"113.8483\" cy=\"-24.7982\" rx=\"18.724\" ry=\"18.724\"/>\n<ellipse fill=\"none\" stroke=\"#000000\" cx=\"113.8483\" cy=\"-24.7982\" rx=\"22.6977\" ry=\"22.6977\"/>\n<text text-anchor=\"middle\" x=\"113.8483\" y=\"-21.0982\" font-family=\"Times,serif\" font-size=\"14.00\" fill=\"#000000\">IF</text>\n</g>\n<!-- EMPTY&#45;&gt;IF -->\n<g id=\"edge1\" class=\"edge\">\n<title>EMPTY&#45;&gt;IF</title>\n<path fill=\"none\" stroke=\"#000000\" d=\"M54.0033,-24.7982C62.5212,-24.7982 72.0276,-24.7982 80.9112,-24.7982\"/>\n<polygon fill=\"#000000\" stroke=\"#000000\" points=\"80.9572,-28.2983 90.9572,-24.7982 80.9572,-21.2983 80.9572,-28.2983\"/>\n</g>\n<!-- IF&#45;&gt;IF -->\n<g id=\"edge2\" class=\"edge\">\n<title>IF&#45;&gt;IF</title>\n<path fill=\"none\" stroke=\"#000000\" d=\"M106.4966,-46.6514C105.6946,-56.789 108.1452,-65.6465 113.8483,-65.6465 117.5019,-65.6465 119.8206,-62.0114 120.8045,-56.7333\"/>\n<polygon fill=\"#000000\" stroke=\"#000000\" points=\"124.3052,-56.781 121.2,-46.6514 117.3106,-56.5065 124.3052,-56.781\"/>\n<text text-anchor=\"middle\" x=\"113.8483\" y=\"-69.4465\" font-family=\"Times,serif\" font-size=\"14.00\" fill=\"#000000\">&quot; </text>\n</g>\n<!-- F2 -->\n<g id=\"node3\" class=\"node\">\n<title>F2</title>\n<ellipse fill=\"none\" stroke=\"#000000\" cx=\"209.4948\" cy=\"-24.7982\" rx=\"20.6302\" ry=\"20.6302\"/>\n<ellipse fill=\"none\" stroke=\"#000000\" cx=\"209.4948\" cy=\"-24.7982\" rx=\"24.5979\" ry=\"24.5979\"/>\n<text text-anchor=\"middle\" x=\"209.4948\" y=\"-21.0982\" font-family=\"Times,serif\" font-size=\"14.00\" fill=\"#000000\">F2</text>\n</g>\n<!-- IF&#45;&gt;F2 -->\n<g id=\"edge3\" class=\"edge\">\n<title>IF&#45;&gt;F2</title>\n<path fill=\"none\" stroke=\"#000000\" d=\"M137.0017,-24.7982C148.2318,-24.7982 161.9613,-24.7982 174.4394,-24.7982\"/>\n<polygon fill=\"#000000\" stroke=\"#000000\" points=\"174.5444,-28.2983 184.5444,-24.7982 174.5443,-21.2983 174.5444,-28.2983\"/>\n<text text-anchor=\"middle\" x=\"160.6967\" y=\"-28.5982\" font-family=\"Times,serif\" font-size=\"14.00\" fill=\"#000000\">0 </text>\n</g>\n</g>\n</svg>\n"
          },
          "metadata": {
            "tags": []
          },
          "execution_count": 17
        }
      ]
    },
    {
      "cell_type": "markdown",
      "metadata": {
        "id": "SsAXBEw8YDJi"
      },
      "source": [
        "# A tutorial on Concatenating NFA\n",
        "\n",
        "Watch this video, then do Task 5.\n",
        "\n",
        "To watch the video separately in Youtube in large size, \n",
        "visit https://youtu.be/VWyOT1uYfIc\n",
        "\n",
        "Otherwise just run the command below!"
      ]
    },
    {
      "cell_type": "code",
      "metadata": {
        "id": "2um8N0irYDJj",
        "outputId": "9304705f-ed14-41ea-a0f6-431b4abbef36",
        "colab": {
          "base_uri": "https://localhost:8080/",
          "height": 321
        }
      },
      "source": [
        "# NFA Concatenation\n",
        "from IPython.display import YouTubeVideo\n",
        "YouTubeVideo('VWyOT1uYfIc')"
      ],
      "execution_count": 18,
      "outputs": [
        {
          "output_type": "execute_result",
          "data": {
            "text/html": [
              "\n",
              "        <iframe\n",
              "            width=\"400\"\n",
              "            height=\"300\"\n",
              "            src=\"https://www.youtube.com/embed/VWyOT1uYfIc\"\n",
              "            frameborder=\"0\"\n",
              "            allowfullscreen\n",
              "        ></iframe>\n",
              "        "
            ],
            "text/plain": [
              "<IPython.lib.display.YouTubeVideo at 0x7f7c43411dd8>"
            ],
            "image/jpeg": "[encoded data removed]"
          },
          "metadata": {
            "tags": []
          },
          "execution_count": 18
        }
      ]
    },
    {
      "cell_type": "markdown",
      "metadata": {
        "id": "kO7-c11-YDJk"
      },
      "source": [
        "# Task 5: Develop a Concatenation NFA\n",
        "\n",
        "## Concatenate nfaEnds10 and nfaEps0 to obtain NFAEnds10Eps0.\n",
        "\n",
        "### Follow the steps in the above video.\n",
        "\n",
        "### Describe the steps in a few bullets below, then finish the notebook code cell that defines NFAEnds10Eps0 below where space is provided for your work.\n"
      ]
    },
    {
      "cell_type": "markdown",
      "metadata": {
        "id": "Lxkw3n6Se44S"
      },
      "source": [
        "Any final states in ndaEnds10, will now be considered regular states.<br>\r\n",
        "Create connection for every former final state to the initial state(s) of nfaEps0."
      ]
    },
    {
      "cell_type": "markdown",
      "metadata": {
        "id": "BS4_n3fYYDJl"
      },
      "source": [
        "# Show the full Concatenation NFA below\n"
      ]
    },
    {
      "cell_type": "code",
      "metadata": {
        "run_control": {
          "frozen": false,
          "read_only": false
        },
        "id": "SPkbgCG7YDJl"
      },
      "source": [
        "# Here is the resulting NFA\n",
        "\n",
        "NFAEnds10Eps0 = md2mc('''\n",
        "NFA \n",
        "\n",
        "!!---- Put NFA 1's transitions below, \n",
        "!!----  after suitably renaming states to make final states non-final etc.\n",
        " \n",
        "I : 0 | 1 -> I\n",
        "I : 1 -> S11\n",
        "S11 : 0 -> S12\n",
        "\n",
        "!!--- put the \"bridge\" transition below\n",
        " \n",
        "S12 : \" -> F1\n",
        "\n",
        "!!--- put NFA 2's transitions below, again after suitable state renamings as above\n",
        "\n",
        "F1 : \" -> F1\n",
        "F1 : 0 -> F2\n",
        "\n",
        "''')"
      ],
      "execution_count": 28,
      "outputs": []
    },
    {
      "cell_type": "markdown",
      "metadata": {
        "id": "aRuf3P-EYDJm"
      },
      "source": [
        "## Draw the concat NFA and convert to a DFA\n",
        "\n",
        "... Run the THREE commands below, and then move on to do Task 6 \n",
        "... based on the results you observe from these commands.\n"
      ]
    },
    {
      "cell_type": "code",
      "metadata": {
        "id": "xqpMSF4tYDJm",
        "outputId": "ca695079-a850-430b-8790-511dffafe429",
        "colab": {
          "base_uri": "https://localhost:8080/",
          "height": 178
        }
      },
      "source": [
        "# command-1\n",
        "dotObj_nfa(NFAEnds10Eps0)"
      ],
      "execution_count": 29,
      "outputs": [
        {
          "output_type": "execute_result",
          "data": {
            "text/plain": [
              "<graphviz.dot.Digraph at 0x7f7c433dd898>"
            ],
            "image/svg+xml": "<?xml version=\"1.0\" encoding=\"UTF-8\" standalone=\"no\"?>\n<!DOCTYPE svg PUBLIC \"-//W3C//DTD SVG 1.1//EN\"\n \"http://www.w3.org/Graphics/SVG/1.1/DTD/svg11.dtd\">\n<!-- Generated by graphviz version 2.40.1 (20161225.0304)\n -->\n<!-- Title: %3 Pages: 1 -->\n<svg width=\"527pt\" height=\"118pt\"\n viewBox=\"0.00 0.00 526.88 118.00\" xmlns=\"http://www.w3.org/2000/svg\" xmlns:xlink=\"http://www.w3.org/1999/xlink\">\n<g id=\"graph0\" class=\"graph\" transform=\"scale(1 1) rotate(0) translate(4 113.9977)\">\n<title>%3</title>\n<polygon fill=\"#ffffff\" stroke=\"transparent\" points=\"-4,4 -4,-113.9977 522.8835,-113.9977 522.8835,4 -4,4\"/>\n<!-- EMPTY -->\n<g id=\"node1\" class=\"node\">\n<title>EMPTY</title>\n</g>\n<!-- I -->\n<g id=\"node2\" class=\"node\">\n<title>I</title>\n<ellipse fill=\"none\" stroke=\"#000000\" cx=\"109\" cy=\"-25.9977\" rx=\"18\" ry=\"18\"/>\n<text text-anchor=\"middle\" x=\"109\" y=\"-22.2977\" font-family=\"Times,serif\" font-size=\"14.00\" fill=\"#000000\">I</text>\n</g>\n<!-- EMPTY&#45;&gt;I -->\n<g id=\"edge1\" class=\"edge\">\n<title>EMPTY&#45;&gt;I</title>\n<path fill=\"none\" stroke=\"#000000\" d=\"M54.3048,-25.9977C62.6909,-25.9977 71.9407,-25.9977 80.4103,-25.9977\"/>\n<polygon fill=\"#000000\" stroke=\"#000000\" points=\"80.5976,-29.4978 90.5976,-25.9977 80.5976,-22.4978 80.5976,-29.4978\"/>\n</g>\n<!-- I&#45;&gt;I -->\n<g id=\"edge2\" class=\"edge\">\n<title>I&#45;&gt;I</title>\n<path fill=\"none\" stroke=\"#000000\" d=\"M105.7643,-43.7794C105.2144,-53.3126 106.293,-61.9977 109,-61.9977 110.6496,-61.9977 111.6945,-58.7726 112.1347,-54.0958\"/>\n<polygon fill=\"#000000\" stroke=\"#000000\" points=\"115.6375,-53.8133 112.2357,-43.7794 108.6379,-53.7446 115.6375,-53.8133\"/>\n<text text-anchor=\"middle\" x=\"109\" y=\"-65.7977\" font-family=\"Times,serif\" font-size=\"14.00\" fill=\"#000000\">0 </text>\n</g>\n<!-- I&#45;&gt;I -->\n<g id=\"edge3\" class=\"edge\">\n<title>I&#45;&gt;I</title>\n<path fill=\"none\" stroke=\"#000000\" d=\"M103.6841,-43.418C100.6538,-60.7886 102.4258,-79.9977 109,-79.9977 114.2902,-79.9977 116.4708,-67.5594 115.5419,-53.6497\"/>\n<polygon fill=\"#000000\" stroke=\"#000000\" points=\"118.9808,-52.9305 114.3159,-43.418 112.0305,-53.7634 118.9808,-52.9305\"/>\n<text text-anchor=\"middle\" x=\"109\" y=\"-83.7977\" font-family=\"Times,serif\" font-size=\"14.00\" fill=\"#000000\">1 </text>\n</g>\n<!-- S11 -->\n<g id=\"node4\" class=\"node\">\n<title>S11</title>\n<ellipse fill=\"none\" stroke=\"#000000\" cx=\"200.3478\" cy=\"-25.9977\" rx=\"25.1964\" ry=\"25.1964\"/>\n<text text-anchor=\"middle\" x=\"200.3478\" y=\"-22.2977\" font-family=\"Times,serif\" font-size=\"14.00\" fill=\"#000000\">S11</text>\n</g>\n<!-- I&#45;&gt;S11 -->\n<g id=\"edge4\" class=\"edge\">\n<title>I&#45;&gt;S11</title>\n<path fill=\"none\" stroke=\"#000000\" d=\"M127.0474,-25.9977C137.7966,-25.9977 151.8158,-25.9977 164.7119,-25.9977\"/>\n<polygon fill=\"#000000\" stroke=\"#000000\" points=\"164.7296,-29.4978 174.7296,-25.9977 164.7295,-22.4978 164.7296,-29.4978\"/>\n<text text-anchor=\"middle\" x=\"151\" y=\"-29.7977\" font-family=\"Times,serif\" font-size=\"14.00\" fill=\"#000000\">1 </text>\n</g>\n<!-- S12 -->\n<g id=\"node3\" class=\"node\">\n<title>S12</title>\n<ellipse fill=\"none\" stroke=\"#000000\" cx=\"299.6932\" cy=\"-25.9977\" rx=\"25.9954\" ry=\"25.9954\"/>\n<text text-anchor=\"middle\" x=\"299.6932\" y=\"-22.2977\" font-family=\"Times,serif\" font-size=\"14.00\" fill=\"#000000\">S12</text>\n</g>\n<!-- F1 -->\n<g id=\"node6\" class=\"node\">\n<title>F1</title>\n<ellipse fill=\"none\" stroke=\"#000000\" cx=\"396.489\" cy=\"-25.9977\" rx=\"20.6302\" ry=\"20.6302\"/>\n<ellipse fill=\"none\" stroke=\"#000000\" cx=\"396.489\" cy=\"-25.9977\" rx=\"24.5979\" ry=\"24.5979\"/>\n<text text-anchor=\"middle\" x=\"396.489\" y=\"-22.2977\" font-family=\"Times,serif\" font-size=\"14.00\" fill=\"#000000\">F1</text>\n</g>\n<!-- S12&#45;&gt;F1 -->\n<g id=\"edge6\" class=\"edge\">\n<title>S12&#45;&gt;F1</title>\n<path fill=\"none\" stroke=\"#000000\" d=\"M325.8875,-25.9977C336.7757,-25.9977 349.578,-25.9977 361.2697,-25.9977\"/>\n<polygon fill=\"#000000\" stroke=\"#000000\" points=\"361.6079,-29.4978 371.6079,-25.9977 361.6078,-22.4978 361.6079,-29.4978\"/>\n<text text-anchor=\"middle\" x=\"348.6909\" y=\"-29.7977\" font-family=\"Times,serif\" font-size=\"14.00\" fill=\"#000000\">&quot; </text>\n</g>\n<!-- S11&#45;&gt;S12 -->\n<g id=\"edge5\" class=\"edge\">\n<title>S11&#45;&gt;S12</title>\n<path fill=\"none\" stroke=\"#000000\" d=\"M225.9317,-25.9977C237.34,-25.9977 250.9852,-25.9977 263.4196,-25.9977\"/>\n<polygon fill=\"#000000\" stroke=\"#000000\" points=\"263.5041,-29.4978 273.5041,-25.9977 263.504,-22.4978 263.5041,-29.4978\"/>\n<text text-anchor=\"middle\" x=\"249.6955\" y=\"-29.7977\" font-family=\"Times,serif\" font-size=\"14.00\" fill=\"#000000\">0 </text>\n</g>\n<!-- F2 -->\n<g id=\"node5\" class=\"node\">\n<title>F2</title>\n<ellipse fill=\"none\" stroke=\"#000000\" cx=\"494.0854\" cy=\"-25.9977\" rx=\"20.6302\" ry=\"20.6302\"/>\n<ellipse fill=\"none\" stroke=\"#000000\" cx=\"494.0854\" cy=\"-25.9977\" rx=\"24.5979\" ry=\"24.5979\"/>\n<text text-anchor=\"middle\" x=\"494.0854\" y=\"-22.2977\" font-family=\"Times,serif\" font-size=\"14.00\" fill=\"#000000\">F2</text>\n</g>\n<!-- F1&#45;&gt;F2 -->\n<g id=\"edge8\" class=\"edge\">\n<title>F1&#45;&gt;F2</title>\n<path fill=\"none\" stroke=\"#000000\" d=\"M421.3692,-25.9977C432.8408,-25.9977 446.6552,-25.9977 459.148,-25.9977\"/>\n<polygon fill=\"#000000\" stroke=\"#000000\" points=\"459.2506,-29.4978 469.2506,-25.9977 459.2506,-22.4978 459.2506,-29.4978\"/>\n<text text-anchor=\"middle\" x=\"445.2872\" y=\"-29.7977\" font-family=\"Times,serif\" font-size=\"14.00\" fill=\"#000000\">0 </text>\n</g>\n<!-- F1&#45;&gt;F1 -->\n<g id=\"edge7\" class=\"edge\">\n<title>F1&#45;&gt;F1</title>\n<path fill=\"none\" stroke=\"#000000\" d=\"M387.9988,-49.3298C387.1902,-59.7681 390.0203,-68.7958 396.489,-68.7958 400.6331,-68.7958 403.2838,-65.0909 404.4412,-59.6835\"/>\n<polygon fill=\"#000000\" stroke=\"#000000\" points=\"407.9555,-59.498 404.9793,-49.3298 400.9649,-59.1346 407.9555,-59.498\"/>\n<text text-anchor=\"middle\" x=\"396.489\" y=\"-72.5958\" font-family=\"Times,serif\" font-size=\"14.00\" fill=\"#000000\">&quot; </text>\n</g>\n</g>\n</svg>\n"
          },
          "metadata": {
            "tags": []
          },
          "execution_count": 29
        }
      ]
    },
    {
      "cell_type": "code",
      "metadata": {
        "id": "OryWhwn0YDJm",
        "outputId": "e457459e-a097-4e07-c2c5-2f2d86a21e6d",
        "colab": {
          "base_uri": "https://localhost:8080/",
          "height": 212
        }
      },
      "source": [
        "# command-2\n",
        "\n",
        "dotObj_dfa(nfa2dfa(NFAEnds10Eps0, STATENAME_MAXSIZE=50), STATENAME_MAXSIZE=50)"
      ],
      "execution_count": 30,
      "outputs": [
        {
          "output_type": "execute_result",
          "data": {
            "text/plain": [
              "<graphviz.dot.Digraph at 0x7f7c4336a198>"
            ],
            "image/svg+xml": "<?xml version=\"1.0\" encoding=\"UTF-8\" standalone=\"no\"?>\n<!DOCTYPE svg PUBLIC \"-//W3C//DTD SVG 1.1//EN\"\n \"http://www.w3.org/Graphics/SVG/1.1/DTD/svg11.dtd\">\n<!-- Generated by graphviz version 2.40.1 (20161225.0304)\n -->\n<!-- Title: %3 Pages: 1 -->\n<svg width=\"558pt\" height=\"143pt\"\n viewBox=\"0.00 0.00 558.08 143.15\" xmlns=\"http://www.w3.org/2000/svg\" xmlns:xlink=\"http://www.w3.org/1999/xlink\">\n<g id=\"graph0\" class=\"graph\" transform=\"scale(1 1) rotate(0) translate(4 139.1471)\">\n<title>%3</title>\n<polygon fill=\"#ffffff\" stroke=\"transparent\" points=\"-4,4 -4,-139.1471 554.0807,-139.1471 554.0807,4 -4,4\"/>\n<!-- EMPTY -->\n<g id=\"node1\" class=\"node\">\n<title>EMPTY</title>\n</g>\n<!-- I -->\n<g id=\"node4\" class=\"node\">\n<title>I</title>\n<ellipse fill=\"none\" stroke=\"#000000\" cx=\"109\" cy=\"-84.1471\" rx=\"18\" ry=\"18\"/>\n<text text-anchor=\"middle\" x=\"109\" y=\"-80.4471\" font-family=\"Times,serif\" font-size=\"14.00\" fill=\"#000000\">I</text>\n</g>\n<!-- EMPTY&#45;&gt;I -->\n<g id=\"edge1\" class=\"edge\">\n<title>EMPTY&#45;&gt;I</title>\n<path fill=\"none\" stroke=\"#000000\" d=\"M54.3048,-84.1471C62.6909,-84.1471 71.9407,-84.1471 80.4103,-84.1471\"/>\n<polygon fill=\"#000000\" stroke=\"#000000\" points=\"80.5976,-87.6472 90.5976,-84.1471 80.5976,-80.6472 80.5976,-87.6472\"/>\n</g>\n<!-- I_S11 -->\n<g id=\"node2\" class=\"node\">\n<title>I_S11</title>\n<ellipse fill=\"none\" stroke=\"#000000\" cx=\"208.1471\" cy=\"-33.1471\" rx=\"33.2948\" ry=\"33.2948\"/>\n<text text-anchor=\"middle\" x=\"208.1471\" y=\"-29.4471\" font-family=\"Times,serif\" font-size=\"14.00\" fill=\"#000000\">I_S11</text>\n</g>\n<!-- I_S11&#45;&gt;I_S11 -->\n<g id=\"edge4\" class=\"edge\">\n<title>I_S11&#45;&gt;I_S11</title>\n<path fill=\"none\" stroke=\"#000000\" d=\"M197.6496,-64.613C197.5385,-75.5011 201.0377,-84.2941 208.1471,-84.2941 212.8126,-84.2941 215.9233,-80.5073 217.4793,-74.8266\"/>\n<polygon fill=\"#000000\" stroke=\"#000000\" points=\"220.9883,-74.9453 218.6445,-64.613 214.0335,-74.1517 220.9883,-74.9453\"/>\n<text text-anchor=\"middle\" x=\"208.1471\" y=\"-88.0941\" font-family=\"Times,serif\" font-size=\"14.00\" fill=\"#000000\">1 </text>\n</g>\n<!-- I_S12 -->\n<g id=\"node3\" class=\"node\">\n<title>I_S12</title>\n<ellipse fill=\"none\" stroke=\"#000000\" cx=\"323.0911\" cy=\"-71.1471\" rx=\"33.5952\" ry=\"33.5952\"/>\n<text text-anchor=\"middle\" x=\"323.0911\" y=\"-67.4471\" font-family=\"Times,serif\" font-size=\"14.00\" fill=\"#000000\">I_S12</text>\n</g>\n<!-- I_S11&#45;&gt;I_S12 -->\n<g id=\"edge5\" class=\"edge\">\n<title>I_S11&#45;&gt;I_S12</title>\n<path fill=\"none\" stroke=\"#000000\" d=\"M239.8603,-43.6313C252.5866,-47.8386 267.4377,-52.7483 281.0433,-57.2462\"/>\n<polygon fill=\"#000000\" stroke=\"#000000\" points=\"280.0887,-60.6169 290.6819,-60.4327 282.2859,-53.9707 280.0887,-60.6169\"/>\n<text text-anchor=\"middle\" x=\"265.2941\" y=\"-56.9471\" font-family=\"Times,serif\" font-size=\"14.00\" fill=\"#000000\">0 </text>\n</g>\n<!-- I_S12&#45;&gt;I_S11 -->\n<g id=\"edge7\" class=\"edge\">\n<title>I_S12&#45;&gt;I_S11</title>\n<path fill=\"none\" stroke=\"#000000\" d=\"M298.9978,-47.2981C290.8649,-40.7709 281.2946,-34.559 271.2941,-31.1471 264.8774,-28.9578 257.8778,-27.9424 250.951,-27.6615\"/>\n<polygon fill=\"#000000\" stroke=\"#000000\" points=\"250.9086,-24.1616 240.9309,-27.7245 250.9527,-31.1615 250.9086,-24.1616\"/>\n<text text-anchor=\"middle\" x=\"265.2941\" y=\"-34.9471\" font-family=\"Times,serif\" font-size=\"14.00\" fill=\"#000000\">1 </text>\n</g>\n<!-- I_S12&#45;&gt;I -->\n<g id=\"edge8\" class=\"edge\">\n<title>I_S12&#45;&gt;I</title>\n<path fill=\"none\" stroke=\"#000000\" d=\"M293.4637,-88.2357C278.3743,-95.9673 259.4248,-104.2371 241.2941,-108.1471 212.4922,-114.3582 204.0172,-113.2592 175,-108.1471 161.304,-105.7342 146.7103,-100.7069 134.7378,-95.874\"/>\n<polygon fill=\"#000000\" stroke=\"#000000\" points=\"135.9487,-92.5862 125.3747,-91.9218 133.2264,-99.0352 135.9487,-92.5862\"/>\n<text text-anchor=\"middle\" x=\"208.1471\" y=\"-115.9471\" font-family=\"Times,serif\" font-size=\"14.00\" fill=\"#000000\">0 </text>\n</g>\n<!-- F1 -->\n<g id=\"node6\" class=\"node\">\n<title>F1</title>\n<ellipse fill=\"none\" stroke=\"#000000\" cx=\"427.6863\" cy=\"-71.1471\" rx=\"20.6302\" ry=\"20.6302\"/>\n<ellipse fill=\"none\" stroke=\"#000000\" cx=\"427.6863\" cy=\"-71.1471\" rx=\"24.5979\" ry=\"24.5979\"/>\n<text text-anchor=\"middle\" x=\"427.6863\" y=\"-67.4471\" font-family=\"Times,serif\" font-size=\"14.00\" fill=\"#000000\">F1</text>\n</g>\n<!-- I_S12&#45;&gt;F1 -->\n<g id=\"edge6\" class=\"edge\">\n<title>I_S12&#45;&gt;F1</title>\n<path fill=\"none\" stroke=\"#000000\" d=\"M357.0502,-71.1471C368.4677,-71.1471 381.2204,-71.1471 392.7143,-71.1471\"/>\n<polygon fill=\"#000000\" stroke=\"#000000\" points=\"392.8417,-74.6472 402.8417,-71.1471 392.8417,-67.6472 392.8417,-74.6472\"/>\n<text text-anchor=\"middle\" x=\"379.8881\" y=\"-74.9471\" font-family=\"Times,serif\" font-size=\"14.00\" fill=\"#000000\">&quot; </text>\n</g>\n<!-- I&#45;&gt;I_S11 -->\n<g id=\"edge2\" class=\"edge\">\n<title>I&#45;&gt;I_S11</title>\n<path fill=\"none\" stroke=\"#000000\" d=\"M125.3721,-75.7254C137.3056,-69.587 153.9897,-61.0049 169.255,-53.1526\"/>\n<polygon fill=\"#000000\" stroke=\"#000000\" points=\"171.2299,-56.0728 178.5214,-48.3861 168.0279,-49.848 171.2299,-56.0728\"/>\n<text text-anchor=\"middle\" x=\"151\" y=\"-67.9471\" font-family=\"Times,serif\" font-size=\"14.00\" fill=\"#000000\">1 </text>\n</g>\n<!-- I&#45;&gt;I -->\n<g id=\"edge3\" class=\"edge\">\n<title>I&#45;&gt;I</title>\n<path fill=\"none\" stroke=\"#000000\" d=\"M102.6208,-101.1844C101.3189,-111.005 103.4453,-120.1471 109,-120.1471 112.4717,-120.1471 114.6042,-116.5759 115.3975,-111.5\"/>\n<polygon fill=\"#000000\" stroke=\"#000000\" points=\"118.8971,-111.1781 115.3792,-101.1844 111.8971,-111.1906 118.8971,-111.1781\"/>\n<text text-anchor=\"middle\" x=\"109\" y=\"-123.9471\" font-family=\"Times,serif\" font-size=\"14.00\" fill=\"#000000\">0 </text>\n</g>\n<!-- F2 -->\n<g id=\"node5\" class=\"node\">\n<title>F2</title>\n<ellipse fill=\"none\" stroke=\"#000000\" cx=\"525.2826\" cy=\"-71.1471\" rx=\"20.6302\" ry=\"20.6302\"/>\n<ellipse fill=\"none\" stroke=\"#000000\" cx=\"525.2826\" cy=\"-71.1471\" rx=\"24.5979\" ry=\"24.5979\"/>\n<text text-anchor=\"middle\" x=\"525.2826\" y=\"-67.4471\" font-family=\"Times,serif\" font-size=\"14.00\" fill=\"#000000\">F2</text>\n</g>\n<!-- F1&#45;&gt;F2 -->\n<g id=\"edge10\" class=\"edge\">\n<title>F1&#45;&gt;F2</title>\n<path fill=\"none\" stroke=\"#000000\" d=\"M452.5665,-71.1471C464.038,-71.1471 477.8524,-71.1471 490.3452,-71.1471\"/>\n<polygon fill=\"#000000\" stroke=\"#000000\" points=\"490.4479,-74.6472 500.4478,-71.1471 490.4478,-67.6472 490.4479,-74.6472\"/>\n<text text-anchor=\"middle\" x=\"476.4844\" y=\"-74.9471\" font-family=\"Times,serif\" font-size=\"14.00\" fill=\"#000000\">0 </text>\n</g>\n<!-- F1&#45;&gt;F1 -->\n<g id=\"edge9\" class=\"edge\">\n<title>F1&#45;&gt;F1</title>\n<path fill=\"none\" stroke=\"#000000\" d=\"M419.196,-94.4792C418.3874,-104.9175 421.2175,-113.9452 427.6863,-113.9452 431.8303,-113.9452 434.481,-110.2402 435.6385,-104.8329\"/>\n<polygon fill=\"#000000\" stroke=\"#000000\" points=\"439.1527,-104.6474 436.1765,-94.4792 432.1622,-104.284 439.1527,-104.6474\"/>\n<text text-anchor=\"middle\" x=\"427.6863\" y=\"-117.7452\" font-family=\"Times,serif\" font-size=\"14.00\" fill=\"#000000\">&quot; </text>\n</g>\n</g>\n</svg>\n"
          },
          "metadata": {
            "tags": []
          },
          "execution_count": 30
        }
      ]
    },
    {
      "cell_type": "code",
      "metadata": {
        "run_control": {
          "frozen": false,
          "read_only": false
        },
        "id": "HJruDQkDYDJn",
        "outputId": "45bc51f3-2257-4b45-cf8f-615a89c48c5d",
        "colab": {
          "base_uri": "https://localhost:8080/"
        }
      },
      "source": [
        "# Let us see its internal representation -- this may give you hints for doing Task 6.\n",
        "\n",
        "# command-3\n",
        "\n",
        "NFAEnds10Eps0"
      ],
      "execution_count": 31,
      "outputs": [
        {
          "output_type": "execute_result",
          "data": {
            "text/plain": [
              "{'Delta': {('F1', '\"'): {'F1'},\n",
              "  ('F1', '0'): {'F2'},\n",
              "  ('I', '0'): {'I'},\n",
              "  ('I', '1'): {'I', 'S11'},\n",
              "  ('S11', '0'): {'S12'},\n",
              "  ('S12', '\"'): {'F1'}},\n",
              " 'F': {'F1', 'F2'},\n",
              " 'Q': {'F1', 'F2', 'I', 'S11', 'S12'},\n",
              " 'Q0': {'I'},\n",
              " 'Sigma': {'\"', '0', '1'}}"
            ]
          },
          "metadata": {
            "tags": []
          },
          "execution_count": 31
        }
      ]
    },
    {
      "cell_type": "markdown",
      "metadata": {
        "id": "-2AzI37YYDJn"
      },
      "source": [
        "# Task 6: Explain the NFA2DFA algorithm\n",
        "\n",
        "Below, you must explain the states of the DFA that resulted from converting the\n",
        "NFA to DFA using subset construction. \n",
        "\n",
        "You must look at the results of running command-1, command-2, and command-3 in your explanation.\n",
        "\n",
        "For each question, your answer must be in the following form:\n",
        "\n",
        "* Currently the NFA is in a *set* of states, say S1. That is already an E-closed state. That is where the DFA begins its operation (in the corresponding DFA state).\n",
        "\n",
        "* Let S1 be {s11, s12} for example. (Notice the use of upper and lower cases.)\n",
        "\n",
        "* Consider a '0' transition\n",
        "\n",
        "* Upon a '0', s11 went to set of states S11, s12 went to set of states S12, and so on.\n",
        "\n",
        "* I performed E-Closure of the states in S11 and that resulted in S11c. (If E-closure did not generate any new states, say \"E-Closure did not generate any new state.\")\n",
        "\n",
        "* Similarly, I performed E-Closure of the states in S12 and that resulted in S12c\n",
        "\n",
        "* Then I unioned S11c and S12c and called it S2\n",
        "\n",
        "* S2 is now an E-closed set of states\n",
        "\n",
        "* Thus, I arrive at a single NFA state corresponding to \n",
        "  - S1 going upon '0' to S2 (and the DFA now has a state corresponding to S2).\n",
        "\n",
        " \n",
        "## QUESTIONS FOR YOU TO ANSWER IN THE ABOVE MANNER\n",
        "\n",
        "### Looking at the NFA NFAEnds10Eps0, why did state I arise in the DFA?\n",
        "\n",
        "...Your answer in the above-style bulletted steps describing E-closure and moves on symbols...\n",
        "\n",
        "### Why did state A1_I arise in the DFA?\n",
        "\n",
        "...Your answer in the above-style bulletted steps describing E-closure and moves on symbols...\n",
        "\n",
        "### Why did F3_I_T1 arise (mention E-closure steps)\n",
        "\n",
        "...Your answer in the above-style bulletted steps describing E-closure and moves on symbols...\n",
        "\n",
        "### Explain in detail why A1_I went upon a '0' to F3_I_T1 (include all the E-closure steps)\n",
        "\n",
        "...Your answer in the above-style bulletted steps describing E-closure and moves on symbols...\n",
        "\n",
        "### Why did F2_I arise?\n",
        "\n",
        "...Your answer in the above-style bulletted steps describing E-closure and moves on symbols...\n"
      ]
    },
    {
      "cell_type": "markdown",
      "metadata": {
        "id": "RJXv7RK9YDJp"
      },
      "source": [
        "# Task 7: Brzozowski's minimization\n",
        "\n",
        "This is a DFA minimization algorithm that shows you that a bloated DFA can be minimized simply by following these steps, as explained in Section 7.7. In this problem, you will practice these steps on an initially bloated DFA given to you.\n",
        "\n",
        "The steps are these:\n",
        "\n",
        "1. Reverse the given DFA, say DFA_bloated, to obtain an NFA called NFA1 (use the rev_dfa function)\n",
        "\n",
        "2. Determinize NFA1 to obtain a DFA called DFA2\n",
        "\n",
        "3. Reverse DFA2 to obtain another NFA, say NFA2\n",
        "\n",
        "4. Determinize NFA2 to obtain the final minimized DFA, say DFA_min\n",
        "\n",
        "The problem asks you to apply this procedure to minimize DFA_bloated.\n",
        "\n"
      ]
    },
    {
      "cell_type": "code",
      "metadata": {
        "id": "DAvKLMvqYDJq"
      },
      "source": [
        "# This is a slight variant of Figure 6.7's bloated DFA \n",
        "\n",
        "DFA_bloated = md2mc('''\n",
        "\n",
        "DFA\n",
        "\n",
        "IS1: a -> Temp\n",
        "IS1: b -> FS3\n",
        "\n",
        "Temp: a -> FS2\n",
        "Temp: b -> FS3\n",
        "\n",
        "FS2: a -> S4\n",
        "FS2: b -> S5\n",
        "\n",
        "FS3: a -> S5\n",
        "FS3: b -> S4\n",
        "\n",
        "S4: a|b -> FS6\n",
        "S5: a|b -> FS6\n",
        "\n",
        "FS6: a|b -> FS6\n",
        "\n",
        "''')"
      ],
      "execution_count": null,
      "outputs": []
    },
    {
      "cell_type": "code",
      "metadata": {
        "id": "h0EpcVHcYDJq"
      },
      "source": [
        "dotObj_dfa(DFA_bloated)"
      ],
      "execution_count": null,
      "outputs": []
    },
    {
      "cell_type": "markdown",
      "metadata": {
        "id": "V5WZCtToYDJq"
      },
      "source": [
        "## Show the result of reversing the above DFA"
      ]
    },
    {
      "cell_type": "code",
      "metadata": {
        "id": "vQCdnlZcYDJr"
      },
      "source": [
        "help(rev_dfa)"
      ],
      "execution_count": null,
      "outputs": []
    },
    {
      "cell_type": "markdown",
      "metadata": {
        "id": "0p03DKClYDJr"
      },
      "source": [
        "### The reverse invocation"
      ]
    },
    {
      "cell_type": "code",
      "metadata": {
        "id": "iVsGq7SRYDJr"
      },
      "source": [
        "# Reverse DFA_bloated here\n",
        "\n",
        "NFA1 =  ... OBTAIN THE REVERSE OF DFA_bloated ..."
      ],
      "execution_count": null,
      "outputs": []
    },
    {
      "cell_type": "code",
      "metadata": {
        "id": "EgfGhM_VYDJs"
      },
      "source": [
        "dotObj_nfa(NFA1)"
      ],
      "execution_count": null,
      "outputs": []
    },
    {
      "cell_type": "markdown",
      "metadata": {
        "id": "tFioDUxlYDJt"
      },
      "source": [
        "## Check that NFA1 is indeed the reverse of DFA_bloated by checking one string\n",
        "\n",
        "Point out that \"aabba\" is in DFA_bloated's language but its reversal (i.e. \"abbaa\") is in NFA1's language\n",
        "\n",
        "### Which path does abbaa take in being accepted by NFA1 ?\n",
        "\n",
        ".... LIST THE PATH AS A SEQUENCE OF STATES, HERE ....\n",
        "\n",
        "* Starting from State ...\n",
        "\n",
        "* The next state after 'a' is ...\n",
        "\n",
        "* The next state after 'b' is ...\n",
        "\n",
        "* The next state after 'b' is ...\n",
        "\n",
        "* The next state after 'a' is ...\n",
        "\n",
        "* The next state after 'a' is ...  (This must be the final state!)\n"
      ]
    },
    {
      "cell_type": "markdown",
      "metadata": {
        "id": "WLWCQMsQYDJt"
      },
      "source": [
        "## Determinize NFA1 to obtain DFA2"
      ]
    },
    {
      "cell_type": "code",
      "metadata": {
        "id": "esmqnARjYDJt"
      },
      "source": [
        "help(nfa2dfa)"
      ],
      "execution_count": null,
      "outputs": []
    },
    {
      "cell_type": "code",
      "metadata": {
        "id": "o-7or_U0YDJt"
      },
      "source": [
        "DFA2 = ...DETERMINIZE NFA1 to obtain DFA2 ..."
      ],
      "execution_count": null,
      "outputs": []
    },
    {
      "cell_type": "code",
      "metadata": {
        "id": "h_njT37EYDJu"
      },
      "source": [
        "dotObj_dfa(DFA2)"
      ],
      "execution_count": null,
      "outputs": []
    },
    {
      "cell_type": "markdown",
      "metadata": {
        "id": "2rmW1zS_YDJu"
      },
      "source": [
        "## Reverse DFA2 to obtain NFA3"
      ]
    },
    {
      "cell_type": "code",
      "metadata": {
        "id": "ghxiT1gFYDJv"
      },
      "source": [
        "NFA3 = ... REVERSE DFA2 to obtain NFA3 ..."
      ],
      "execution_count": null,
      "outputs": []
    },
    {
      "cell_type": "code",
      "metadata": {
        "id": "qo-ZOq6JYDJv"
      },
      "source": [
        "dotObj_nfa(NFA3)"
      ],
      "execution_count": null,
      "outputs": []
    },
    {
      "cell_type": "markdown",
      "metadata": {
        "id": "ly33CMizYDJv"
      },
      "source": [
        "## One more determinization, and we are done minimizing\n"
      ]
    },
    {
      "cell_type": "code",
      "metadata": {
        "id": "RzVrBtKrYDJv"
      },
      "source": [
        "DFA_min = ... DETERMINIZE NFA3 and we now have DFA_min ..."
      ],
      "execution_count": null,
      "outputs": []
    },
    {
      "cell_type": "code",
      "metadata": {
        "id": "n1OtBZptYDJw"
      },
      "source": [
        "dotObj_dfa(DFA_min)"
      ],
      "execution_count": null,
      "outputs": []
    },
    {
      "cell_type": "markdown",
      "metadata": {
        "id": "Vzk3_V7wYDJw"
      },
      "source": [
        "# Check that DFA_min and DFA_bloated have the same language but are not isomorphic"
      ]
    },
    {
      "cell_type": "code",
      "metadata": {
        "id": "J8zydUgeYDJw"
      },
      "source": [
        "help(langeq_dfa)"
      ],
      "execution_count": null,
      "outputs": []
    },
    {
      "cell_type": "code",
      "metadata": {
        "id": "iJzMX93oYDJx"
      },
      "source": [
        "help(iso_dfa)"
      ],
      "execution_count": null,
      "outputs": []
    },
    {
      "cell_type": "code",
      "metadata": {
        "id": "ddo0oCNQYDJx"
      },
      "source": [
        "...SHOW THAT DFA_bloated and DFA_min HAVE THE SAME LANGUAGE ..."
      ],
      "execution_count": null,
      "outputs": []
    },
    {
      "cell_type": "code",
      "metadata": {
        "id": "Y_P0zASJYDJx"
      },
      "source": [
        "...SHOW THAT DFA_bloated and DFA_min are NOT isomorphic ..."
      ],
      "execution_count": null,
      "outputs": []
    },
    {
      "cell_type": "markdown",
      "metadata": {
        "id": "k9YNd-u_YDJx"
      },
      "source": [
        "##  But DFA_min indeed is minimal as shown by the number of states of the standard DFA min algorithm"
      ]
    },
    {
      "cell_type": "code",
      "metadata": {
        "id": "lGzjfPHqYDJy"
      },
      "source": [
        "DFA_min_alt = min_dfa(DFA_bloated)"
      ],
      "execution_count": null,
      "outputs": []
    },
    {
      "cell_type": "code",
      "metadata": {
        "id": "f1rBCaKSYDJy"
      },
      "source": [
        "dotObj_dfa(DFA_min)"
      ],
      "execution_count": null,
      "outputs": []
    },
    {
      "cell_type": "code",
      "metadata": {
        "id": "fd_IjEliYDJy"
      },
      "source": [
        "dotObj_dfa(DFA_min_alt)"
      ],
      "execution_count": null,
      "outputs": []
    },
    {
      "cell_type": "code",
      "metadata": {
        "id": "7IOsB0y-YDJy"
      },
      "source": [
        "help(iso_dfa)"
      ],
      "execution_count": null,
      "outputs": []
    },
    {
      "cell_type": "code",
      "metadata": {
        "id": "Hhz2qOxzYDJz"
      },
      "source": [
        "...SHOW THAT DFA_min and DFA_min_alt are isomorphic...\n",
        "\n"
      ],
      "execution_count": null,
      "outputs": []
    },
    {
      "cell_type": "markdown",
      "metadata": {
        "id": "TV3g8mMrYDJz"
      },
      "source": [
        "# END of demonstration that DFA minimization can be done in two different ways\n",
        "\n",
        "## Here are some notes to understand Brzozowski's method\n",
        "\n",
        "* If you are given a DFA \"D1\", a minimal DFA for \"reverse(D1)\" is obtained by \"reverse followed by determinize\"\n",
        "\n",
        "* But since we are interested in the minimal DFA for \"D1\" (and not reverse(D1)), we do these steps again!\n",
        "\n",
        "* Hence the algorithm becomes \"reverse THEN determinize THEN reverse THEN determinize\""
      ]
    }
  ]
}