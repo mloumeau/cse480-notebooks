{
  "nbformat": 4,
  "nbformat_minor": 0,
  "metadata": {
    "kernelspec": {
      "display_name": "Python 3",
      "language": "python",
      "name": "python3"
    },
    "language_info": {
      "codemirror_mode": {
        "name": "ipython",
        "version": 3
      },
      "file_extension": ".py",
      "mimetype": "text/x-python",
      "name": "python",
      "nbconvert_exporter": "python",
      "pygments_lexer": "ipython3",
      "version": "3.9.0"
    },
    "toc": {
      "colors": {
        "hover_highlight": "#DAA520",
        "running_highlight": "#FF0000",
        "selected_highlight": "#FFD700"
      },
      "moveMenuLeft": true,
      "nav_menu": {
        "height": "121px",
        "width": "252px"
      },
      "navigate_menu": true,
      "number_sections": true,
      "sideBar": true,
      "threshold": 4,
      "toc_cell": false,
      "toc_section_display": "block",
      "toc_window_display": false,
      "widenNotebook": false
    },
    "colab": {
      "name": "04_4_More_DFA_Intersection.ipynb",
      "provenance": [],
      "include_colab_link": true
    }
  },
  "cells": [
    {
      "cell_type": "markdown",
      "metadata": {
        "id": "view-in-github",
        "colab_type": "text"
      },
      "source": [
        "<a href=\"https://colab.research.google.com/github/croesusking/cse480-notebooks/blob/master/04_4_More_DFA_Intersection.ipynb\" target=\"_parent\"><img src=\"https://colab.research.google.com/assets/colab-badge.svg\" alt=\"Open In Colab\"/></a>"
      ]
    },
    {
      "cell_type": "markdown",
      "metadata": {
        "run_control": {
          "frozen": false,
          "read_only": false
        },
        "id": "4yF9FXXgTMKj"
      },
      "source": [
        "# More DFA Intersection\n",
        "The point of this is to show how human-directed layout can be visually superior to machine-directed layout."
      ]
    },
    {
      "cell_type": "code",
      "metadata": {
        "run_control": {
          "frozen": false,
          "read_only": false
        },
        "id": "0djpHp7VTMKp",
        "colab": {
          "base_uri": "https://localhost:8080/"
        },
        "outputId": "3a94f350-2970-4a5b-8d54-a2c3a23102cd"
      },
      "source": [
        "#~~~~~~~~~~~~~~~~~~~~~~~~~~~~~~~~~~~~~~~~~~~~~~~~~~~~~~~\n",
        "import sys\n",
        "\n",
        "# -- Detect if in Own Install or in Colab\n",
        "try:\n",
        "    import google.colab\n",
        "    OWN_INSTALL = False\n",
        "except:\n",
        "    OWN_INSTALL = True\n",
        "    \n",
        "if OWN_INSTALL:\n",
        "    \n",
        "  #---- Leave these definitions ON if running on laptop\n",
        "  #---- Else turn OFF by putting them between ''' ... '''\n",
        "\n",
        "  sys.path[0:0] = ['../../../../..',  '../../../../../3rdparty',  \n",
        "                   '../../../..',  '../../../../3rdparty',  \n",
        "                   '../../..',     '../../../3rdparty', \n",
        "                   '../..',        '../../3rdparty',\n",
        "                   '..',           '../3rdparty',\n",
        "                   '../Jove',      '../Jove/jove']\n",
        "\n",
        "else: # In colab\n",
        "  ! if [ ! -d Jove ]; then git clone https://github.com/ganeshutah/Jove Jove; fi\n",
        "  sys.path.append('./Jove')\n",
        "  sys.path.append('./Jove/jove')\n",
        "\n",
        "# -- common imports --\n",
        "from jove.DotBashers import *\n",
        "from jove.Def_md2mc  import *\n",
        "from jove.Def_NFA    import *\n",
        "from jove.Def_DFA    import *\n",
        "from jove.AnimateNFA import *\n",
        "#~~~~~~~~~~~~~~~~~~~~~~~~~~~~~~~~~~~~~~~~~~~~~~~~~~~~~~~"
      ],
      "execution_count": null,
      "outputs": [
        {
          "output_type": "stream",
          "text": [
            "Cloning into 'Jove'...\n",
            "remote: Enumerating objects: 4634, done.\u001b[K\n",
            "remote: Total 4634 (delta 0), reused 0 (delta 0), pack-reused 4634\u001b[K\n",
            "Receiving objects: 100% (4634/4634), 7.38 MiB | 5.22 MiB/s, done.\n",
            "Resolving deltas: 100% (3005/3005), done.\n",
            "You may use any of these help commands:\n",
            "help(ResetStNum)\n",
            "help(NxtStateStr)\n",
            "\n",
            "You may use any of these help commands:\n",
            "help(md2mc)\n",
            ".. and if you want to dig more, then ..\n",
            "help(default_line_attr)\n",
            "help(length_ok_input_items)\n",
            "help(union_line_attr_list_fld)\n",
            "help(extend_rsltdict)\n",
            "help(form_delta)\n",
            "help(get_machine_components)\n",
            "\n",
            "You may use any of these help commands:\n",
            "help(mkp_dfa)\n",
            "help(mk_dfa)\n",
            "help(totalize_dfa)\n",
            "help(addtosigma_delta)\n",
            "help(step_dfa)\n",
            "help(run_dfa)\n",
            "help(accepts_dfa)\n",
            "help(comp_dfa)\n",
            "help(union_dfa)\n",
            "help(intersect_dfa)\n",
            "help(pruneUnreach)\n",
            "help(iso_dfa)\n",
            "help(langeq_dfa)\n",
            "help(same_status)\n",
            "help(h_langeq_dfa)\n",
            "help(fixptDist)\n",
            "help(min_dfa)\n",
            "help(pairFR)\n",
            "help(state_combos)\n",
            "help(sepFinNonFin)\n",
            "help(bash_eql_classes)\n",
            "help(listminus)\n",
            "help(bash_1)\n",
            "help(mk_rep_eqc)\n",
            "help(F_of)\n",
            "help(rep_of_s)\n",
            "help(q0_of)\n",
            "help(Delta_of)\n",
            "help(mk_state_eqc_name)\n",
            "\n",
            "You may use any of these help commands:\n",
            "help(mk_nfa)\n",
            "help(totalize_nfa)\n",
            "help(step_nfa)\n",
            "help(run_nfa)\n",
            "help(ec_step_nfa)\n",
            "help(Eclosure)\n",
            "help(Echelp)\n",
            "help(accepts_nfa)\n",
            "help(nfa2dfa)\n",
            "help(n2d)\n",
            "help(inSets)\n",
            "help(rev_dfa)\n",
            "help(min_dfa_brz)\n",
            "\n",
            " \"help(AnimateNFA)\" gives you info on how to use animations with NFA \n"
          ],
          "name": "stdout"
        }
      ]
    },
    {
      "cell_type": "markdown",
      "metadata": {
        "id": "gyLDcTyxTMKq"
      },
      "source": [
        "L(dfaD1) = { w | w has exactly two 0's}"
      ]
    },
    {
      "cell_type": "code",
      "metadata": {
        "id": "BdYEE1LxTMKr",
        "colab": {
          "base_uri": "https://localhost:8080/"
        },
        "outputId": "f5612008-09ee-4ade-8657-f2caee1c0a6f"
      },
      "source": [
        "dfaD1 = md2mc('''\n",
        "  DFA\n",
        "  I : 0 -> S1\n",
        "  I : 1 -> I\n",
        "  S1: 0 -> F\n",
        "  S1: 1 -> S1\n",
        "  F : 0 -> S2\n",
        "  F : 1 -> F\n",
        "  S2: 0|1 -> S2\n",
        "''')"
      ],
      "execution_count": null,
      "outputs": [
        {
          "output_type": "stream",
          "text": [
            "Generating LALR tables\n"
          ],
          "name": "stderr"
        }
      ]
    },
    {
      "cell_type": "code",
      "metadata": {
        "id": "bGkaX-QOTMKr",
        "colab": {
          "base_uri": "https://localhost:8080/",
          "height": 153
        },
        "outputId": "2d991e48-342f-45de-b586-e7bf2320be9e"
      },
      "source": [
        "dotObj_dfa(dfaD1, FuseEdges=True)"
      ],
      "execution_count": null,
      "outputs": [
        {
          "output_type": "execute_result",
          "data": {
            "text/plain": [
              "<graphviz.dot.Digraph at 0x7fa256c059b0>"
            ],
            "image/svg+xml": "<?xml version=\"1.0\" encoding=\"UTF-8\" standalone=\"no\"?>\n<!DOCTYPE svg PUBLIC \"-//W3C//DTD SVG 1.1//EN\"\n \"http://www.w3.org/Graphics/SVG/1.1/DTD/svg11.dtd\">\n<!-- Generated by graphviz version 2.40.1 (20161225.0304)\n -->\n<!-- Title: %3 Pages: 1 -->\n<svg width=\"406pt\" height=\"99pt\"\n viewBox=\"0.00 0.00 406.19 98.80\" xmlns=\"http://www.w3.org/2000/svg\" xmlns:xlink=\"http://www.w3.org/1999/xlink\">\n<g id=\"graph0\" class=\"graph\" transform=\"scale(1 1) rotate(0) translate(4 94.7982)\">\n<title>%3</title>\n<polygon fill=\"#ffffff\" stroke=\"transparent\" points=\"-4,4 -4,-94.7982 402.1926,-94.7982 402.1926,4 -4,4\"/>\n<!-- EMPTY -->\n<g id=\"node1\" class=\"node\">\n<title>EMPTY</title>\n</g>\n<!-- I -->\n<g id=\"node2\" class=\"node\">\n<title>I</title>\n<ellipse fill=\"none\" stroke=\"#000000\" cx=\"109\" cy=\"-22\" rx=\"18\" ry=\"18\"/>\n<text text-anchor=\"middle\" x=\"109\" y=\"-18.3\" font-family=\"Times,serif\" font-size=\"14.00\" fill=\"#000000\">I</text>\n</g>\n<!-- EMPTY&#45;&gt;I -->\n<g id=\"edge1\" class=\"edge\">\n<title>EMPTY&#45;&gt;I</title>\n<path fill=\"none\" stroke=\"#000000\" d=\"M54.3048,-22C62.6909,-22 71.9407,-22 80.4103,-22\"/>\n<polygon fill=\"#000000\" stroke=\"#000000\" points=\"80.5976,-25.5001 90.5976,-22 80.5976,-18.5001 80.5976,-25.5001\"/>\n</g>\n<!-- I&#45;&gt;I -->\n<g id=\"edge3\" class=\"edge\">\n<title>I&#45;&gt;I</title>\n<path fill=\"none\" stroke=\"#000000\" d=\"M102.6208,-39.0373C101.3189,-48.8579 103.4453,-58 109,-58 112.4717,-58 114.6042,-54.4289 115.3975,-49.3529\"/>\n<polygon fill=\"#000000\" stroke=\"#000000\" points=\"118.8971,-49.031 115.3792,-39.0373 111.8971,-49.0435 118.8971,-49.031\"/>\n<text text-anchor=\"middle\" x=\"109\" y=\"-61.8\" font-family=\"Times,serif\" font-size=\"14.00\" fill=\"#000000\">1 </text>\n</g>\n<!-- S1 -->\n<g id=\"node3\" class=\"node\">\n<title>S1</title>\n<ellipse fill=\"none\" stroke=\"#000000\" cx=\"195.7982\" cy=\"-22\" rx=\"20.5982\" ry=\"20.5982\"/>\n<text text-anchor=\"middle\" x=\"195.7982\" y=\"-18.3\" font-family=\"Times,serif\" font-size=\"14.00\" fill=\"#000000\">S1</text>\n</g>\n<!-- I&#45;&gt;S1 -->\n<g id=\"edge2\" class=\"edge\">\n<title>I&#45;&gt;S1</title>\n<path fill=\"none\" stroke=\"#000000\" d=\"M127.4077,-22C138.2934,-22 152.3613,-22 164.9052,-22\"/>\n<polygon fill=\"#000000\" stroke=\"#000000\" points=\"164.9803,-25.5001 174.9802,-22 164.9802,-18.5001 164.9803,-25.5001\"/>\n<text text-anchor=\"middle\" x=\"151\" y=\"-25.8\" font-family=\"Times,serif\" font-size=\"14.00\" fill=\"#000000\">0 </text>\n</g>\n<!-- S1&#45;&gt;S1 -->\n<g id=\"edge5\" class=\"edge\">\n<title>S1&#45;&gt;S1</title>\n<path fill=\"none\" stroke=\"#000000\" d=\"M187.8382,-41.5637C186.6136,-51.6796 189.2669,-60.7982 195.7982,-60.7982 199.9822,-60.7982 202.5748,-57.0559 203.5759,-51.7065\"/>\n<polygon fill=\"#000000\" stroke=\"#000000\" points=\"207.0778,-51.6249 203.7581,-41.5637 200.079,-51.4991 207.0778,-51.6249\"/>\n<text text-anchor=\"middle\" x=\"195.7982\" y=\"-64.5982\" font-family=\"Times,serif\" font-size=\"14.00\" fill=\"#000000\">1 </text>\n</g>\n<!-- F -->\n<g id=\"node5\" class=\"node\">\n<title>F</title>\n<ellipse fill=\"none\" stroke=\"#000000\" cx=\"286.5963\" cy=\"-22\" rx=\"18\" ry=\"18\"/>\n<ellipse fill=\"none\" stroke=\"#000000\" cx=\"286.5963\" cy=\"-22\" rx=\"22\" ry=\"22\"/>\n<text text-anchor=\"middle\" x=\"286.5963\" y=\"-18.3\" font-family=\"Times,serif\" font-size=\"14.00\" fill=\"#000000\">F</text>\n</g>\n<!-- S1&#45;&gt;F -->\n<g id=\"edge4\" class=\"edge\">\n<title>S1&#45;&gt;F</title>\n<path fill=\"none\" stroke=\"#000000\" d=\"M216.8573,-22C227.9898,-22 241.8945,-22 254.3526,-22\"/>\n<polygon fill=\"#000000\" stroke=\"#000000\" points=\"254.3846,-25.5001 264.3846,-22 254.3845,-18.5001 254.3846,-25.5001\"/>\n<text text-anchor=\"middle\" x=\"240.5963\" y=\"-25.8\" font-family=\"Times,serif\" font-size=\"14.00\" fill=\"#000000\">0 </text>\n</g>\n<!-- S2 -->\n<g id=\"node4\" class=\"node\">\n<title>S2</title>\n<ellipse fill=\"none\" stroke=\"#000000\" cx=\"377.3945\" cy=\"-22\" rx=\"20.5982\" ry=\"20.5982\"/>\n<text text-anchor=\"middle\" x=\"377.3945\" y=\"-18.3\" font-family=\"Times,serif\" font-size=\"14.00\" fill=\"#000000\">S2</text>\n</g>\n<!-- S2&#45;&gt;S2 -->\n<g id=\"edge8\" class=\"edge\">\n<title>S2&#45;&gt;S2</title>\n<path fill=\"none\" stroke=\"#000000\" d=\"M369.4345,-41.5637C368.2099,-51.6796 370.8632,-60.7982 377.3945,-60.7982 381.5785,-60.7982 384.1711,-57.0559 385.1722,-51.7065\"/>\n<polygon fill=\"#000000\" stroke=\"#000000\" points=\"388.6741,-51.6249 385.3544,-41.5637 381.6753,-51.4991 388.6741,-51.6249\"/>\n<text text-anchor=\"middle\" x=\"377.3945\" y=\"-79.5982\" font-family=\"Times,serif\" font-size=\"14.00\" fill=\"#000000\">1 </text>\n<text text-anchor=\"middle\" x=\"377.3945\" y=\"-64.5982\" font-family=\"Times,serif\" font-size=\"14.00\" fill=\"#000000\"> 0 </text>\n</g>\n<!-- F&#45;&gt;S2 -->\n<g id=\"edge6\" class=\"edge\">\n<title>F&#45;&gt;S2</title>\n<path fill=\"none\" stroke=\"#000000\" d=\"M309.0408,-22C320.2512,-22 333.9957,-22 346.2125,-22\"/>\n<polygon fill=\"#000000\" stroke=\"#000000\" points=\"346.4531,-25.5001 356.4531,-22 346.4531,-18.5001 346.4531,-25.5001\"/>\n<text text-anchor=\"middle\" x=\"332.5963\" y=\"-25.8\" font-family=\"Times,serif\" font-size=\"14.00\" fill=\"#000000\">0 </text>\n</g>\n<!-- F&#45;&gt;F -->\n<g id=\"edge7\" class=\"edge\">\n<title>F&#45;&gt;F</title>\n<path fill=\"none\" stroke=\"#000000\" d=\"M278.2261,-42.5808C277.068,-52.8447 279.858,-62 286.5963,-62 290.913,-62 293.6094,-58.2427 294.6854,-52.8436\"/>\n<polygon fill=\"#000000\" stroke=\"#000000\" points=\"298.1913,-52.6729 294.9665,-42.5808 291.1939,-52.4812 298.1913,-52.6729\"/>\n<text text-anchor=\"middle\" x=\"286.5963\" y=\"-65.8\" font-family=\"Times,serif\" font-size=\"14.00\" fill=\"#000000\">1 </text>\n</g>\n</g>\n</svg>\n"
          },
          "metadata": {
            "tags": []
          },
          "execution_count": 3
        }
      ]
    },
    {
      "cell_type": "markdown",
      "metadata": {
        "id": "eaStphtdTMKt"
      },
      "source": [
        "L(dfaD2) = { w | w has at least two 1's}"
      ]
    },
    {
      "cell_type": "code",
      "metadata": {
        "id": "XsSffq0oTMKu"
      },
      "source": [
        "dfaD2 = md2mc('''\n",
        "  DFA\n",
        "  I : 0 -> I\n",
        "  I : 1 -> S1\n",
        "  S1: 0 -> S1\n",
        "  S1: 1 -> F\n",
        "  F : 0|1 -> F\n",
        "''')"
      ],
      "execution_count": null,
      "outputs": []
    },
    {
      "cell_type": "code",
      "metadata": {
        "id": "klpAQXwnTMKu",
        "colab": {
          "base_uri": "https://localhost:8080/",
          "height": 154
        },
        "outputId": "fb009ef2-bb0d-4a2e-beff-a5120799fef2"
      },
      "source": [
        "dotObj_dfa(dfaD2, FuseEdges=True)"
      ],
      "execution_count": null,
      "outputs": [
        {
          "output_type": "execute_result",
          "data": {
            "text/plain": [
              "<graphviz.dot.Digraph at 0x7fa256850cf8>"
            ],
            "image/svg+xml": "<?xml version=\"1.0\" encoding=\"UTF-8\" standalone=\"no\"?>\n<!DOCTYPE svg PUBLIC \"-//W3C//DTD SVG 1.1//EN\"\n \"http://www.w3.org/Graphics/SVG/1.1/DTD/svg11.dtd\">\n<!-- Generated by graphviz version 2.40.1 (20161225.0304)\n -->\n<!-- Title: %3 Pages: 1 -->\n<svg width=\"317pt\" height=\"100pt\"\n viewBox=\"0.00 0.00 316.60 100.00\" xmlns=\"http://www.w3.org/2000/svg\" xmlns:xlink=\"http://www.w3.org/1999/xlink\">\n<g id=\"graph0\" class=\"graph\" transform=\"scale(1 1) rotate(0) translate(4 96)\">\n<title>%3</title>\n<polygon fill=\"#ffffff\" stroke=\"transparent\" points=\"-4,4 -4,-96 312.5963,-96 312.5963,4 -4,4\"/>\n<!-- EMPTY -->\n<g id=\"node1\" class=\"node\">\n<title>EMPTY</title>\n</g>\n<!-- I -->\n<g id=\"node2\" class=\"node\">\n<title>I</title>\n<ellipse fill=\"none\" stroke=\"#000000\" cx=\"109\" cy=\"-22\" rx=\"18\" ry=\"18\"/>\n<text text-anchor=\"middle\" x=\"109\" y=\"-18.3\" font-family=\"Times,serif\" font-size=\"14.00\" fill=\"#000000\">I</text>\n</g>\n<!-- EMPTY&#45;&gt;I -->\n<g id=\"edge1\" class=\"edge\">\n<title>EMPTY&#45;&gt;I</title>\n<path fill=\"none\" stroke=\"#000000\" d=\"M54.3048,-22C62.6909,-22 71.9407,-22 80.4103,-22\"/>\n<polygon fill=\"#000000\" stroke=\"#000000\" points=\"80.5976,-25.5001 90.5976,-22 80.5976,-18.5001 80.5976,-25.5001\"/>\n</g>\n<!-- I&#45;&gt;I -->\n<g id=\"edge2\" class=\"edge\">\n<title>I&#45;&gt;I</title>\n<path fill=\"none\" stroke=\"#000000\" d=\"M102.6208,-39.0373C101.3189,-48.8579 103.4453,-58 109,-58 112.4717,-58 114.6042,-54.4289 115.3975,-49.3529\"/>\n<polygon fill=\"#000000\" stroke=\"#000000\" points=\"118.8971,-49.031 115.3792,-39.0373 111.8971,-49.0435 118.8971,-49.031\"/>\n<text text-anchor=\"middle\" x=\"109\" y=\"-61.8\" font-family=\"Times,serif\" font-size=\"14.00\" fill=\"#000000\">0 </text>\n</g>\n<!-- S1 -->\n<g id=\"node3\" class=\"node\">\n<title>S1</title>\n<ellipse fill=\"none\" stroke=\"#000000\" cx=\"195.7982\" cy=\"-22\" rx=\"20.5982\" ry=\"20.5982\"/>\n<text text-anchor=\"middle\" x=\"195.7982\" y=\"-18.3\" font-family=\"Times,serif\" font-size=\"14.00\" fill=\"#000000\">S1</text>\n</g>\n<!-- I&#45;&gt;S1 -->\n<g id=\"edge3\" class=\"edge\">\n<title>I&#45;&gt;S1</title>\n<path fill=\"none\" stroke=\"#000000\" d=\"M127.4077,-22C138.2934,-22 152.3613,-22 164.9052,-22\"/>\n<polygon fill=\"#000000\" stroke=\"#000000\" points=\"164.9803,-25.5001 174.9802,-22 164.9802,-18.5001 164.9803,-25.5001\"/>\n<text text-anchor=\"middle\" x=\"151\" y=\"-25.8\" font-family=\"Times,serif\" font-size=\"14.00\" fill=\"#000000\">1 </text>\n</g>\n<!-- S1&#45;&gt;S1 -->\n<g id=\"edge4\" class=\"edge\">\n<title>S1&#45;&gt;S1</title>\n<path fill=\"none\" stroke=\"#000000\" d=\"M187.8382,-41.5637C186.6136,-51.6796 189.2669,-60.7982 195.7982,-60.7982 199.9822,-60.7982 202.5748,-57.0559 203.5759,-51.7065\"/>\n<polygon fill=\"#000000\" stroke=\"#000000\" points=\"207.0778,-51.6249 203.7581,-41.5637 200.079,-51.4991 207.0778,-51.6249\"/>\n<text text-anchor=\"middle\" x=\"195.7982\" y=\"-64.5982\" font-family=\"Times,serif\" font-size=\"14.00\" fill=\"#000000\">0 </text>\n</g>\n<!-- F -->\n<g id=\"node4\" class=\"node\">\n<title>F</title>\n<ellipse fill=\"none\" stroke=\"#000000\" cx=\"286.5963\" cy=\"-22\" rx=\"18\" ry=\"18\"/>\n<ellipse fill=\"none\" stroke=\"#000000\" cx=\"286.5963\" cy=\"-22\" rx=\"22\" ry=\"22\"/>\n<text text-anchor=\"middle\" x=\"286.5963\" y=\"-18.3\" font-family=\"Times,serif\" font-size=\"14.00\" fill=\"#000000\">F</text>\n</g>\n<!-- S1&#45;&gt;F -->\n<g id=\"edge5\" class=\"edge\">\n<title>S1&#45;&gt;F</title>\n<path fill=\"none\" stroke=\"#000000\" d=\"M216.8573,-22C227.9898,-22 241.8945,-22 254.3526,-22\"/>\n<polygon fill=\"#000000\" stroke=\"#000000\" points=\"254.3846,-25.5001 264.3846,-22 254.3845,-18.5001 254.3846,-25.5001\"/>\n<text text-anchor=\"middle\" x=\"240.5963\" y=\"-25.8\" font-family=\"Times,serif\" font-size=\"14.00\" fill=\"#000000\">1 </text>\n</g>\n<!-- F&#45;&gt;F -->\n<g id=\"edge6\" class=\"edge\">\n<title>F&#45;&gt;F</title>\n<path fill=\"none\" stroke=\"#000000\" d=\"M278.2261,-42.5808C277.068,-52.8447 279.858,-62 286.5963,-62 290.913,-62 293.6094,-58.2427 294.6854,-52.8436\"/>\n<polygon fill=\"#000000\" stroke=\"#000000\" points=\"298.1913,-52.6729 294.9665,-42.5808 291.1939,-52.4812 298.1913,-52.6729\"/>\n<text text-anchor=\"middle\" x=\"286.5963\" y=\"-80.8\" font-family=\"Times,serif\" font-size=\"14.00\" fill=\"#000000\">1 </text>\n<text text-anchor=\"middle\" x=\"286.5963\" y=\"-65.8\" font-family=\"Times,serif\" font-size=\"14.00\" fill=\"#000000\"> 0 </text>\n</g>\n</g>\n</svg>\n"
          },
          "metadata": {
            "tags": []
          },
          "execution_count": 5
        }
      ]
    },
    {
      "cell_type": "code",
      "metadata": {
        "id": "kkIa1wc4TMKv"
      },
      "source": [
        "dfaD3 = intersect_dfa(dfaD1, dfaD2)"
      ],
      "execution_count": null,
      "outputs": []
    },
    {
      "cell_type": "code",
      "metadata": {
        "id": "fgNDUsp8TMKv",
        "colab": {
          "base_uri": "https://localhost:8080/"
        },
        "outputId": "5bcf0d17-2fb3-4eab-8de2-97490127396e"
      },
      "source": [
        "len(dfaD3[\"Q\"])"
      ],
      "execution_count": null,
      "outputs": [
        {
          "output_type": "execute_result",
          "data": {
            "text/plain": [
              "12"
            ]
          },
          "metadata": {
            "tags": []
          },
          "execution_count": 7
        }
      ]
    },
    {
      "cell_type": "code",
      "metadata": {
        "id": "GgWSRGLgTMKx",
        "colab": {
          "base_uri": "https://localhost:8080/",
          "height": 456
        },
        "outputId": "0f34633d-7597-42eb-c096-5de26f34c412"
      },
      "source": [
        "dotObj_dfa(dfaD3, FuseEdges=True)"
      ],
      "execution_count": null,
      "outputs": [
        {
          "output_type": "execute_result",
          "data": {
            "text/plain": [
              "<graphviz.dot.Digraph at 0x7fa257b06cf8>"
            ],
            "image/svg+xml": "<?xml version=\"1.0\" encoding=\"UTF-8\" standalone=\"no\"?>\n<!DOCTYPE svg PUBLIC \"-//W3C//DTD SVG 1.1//EN\"\n \"http://www.w3.org/Graphics/SVG/1.1/DTD/svg11.dtd\">\n<!-- Generated by graphviz version 2.40.1 (20161225.0304)\n -->\n<!-- Title: %3 Pages: 1 -->\n<svg width=\"780pt\" height=\"326pt\"\n viewBox=\"0.00 0.00 779.66 326.49\" xmlns=\"http://www.w3.org/2000/svg\" xmlns:xlink=\"http://www.w3.org/1999/xlink\">\n<g id=\"graph0\" class=\"graph\" transform=\"scale(1 1) rotate(0) translate(4 322.4937)\">\n<title>%3</title>\n<polygon fill=\"#ffffff\" stroke=\"transparent\" points=\"-4,4 -4,-322.4937 775.6609,-322.4937 775.6609,4 -4,4\"/>\n<!-- EMPTY -->\n<g id=\"node1\" class=\"node\">\n<title>EMPTY</title>\n</g>\n<!-- \\(I_I\\) -->\n<g id=\"node10\" class=\"node\">\n<title>\\(I_I\\)</title>\n<ellipse fill=\"none\" stroke=\"#000000\" cx=\"118.2976\" cy=\"-135.0467\" rx=\"27.0966\" ry=\"27.0966\"/>\n<text text-anchor=\"middle\" x=\"118.2976\" y=\"-131.3467\" font-family=\"Times,serif\" font-size=\"14.00\" fill=\"#000000\">(I_I)</text>\n</g>\n<!-- EMPTY&#45;&gt;\\(I_I\\) -->\n<g id=\"edge1\" class=\"edge\">\n<title>EMPTY&#45;&gt;\\(I_I\\)</title>\n<path fill=\"none\" stroke=\"#000000\" d=\"M54.3923,-135.0467C62.6976,-135.0467 71.9683,-135.0467 80.8159,-135.0467\"/>\n<polygon fill=\"#000000\" stroke=\"#000000\" points=\"80.9247,-138.5468 90.9246,-135.0467 80.9246,-131.5468 80.9247,-138.5468\"/>\n</g>\n<!-- \\(S2_F\\) -->\n<g id=\"node2\" class=\"node\">\n<title>\\(S2_F\\)</title>\n<ellipse fill=\"none\" stroke=\"#000000\" cx=\"734.6142\" cy=\"-141.0467\" rx=\"37.0935\" ry=\"37.0935\"/>\n<text text-anchor=\"middle\" x=\"734.6142\" y=\"-137.3467\" font-family=\"Times,serif\" font-size=\"14.00\" fill=\"#000000\">(S2_F)</text>\n</g>\n<!-- \\(S2_F\\)&#45;&gt;\\(S2_F\\) -->\n<g id=\"edge19\" class=\"edge\">\n<title>\\(S2_F\\)&#45;&gt;\\(S2_F\\)</title>\n<path fill=\"none\" stroke=\"#000000\" d=\"M723.3752,-176.5191C723.6022,-187.4834 727.3486,-196.0934 734.6142,-196.0934 739.3823,-196.0934 742.6347,-192.3854 744.3715,-186.7374\"/>\n<polygon fill=\"#000000\" stroke=\"#000000\" points=\"747.8818,-186.9179 745.8532,-176.5191 740.9543,-185.9133 747.8818,-186.9179\"/>\n<text text-anchor=\"middle\" x=\"734.6142\" y=\"-214.8934\" font-family=\"Times,serif\" font-size=\"14.00\" fill=\"#000000\">1 </text>\n<text text-anchor=\"middle\" x=\"734.6142\" y=\"-199.8934\" font-family=\"Times,serif\" font-size=\"14.00\" fill=\"#000000\"> 0 </text>\n</g>\n<!-- \\(S1_I\\) -->\n<g id=\"node3\" class=\"node\">\n<title>\\(S1_I\\)</title>\n<ellipse fill=\"none\" stroke=\"#000000\" cx=\"228.0421\" cy=\"-179.0467\" rx=\"34.394\" ry=\"34.394\"/>\n<text text-anchor=\"middle\" x=\"228.0421\" y=\"-175.3467\" font-family=\"Times,serif\" font-size=\"14.00\" fill=\"#000000\">(S1_I)</text>\n</g>\n<!-- \\(F_I\\) -->\n<g id=\"node4\" class=\"node\">\n<title>\\(F_I\\)</title>\n<ellipse fill=\"none\" stroke=\"#000000\" cx=\"352.7353\" cy=\"-250.0467\" rx=\"29.795\" ry=\"29.795\"/>\n<text text-anchor=\"middle\" x=\"352.7353\" y=\"-246.3467\" font-family=\"Times,serif\" font-size=\"14.00\" fill=\"#000000\">(F_I)</text>\n</g>\n<!-- \\(S1_I\\)&#45;&gt;\\(F_I\\) -->\n<g id=\"edge3\" class=\"edge\">\n<title>\\(S1_I\\)&#45;&gt;\\(F_I\\)</title>\n<path fill=\"none\" stroke=\"#000000\" d=\"M258.2268,-196.2338C276.1897,-206.4619 299.0575,-219.4827 317.7993,-230.1542\"/>\n<polygon fill=\"#000000\" stroke=\"#000000\" points=\"316.2069,-233.2751 326.6287,-235.1817 319.6705,-227.1921 316.2069,-233.2751\"/>\n<text text-anchor=\"middle\" x=\"286.489\" y=\"-217.8467\" font-family=\"Times,serif\" font-size=\"14.00\" fill=\"#000000\">0 </text>\n</g>\n<!-- \\(S1_S1\\) -->\n<g id=\"node5\" class=\"node\">\n<title>\\(S1_S1\\)</title>\n<ellipse fill=\"none\" stroke=\"#000000\" cx=\"352.7353\" cy=\"-160.0467\" rx=\"42.4939\" ry=\"42.4939\"/>\n<text text-anchor=\"middle\" x=\"352.7353\" y=\"-156.3467\" font-family=\"Times,serif\" font-size=\"14.00\" fill=\"#000000\">(S1_S1)</text>\n</g>\n<!-- \\(S1_I\\)&#45;&gt;\\(S1_S1\\) -->\n<g id=\"edge2\" class=\"edge\">\n<title>\\(S1_I\\)&#45;&gt;\\(S1_S1\\)</title>\n<path fill=\"none\" stroke=\"#000000\" d=\"M262.1151,-173.8549C273.9498,-172.0516 287.509,-169.9855 300.4709,-168.0104\"/>\n<polygon fill=\"#000000\" stroke=\"#000000\" points=\"301.3351,-171.4193 310.6937,-166.4528 300.2806,-164.4991 301.3351,-171.4193\"/>\n<text text-anchor=\"middle\" x=\"286.489\" y=\"-174.8467\" font-family=\"Times,serif\" font-size=\"14.00\" fill=\"#000000\">1 </text>\n</g>\n<!-- \\(F_S1\\) -->\n<g id=\"node6\" class=\"node\">\n<title>\\(F_S1\\)</title>\n<ellipse fill=\"none\" stroke=\"#000000\" cx=\"480.0283\" cy=\"-162.0467\" rx=\"37.0935\" ry=\"37.0935\"/>\n<text text-anchor=\"middle\" x=\"480.0283\" y=\"-158.3467\" font-family=\"Times,serif\" font-size=\"14.00\" fill=\"#000000\">(F_S1)</text>\n</g>\n<!-- \\(F_I\\)&#45;&gt;\\(F_S1\\) -->\n<g id=\"edge14\" class=\"edge\">\n<title>\\(F_I\\)&#45;&gt;\\(F_S1\\)</title>\n<path fill=\"none\" stroke=\"#000000\" d=\"M377.5808,-232.8705C395.6408,-220.3854 420.4407,-203.2407 441.1165,-188.9471\"/>\n<polygon fill=\"#000000\" stroke=\"#000000\" points=\"443.1638,-191.7868 449.3992,-183.2211 439.1832,-186.0288 443.1638,-191.7868\"/>\n<text text-anchor=\"middle\" x=\"418.9815\" y=\"-209.8467\" font-family=\"Times,serif\" font-size=\"14.00\" fill=\"#000000\">1 </text>\n</g>\n<!-- \\(S2_I\\) -->\n<g id=\"node12\" class=\"node\">\n<title>\\(S2_I\\)</title>\n<ellipse fill=\"none\" stroke=\"#000000\" cx=\"480.0283\" cy=\"-251.0467\" rx=\"34.394\" ry=\"34.394\"/>\n<text text-anchor=\"middle\" x=\"480.0283\" y=\"-247.3467\" font-family=\"Times,serif\" font-size=\"14.00\" fill=\"#000000\">(S2_I)</text>\n</g>\n<!-- \\(F_I\\)&#45;&gt;\\(S2_I\\) -->\n<g id=\"edge17\" class=\"edge\">\n<title>\\(F_I\\)&#45;&gt;\\(S2_I\\)</title>\n<path fill=\"none\" stroke=\"#000000\" d=\"M382.9019,-250.2837C398.4882,-250.4061 417.8192,-250.558 435.1215,-250.6939\"/>\n<polygon fill=\"#000000\" stroke=\"#000000\" points=\"435.5537,-254.1973 445.5809,-250.7761 435.6088,-247.1976 435.5537,-254.1973\"/>\n<text text-anchor=\"middle\" x=\"418.9815\" y=\"-253.8467\" font-family=\"Times,serif\" font-size=\"14.00\" fill=\"#000000\">0 </text>\n</g>\n<!-- \\(S1_S1\\)&#45;&gt;\\(F_S1\\) -->\n<g id=\"edge8\" class=\"edge\">\n<title>\\(S1_S1\\)&#45;&gt;\\(F_S1\\)</title>\n<path fill=\"none\" stroke=\"#000000\" d=\"M395.122,-160.7127C407.2136,-160.9027 420.4617,-161.1108 432.8219,-161.305\"/>\n<polygon fill=\"#000000\" stroke=\"#000000\" points=\"432.8968,-164.8065 442.9506,-161.4642 433.0069,-157.8074 432.8968,-164.8065\"/>\n<text text-anchor=\"middle\" x=\"418.9815\" y=\"-165.8467\" font-family=\"Times,serif\" font-size=\"14.00\" fill=\"#000000\">0 </text>\n</g>\n<!-- \\(S1_F\\) -->\n<g id=\"node7\" class=\"node\">\n<title>\\(S1_F\\)</title>\n<ellipse fill=\"none\" stroke=\"#000000\" cx=\"480.0283\" cy=\"-37.0467\" rx=\"37.0935\" ry=\"37.0935\"/>\n<text text-anchor=\"middle\" x=\"480.0283\" y=\"-33.3467\" font-family=\"Times,serif\" font-size=\"14.00\" fill=\"#000000\">(S1_F)</text>\n</g>\n<!-- \\(S1_S1\\)&#45;&gt;\\(S1_F\\) -->\n<g id=\"edge21\" class=\"edge\">\n<title>\\(S1_S1\\)&#45;&gt;\\(S1_F\\)</title>\n<path fill=\"none\" stroke=\"#000000\" d=\"M383.2251,-130.5851C402.1388,-112.3093 426.4724,-88.7964 446.0107,-69.917\"/>\n<polygon fill=\"#000000\" stroke=\"#000000\" points=\"448.4836,-72.3945 453.2428,-62.9288 443.6195,-67.3606 448.4836,-72.3945\"/>\n<text text-anchor=\"middle\" x=\"418.9815\" y=\"-102.8467\" font-family=\"Times,serif\" font-size=\"14.00\" fill=\"#000000\">1 </text>\n</g>\n<!-- \\(S2_S1\\) -->\n<g id=\"node11\" class=\"node\">\n<title>\\(S2_S1\\)</title>\n<ellipse fill=\"none\" stroke=\"#000000\" cx=\"607.3212\" cy=\"-206.0467\" rx=\"42.4939\" ry=\"42.4939\"/>\n<text text-anchor=\"middle\" x=\"607.3212\" y=\"-202.3467\" font-family=\"Times,serif\" font-size=\"14.00\" fill=\"#000000\">(S2_S1)</text>\n</g>\n<!-- \\(F_S1\\)&#45;&gt;\\(S2_S1\\) -->\n<g id=\"edge13\" class=\"edge\">\n<title>\\(F_S1\\)&#45;&gt;\\(S2_S1\\)</title>\n<path fill=\"none\" stroke=\"#000000\" d=\"M515.1486,-174.1864C528.3028,-178.7332 543.5066,-183.9886 557.7257,-188.9036\"/>\n<polygon fill=\"#000000\" stroke=\"#000000\" points=\"556.7803,-192.2799 567.3751,-192.239 559.0672,-185.664 556.7803,-192.2799\"/>\n<text text-anchor=\"middle\" x=\"541.075\" y=\"-187.8467\" font-family=\"Times,serif\" font-size=\"14.00\" fill=\"#000000\">0 </text>\n</g>\n<!-- \\(F_F\\) -->\n<g id=\"node13\" class=\"node\">\n<title>\\(F_F\\)</title>\n<ellipse fill=\"none\" stroke=\"#000000\" cx=\"607.3212\" cy=\"-76.0467\" rx=\"32.4945\" ry=\"32.4945\"/>\n<ellipse fill=\"none\" stroke=\"#000000\" cx=\"607.3212\" cy=\"-76.0467\" rx=\"36.4942\" ry=\"36.4942\"/>\n<text text-anchor=\"middle\" x=\"607.3212\" y=\"-72.3467\" font-family=\"Times,serif\" font-size=\"14.00\" fill=\"#000000\">(F_F)</text>\n</g>\n<!-- \\(F_S1\\)&#45;&gt;\\(F_F\\) -->\n<g id=\"edge20\" class=\"edge\">\n<title>\\(F_S1\\)&#45;&gt;\\(F_F\\)</title>\n<path fill=\"none\" stroke=\"#000000\" d=\"M510.8423,-141.2285C528.1197,-129.5558 549.8421,-114.88 568.2985,-102.4108\"/>\n<polygon fill=\"#000000\" stroke=\"#000000\" points=\"570.4641,-105.1716 576.7909,-96.6732 566.5454,-99.3713 570.4641,-105.1716\"/>\n<text text-anchor=\"middle\" x=\"541.075\" y=\"-128.8467\" font-family=\"Times,serif\" font-size=\"14.00\" fill=\"#000000\">1 </text>\n</g>\n<!-- \\(S1_F\\)&#45;&gt;\\(S1_F\\) -->\n<g id=\"edge18\" class=\"edge\">\n<title>\\(S1_F\\)&#45;&gt;\\(S1_F\\)</title>\n<path fill=\"none\" stroke=\"#000000\" d=\"M468.7892,-72.5191C469.0163,-83.4834 472.7626,-92.0934 480.0283,-92.0934 484.7963,-92.0934 488.0488,-88.3854 489.7856,-82.7374\"/>\n<polygon fill=\"#000000\" stroke=\"#000000\" points=\"493.2959,-82.9179 491.2673,-72.5191 486.3684,-81.9133 493.2959,-82.9179\"/>\n<text text-anchor=\"middle\" x=\"480.0283\" y=\"-95.8934\" font-family=\"Times,serif\" font-size=\"14.00\" fill=\"#000000\">1 </text>\n</g>\n<!-- \\(S1_F\\)&#45;&gt;\\(F_F\\) -->\n<g id=\"edge9\" class=\"edge\">\n<title>\\(S1_F\\)&#45;&gt;\\(F_F\\)</title>\n<path fill=\"none\" stroke=\"#000000\" d=\"M515.4864,-47.9104C529.9694,-52.3477 546.8928,-57.5327 562.2383,-62.2342\"/>\n<polygon fill=\"#000000\" stroke=\"#000000\" points=\"561.4666,-65.6583 572.0532,-65.2413 563.5172,-58.9654 561.4666,-65.6583\"/>\n<text text-anchor=\"middle\" x=\"541.075\" y=\"-60.8467\" font-family=\"Times,serif\" font-size=\"14.00\" fill=\"#000000\">0 </text>\n</g>\n<!-- \\(I_F\\) -->\n<g id=\"node8\" class=\"node\">\n<title>\\(I_F\\)</title>\n<ellipse fill=\"none\" stroke=\"#000000\" cx=\"352.7353\" cy=\"-37.0467\" rx=\"29.795\" ry=\"29.795\"/>\n<text text-anchor=\"middle\" x=\"352.7353\" y=\"-33.3467\" font-family=\"Times,serif\" font-size=\"14.00\" fill=\"#000000\">(I_F)</text>\n</g>\n<!-- \\(I_F\\)&#45;&gt;\\(S1_F\\) -->\n<g id=\"edge6\" class=\"edge\">\n<title>\\(I_F\\)&#45;&gt;\\(S1_F\\)</title>\n<path fill=\"none\" stroke=\"#000000\" d=\"M382.9019,-37.0467C397.7576,-37.0467 416.0151,-37.0467 432.6756,-37.0467\"/>\n<polygon fill=\"#000000\" stroke=\"#000000\" points=\"432.7981,-40.5468 442.7981,-37.0467 432.798,-33.5468 432.7981,-40.5468\"/>\n<text text-anchor=\"middle\" x=\"418.9815\" y=\"-40.8467\" font-family=\"Times,serif\" font-size=\"14.00\" fill=\"#000000\">0 </text>\n</g>\n<!-- \\(I_F\\)&#45;&gt;\\(I_F\\) -->\n<g id=\"edge23\" class=\"edge\">\n<title>\\(I_F\\)&#45;&gt;\\(I_F\\)</title>\n<path fill=\"none\" stroke=\"#000000\" d=\"M340.4358,-64.6101C339.7409,-75.6651 343.8408,-84.9441 352.7353,-84.9441 358.7113,-84.9441 362.5229,-80.7554 364.1701,-74.6537\"/>\n<polygon fill=\"#000000\" stroke=\"#000000\" points=\"367.664,-74.8735 365.0348,-64.6101 360.6898,-74.273 367.664,-74.8735\"/>\n<text text-anchor=\"middle\" x=\"352.7353\" y=\"-88.7441\" font-family=\"Times,serif\" font-size=\"14.00\" fill=\"#000000\">1 </text>\n</g>\n<!-- \\(I_S1\\) -->\n<g id=\"node9\" class=\"node\">\n<title>\\(I_S1\\)</title>\n<ellipse fill=\"none\" stroke=\"#000000\" cx=\"228.0421\" cy=\"-92.0467\" rx=\"34.394\" ry=\"34.394\"/>\n<text text-anchor=\"middle\" x=\"228.0421\" y=\"-88.3467\" font-family=\"Times,serif\" font-size=\"14.00\" fill=\"#000000\">(I_S1)</text>\n</g>\n<!-- \\(I_S1\\)&#45;&gt;\\(S1_S1\\) -->\n<g id=\"edge5\" class=\"edge\">\n<title>\\(I_S1\\)&#45;&gt;\\(S1_S1\\)</title>\n<path fill=\"none\" stroke=\"#000000\" d=\"M258.5455,-108.6814C272.89,-116.504 290.3087,-126.0031 306.2465,-134.6946\"/>\n<polygon fill=\"#000000\" stroke=\"#000000\" points=\"304.9697,-137.9849 315.4249,-139.6999 308.3212,-131.8393 304.9697,-137.9849\"/>\n<text text-anchor=\"middle\" x=\"286.489\" y=\"-129.8467\" font-family=\"Times,serif\" font-size=\"14.00\" fill=\"#000000\">0 </text>\n</g>\n<!-- \\(I_S1\\)&#45;&gt;\\(I_F\\) -->\n<g id=\"edge10\" class=\"edge\">\n<title>\\(I_S1\\)&#45;&gt;\\(I_F\\)</title>\n<path fill=\"none\" stroke=\"#000000\" d=\"M259.8301,-78.0256C276.8768,-70.5066 297.9727,-61.2015 315.7515,-53.3596\"/>\n<polygon fill=\"#000000\" stroke=\"#000000\" points=\"317.5036,-56.4122 325.2406,-49.1741 314.6786,-50.0076 317.5036,-56.4122\"/>\n<text text-anchor=\"middle\" x=\"286.489\" y=\"-71.8467\" font-family=\"Times,serif\" font-size=\"14.00\" fill=\"#000000\">1 </text>\n</g>\n<!-- \\(I_I\\)&#45;&gt;\\(S1_I\\) -->\n<g id=\"edge24\" class=\"edge\">\n<title>\\(I_I\\)&#45;&gt;\\(S1_I\\)</title>\n<path fill=\"none\" stroke=\"#000000\" d=\"M143.751,-145.2518C156.407,-150.326 172.0274,-156.5887 186.369,-162.3387\"/>\n<polygon fill=\"#000000\" stroke=\"#000000\" points=\"185.4571,-165.7438 196.0413,-166.2166 188.062,-159.2466 185.4571,-165.7438\"/>\n<text text-anchor=\"middle\" x=\"169.5952\" y=\"-160.8467\" font-family=\"Times,serif\" font-size=\"14.00\" fill=\"#000000\">0 </text>\n</g>\n<!-- \\(I_I\\)&#45;&gt;\\(I_S1\\) -->\n<g id=\"edge7\" class=\"edge\">\n<title>\\(I_I\\)&#45;&gt;\\(I_S1\\)</title>\n<path fill=\"none\" stroke=\"#000000\" d=\"M143.751,-125.0736C156.3041,-120.155 171.7736,-114.0938 186.019,-108.5122\"/>\n<polygon fill=\"#000000\" stroke=\"#000000\" points=\"187.6007,-111.6516 195.6347,-104.7446 185.047,-105.134 187.6007,-111.6516\"/>\n<text text-anchor=\"middle\" x=\"169.5952\" y=\"-120.8467\" font-family=\"Times,serif\" font-size=\"14.00\" fill=\"#000000\">1 </text>\n</g>\n<!-- \\(S2_S1\\)&#45;&gt;\\(S2_F\\) -->\n<g id=\"edge22\" class=\"edge\">\n<title>\\(S2_S1\\)&#45;&gt;\\(S2_F\\)</title>\n<path fill=\"none\" stroke=\"#000000\" d=\"M645.1687,-186.7206C659.977,-179.1589 677.0283,-170.452 692.2457,-162.6814\"/>\n<polygon fill=\"#000000\" stroke=\"#000000\" points=\"694.1329,-165.6477 701.4473,-157.9828 690.9495,-159.4135 694.1329,-165.6477\"/>\n<text text-anchor=\"middle\" x=\"673.5675\" y=\"-177.8467\" font-family=\"Times,serif\" font-size=\"14.00\" fill=\"#000000\">1 </text>\n</g>\n<!-- \\(S2_S1\\)&#45;&gt;\\(S2_S1\\) -->\n<g id=\"edge4\" class=\"edge\">\n<title>\\(S2_S1\\)&#45;&gt;\\(S2_S1\\)</title>\n<path fill=\"none\" stroke=\"#000000\" d=\"M595.0218,-246.5928C595.6159,-257.7595 599.7158,-266.293 607.3212,-266.293 612.4311,-266.293 615.9586,-262.4408 617.9035,-256.5261\"/>\n<polygon fill=\"#000000\" stroke=\"#000000\" points=\"621.366,-257.0429 619.6207,-246.5928 614.4683,-255.8504 621.366,-257.0429\"/>\n<text text-anchor=\"middle\" x=\"607.3212\" y=\"-270.093\" font-family=\"Times,serif\" font-size=\"14.00\" fill=\"#000000\">0 </text>\n</g>\n<!-- \\(S2_I\\)&#45;&gt;\\(S2_S1\\) -->\n<g id=\"edge11\" class=\"edge\">\n<title>\\(S2_I\\)&#45;&gt;\\(S2_S1\\)</title>\n<path fill=\"none\" stroke=\"#000000\" d=\"M512.8094,-239.4581C526.466,-234.6303 542.6242,-228.9181 557.6818,-223.595\"/>\n<polygon fill=\"#000000\" stroke=\"#000000\" points=\"559.1189,-226.7993 567.3806,-220.1663 556.7858,-220.1996 559.1189,-226.7993\"/>\n<text text-anchor=\"middle\" x=\"541.075\" y=\"-234.8467\" font-family=\"Times,serif\" font-size=\"14.00\" fill=\"#000000\">1 </text>\n</g>\n<!-- \\(S2_I\\)&#45;&gt;\\(S2_I\\) -->\n<g id=\"edge15\" class=\"edge\">\n<title>\\(S2_I\\)&#45;&gt;\\(S2_I\\)</title>\n<path fill=\"none\" stroke=\"#000000\" d=\"M468.7783,-283.8261C468.7783,-294.7525 472.5283,-303.4937 480.0283,-303.4937 484.9501,-303.4937 488.257,-299.7292 489.9489,-294.053\"/>\n<polygon fill=\"#000000\" stroke=\"#000000\" points=\"493.46,-294.1938 491.2783,-283.8261 486.5184,-293.2914 493.46,-294.1938\"/>\n<text text-anchor=\"middle\" x=\"480.0283\" y=\"-307.2937\" font-family=\"Times,serif\" font-size=\"14.00\" fill=\"#000000\">0 </text>\n</g>\n<!-- \\(F_F\\)&#45;&gt;\\(S2_F\\) -->\n<g id=\"edge12\" class=\"edge\">\n<title>\\(F_F\\)&#45;&gt;\\(S2_F\\)</title>\n<path fill=\"none\" stroke=\"#000000\" d=\"M640.1023,-92.7858C656.0138,-100.9107 675.321,-110.7697 692.3269,-119.4534\"/>\n<polygon fill=\"#000000\" stroke=\"#000000\" points=\"691.0039,-122.7078 701.5018,-124.1384 694.1874,-116.4735 691.0039,-122.7078\"/>\n<text text-anchor=\"middle\" x=\"673.5675\" y=\"-116.8467\" font-family=\"Times,serif\" font-size=\"14.00\" fill=\"#000000\">0 </text>\n</g>\n<!-- \\(F_F\\)&#45;&gt;\\(F_F\\) -->\n<g id=\"edge16\" class=\"edge\">\n<title>\\(F_F\\)&#45;&gt;\\(F_F\\)</title>\n<path fill=\"none\" stroke=\"#000000\" d=\"M594.9492,-110.6379C595.0761,-121.7426 599.2001,-130.5438 607.3212,-130.5438 612.7776,-130.5438 616.4296,-126.5708 618.2772,-120.5955\"/>\n<polygon fill=\"#000000\" stroke=\"#000000\" points=\"621.7504,-121.0311 619.6932,-110.6379 614.8201,-120.0456 621.7504,-121.0311\"/>\n<text text-anchor=\"middle\" x=\"607.3212\" y=\"-134.3438\" font-family=\"Times,serif\" font-size=\"14.00\" fill=\"#000000\">1 </text>\n</g>\n</g>\n</svg>\n"
          },
          "metadata": {
            "tags": []
          },
          "execution_count": 8
        }
      ]
    },
    {
      "cell_type": "code",
      "metadata": {
        "id": "HZV_HqrsTMKy",
        "colab": {
          "base_uri": "https://localhost:8080/",
          "height": 373
        },
        "outputId": "9210d2bb-1f0e-4c57-e5c1-ca07b36b9a03"
      },
      "source": [
        "from graphviz import Source\n",
        "Source('''\n",
        "digraph {\n",
        "  node [shape=circle]\n",
        "   0 [shape=none label=\"\"]\n",
        "   1 [label=\"\"]\n",
        "   2 [label=\"\"]\n",
        "   3 [label=\"\"]\n",
        "   4 [label=\"\"]\n",
        "   5 [label=\"\"]\n",
        "   6 [label=\"\"]\n",
        "   7 [label=\"\"]\n",
        "   8 [label=\"\"]\n",
        "   9 [label=\"\"]\n",
        "  10 [label=\"\"]\n",
        "  11 [label=\"\" shape=doublecircle]\n",
        "  12 [label=\"\"]\n",
        "   0 ->  1 [label=\"\"]\n",
        "   1 ->  2 [label=0]\n",
        "   1 ->  5 [label=1]\n",
        "   2 ->  3 [label=0]\n",
        "   2 ->  6 [label=1]\n",
        "   3 ->  4 [label=0]\n",
        "   3 ->  7 [label=1]\n",
        "   4 ->  4 [label=0]\n",
        "   4 ->  8 [label=1]\n",
        "   5 ->  6 [label=0]\n",
        "   5 ->  9 [label=1]\n",
        "   6 ->  7 [label=0]\n",
        "   6 -> 10 [label=1]\n",
        "   7 ->  8 [label=0]\n",
        "   7 -> 11 [label=1]\n",
        "   8 ->  8 [label=0]\n",
        "   8 -> 12 [label=1]\n",
        "   9 -> 10 [label=0]\n",
        "   9 ->  9 [label=1 headport=s tailport=s]\n",
        "  10 -> 11 [label=0]\n",
        "  10 -> 10 [label=1 headport=s tailport=s]\n",
        "  11 -> 12 [label=0]\n",
        "  11 -> 11 [label=1 headport=s tailport=s]\n",
        "  12 -> 12 [label=0]\n",
        "  12 -> 12 [label=1 headport=s tailport=s]\n",
        "  {rank=same 0 1 2 3 4}\n",
        "  {rank=same 5 6 7 8}\n",
        "  {rank=same 9 10 11 12}\n",
        "}\n",
        "''')"
      ],
      "execution_count": null,
      "outputs": [
        {
          "output_type": "execute_result",
          "data": {
            "text/plain": [
              "<graphviz.files.Source at 0x7fa257b06f28>"
            ],
            "image/svg+xml": "<?xml version=\"1.0\" encoding=\"UTF-8\" standalone=\"no\"?>\n<!DOCTYPE svg PUBLIC \"-//W3C//DTD SVG 1.1//EN\"\n \"http://www.w3.org/Graphics/SVG/1.1/DTD/svg11.dtd\">\n<!-- Generated by graphviz version 2.40.1 (20161225.0304)\n -->\n<!-- Title: %3 Pages: 1 -->\n<svg width=\"381pt\" height=\"264pt\"\n viewBox=\"0.00 0.00 381.00 264.00\" xmlns=\"http://www.w3.org/2000/svg\" xmlns:xlink=\"http://www.w3.org/1999/xlink\">\n<g id=\"graph0\" class=\"graph\" transform=\"scale(1 1) rotate(0) translate(4 260)\">\n<title>%3</title>\n<polygon fill=\"#ffffff\" stroke=\"transparent\" points=\"-4,4 -4,-260 377,-260 377,4 -4,4\"/>\n<!-- 0 -->\n<g id=\"node1\" class=\"node\">\n<title>0</title>\n</g>\n<!-- 1 -->\n<g id=\"node2\" class=\"node\">\n<title>1</title>\n<ellipse fill=\"none\" stroke=\"#000000\" cx=\"108\" cy=\"-238\" rx=\"18\" ry=\"18\"/>\n</g>\n<!-- 0&#45;&gt;1 -->\n<g id=\"edge1\" class=\"edge\">\n<title>0&#45;&gt;1</title>\n<path fill=\"none\" stroke=\"#000000\" d=\"M54.2109,-238C62.7687,-238 71.3264,-238 79.8842,-238\"/>\n<polygon fill=\"#000000\" stroke=\"#000000\" points=\"79.9303,-241.5001 89.9302,-238 79.9302,-234.5001 79.9303,-241.5001\"/>\n</g>\n<!-- 2 -->\n<g id=\"node3\" class=\"node\">\n<title>2</title>\n<ellipse fill=\"none\" stroke=\"#000000\" cx=\"180\" cy=\"-238\" rx=\"18\" ry=\"18\"/>\n</g>\n<!-- 1&#45;&gt;2 -->\n<g id=\"edge2\" class=\"edge\">\n<title>1&#45;&gt;2</title>\n<path fill=\"none\" stroke=\"#000000\" d=\"M126.1686,-238C133.869,-238 143.0257,-238 151.5834,-238\"/>\n<polygon fill=\"#000000\" stroke=\"#000000\" points=\"151.5868,-241.5001 161.5867,-238 151.5867,-234.5001 151.5868,-241.5001\"/>\n<text text-anchor=\"middle\" x=\"144\" y=\"-244.8\" font-family=\"Times,serif\" font-size=\"14.00\" fill=\"#000000\">0</text>\n</g>\n<!-- 5 -->\n<g id=\"node6\" class=\"node\">\n<title>5</title>\n<ellipse fill=\"none\" stroke=\"#000000\" cx=\"108\" cy=\"-151\" rx=\"18\" ry=\"18\"/>\n</g>\n<!-- 1&#45;&gt;5 -->\n<g id=\"edge3\" class=\"edge\">\n<title>1&#45;&gt;5</title>\n<path fill=\"none\" stroke=\"#000000\" d=\"M108,-219.9735C108,-208.1918 108,-192.5607 108,-179.1581\"/>\n<polygon fill=\"#000000\" stroke=\"#000000\" points=\"111.5001,-179.0033 108,-169.0034 104.5001,-179.0034 111.5001,-179.0033\"/>\n<text text-anchor=\"middle\" x=\"112\" y=\"-190.8\" font-family=\"Times,serif\" font-size=\"14.00\" fill=\"#000000\">1</text>\n</g>\n<!-- 3 -->\n<g id=\"node4\" class=\"node\">\n<title>3</title>\n<ellipse fill=\"none\" stroke=\"#000000\" cx=\"252\" cy=\"-238\" rx=\"18\" ry=\"18\"/>\n</g>\n<!-- 2&#45;&gt;3 -->\n<g id=\"edge4\" class=\"edge\">\n<title>2&#45;&gt;3</title>\n<path fill=\"none\" stroke=\"#000000\" d=\"M198.1686,-238C205.869,-238 215.0257,-238 223.5834,-238\"/>\n<polygon fill=\"#000000\" stroke=\"#000000\" points=\"223.5868,-241.5001 233.5867,-238 223.5867,-234.5001 223.5868,-241.5001\"/>\n<text text-anchor=\"middle\" x=\"216\" y=\"-244.8\" font-family=\"Times,serif\" font-size=\"14.00\" fill=\"#000000\">0</text>\n</g>\n<!-- 6 -->\n<g id=\"node7\" class=\"node\">\n<title>6</title>\n<ellipse fill=\"none\" stroke=\"#000000\" cx=\"180\" cy=\"-151\" rx=\"18\" ry=\"18\"/>\n</g>\n<!-- 2&#45;&gt;6 -->\n<g id=\"edge5\" class=\"edge\">\n<title>2&#45;&gt;6</title>\n<path fill=\"none\" stroke=\"#000000\" d=\"M180,-219.9735C180,-208.1918 180,-192.5607 180,-179.1581\"/>\n<polygon fill=\"#000000\" stroke=\"#000000\" points=\"183.5001,-179.0033 180,-169.0034 176.5001,-179.0034 183.5001,-179.0033\"/>\n<text text-anchor=\"middle\" x=\"184\" y=\"-190.8\" font-family=\"Times,serif\" font-size=\"14.00\" fill=\"#000000\">1</text>\n</g>\n<!-- 4 -->\n<g id=\"node5\" class=\"node\">\n<title>4</title>\n<ellipse fill=\"none\" stroke=\"#000000\" cx=\"324\" cy=\"-238\" rx=\"18\" ry=\"18\"/>\n</g>\n<!-- 3&#45;&gt;4 -->\n<g id=\"edge6\" class=\"edge\">\n<title>3&#45;&gt;4</title>\n<path fill=\"none\" stroke=\"#000000\" d=\"M270.1686,-238C277.869,-238 287.0257,-238 295.5834,-238\"/>\n<polygon fill=\"#000000\" stroke=\"#000000\" points=\"295.5868,-241.5001 305.5867,-238 295.5867,-234.5001 295.5868,-241.5001\"/>\n<text text-anchor=\"middle\" x=\"288\" y=\"-244.8\" font-family=\"Times,serif\" font-size=\"14.00\" fill=\"#000000\">0</text>\n</g>\n<!-- 7 -->\n<g id=\"node8\" class=\"node\">\n<title>7</title>\n<ellipse fill=\"none\" stroke=\"#000000\" cx=\"252\" cy=\"-151\" rx=\"18\" ry=\"18\"/>\n</g>\n<!-- 3&#45;&gt;7 -->\n<g id=\"edge7\" class=\"edge\">\n<title>3&#45;&gt;7</title>\n<path fill=\"none\" stroke=\"#000000\" d=\"M252,-219.9735C252,-208.1918 252,-192.5607 252,-179.1581\"/>\n<polygon fill=\"#000000\" stroke=\"#000000\" points=\"255.5001,-179.0033 252,-169.0034 248.5001,-179.0034 255.5001,-179.0033\"/>\n<text text-anchor=\"middle\" x=\"256\" y=\"-190.8\" font-family=\"Times,serif\" font-size=\"14.00\" fill=\"#000000\">1</text>\n</g>\n<!-- 4&#45;&gt;4 -->\n<g id=\"edge8\" class=\"edge\">\n<title>4&#45;&gt;4</title>\n<path fill=\"none\" stroke=\"#000000\" d=\"M340.6641,-245.3828C350.625,-247.0234 360,-244.5625 360,-238 360,-233.7959 356.1525,-231.2751 350.7682,-230.4375\"/>\n<polygon fill=\"#000000\" stroke=\"#000000\" points=\"350.6002,-226.9399 340.6641,-230.6172 350.7247,-233.9388 350.6002,-226.9399\"/>\n<text text-anchor=\"middle\" x=\"364\" y=\"-234.3\" font-family=\"Times,serif\" font-size=\"14.00\" fill=\"#000000\">0</text>\n</g>\n<!-- 8 -->\n<g id=\"node9\" class=\"node\">\n<title>8</title>\n<ellipse fill=\"none\" stroke=\"#000000\" cx=\"324\" cy=\"-151\" rx=\"18\" ry=\"18\"/>\n</g>\n<!-- 4&#45;&gt;8 -->\n<g id=\"edge9\" class=\"edge\">\n<title>4&#45;&gt;8</title>\n<path fill=\"none\" stroke=\"#000000\" d=\"M324,-219.9735C324,-208.1918 324,-192.5607 324,-179.1581\"/>\n<polygon fill=\"#000000\" stroke=\"#000000\" points=\"327.5001,-179.0033 324,-169.0034 320.5001,-179.0034 327.5001,-179.0033\"/>\n<text text-anchor=\"middle\" x=\"328\" y=\"-190.8\" font-family=\"Times,serif\" font-size=\"14.00\" fill=\"#000000\">1</text>\n</g>\n<!-- 5&#45;&gt;6 -->\n<g id=\"edge10\" class=\"edge\">\n<title>5&#45;&gt;6</title>\n<path fill=\"none\" stroke=\"#000000\" d=\"M126.1686,-151C133.869,-151 143.0257,-151 151.5834,-151\"/>\n<polygon fill=\"#000000\" stroke=\"#000000\" points=\"151.5868,-154.5001 161.5867,-151 151.5867,-147.5001 151.5868,-154.5001\"/>\n<text text-anchor=\"middle\" x=\"144\" y=\"-157.8\" font-family=\"Times,serif\" font-size=\"14.00\" fill=\"#000000\">0</text>\n</g>\n<!-- 9 -->\n<g id=\"node10\" class=\"node\">\n<title>9</title>\n<ellipse fill=\"none\" stroke=\"#000000\" cx=\"105\" cy=\"-60\" rx=\"18\" ry=\"18\"/>\n</g>\n<!-- 5&#45;&gt;9 -->\n<g id=\"edge11\" class=\"edge\">\n<title>5&#45;&gt;9</title>\n<path fill=\"none\" stroke=\"#000000\" d=\"M107.3929,-132.5848C106.9754,-119.9209 106.4128,-102.8558 105.938,-88.4541\"/>\n<polygon fill=\"#000000\" stroke=\"#000000\" points=\"109.4236,-87.9565 105.596,-78.0773 102.4274,-88.1872 109.4236,-87.9565\"/>\n<text text-anchor=\"middle\" x=\"111\" y=\"-103.8\" font-family=\"Times,serif\" font-size=\"14.00\" fill=\"#000000\">1</text>\n</g>\n<!-- 6&#45;&gt;7 -->\n<g id=\"edge12\" class=\"edge\">\n<title>6&#45;&gt;7</title>\n<path fill=\"none\" stroke=\"#000000\" d=\"M198.1686,-151C205.869,-151 215.0257,-151 223.5834,-151\"/>\n<polygon fill=\"#000000\" stroke=\"#000000\" points=\"223.5868,-154.5001 233.5867,-151 223.5867,-147.5001 223.5868,-154.5001\"/>\n<text text-anchor=\"middle\" x=\"216\" y=\"-157.8\" font-family=\"Times,serif\" font-size=\"14.00\" fill=\"#000000\">0</text>\n</g>\n<!-- 10 -->\n<g id=\"node11\" class=\"node\">\n<title>10</title>\n<ellipse fill=\"none\" stroke=\"#000000\" cx=\"177\" cy=\"-60\" rx=\"18\" ry=\"18\"/>\n</g>\n<!-- 6&#45;&gt;10 -->\n<g id=\"edge13\" class=\"edge\">\n<title>6&#45;&gt;10</title>\n<path fill=\"none\" stroke=\"#000000\" d=\"M179.3929,-132.5848C178.9754,-119.9209 178.4128,-102.8558 177.938,-88.4541\"/>\n<polygon fill=\"#000000\" stroke=\"#000000\" points=\"181.4236,-87.9565 177.596,-78.0773 174.4274,-88.1872 181.4236,-87.9565\"/>\n<text text-anchor=\"middle\" x=\"183\" y=\"-103.8\" font-family=\"Times,serif\" font-size=\"14.00\" fill=\"#000000\">1</text>\n</g>\n<!-- 7&#45;&gt;8 -->\n<g id=\"edge14\" class=\"edge\">\n<title>7&#45;&gt;8</title>\n<path fill=\"none\" stroke=\"#000000\" d=\"M270.1686,-151C277.869,-151 287.0257,-151 295.5834,-151\"/>\n<polygon fill=\"#000000\" stroke=\"#000000\" points=\"295.5868,-154.5001 305.5867,-151 295.5867,-147.5001 295.5868,-154.5001\"/>\n<text text-anchor=\"middle\" x=\"288\" y=\"-157.8\" font-family=\"Times,serif\" font-size=\"14.00\" fill=\"#000000\">0</text>\n</g>\n<!-- 11 -->\n<g id=\"node12\" class=\"node\">\n<title>11</title>\n<ellipse fill=\"none\" stroke=\"#000000\" cx=\"253\" cy=\"-60\" rx=\"18\" ry=\"18\"/>\n<ellipse fill=\"none\" stroke=\"#000000\" cx=\"253\" cy=\"-60\" rx=\"22\" ry=\"22\"/>\n</g>\n<!-- 7&#45;&gt;11 -->\n<g id=\"edge15\" class=\"edge\">\n<title>7&#45;&gt;11</title>\n<path fill=\"none\" stroke=\"#000000\" d=\"M252.2024,-132.5848C252.3285,-121.1105 252.4943,-106.0231 252.642,-92.5774\"/>\n<polygon fill=\"#000000\" stroke=\"#000000\" points=\"256.1453,-92.2844 252.7555,-82.2465 249.1458,-92.2075 256.1453,-92.2844\"/>\n<text text-anchor=\"middle\" x=\"257\" y=\"-103.8\" font-family=\"Times,serif\" font-size=\"14.00\" fill=\"#000000\">1</text>\n</g>\n<!-- 8&#45;&gt;8 -->\n<g id=\"edge16\" class=\"edge\">\n<title>8&#45;&gt;8</title>\n<path fill=\"none\" stroke=\"#000000\" d=\"M340.6641,-158.3828C350.625,-160.0234 360,-157.5625 360,-151 360,-146.7959 356.1525,-144.2751 350.7682,-143.4375\"/>\n<polygon fill=\"#000000\" stroke=\"#000000\" points=\"350.6002,-139.9399 340.6641,-143.6172 350.7247,-146.9388 350.6002,-139.9399\"/>\n<text text-anchor=\"middle\" x=\"364\" y=\"-147.3\" font-family=\"Times,serif\" font-size=\"14.00\" fill=\"#000000\">0</text>\n</g>\n<!-- 12 -->\n<g id=\"node13\" class=\"node\">\n<title>12</title>\n<ellipse fill=\"none\" stroke=\"#000000\" cx=\"329\" cy=\"-60\" rx=\"18\" ry=\"18\"/>\n</g>\n<!-- 8&#45;&gt;12 -->\n<g id=\"edge17\" class=\"edge\">\n<title>8&#45;&gt;12</title>\n<path fill=\"none\" stroke=\"#000000\" d=\"M324.9878,-133.0213C325.6886,-120.2671 326.6433,-102.8914 327.4456,-88.2894\"/>\n<polygon fill=\"#000000\" stroke=\"#000000\" points=\"330.9431,-88.4298 327.9971,-78.2528 323.9537,-88.0457 330.9431,-88.4298\"/>\n<text text-anchor=\"middle\" x=\"330\" y=\"-103.8\" font-family=\"Times,serif\" font-size=\"14.00\" fill=\"#000000\">1</text>\n</g>\n<!-- 9&#45;&gt;9 -->\n<g id=\"edge19\" class=\"edge\">\n<title>9:s&#45;&gt;9:s</title>\n<path fill=\"none\" stroke=\"#000000\" d=\"M105,-42C114,-34.3333 114,-19 105,-19 98.8125,-19 96.8789,-26.2474 99.1992,-33.2683\"/>\n<polygon fill=\"#000000\" stroke=\"#000000\" points=\"96.5511,-35.6073 105,-42 102.3817,-31.7338 96.5511,-35.6073\"/>\n<text text-anchor=\"middle\" x=\"105\" y=\"-7.8\" font-family=\"Times,serif\" font-size=\"14.00\" fill=\"#000000\">1</text>\n</g>\n<!-- 9&#45;&gt;10 -->\n<g id=\"edge18\" class=\"edge\">\n<title>9&#45;&gt;10</title>\n<path fill=\"none\" stroke=\"#000000\" d=\"M123.1686,-60C130.869,-60 140.0257,-60 148.5834,-60\"/>\n<polygon fill=\"#000000\" stroke=\"#000000\" points=\"148.5868,-63.5001 158.5867,-60 148.5867,-56.5001 148.5868,-63.5001\"/>\n<text text-anchor=\"middle\" x=\"141\" y=\"-66.8\" font-family=\"Times,serif\" font-size=\"14.00\" fill=\"#000000\">0</text>\n</g>\n<!-- 10&#45;&gt;10 -->\n<g id=\"edge21\" class=\"edge\">\n<title>10:s&#45;&gt;10:s</title>\n<path fill=\"none\" stroke=\"#000000\" d=\"M177,-42C186,-34.3333 186,-19 177,-19 170.8125,-19 168.8789,-26.2474 171.1992,-33.2683\"/>\n<polygon fill=\"#000000\" stroke=\"#000000\" points=\"168.5511,-35.6073 177,-42 174.3817,-31.7338 168.5511,-35.6073\"/>\n<text text-anchor=\"middle\" x=\"177\" y=\"-7.8\" font-family=\"Times,serif\" font-size=\"14.00\" fill=\"#000000\">1</text>\n</g>\n<!-- 10&#45;&gt;11 -->\n<g id=\"edge20\" class=\"edge\">\n<title>10&#45;&gt;11</title>\n<path fill=\"none\" stroke=\"#000000\" d=\"M195.0109,-60C202.709,-60 211.9371,-60 220.7439,-60\"/>\n<polygon fill=\"#000000\" stroke=\"#000000\" points=\"220.7718,-63.5001 230.7718,-60 220.7718,-56.5001 220.7718,-63.5001\"/>\n<text text-anchor=\"middle\" x=\"213\" y=\"-66.8\" font-family=\"Times,serif\" font-size=\"14.00\" fill=\"#000000\">0</text>\n</g>\n<!-- 11&#45;&gt;11 -->\n<g id=\"edge23\" class=\"edge\">\n<title>11:s&#45;&gt;11:s</title>\n<path fill=\"none\" stroke=\"#000000\" d=\"M253,-38C262,-30.3333 262,-15 253,-15 246.8125,-15 244.8789,-22.2474 247.1992,-29.2683\"/>\n<polygon fill=\"#000000\" stroke=\"#000000\" points=\"244.5511,-31.6073 253,-38 250.3817,-27.7338 244.5511,-31.6073\"/>\n<text text-anchor=\"middle\" x=\"253\" y=\"-3.8\" font-family=\"Times,serif\" font-size=\"14.00\" fill=\"#000000\">1</text>\n</g>\n<!-- 11&#45;&gt;12 -->\n<g id=\"edge22\" class=\"edge\">\n<title>11&#45;&gt;12</title>\n<path fill=\"none\" stroke=\"#000000\" d=\"M275.3914,-60C283.2728,-60 292.2384,-60 300.5518,-60\"/>\n<polygon fill=\"#000000\" stroke=\"#000000\" points=\"300.6026,-63.5001 310.6025,-60 300.6025,-56.5001 300.6026,-63.5001\"/>\n<text text-anchor=\"middle\" x=\"293\" y=\"-66.8\" font-family=\"Times,serif\" font-size=\"14.00\" fill=\"#000000\">0</text>\n</g>\n<!-- 12&#45;&gt;12 -->\n<g id=\"edge24\" class=\"edge\">\n<title>12&#45;&gt;12</title>\n<path fill=\"none\" stroke=\"#000000\" d=\"M345.2903,-68.0164C355.3892,-69.9495 365,-67.2773 365,-60 365,-55.338 361.0557,-52.5659 355.5656,-51.6838\"/>\n<polygon fill=\"#000000\" stroke=\"#000000\" points=\"355.1839,-48.1933 345.2903,-51.9836 355.3881,-55.1903 355.1839,-48.1933\"/>\n<text text-anchor=\"middle\" x=\"369\" y=\"-56.3\" font-family=\"Times,serif\" font-size=\"14.00\" fill=\"#000000\">0</text>\n</g>\n<!-- 12&#45;&gt;12 -->\n<g id=\"edge25\" class=\"edge\">\n<title>12:s&#45;&gt;12:s</title>\n<path fill=\"none\" stroke=\"#000000\" d=\"M329,-42C338,-34.3333 338,-19 329,-19 322.8125,-19 320.8789,-26.2474 323.1992,-33.2683\"/>\n<polygon fill=\"#000000\" stroke=\"#000000\" points=\"320.5511,-35.6073 329,-42 326.3817,-31.7338 320.5511,-35.6073\"/>\n<text text-anchor=\"middle\" x=\"329\" y=\"-7.8\" font-family=\"Times,serif\" font-size=\"14.00\" fill=\"#000000\">1</text>\n</g>\n</g>\n</svg>\n"
          },
          "metadata": {
            "tags": []
          },
          "execution_count": 9
        }
      ]
    },
    {
      "cell_type": "markdown",
      "metadata": {
        "id": "LaNULzJrTMKz"
      },
      "source": [
        "Merging redundant states:"
      ]
    },
    {
      "cell_type": "code",
      "metadata": {
        "id": "yhW_q3fXTMKz",
        "colab": {
          "base_uri": "https://localhost:8080/",
          "height": 373
        },
        "outputId": "56e26e62-a1d5-4a3e-cc22-686d5b40e3a3"
      },
      "source": [
        "from graphviz import Source\n",
        "Source('''\n",
        "digraph {\n",
        "  node [shape=circle]\n",
        "   0 [shape=none label=\"\"]\n",
        "   1 [label=\"\"]\n",
        "   2 [label=\"\"]\n",
        "   3 [label=\"\"]\n",
        "   4812 [label=\"\"]\n",
        "   5 [label=\"\"]\n",
        "   6 [label=\"\"]\n",
        "   7 [label=\"\"]\n",
        "   9 [label=\"\"]\n",
        "  10 [label=\"\"]\n",
        "  11 [label=\"\" shape=doublecircle]\n",
        "   0 ->  1 [label=\"\"]\n",
        "   1 ->  2 [label=0]\n",
        "   1 ->  5 [label=1]\n",
        "   2 ->  3 [label=0]\n",
        "   2 ->  6 [label=1]\n",
        "   3 ->  4812 [label=0]\n",
        "   3 ->  7 [label=1]\n",
        "   5 ->  6 [label=0]\n",
        "   5 ->  9 [label=1]\n",
        "   6 ->  7 [label=0]\n",
        "   6 -> 10 [label=1]\n",
        "   7 -> 4812 [label=0]\n",
        "   7 -> 11 [label=1]\n",
        "   9 -> 10 [label=0]\n",
        "   9 ->  9 [label=1 headport=s tailport=s]\n",
        "  10 -> 11 [label=0]\n",
        "  10 -> 10 [label=1 headport=s tailport=s]\n",
        "  11 -> 4812 [label=0]\n",
        "  11 -> 11 [label=1 headport=s tailport=s]\n",
        "  4812 -> 4812 [label=\"0, 1\"]\n",
        "  {rank=same 0 1 2 3}\n",
        "  {rank=same 5 6 7 4812}\n",
        "  {rank=same 9 10 11}\n",
        "}\n",
        "''')"
      ],
      "execution_count": null,
      "outputs": [
        {
          "output_type": "execute_result",
          "data": {
            "text/plain": [
              "<graphviz.files.Source at 0x7fa256c14630>"
            ],
            "image/svg+xml": "<?xml version=\"1.0\" encoding=\"UTF-8\" standalone=\"no\"?>\n<!DOCTYPE svg PUBLIC \"-//W3C//DTD SVG 1.1//EN\"\n \"http://www.w3.org/Graphics/SVG/1.1/DTD/svg11.dtd\">\n<!-- Generated by graphviz version 2.40.1 (20161225.0304)\n -->\n<!-- Title: %3 Pages: 1 -->\n<svg width=\"391pt\" height=\"264pt\"\n viewBox=\"0.00 0.00 391.00 264.00\" xmlns=\"http://www.w3.org/2000/svg\" xmlns:xlink=\"http://www.w3.org/1999/xlink\">\n<g id=\"graph0\" class=\"graph\" transform=\"scale(1 1) rotate(0) translate(4 260)\">\n<title>%3</title>\n<polygon fill=\"#ffffff\" stroke=\"transparent\" points=\"-4,4 -4,-260 387,-260 387,4 -4,4\"/>\n<!-- 0 -->\n<g id=\"node1\" class=\"node\">\n<title>0</title>\n</g>\n<!-- 1 -->\n<g id=\"node2\" class=\"node\">\n<title>1</title>\n<ellipse fill=\"none\" stroke=\"#000000\" cx=\"108\" cy=\"-238\" rx=\"18\" ry=\"18\"/>\n</g>\n<!-- 0&#45;&gt;1 -->\n<g id=\"edge1\" class=\"edge\">\n<title>0&#45;&gt;1</title>\n<path fill=\"none\" stroke=\"#000000\" d=\"M54.2109,-238C62.7687,-238 71.3264,-238 79.8842,-238\"/>\n<polygon fill=\"#000000\" stroke=\"#000000\" points=\"79.9303,-241.5001 89.9302,-238 79.9302,-234.5001 79.9303,-241.5001\"/>\n</g>\n<!-- 2 -->\n<g id=\"node3\" class=\"node\">\n<title>2</title>\n<ellipse fill=\"none\" stroke=\"#000000\" cx=\"180\" cy=\"-238\" rx=\"18\" ry=\"18\"/>\n</g>\n<!-- 1&#45;&gt;2 -->\n<g id=\"edge2\" class=\"edge\">\n<title>1&#45;&gt;2</title>\n<path fill=\"none\" stroke=\"#000000\" d=\"M126.1686,-238C133.869,-238 143.0257,-238 151.5834,-238\"/>\n<polygon fill=\"#000000\" stroke=\"#000000\" points=\"151.5868,-241.5001 161.5867,-238 151.5867,-234.5001 151.5868,-241.5001\"/>\n<text text-anchor=\"middle\" x=\"144\" y=\"-244.8\" font-family=\"Times,serif\" font-size=\"14.00\" fill=\"#000000\">0</text>\n</g>\n<!-- 5 -->\n<g id=\"node6\" class=\"node\">\n<title>5</title>\n<ellipse fill=\"none\" stroke=\"#000000\" cx=\"108\" cy=\"-151\" rx=\"18\" ry=\"18\"/>\n</g>\n<!-- 1&#45;&gt;5 -->\n<g id=\"edge3\" class=\"edge\">\n<title>1&#45;&gt;5</title>\n<path fill=\"none\" stroke=\"#000000\" d=\"M108,-219.9735C108,-208.1918 108,-192.5607 108,-179.1581\"/>\n<polygon fill=\"#000000\" stroke=\"#000000\" points=\"111.5001,-179.0033 108,-169.0034 104.5001,-179.0034 111.5001,-179.0033\"/>\n<text text-anchor=\"middle\" x=\"112\" y=\"-190.8\" font-family=\"Times,serif\" font-size=\"14.00\" fill=\"#000000\">1</text>\n</g>\n<!-- 3 -->\n<g id=\"node4\" class=\"node\">\n<title>3</title>\n<ellipse fill=\"none\" stroke=\"#000000\" cx=\"252\" cy=\"-238\" rx=\"18\" ry=\"18\"/>\n</g>\n<!-- 2&#45;&gt;3 -->\n<g id=\"edge4\" class=\"edge\">\n<title>2&#45;&gt;3</title>\n<path fill=\"none\" stroke=\"#000000\" d=\"M198.1686,-238C205.869,-238 215.0257,-238 223.5834,-238\"/>\n<polygon fill=\"#000000\" stroke=\"#000000\" points=\"223.5868,-241.5001 233.5867,-238 223.5867,-234.5001 223.5868,-241.5001\"/>\n<text text-anchor=\"middle\" x=\"216\" y=\"-244.8\" font-family=\"Times,serif\" font-size=\"14.00\" fill=\"#000000\">0</text>\n</g>\n<!-- 6 -->\n<g id=\"node7\" class=\"node\">\n<title>6</title>\n<ellipse fill=\"none\" stroke=\"#000000\" cx=\"180\" cy=\"-151\" rx=\"18\" ry=\"18\"/>\n</g>\n<!-- 2&#45;&gt;6 -->\n<g id=\"edge5\" class=\"edge\">\n<title>2&#45;&gt;6</title>\n<path fill=\"none\" stroke=\"#000000\" d=\"M180,-219.9735C180,-208.1918 180,-192.5607 180,-179.1581\"/>\n<polygon fill=\"#000000\" stroke=\"#000000\" points=\"183.5001,-179.0033 180,-169.0034 176.5001,-179.0034 183.5001,-179.0033\"/>\n<text text-anchor=\"middle\" x=\"184\" y=\"-190.8\" font-family=\"Times,serif\" font-size=\"14.00\" fill=\"#000000\">1</text>\n</g>\n<!-- 4812 -->\n<g id=\"node5\" class=\"node\">\n<title>4812</title>\n<ellipse fill=\"none\" stroke=\"#000000\" cx=\"324\" cy=\"-151\" rx=\"18\" ry=\"18\"/>\n</g>\n<!-- 3&#45;&gt;4812 -->\n<g id=\"edge6\" class=\"edge\">\n<title>3&#45;&gt;4812</title>\n<path fill=\"none\" stroke=\"#000000\" d=\"M263.568,-224.0219C275.0096,-210.1967 292.6853,-188.8385 305.9701,-172.7861\"/>\n<polygon fill=\"#000000\" stroke=\"#000000\" points=\"308.7813,-174.8788 312.4607,-164.9434 303.3886,-170.4158 308.7813,-174.8788\"/>\n<text text-anchor=\"middle\" x=\"296\" y=\"-190.8\" font-family=\"Times,serif\" font-size=\"14.00\" fill=\"#000000\">0</text>\n</g>\n<!-- 7 -->\n<g id=\"node8\" class=\"node\">\n<title>7</title>\n<ellipse fill=\"none\" stroke=\"#000000\" cx=\"252\" cy=\"-151\" rx=\"18\" ry=\"18\"/>\n</g>\n<!-- 3&#45;&gt;7 -->\n<g id=\"edge7\" class=\"edge\">\n<title>3&#45;&gt;7</title>\n<path fill=\"none\" stroke=\"#000000\" d=\"M252,-219.9735C252,-208.1918 252,-192.5607 252,-179.1581\"/>\n<polygon fill=\"#000000\" stroke=\"#000000\" points=\"255.5001,-179.0033 252,-169.0034 248.5001,-179.0034 255.5001,-179.0033\"/>\n<text text-anchor=\"middle\" x=\"256\" y=\"-190.8\" font-family=\"Times,serif\" font-size=\"14.00\" fill=\"#000000\">1</text>\n</g>\n<!-- 4812&#45;&gt;4812 -->\n<g id=\"edge20\" class=\"edge\">\n<title>4812&#45;&gt;4812</title>\n<path fill=\"none\" stroke=\"#000000\" d=\"M340.6641,-158.3828C350.625,-160.0234 360,-157.5625 360,-151 360,-146.7959 356.1525,-144.2751 350.7682,-143.4375\"/>\n<polygon fill=\"#000000\" stroke=\"#000000\" points=\"350.6002,-139.9399 340.6641,-143.6172 350.7247,-146.9388 350.6002,-139.9399\"/>\n<text text-anchor=\"middle\" x=\"371.5\" y=\"-147.3\" font-family=\"Times,serif\" font-size=\"14.00\" fill=\"#000000\">0, 1</text>\n</g>\n<!-- 5&#45;&gt;6 -->\n<g id=\"edge8\" class=\"edge\">\n<title>5&#45;&gt;6</title>\n<path fill=\"none\" stroke=\"#000000\" d=\"M126.1686,-151C133.869,-151 143.0257,-151 151.5834,-151\"/>\n<polygon fill=\"#000000\" stroke=\"#000000\" points=\"151.5868,-154.5001 161.5867,-151 151.5867,-147.5001 151.5868,-154.5001\"/>\n<text text-anchor=\"middle\" x=\"144\" y=\"-157.8\" font-family=\"Times,serif\" font-size=\"14.00\" fill=\"#000000\">0</text>\n</g>\n<!-- 9 -->\n<g id=\"node9\" class=\"node\">\n<title>9</title>\n<ellipse fill=\"none\" stroke=\"#000000\" cx=\"108\" cy=\"-60\" rx=\"18\" ry=\"18\"/>\n</g>\n<!-- 5&#45;&gt;9 -->\n<g id=\"edge9\" class=\"edge\">\n<title>5&#45;&gt;9</title>\n<path fill=\"none\" stroke=\"#000000\" d=\"M108,-132.5848C108,-119.9209 108,-102.8558 108,-88.4541\"/>\n<polygon fill=\"#000000\" stroke=\"#000000\" points=\"111.5001,-88.0772 108,-78.0773 104.5001,-88.0773 111.5001,-88.0772\"/>\n<text text-anchor=\"middle\" x=\"112\" y=\"-103.8\" font-family=\"Times,serif\" font-size=\"14.00\" fill=\"#000000\">1</text>\n</g>\n<!-- 6&#45;&gt;7 -->\n<g id=\"edge10\" class=\"edge\">\n<title>6&#45;&gt;7</title>\n<path fill=\"none\" stroke=\"#000000\" d=\"M198.1686,-151C205.869,-151 215.0257,-151 223.5834,-151\"/>\n<polygon fill=\"#000000\" stroke=\"#000000\" points=\"223.5868,-154.5001 233.5867,-151 223.5867,-147.5001 223.5868,-154.5001\"/>\n<text text-anchor=\"middle\" x=\"216\" y=\"-157.8\" font-family=\"Times,serif\" font-size=\"14.00\" fill=\"#000000\">0</text>\n</g>\n<!-- 10 -->\n<g id=\"node10\" class=\"node\">\n<title>10</title>\n<ellipse fill=\"none\" stroke=\"#000000\" cx=\"180\" cy=\"-60\" rx=\"18\" ry=\"18\"/>\n</g>\n<!-- 6&#45;&gt;10 -->\n<g id=\"edge11\" class=\"edge\">\n<title>6&#45;&gt;10</title>\n<path fill=\"none\" stroke=\"#000000\" d=\"M180,-132.5848C180,-119.9209 180,-102.8558 180,-88.4541\"/>\n<polygon fill=\"#000000\" stroke=\"#000000\" points=\"183.5001,-88.0772 180,-78.0773 176.5001,-88.0773 183.5001,-88.0772\"/>\n<text text-anchor=\"middle\" x=\"184\" y=\"-103.8\" font-family=\"Times,serif\" font-size=\"14.00\" fill=\"#000000\">1</text>\n</g>\n<!-- 7&#45;&gt;4812 -->\n<g id=\"edge12\" class=\"edge\">\n<title>7&#45;&gt;4812</title>\n<path fill=\"none\" stroke=\"#000000\" d=\"M270.1686,-151C277.869,-151 287.0257,-151 295.5834,-151\"/>\n<polygon fill=\"#000000\" stroke=\"#000000\" points=\"295.5868,-154.5001 305.5867,-151 295.5867,-147.5001 295.5868,-154.5001\"/>\n<text text-anchor=\"middle\" x=\"288\" y=\"-157.8\" font-family=\"Times,serif\" font-size=\"14.00\" fill=\"#000000\">0</text>\n</g>\n<!-- 11 -->\n<g id=\"node11\" class=\"node\">\n<title>11</title>\n<ellipse fill=\"none\" stroke=\"#000000\" cx=\"256\" cy=\"-60\" rx=\"18\" ry=\"18\"/>\n<ellipse fill=\"none\" stroke=\"#000000\" cx=\"256\" cy=\"-60\" rx=\"22\" ry=\"22\"/>\n</g>\n<!-- 7&#45;&gt;11 -->\n<g id=\"edge13\" class=\"edge\">\n<title>7&#45;&gt;11</title>\n<path fill=\"none\" stroke=\"#000000\" d=\"M252.8095,-132.5848C253.3138,-121.1105 253.977,-106.0231 254.568,-92.5774\"/>\n<polygon fill=\"#000000\" stroke=\"#000000\" points=\"258.0795,-92.3906 255.0221,-82.2465 251.0863,-92.0832 258.0795,-92.3906\"/>\n<text text-anchor=\"middle\" x=\"258\" y=\"-103.8\" font-family=\"Times,serif\" font-size=\"14.00\" fill=\"#000000\">1</text>\n</g>\n<!-- 9&#45;&gt;9 -->\n<g id=\"edge15\" class=\"edge\">\n<title>9:s&#45;&gt;9:s</title>\n<path fill=\"none\" stroke=\"#000000\" d=\"M108,-42C117,-34.3333 117,-19 108,-19 101.8125,-19 99.8789,-26.2474 102.1992,-33.2683\"/>\n<polygon fill=\"#000000\" stroke=\"#000000\" points=\"99.5511,-35.6073 108,-42 105.3817,-31.7338 99.5511,-35.6073\"/>\n<text text-anchor=\"middle\" x=\"108\" y=\"-7.8\" font-family=\"Times,serif\" font-size=\"14.00\" fill=\"#000000\">1</text>\n</g>\n<!-- 9&#45;&gt;10 -->\n<g id=\"edge14\" class=\"edge\">\n<title>9&#45;&gt;10</title>\n<path fill=\"none\" stroke=\"#000000\" d=\"M126.1686,-60C133.869,-60 143.0257,-60 151.5834,-60\"/>\n<polygon fill=\"#000000\" stroke=\"#000000\" points=\"151.5868,-63.5001 161.5867,-60 151.5867,-56.5001 151.5868,-63.5001\"/>\n<text text-anchor=\"middle\" x=\"144\" y=\"-66.8\" font-family=\"Times,serif\" font-size=\"14.00\" fill=\"#000000\">0</text>\n</g>\n<!-- 10&#45;&gt;10 -->\n<g id=\"edge17\" class=\"edge\">\n<title>10:s&#45;&gt;10:s</title>\n<path fill=\"none\" stroke=\"#000000\" d=\"M180,-42C189,-34.3333 189,-19 180,-19 173.8125,-19 171.8789,-26.2474 174.1992,-33.2683\"/>\n<polygon fill=\"#000000\" stroke=\"#000000\" points=\"171.5511,-35.6073 180,-42 177.3817,-31.7338 171.5511,-35.6073\"/>\n<text text-anchor=\"middle\" x=\"180\" y=\"-7.8\" font-family=\"Times,serif\" font-size=\"14.00\" fill=\"#000000\">1</text>\n</g>\n<!-- 10&#45;&gt;11 -->\n<g id=\"edge16\" class=\"edge\">\n<title>10&#45;&gt;11</title>\n<path fill=\"none\" stroke=\"#000000\" d=\"M198.0109,-60C205.709,-60 214.9371,-60 223.7439,-60\"/>\n<polygon fill=\"#000000\" stroke=\"#000000\" points=\"223.7718,-63.5001 233.7718,-60 223.7718,-56.5001 223.7718,-63.5001\"/>\n<text text-anchor=\"middle\" x=\"216\" y=\"-66.8\" font-family=\"Times,serif\" font-size=\"14.00\" fill=\"#000000\">0</text>\n</g>\n<!-- 11&#45;&gt;4812 -->\n<g id=\"edge18\" class=\"edge\">\n<title>11&#45;&gt;4812</title>\n<path fill=\"none\" stroke=\"#000000\" d=\"M269.2308,-77.706C280.0136,-92.1358 295.3141,-112.6116 307.0036,-128.2548\"/>\n<polygon fill=\"#000000\" stroke=\"#000000\" points=\"304.285,-130.4638 313.0746,-136.3793 309.8924,-126.2736 304.285,-130.4638\"/>\n<text text-anchor=\"middle\" x=\"300\" y=\"-103.8\" font-family=\"Times,serif\" font-size=\"14.00\" fill=\"#000000\">0</text>\n</g>\n<!-- 11&#45;&gt;11 -->\n<g id=\"edge19\" class=\"edge\">\n<title>11:s&#45;&gt;11:s</title>\n<path fill=\"none\" stroke=\"#000000\" d=\"M256,-38C265,-30.3333 265,-15 256,-15 249.8125,-15 247.8789,-22.2474 250.1992,-29.2683\"/>\n<polygon fill=\"#000000\" stroke=\"#000000\" points=\"247.5511,-31.6073 256,-38 253.3817,-27.7338 247.5511,-31.6073\"/>\n<text text-anchor=\"middle\" x=\"256\" y=\"-3.8\" font-family=\"Times,serif\" font-size=\"14.00\" fill=\"#000000\">1</text>\n</g>\n</g>\n</svg>\n"
          },
          "metadata": {
            "tags": []
          },
          "execution_count": 10
        }
      ]
    },
    {
      "cell_type": "markdown",
      "metadata": {
        "id": "Artxb_aYTU5R"
      },
      "source": [
        "# Done\r\n",
        "We read and understood the material."
      ]
    }
  ]
}