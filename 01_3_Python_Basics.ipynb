{
  "nbformat": 4,
  "nbformat_minor": 0,
  "metadata": {
    "kernelspec": {
      "display_name": "Python 3",
      "language": "python",
      "name": "python3"
    },
    "language_info": {
      "codemirror_mode": {
        "name": "ipython",
        "version": 3
      },
      "file_extension": ".py",
      "mimetype": "text/x-python",
      "name": "python",
      "nbconvert_exporter": "python",
      "pygments_lexer": "ipython3",
      "version": "3.9.0"
    },
    "colab": {
      "name": "01_3_Python_Basics.ipynb",
      "provenance": [],
      "collapsed_sections": [],
      "include_colab_link": true
    }
  },
  "cells": [
    {
      "cell_type": "markdown",
      "metadata": {
        "id": "view-in-github",
        "colab_type": "text"
      },
      "source": [
        "<a href=\"https://colab.research.google.com/github/mloumeau/cse480-notebooks/blob/master/01_3_Python_Basics.ipynb\" target=\"_parent\"><img src=\"https://colab.research.google.com/assets/colab-badge.svg\" alt=\"Open In Colab\"/></a>"
      ]
    },
    {
      "cell_type": "markdown",
      "metadata": {
        "id": "w98DxtVRkZaF"
      },
      "source": [
        "# First let's import, then look for the assignment below"
      ]
    },
    {
      "cell_type": "code",
      "metadata": {
        "id": "v4fY-OGOkZaP",
        "colab": {
          "base_uri": "https://localhost:8080/"
        },
        "outputId": "f355de93-3c43-4e43-e10f-23cc5feaa890"
      },
      "source": [
        "#~~~~~~~~~~~~~~~~~~~~~~~~~~~~~~~~~~~~~~~~~~~~~~~~~~~~~~~\n",
        "import sys\n",
        "\n",
        "# -- Detect if in Own Install or in Colab\n",
        "try:\n",
        "    import google.colab\n",
        "    OWN_INSTALL = False\n",
        "except:\n",
        "    OWN_INSTALL = True\n",
        "    \n",
        "if OWN_INSTALL:\n",
        "    \n",
        "  sys.path[0:0] = ['../../../../..',  '../../../../../3rdparty',  \n",
        "                   '../../../..',  '../../../../3rdparty',  \n",
        "                   '../../..',     '../../../3rdparty', \n",
        "                   '../..',        '../../3rdparty',\n",
        "                   '..',           '../3rdparty' ]\n",
        "\n",
        "else: # In colab\n",
        "  ! if [ ! -d Jove ]; then git clone https://github.com/ganeshutah/Jove Jove; fi\n",
        "  sys.path.append('./Jove')\n",
        "  sys.path.append('./Jove/jove')\n",
        "\n",
        "# -- common imports --\n",
        "from jove.LangDef   import *\n",
        "#~~~~~~~~~~~~~~~~~~~~~~~~~~~~~~~~~~~~~~~~~~~~~~~~~~~~~~~"
      ],
      "execution_count": null,
      "outputs": [
        {
          "output_type": "stream",
          "text": [
            "Cloning into 'Jove'...\n",
            "remote: Enumerating objects: 4634, done.\u001b[K\n",
            "remote: Total 4634 (delta 0), reused 0 (delta 0), pack-reused 4634\u001b[K\n",
            "Receiving objects: 100% (4634/4634), 7.38 MiB | 26.78 MiB/s, done.\n",
            "Resolving deltas: 100% (3005/3005), done.\n",
            "You may use any of these help commands:\n",
            "help(lphi)\n",
            "help(lunit)\n",
            "help(lcat)\n",
            "help(lexp)\n",
            "help(lunion)\n",
            "help(lstar)\n",
            "help(srev)\n",
            "help(lrev)\n",
            "help(shomo)\n",
            "help(lhomo)\n",
            "help(powset)\n",
            "help(lint)\n",
            "help(lsymdiff)\n",
            "help(lminus)\n",
            "help(lissubset)\n",
            "help(lissuperset)\n",
            "help(lcomplem)\n",
            "help(product)\n",
            "help(nthnumeric)\n",
            "\n"
          ],
          "name": "stdout"
        }
      ]
    },
    {
      "cell_type": "markdown",
      "metadata": {
        "id": "cPpsB9tgkZaQ"
      },
      "source": [
        "# Week 01 Notebook 2 on Python Basics"
      ]
    },
    {
      "cell_type": "markdown",
      "metadata": {
        "id": "m8l6pTa1kZaQ"
      },
      "source": [
        "## Define a regular language via Python's set builder (set comprehension) syntax\n",
        "\n",
        "<font size=\"4\"> \n",
        "    \n",
        "Recall from Chapter-1 that sets of strings of the form \"any number of $a$'s followed by any number of $b$'s followed by any number of $c$'s are regular languages.\n",
        "\n",
        "* Here, for instance, is a regular language\n",
        "    \n",
        "    $$ \\{ a^i b^j c^k \\;:\\; i,j,k \\ge 0 \\}$$\n",
        "  \n",
        "\n",
        "**Task for you**:\n",
        "\n",
        "* Define the above set in Python, limiting $i,j,k$ to be in $\\{0, \\ldots, 4\\}$.\n",
        "\n",
        "**IMPORTANT NOTE**: ALL finite sets are regular. Thus by truncating the set to a finite size, we always get a regular language. The purpose of truncation is ONLY to make sure that the printing stops. What we are really referring to as a regular language of interest is the mathematical language\n",
        "\n",
        "   $$ \\{ a^i b^j c^k \\;:\\; i,j,k \\ge 0 \\}$$\n",
        "    \n",
        "    \n",
        "</font>  "
      ]
    },
    {
      "cell_type": "code",
      "metadata": {
        "colab": {
          "base_uri": "https://localhost:8080/"
        },
        "id": "IHVWr5KOkZaQ",
        "outputId": "bcb5ed64-743d-4777-9967-f70a635f9f64"
      },
      "source": [
        "# The above regular language truncated to a small size, below\n",
        "A_reg_language = list({i+j+k for i in ('', 'a', 'aa', 'aaa', 'aaaa') for j in ('', 'b', 'bb', 'bbb', 'bbbb') for k in ('', 'c', 'cc', 'ccc', 'cccc')})\n",
        "A_reg_language.sort()\n",
        "\n",
        "\n",
        "# Print its contents\n",
        "\n",
        "print(A_reg_language)\n",
        "print(len(A_reg_language))"
      ],
      "execution_count": null,
      "outputs": [
        {
          "output_type": "stream",
          "text": [
            "['', 'a', 'aa', 'aaa', 'aaaa', 'aaaab', 'aaaabb', 'aaaabbb', 'aaaabbbb', 'aaaabbbbc', 'aaaabbbbcc', 'aaaabbbbccc', 'aaaabbbbcccc', 'aaaabbbc', 'aaaabbbcc', 'aaaabbbccc', 'aaaabbbcccc', 'aaaabbc', 'aaaabbcc', 'aaaabbccc', 'aaaabbcccc', 'aaaabc', 'aaaabcc', 'aaaabccc', 'aaaabcccc', 'aaaac', 'aaaacc', 'aaaaccc', 'aaaacccc', 'aaab', 'aaabb', 'aaabbb', 'aaabbbb', 'aaabbbbc', 'aaabbbbcc', 'aaabbbbccc', 'aaabbbbcccc', 'aaabbbc', 'aaabbbcc', 'aaabbbccc', 'aaabbbcccc', 'aaabbc', 'aaabbcc', 'aaabbccc', 'aaabbcccc', 'aaabc', 'aaabcc', 'aaabccc', 'aaabcccc', 'aaac', 'aaacc', 'aaaccc', 'aaacccc', 'aab', 'aabb', 'aabbb', 'aabbbb', 'aabbbbc', 'aabbbbcc', 'aabbbbccc', 'aabbbbcccc', 'aabbbc', 'aabbbcc', 'aabbbccc', 'aabbbcccc', 'aabbc', 'aabbcc', 'aabbccc', 'aabbcccc', 'aabc', 'aabcc', 'aabccc', 'aabcccc', 'aac', 'aacc', 'aaccc', 'aacccc', 'ab', 'abb', 'abbb', 'abbbb', 'abbbbc', 'abbbbcc', 'abbbbccc', 'abbbbcccc', 'abbbc', 'abbbcc', 'abbbccc', 'abbbcccc', 'abbc', 'abbcc', 'abbccc', 'abbcccc', 'abc', 'abcc', 'abccc', 'abcccc', 'ac', 'acc', 'accc', 'acccc', 'b', 'bb', 'bbb', 'bbbb', 'bbbbc', 'bbbbcc', 'bbbbccc', 'bbbbcccc', 'bbbc', 'bbbcc', 'bbbccc', 'bbbcccc', 'bbc', 'bbcc', 'bbccc', 'bbcccc', 'bc', 'bcc', 'bccc', 'bcccc', 'c', 'cc', 'ccc', 'cccc']\n",
            "125\n"
          ],
          "name": "stdout"
        }
      ]
    },
    {
      "cell_type": "markdown",
      "metadata": {
        "id": "d_NWHQaVkZaR"
      },
      "source": [
        "## Define a context-free language via Python's set builder (set comprehension) syntax\n",
        "\n",
        "<font size=\"4\"> \n",
        "    \n",
        "Recall from Chapter-1 that sets of strings of the form \"any number of $a$'s followed by the same number of $b$'s and $c$'s is context-free.\n",
        "    \n",
        "* Here, for instance, is a context-free language\n",
        "    \n",
        "    $$ \\{ a^i b^j c^j \\;:\\; i,j \\ge 0 \\}$$\n",
        "     \n",
        "\n",
        "**Task for you**:\n",
        "\n",
        "* Define the above set in Python, again limiting $i,j,k$ to be in $\\{0, \\ldots, 4\\}$.\n",
        "\n",
        "**IMPORTANT NOTE**: ALL finite sets are regular. Thus by truncating the set to a finite size, we always get a regular language. The purpose of truncation is ONLY to make sure that the printing stops. What we are really referring to as a **context-free language** of interest is the mathematical language\n",
        "\n",
        "   $$ \\{ a^i b^j c^j \\;:\\; i,j \\ge 0 \\}$$\n",
        "    \n",
        "    \n",
        "</font>  "
      ]
    },
    {
      "cell_type": "code",
      "metadata": {
        "colab": {
          "base_uri": "https://localhost:8080/"
        },
        "id": "LOj_EHDDm7Vd",
        "outputId": "4987d0d9-8a08-4efd-996a-47d76b723aae"
      },
      "source": [
        "\n",
        "# The above regular language truncated to a small size, below\n",
        "A_context_free_language = list({i+j+k for i in ('', 'a', 'aa', 'aaa', 'aaaa') for j in ('', 'b', 'bb', 'bbb', 'bbbb') for k in ('', 'c', 'cc', 'ccc', 'cccc') if len(j) == len(k)})\n",
        "A_context_free_language.sort()\n",
        "\n",
        "\n",
        "# Print its contents\n",
        "\n",
        "print(A_context_free_language)\n",
        "print(len(A_context_free_language))"
      ],
      "execution_count": null,
      "outputs": [
        {
          "output_type": "stream",
          "text": [
            "['', 'a', 'aa', 'aaa', 'aaaa', 'aaaabbbbcccc', 'aaaabbbccc', 'aaaabbcc', 'aaaabc', 'aaabbbbcccc', 'aaabbbccc', 'aaabbcc', 'aaabc', 'aabbbbcccc', 'aabbbccc', 'aabbcc', 'aabc', 'abbbbcccc', 'abbbccc', 'abbcc', 'abc', 'bbbbcccc', 'bbbccc', 'bbcc', 'bc']\n",
            "25\n"
          ],
          "name": "stdout"
        }
      ]
    },
    {
      "cell_type": "markdown",
      "metadata": {
        "id": "38ixkGY_kZaS"
      },
      "source": [
        "## Define another context-free language  \n",
        "\n",
        "<font size=\"4\"> \n",
        "    \n",
        "In Chapter 4, we will study the Pumping Lemma to argue that this language is not context-free:\n",
        "    $$L_{if} = \\{ a^i b^j c^k \\;:\\; {\\rm if}\\; (i=2)\\; {\\rm then}\\; (j=k) \\}$$\n",
        "    \n",
        "\n",
        "\n",
        "**Task for you**:\n",
        "\n",
        "* Define $L_{if}$ in Python, again limiting $i,j,k$ to be in $\\{0, \\ldots, 4\\}$.\n",
        "* List all the strings where the condition $(i=2)$ is met. How many such strings are there?\n",
        "    \n",
        "**IMPORTANT NOTE**: ALL finite sets are regular. Thus by truncating the set to a finite size, we always get a regular language. The purpose of truncation is ONLY to make sure that the printing stops. What we are really referring to as a **context-free language** of interest is the mathematical language\n",
        "\n",
        "   \n",
        "  $$L_{if} = \\{ a^i b^j c^k \\;:\\; {\\rm if}\\; (i=2)\\; {\\rm then}\\; (j=k) \\}$$\n",
        "    \n",
        "    \n",
        "</font>  "
      ]
    },
    {
      "cell_type": "code",
      "metadata": {
        "id": "WW6rZFA0kZaS",
        "colab": {
          "base_uri": "https://localhost:8080/"
        },
        "outputId": "bfea6728-8366-4bec-d381-7489122441aa"
      },
      "source": [
        "# The above regular language truncated to a small size, below\n",
        "Lif = list({i+j+k for i in ('', 'a', 'aa', 'aaa', 'aaaa') for j in ('', 'b', 'bb', 'bbb', 'bbbb') for k in ('', 'c', 'cc', 'ccc', 'cccc') if len(i)==2 and len(j)==len(k)})\n",
        "Lif.sort()\n",
        "\n",
        "\n",
        "# Print its contents\n",
        "\n",
        "print(Lif)\n",
        "print(len(Lif))"
      ],
      "execution_count": null,
      "outputs": [
        {
          "output_type": "stream",
          "text": [
            "['aa', 'aabbbbcccc', 'aabbbccc', 'aabbcc', 'aabc']\n",
            "5\n"
          ],
          "name": "stdout"
        }
      ]
    },
    {
      "cell_type": "markdown",
      "metadata": {
        "id": "Zbgp7QbwkZaS"
      },
      "source": [
        "# Number of strings where (i=2) is met, and which are they?\n",
        "\n",
        "There are THIS MANY strings where (i=2) is met (EDIT \"THIS MANY\")\n",
        "\n",
        "# The strings where i = 2 is met are these:\n",
        "\n",
        "string1\n",
        "string2\n",
        "... (EDIT real strings here)\n",
        " "
      ]
    },
    {
      "cell_type": "markdown",
      "metadata": {
        "id": "M5_EO-oskZaS"
      },
      "source": [
        "# END"
      ]
    }
  ]
}