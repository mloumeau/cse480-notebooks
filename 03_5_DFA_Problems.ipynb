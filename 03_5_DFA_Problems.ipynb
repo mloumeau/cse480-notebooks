{
  "nbformat": 4,
  "nbformat_minor": 0,
  "metadata": {
    "kernelspec": {
      "display_name": "Python 3",
      "language": "python",
      "name": "python3"
    },
    "language_info": {
      "codemirror_mode": {
        "name": "ipython",
        "version": 3
      },
      "file_extension": ".py",
      "mimetype": "text/x-python",
      "name": "python",
      "nbconvert_exporter": "python",
      "pygments_lexer": "ipython3",
      "version": "3.9.0"
    },
    "colab": {
      "name": "03_5_DFA_Problems.ipynb",
      "provenance": []
    }
  },
  "cells": [
    {
      "cell_type": "markdown",
      "metadata": {
        "id": "PedEJS2DER3X"
      },
      "source": [
        "# First let's import, then look for the assignment below"
      ]
    },
    {
      "cell_type": "code",
      "metadata": {
        "id": "bHOQkDsfER3f",
        "outputId": "b6a69b29-19c0-438a-d678-a8cdccc4389a",
        "colab": {
          "base_uri": "https://localhost:8080/"
        }
      },
      "source": [
        "#~~~~~~~~~~~~~~~~~~~~~~~~~~~~~~~~~~~~~~~~~~~~~~~~~~~~~~~\n",
        "import sys\n",
        "\n",
        "# -- Detect if in Own Install or in Colab\n",
        "try:\n",
        "    import google.colab\n",
        "    OWN_INSTALL = False\n",
        "except:\n",
        "    OWN_INSTALL = True\n",
        "    \n",
        "if OWN_INSTALL:\n",
        "\n",
        "  sys.path[0:0] = ['../../../../..',  '../../../../../3rdparty',  \n",
        "                   '../../../..',  '../../../../3rdparty',  \n",
        "                   '../../..',     '../../../3rdparty', \n",
        "                   '../..',        '../../3rdparty',\n",
        "                   '..',           '../3rdparty' ]\n",
        "\n",
        "else: # In colab\n",
        "  ! if [ ! -d Jove ]; then git clone https://github.com/ganeshutah/Jove Jove; fi\n",
        "  sys.path.append('./Jove')\n",
        "  sys.path.append('./Jove/jove')\n",
        "\n",
        "# -- common imports --\n",
        "from jove.LangDef   import *  #-- mainly for nthnumeric\n",
        "from jove.Def_md2mc import *  #-- for md2mc\n",
        "from jove.Def_DFA   import *  #-- for all DFA functions\n",
        "from jove.DotBashers import * #-- for dotObj_dfa\n",
        "#~~~~~~~~~~~~~~~~~~~~~~~~~~~~~~~~~~~~~~~~~~~~~~~~~~~~~~~"
      ],
      "execution_count": 1,
      "outputs": [
        {
          "output_type": "stream",
          "text": [
            "Cloning into 'Jove'...\n",
            "remote: Enumerating objects: 4634, done.\u001b[K\n",
            "remote: Total 4634 (delta 0), reused 0 (delta 0), pack-reused 4634\u001b[K\n",
            "Receiving objects: 100% (4634/4634), 7.38 MiB | 4.62 MiB/s, done.\n",
            "Resolving deltas: 100% (3005/3005), done.\n",
            "You may use any of these help commands:\n",
            "help(lphi)\n",
            "help(lunit)\n",
            "help(lcat)\n",
            "help(lexp)\n",
            "help(lunion)\n",
            "help(lstar)\n",
            "help(srev)\n",
            "help(lrev)\n",
            "help(shomo)\n",
            "help(lhomo)\n",
            "help(powset)\n",
            "help(lint)\n",
            "help(lsymdiff)\n",
            "help(lminus)\n",
            "help(lissubset)\n",
            "help(lissuperset)\n",
            "help(lcomplem)\n",
            "help(product)\n",
            "help(nthnumeric)\n",
            "\n",
            "You may use any of these help commands:\n",
            "help(md2mc)\n",
            ".. and if you want to dig more, then ..\n",
            "help(default_line_attr)\n",
            "help(length_ok_input_items)\n",
            "help(union_line_attr_list_fld)\n",
            "help(extend_rsltdict)\n",
            "help(form_delta)\n",
            "help(get_machine_components)\n",
            "\n",
            "You may use any of these help commands:\n",
            "help(ResetStNum)\n",
            "help(NxtStateStr)\n",
            "\n",
            "You may use any of these help commands:\n",
            "help(mkp_dfa)\n",
            "help(mk_dfa)\n",
            "help(totalize_dfa)\n",
            "help(addtosigma_delta)\n",
            "help(step_dfa)\n",
            "help(run_dfa)\n",
            "help(accepts_dfa)\n",
            "help(comp_dfa)\n",
            "help(union_dfa)\n",
            "help(intersect_dfa)\n",
            "help(pruneUnreach)\n",
            "help(iso_dfa)\n",
            "help(langeq_dfa)\n",
            "help(same_status)\n",
            "help(h_langeq_dfa)\n",
            "help(fixptDist)\n",
            "help(min_dfa)\n",
            "help(pairFR)\n",
            "help(state_combos)\n",
            "help(sepFinNonFin)\n",
            "help(bash_eql_classes)\n",
            "help(listminus)\n",
            "help(bash_1)\n",
            "help(mk_rep_eqc)\n",
            "help(F_of)\n",
            "help(rep_of_s)\n",
            "help(q0_of)\n",
            "help(Delta_of)\n",
            "help(mk_state_eqc_name)\n",
            "\n"
          ],
          "name": "stdout"
        }
      ]
    },
    {
      "cell_type": "markdown",
      "metadata": {
        "id": "6TcuoJRiER3g"
      },
      "source": [
        "# Task 1: Define DFA Even010\n",
        "\n",
        "<font size=\"4\">    \n",
        "Using Jove's markdown, define a DFA for the language of strings over alphabet $\\{0,1\\}$ that accepts an even number of NON-OVERLAPPING occurrences of $010$s. Thoroughly document your construction!\n",
        "    \n",
        "HERE ARE EXAMPLES :\n",
        "\n",
        "* 01010 - does NOT have an even number of 0's because we wanted NON-OVERLAPPING\n",
        "\n",
        "* 0101010 - has two NON-OVERLAPPING occurrences of 010 -- that is what we want!\n",
        "\n",
        "* 0101111010 - has two NON-OVERLAPPING occurrences of 010\n",
        "\n",
        "* 111111 - has ZERO occurrences of 010\n",
        "    \n",
        "</font>"
      ]
    },
    {
      "cell_type": "markdown",
      "metadata": {
        "id": "wLx3iQPMER3g"
      },
      "source": [
        "### Hint: Name states to remember the essence of the history of inputs so far. If you do so, and also keep the sense of where the machine is (in an I state, an IF state or an F state), then you'll have the solution fall out automatically!\n",
        "\n",
        "Please read the Jove_User_Manual and heed the advice given there regarding how to write your automaton markdowns, how to place comments, how to group the lines of a DFA per state, and how to order which transition you may first consider.\n"
      ]
    },
    {
      "cell_type": "code",
      "metadata": {
        "id": "WNqi8gAJER3h"
      },
      "source": [
        "Even010 = md2mc('''\n",
        "DFA \n",
        "\n",
        "!! Put comments describing overall plan here\n",
        "\n",
        " IF : 1 -> IF\n",
        " IF : 0 -> F0\n",
        " F0 : 0 -> F0\n",
        " F0 : 1 -> F01\n",
        " F01 : 1 -> IF\n",
        " F01 : 0 -> S010\n",
        " S010 : 0 -> S0100\n",
        " S010 : 1 -> S010\n",
        " S0100 : 0 -> S0100\n",
        " S0100 : 1 -> S01001\n",
        " S01001 : 0 -> IF\n",
        " S01001 : 1 -> S010\n",
        "\n",
        " \n",
        "''')"
      ],
      "execution_count": 4,
      "outputs": []
    },
    {
      "cell_type": "code",
      "metadata": {
        "id": "xMgOjef2ER3i",
        "outputId": "285bd50a-5942-413b-a847-1bbf0d8f09ca",
        "colab": {
          "base_uri": "https://localhost:8080/",
          "height": 297
        }
      },
      "source": [
        "dotObj_dfa(min_dfa(Even010))"
      ],
      "execution_count": 6,
      "outputs": [
        {
          "output_type": "execute_result",
          "data": {
            "text/plain": [
              "<graphviz.dot.Digraph at 0x7f603ea61e10>"
            ],
            "image/svg+xml": "<?xml version=\"1.0\" encoding=\"UTF-8\" standalone=\"no\"?>\n<!DOCTYPE svg PUBLIC \"-//W3C//DTD SVG 1.1//EN\"\n \"http://www.w3.org/Graphics/SVG/1.1/DTD/svg11.dtd\">\n<!-- Generated by graphviz version 2.40.1 (20161225.0304)\n -->\n<!-- Title: %3 Pages: 1 -->\n<svg width=\"707pt\" height=\"207pt\"\n viewBox=\"0.00 0.00 707.47 206.75\" xmlns=\"http://www.w3.org/2000/svg\" xmlns:xlink=\"http://www.w3.org/1999/xlink\">\n<g id=\"graph0\" class=\"graph\" transform=\"scale(1 1) rotate(0) translate(4 202.7468)\">\n<title>%3</title>\n<polygon fill=\"#ffffff\" stroke=\"transparent\" points=\"-4,4 -4,-202.7468 703.4694,-202.7468 703.4694,4 -4,4\"/>\n<!-- EMPTY -->\n<g id=\"node1\" class=\"node\">\n<title>EMPTY</title>\n</g>\n<!-- IF -->\n<g id=\"node7\" class=\"node\">\n<title>IF</title>\n<ellipse fill=\"none\" stroke=\"#000000\" cx=\"113.8483\" cy=\"-140.7468\" rx=\"18.724\" ry=\"18.724\"/>\n<ellipse fill=\"none\" stroke=\"#000000\" cx=\"113.8483\" cy=\"-140.7468\" rx=\"22.6977\" ry=\"22.6977\"/>\n<text text-anchor=\"middle\" x=\"113.8483\" y=\"-137.0468\" font-family=\"Times,serif\" font-size=\"14.00\" fill=\"#000000\">IF</text>\n</g>\n<!-- EMPTY&#45;&gt;IF -->\n<g id=\"edge1\" class=\"edge\">\n<title>EMPTY&#45;&gt;IF</title>\n<path fill=\"none\" stroke=\"#000000\" d=\"M54.0033,-140.7468C62.5212,-140.7468 72.0276,-140.7468 80.9112,-140.7468\"/>\n<polygon fill=\"#000000\" stroke=\"#000000\" points=\"80.9572,-144.2469 90.9572,-140.7468 80.9572,-137.2469 80.9572,-144.2469\"/>\n</g>\n<!-- S0100 -->\n<g id=\"node2\" class=\"node\">\n<title>S0100</title>\n<ellipse fill=\"none\" stroke=\"#000000\" cx=\"535.1298\" cy=\"-35.7468\" rx=\"35.9954\" ry=\"35.9954\"/>\n<text text-anchor=\"middle\" x=\"535.1298\" y=\"-32.0468\" font-family=\"Times,serif\" font-size=\"14.00\" fill=\"#000000\">S0100</text>\n</g>\n<!-- S0100&#45;&gt;S0100 -->\n<g id=\"edge10\" class=\"edge\">\n<title>S0100&#45;&gt;S0100</title>\n<path fill=\"none\" stroke=\"#000000\" d=\"M524.2574,-69.8618C524.3689,-80.8136 527.993,-89.4937 535.1298,-89.4937 539.8132,-89.4937 542.9839,-85.7555 544.6419,-80.0902\"/>\n<polygon fill=\"#000000\" stroke=\"#000000\" points=\"548.1533,-80.2359 546.0021,-69.8618 541.2144,-79.3131 548.1533,-80.2359\"/>\n<text text-anchor=\"middle\" x=\"535.1298\" y=\"-93.2937\" font-family=\"Times,serif\" font-size=\"14.00\" fill=\"#000000\">0 </text>\n</g>\n<!-- S01001 -->\n<g id=\"node3\" class=\"node\">\n<title>S01001</title>\n<ellipse fill=\"none\" stroke=\"#000000\" cx=\"659.173\" cy=\"-140.7468\" rx=\"40.0939\" ry=\"40.0939\"/>\n<text text-anchor=\"middle\" x=\"659.173\" y=\"-137.0468\" font-family=\"Times,serif\" font-size=\"14.00\" fill=\"#000000\">S01001</text>\n</g>\n<!-- S0100&#45;&gt;S01001 -->\n<g id=\"edge11\" class=\"edge\">\n<title>S0100&#45;&gt;S01001</title>\n<path fill=\"none\" stroke=\"#000000\" d=\"M562.659,-59.0497C579.6463,-73.4291 601.6954,-92.0933 620.4299,-107.9516\"/>\n<polygon fill=\"#000000\" stroke=\"#000000\" points=\"618.3376,-110.7661 628.2316,-114.5555 622.8602,-105.4232 618.3376,-110.7661\"/>\n<text text-anchor=\"middle\" x=\"594.8766\" y=\"-95.5468\" font-family=\"Times,serif\" font-size=\"14.00\" fill=\"#000000\">1 </text>\n</g>\n<!-- S010 -->\n<g id=\"node4\" class=\"node\">\n<title>S010</title>\n<ellipse fill=\"none\" stroke=\"#000000\" cx=\"420.8356\" cy=\"-79.7468\" rx=\"30.5947\" ry=\"30.5947\"/>\n<text text-anchor=\"middle\" x=\"420.8356\" y=\"-76.0468\" font-family=\"Times,serif\" font-size=\"14.00\" fill=\"#000000\">S010</text>\n</g>\n<!-- S01001&#45;&gt;S010 -->\n<g id=\"edge13\" class=\"edge\">\n<title>S01001&#45;&gt;S010</title>\n<path fill=\"none\" stroke=\"#000000\" d=\"M618.8364,-136.6588C586.1573,-132.6998 539.1729,-125.5319 499.3829,-113.7468 485.2811,-109.5701 470.3423,-103.5407 457.3217,-97.7156\"/>\n<polygon fill=\"#000000\" stroke=\"#000000\" points=\"458.7676,-94.5283 448.219,-93.5395 455.8486,-100.8906 458.7676,-94.5283\"/>\n<text text-anchor=\"middle\" x=\"535.1298\" y=\"-133.5468\" font-family=\"Times,serif\" font-size=\"14.00\" fill=\"#000000\">1 </text>\n</g>\n<!-- S01001&#45;&gt;IF -->\n<g id=\"edge12\" class=\"edge\">\n<title>S01001&#45;&gt;IF</title>\n<path fill=\"none\" stroke=\"#000000\" d=\"M623.658,-160.1084C599.4417,-171.5217 566.2415,-183.7468 535.1298,-183.7468 209.4948,-183.7468 209.4948,-183.7468 209.4948,-183.7468 184.6177,-183.7468 159.0482,-171.4965 140.6126,-160.0731\"/>\n<polygon fill=\"#000000\" stroke=\"#000000\" points=\"142.4625,-157.1012 132.1698,-154.589 138.6494,-162.9715 142.4625,-157.1012\"/>\n<text text-anchor=\"middle\" x=\"366.2884\" y=\"-187.5468\" font-family=\"Times,serif\" font-size=\"14.00\" fill=\"#000000\">0 </text>\n</g>\n<!-- S010&#45;&gt;S0100 -->\n<g id=\"edge8\" class=\"edge\">\n<title>S010&#45;&gt;S0100</title>\n<path fill=\"none\" stroke=\"#000000\" d=\"M449.382,-68.7573C462.2753,-63.7937 477.7856,-57.8227 492.0492,-52.3316\"/>\n<polygon fill=\"#000000\" stroke=\"#000000\" points=\"493.6025,-55.4841 501.6774,-48.625 491.0876,-48.9515 493.6025,-55.4841\"/>\n<text text-anchor=\"middle\" x=\"475.3829\" y=\"-64.5468\" font-family=\"Times,serif\" font-size=\"14.00\" fill=\"#000000\">0 </text>\n</g>\n<!-- S010&#45;&gt;S010 -->\n<g id=\"edge9\" class=\"edge\">\n<title>S010&#45;&gt;S010</title>\n<path fill=\"none\" stroke=\"#000000\" d=\"M410.7329,-108.6539C410.4016,-119.4266 413.7692,-128.2941 420.8356,-128.2941 425.473,-128.2941 428.5173,-124.4752 429.9688,-118.8051\"/>\n<polygon fill=\"#000000\" stroke=\"#000000\" points=\"433.4716,-118.9414 430.9384,-108.6539 426.5033,-118.2758 433.4716,-118.9414\"/>\n<text text-anchor=\"middle\" x=\"420.8356\" y=\"-132.0941\" font-family=\"Times,serif\" font-size=\"14.00\" fill=\"#000000\">1 </text>\n</g>\n<!-- F0 -->\n<g id=\"node5\" class=\"node\">\n<title>F0</title>\n<ellipse fill=\"none\" stroke=\"#000000\" cx=\"209.4948\" cy=\"-46.7468\" rx=\"20.6302\" ry=\"20.6302\"/>\n<ellipse fill=\"none\" stroke=\"#000000\" cx=\"209.4948\" cy=\"-46.7468\" rx=\"24.5979\" ry=\"24.5979\"/>\n<text text-anchor=\"middle\" x=\"209.4948\" y=\"-43.0468\" font-family=\"Times,serif\" font-size=\"14.00\" fill=\"#000000\">F0</text>\n</g>\n<!-- F0&#45;&gt;F0 -->\n<g id=\"edge4\" class=\"edge\">\n<title>F0&#45;&gt;F0</title>\n<path fill=\"none\" stroke=\"#000000\" d=\"M200.6354,-70.0789C199.7917,-80.5172 202.7448,-89.545 209.4948,-89.545 213.819,-89.545 216.585,-85.84 217.7927,-80.4327\"/>\n<polygon fill=\"#000000\" stroke=\"#000000\" points=\"221.3075,-80.2538 218.3542,-70.0789 214.3178,-79.8747 221.3075,-80.2538\"/>\n<text text-anchor=\"middle\" x=\"209.4948\" y=\"-93.345\" font-family=\"Times,serif\" font-size=\"14.00\" fill=\"#000000\">0 </text>\n</g>\n<!-- F01 -->\n<g id=\"node6\" class=\"node\">\n<title>F01</title>\n<ellipse fill=\"none\" stroke=\"#000000\" cx=\"312.2907\" cy=\"-79.7468\" rx=\"25.9957\" ry=\"25.9957\"/>\n<ellipse fill=\"none\" stroke=\"#000000\" cx=\"312.2907\" cy=\"-79.7468\" rx=\"29.9954\" ry=\"29.9954\"/>\n<text text-anchor=\"middle\" x=\"312.2907\" y=\"-76.0468\" font-family=\"Times,serif\" font-size=\"14.00\" fill=\"#000000\">F01</text>\n</g>\n<!-- F0&#45;&gt;F01 -->\n<g id=\"edge5\" class=\"edge\">\n<title>F0&#45;&gt;F01</title>\n<path fill=\"none\" stroke=\"#000000\" d=\"M233.3366,-54.4006C245.3637,-58.2616 260.2487,-63.0401 273.8414,-67.4037\"/>\n<polygon fill=\"#000000\" stroke=\"#000000\" points=\"272.8599,-70.7645 283.4512,-70.4886 274.9996,-64.0995 272.8599,-70.7645\"/>\n<text text-anchor=\"middle\" x=\"258.293\" y=\"-68.5468\" font-family=\"Times,serif\" font-size=\"14.00\" fill=\"#000000\">1 </text>\n</g>\n<!-- F01&#45;&gt;S010 -->\n<g id=\"edge7\" class=\"edge\">\n<title>F01&#45;&gt;S010</title>\n<path fill=\"none\" stroke=\"#000000\" d=\"M342.5265,-79.7468C354.0923,-79.7468 367.4831,-79.7468 379.8848,-79.7468\"/>\n<polygon fill=\"#000000\" stroke=\"#000000\" points=\"380.0078,-83.2469 390.0078,-79.7468 380.0077,-76.2469 380.0078,-83.2469\"/>\n<text text-anchor=\"middle\" x=\"366.2884\" y=\"-83.5468\" font-family=\"Times,serif\" font-size=\"14.00\" fill=\"#000000\">0 </text>\n</g>\n<!-- F01&#45;&gt;IF -->\n<g id=\"edge6\" class=\"edge\">\n<title>F01&#45;&gt;IF</title>\n<path fill=\"none\" stroke=\"#000000\" d=\"M285.3517,-93.006C270.5481,-99.9031 251.7043,-108.058 234.293,-113.7468 205.0624,-123.2975 170.7568,-130.6247 146.2503,-135.2202\"/>\n<polygon fill=\"#000000\" stroke=\"#000000\" points=\"145.5993,-131.7811 136.3909,-137.021 146.857,-138.6672 145.5993,-131.7811\"/>\n<text text-anchor=\"middle\" x=\"209.4948\" y=\"-131.5468\" font-family=\"Times,serif\" font-size=\"14.00\" fill=\"#000000\">1 </text>\n</g>\n<!-- IF&#45;&gt;F0 -->\n<g id=\"edge3\" class=\"edge\">\n<title>IF&#45;&gt;F0</title>\n<path fill=\"none\" stroke=\"#000000\" d=\"M130.5087,-124.3733C145.3611,-109.7765 167.3163,-88.1992 184.3121,-71.4961\"/>\n<polygon fill=\"#000000\" stroke=\"#000000\" points=\"187.0497,-73.7129 191.7286,-64.2072 182.1431,-68.7204 187.0497,-73.7129\"/>\n<text text-anchor=\"middle\" x=\"160.6967\" y=\"-103.5468\" font-family=\"Times,serif\" font-size=\"14.00\" fill=\"#000000\">0 </text>\n</g>\n<!-- IF&#45;&gt;IF -->\n<g id=\"edge2\" class=\"edge\">\n<title>IF&#45;&gt;IF</title>\n<path fill=\"none\" stroke=\"#000000\" d=\"M106.4966,-162.6001C105.6946,-172.7377 108.1452,-181.5952 113.8483,-181.5952 117.5019,-181.5952 119.8206,-177.9601 120.8045,-172.682\"/>\n<polygon fill=\"#000000\" stroke=\"#000000\" points=\"124.3052,-172.7296 121.2,-162.6001 117.3106,-172.4551 124.3052,-172.7296\"/>\n<text text-anchor=\"middle\" x=\"113.8483\" y=\"-185.3952\" font-family=\"Times,serif\" font-size=\"14.00\" fill=\"#000000\">1 </text>\n</g>\n</g>\n</svg>\n"
          },
          "metadata": {
            "tags": []
          },
          "execution_count": 6
        }
      ]
    },
    {
      "cell_type": "markdown",
      "metadata": {
        "id": "rTV9LfuWER3i"
      },
      "source": [
        "# Task 2: Define DFA Ends010\n",
        "\n",
        "<font size=\"4\">    \n",
        "3. Using Jove's markdown, define a DFA for the language of strings over alphabet $\\{0,1\\}$ that ends in a $010$, calling it Ends010. Then obtain the intersection with the Even010 machine using intersect_dfa. \n",
        "    \n",
        "    Call the intersection Even010_Ends010.\n",
        "    \n",
        "    Next, minimize Even010_Ends010, storing it in min_Even010_Ends010 .\n",
        "    \n",
        "    Again, document the construction thoroughly.\n",
        "    \n",
        "</font>"
      ]
    },
    {
      "cell_type": "markdown",
      "metadata": {
        "id": "LoctKWlLER3i"
      },
      "source": [
        "### Hint: Define a machine for \"ends $010$\" as illustrated by DFA Even010, and negate."
      ]
    },
    {
      "cell_type": "code",
      "metadata": {
        "id": "VcEYhBvuER3j"
      },
      "source": [
        "Ends010 =  md2mc('''\n",
        "DFA\n",
        "\n",
        "!! Again, follow the commenting plans and write the \"DFA code\" in neat bunches\n",
        " I : 1 -> I\n",
        " I : 0 -> S0\n",
        " S0 : 0 -> S0\n",
        " S0 : 1 -> S01\n",
        " S01 : 1 -> I\n",
        " S01 : 0 -> F010\n",
        " F010 : 0 -> S0\n",
        " F010 : 1 -> S01\n",
        "\n",
        "''')"
      ],
      "execution_count": 8,
      "outputs": []
    },
    {
      "cell_type": "code",
      "metadata": {
        "id": "cD4BJw58ER3j",
        "outputId": "11730cc9-5b22-4675-b3ef-693ee921b6e8",
        "colab": {
          "base_uri": "https://localhost:8080/",
          "height": 188
        }
      },
      "source": [
        "# Let's see the \"Ends010\" machine\n",
        "dotObj_dfa(Ends010, FuseEdges=True)"
      ],
      "execution_count": 9,
      "outputs": [
        {
          "output_type": "execute_result",
          "data": {
            "text/plain": [
              "<graphviz.dot.Digraph at 0x7f603e9213c8>"
            ],
            "image/svg+xml": "<?xml version=\"1.0\" encoding=\"UTF-8\" standalone=\"no\"?>\n<!DOCTYPE svg PUBLIC \"-//W3C//DTD SVG 1.1//EN\"\n \"http://www.w3.org/Graphics/SVG/1.1/DTD/svg11.dtd\">\n<!-- Generated by graphviz version 2.40.1 (20161225.0304)\n -->\n<!-- Title: %3 Pages: 1 -->\n<svg width=\"442pt\" height=\"125pt\"\n viewBox=\"0.00 0.00 441.69 124.80\" xmlns=\"http://www.w3.org/2000/svg\" xmlns:xlink=\"http://www.w3.org/1999/xlink\">\n<g id=\"graph0\" class=\"graph\" transform=\"scale(1 1) rotate(0) translate(4 120.7982)\">\n<title>%3</title>\n<polygon fill=\"#ffffff\" stroke=\"transparent\" points=\"-4,4 -4,-120.7982 437.6863,-120.7982 437.6863,4 -4,4\"/>\n<!-- EMPTY -->\n<g id=\"node1\" class=\"node\">\n<title>EMPTY</title>\n</g>\n<!-- I -->\n<g id=\"node3\" class=\"node\">\n<title>I</title>\n<ellipse fill=\"none\" stroke=\"#000000\" cx=\"109\" cy=\"-65.7982\" rx=\"18\" ry=\"18\"/>\n<text text-anchor=\"middle\" x=\"109\" y=\"-62.0982\" font-family=\"Times,serif\" font-size=\"14.00\" fill=\"#000000\">I</text>\n</g>\n<!-- EMPTY&#45;&gt;I -->\n<g id=\"edge1\" class=\"edge\">\n<title>EMPTY&#45;&gt;I</title>\n<path fill=\"none\" stroke=\"#000000\" d=\"M54.3048,-65.7982C62.6909,-65.7982 71.9407,-65.7982 80.4103,-65.7982\"/>\n<polygon fill=\"#000000\" stroke=\"#000000\" points=\"80.5976,-69.2983 90.5976,-65.7982 80.5976,-62.2983 80.5976,-69.2983\"/>\n</g>\n<!-- S01 -->\n<g id=\"node2\" class=\"node\">\n<title>S01</title>\n<ellipse fill=\"none\" stroke=\"#000000\" cx=\"290.594\" cy=\"-82.7982\" rx=\"25.9954\" ry=\"25.9954\"/>\n<text text-anchor=\"middle\" x=\"290.594\" y=\"-79.0982\" font-family=\"Times,serif\" font-size=\"14.00\" fill=\"#000000\">S01</text>\n</g>\n<!-- S01&#45;&gt;I -->\n<g id=\"edge6\" class=\"edge\">\n<title>S01&#45;&gt;I</title>\n<path fill=\"none\" stroke=\"#000000\" d=\"M264.2945,-85.1329C240.7793,-86.7206 205.4341,-87.8738 175,-83.7982 161.8892,-82.0424 147.6941,-78.4074 135.8398,-74.8606\"/>\n<polygon fill=\"#000000\" stroke=\"#000000\" points=\"136.6999,-71.4624 126.111,-71.8159 134.6092,-78.1429 136.6999,-71.4624\"/>\n<text text-anchor=\"middle\" x=\"195.7982\" y=\"-89.5982\" font-family=\"Times,serif\" font-size=\"14.00\" fill=\"#000000\">1 </text>\n</g>\n<!-- F010 -->\n<g id=\"node5\" class=\"node\">\n<title>F010</title>\n<ellipse fill=\"none\" stroke=\"#000000\" cx=\"399.139\" cy=\"-53.7982\" rx=\"30.5892\" ry=\"30.5892\"/>\n<ellipse fill=\"none\" stroke=\"#000000\" cx=\"399.139\" cy=\"-53.7982\" rx=\"34.5946\" ry=\"34.5946\"/>\n<text text-anchor=\"middle\" x=\"399.139\" y=\"-50.0982\" font-family=\"Times,serif\" font-size=\"14.00\" fill=\"#000000\">F010</text>\n</g>\n<!-- S01&#45;&gt;F010 -->\n<g id=\"edge7\" class=\"edge\">\n<title>S01&#45;&gt;F010</title>\n<path fill=\"none\" stroke=\"#000000\" d=\"M316.0512,-77.2696C325.658,-75.0833 336.6623,-72.4592 346.5917,-69.7982 349.7696,-68.9465 353.0453,-68.0338 356.3347,-67.092\"/>\n<polygon fill=\"#000000\" stroke=\"#000000\" points=\"357.5489,-70.3834 366.1601,-64.2111 355.5793,-63.6662 357.5489,-70.3834\"/>\n<text text-anchor=\"middle\" x=\"340.5917\" y=\"-75.5982\" font-family=\"Times,serif\" font-size=\"14.00\" fill=\"#000000\">0 </text>\n</g>\n<!-- I&#45;&gt;I -->\n<g id=\"edge2\" class=\"edge\">\n<title>I&#45;&gt;I</title>\n<path fill=\"none\" stroke=\"#000000\" d=\"M102.6208,-82.8355C101.3189,-92.6561 103.4453,-101.7982 109,-101.7982 112.4717,-101.7982 114.6042,-98.227 115.3975,-93.1511\"/>\n<polygon fill=\"#000000\" stroke=\"#000000\" points=\"118.8971,-92.8292 115.3792,-82.8355 111.8971,-92.8417 118.8971,-92.8292\"/>\n<text text-anchor=\"middle\" x=\"109\" y=\"-105.5982\" font-family=\"Times,serif\" font-size=\"14.00\" fill=\"#000000\">1 </text>\n</g>\n<!-- S0 -->\n<g id=\"node4\" class=\"node\">\n<title>S0</title>\n<ellipse fill=\"none\" stroke=\"#000000\" cx=\"195.7982\" cy=\"-20.7982\" rx=\"20.5982\" ry=\"20.5982\"/>\n<text text-anchor=\"middle\" x=\"195.7982\" y=\"-17.0982\" font-family=\"Times,serif\" font-size=\"14.00\" fill=\"#000000\">S0</text>\n</g>\n<!-- I&#45;&gt;S0 -->\n<g id=\"edge3\" class=\"edge\">\n<title>I&#45;&gt;S0</title>\n<path fill=\"none\" stroke=\"#000000\" d=\"M125.3261,-57.334C137.2961,-51.1282 153.8412,-42.5505 167.8922,-35.2658\"/>\n<polygon fill=\"#000000\" stroke=\"#000000\" points=\"169.8676,-38.1842 177.1345,-30.4742 166.6457,-31.9697 169.8676,-38.1842\"/>\n<text text-anchor=\"middle\" x=\"151\" y=\"-50.5982\" font-family=\"Times,serif\" font-size=\"14.00\" fill=\"#000000\">0 </text>\n</g>\n<!-- S0&#45;&gt;S01 -->\n<g id=\"edge5\" class=\"edge\">\n<title>S0&#45;&gt;S01</title>\n<path fill=\"none\" stroke=\"#000000\" d=\"M213.6285,-32.4599C226.6303,-40.9635 244.5743,-52.6996 259.8657,-62.7007\"/>\n<polygon fill=\"#000000\" stroke=\"#000000\" points=\"258.2203,-65.8066 268.505,-68.3511 262.0518,-59.9483 258.2203,-65.8066\"/>\n<text text-anchor=\"middle\" x=\"240.5963\" y=\"-56.5982\" font-family=\"Times,serif\" font-size=\"14.00\" fill=\"#000000\">1 </text>\n</g>\n<!-- S0&#45;&gt;S0 -->\n<g id=\"edge4\" class=\"edge\">\n<title>S0&#45;&gt;S0</title>\n<path fill=\"none\" stroke=\"#000000\" d=\"M187.8382,-40.3618C186.6136,-50.4777 189.2669,-59.5963 195.7982,-59.5963 199.9822,-59.5963 202.5748,-55.854 203.5759,-50.5047\"/>\n<polygon fill=\"#000000\" stroke=\"#000000\" points=\"207.0778,-50.4231 203.7581,-40.3618 200.079,-50.2973 207.0778,-50.4231\"/>\n<text text-anchor=\"middle\" x=\"195.7982\" y=\"-63.3963\" font-family=\"Times,serif\" font-size=\"14.00\" fill=\"#000000\">0 </text>\n</g>\n<!-- F010&#45;&gt;S01 -->\n<g id=\"edge9\" class=\"edge\">\n<title>F010&#45;&gt;S01</title>\n<path fill=\"none\" stroke=\"#000000\" d=\"M365.0271,-47.7112C355.0214,-47.1196 344.1932,-47.6758 334.5917,-50.7982 328.8375,-52.6694 323.208,-55.608 318.0011,-58.9626\"/>\n<polygon fill=\"#000000\" stroke=\"#000000\" points=\"315.8021,-56.2319 309.6899,-64.8859 319.8647,-61.9324 315.8021,-56.2319\"/>\n<text text-anchor=\"middle\" x=\"340.5917\" y=\"-54.5982\" font-family=\"Times,serif\" font-size=\"14.00\" fill=\"#000000\">1 </text>\n</g>\n<!-- F010&#45;&gt;S0 -->\n<g id=\"edge8\" class=\"edge\">\n<title>F010&#45;&gt;S0</title>\n<path fill=\"none\" stroke=\"#000000\" d=\"M365.6503,-44.0624C350.7426,-40.0446 332.9035,-35.6665 316.5917,-32.7982 286.3976,-27.4886 251.5137,-24.3385 227.02,-22.6081\"/>\n<polygon fill=\"#000000\" stroke=\"#000000\" points=\"227.0886,-19.1049 216.8775,-21.9307 226.6221,-26.0894 227.0886,-19.1049\"/>\n<text text-anchor=\"middle\" x=\"290.594\" y=\"-36.5982\" font-family=\"Times,serif\" font-size=\"14.00\" fill=\"#000000\">0 </text>\n</g>\n</g>\n</svg>\n"
          },
          "metadata": {
            "tags": []
          },
          "execution_count": 9
        }
      ]
    },
    {
      "cell_type": "markdown",
      "metadata": {
        "id": "0JaiaivOER3j"
      },
      "source": [
        "## Obtain the intersection of Even010 and Ends010"
      ]
    },
    {
      "cell_type": "code",
      "metadata": {
        "scrolled": true,
        "id": "Bw9nPot-ER3j",
        "outputId": "d433a253-6dc2-473b-b6ed-6a9ec48fb7d1",
        "colab": {
          "base_uri": "https://localhost:8080/",
          "height": 718
        }
      },
      "source": [
        "Even010_Ends010 = intersect_dfa(Even010, Ends010)\n",
        "dotObj_dfa(Even010_Ends010)"
      ],
      "execution_count": 10,
      "outputs": [
        {
          "output_type": "execute_result",
          "data": {
            "text/plain": [
              "<graphviz.dot.Digraph at 0x7f603e98d9e8>"
            ],
            "image/svg+xml": "<?xml version=\"1.0\" encoding=\"UTF-8\" standalone=\"no\"?>\n<!DOCTYPE svg PUBLIC \"-//W3C//DTD SVG 1.1//EN\"\n \"http://www.w3.org/Graphics/SVG/1.1/DTD/svg11.dtd\">\n<!-- Generated by graphviz version 2.40.1 (20161225.0304)\n -->\n<!-- Title: %3 Pages: 1 -->\n<svg width=\"1619pt\" height=\"508pt\"\n viewBox=\"0.00 0.00 1619.40 508.00\" xmlns=\"http://www.w3.org/2000/svg\" xmlns:xlink=\"http://www.w3.org/1999/xlink\">\n<g id=\"graph0\" class=\"graph\" transform=\"scale(1 1) rotate(0) translate(4 504)\">\n<title>%3</title>\n<polygon fill=\"#ffffff\" stroke=\"transparent\" points=\"-4,4 -4,-504 1615.4048,-504 1615.4048,4 -4,4\"/>\n<!-- EMPTY -->\n<g id=\"node1\" class=\"node\">\n<title>EMPTY</title>\n</g>\n<!-- \\(IF_I\\) -->\n<g id=\"node2\" class=\"node\">\n<title>\\(IF_I\\)</title>\n<ellipse fill=\"none\" stroke=\"#000000\" cx=\"123.4971\" cy=\"-390\" rx=\"32.4942\" ry=\"32.4942\"/>\n<text text-anchor=\"middle\" x=\"123.4971\" y=\"-386.3\" font-family=\"Times,serif\" font-size=\"14.00\" fill=\"#000000\">(IF_I)</text>\n</g>\n<!-- EMPTY&#45;&gt;\\(IF_I\\) -->\n<g id=\"edge1\" class=\"edge\">\n<title>EMPTY&#45;&gt;\\(IF_I\\)</title>\n<path fill=\"none\" stroke=\"#000000\" d=\"M54.1366,-390C62.3991,-390 71.6905,-390 80.7226,-390\"/>\n<polygon fill=\"#000000\" stroke=\"#000000\" points=\"80.7414,-393.5001 90.7413,-390 80.7413,-386.5001 80.7414,-393.5001\"/>\n</g>\n<!-- \\(IF_I\\)&#45;&gt;\\(IF_I\\) -->\n<g id=\"edge10\" class=\"edge\">\n<title>\\(IF_I\\)&#45;&gt;\\(IF_I\\)</title>\n<path fill=\"none\" stroke=\"#000000\" d=\"M114.1221,-421.5607C114.1221,-432.0809 117.2471,-440.4971 123.4971,-440.4971 127.501,-440.4971 130.2224,-437.0431 131.6613,-431.7946\"/>\n<polygon fill=\"#000000\" stroke=\"#000000\" points=\"135.1729,-431.9027 132.8721,-421.5607 128.2214,-431.0802 135.1729,-431.9027\"/>\n<text text-anchor=\"middle\" x=\"123.4971\" y=\"-444.2971\" font-family=\"Times,serif\" font-size=\"14.00\" fill=\"#000000\">1 </text>\n</g>\n<!-- \\(F0_S0\\) -->\n<g id=\"node4\" class=\"node\">\n<title>\\(F0_S0\\)</title>\n<ellipse fill=\"none\" stroke=\"#000000\" cx=\"246.2405\" cy=\"-390\" rx=\"42.4939\" ry=\"42.4939\"/>\n<text text-anchor=\"middle\" x=\"246.2405\" y=\"-386.3\" font-family=\"Times,serif\" font-size=\"14.00\" fill=\"#000000\">(F0_S0)</text>\n</g>\n<!-- \\(IF_I\\)&#45;&gt;\\(F0_S0\\) -->\n<g id=\"edge6\" class=\"edge\">\n<title>\\(IF_I\\)&#45;&gt;\\(F0_S0\\)</title>\n<path fill=\"none\" stroke=\"#000000\" d=\"M156.0678,-390C167.6123,-390 180.9151,-390 193.6962,-390\"/>\n<polygon fill=\"#000000\" stroke=\"#000000\" points=\"193.7911,-393.5001 203.791,-390 193.791,-386.5001 193.7911,-393.5001\"/>\n<text text-anchor=\"middle\" x=\"179.9942\" y=\"-393.8\" font-family=\"Times,serif\" font-size=\"14.00\" fill=\"#000000\">0 </text>\n</g>\n<!-- \\(S010_S01\\) -->\n<g id=\"node3\" class=\"node\">\n<title>\\(S010_S01\\)</title>\n<ellipse fill=\"none\" stroke=\"#000000\" cx=\"716.5115\" cy=\"-289\" rx=\"56.59\" ry=\"56.59\"/>\n<text text-anchor=\"middle\" x=\"716.5115\" y=\"-285.3\" font-family=\"Times,serif\" font-size=\"14.00\" fill=\"#000000\">(S010_S01)</text>\n</g>\n<!-- \\(S0100_F010\\) -->\n<g id=\"node7\" class=\"node\">\n<title>\\(S0100_F010\\)</title>\n<ellipse fill=\"none\" stroke=\"#000000\" cx=\"887.3506\" cy=\"-289\" rx=\"66.0889\" ry=\"66.0889\"/>\n<text text-anchor=\"middle\" x=\"887.3506\" y=\"-285.3\" font-family=\"Times,serif\" font-size=\"14.00\" fill=\"#000000\">(S0100_F010)</text>\n</g>\n<!-- \\(S010_S01\\)&#45;&gt;\\(S0100_F010\\) -->\n<g id=\"edge25\" class=\"edge\">\n<title>\\(S010_S01\\)&#45;&gt;\\(S0100_F010\\)</title>\n<path fill=\"none\" stroke=\"#000000\" d=\"M773.3985,-289C785.4231,-289 798.3001,-289 810.9129,-289\"/>\n<polygon fill=\"#000000\" stroke=\"#000000\" points=\"810.9502,-292.5001 820.9501,-289 810.9501,-285.5001 810.9502,-292.5001\"/>\n<text text-anchor=\"middle\" x=\"797.0565\" y=\"-292.8\" font-family=\"Times,serif\" font-size=\"14.00\" fill=\"#000000\">0 </text>\n</g>\n<!-- \\(S010_I\\) -->\n<g id=\"node11\" class=\"node\">\n<title>\\(S010_I\\)</title>\n<ellipse fill=\"none\" stroke=\"#000000\" cx=\"1236.2785\" cy=\"-198\" rx=\"44.393\" ry=\"44.393\"/>\n<text text-anchor=\"middle\" x=\"1236.2785\" y=\"-194.3\" font-family=\"Times,serif\" font-size=\"14.00\" fill=\"#000000\">(S010_I)</text>\n</g>\n<!-- \\(S010_S01\\)&#45;&gt;\\(S010_I\\) -->\n<g id=\"edge3\" class=\"edge\">\n<title>\\(S010_S01\\)&#45;&gt;\\(S010_I\\)</title>\n<path fill=\"none\" stroke=\"#000000\" d=\"M759.0732,-251.6064C777.0675,-237.6999 798.957,-223.1039 821.0565,-214 957.8659,-157.6413 1004.2902,-182.4554 1152.233,-180 1157.5656,-179.9115 1158.9396,-179.3487 1164.233,-180 1170.531,-180.7748 1177.0703,-181.9171 1183.5255,-183.2568\"/>\n<polygon fill=\"#000000\" stroke=\"#000000\" points=\"1183.0303,-186.7325 1193.5532,-185.5003 1184.5586,-179.9014 1183.0303,-186.7325\"/>\n<text text-anchor=\"middle\" x=\"977.6448\" y=\"-181.8\" font-family=\"Times,serif\" font-size=\"14.00\" fill=\"#000000\">1 </text>\n</g>\n<!-- \\(F0_S0\\)&#45;&gt;\\(F0_S0\\) -->\n<g id=\"edge5\" class=\"edge\">\n<title>\\(F0_S0\\)&#45;&gt;\\(F0_S0\\)</title>\n<path fill=\"none\" stroke=\"#000000\" d=\"M233.941,-430.5461C234.5352,-441.7128 238.635,-450.2463 246.2405,-450.2463 251.3504,-450.2463 254.8778,-446.3941 256.8227,-440.4793\"/>\n<polygon fill=\"#000000\" stroke=\"#000000\" points=\"260.2852,-440.9962 258.54,-430.5461 253.3876,-439.8037 260.2852,-440.9962\"/>\n<text text-anchor=\"middle\" x=\"246.2405\" y=\"-454.0463\" font-family=\"Times,serif\" font-size=\"14.00\" fill=\"#000000\">0 </text>\n</g>\n<!-- \\(F01_S01\\) -->\n<g id=\"node10\" class=\"node\">\n<title>\\(F01_S01\\)</title>\n<ellipse fill=\"none\" stroke=\"#000000\" cx=\"388.4821\" cy=\"-395\" rx=\"51.9908\" ry=\"51.9908\"/>\n<text text-anchor=\"middle\" x=\"388.4821\" y=\"-391.3\" font-family=\"Times,serif\" font-size=\"14.00\" fill=\"#000000\">(F01_S01)</text>\n</g>\n<!-- \\(F0_S0\\)&#45;&gt;\\(F01_S01\\) -->\n<g id=\"edge24\" class=\"edge\">\n<title>\\(F0_S0\\)&#45;&gt;\\(F01_S01\\)</title>\n<path fill=\"none\" stroke=\"#000000\" d=\"M288.5325,-391.4866C300.3577,-391.9023 313.4628,-392.363 326.1853,-392.8102\"/>\n<polygon fill=\"#000000\" stroke=\"#000000\" points=\"326.1578,-396.3113 336.2747,-393.1648 326.4038,-389.3156 326.1578,-396.3113\"/>\n<text text-anchor=\"middle\" x=\"312.4867\" y=\"-396.8\" font-family=\"Times,serif\" font-size=\"14.00\" fill=\"#000000\">1 </text>\n</g>\n<!-- \\(S01001_S01\\) -->\n<g id=\"node5\" class=\"node\">\n<title>\\(S01001_S01\\)</title>\n<ellipse fill=\"none\" stroke=\"#000000\" cx=\"1067.9389\" cy=\"-260\" rx=\"66.0889\" ry=\"66.0889\"/>\n<text text-anchor=\"middle\" x=\"1067.9389\" y=\"-256.3\" font-family=\"Times,serif\" font-size=\"14.00\" fill=\"#000000\">(S01001_S01)</text>\n</g>\n<!-- \\(S01001_S01\\)&#45;&gt;\\(S010_I\\) -->\n<g id=\"edge8\" class=\"edge\">\n<title>\\(S01001_S01\\)&#45;&gt;\\(S010_I\\)</title>\n<path fill=\"none\" stroke=\"#000000\" d=\"M1130.6224,-236.9135C1148.517,-230.3228 1167.8004,-223.2207 1184.9324,-216.9109\"/>\n<polygon fill=\"#000000\" stroke=\"#000000\" points=\"1186.57,-220.0377 1194.7441,-213.2972 1184.1507,-213.4691 1186.57,-220.0377\"/>\n<text text-anchor=\"middle\" x=\"1158.233\" y=\"-231.8\" font-family=\"Times,serif\" font-size=\"14.00\" fill=\"#000000\">1 </text>\n</g>\n<!-- \\(IF_F010\\) -->\n<g id=\"node12\" class=\"node\">\n<title>\\(IF_F010\\)</title>\n<ellipse fill=\"none\" stroke=\"#000000\" cx=\"1236.2785\" cy=\"-82\" rx=\"50.0878\" ry=\"50.0878\"/>\n<ellipse fill=\"none\" stroke=\"#000000\" cx=\"1236.2785\" cy=\"-82\" rx=\"54.0912\" ry=\"54.0912\"/>\n<text text-anchor=\"middle\" x=\"1236.2785\" y=\"-78.3\" font-family=\"Times,serif\" font-size=\"14.00\" fill=\"#000000\">(IF_F010)</text>\n</g>\n<!-- \\(S01001_S01\\)&#45;&gt;\\(IF_F010\\) -->\n<g id=\"edge22\" class=\"edge\">\n<title>\\(S01001_S01\\)&#45;&gt;\\(IF_F010\\)</title>\n<path fill=\"none\" stroke=\"#000000\" d=\"M1113.494,-211.8306C1137.8656,-186.0605 1167.7516,-154.4594 1191.9364,-128.8868\"/>\n<polygon fill=\"#000000\" stroke=\"#000000\" points=\"1194.5927,-131.1718 1198.921,-121.5014 1189.5068,-126.362 1194.5927,-131.1718\"/>\n<text text-anchor=\"middle\" x=\"1158.233\" y=\"-169.8\" font-family=\"Times,serif\" font-size=\"14.00\" fill=\"#000000\">0 </text>\n</g>\n<!-- \\(S0100_S0\\) -->\n<g id=\"node6\" class=\"node\">\n<title>\\(S0100_S0\\)</title>\n<ellipse fill=\"none\" stroke=\"#000000\" cx=\"1394.8691\" cy=\"-311\" rx=\"56.59\" ry=\"56.59\"/>\n<text text-anchor=\"middle\" x=\"1394.8691\" y=\"-307.3\" font-family=\"Times,serif\" font-size=\"14.00\" fill=\"#000000\">(S0100_S0)</text>\n</g>\n<!-- \\(S0100_S0\\)&#45;&gt;\\(S01001_S01\\) -->\n<g id=\"edge9\" class=\"edge\">\n<title>\\(S0100_S0\\)&#45;&gt;\\(S01001_S01\\)</title>\n<path fill=\"none\" stroke=\"#000000\" d=\"M1338.2773,-305.0718C1295.3293,-300.2686 1234.8931,-292.8574 1182.233,-284 1169.4068,-281.8426 1155.832,-279.2595 1142.6891,-276.5994\"/>\n<polygon fill=\"#000000\" stroke=\"#000000\" points=\"1143.2422,-273.14 1132.7424,-274.556 1141.8335,-279.9968 1143.2422,-273.14\"/>\n<text text-anchor=\"middle\" x=\"1236.2785\" y=\"-303.8\" font-family=\"Times,serif\" font-size=\"14.00\" fill=\"#000000\">1 </text>\n</g>\n<!-- \\(S0100_S0\\)&#45;&gt;\\(S0100_S0\\) -->\n<g id=\"edge2\" class=\"edge\">\n<title>\\(S0100_S0\\)&#45;&gt;\\(S0100_S0\\)</title>\n<path fill=\"none\" stroke=\"#000000\" d=\"M1380.3964,-365.9373C1381.9199,-377.3431 1386.7441,-385.545 1394.8691,-385.545 1400.3281,-385.545 1404.297,-381.8425 1406.776,-375.9535\"/>\n<polygon fill=\"#000000\" stroke=\"#000000\" points=\"1410.2507,-376.4931 1409.3417,-365.9373 1403.4696,-374.756 1410.2507,-376.4931\"/>\n<text text-anchor=\"middle\" x=\"1394.8691\" y=\"-389.345\" font-family=\"Times,serif\" font-size=\"14.00\" fill=\"#000000\">0 </text>\n</g>\n<!-- \\(S0100_F010\\)&#45;&gt;\\(S01001_S01\\) -->\n<g id=\"edge11\" class=\"edge\">\n<title>\\(S0100_F010\\)&#45;&gt;\\(S01001_S01\\)</title>\n<path fill=\"none\" stroke=\"#000000\" d=\"M953.058,-278.4483C965.8359,-276.3963 979.3248,-274.2302 992.3904,-272.132\"/>\n<polygon fill=\"#000000\" stroke=\"#000000\" points=\"992.9619,-275.5852 1002.2804,-270.5438 991.852,-268.6738 992.9619,-275.5852\"/>\n<text text-anchor=\"middle\" x=\"977.6448\" y=\"-279.8\" font-family=\"Times,serif\" font-size=\"14.00\" fill=\"#000000\">1 </text>\n</g>\n<!-- \\(S0100_F010\\)&#45;&gt;\\(S0100_S0\\) -->\n<g id=\"edge20\" class=\"edge\">\n<title>\\(S0100_F010\\)&#45;&gt;\\(S0100_S0\\)</title>\n<path fill=\"none\" stroke=\"#000000\" d=\"M947.1303,-318.0465C964.3232,-325.0153 983.3754,-331.4615 1001.6448,-335 1115.3885,-357.0306 1250.7751,-339.3978 1329.3605,-324.9459\"/>\n<polygon fill=\"#000000\" stroke=\"#000000\" points=\"1330.4134,-328.3094 1339.5949,-323.0225 1329.1204,-321.4299 1330.4134,-328.3094\"/>\n<text text-anchor=\"middle\" x=\"1158.233\" y=\"-348.8\" font-family=\"Times,serif\" font-size=\"14.00\" fill=\"#000000\">0 </text>\n</g>\n<!-- \\(S010_F010\\) -->\n<g id=\"node8\" class=\"node\">\n<title>\\(S010_F010\\)</title>\n<ellipse fill=\"none\" stroke=\"#000000\" cx=\"550.222\" cy=\"-340\" rx=\"61.99\" ry=\"61.99\"/>\n<text text-anchor=\"middle\" x=\"550.222\" y=\"-336.3\" font-family=\"Times,serif\" font-size=\"14.00\" fill=\"#000000\">(S010_F010)</text>\n</g>\n<!-- \\(S010_F010\\)&#45;&gt;\\(S010_S01\\) -->\n<g id=\"edge4\" class=\"edge\">\n<title>\\(S010_F010\\)&#45;&gt;\\(S010_S01\\)</title>\n<path fill=\"none\" stroke=\"#000000\" d=\"M609.3177,-321.8757C623.3497,-317.5722 638.3816,-312.962 652.6169,-308.5961\"/>\n<polygon fill=\"#000000\" stroke=\"#000000\" points=\"653.7886,-311.8977 662.3228,-305.6194 651.736,-305.2054 653.7886,-311.8977\"/>\n<text text-anchor=\"middle\" x=\"635.9666\" y=\"-318.8\" font-family=\"Times,serif\" font-size=\"14.00\" fill=\"#000000\">1 </text>\n</g>\n<!-- \\(S010_F010\\)&#45;&gt;\\(S0100_S0\\) -->\n<g id=\"edge21\" class=\"edge\">\n<title>\\(S010_F010\\)&#45;&gt;\\(S0100_S0\\)</title>\n<path fill=\"none\" stroke=\"#000000\" d=\"M606.2081,-366.7616C637.8441,-379.5029 678.5499,-392 716.5115,-392 716.5115,-392 716.5115,-392 1236.2785,-392 1274.8287,-392 1313.4496,-372.7833 1342.9266,-353.0699\"/>\n<polygon fill=\"#000000\" stroke=\"#000000\" points=\"1345.1378,-355.7965 1351.3797,-347.2356 1341.1615,-350.0355 1345.1378,-355.7965\"/>\n<text text-anchor=\"middle\" x=\"977.6448\" y=\"-395.8\" font-family=\"Times,serif\" font-size=\"14.00\" fill=\"#000000\">0 </text>\n</g>\n<!-- \\(IF_S01\\) -->\n<g id=\"node9\" class=\"node\">\n<title>\\(IF_S01\\)</title>\n<ellipse fill=\"none\" stroke=\"#000000\" cx=\"1394.8691\" cy=\"-82\" rx=\"44.6926\" ry=\"44.6926\"/>\n<text text-anchor=\"middle\" x=\"1394.8691\" y=\"-78.3\" font-family=\"Times,serif\" font-size=\"14.00\" fill=\"#000000\">(IF_S01)</text>\n</g>\n<!-- \\(IF_S01\\)&#45;&gt;\\(IF_I\\) -->\n<g id=\"edge16\" class=\"edge\">\n<title>\\(IF_S01\\)&#45;&gt;\\(IF_I\\)</title>\n<path fill=\"none\" stroke=\"#000000\" d=\"M1360.941,-52.3961C1330.4677,-28.9082 1283.3921,0 1236.2785,0 246.2405,0 246.2405,0 246.2405,0 174.0849,0 139.1224,-245.9697 127.7863,-347.23\"/>\n<polygon fill=\"#000000\" stroke=\"#000000\" points=\"124.2799,-347.0981 126.671,-357.4196 131.2384,-347.8599 124.2799,-347.0981\"/>\n<text text-anchor=\"middle\" x=\"716.5115\" y=\"-3.8\" font-family=\"Times,serif\" font-size=\"14.00\" fill=\"#000000\">1 </text>\n</g>\n<!-- \\(F0_F010\\) -->\n<g id=\"node13\" class=\"node\">\n<title>\\(F0_F010\\)</title>\n<ellipse fill=\"none\" stroke=\"#000000\" cx=\"1555.4095\" cy=\"-430\" rx=\"51.9911\" ry=\"51.9911\"/>\n<ellipse fill=\"none\" stroke=\"#000000\" cx=\"1555.4095\" cy=\"-430\" rx=\"55.9908\" ry=\"55.9908\"/>\n<text text-anchor=\"middle\" x=\"1555.4095\" y=\"-426.3\" font-family=\"Times,serif\" font-size=\"14.00\" fill=\"#000000\">(F0_F010)</text>\n</g>\n<!-- \\(IF_S01\\)&#45;&gt;\\(F0_F010\\) -->\n<g id=\"edge7\" class=\"edge\">\n<title>\\(IF_S01\\)&#45;&gt;\\(F0_F010\\)</title>\n<path fill=\"none\" stroke=\"#000000\" d=\"M1413.7572,-122.9434C1441.9173,-183.9855 1495.0776,-299.22 1527.6601,-369.8482\"/>\n<polygon fill=\"#000000\" stroke=\"#000000\" points=\"1524.553,-371.4685 1531.9201,-379.0827 1530.9092,-368.5362 1524.553,-371.4685\"/>\n<text text-anchor=\"middle\" x=\"1475.4141\" y=\"-270.8\" font-family=\"Times,serif\" font-size=\"14.00\" fill=\"#000000\">0 </text>\n</g>\n<!-- \\(F01_S01\\)&#45;&gt;\\(IF_I\\) -->\n<g id=\"edge13\" class=\"edge\">\n<title>\\(F01_S01\\)&#45;&gt;\\(IF_I\\)</title>\n<path fill=\"none\" stroke=\"#000000\" d=\"M352.767,-432.8991C335.1409,-448.8616 312.5211,-465.6515 288.4867,-474 253.0136,-486.3218 238.533,-488.7391 203.9942,-474 180.7954,-464.1001 161.0754,-443.8713 146.9603,-425.7459\"/>\n<polygon fill=\"#000000\" stroke=\"#000000\" points=\"149.6686,-423.5232 140.877,-417.6107 144.0626,-427.7153 149.6686,-423.5232\"/>\n<text text-anchor=\"middle\" x=\"246.2405\" y=\"-488.8\" font-family=\"Times,serif\" font-size=\"14.00\" fill=\"#000000\">1 </text>\n</g>\n<!-- \\(F01_S01\\)&#45;&gt;\\(S010_F010\\) -->\n<g id=\"edge12\" class=\"edge\">\n<title>\\(F01_S01\\)&#45;&gt;\\(S010_F010\\)</title>\n<path fill=\"none\" stroke=\"#000000\" d=\"M437.8883,-378.1993C451.8341,-373.457 467.259,-368.2118 482.0967,-363.1662\"/>\n<polygon fill=\"#000000\" stroke=\"#000000\" points=\"483.4002,-366.4198 491.7409,-359.8866 481.1465,-359.7925 483.4002,-366.4198\"/>\n<text text-anchor=\"middle\" x=\"464.4775\" y=\"-374.8\" font-family=\"Times,serif\" font-size=\"14.00\" fill=\"#000000\">0 </text>\n</g>\n<!-- \\(S010_I\\)&#45;&gt;\\(S0100_S0\\) -->\n<g id=\"edge23\" class=\"edge\">\n<title>\\(S010_I\\)&#45;&gt;\\(S0100_S0\\)</title>\n<path fill=\"none\" stroke=\"#000000\" d=\"M1272.6624,-223.9245C1292.6913,-238.1956 1317.9471,-256.191 1340.2929,-272.113\"/>\n<polygon fill=\"#000000\" stroke=\"#000000\" points=\"1338.5225,-275.1491 1348.6977,-278.1016 1342.5846,-269.4482 1338.5225,-275.1491\"/>\n<text text-anchor=\"middle\" x=\"1314.3241\" y=\"-258.8\" font-family=\"Times,serif\" font-size=\"14.00\" fill=\"#000000\">0 </text>\n</g>\n<!-- \\(S010_I\\)&#45;&gt;\\(S010_I\\) -->\n<g id=\"edge15\" class=\"edge\">\n<title>\\(S010_I\\)&#45;&gt;\\(S010_I\\)</title>\n<path fill=\"none\" stroke=\"#000000\" d=\"M1221.7428,-239.8583C1222.445,-251.3865 1227.2903,-260.1961 1236.2785,-260.1961 1242.458,-260.1961 1246.6792,-256.0322 1248.9422,-249.6836\"/>\n<polygon fill=\"#000000\" stroke=\"#000000\" points=\"1252.3806,-250.3367 1250.8143,-239.8583 1245.5043,-249.0265 1252.3806,-250.3367\"/>\n<text text-anchor=\"middle\" x=\"1236.2785\" y=\"-263.9961\" font-family=\"Times,serif\" font-size=\"14.00\" fill=\"#000000\">1 </text>\n</g>\n<!-- \\(IF_F010\\)&#45;&gt;\\(F0_S0\\) -->\n<g id=\"edge18\" class=\"edge\">\n<title>\\(IF_F010\\)&#45;&gt;\\(F0_S0\\)</title>\n<path fill=\"none\" stroke=\"#000000\" d=\"M1183.0825,-93.0284C1150.0849,-98.9312 1106.7276,-105 1067.9389,-105 388.4821,-105 388.4821,-105 388.4821,-105 285.7342,-105 257.2043,-255.1314 249.2837,-337.4652\"/>\n<polygon fill=\"#000000\" stroke=\"#000000\" points=\"245.7785,-337.369 248.3763,-347.6404 252.7508,-337.9908 245.7785,-337.369\"/>\n<text text-anchor=\"middle\" x=\"716.5115\" y=\"-108.8\" font-family=\"Times,serif\" font-size=\"14.00\" fill=\"#000000\">0 </text>\n</g>\n<!-- \\(IF_F010\\)&#45;&gt;\\(IF_S01\\) -->\n<g id=\"edge19\" class=\"edge\">\n<title>\\(IF_F010\\)&#45;&gt;\\(IF_S01\\)</title>\n<path fill=\"none\" stroke=\"#000000\" d=\"M1290.4129,-82C1306.3121,-82 1323.717,-82 1339.6812,-82\"/>\n<polygon fill=\"#000000\" stroke=\"#000000\" points=\"1339.9337,-85.5001 1349.9336,-82 1339.9336,-78.5001 1339.9337,-85.5001\"/>\n<text text-anchor=\"middle\" x=\"1314.3241\" y=\"-85.8\" font-family=\"Times,serif\" font-size=\"14.00\" fill=\"#000000\">1 </text>\n</g>\n<!-- \\(F0_F010\\)&#45;&gt;\\(F0_S0\\) -->\n<g id=\"edge17\" class=\"edge\">\n<title>\\(F0_F010\\)&#45;&gt;\\(F0_S0\\)</title>\n<path fill=\"none\" stroke=\"#000000\" d=\"M1504.0537,-452.5957C1473.0565,-464.2289 1432.4152,-476 1394.8691,-476 388.4821,-476 388.4821,-476 388.4821,-476 348.4284,-476 309.9938,-450.7192 283.197,-427.5713\"/>\n<polygon fill=\"#000000\" stroke=\"#000000\" points=\"285.4038,-424.8496 275.6113,-420.8051 280.7442,-430.0735 285.4038,-424.8496\"/>\n<text text-anchor=\"middle\" x=\"887.3506\" y=\"-479.8\" font-family=\"Times,serif\" font-size=\"14.00\" fill=\"#000000\">0 </text>\n</g>\n<!-- \\(F0_F010\\)&#45;&gt;\\(F01_S01\\) -->\n<g id=\"edge14\" class=\"edge\">\n<title>\\(F0_F010\\)&#45;&gt;\\(F01_S01\\)</title>\n<path fill=\"none\" stroke=\"#000000\" d=\"M1499.3156,-430C1468.4883,-430 1429.5692,-430 1394.8691,-430 550.222,-430 550.222,-430 550.222,-430 515.8922,-430 478.372,-422.3745 448.1192,-414.2422\"/>\n<polygon fill=\"#000000\" stroke=\"#000000\" points=\"448.7251,-410.7781 438.1532,-411.4751 446.8523,-417.5229 448.7251,-410.7781\"/>\n<text text-anchor=\"middle\" x=\"977.6448\" y=\"-433.8\" font-family=\"Times,serif\" font-size=\"14.00\" fill=\"#000000\">1 </text>\n</g>\n</g>\n</svg>\n"
          },
          "metadata": {
            "tags": []
          },
          "execution_count": 10
        }
      ]
    },
    {
      "cell_type": "markdown",
      "metadata": {
        "id": "rGjMqtMLER3k"
      },
      "source": [
        "## Minimize the intersection of Even010 and Ends010"
      ]
    },
    {
      "cell_type": "code",
      "metadata": {
        "id": "avkS_15XER3k",
        "outputId": "9e391d01-2f54-4897-a934-0ce2d124fc2b",
        "colab": {
          "base_uri": "https://localhost:8080/",
          "height": 536
        }
      },
      "source": [
        "min_Even010_Ends010 = min_dfa(Even010_Ends010)\n",
        "dotObj_dfa(min_Even010_Ends010)"
      ],
      "execution_count": 20,
      "outputs": [
        {
          "output_type": "execute_result",
          "data": {
            "text/plain": [
              "<graphviz.dot.Digraph at 0x7f603f9160b8>"
            ],
            "image/svg+xml": "<?xml version=\"1.0\" encoding=\"UTF-8\" standalone=\"no\"?>\n<!DOCTYPE svg PUBLIC \"-//W3C//DTD SVG 1.1//EN\"\n \"http://www.w3.org/Graphics/SVG/1.1/DTD/svg11.dtd\">\n<!-- Generated by graphviz version 2.40.1 (20161225.0304)\n -->\n<!-- Title: %3 Pages: 1 -->\n<svg width=\"1380pt\" height=\"371pt\"\n viewBox=\"0.00 0.00 1380.32 371.00\" xmlns=\"http://www.w3.org/2000/svg\" xmlns:xlink=\"http://www.w3.org/1999/xlink\">\n<g id=\"graph0\" class=\"graph\" transform=\"scale(1 1) rotate(0) translate(4 366.9954)\">\n<title>%3</title>\n<polygon fill=\"#ffffff\" stroke=\"transparent\" points=\"-4,4 -4,-366.9954 1376.3218,-366.9954 1376.3218,4 -4,4\"/>\n<!-- EMPTY -->\n<g id=\"node1\" class=\"node\">\n<title>EMPTY</title>\n</g>\n<!-- \\(IF_I\\) -->\n<g id=\"node2\" class=\"node\">\n<title>\\(IF_I\\)</title>\n<ellipse fill=\"none\" stroke=\"#000000\" cx=\"123.4971\" cy=\"-89.9954\" rx=\"32.4942\" ry=\"32.4942\"/>\n<text text-anchor=\"middle\" x=\"123.4971\" y=\"-86.2954\" font-family=\"Times,serif\" font-size=\"14.00\" fill=\"#000000\">(IF_I)</text>\n</g>\n<!-- EMPTY&#45;&gt;\\(IF_I\\) -->\n<g id=\"edge1\" class=\"edge\">\n<title>EMPTY&#45;&gt;\\(IF_I\\)</title>\n<path fill=\"none\" stroke=\"#000000\" d=\"M54.1366,-89.9954C62.3991,-89.9954 71.6905,-89.9954 80.7226,-89.9954\"/>\n<polygon fill=\"#000000\" stroke=\"#000000\" points=\"80.7414,-93.4955 90.7413,-89.9954 80.7413,-86.4955 80.7414,-93.4955\"/>\n</g>\n<!-- \\(IF_I\\)&#45;&gt;\\(IF_I\\) -->\n<g id=\"edge9\" class=\"edge\">\n<title>\\(IF_I\\)&#45;&gt;\\(IF_I\\)</title>\n<path fill=\"none\" stroke=\"#000000\" d=\"M114.1221,-121.5561C114.1221,-132.0763 117.2471,-140.4925 123.4971,-140.4925 127.501,-140.4925 130.2224,-137.0385 131.6613,-131.79\"/>\n<polygon fill=\"#000000\" stroke=\"#000000\" points=\"135.1729,-131.8981 132.8721,-121.5561 128.2214,-131.0756 135.1729,-131.8981\"/>\n<text text-anchor=\"middle\" x=\"123.4971\" y=\"-144.2925\" font-family=\"Times,serif\" font-size=\"14.00\" fill=\"#000000\">1 </text>\n</g>\n<!-- \\(F0_S0\\) -->\n<g id=\"node3\" class=\"node\">\n<title>\\(F0_S0\\)</title>\n<ellipse fill=\"none\" stroke=\"#000000\" cx=\"246.2405\" cy=\"-89.9954\" rx=\"42.4939\" ry=\"42.4939\"/>\n<text text-anchor=\"middle\" x=\"246.2405\" y=\"-86.2954\" font-family=\"Times,serif\" font-size=\"14.00\" fill=\"#000000\">(F0_S0)</text>\n</g>\n<!-- \\(IF_I\\)&#45;&gt;\\(F0_S0\\) -->\n<g id=\"edge5\" class=\"edge\">\n<title>\\(IF_I\\)&#45;&gt;\\(F0_S0\\)</title>\n<path fill=\"none\" stroke=\"#000000\" d=\"M156.0678,-89.9954C167.6123,-89.9954 180.9151,-89.9954 193.6962,-89.9954\"/>\n<polygon fill=\"#000000\" stroke=\"#000000\" points=\"193.7911,-93.4955 203.791,-89.9954 193.791,-86.4955 193.7911,-93.4955\"/>\n<text text-anchor=\"middle\" x=\"179.9942\" y=\"-93.7954\" font-family=\"Times,serif\" font-size=\"14.00\" fill=\"#000000\">0 </text>\n</g>\n<!-- \\(F0_S0\\)&#45;&gt;\\(F0_S0\\) -->\n<g id=\"edge4\" class=\"edge\">\n<title>\\(F0_S0\\)&#45;&gt;\\(F0_S0\\)</title>\n<path fill=\"none\" stroke=\"#000000\" d=\"M233.941,-130.5414C234.5352,-141.7082 238.635,-150.2416 246.2405,-150.2416 251.3504,-150.2416 254.8778,-146.3895 256.8227,-140.4747\"/>\n<polygon fill=\"#000000\" stroke=\"#000000\" points=\"260.2852,-140.9915 258.54,-130.5414 253.3876,-139.799 260.2852,-140.9915\"/>\n<text text-anchor=\"middle\" x=\"246.2405\" y=\"-154.0416\" font-family=\"Times,serif\" font-size=\"14.00\" fill=\"#000000\">0 </text>\n</g>\n<!-- \\(F01_S01\\) -->\n<g id=\"node7\" class=\"node\">\n<title>\\(F01_S01\\)</title>\n<ellipse fill=\"none\" stroke=\"#000000\" cx=\"388.4821\" cy=\"-89.9954\" rx=\"51.9908\" ry=\"51.9908\"/>\n<text text-anchor=\"middle\" x=\"388.4821\" y=\"-86.2954\" font-family=\"Times,serif\" font-size=\"14.00\" fill=\"#000000\">(F01_S01)</text>\n</g>\n<!-- \\(F0_S0\\)&#45;&gt;\\(F01_S01\\) -->\n<g id=\"edge19\" class=\"edge\">\n<title>\\(F0_S0\\)&#45;&gt;\\(F01_S01\\)</title>\n<path fill=\"none\" stroke=\"#000000\" d=\"M288.5325,-89.9954C300.3577,-89.9954 313.4628,-89.9954 326.1853,-89.9954\"/>\n<polygon fill=\"#000000\" stroke=\"#000000\" points=\"326.2747,-93.4955 336.2747,-89.9954 326.2746,-86.4955 326.2747,-93.4955\"/>\n<text text-anchor=\"middle\" x=\"312.4867\" y=\"-93.7954\" font-family=\"Times,serif\" font-size=\"14.00\" fill=\"#000000\">1 </text>\n</g>\n<!-- \\(S01001_S01\\) -->\n<g id=\"node4\" class=\"node\">\n<title>\\(S01001_S01\\)</title>\n<ellipse fill=\"none\" stroke=\"#000000\" cx=\"852.2537\" cy=\"-215.9954\" rx=\"66.0889\" ry=\"66.0889\"/>\n<text text-anchor=\"middle\" x=\"852.2537\" y=\"-212.2954\" font-family=\"Times,serif\" font-size=\"14.00\" fill=\"#000000\">(S01001_S01)</text>\n</g>\n<!-- \\(S010_I\\) -->\n<g id=\"node8\" class=\"node\">\n<title>\\(S010_I\\)</title>\n<ellipse fill=\"none\" stroke=\"#000000\" cx=\"532.6736\" cy=\"-140.9954\" rx=\"44.393\" ry=\"44.393\"/>\n<text text-anchor=\"middle\" x=\"532.6736\" y=\"-137.2954\" font-family=\"Times,serif\" font-size=\"14.00\" fill=\"#000000\">(S010_I)</text>\n</g>\n<!-- \\(S01001_S01\\)&#45;&gt;\\(S010_I\\) -->\n<g id=\"edge7\" class=\"edge\">\n<title>\\(S01001_S01\\)&#45;&gt;\\(S010_I\\)</title>\n<path fill=\"none\" stroke=\"#000000\" d=\"M789.8646,-238.8554C742.677,-252.3609 677.2829,-262.806 624.8697,-239.9954 599.4891,-228.9496 577.9373,-207.0918 562.0681,-186.7182\"/>\n<polygon fill=\"#000000\" stroke=\"#000000\" points=\"564.8581,-184.6048 556.0532,-178.712 559.2615,-188.8094 564.8581,-184.6048\"/>\n<text text-anchor=\"middle\" x=\"681.4146\" y=\"-256.7954\" font-family=\"Times,serif\" font-size=\"14.00\" fill=\"#000000\">1 </text>\n</g>\n<!-- \\(IF_F010\\) -->\n<g id=\"node9\" class=\"node\">\n<title>\\(IF_F010\\)</title>\n<ellipse fill=\"none\" stroke=\"#000000\" cx=\"1020.5934\" cy=\"-240.9954\" rx=\"50.0878\" ry=\"50.0878\"/>\n<ellipse fill=\"none\" stroke=\"#000000\" cx=\"1020.5934\" cy=\"-240.9954\" rx=\"54.0912\" ry=\"54.0912\"/>\n<text text-anchor=\"middle\" x=\"1020.5934\" y=\"-237.2954\" font-family=\"Times,serif\" font-size=\"14.00\" fill=\"#000000\">(IF_F010)</text>\n</g>\n<!-- \\(S01001_S01\\)&#45;&gt;\\(IF_F010\\) -->\n<g id=\"edge18\" class=\"edge\">\n<title>\\(S01001_S01\\)&#45;&gt;\\(IF_F010\\)</title>\n<path fill=\"none\" stroke=\"#000000\" d=\"M918.3029,-225.8043C931.0223,-227.6932 944.3212,-229.6683 956.9619,-231.5455\"/>\n<polygon fill=\"#000000\" stroke=\"#000000\" points=\"956.529,-235.0195 966.9347,-233.0266 957.5574,-228.0955 956.529,-235.0195\"/>\n<text text-anchor=\"middle\" x=\"942.5479\" y=\"-232.7954\" font-family=\"Times,serif\" font-size=\"14.00\" fill=\"#000000\">0 </text>\n</g>\n<!-- \\(S0100_S0\\) -->\n<g id=\"node5\" class=\"node\">\n<title>\\(S0100_S0\\)</title>\n<ellipse fill=\"none\" stroke=\"#000000\" cx=\"681.4146\" cy=\"-140.9954\" rx=\"56.59\" ry=\"56.59\"/>\n<text text-anchor=\"middle\" x=\"681.4146\" y=\"-137.2954\" font-family=\"Times,serif\" font-size=\"14.00\" fill=\"#000000\">(S0100_S0)</text>\n</g>\n<!-- \\(S0100_S0\\)&#45;&gt;\\(S01001_S01\\) -->\n<g id=\"edge8\" class=\"edge\">\n<title>\\(S0100_S0\\)&#45;&gt;\\(S01001_S01\\)</title>\n<path fill=\"none\" stroke=\"#000000\" d=\"M733.6003,-163.9054C748.8574,-170.6034 765.7904,-178.0371 781.9743,-185.142\"/>\n<polygon fill=\"#000000\" stroke=\"#000000\" points=\"780.8348,-188.4642 791.3983,-189.2793 783.6487,-182.0546 780.8348,-188.4642\"/>\n<text text-anchor=\"middle\" x=\"761.9596\" y=\"-181.7954\" font-family=\"Times,serif\" font-size=\"14.00\" fill=\"#000000\">1 </text>\n</g>\n<!-- \\(S0100_S0\\)&#45;&gt;\\(S0100_S0\\) -->\n<g id=\"edge2\" class=\"edge\">\n<title>\\(S0100_S0\\)&#45;&gt;\\(S0100_S0\\)</title>\n<path fill=\"none\" stroke=\"#000000\" d=\"M666.942,-195.9327C668.4654,-207.3385 673.2896,-215.5404 681.4146,-215.5404 686.8736,-215.5404 690.8426,-211.8379 693.3215,-205.9489\"/>\n<polygon fill=\"#000000\" stroke=\"#000000\" points=\"696.7962,-206.4885 695.8873,-195.9327 690.0152,-204.7514 696.7962,-206.4885\"/>\n<text text-anchor=\"middle\" x=\"681.4146\" y=\"-219.3404\" font-family=\"Times,serif\" font-size=\"14.00\" fill=\"#000000\">0 </text>\n</g>\n<!-- \\(IF_S01\\) -->\n<g id=\"node6\" class=\"node\">\n<title>\\(IF_S01\\)</title>\n<ellipse fill=\"none\" stroke=\"#000000\" cx=\"1167.485\" cy=\"-240.9954\" rx=\"44.6926\" ry=\"44.6926\"/>\n<text text-anchor=\"middle\" x=\"1167.485\" y=\"-237.2954\" font-family=\"Times,serif\" font-size=\"14.00\" fill=\"#000000\">(IF_S01)</text>\n</g>\n<!-- \\(IF_S01\\)&#45;&gt;\\(IF_I\\) -->\n<g id=\"edge13\" class=\"edge\">\n<title>\\(IF_S01\\)&#45;&gt;\\(IF_I\\)</title>\n<path fill=\"none\" stroke=\"#000000\" d=\"M1140.5409,-276.9225C1113.8726,-308.0071 1069.97,-347.9954 1020.5934,-347.9954 246.2405,-347.9954 246.2405,-347.9954 246.2405,-347.9954 198.8664,-347.9954 153.8521,-204.3547 134.0515,-131.4297\"/>\n<polygon fill=\"#000000\" stroke=\"#000000\" points=\"137.3952,-130.3853 131.4272,-121.6313 130.6335,-132.1963 137.3952,-130.3853\"/>\n<text text-anchor=\"middle\" x=\"600.8697\" y=\"-351.7954\" font-family=\"Times,serif\" font-size=\"14.00\" fill=\"#000000\">1 </text>\n</g>\n<!-- \\(F0_F010\\) -->\n<g id=\"node10\" class=\"node\">\n<title>\\(F0_F010\\)</title>\n<ellipse fill=\"none\" stroke=\"#000000\" cx=\"1316.3264\" cy=\"-55.9954\" rx=\"51.9911\" ry=\"51.9911\"/>\n<ellipse fill=\"none\" stroke=\"#000000\" cx=\"1316.3264\" cy=\"-55.9954\" rx=\"55.9908\" ry=\"55.9908\"/>\n<text text-anchor=\"middle\" x=\"1316.3264\" y=\"-52.2954\" font-family=\"Times,serif\" font-size=\"14.00\" fill=\"#000000\">(F0_F010)</text>\n</g>\n<!-- \\(IF_S01\\)&#45;&gt;\\(F0_F010\\) -->\n<g id=\"edge6\" class=\"edge\">\n<title>\\(IF_S01\\)&#45;&gt;\\(F0_F010\\)</title>\n<path fill=\"none\" stroke=\"#000000\" d=\"M1195.8313,-205.7628C1218.0527,-178.1431 1249.3097,-139.2927 1274.4198,-108.0825\"/>\n<polygon fill=\"#000000\" stroke=\"#000000\" points=\"1277.4518,-109.8974 1280.9934,-99.912 1271.9978,-105.5094 1277.4518,-109.8974\"/>\n<text text-anchor=\"middle\" x=\"1236.331\" y=\"-162.7954\" font-family=\"Times,serif\" font-size=\"14.00\" fill=\"#000000\">0 </text>\n</g>\n<!-- \\(F01_S01\\)&#45;&gt;\\(IF_I\\) -->\n<g id=\"edge11\" class=\"edge\">\n<title>\\(F01_S01\\)&#45;&gt;\\(IF_I\\)</title>\n<path fill=\"none\" stroke=\"#000000\" d=\"M348.9141,-56.1514C331.5533,-43.4486 310.2019,-30.5156 288.4867,-23.9954 252.5208,-13.1962 239.3542,-11.3526 203.9942,-23.9954 184.6107,-30.9259 166.5399,-44.7554 152.451,-57.9726\"/>\n<polygon fill=\"#000000\" stroke=\"#000000\" points=\"149.7563,-55.7123 145.0505,-65.2048 154.6488,-60.7187 149.7563,-55.7123\"/>\n<text text-anchor=\"middle\" x=\"246.2405\" y=\"-27.7954\" font-family=\"Times,serif\" font-size=\"14.00\" fill=\"#000000\">1 </text>\n</g>\n<!-- \\(F01_S01\\)&#45;&gt;\\(S010_I\\) -->\n<g id=\"edge10\" class=\"edge\">\n<title>\\(F01_S01\\)&#45;&gt;\\(S010_I\\)</title>\n<path fill=\"none\" stroke=\"#000000\" d=\"M437.7014,-107.4041C451.7542,-112.3745 467.1008,-117.8025 481.28,-122.8177\"/>\n<polygon fill=\"#000000\" stroke=\"#000000\" points=\"480.2849,-126.1781 490.8797,-126.213 482.6191,-119.5788 480.2849,-126.1781\"/>\n<text text-anchor=\"middle\" x=\"464.4775\" y=\"-121.7954\" font-family=\"Times,serif\" font-size=\"14.00\" fill=\"#000000\">0 </text>\n</g>\n<!-- \\(S010_I\\)&#45;&gt;\\(S0100_S0\\) -->\n<g id=\"edge17\" class=\"edge\">\n<title>\\(S010_I\\)&#45;&gt;\\(S0100_S0\\)</title>\n<path fill=\"none\" stroke=\"#000000\" d=\"M576.8981,-140.9954C588.723,-140.9954 601.7719,-140.9954 614.5244,-140.9954\"/>\n<polygon fill=\"#000000\" stroke=\"#000000\" points=\"614.6591,-144.4955 624.659,-140.9954 614.659,-137.4955 614.6591,-144.4955\"/>\n<text text-anchor=\"middle\" x=\"600.8697\" y=\"-144.7954\" font-family=\"Times,serif\" font-size=\"14.00\" fill=\"#000000\">0 </text>\n</g>\n<!-- \\(S010_I\\)&#45;&gt;\\(S010_I\\) -->\n<g id=\"edge3\" class=\"edge\">\n<title>\\(S010_I\\)&#45;&gt;\\(S010_I\\)</title>\n<path fill=\"none\" stroke=\"#000000\" d=\"M520.0356,-183.4375C520.7578,-194.678 524.9705,-203.1915 532.6736,-203.1915 537.8491,-203.1915 541.449,-199.3483 543.4732,-193.4171\"/>\n<polygon fill=\"#000000\" stroke=\"#000000\" points=\"546.942,-193.9061 545.3115,-183.4375 540.0578,-192.638 546.942,-193.9061\"/>\n<text text-anchor=\"middle\" x=\"532.6736\" y=\"-206.9915\" font-family=\"Times,serif\" font-size=\"14.00\" fill=\"#000000\">1 </text>\n</g>\n<!-- \\(IF_F010\\)&#45;&gt;\\(F0_S0\\) -->\n<g id=\"edge15\" class=\"edge\">\n<title>\\(IF_F010\\)&#45;&gt;\\(F0_S0\\)</title>\n<path fill=\"none\" stroke=\"#000000\" d=\"M975.1113,-270.8585C942.3435,-289.5065 896.3154,-309.9954 852.2537,-309.9954 388.4821,-309.9954 388.4821,-309.9954 388.4821,-309.9954 308.7205,-309.9954 271.4879,-206.7563 255.9464,-141.7222\"/>\n<polygon fill=\"#000000\" stroke=\"#000000\" points=\"259.2801,-140.6001 253.6351,-131.6343 252.4569,-142.1635 259.2801,-140.6001\"/>\n<text text-anchor=\"middle\" x=\"600.8697\" y=\"-313.7954\" font-family=\"Times,serif\" font-size=\"14.00\" fill=\"#000000\">0 </text>\n</g>\n<!-- \\(IF_F010\\)&#45;&gt;\\(IF_S01\\) -->\n<g id=\"edge16\" class=\"edge\">\n<title>\\(IF_F010\\)&#45;&gt;\\(IF_S01\\)</title>\n<path fill=\"none\" stroke=\"#000000\" d=\"M1074.8731,-240.9954C1087.1321,-240.9954 1100.157,-240.9954 1112.4469,-240.9954\"/>\n<polygon fill=\"#000000\" stroke=\"#000000\" points=\"1112.5646,-244.4955 1122.5645,-240.9954 1112.5645,-237.4955 1112.5646,-244.4955\"/>\n<text text-anchor=\"middle\" x=\"1098.639\" y=\"-244.7954\" font-family=\"Times,serif\" font-size=\"14.00\" fill=\"#000000\">1 </text>\n</g>\n<!-- \\(F0_F010\\)&#45;&gt;\\(F0_S0\\) -->\n<g id=\"edge14\" class=\"edge\">\n<title>\\(F0_F010\\)&#45;&gt;\\(F0_S0\\)</title>\n<path fill=\"none\" stroke=\"#000000\" d=\"M1265.5087,-32.0523C1237.2818,-20.8751 1201.1578,-9.9954 1167.485,-9.9954 388.4821,-9.9954 388.4821,-9.9954 388.4821,-9.9954 349.7109,-9.9954 311.7456,-32.8545 284.8031,-54.1343\"/>\n<polygon fill=\"#000000\" stroke=\"#000000\" points=\"282.341,-51.626 276.8069,-60.6606 286.7672,-57.0491 282.341,-51.626\"/>\n<text text-anchor=\"middle\" x=\"761.9596\" y=\"-13.7954\" font-family=\"Times,serif\" font-size=\"14.00\" fill=\"#000000\">0 </text>\n</g>\n<!-- \\(F0_F010\\)&#45;&gt;\\(F01_S01\\) -->\n<g id=\"edge12\" class=\"edge\">\n<title>\\(F0_F010\\)&#45;&gt;\\(F01_S01\\)</title>\n<path fill=\"none\" stroke=\"#000000\" d=\"M1260.1371,-55.9954C1232.2706,-55.9954 1198.106,-55.9954 1167.485,-55.9954 532.6736,-55.9954 532.6736,-55.9954 532.6736,-55.9954 504.0518,-55.9954 473.0668,-62.4202 447.1816,-69.684\"/>\n<polygon fill=\"#000000\" stroke=\"#000000\" points=\"446.1478,-66.3396 437.5262,-72.4974 448.106,-73.0602 446.1478,-66.3396\"/>\n<text text-anchor=\"middle\" x=\"852.2537\" y=\"-59.7954\" font-family=\"Times,serif\" font-size=\"14.00\" fill=\"#000000\">1 </text>\n</g>\n</g>\n</svg>\n"
          },
          "metadata": {
            "tags": []
          },
          "execution_count": 20
        }
      ]
    },
    {
      "cell_type": "markdown",
      "metadata": {
        "id": "sx5-uj-JER3k"
      },
      "source": [
        "# Task 3: Examine Why Minimization Implies Elimination\n",
        "<font size=\"4\">    \n",
        "    \n",
        "Find out which states were eliminated in the Minimization Process. Explain why it was OK to leave these states out. Test the constructed machine using the template given to you. Finally use the Python \"filter\" function that filters out the accepted strings.\n",
        "    \n",
        "</font>"
      ]
    },
    {
      "cell_type": "markdown",
      "metadata": {
        "id": "7WKuyXG1ER3l"
      },
      "source": [
        "## Find out which states were eliminated"
      ]
    },
    {
      "cell_type": "markdown",
      "metadata": {
        "id": "jPMgzy0UER3l"
      },
      "source": [
        "## Explain why it is OK to leave these states out\n",
        "\n",
        "A template to guide your answer is below."
      ]
    },
    {
      "cell_type": "markdown",
      "metadata": {
        "id": "OkHJu8RKER3m"
      },
      "source": [
        "<font size=\"4\"> \n",
        "... Your explanations here - a template of your answer is as follows ...\n",
        "    \n",
        "**This template tries to limit the number of cases you have to list**\n",
        " \n",
        " \n",
        " * I find that state SOMESTATE1 is present in DFA1 but SOMESTATE1 is absent in DFA2 \n",
        " \n",
        " \n",
        "   - I can obtain this info by doing DFA1[\"Q\"] - DFA2[\"Q\"]\n",
        "   - I can also eye-ball the diagrams and spot the missing state\n",
        "   - But I recall that in the diagram, a state may show up P_Q while in the DFA1[\"Q\"] - DFA2[\"Q\"] printout, it may show up as ('P','Q')\n",
        " \n",
        " \n",
        " \n",
        " * If there are multiple *SOMESTATE1* that are missing in DFA2, please pick the one that involves state letter 'I'  and call that the *SOMESTATE1* for the remaining questions BELOW\n",
        " \n",
        " \n",
        " **IMPORTANT CHANGE:** __Due to some non-reproducibility lurking in Jove, some people may not get a state containing \"I\". In that case, pick any one state that is missing, and answer the remaining questions.__\n",
        " \n",
        " * But I find that THIS STRING (pick the shortest string in numeric order) that reached SOMESTATE1 in DFA1 is now reaching state SOMESTATE2 in DFA2\n",
        " \n",
        " * Thus I conclude that state SOMESTATE1 and SOMESTATE2 are equivalent\n",
        " \n",
        " * This is further confirmed by the fact that (**here I am limiting your checks to 3 cases**)\n",
        "   - upon 0, SOMESTATE1 goes to THIS STATE while SOMESTATE2 goes to THIS STATE and they are  BOTH ACCEPTING / BOTH NON-ACCEPTING (pick on)\n",
        "   - upon 1, SOMESTATE1 goes to THIS STATE while SOMESTATE2 goes to THIS STATE and they are  BOTH ACCEPTING / BOTH NON-ACCEPTING (pick on)\n",
        "   upon 01, SOMESTATE1 goes to THIS STATE while SOMESTATE2 goes to THIS STATE and they are  BOTH ACCEPTING / BOTH NON-ACCEPTING (pick on)\n",
        " \n",
        " \n",
        "\n",
        " \n",
        " \n",
        "    \n",
        "</font>"
      ]
    },
    {
      "cell_type": "code",
      "metadata": {
        "id": "B37Y8-83ER3l",
        "outputId": "d0831af6-ae1b-4e37-867f-6a369de3c62f",
        "colab": {
          "base_uri": "https://localhost:8080/"
        }
      },
      "source": [
        "# Hint: You can obtain the components of a DFA D by using the notation D[\"Q\"] where\n",
        "# D is a DFA created using the md2mc command. Basically, \"D\" is a dictionary and \n",
        "# D[\"Q\"] obtains the value of the key at \"Q\". See the lecture slides for Lec-3.\n",
        "Even010_Ends010[\"Q\"] - min_Even010_Ends010[\"Q\"]\n"
      ],
      "execution_count": 21,
      "outputs": [
        {
          "output_type": "execute_result",
          "data": {
            "text/plain": [
              "{('S010', 'F010'), ('S010', 'S01'), ('S0100', 'F010')}"
            ]
          },
          "metadata": {
            "tags": []
          },
          "execution_count": 21
        }
      ]
    },
    {
      "cell_type": "markdown",
      "metadata": {
        "id": "CbbFaDiHNpSI"
      },
      "source": [
        "#Our Answer\r\n",
        "(S010_F010) = (S010_I)<br><br>\r\n",
        "(S010_F010) 0 -> (S0100_S0)<br>\r\n",
        "(S010_I)    0 -> (S0100_S0)<br>\r\n",
        "&emsp;&emsp;  Both Non-accepting<br>\r\n",
        "(S010_F010) 1 -> (S010_S01)<br>\r\n",
        "(S010_I)    1 -> (S010_I)<br>\r\n",
        "&emsp;&emsp; Both Non-accepting<br>\r\n",
        "(S010_F010) 01 -> (S01001_S01)<br>\r\n",
        "(S010_I)    01 -> (S01001_S01)<br>\r\n",
        "&emsp;&emsp; Both Non-accepting<br>"
      ]
    },
    {
      "cell_type": "markdown",
      "metadata": {
        "id": "zQOEp7uQER3m"
      },
      "source": [
        "# Testing the machine"
      ]
    },
    {
      "cell_type": "code",
      "metadata": {
        "id": "NpDWInAMER3n"
      },
      "source": [
        "help(nthnumeric)"
      ],
      "execution_count": null,
      "outputs": []
    },
    {
      "cell_type": "markdown",
      "metadata": {
        "id": "Yta8UBzqER3n"
      },
      "source": [
        "## Test the constructed machine the \"direct\" way"
      ]
    },
    {
      "cell_type": "code",
      "metadata": {
        "id": "1YHn8ERFER3n"
      },
      "source": [
        "TestList = [ nthnumeric(i, ['0','1']) for i in range(256) ]"
      ],
      "execution_count": 22,
      "outputs": []
    },
    {
      "cell_type": "code",
      "metadata": {
        "id": "kN7dgYsfER3n",
        "outputId": "6931dd9a-9037-4df0-bae0-12820fb6f470",
        "colab": {
          "base_uri": "https://localhost:8080/"
        }
      },
      "source": [
        "TestList"
      ],
      "execution_count": 23,
      "outputs": [
        {
          "output_type": "execute_result",
          "data": {
            "text/plain": [
              "['',\n",
              " '0',\n",
              " '1',\n",
              " '00',\n",
              " '01',\n",
              " '10',\n",
              " '11',\n",
              " '000',\n",
              " '001',\n",
              " '010',\n",
              " '011',\n",
              " '100',\n",
              " '101',\n",
              " '110',\n",
              " '111',\n",
              " '0000',\n",
              " '0001',\n",
              " '0010',\n",
              " '0011',\n",
              " '0100',\n",
              " '0101',\n",
              " '0110',\n",
              " '0111',\n",
              " '1000',\n",
              " '1001',\n",
              " '1010',\n",
              " '1011',\n",
              " '1100',\n",
              " '1101',\n",
              " '1110',\n",
              " '1111',\n",
              " '00000',\n",
              " '00001',\n",
              " '00010',\n",
              " '00011',\n",
              " '00100',\n",
              " '00101',\n",
              " '00110',\n",
              " '00111',\n",
              " '01000',\n",
              " '01001',\n",
              " '01010',\n",
              " '01011',\n",
              " '01100',\n",
              " '01101',\n",
              " '01110',\n",
              " '01111',\n",
              " '10000',\n",
              " '10001',\n",
              " '10010',\n",
              " '10011',\n",
              " '10100',\n",
              " '10101',\n",
              " '10110',\n",
              " '10111',\n",
              " '11000',\n",
              " '11001',\n",
              " '11010',\n",
              " '11011',\n",
              " '11100',\n",
              " '11101',\n",
              " '11110',\n",
              " '11111',\n",
              " '000000',\n",
              " '000001',\n",
              " '000010',\n",
              " '000011',\n",
              " '000100',\n",
              " '000101',\n",
              " '000110',\n",
              " '000111',\n",
              " '001000',\n",
              " '001001',\n",
              " '001010',\n",
              " '001011',\n",
              " '001100',\n",
              " '001101',\n",
              " '001110',\n",
              " '001111',\n",
              " '010000',\n",
              " '010001',\n",
              " '010010',\n",
              " '010011',\n",
              " '010100',\n",
              " '010101',\n",
              " '010110',\n",
              " '010111',\n",
              " '011000',\n",
              " '011001',\n",
              " '011010',\n",
              " '011011',\n",
              " '011100',\n",
              " '011101',\n",
              " '011110',\n",
              " '011111',\n",
              " '100000',\n",
              " '100001',\n",
              " '100010',\n",
              " '100011',\n",
              " '100100',\n",
              " '100101',\n",
              " '100110',\n",
              " '100111',\n",
              " '101000',\n",
              " '101001',\n",
              " '101010',\n",
              " '101011',\n",
              " '101100',\n",
              " '101101',\n",
              " '101110',\n",
              " '101111',\n",
              " '110000',\n",
              " '110001',\n",
              " '110010',\n",
              " '110011',\n",
              " '110100',\n",
              " '110101',\n",
              " '110110',\n",
              " '110111',\n",
              " '111000',\n",
              " '111001',\n",
              " '111010',\n",
              " '111011',\n",
              " '111100',\n",
              " '111101',\n",
              " '111110',\n",
              " '111111',\n",
              " '0000000',\n",
              " '0000001',\n",
              " '0000010',\n",
              " '0000011',\n",
              " '0000100',\n",
              " '0000101',\n",
              " '0000110',\n",
              " '0000111',\n",
              " '0001000',\n",
              " '0001001',\n",
              " '0001010',\n",
              " '0001011',\n",
              " '0001100',\n",
              " '0001101',\n",
              " '0001110',\n",
              " '0001111',\n",
              " '0010000',\n",
              " '0010001',\n",
              " '0010010',\n",
              " '0010011',\n",
              " '0010100',\n",
              " '0010101',\n",
              " '0010110',\n",
              " '0010111',\n",
              " '0011000',\n",
              " '0011001',\n",
              " '0011010',\n",
              " '0011011',\n",
              " '0011100',\n",
              " '0011101',\n",
              " '0011110',\n",
              " '0011111',\n",
              " '0100000',\n",
              " '0100001',\n",
              " '0100010',\n",
              " '0100011',\n",
              " '0100100',\n",
              " '0100101',\n",
              " '0100110',\n",
              " '0100111',\n",
              " '0101000',\n",
              " '0101001',\n",
              " '0101010',\n",
              " '0101011',\n",
              " '0101100',\n",
              " '0101101',\n",
              " '0101110',\n",
              " '0101111',\n",
              " '0110000',\n",
              " '0110001',\n",
              " '0110010',\n",
              " '0110011',\n",
              " '0110100',\n",
              " '0110101',\n",
              " '0110110',\n",
              " '0110111',\n",
              " '0111000',\n",
              " '0111001',\n",
              " '0111010',\n",
              " '0111011',\n",
              " '0111100',\n",
              " '0111101',\n",
              " '0111110',\n",
              " '0111111',\n",
              " '1000000',\n",
              " '1000001',\n",
              " '1000010',\n",
              " '1000011',\n",
              " '1000100',\n",
              " '1000101',\n",
              " '1000110',\n",
              " '1000111',\n",
              " '1001000',\n",
              " '1001001',\n",
              " '1001010',\n",
              " '1001011',\n",
              " '1001100',\n",
              " '1001101',\n",
              " '1001110',\n",
              " '1001111',\n",
              " '1010000',\n",
              " '1010001',\n",
              " '1010010',\n",
              " '1010011',\n",
              " '1010100',\n",
              " '1010101',\n",
              " '1010110',\n",
              " '1010111',\n",
              " '1011000',\n",
              " '1011001',\n",
              " '1011010',\n",
              " '1011011',\n",
              " '1011100',\n",
              " '1011101',\n",
              " '1011110',\n",
              " '1011111',\n",
              " '1100000',\n",
              " '1100001',\n",
              " '1100010',\n",
              " '1100011',\n",
              " '1100100',\n",
              " '1100101',\n",
              " '1100110',\n",
              " '1100111',\n",
              " '1101000',\n",
              " '1101001',\n",
              " '1101010',\n",
              " '1101011',\n",
              " '1101100',\n",
              " '1101101',\n",
              " '1101110',\n",
              " '1101111',\n",
              " '1110000',\n",
              " '1110001',\n",
              " '1110010',\n",
              " '1110011',\n",
              " '1110100',\n",
              " '1110101',\n",
              " '1110110',\n",
              " '1110111',\n",
              " '1111000',\n",
              " '1111001',\n",
              " '1111010',\n",
              " '1111011',\n",
              " '1111100',\n",
              " '1111101',\n",
              " '1111110',\n",
              " '1111111',\n",
              " '00000000']"
            ]
          },
          "metadata": {
            "tags": []
          },
          "execution_count": 23
        }
      ]
    },
    {
      "cell_type": "code",
      "metadata": {
        "id": "uJYSoGs-ER3o"
      },
      "source": [
        "help(accepts_dfa)"
      ],
      "execution_count": null,
      "outputs": []
    },
    {
      "cell_type": "code",
      "metadata": {
        "id": "Vb99ZSLtER3o",
        "outputId": "8feb4ece-6b0f-497d-f9fe-0a52270be76e",
        "colab": {
          "base_uri": "https://localhost:8080/"
        }
      },
      "source": [
        "for test in TestList:\n",
        "    if accepts_dfa(min_Even010_Ends010, test):\n",
        "        print(\" min_Even010_Ends010 : accepts \", test)\n",
        "    else:\n",
        "        print(\" min_Even010_Ends010 : does not accept \", test)"
      ],
      "execution_count": 24,
      "outputs": [
        {
          "output_type": "stream",
          "text": [
            " min_Even010_Ends010 : does not accept  \n",
            " min_Even010_Ends010 : does not accept  0\n",
            " min_Even010_Ends010 : does not accept  1\n",
            " min_Even010_Ends010 : does not accept  00\n",
            " min_Even010_Ends010 : does not accept  01\n",
            " min_Even010_Ends010 : does not accept  10\n",
            " min_Even010_Ends010 : does not accept  11\n",
            " min_Even010_Ends010 : does not accept  000\n",
            " min_Even010_Ends010 : does not accept  001\n",
            " min_Even010_Ends010 : does not accept  010\n",
            " min_Even010_Ends010 : does not accept  011\n",
            " min_Even010_Ends010 : does not accept  100\n",
            " min_Even010_Ends010 : does not accept  101\n",
            " min_Even010_Ends010 : does not accept  110\n",
            " min_Even010_Ends010 : does not accept  111\n",
            " min_Even010_Ends010 : does not accept  0000\n",
            " min_Even010_Ends010 : does not accept  0001\n",
            " min_Even010_Ends010 : does not accept  0010\n",
            " min_Even010_Ends010 : does not accept  0011\n",
            " min_Even010_Ends010 : does not accept  0100\n",
            " min_Even010_Ends010 : does not accept  0101\n",
            " min_Even010_Ends010 : does not accept  0110\n",
            " min_Even010_Ends010 : does not accept  0111\n",
            " min_Even010_Ends010 : does not accept  1000\n",
            " min_Even010_Ends010 : does not accept  1001\n",
            " min_Even010_Ends010 : does not accept  1010\n",
            " min_Even010_Ends010 : does not accept  1011\n",
            " min_Even010_Ends010 : does not accept  1100\n",
            " min_Even010_Ends010 : does not accept  1101\n",
            " min_Even010_Ends010 : does not accept  1110\n",
            " min_Even010_Ends010 : does not accept  1111\n",
            " min_Even010_Ends010 : does not accept  00000\n",
            " min_Even010_Ends010 : does not accept  00001\n",
            " min_Even010_Ends010 : does not accept  00010\n",
            " min_Even010_Ends010 : does not accept  00011\n",
            " min_Even010_Ends010 : does not accept  00100\n",
            " min_Even010_Ends010 : does not accept  00101\n",
            " min_Even010_Ends010 : does not accept  00110\n",
            " min_Even010_Ends010 : does not accept  00111\n",
            " min_Even010_Ends010 : does not accept  01000\n",
            " min_Even010_Ends010 : does not accept  01001\n",
            " min_Even010_Ends010 : does not accept  01010\n",
            " min_Even010_Ends010 : does not accept  01011\n",
            " min_Even010_Ends010 : does not accept  01100\n",
            " min_Even010_Ends010 : does not accept  01101\n",
            " min_Even010_Ends010 : does not accept  01110\n",
            " min_Even010_Ends010 : does not accept  01111\n",
            " min_Even010_Ends010 : does not accept  10000\n",
            " min_Even010_Ends010 : does not accept  10001\n",
            " min_Even010_Ends010 : does not accept  10010\n",
            " min_Even010_Ends010 : does not accept  10011\n",
            " min_Even010_Ends010 : does not accept  10100\n",
            " min_Even010_Ends010 : does not accept  10101\n",
            " min_Even010_Ends010 : does not accept  10110\n",
            " min_Even010_Ends010 : does not accept  10111\n",
            " min_Even010_Ends010 : does not accept  11000\n",
            " min_Even010_Ends010 : does not accept  11001\n",
            " min_Even010_Ends010 : does not accept  11010\n",
            " min_Even010_Ends010 : does not accept  11011\n",
            " min_Even010_Ends010 : does not accept  11100\n",
            " min_Even010_Ends010 : does not accept  11101\n",
            " min_Even010_Ends010 : does not accept  11110\n",
            " min_Even010_Ends010 : does not accept  11111\n",
            " min_Even010_Ends010 : does not accept  000000\n",
            " min_Even010_Ends010 : does not accept  000001\n",
            " min_Even010_Ends010 : does not accept  000010\n",
            " min_Even010_Ends010 : does not accept  000011\n",
            " min_Even010_Ends010 : does not accept  000100\n",
            " min_Even010_Ends010 : does not accept  000101\n",
            " min_Even010_Ends010 : does not accept  000110\n",
            " min_Even010_Ends010 : does not accept  000111\n",
            " min_Even010_Ends010 : does not accept  001000\n",
            " min_Even010_Ends010 : does not accept  001001\n",
            " min_Even010_Ends010 : does not accept  001010\n",
            " min_Even010_Ends010 : does not accept  001011\n",
            " min_Even010_Ends010 : does not accept  001100\n",
            " min_Even010_Ends010 : does not accept  001101\n",
            " min_Even010_Ends010 : does not accept  001110\n",
            " min_Even010_Ends010 : does not accept  001111\n",
            " min_Even010_Ends010 : does not accept  010000\n",
            " min_Even010_Ends010 : does not accept  010001\n",
            " min_Even010_Ends010 : accepts  010010\n",
            " min_Even010_Ends010 : does not accept  010011\n",
            " min_Even010_Ends010 : does not accept  010100\n",
            " min_Even010_Ends010 : does not accept  010101\n",
            " min_Even010_Ends010 : does not accept  010110\n",
            " min_Even010_Ends010 : does not accept  010111\n",
            " min_Even010_Ends010 : does not accept  011000\n",
            " min_Even010_Ends010 : does not accept  011001\n",
            " min_Even010_Ends010 : does not accept  011010\n",
            " min_Even010_Ends010 : does not accept  011011\n",
            " min_Even010_Ends010 : does not accept  011100\n",
            " min_Even010_Ends010 : does not accept  011101\n",
            " min_Even010_Ends010 : does not accept  011110\n",
            " min_Even010_Ends010 : does not accept  011111\n",
            " min_Even010_Ends010 : does not accept  100000\n",
            " min_Even010_Ends010 : does not accept  100001\n",
            " min_Even010_Ends010 : does not accept  100010\n",
            " min_Even010_Ends010 : does not accept  100011\n",
            " min_Even010_Ends010 : does not accept  100100\n",
            " min_Even010_Ends010 : does not accept  100101\n",
            " min_Even010_Ends010 : does not accept  100110\n",
            " min_Even010_Ends010 : does not accept  100111\n",
            " min_Even010_Ends010 : does not accept  101000\n",
            " min_Even010_Ends010 : does not accept  101001\n",
            " min_Even010_Ends010 : does not accept  101010\n",
            " min_Even010_Ends010 : does not accept  101011\n",
            " min_Even010_Ends010 : does not accept  101100\n",
            " min_Even010_Ends010 : does not accept  101101\n",
            " min_Even010_Ends010 : does not accept  101110\n",
            " min_Even010_Ends010 : does not accept  101111\n",
            " min_Even010_Ends010 : does not accept  110000\n",
            " min_Even010_Ends010 : does not accept  110001\n",
            " min_Even010_Ends010 : does not accept  110010\n",
            " min_Even010_Ends010 : does not accept  110011\n",
            " min_Even010_Ends010 : does not accept  110100\n",
            " min_Even010_Ends010 : does not accept  110101\n",
            " min_Even010_Ends010 : does not accept  110110\n",
            " min_Even010_Ends010 : does not accept  110111\n",
            " min_Even010_Ends010 : does not accept  111000\n",
            " min_Even010_Ends010 : does not accept  111001\n",
            " min_Even010_Ends010 : does not accept  111010\n",
            " min_Even010_Ends010 : does not accept  111011\n",
            " min_Even010_Ends010 : does not accept  111100\n",
            " min_Even010_Ends010 : does not accept  111101\n",
            " min_Even010_Ends010 : does not accept  111110\n",
            " min_Even010_Ends010 : does not accept  111111\n",
            " min_Even010_Ends010 : does not accept  0000000\n",
            " min_Even010_Ends010 : does not accept  0000001\n",
            " min_Even010_Ends010 : does not accept  0000010\n",
            " min_Even010_Ends010 : does not accept  0000011\n",
            " min_Even010_Ends010 : does not accept  0000100\n",
            " min_Even010_Ends010 : does not accept  0000101\n",
            " min_Even010_Ends010 : does not accept  0000110\n",
            " min_Even010_Ends010 : does not accept  0000111\n",
            " min_Even010_Ends010 : does not accept  0001000\n",
            " min_Even010_Ends010 : does not accept  0001001\n",
            " min_Even010_Ends010 : does not accept  0001010\n",
            " min_Even010_Ends010 : does not accept  0001011\n",
            " min_Even010_Ends010 : does not accept  0001100\n",
            " min_Even010_Ends010 : does not accept  0001101\n",
            " min_Even010_Ends010 : does not accept  0001110\n",
            " min_Even010_Ends010 : does not accept  0001111\n",
            " min_Even010_Ends010 : does not accept  0010000\n",
            " min_Even010_Ends010 : does not accept  0010001\n",
            " min_Even010_Ends010 : accepts  0010010\n",
            " min_Even010_Ends010 : does not accept  0010011\n",
            " min_Even010_Ends010 : does not accept  0010100\n",
            " min_Even010_Ends010 : does not accept  0010101\n",
            " min_Even010_Ends010 : does not accept  0010110\n",
            " min_Even010_Ends010 : does not accept  0010111\n",
            " min_Even010_Ends010 : does not accept  0011000\n",
            " min_Even010_Ends010 : does not accept  0011001\n",
            " min_Even010_Ends010 : does not accept  0011010\n",
            " min_Even010_Ends010 : does not accept  0011011\n",
            " min_Even010_Ends010 : does not accept  0011100\n",
            " min_Even010_Ends010 : does not accept  0011101\n",
            " min_Even010_Ends010 : does not accept  0011110\n",
            " min_Even010_Ends010 : does not accept  0011111\n",
            " min_Even010_Ends010 : does not accept  0100000\n",
            " min_Even010_Ends010 : does not accept  0100001\n",
            " min_Even010_Ends010 : accepts  0100010\n",
            " min_Even010_Ends010 : does not accept  0100011\n",
            " min_Even010_Ends010 : does not accept  0100100\n",
            " min_Even010_Ends010 : does not accept  0100101\n",
            " min_Even010_Ends010 : does not accept  0100110\n",
            " min_Even010_Ends010 : does not accept  0100111\n",
            " min_Even010_Ends010 : does not accept  0101000\n",
            " min_Even010_Ends010 : does not accept  0101001\n",
            " min_Even010_Ends010 : accepts  0101010\n",
            " min_Even010_Ends010 : does not accept  0101011\n",
            " min_Even010_Ends010 : does not accept  0101100\n",
            " min_Even010_Ends010 : does not accept  0101101\n",
            " min_Even010_Ends010 : does not accept  0101110\n",
            " min_Even010_Ends010 : does not accept  0101111\n",
            " min_Even010_Ends010 : does not accept  0110000\n",
            " min_Even010_Ends010 : does not accept  0110001\n",
            " min_Even010_Ends010 : does not accept  0110010\n",
            " min_Even010_Ends010 : does not accept  0110011\n",
            " min_Even010_Ends010 : does not accept  0110100\n",
            " min_Even010_Ends010 : does not accept  0110101\n",
            " min_Even010_Ends010 : does not accept  0110110\n",
            " min_Even010_Ends010 : does not accept  0110111\n",
            " min_Even010_Ends010 : does not accept  0111000\n",
            " min_Even010_Ends010 : does not accept  0111001\n",
            " min_Even010_Ends010 : does not accept  0111010\n",
            " min_Even010_Ends010 : does not accept  0111011\n",
            " min_Even010_Ends010 : does not accept  0111100\n",
            " min_Even010_Ends010 : does not accept  0111101\n",
            " min_Even010_Ends010 : does not accept  0111110\n",
            " min_Even010_Ends010 : does not accept  0111111\n",
            " min_Even010_Ends010 : does not accept  1000000\n",
            " min_Even010_Ends010 : does not accept  1000001\n",
            " min_Even010_Ends010 : does not accept  1000010\n",
            " min_Even010_Ends010 : does not accept  1000011\n",
            " min_Even010_Ends010 : does not accept  1000100\n",
            " min_Even010_Ends010 : does not accept  1000101\n",
            " min_Even010_Ends010 : does not accept  1000110\n",
            " min_Even010_Ends010 : does not accept  1000111\n",
            " min_Even010_Ends010 : does not accept  1001000\n",
            " min_Even010_Ends010 : does not accept  1001001\n",
            " min_Even010_Ends010 : does not accept  1001010\n",
            " min_Even010_Ends010 : does not accept  1001011\n",
            " min_Even010_Ends010 : does not accept  1001100\n",
            " min_Even010_Ends010 : does not accept  1001101\n",
            " min_Even010_Ends010 : does not accept  1001110\n",
            " min_Even010_Ends010 : does not accept  1001111\n",
            " min_Even010_Ends010 : does not accept  1010000\n",
            " min_Even010_Ends010 : does not accept  1010001\n",
            " min_Even010_Ends010 : accepts  1010010\n",
            " min_Even010_Ends010 : does not accept  1010011\n",
            " min_Even010_Ends010 : does not accept  1010100\n",
            " min_Even010_Ends010 : does not accept  1010101\n",
            " min_Even010_Ends010 : does not accept  1010110\n",
            " min_Even010_Ends010 : does not accept  1010111\n",
            " min_Even010_Ends010 : does not accept  1011000\n",
            " min_Even010_Ends010 : does not accept  1011001\n",
            " min_Even010_Ends010 : does not accept  1011010\n",
            " min_Even010_Ends010 : does not accept  1011011\n",
            " min_Even010_Ends010 : does not accept  1011100\n",
            " min_Even010_Ends010 : does not accept  1011101\n",
            " min_Even010_Ends010 : does not accept  1011110\n",
            " min_Even010_Ends010 : does not accept  1011111\n",
            " min_Even010_Ends010 : does not accept  1100000\n",
            " min_Even010_Ends010 : does not accept  1100001\n",
            " min_Even010_Ends010 : does not accept  1100010\n",
            " min_Even010_Ends010 : does not accept  1100011\n",
            " min_Even010_Ends010 : does not accept  1100100\n",
            " min_Even010_Ends010 : does not accept  1100101\n",
            " min_Even010_Ends010 : does not accept  1100110\n",
            " min_Even010_Ends010 : does not accept  1100111\n",
            " min_Even010_Ends010 : does not accept  1101000\n",
            " min_Even010_Ends010 : does not accept  1101001\n",
            " min_Even010_Ends010 : does not accept  1101010\n",
            " min_Even010_Ends010 : does not accept  1101011\n",
            " min_Even010_Ends010 : does not accept  1101100\n",
            " min_Even010_Ends010 : does not accept  1101101\n",
            " min_Even010_Ends010 : does not accept  1101110\n",
            " min_Even010_Ends010 : does not accept  1101111\n",
            " min_Even010_Ends010 : does not accept  1110000\n",
            " min_Even010_Ends010 : does not accept  1110001\n",
            " min_Even010_Ends010 : does not accept  1110010\n",
            " min_Even010_Ends010 : does not accept  1110011\n",
            " min_Even010_Ends010 : does not accept  1110100\n",
            " min_Even010_Ends010 : does not accept  1110101\n",
            " min_Even010_Ends010 : does not accept  1110110\n",
            " min_Even010_Ends010 : does not accept  1110111\n",
            " min_Even010_Ends010 : does not accept  1111000\n",
            " min_Even010_Ends010 : does not accept  1111001\n",
            " min_Even010_Ends010 : does not accept  1111010\n",
            " min_Even010_Ends010 : does not accept  1111011\n",
            " min_Even010_Ends010 : does not accept  1111100\n",
            " min_Even010_Ends010 : does not accept  1111101\n",
            " min_Even010_Ends010 : does not accept  1111110\n",
            " min_Even010_Ends010 : does not accept  1111111\n",
            " min_Even010_Ends010 : does not accept  00000000\n"
          ],
          "name": "stdout"
        }
      ]
    },
    {
      "cell_type": "markdown",
      "metadata": {
        "id": "C6RJV_k4ER3o"
      },
      "source": [
        "## Use Python's \"filter\" function to filter out the accepted strings directly"
      ]
    },
    {
      "cell_type": "code",
      "metadata": {
        "scrolled": true,
        "id": "sB4QhzBXER3p",
        "outputId": "342fbff2-ad96-42d4-a0d2-be924defbf10",
        "colab": {
          "base_uri": "https://localhost:8080/"
        }
      },
      "source": [
        "list(filter(lambda x: accepts_dfa(min_Even010_Ends010, x), TestList))"
      ],
      "execution_count": 25,
      "outputs": [
        {
          "output_type": "execute_result",
          "data": {
            "text/plain": [
              "['010010', '0010010', '0100010', '0101010', '1010010']"
            ]
          },
          "metadata": {
            "tags": []
          },
          "execution_count": 25
        }
      ]
    },
    {
      "cell_type": "markdown",
      "metadata": {
        "id": "3WooXuSpER3p"
      },
      "source": [
        "## Doubled the testing range; now finding at least ten strings!"
      ]
    },
    {
      "cell_type": "code",
      "metadata": {
        "id": "u_pSnRvoER3p",
        "outputId": "d4686d56-3a0c-4c15-c25d-e2bebf711118",
        "colab": {
          "base_uri": "https://localhost:8080/"
        }
      },
      "source": [
        "TestList = [ nthnumeric(i, ['0','1']) for i in range(512) ]\r\n",
        "list(filter(lambda x: accepts_dfa(min_Even010_Ends010, x), TestList))"
      ],
      "execution_count": 26,
      "outputs": [
        {
          "output_type": "execute_result",
          "data": {
            "text/plain": [
              "['010010',\n",
              " '0010010',\n",
              " '0100010',\n",
              " '0101010',\n",
              " '1010010',\n",
              " '00010010',\n",
              " '00100010',\n",
              " '00101010',\n",
              " '01000010',\n",
              " '01001010',\n",
              " '01010010',\n",
              " '01011010',\n",
              " '10010010',\n",
              " '10100010',\n",
              " '10101010',\n",
              " '11010010']"
            ]
          },
          "metadata": {
            "tags": []
          },
          "execution_count": 26
        }
      ]
    },
    {
      "cell_type": "markdown",
      "metadata": {
        "id": "5HphBDq1ER3q"
      },
      "source": [
        "# END"
      ]
    }
  ]
}