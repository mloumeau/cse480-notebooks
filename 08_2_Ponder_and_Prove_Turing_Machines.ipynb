{
  "nbformat": 4,
  "nbformat_minor": 0,
  "metadata": {
    "colab": {
      "name": "08_2_Ponder_and_Prove_Turing_Machines.ipynb",
      "provenance": [],
      "include_colab_link": true
    },
    "kernelspec": {
      "name": "python3",
      "display_name": "Python 3"
    }
  },
  "cells": [
    {
      "cell_type": "markdown",
      "metadata": {
        "id": "view-in-github",
        "colab_type": "text"
      },
      "source": [
        "<a href=\"https://colab.research.google.com/github/mloumeau/cse480-notebooks/blob/master/08_2_Ponder_and_Prove_Turing_Machines.ipynb\" target=\"_parent\"><img src=\"https://colab.research.google.com/assets/colab-badge.svg\" alt=\"Open In Colab\"/></a>"
      ]
    },
    {
      "cell_type": "markdown",
      "metadata": {
        "id": "KROWXw9EqAOY"
      },
      "source": [
        "# Ponder and Prove Turing Machines\n",
        "## Due: Saturday, 27 February 2021, 11:59 pm"
      ]
    },
    {
      "cell_type": "code",
      "metadata": {
        "id": "hPLZwa8I_TFC",
        "outputId": "9f59b443-0b10-434b-80ca-961a7c592492",
        "colab": {
          "base_uri": "https://localhost:8080/"
        }
      },
      "source": [
        "#~~~~~~~~~~~~~~~~~~~~~~~~~~~~~~~~~~~~~~~~~~~~~~~~~~~~~~~\r\n",
        "import sys\r\n",
        "\r\n",
        "# -- Detect if in Own Install or in Colab\r\n",
        "try:\r\n",
        "    import google.colab\r\n",
        "    OWN_INSTALL = False\r\n",
        "except:\r\n",
        "    OWN_INSTALL = True\r\n",
        "    \r\n",
        "if OWN_INSTALL:\r\n",
        "    \r\n",
        "  #---- Leave these definitions ON if running on laptop\r\n",
        "  #---- Else turn OFF by putting them between ''' ... '''\r\n",
        "\r\n",
        "  sys.path[0:0] = ['../../../../..',  '../../../../../3rdparty',  \r\n",
        "                   '../../../..',  '../../../../3rdparty',  \r\n",
        "                   '../../..',     '../../../3rdparty', \r\n",
        "                   '../..',        '../../3rdparty',\r\n",
        "                   '..',           '../3rdparty' ]\r\n",
        "\r\n",
        "else: # In colab\r\n",
        "  ! if [ ! -d Jove ]; then git clone https://github.com/ganeshutah/Jove Jove; fi\r\n",
        "  sys.path.append('./Jove')\r\n",
        "  sys.path.append('./Jove/jove')\r\n",
        "\r\n",
        "# -- common imports --\r\n",
        "from jove.Def_TM     import *\r\n",
        "from jove.Def_md2mc  import *\r\n",
        "from jove.DotBashers import *\r\n",
        "from jove.JoveEditor import *\r\n",
        "from jove.AnimateTM import * #-- usage: AnimateTM(whas101DTM, FuseEdges=True)\r\n",
        "#~~~~~~~~~~~~~~~~~~~~~~~~~~~~~~~~~~~~~~~~~~~~~~~~~~~~~~~"
      ],
      "execution_count": 1,
      "outputs": [
        {
          "output_type": "stream",
          "text": [
            "Cloning into 'Jove'...\n",
            "remote: Enumerating objects: 4634, done.\u001b[K\n",
            "remote: Total 4634 (delta 0), reused 0 (delta 0), pack-reused 4634\u001b[K\n",
            "Receiving objects: 100% (4634/4634), 7.38 MiB | 10.32 MiB/s, done.\n",
            "Resolving deltas: 100% (3005/3005), done.\n",
            "You may use any of these help commands:\n",
            "help(step_tm)\n",
            "help(run_tm)\n",
            "help(explore_tm)\n",
            "\n",
            "You may use any of these help commands:\n",
            "help(md2mc)\n",
            ".. and if you want to dig more, then ..\n",
            "help(default_line_attr)\n",
            "help(length_ok_input_items)\n",
            "help(union_line_attr_list_fld)\n",
            "help(extend_rsltdict)\n",
            "help(form_delta)\n",
            "help(get_machine_components)\n",
            "\n",
            "You may use any of these help commands:\n",
            "help(ResetStNum)\n",
            "help(NxtStateStr)\n",
            "\n",
            " \"help(JoveEditor)\" gives you info on the generic animation panel that animates all machines. \n"
          ],
          "name": "stdout"
        }
      ]
    },
    {
      "cell_type": "markdown",
      "metadata": {
        "id": "uLXu2I4YqK2x"
      },
      "source": [
        "## TODO Study Examples"
      ]
    },
    {
      "cell_type": "markdown",
      "metadata": {
        "id": "m7clQtUHqQDq"
      },
      "source": [
        "In the folders\n",
        "\n",
        "Jove/For_CS3100_Fall2020/17_DTMs_and_NDTMs\n",
        "\n",
        "and \n",
        "\n",
        "Jove/For_CS3100_Fall2020/18_More_TM_Exs\n",
        "\n",
        "you will find many examples of Deterministic Turing Machines, and Nondeterministic Turing Machines. Study these carefully!"
      ]
    },
    {
      "cell_type": "markdown",
      "metadata": {
        "id": "ND770ZuCq5kG"
      },
      "source": [
        "## TODO Write a Summary"
      ]
    },
    {
      "cell_type": "markdown",
      "metadata": {
        "id": "MRG7nNwoq_qT"
      },
      "source": [
        "Describe what you learned about TMs of both varieties."
      ]
    },
    {
      "cell_type": "markdown",
      "metadata": {
        "id": "PxEfItik9rLp"
      },
      "source": [
        "## DTM and DFA\r\n",
        "Deterministic Turing Machines act like Deterministic Finite Automata in the sense of only having one option per state for each symbol in the alphabet. There is only one initial state allowed, just like a DFA. However, something we noticed is that DFAs require a path on every state for each symbol on the alphabet, even if this means the path leads towards a blackhole state. With DFA in Jove, we are able to display this blackhole state. We were unable to access the blackhole with the DTM. Our question is, is there indeed a blackhole state that is necessary for a totalized DTM? Our guess is that it is necessary.\r\n",
        "\r\n",
        "## NTM and NFA\r\n",
        "Nondeterministic Turing Machines act like Nondeterministic Finite Automata in the sense of having multiple options for each symbol on at least one state in the machine/automata. They are also both allowed to have multiple initial states. Just like an NFA, a NTM has multiple places where the string could be. An evaluation is done for each possible location where the string could be found."
      ]
    },
    {
      "cell_type": "markdown",
      "metadata": {
        "id": "IZv2_MDnrkiY"
      },
      "source": [
        "## TODO Create a DTM to Delete a Character"
      ]
    },
    {
      "cell_type": "markdown",
      "metadata": {
        "id": "8CO727aIrrEi"
      },
      "source": [
        "This task is to delete a character from the tape string. Deleting the current symbol means transforming the tape from $x\\sigma y$ to $xy$ where $\\sigma$ is any symbol, including a blank, and $y$ is a string of nonblank symbols. Assume the input alphabet is $\\{a, b\\}$.\n",
        "\n",
        "HINT: Use a couple of states (labeled $q_a$ and $q_b$, say) for your TM to remember a symbol between the time it is erased and the time it is copied in the next square to the left. (The complete DTM requires about 6 states total, with 12 transitions.)\n"
      ]
    },
    {
      "cell_type": "code",
      "metadata": {
        "id": "0-IqgN___Nkj",
        "outputId": "4a29deac-d56d-48fc-fa50-df184a00616c",
        "colab": {
          "base_uri": "https://localhost:8080/",
          "height": 197
        }
      },
      "source": [
        "delCharTM = md2mc('''TM\r\n",
        "I : a ; a, R -> I\r\n",
        "I : b ; b, R -> I\r\n",
        "I : . ; ., L -> Q1\r\n",
        "\r\n",
        "Q1 : a ; ., L -> QA\r\n",
        "Q1 : b ; ., L -> QB\r\n",
        "\r\n",
        "QA : a ; a, S -> F\r\n",
        "QA : b ; a, S -> F\r\n",
        "\r\n",
        "QB : a ; b, S -> F\r\n",
        "QB : b ; b, S -> F\r\n",
        "''')\r\n",
        "DOdelCharTM = dotObj_tm(delCharTM, FuseEdges=True)\r\n",
        "DOdelCharTM\r\n"
      ],
      "execution_count": 3,
      "outputs": [
        {
          "output_type": "execute_result",
          "data": {
            "text/plain": [
              "<graphviz.dot.Digraph at 0x7fd2d2d25710>"
            ],
            "image/svg+xml": "<?xml version=\"1.0\" encoding=\"UTF-8\" standalone=\"no\"?>\n<!DOCTYPE svg PUBLIC \"-//W3C//DTD SVG 1.1//EN\"\n \"http://www.w3.org/Graphics/SVG/1.1/DTD/svg11.dtd\">\n<!-- Generated by graphviz version 2.40.1 (20161225.0304)\n -->\n<!-- Title: %3 Pages: 1 -->\n<svg width=\"493pt\" height=\"132pt\"\n viewBox=\"0.00 0.00 492.89 131.70\" xmlns=\"http://www.w3.org/2000/svg\" xmlns:xlink=\"http://www.w3.org/1999/xlink\">\n<g id=\"graph0\" class=\"graph\" transform=\"scale(1 1) rotate(0) translate(4 127.6978)\">\n<title>%3</title>\n<polygon fill=\"#ffffff\" stroke=\"transparent\" points=\"-4,4 -4,-127.6978 488.8916,-127.6978 488.8916,4 -4,4\"/>\n<!-- EMPTY -->\n<g id=\"node1\" class=\"node\">\n<title>EMPTY</title>\n</g>\n<!-- I -->\n<g id=\"node4\" class=\"node\">\n<title>I</title>\n<ellipse fill=\"none\" stroke=\"#000000\" cx=\"109\" cy=\"-57.6978\" rx=\"18\" ry=\"18\"/>\n<text text-anchor=\"middle\" x=\"109\" y=\"-53.9978\" font-family=\"Times,serif\" font-size=\"14.00\" fill=\"#000000\">I</text>\n</g>\n<!-- EMPTY&#45;&gt;I -->\n<g id=\"edge1\" class=\"edge\">\n<title>EMPTY&#45;&gt;I</title>\n<path fill=\"none\" stroke=\"#000000\" d=\"M54.3048,-57.6978C62.6909,-57.6978 71.9407,-57.6978 80.4103,-57.6978\"/>\n<polygon fill=\"#000000\" stroke=\"#000000\" points=\"80.5976,-61.1979 90.5976,-57.6978 80.5976,-54.1979 80.5976,-61.1979\"/>\n</g>\n<!-- Q1 -->\n<g id=\"node2\" class=\"node\">\n<title>Q1</title>\n<ellipse fill=\"none\" stroke=\"#000000\" cx=\"217.748\" cy=\"-57.6978\" rx=\"22.9987\" ry=\"22.9987\"/>\n<text text-anchor=\"middle\" x=\"217.748\" y=\"-53.9978\" font-family=\"Times,serif\" font-size=\"14.00\" fill=\"#000000\">Q1</text>\n</g>\n<!-- QB -->\n<g id=\"node3\" class=\"node\">\n<title>QB</title>\n<ellipse fill=\"none\" stroke=\"#000000\" cx=\"337.1938\" cy=\"-91.6978\" rx=\"24.0958\" ry=\"24.0958\"/>\n<text text-anchor=\"middle\" x=\"337.1938\" y=\"-87.9978\" font-family=\"Times,serif\" font-size=\"14.00\" fill=\"#000000\">QB</text>\n</g>\n<!-- Q1&#45;&gt;QB -->\n<g id=\"edge5\" class=\"edge\">\n<title>Q1&#45;&gt;QB</title>\n<path fill=\"none\" stroke=\"#000000\" d=\"M239.6562,-63.9339C257.6322,-69.0508 283.3727,-76.3778 303.8974,-82.2201\"/>\n<polygon fill=\"#000000\" stroke=\"#000000\" points=\"303.2148,-85.6647 313.791,-85.0363 305.1313,-78.9322 303.2148,-85.6647\"/>\n<text text-anchor=\"middle\" x=\"276.496\" y=\"-82.4978\" font-family=\"Times,serif\" font-size=\"14.00\" fill=\"#000000\">b ; .,L</text>\n</g>\n<!-- QA -->\n<g id=\"node5\" class=\"node\">\n<title>QA</title>\n<ellipse fill=\"none\" stroke=\"#000000\" cx=\"337.1938\" cy=\"-24.6978\" rx=\"24.8972\" ry=\"24.8972\"/>\n<text text-anchor=\"middle\" x=\"337.1938\" y=\"-20.9978\" font-family=\"Times,serif\" font-size=\"14.00\" fill=\"#000000\">QA</text>\n</g>\n<!-- Q1&#45;&gt;QA -->\n<g id=\"edge4\" class=\"edge\">\n<title>Q1&#45;&gt;QA</title>\n<path fill=\"none\" stroke=\"#000000\" d=\"M239.9349,-51.5681C257.7112,-46.6569 282.9488,-39.6844 303.2604,-34.0728\"/>\n<polygon fill=\"#000000\" stroke=\"#000000\" points=\"304.367,-37.3983 313.0738,-31.3616 302.5028,-30.651 304.367,-37.3983\"/>\n<text text-anchor=\"middle\" x=\"276.496\" y=\"-50.4978\" font-family=\"Times,serif\" font-size=\"14.00\" fill=\"#000000\">a ; .,L</text>\n</g>\n<!-- F -->\n<g id=\"node6\" class=\"node\">\n<title>F</title>\n<ellipse fill=\"none\" stroke=\"#000000\" cx=\"462.8916\" cy=\"-57.6978\" rx=\"18\" ry=\"18\"/>\n<ellipse fill=\"none\" stroke=\"#000000\" cx=\"462.8916\" cy=\"-57.6978\" rx=\"22\" ry=\"22\"/>\n<text text-anchor=\"middle\" x=\"462.8916\" y=\"-53.9978\" font-family=\"Times,serif\" font-size=\"14.00\" fill=\"#000000\">F</text>\n</g>\n<!-- QB&#45;&gt;F -->\n<g id=\"edge7\" class=\"edge\">\n<title>QB&#45;&gt;F</title>\n<path fill=\"none\" stroke=\"#000000\" d=\"M360.542,-85.3824C380.5229,-79.9777 409.4614,-72.1501 431.4732,-66.1962\"/>\n<polygon fill=\"#000000\" stroke=\"#000000\" points=\"432.6078,-69.5151 441.347,-63.5254 430.78,-62.758 432.6078,-69.5151\"/>\n<text text-anchor=\"middle\" x=\"401.3916\" y=\"-98.4978\" font-family=\"Times,serif\" font-size=\"14.00\" fill=\"#000000\">a ; b,S </text>\n<text text-anchor=\"middle\" x=\"401.3916\" y=\"-83.4978\" font-family=\"Times,serif\" font-size=\"14.00\" fill=\"#000000\"> b ; b,S</text>\n</g>\n<!-- I&#45;&gt;Q1 -->\n<g id=\"edge3\" class=\"edge\">\n<title>I&#45;&gt;Q1</title>\n<path fill=\"none\" stroke=\"#000000\" d=\"M127.4476,-57.6978C143.0209,-57.6978 165.7109,-57.6978 184.4499,-57.6978\"/>\n<polygon fill=\"#000000\" stroke=\"#000000\" points=\"184.6625,-61.1979 194.6625,-57.6978 184.6624,-54.1979 184.6625,-61.1979\"/>\n<text text-anchor=\"middle\" x=\"161\" y=\"-61.4978\" font-family=\"Times,serif\" font-size=\"14.00\" fill=\"#000000\">. ; .,L</text>\n</g>\n<!-- I&#45;&gt;I -->\n<g id=\"edge2\" class=\"edge\">\n<title>I&#45;&gt;I</title>\n<path fill=\"none\" stroke=\"#000000\" d=\"M102.6208,-74.7351C101.3189,-84.5557 103.4453,-93.6978 109,-93.6978 112.4717,-93.6978 114.6042,-90.1267 115.3975,-85.0507\"/>\n<polygon fill=\"#000000\" stroke=\"#000000\" points=\"118.8971,-84.7289 115.3792,-74.7351 111.8971,-84.7413 118.8971,-84.7289\"/>\n<text text-anchor=\"middle\" x=\"109\" y=\"-112.4978\" font-family=\"Times,serif\" font-size=\"14.00\" fill=\"#000000\">b ; b,R </text>\n<text text-anchor=\"middle\" x=\"109\" y=\"-97.4978\" font-family=\"Times,serif\" font-size=\"14.00\" fill=\"#000000\"> a ; a,R</text>\n</g>\n<!-- QA&#45;&gt;F -->\n<g id=\"edge6\" class=\"edge\">\n<title>QA&#45;&gt;F</title>\n<path fill=\"none\" stroke=\"#000000\" d=\"M362.1112,-25.4396C379.5074,-26.5457 403.0689,-29.2331 422.8916,-35.6978 427.0452,-37.0524 431.2647,-38.8437 435.3292,-40.8209\"/>\n<polygon fill=\"#000000\" stroke=\"#000000\" points=\"433.9541,-44.0536 444.4275,-45.6534 437.2377,-37.8715 433.9541,-44.0536\"/>\n<text text-anchor=\"middle\" x=\"401.3916\" y=\"-54.4978\" font-family=\"Times,serif\" font-size=\"14.00\" fill=\"#000000\">a ; a,S </text>\n<text text-anchor=\"middle\" x=\"401.3916\" y=\"-39.4978\" font-family=\"Times,serif\" font-size=\"14.00\" fill=\"#000000\"> b ; a,S</text>\n</g>\n</g>\n</svg>\n"
          },
          "metadata": {
            "tags": []
          },
          "execution_count": 3
        }
      ]
    },
    {
      "cell_type": "code",
      "metadata": {
        "id": "VMCYvAwzEQ08",
        "outputId": "5839129b-9bbf-4870-c4b8-7b0f65031bdb",
        "colab": {
          "base_uri": "https://localhost:8080/"
        }
      },
      "source": [
        "explore_tm(delCharTM, \"abbbbaaababbbaaab\", 100)\r\n"
      ],
      "execution_count": 4,
      "outputs": [
        {
          "output_type": "stream",
          "text": [
            "Allocating  8  tape cells to the RIGHT!\n",
            "Detailing the halted configs now.\n",
            "Accepted at  ('F', 15, 'abbbbaaababbbaab.........', 80)\n",
            " via .. \n",
            " ->('I', 0, 'abbbbaaababbbaaab', 100)\n",
            " ->('I', 1, 'abbbbaaababbbaaab', 99)\n",
            " ->('I', 2, 'abbbbaaababbbaaab', 98)\n",
            " ->('I', 3, 'abbbbaaababbbaaab', 97)\n",
            " ->('I', 4, 'abbbbaaababbbaaab', 96)\n",
            " ->('I', 5, 'abbbbaaababbbaaab', 95)\n",
            " ->('I', 6, 'abbbbaaababbbaaab', 94)\n",
            " ->('I', 7, 'abbbbaaababbbaaab', 93)\n",
            " ->('I', 8, 'abbbbaaababbbaaab', 92)\n",
            " ->('I', 9, 'abbbbaaababbbaaab', 91)\n",
            " ->('I', 10, 'abbbbaaababbbaaab', 90)\n",
            " ->('I', 11, 'abbbbaaababbbaaab', 89)\n",
            " ->('I', 12, 'abbbbaaababbbaaab', 88)\n",
            " ->('I', 13, 'abbbbaaababbbaaab', 87)\n",
            " ->('I', 14, 'abbbbaaababbbaaab', 86)\n",
            " ->('I', 15, 'abbbbaaababbbaaab', 85)\n",
            " ->('I', 16, 'abbbbaaababbbaaab', 84)\n",
            " ->('I', 17, 'abbbbaaababbbaaab', 83)\n",
            " ->('Q1', 16, 'abbbbaaababbbaaab........', 82)\n",
            " ->('QB', 15, 'abbbbaaababbbaaa.........', 81)\n",
            " ->('F', 15, 'abbbbaaababbbaab.........', 80)\n"
          ],
          "name": "stdout"
        }
      ]
    },
    {
      "cell_type": "code",
      "metadata": {
        "id": "R2tjQ7TREYN0",
        "outputId": "28573587-6d0c-4e21-ede0-4605b8ba2236",
        "colab": {
          "base_uri": "https://localhost:8080/"
        }
      },
      "source": [
        "explore_tm(delCharTM, \"abbababbba\", 100)\r\n"
      ],
      "execution_count": 5,
      "outputs": [
        {
          "output_type": "stream",
          "text": [
            "Allocating  8  tape cells to the RIGHT!\n",
            "Detailing the halted configs now.\n",
            "Accepted at  ('F', 8, 'abbababba.........', 87)\n",
            " via .. \n",
            " ->('I', 0, 'abbababbba', 100)\n",
            " ->('I', 1, 'abbababbba', 99)\n",
            " ->('I', 2, 'abbababbba', 98)\n",
            " ->('I', 3, 'abbababbba', 97)\n",
            " ->('I', 4, 'abbababbba', 96)\n",
            " ->('I', 5, 'abbababbba', 95)\n",
            " ->('I', 6, 'abbababbba', 94)\n",
            " ->('I', 7, 'abbababbba', 93)\n",
            " ->('I', 8, 'abbababbba', 92)\n",
            " ->('I', 9, 'abbababbba', 91)\n",
            " ->('I', 10, 'abbababbba', 90)\n",
            " ->('Q1', 9, 'abbababbba........', 89)\n",
            " ->('QA', 8, 'abbababbb.........', 88)\n",
            " ->('F', 8, 'abbababba.........', 87)\n"
          ],
          "name": "stdout"
        }
      ]
    },
    {
      "cell_type": "markdown",
      "metadata": {
        "id": "FmWSlviOsUC7"
      },
      "source": [
        "## TODO Create a DTM to Insert a Character"
      ]
    },
    {
      "cell_type": "markdown",
      "metadata": {
        "id": "jA2pQpkJsdXS"
      },
      "source": [
        "This task is the opposite of the first one, namely, to insert a character into the tape string. Inserting the symbol $\\sigma$ is done virtually the same way as deleting, except that the single pass goes from left to right, symbols are moved to the right instead of to the left, and the move that starts things off writes $\\sigma$ instead of a blank.\n"
      ]
    },
    {
      "cell_type": "markdown",
      "metadata": {
        "id": "rgOacLFksrEm"
      },
      "source": [
        "## TODO Create a DTM to Copy a String"
      ]
    },
    {
      "cell_type": "markdown",
      "metadata": {
        "id": "Iw2WYYVPsuqJ"
      },
      "source": [
        "Let $\\sqcup$ represent the blank symbol. A *Copy* DTM starts with tape $\\sqcup\\ x$ where $x$ is a string of nonblank symbols, and ends up with $\\sqcup\\ x \\sqcup x$. Again, assume the input alphabet is $\\{a, b\\}$.\n",
        "\n",
        "HINT: This DTM requires about 10 states, and not quite double that many transitions."
      ]
    },
    {
      "cell_type": "markdown",
      "metadata": {
        "id": "sTNke7j5t9D6"
      },
      "source": [
        "## TODO Refresh Your Knowledge of the 3x+1 Conjecture"
      ]
    },
    {
      "cell_type": "markdown",
      "metadata": {
        "id": "NpXXTnxMuN8t"
      },
      "source": [
        "The code on page 200 does the 3x+1 Conjecture testing recursively:"
      ]
    },
    {
      "cell_type": "code",
      "metadata": {
        "id": "8E-aZBdbuCo5"
      },
      "source": [
        "def tep1(x):\n",
        "    if (x==1):\n",
        "        return 1\n",
        "    elif (x%2 == 0):\n",
        "        return tep1(x/2)\n",
        "    else:\n",
        "        return tep1(3*x+1)\n",
        "\n",
        "print(tep1(3))\n",
        "print(tep1(191))\n",
        "print(tep1(19192949297080))\n",
        "print(tep1(191929492970809272397923472398492839482))\n",
        "print(tep1(191929492970809272397923472398492839482938492))"
      ],
      "execution_count": null,
      "outputs": []
    },
    {
      "cell_type": "markdown",
      "metadata": {
        "id": "4zkYEg08uZju"
      },
      "source": [
        "Two Python techniques --- \"memoizing\" and \"listifying\" --- make for faster code:"
      ]
    },
    {
      "cell_type": "code",
      "metadata": {
        "id": "er7VN37Au07d"
      },
      "source": [
        "def memoize(func):\n",
        "    results = {}\n",
        "    def inner(i):\n",
        "        if not i in results:\n",
        "            results[i] = func(i)\n",
        "        return results[i]\n",
        "    return inner\n",
        "\n",
        "def listify(func):\n",
        "    def inner(x):\n",
        "        return list(func(x))\n",
        "    return inner\n",
        "\n",
        "@memoize\n",
        "def tep1(x):\n",
        "    return 1 if x == 2 else tep1(x/2) if x%2 == 0 else tep1(3*x+1)\n",
        "\n",
        "@listify\n",
        "def tepmany(x):\n",
        "    for i in range(1, x+1):\n",
        "        yield tep1(i)\n",
        "\n",
        "print(max(tepmany(100000)))"
      ],
      "execution_count": null,
      "outputs": []
    },
    {
      "cell_type": "markdown",
      "metadata": {
        "id": "0QX5geEMvvcw"
      },
      "source": [
        "# TODO Modify a NON-Trivial Turing Machine Program"
      ]
    },
    {
      "cell_type": "markdown",
      "metadata": {
        "id": "3TemaqVUv1MI"
      },
      "source": [
        "The Turing machine program on page 202 performs the continuing 3x+1 transformation on an input that is a binary number. So for example if the\n",
        "initial tape has\n",
        "\n",
        "$11$\n",
        "\n",
        "which is the binary representation of the decimal number three, the final tape\n",
        "will have\n",
        "\n",
        "$1$\n",
        "\n",
        "on it.\n",
        "\n",
        "Modify the program so that a trace of all intermediate results appears on the output tape, e.g.:\n",
        "\n",
        "$11*1010*101*10000*1000*100*10*1$\n",
        "\n",
        "which separates with a star the binary representations of the numbers in the\n",
        "continuing 3x+1 transformation from 3 to 10 to 5 to 16 to 8 to 4 to 2 to 1.\n"
      ]
    }
  ]
}