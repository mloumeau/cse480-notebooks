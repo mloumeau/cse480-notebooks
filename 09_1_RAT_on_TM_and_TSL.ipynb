{
  "nbformat": 4,
  "nbformat_minor": 0,
  "metadata": {
    "colab": {
      "name": "09_1_RAT_on_TM_and_TSL.ipynb",
      "provenance": [],
      "toc_visible": true,
      "include_colab_link": true
    },
    "kernelspec": {
      "name": "python3",
      "display_name": "Python 3"
    }
  },
  "cells": [
    {
      "cell_type": "markdown",
      "metadata": {
        "id": "view-in-github",
        "colab_type": "text"
      },
      "source": [
        "<a href=\"https://colab.research.google.com/github/mloumeau/cse480-notebooks/blob/master/09_1_RAT_on_TM_and_TSL.ipynb\" target=\"_parent\"><img src=\"https://colab.research.google.com/assets/colab-badge.svg\" alt=\"Open In Colab\"/></a>"
      ]
    },
    {
      "cell_type": "markdown",
      "metadata": {
        "id": "YAQDN0tRKYqZ"
      },
      "source": [
        "# RAT on TM and TSL\n",
        "## Due: Monday, 1 March 2021, 2:30 pm."
      ]
    },
    {
      "cell_type": "markdown",
      "metadata": {
        "id": "l_RDPVsaK4UY"
      },
      "source": [
        "### True or False Questions"
      ]
    },
    {
      "cell_type": "code",
      "metadata": {
        "id": "3ntnzBMdKmaI"
      },
      "source": [
        "#@markdown --- True or False? **ANYTHING** you can instruct a computer to do in any programming language can also be programmed into a Turing Machine.\n",
        "answer1 = True  #@param {type: \"boolean\"}\n",
        "\n",
        "#@markdown --- True or False? The Church-Turing Thesis gives us an **informal way** to talk about algorithms.\n",
        "answer2 = True  #@param {type: \"boolean\"}\n",
        "\n",
        "#@markdown --- True or False? Both Church’s model and Turing’s model correctly capture the mathematical notion of \"effective computability,\" i.e., of *explicit algorithmic processes*.\n",
        "\n",
        "answer3 = True  #@param {type: \"boolean\"}\n",
        "\n",
        "#@markdown --- True or False? Anything not computable by a Turing Machine is not computable **at all**.\n",
        "answer4 = True  #@param {type: \"boolean\"}\n",
        "\n",
        "#@markdown --- True or False? The tape of a Turing Machine can be modeled by two unbounded stacks.\n",
        "answer5 = True  #@param {type: \"boolean\"}\n",
        "\n",
        "#@markdown --- True or False? A Turing Machine can halt in any state.\n",
        "answer6 = False  #@param {type: \"boolean\"}\n",
        "\n",
        "#@markdown --- True or False? A Turing Machine with its starting state q_0 in its set of final states has Sigma* as its language.\n",
        "answer7 = True  #@param {type: \"boolean\"}\n",
        "\n",
        "#@markdown --- True or False? It is necessary for a Turing Machine to read all of its input before halting.\n",
        "answer8 = False  #@param {type: \"boolean\"}\n"
      ],
      "execution_count": null,
      "outputs": []
    },
    {
      "cell_type": "markdown",
      "metadata": {
        "id": "_7Hq6LLrNFAP"
      },
      "source": [
        "### What is the language of this Turing Machine?"
      ]
    },
    {
      "cell_type": "markdown",
      "metadata": {
        "id": "90gchCV5NUsb"
      },
      "source": [
        "In the table below, q0 is the start state, q6 is the final state, B represents the blank symbol, and moves occur from the row states to the column states.\n",
        "\n",
        "Simulate the operation of the Turing Machine on at least inputs 'aaabbc' and 'aabbcc', and choose the correct one of four descriptions of its language."
      ]
    },
    {
      "cell_type": "markdown",
      "metadata": {
        "id": "Dtc-At8iNsQa"
      },
      "source": [
        "```\n",
        "         q0        q1        q2        q3        q4        q5        q6\n",
        "    +---------+---------+---------+---------+---------+---------+---------+\n",
        " q0 | -       | a; X, R | -       | -       | Y; Y, R | -       | B; B, R |\n",
        "    +---------+---------+---------+---------+---------+---------+---------+\n",
        " q1 | -       | a; a, R | b; Y, R | -       | -       | -       | -       |\n",
        "    | -       | Y; Y, R | -       | -       | -       | -       | -       |\n",
        "    +---------+---------+---------+---------+---------+---------+---------+\n",
        " q2 | -       | -       | Z; Z, R | c; Z, L | -       | -       | -       |\n",
        "    | -       | -       | b; b, R | -       | -       | -       | -       |\n",
        "    +---------+---------+---------+---------+---------+---------+---------+\n",
        " q3 | X; X, R | -       | -       | b; b, L | -       | -       | -       |\n",
        "    | -       | -       | -       | Y; Y, L | -       | -       | -       |\n",
        "    | -       | -       | -       | a; a, L | -       | -       | -       |\n",
        "    | -       | -       | -       | Z; Z, L | -       | -       | -       |\n",
        "    | -       | -       | -       | c; c, L | -       | -       | -       |\n",
        "    +---------+---------+---------+---------+---------+---------+---------+\n",
        " q4 | -       | -       | -       | -       | Y; Y, R | Z; Z, R | -       |\n",
        "    +---------+---------+---------+---------+---------+---------+---------+\n",
        " q5 | -       | -       | -       | -       | -       | Z; Z, R | B; B, R |\n",
        "    +---------+---------+---------+---------+---------+---------+---------+\n",
        " q6 | -       | -       | -       | -       | -       | -       | -       |\n",
        "    +---------------------------------------------------------------------+\n",
        "```"
      ]
    },
    {
      "cell_type": "code",
      "metadata": {
        "id": "B2e3u_yOOA_E"
      },
      "source": [
        "#@title Multiple Choice\n",
        "select_one = \"Zero or more a's followed by the same number of b's followed by the same number of c's.\" #@param [\"Not this one\", \"Zero or more a's followed by the same number of b's followed by the same number of c's.\", \"Some number of a's followed by one fewer b's followed by one fewer c's.\", \"An equal number of a's, b's and c's, with the empty string included.\", \"Some number (n, could be zero) of a's followed by n+1 b's followed by n+2 c's.\"] {allow-input: false}\n"
      ],
      "execution_count": null,
      "outputs": []
    },
    {
      "cell_type": "markdown",
      "metadata": {
        "id": "BXwy9vCEO1EX"
      },
      "source": [
        "### Trace Execution"
      ]
    },
    {
      "cell_type": "code",
      "metadata": {
        "id": "XhEJOi0wpLdL"
      },
      "source": [
        ""
      ],
      "execution_count": null,
      "outputs": []
    },
    {
      "cell_type": "markdown",
      "metadata": {
        "id": "E8pe62gzO4Tk"
      },
      "source": [
        "Study the Turing Machine described in the file at\n",
        "\n",
        "https://firstthreeodds.org/17657741833134731255/tm101.xml\n",
        "\n",
        "Give its configuration history (i.e., a list of its instantaneous descriptions) given 01101#01101 as input, assuming B represents the blank symbol."
      ]
    },
    {
      "cell_type": "markdown",
      "metadata": {
        "id": "vWnIrTRWpvtu"
      },
      "source": [
        "<!-- Created with JFLAP 4.0b14. -->\r\n",
        "<structure>\r\n",
        "<type>turing</type>\r\n",
        "<!-- The list of states. -->\r\n",
        "<state id=\"0\">\r\n",
        "<x>141.0</x>\r\n",
        "<y>278.0</y>\r\n",
        "<initial/>\r\n",
        "</state>\r\n",
        "<state id=\"1\">\r\n",
        "<x>289.0</x>\r\n",
        "<y>130.0</y>\r\n",
        "</state>\r\n",
        "<state id=\"2\">\r\n",
        "<x>469.0</x>\r\n",
        "<y>146.0</y>\r\n",
        "</state>\r\n",
        "<state id=\"3\">\r\n",
        "<x>630.0</x>\r\n",
        "<y>223.0</y>\r\n",
        "</state>\r\n",
        "<state id=\"4\">\r\n",
        "<x>787.0</x>\r\n",
        "<y>258.0</y>\r\n",
        "</state>\r\n",
        "<state id=\"5\">\r\n",
        "<x>292.0</x>\r\n",
        "<y>236.0</y>\r\n",
        "</state>\r\n",
        "<state id=\"6\">\r\n",
        "<x>472.0</x>\r\n",
        "<y>222.0</y>\r\n",
        "<final/>\r\n",
        "</state>\r\n",
        "<state id=\"7\">\r\n",
        "<x>297.0</x>\r\n",
        "<y>407.0</y>\r\n",
        "</state>\r\n",
        "<state id=\"8\">\r\n",
        "<x>463.0</x>\r\n",
        "<y>443.0</y>\r\n",
        "</state>\r\n",
        "<state id=\"9\">\r\n",
        "<x>630.0</x>\r\n",
        "<y>443.0</y>\r\n",
        "</state>\r\n",
        "<state id=\"10\">\r\n",
        "<x>790.0</x>\r\n",
        "<y>367.0</y>\r\n",
        "</state>\r\n",
        "<!-- The list of transitions. -->\r\n",
        "<transition>\r\n",
        "<from>2</from>\r\n",
        "<to>3</to>\r\n",
        "<read>0</read>\r\n",
        "<write>X</write>\r\n",
        "<move>L</move>\r\n",
        "</transition>\r\n",
        "<transition>\r\n",
        "<from>8</from>\r\n",
        "<to>9</to>\r\n",
        "<read>1</read>\r\n",
        "<write>Y</write>\r\n",
        "<move>L</move>\r\n",
        "</transition>\r\n",
        "<transition>\r\n",
        "<from>7</from>\r\n",
        "<to>8</to>\r\n",
        "<read>#</read>\r\n",
        "<write>#</write>\r\n",
        "<move>R</move>\r\n",
        "</transition>\r\n",
        "<transition>\r\n",
        "<from>1</from>\r\n",
        "<to>2</to>\r\n",
        "<read>#</read>\r\n",
        "<write>#</write>\r\n",
        "<move>R</move>\r\n",
        "</transition>\r\n",
        "<transition>\r\n",
        "<from>0</from>\r\n",
        "<to>1</to>\r\n",
        "<read>0</read>\r\n",
        "<write>X</write>\r\n",
        "<move>R</move>\r\n",
        "</transition>\r\n",
        "<transition>\r\n",
        "<from>3</from>\r\n",
        "<to>4</to>\r\n",
        "<read>#</read>\r\n",
        "<write>#</write>\r\n",
        "<move>L</move>\r\n",
        "</transition>\r\n",
        "<transition>\r\n",
        "<from>9</from>\r\n",
        "<to>10</to>\r\n",
        "<read>#</read>\r\n",
        "<write>#</write>\r\n",
        "<move>L</move>\r\n",
        "</transition>\r\n",
        "<transition>\r\n",
        "<from>10</from>\r\n",
        "<to>0</to>\r\n",
        "<read>X</read>\r\n",
        "<write>X</write>\r\n",
        "<move>R</move>\r\n",
        "</transition>\r\n",
        "<transition>\r\n",
        "<from>10</from>\r\n",
        "<to>0</to>\r\n",
        "<read>Y</read>\r\n",
        "<write>Y</write>\r\n",
        "<move>R</move>\r\n",
        "</transition>\r\n",
        "<transition>\r\n",
        "<from>4</from>\r\n",
        "<to>0</to>\r\n",
        "<read>Y</read>\r\n",
        "<write>Y</write>\r\n",
        "<move>R</move>\r\n",
        "</transition>\r\n",
        "<transition>\r\n",
        "<from>4</from>\r\n",
        "<to>0</to>\r\n",
        "<read>X</read>\r\n",
        "<write>X</write>\r\n",
        "<move>R</move>\r\n",
        "</transition>\r\n",
        "<transition>\r\n",
        "<from>5</from>\r\n",
        "<to>6</to>\r\n",
        "<read>B</read>\r\n",
        "<write>B</write>\r\n",
        "<move>R</move>\r\n",
        "</transition>\r\n",
        "<transition>\r\n",
        "<from>10</from>\r\n",
        "<to>10</to>\r\n",
        "<read>1</read>\r\n",
        "<write>1</write>\r\n",
        "<move>L</move>\r\n",
        "</transition>\r\n",
        "<transition>\r\n",
        "<from>10</from>\r\n",
        "<to>10</to>\r\n",
        "<read>0</read>\r\n",
        "<write>0</write>\r\n",
        "<move>L</move>\r\n",
        "</transition>\r\n",
        "<transition>\r\n",
        "<from>9</from>\r\n",
        "<to>9</to>\r\n",
        "<read>X</read>\r\n",
        "<write>X</write>\r\n",
        "<move>L</move>\r\n",
        "</transition>\r\n",
        "<transition>\r\n",
        "<from>9</from>\r\n",
        "<to>9</to>\r\n",
        "<read>Y</read>\r\n",
        "<write>Y</write>\r\n",
        "<move>L</move>\r\n",
        "</transition>\r\n",
        "<transition>\r\n",
        "<from>3</from>\r\n",
        "<to>3</to>\r\n",
        "<read>Y</read>\r\n",
        "<write>Y</write>\r\n",
        "<move>L</move>\r\n",
        "</transition>\r\n",
        "<transition>\r\n",
        "<from>3</from>\r\n",
        "<to>3</to>\r\n",
        "<read>X</read>\r\n",
        "<write>X</write>\r\n",
        "<move>L</move>\r\n",
        "</transition>\r\n",
        "<transition>\r\n",
        "<from>4</from>\r\n",
        "<to>4</to>\r\n",
        "<read>1</read>\r\n",
        "<write>1</write>\r\n",
        "<move>L</move>\r\n",
        "</transition>\r\n",
        "<transition>\r\n",
        "<from>4</from>\r\n",
        "<to>4</to>\r\n",
        "<read>0</read>\r\n",
        "<write>0</write>\r\n",
        "<move>L</move>\r\n",
        "</transition>\r\n",
        "<transition>\r\n",
        "<from>8</from>\r\n",
        "<to>8</to>\r\n",
        "<read>Y</read>\r\n",
        "<write>Y</write>\r\n",
        "<move>R</move>\r\n",
        "</transition>\r\n",
        "<transition>\r\n",
        "<from>8</from>\r\n",
        "<to>8</to>\r\n",
        "<read>X</read>\r\n",
        "<write>X</write>\r\n",
        "<move>R</move>\r\n",
        "</transition>\r\n",
        "<transition>\r\n",
        "<from>7</from>\r\n",
        "<to>7</to>\r\n",
        "<read>1</read>\r\n",
        "<write>1</write>\r\n",
        "<move>R</move>\r\n",
        "</transition>\r\n",
        "<transition>\r\n",
        "<from>2</from>\r\n",
        "<to>2</to>\r\n",
        "<read>X</read>\r\n",
        "<write>X</write>\r\n",
        "<move>R</move>\r\n",
        "</transition>\r\n",
        "<transition>\r\n",
        "<from>0</from>\r\n",
        "<to>5</to>\r\n",
        "<read>#</read>\r\n",
        "<write>#</write>\r\n",
        "<move>R</move>\r\n",
        "</transition>\r\n",
        "<transition>\r\n",
        "<from>2</from>\r\n",
        "<to>2</to>\r\n",
        "<read>Y</read>\r\n",
        "<write>Y</write>\r\n",
        "<move>R</move>\r\n",
        "</transition>\r\n",
        "<transition>\r\n",
        "<from>1</from>\r\n",
        "<to>1</to>\r\n",
        "<read>0</read>\r\n",
        "<write>0</write>\r\n",
        "<move>R</move>\r\n",
        "</transition>\r\n",
        "<transition>\r\n",
        "<from>1</from>\r\n",
        "<to>1</to>\r\n",
        "<read>1</read>\r\n",
        "<write>1</write>\r\n",
        "<move>R</move>\r\n",
        "</transition>\r\n",
        "<transition>\r\n",
        "<from>5</from>\r\n",
        "<to>5</to>\r\n",
        "<read>Y</read>\r\n",
        "<write>Y</write>\r\n",
        "<move>R</move>\r\n",
        "</transition>\r\n",
        "<transition>\r\n",
        "<from>5</from>\r\n",
        "<to>5</to>\r\n",
        "<read>X</read>\r\n",
        "<write>X</write>\r\n",
        "<move>R</move>\r\n",
        "</transition>\r\n",
        "<transition>\r\n",
        "<from>7</from>\r\n",
        "<to>7</to>\r\n",
        "<read>0</read>\r\n",
        "<write>0</write>\r\n",
        "<move>R</move>\r\n",
        "</transition>\r\n",
        "<transition>\r\n",
        "<from>0</from>\r\n",
        "<to>7</to>\r\n",
        "<read>1</read>\r\n",
        "<write>Y</write>\r\n",
        "<move>R</move>\r\n",
        "</transition>\r\n",
        "</structure>"
      ]
    },
    {
      "cell_type": "markdown",
      "metadata": {
        "id": "hIChK1MwPHWS"
      },
      "source": [
        "### Implement The Simple Language's Macro 8"
      ]
    },
    {
      "cell_type": "markdown",
      "metadata": {
        "id": "CQcWZTo1PLND"
      },
      "source": [
        "#### Macro 1\n",
        "\n",
        "X $\\leftarrow$ 0 (or X <-- 0: clearing a variable)\n",
        "```\n",
        "while X\n",
        "{\n",
        "  decr X\n",
        "}\n",
        "```"
      ]
    },
    {
      "cell_type": "markdown",
      "metadata": {
        "id": "xeAbbSFdPjrE"
      },
      "source": [
        "#### Macro 2\n",
        "\n",
        "X $\\leftarrow$ n (assignment statement)\n",
        "\n",
        "```\n",
        "X <-- 0\n",
        "incr X\n",
        "incr X\n",
        "incr X\n",
        "...\n",
        "incr X\n",
        "```\n",
        "The number of 'incr X' statements is **n**."
      ]
    },
    {
      "cell_type": "markdown",
      "metadata": {
        "id": "wfQEeFuZPkEA"
      },
      "source": [
        "#### Macro 3\n",
        "\n",
        "Y $\\leftarrow$ X (variable assignment)\n",
        "```\n",
        "Y <-- 0\n",
        "T <-- 0\n",
        "while X\n",
        "{\n",
        "   incr Y\n",
        "   decr X\n",
        "   incr T\n",
        "}\n",
        "while T\n",
        "{\n",
        "   decr T\n",
        "   incr X\n",
        "}\n",
        "```"
      ]
    },
    {
      "cell_type": "markdown",
      "metadata": {
        "id": "a0FQ59RrPkHj"
      },
      "source": [
        "#### Macro 4\n",
        "\n",
        "Z $\\leftarrow$ X + Y (addition --- repeated increment)\n",
        "```\n",
        "Z <-- X\n",
        "T <-- Y\n",
        "while T\n",
        "{\n",
        "   incr Z\n",
        "   decr T\n",
        "}\n",
        "```"
      ]
    },
    {
      "cell_type": "markdown",
      "metadata": {
        "id": "eIWywTohPkKs"
      },
      "source": [
        "#### Macro 5\n",
        "\n",
        "Z $\\leftarrow$ X * Y (multiplication --- repeated addition)\n",
        "```\n",
        "Z <-- 0\n",
        "T <-- Y\n",
        "while T\n",
        "{\n",
        "   Z <-- Z + X\n",
        "   decr T\n",
        "}\n",
        "```"
      ]
    },
    {
      "cell_type": "markdown",
      "metadata": {
        "id": "X7J-2f1rPkNr"
      },
      "source": [
        "#### Macro 6\n",
        "\n",
        "comp X (if X is 0 make it 1; if non-zero make it 0)\n",
        "```\n",
        "T <-- 1\n",
        "while X\n",
        "{\n",
        "   X <-- 0\n",
        "   T <-- 0\n",
        "}\n",
        "while T\n",
        "{\n",
        "   incr X\n",
        "   decr T\n",
        "}\n",
        "```"
      ]
    },
    {
      "cell_type": "markdown",
      "metadata": {
        "id": "e8h7H8WuPkQ1"
      },
      "source": [
        "#### Macro 7\n",
        "\n",
        "if X then A1 else A2\n",
        "```\n",
        "T <-- X\n",
        "while T\n",
        "{\n",
        "    A1\n",
        "    T <-- 0\n",
        "}\n",
        "T <-- X\n",
        "comp T\n",
        "while T\n",
        "{\n",
        "   A2\n",
        "   T <-- 0\n",
        "}\n",
        "```"
      ]
    },
    {
      "cell_type": "markdown",
      "metadata": {
        "id": "CPuJB6BZPkXW"
      },
      "source": [
        "#### Macro 8\n",
        "\n",
        "if X < Y then A1 else A2\n",
        "```\n",
        "T <-- X\n",
        "Q <-- Y\n",
        "while T\n",
        "{\n",
        "    dec Q\n",
        "    dec T\n",
        "}\n",
        "\n",
        "while Q\n",
        "{\n",
        "    A1\n",
        "}\n",
        "T <-- X\n",
        "comp T\n",
        "while T\n",
        "{\n",
        "    dec Q\n",
        "    dec T\n",
        "}\n",
        "\n",
        "while Q\n",
        "{\n",
        "   A2\n",
        "}\n",
        "```"
      ]
    },
    {
      "cell_type": "markdown",
      "metadata": {
        "id": "g-XHV3kfR7rV"
      },
      "source": [
        "##### Hint:"
      ]
    },
    {
      "cell_type": "markdown",
      "metadata": {
        "id": "JBgGpZFGR_En"
      },
      "source": [
        "Use Macro 7 in your solution (twice!)."
      ]
    }
  ]
}