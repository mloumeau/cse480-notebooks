{
  "nbformat": 4,
  "nbformat_minor": 0,
  "metadata": {
    "kernelspec": {
      "display_name": "Python 3",
      "language": "python",
      "name": "python3"
    },
    "language_info": {
      "codemirror_mode": {
        "name": "ipython",
        "version": 3
      },
      "file_extension": ".py",
      "mimetype": "text/x-python",
      "name": "python",
      "nbconvert_exporter": "python",
      "pygments_lexer": "ipython3",
      "version": "3.9.0"
    },
    "toc": {
      "colors": {
        "hover_highlight": "#DAA520",
        "running_highlight": "#FF0000",
        "selected_highlight": "#FFD700"
      },
      "moveMenuLeft": true,
      "nav_menu": {
        "height": "121px",
        "width": "252px"
      },
      "navigate_menu": true,
      "number_sections": true,
      "sideBar": true,
      "threshold": 4,
      "toc_cell": false,
      "toc_section_display": "block",
      "toc_window_display": false,
      "widenNotebook": false
    },
    "widgets": {
      "application/vnd.jupyter.widget-state+json": {
        "6e691fa5a4b44342bbb1da04522155bd": {
          "model_module": "@jupyter-widgets/controls",
          "model_name": "VBoxModel",
          "state": {
            "_view_name": "VBoxView",
            "_dom_classes": [],
            "_model_name": "VBoxModel",
            "_view_module": "@jupyter-widgets/controls",
            "_model_module_version": "1.5.0",
            "_view_count": null,
            "_view_module_version": "1.5.0",
            "box_style": "",
            "layout": "IPY_MODEL_14e72e875594491ea77a4089f125c806",
            "_model_module": "@jupyter-widgets/controls",
            "children": [
              "IPY_MODEL_1fde93842a5e4c32a2f6a25a59e4a6fe",
              "IPY_MODEL_f3e81ae9188c4d1c8252d60953eb2b9a",
              "IPY_MODEL_96c80ccff7744b7e8711ed352cb10352",
              "IPY_MODEL_b5a64ffd196f4e02a54d4e0f4fc8d32b"
            ]
          }
        },
        "14e72e875594491ea77a4089f125c806": {
          "model_module": "@jupyter-widgets/base",
          "model_name": "LayoutModel",
          "state": {
            "_view_name": "LayoutView",
            "grid_template_rows": null,
            "right": null,
            "justify_content": null,
            "_view_module": "@jupyter-widgets/base",
            "overflow": null,
            "_model_module_version": "1.2.0",
            "_view_count": null,
            "flex_flow": null,
            "width": null,
            "min_width": null,
            "border": null,
            "align_items": null,
            "bottom": null,
            "_model_module": "@jupyter-widgets/base",
            "top": null,
            "grid_column": null,
            "overflow_y": null,
            "overflow_x": null,
            "grid_auto_flow": null,
            "grid_area": null,
            "grid_template_columns": null,
            "flex": null,
            "_model_name": "LayoutModel",
            "justify_items": null,
            "grid_row": null,
            "max_height": null,
            "align_content": null,
            "visibility": null,
            "align_self": null,
            "height": null,
            "min_height": null,
            "padding": null,
            "grid_auto_rows": null,
            "grid_gap": null,
            "max_width": null,
            "order": null,
            "_view_module_version": "1.2.0",
            "grid_template_areas": null,
            "object_position": null,
            "object_fit": null,
            "grid_auto_columns": null,
            "margin": null,
            "display": null,
            "left": null
          }
        },
        "1fde93842a5e4c32a2f6a25a59e4a6fe": {
          "model_module": "@jupyter-widgets/controls",
          "model_name": "HBoxModel",
          "state": {
            "_view_name": "HBoxView",
            "_dom_classes": [],
            "_model_name": "HBoxModel",
            "_view_module": "@jupyter-widgets/controls",
            "_model_module_version": "1.5.0",
            "_view_count": null,
            "_view_module_version": "1.5.0",
            "box_style": "",
            "layout": "IPY_MODEL_20068b2fed7f4647ab196fe2a1f5c93e",
            "_model_module": "@jupyter-widgets/controls",
            "children": [
              "IPY_MODEL_32a62763029f4a6784ab81ac26c38cfc",
              "IPY_MODEL_1b502d2e2c7d418ab54169e1e6daac6b"
            ]
          }
        },
        "f3e81ae9188c4d1c8252d60953eb2b9a": {
          "model_module": "@jupyter-widgets/output",
          "model_name": "OutputModel",
          "state": {
            "_view_name": "OutputView",
            "msg_id": "",
            "_dom_classes": [],
            "_model_name": "OutputModel",
            "outputs": [
              {
                "output_type": "display_data",
                "metadata": {
                  "tags": []
                },
                "text/plain": "<graphviz.files.Source at 0x7f0b3e0e9320>",
                "image/svg+xml": "<?xml version=\"1.0\" encoding=\"UTF-8\" standalone=\"no\"?>\n<!DOCTYPE svg PUBLIC \"-//W3C//DTD SVG 1.1//EN\"\n \"http://www.w3.org/Graphics/SVG/1.1/DTD/svg11.dtd\">\n<!-- Generated by graphviz version 2.40.1 (20161225.0304)\n -->\n<!-- Title: %3 Pages: 1 -->\n<svg width=\"473pt\" height=\"114pt\"\n viewBox=\"0.00 0.00 473.00 114.00\" xmlns=\"http://www.w3.org/2000/svg\" xmlns:xlink=\"http://www.w3.org/1999/xlink\">\n<g id=\"graph0\" class=\"graph\" transform=\"scale(1 1) rotate(0) translate(4 110)\">\n<title>%3</title>\n<polygon fill=\"#ffffff\" stroke=\"transparent\" points=\"-4,4 -4,-110 469,-110 469,4 -4,4\"/>\n<!-- EMPTY -->\n<g id=\"node1\" class=\"node\">\n<title>EMPTY</title>\n</g>\n<!-- I -->\n<g id=\"node5\" class=\"node\">\n<title>I</title>\n<ellipse fill=\"#1c86ee\" stroke=\"#000000\" cx=\"109\" cy=\"-22\" rx=\"18\" ry=\"18\"/>\n<text text-anchor=\"middle\" x=\"109\" y=\"-18.3\" font-family=\"Times,serif\" font-size=\"14.00\" fill=\"#ffffff\">I</text>\n</g>\n<!-- EMPTY&#45;&gt;I -->\n<g id=\"edge1\" class=\"edge\">\n<title>EMPTY&#45;&gt;I</title>\n<path fill=\"none\" stroke=\"#000000\" d=\"M54.3048,-22C62.6909,-22 71.9407,-22 80.4103,-22\"/>\n<polygon fill=\"#000000\" stroke=\"#000000\" points=\"80.5976,-25.5001 90.5976,-22 80.5976,-18.5001 80.5976,-25.5001\"/>\n</g>\n<!-- C -->\n<g id=\"node2\" class=\"node\">\n<title>C</title>\n<ellipse fill=\"none\" stroke=\"#000000\" cx=\"358\" cy=\"-22\" rx=\"18\" ry=\"18\"/>\n<text text-anchor=\"middle\" x=\"358\" y=\"-18.3\" font-family=\"Times,serif\" font-size=\"14.00\" fill=\"#000000\">C</text>\n</g>\n<!-- C&#45;&gt;C -->\n<g id=\"edge7\" class=\"edge\">\n<title>C&#45;&gt;C</title>\n<path fill=\"none\" stroke=\"#000000\" d=\"M354.4047,-39.7817C353.7938,-49.3149 354.9922,-58 358,-58 359.8329,-58 360.9939,-54.7749 361.483,-50.0981\"/>\n<polygon fill=\"#000000\" stroke=\"#000000\" points=\"364.9861,-49.8193 361.5953,-39.7817 357.9865,-49.743 364.9861,-49.8193\"/>\n<text text-anchor=\"start\" x=\"352\" y=\"-61.8\" font-family=\"Times,serif\" font-size=\"14.00\" fill=\"#000000\"> 0</text>\n</g>\n<!-- C&#45;&gt;C -->\n<g id=\"edge8\" class=\"edge\">\n<title>C&#45;&gt;C</title>\n<path fill=\"none\" stroke=\"#000000\" d=\"M352.1479,-39.1418C348.7056,-56.585 350.6563,-76 358,-76 363.9094,-76 366.3267,-63.4283 365.2519,-49.4287\"/>\n<polygon fill=\"#000000\" stroke=\"#000000\" points=\"368.6685,-48.5785 363.8521,-39.1418 361.7325,-49.5224 368.6685,-48.5785\"/>\n<text text-anchor=\"start\" x=\"352\" y=\"-79.8\" font-family=\"Times,serif\" font-size=\"14.00\" fill=\"#000000\"> 1</text>\n</g>\n<!-- F -->\n<g id=\"node6\" class=\"node\">\n<title>F</title>\n<ellipse fill=\"none\" stroke=\"#000000\" cx=\"443\" cy=\"-22\" rx=\"18\" ry=\"18\"/>\n<ellipse fill=\"none\" stroke=\"#000000\" cx=\"443\" cy=\"-22\" rx=\"22\" ry=\"22\"/>\n<text text-anchor=\"middle\" x=\"443\" y=\"-18.3\" font-family=\"Times,serif\" font-size=\"14.00\" fill=\"#000000\">F</text>\n</g>\n<!-- C&#45;&gt;F -->\n<g id=\"edge9\" class=\"edge\">\n<title>C&#45;&gt;F</title>\n<path fill=\"none\" stroke=\"#000000\" d=\"M376.0263,-22C386.0256,-22 398.7667,-22 410.4461,-22\"/>\n<polygon fill=\"#000000\" stroke=\"#000000\" points=\"410.7644,-25.5001 420.7644,-22 410.7644,-18.5001 410.7644,-25.5001\"/>\n<text text-anchor=\"start\" x=\"394\" y=\"-25.8\" font-family=\"Times,serif\" font-size=\"14.00\" fill=\"#000000\"> &#39;&#39;</text>\n</g>\n<!-- A -->\n<g id=\"node3\" class=\"node\">\n<title>A</title>\n<ellipse fill=\"#ffffff\" stroke=\"#1c86ee\" stroke-width=\"2\" cx=\"190\" cy=\"-22\" rx=\"18\" ry=\"18\"/>\n<text text-anchor=\"middle\" x=\"190\" y=\"-18.3\" font-family=\"Times,serif\" font-size=\"14.00\" fill=\"#1c86ee\">A</text>\n</g>\n<!-- B -->\n<g id=\"node4\" class=\"node\">\n<title>B</title>\n<ellipse fill=\"none\" stroke=\"#000000\" cx=\"274\" cy=\"-22\" rx=\"18\" ry=\"18\"/>\n<text text-anchor=\"middle\" x=\"274\" y=\"-18.3\" font-family=\"Times,serif\" font-size=\"14.00\" fill=\"#000000\">B</text>\n</g>\n<!-- A&#45;&gt;B -->\n<g id=\"edge5\" class=\"edge\">\n<title>A&#45;&gt;B</title>\n<path fill=\"none\" stroke=\"#000000\" d=\"M208.2267,-22C219.1242,-22 233.2054,-22 245.5413,-22\"/>\n<polygon fill=\"#000000\" stroke=\"#000000\" points=\"245.8089,-25.5001 255.8088,-22 245.8088,-18.5001 245.8089,-25.5001\"/>\n<text text-anchor=\"start\" x=\"226\" y=\"-25.8\" font-family=\"Times,serif\" font-size=\"14.00\" fill=\"#000000\"> 0</text>\n</g>\n<!-- B&#45;&gt;C -->\n<g id=\"edge6\" class=\"edge\">\n<title>B&#45;&gt;C</title>\n<path fill=\"none\" stroke=\"#000000\" d=\"M292.2267,-22C303.1242,-22 317.2054,-22 329.5413,-22\"/>\n<polygon fill=\"#000000\" stroke=\"#000000\" points=\"329.8089,-25.5001 339.8088,-22 329.8088,-18.5001 329.8089,-25.5001\"/>\n<text text-anchor=\"start\" x=\"310\" y=\"-25.8\" font-family=\"Times,serif\" font-size=\"14.00\" fill=\"#000000\"> 1</text>\n</g>\n<!-- I&#45;&gt;A -->\n<g id=\"edge4\" class=\"edge\">\n<title>I&#45;&gt;A</title>\n<path fill=\"none\" stroke=\"#1c86ee\" stroke-width=\"2\" d=\"M127.3802,-22C136.0365,-22 146.6375,-22 156.6388,-22\"/>\n<polygon fill=\"#1c86ee\" stroke=\"#1c86ee\" stroke-width=\"2\" points=\"156.9716,-27.2501 171.9716,-22 156.9716,-16.7501 156.9716,-27.2501\"/>\n<text text-anchor=\"start\" x=\"145\" y=\"-25.8\" font-family=\"Times,serif\" font-size=\"14.00\" fill=\"#1c86ee\"> &#39;&#39;</text>\n</g>\n<!-- I&#45;&gt;I -->\n<g id=\"edge2\" class=\"edge\">\n<title>I&#45;&gt;I</title>\n<path fill=\"none\" stroke=\"#000000\" d=\"M105.7643,-39.7817C105.2144,-49.3149 106.293,-58 109,-58 110.6496,-58 111.6945,-54.7749 112.1347,-50.0981\"/>\n<polygon fill=\"#000000\" stroke=\"#000000\" points=\"115.6375,-49.8156 112.2357,-39.7817 108.6379,-49.7469 115.6375,-49.8156\"/>\n<text text-anchor=\"start\" x=\"103\" y=\"-61.8\" font-family=\"Times,serif\" font-size=\"14.00\" fill=\"#000000\"> 0</text>\n</g>\n<!-- I&#45;&gt;I -->\n<g id=\"edge3\" class=\"edge\">\n<title>I&#45;&gt;I</title>\n<path fill=\"none\" stroke=\"#000000\" d=\"M103.6841,-39.4203C100.6538,-56.791 102.4258,-76 109,-76 114.2902,-76 116.4708,-63.5617 115.5419,-49.652\"/>\n<polygon fill=\"#000000\" stroke=\"#000000\" points=\"118.9808,-48.9328 114.3159,-39.4203 112.0305,-49.7657 118.9808,-48.9328\"/>\n<text text-anchor=\"start\" x=\"103\" y=\"-79.8\" font-family=\"Times,serif\" font-size=\"14.00\" fill=\"#000000\"> 1</text>\n</g>\n</g>\n</svg>\n"
              }
            ],
            "_view_module": "@jupyter-widgets/output",
            "_model_module_version": "1.0.0",
            "_view_count": null,
            "_view_module_version": "1.0.0",
            "layout": "IPY_MODEL_7e450913d8e1467d8f4fd7c52c12c6ec",
            "_model_module": "@jupyter-widgets/output"
          }
        },
        "96c80ccff7744b7e8711ed352cb10352": {
          "model_module": "@jupyter-widgets/output",
          "model_name": "OutputModel",
          "state": {
            "_view_name": "OutputView",
            "msg_id": "",
            "_dom_classes": [],
            "_model_name": "OutputModel",
            "outputs": [
              {
                "output_type": "display_data",
                "metadata": {
                  "tags": []
                },
                "text/plain": "<graphviz.files.Source at 0x7f0b3e0e9320>",
                "image/svg+xml": "<?xml version=\"1.0\" encoding=\"UTF-8\" standalone=\"no\"?>\n<!DOCTYPE svg PUBLIC \"-//W3C//DTD SVG 1.1//EN\"\n \"http://www.w3.org/Graphics/SVG/1.1/DTD/svg11.dtd\">\n<!-- Generated by graphviz version 2.40.1 (20161225.0304)\n -->\n<!-- Title: %3 Pages: 1 -->\n<svg width=\"85pt\" height=\"47pt\"\n viewBox=\"0.00 0.00 85.00 47.00\" xmlns=\"http://www.w3.org/2000/svg\" xmlns:xlink=\"http://www.w3.org/1999/xlink\">\n<g id=\"graph0\" class=\"graph\" transform=\"scale(1 1) rotate(0) translate(4 43)\">\n<title>%3</title>\n<polygon fill=\"#ffffff\" stroke=\"transparent\" points=\"-4,4 -4,-43 81,-43 81,4 -4,4\"/>\n<!-- feed -->\n<g id=\"node1\" class=\"node\">\n<title>feed</title>\n<polygon fill=\"none\" stroke=\"#000000\" points=\"8.5,-3.5 8.5,-34.5 26.5,-34.5 26.5,-3.5 8.5,-3.5\"/>\n<polygon fill=\"none\" stroke=\"#000000\" points=\"26.5,-3.5 26.5,-34.5 51.5,-34.5 51.5,-3.5 26.5,-3.5\"/>\n<text text-anchor=\"start\" x=\"35.5\" y=\"-15.9\" font-family=\"Times,serif\" font-size=\"12.00\" fill=\"#000000\"> &#160;</text>\n<polygon fill=\"none\" stroke=\"#000000\" points=\"51.5,-3.5 51.5,-34.5 69.5,-34.5 69.5,-3.5 51.5,-3.5\"/>\n</g>\n</g>\n</svg>\n"
              }
            ],
            "_view_module": "@jupyter-widgets/output",
            "_model_module_version": "1.0.0",
            "_view_count": null,
            "_view_module_version": "1.0.0",
            "layout": "IPY_MODEL_84e60a943baa4dfeba0c4b7c99322373",
            "_model_module": "@jupyter-widgets/output"
          }
        },
        "b5a64ffd196f4e02a54d4e0f4fc8d32b": {
          "model_module": "@jupyter-widgets/controls",
          "model_name": "HBoxModel",
          "state": {
            "_view_name": "HBoxView",
            "_dom_classes": [],
            "_model_name": "HBoxModel",
            "_view_module": "@jupyter-widgets/controls",
            "_model_module_version": "1.5.0",
            "_view_count": null,
            "_view_module_version": "1.5.0",
            "box_style": "",
            "layout": "IPY_MODEL_c804881daf11452280b0ecd241f0ee6d",
            "_model_module": "@jupyter-widgets/controls",
            "children": [
              "IPY_MODEL_540a5cb0630542c6abdb2c509b87a29d",
              "IPY_MODEL_d6d8bbf67efb4be192a7aff7f9692cac",
              "IPY_MODEL_a2ecfb01be844be6a4adf1eb523dc444",
              "IPY_MODEL_cc184ad0ed5b496395ec91c345058153"
            ]
          }
        },
        "20068b2fed7f4647ab196fe2a1f5c93e": {
          "model_module": "@jupyter-widgets/base",
          "model_name": "LayoutModel",
          "state": {
            "_view_name": "LayoutView",
            "grid_template_rows": null,
            "right": null,
            "justify_content": null,
            "_view_module": "@jupyter-widgets/base",
            "overflow": null,
            "_model_module_version": "1.2.0",
            "_view_count": null,
            "flex_flow": null,
            "width": null,
            "min_width": null,
            "border": null,
            "align_items": null,
            "bottom": null,
            "_model_module": "@jupyter-widgets/base",
            "top": null,
            "grid_column": null,
            "overflow_y": null,
            "overflow_x": null,
            "grid_auto_flow": null,
            "grid_area": null,
            "grid_template_columns": null,
            "flex": null,
            "_model_name": "LayoutModel",
            "justify_items": null,
            "grid_row": null,
            "max_height": null,
            "align_content": null,
            "visibility": null,
            "align_self": null,
            "height": null,
            "min_height": null,
            "padding": null,
            "grid_auto_rows": null,
            "grid_gap": null,
            "max_width": null,
            "order": null,
            "_view_module_version": "1.2.0",
            "grid_template_areas": null,
            "object_position": null,
            "object_fit": null,
            "grid_auto_columns": null,
            "margin": null,
            "display": null,
            "left": null
          }
        },
        "32a62763029f4a6784ab81ac26c38cfc": {
          "model_module": "@jupyter-widgets/controls",
          "model_name": "TextModel",
          "state": {
            "_view_name": "TextView",
            "style": "IPY_MODEL_97b6f20a05fc4cf8ad309b1578912763",
            "_dom_classes": [],
            "description": "Input:",
            "_model_name": "TextModel",
            "placeholder": "Sigma: {0,1}",
            "_view_module": "@jupyter-widgets/controls",
            "_model_module_version": "1.5.0",
            "value": "",
            "_view_count": null,
            "disabled": true,
            "_view_module_version": "1.5.0",
            "continuous_update": true,
            "description_tooltip": null,
            "_model_module": "@jupyter-widgets/controls",
            "layout": "IPY_MODEL_f07b3a8bd4054e04ab195d20134a5efb"
          }
        },
        "1b502d2e2c7d418ab54169e1e6daac6b": {
          "model_module": "@jupyter-widgets/controls",
          "model_name": "ButtonModel",
          "state": {
            "_view_name": "ButtonView",
            "style": "IPY_MODEL_c084973134c143639baa09cbae54f97f",
            "_dom_classes": [],
            "description": "Change Input",
            "_model_name": "ButtonModel",
            "button_style": "primary",
            "_view_module": "@jupyter-widgets/controls",
            "_model_module_version": "1.5.0",
            "tooltip": "",
            "_view_count": null,
            "disabled": false,
            "_view_module_version": "1.5.0",
            "layout": "IPY_MODEL_58a26e3c88ac4a36b165eab408fb51a7",
            "_model_module": "@jupyter-widgets/controls",
            "icon": ""
          }
        },
        "c804881daf11452280b0ecd241f0ee6d": {
          "model_module": "@jupyter-widgets/base",
          "model_name": "LayoutModel",
          "state": {
            "_view_name": "LayoutView",
            "grid_template_rows": null,
            "right": null,
            "justify_content": null,
            "_view_module": "@jupyter-widgets/base",
            "overflow": null,
            "_model_module_version": "1.2.0",
            "_view_count": null,
            "flex_flow": null,
            "width": null,
            "min_width": null,
            "border": null,
            "align_items": null,
            "bottom": null,
            "_model_module": "@jupyter-widgets/base",
            "top": null,
            "grid_column": null,
            "overflow_y": null,
            "overflow_x": null,
            "grid_auto_flow": null,
            "grid_area": null,
            "grid_template_columns": null,
            "flex": null,
            "_model_name": "LayoutModel",
            "justify_items": null,
            "grid_row": null,
            "max_height": null,
            "align_content": null,
            "visibility": null,
            "align_self": null,
            "height": null,
            "min_height": null,
            "padding": null,
            "grid_auto_rows": null,
            "grid_gap": null,
            "max_width": null,
            "order": null,
            "_view_module_version": "1.2.0",
            "grid_template_areas": null,
            "object_position": null,
            "object_fit": null,
            "grid_auto_columns": null,
            "margin": null,
            "display": null,
            "left": null
          }
        },
        "540a5cb0630542c6abdb2c509b87a29d": {
          "model_module": "@jupyter-widgets/controls",
          "model_name": "PlayModel",
          "state": {
            "_view_name": "PlayView",
            "style": "IPY_MODEL_53954ae83c074ce9bfe7dc5ce60277f8",
            "interval": 500,
            "_dom_classes": [],
            "description": "Press play",
            "_model_name": "PlayModel",
            "max": 0,
            "_view_module": "@jupyter-widgets/controls",
            "_model_module_version": "1.5.0",
            "value": 0,
            "_view_count": null,
            "disabled": false,
            "_repeat": false,
            "_view_module_version": "1.5.0",
            "show_repeat": true,
            "min": 0,
            "_playing": false,
            "step": 1,
            "description_tooltip": null,
            "_model_module": "@jupyter-widgets/controls",
            "layout": "IPY_MODEL_c3b0a020f4104a0fbddee9b22406af9c"
          }
        },
        "d6d8bbf67efb4be192a7aff7f9692cac": {
          "model_module": "@jupyter-widgets/controls",
          "model_name": "ButtonModel",
          "state": {
            "_view_name": "ButtonView",
            "style": "IPY_MODEL_077ddfe91236463fbb147946b3ddb207",
            "_dom_classes": [],
            "description": "",
            "_model_name": "ButtonModel",
            "button_style": "",
            "_view_module": "@jupyter-widgets/controls",
            "_model_module_version": "1.5.0",
            "tooltip": "",
            "_view_count": null,
            "disabled": true,
            "_view_module_version": "1.5.0",
            "layout": "IPY_MODEL_3e748e80a25b4c8ab78b9feedbf9e661",
            "_model_module": "@jupyter-widgets/controls",
            "icon": "step-backward"
          }
        },
        "a2ecfb01be844be6a4adf1eb523dc444": {
          "model_module": "@jupyter-widgets/controls",
          "model_name": "ButtonModel",
          "state": {
            "_view_name": "ButtonView",
            "style": "IPY_MODEL_0910568c0fb143668407db36c80112b3",
            "_dom_classes": [],
            "description": "",
            "_model_name": "ButtonModel",
            "button_style": "",
            "_view_module": "@jupyter-widgets/controls",
            "_model_module_version": "1.5.0",
            "tooltip": "",
            "_view_count": null,
            "disabled": true,
            "_view_module_version": "1.5.0",
            "layout": "IPY_MODEL_f5c175d61f3340edbc0f7159c0d91e84",
            "_model_module": "@jupyter-widgets/controls",
            "icon": "step-forward"
          }
        },
        "cc184ad0ed5b496395ec91c345058153": {
          "model_module": "@jupyter-widgets/controls",
          "model_name": "IntSliderModel",
          "state": {
            "_view_name": "IntSliderView",
            "style": "IPY_MODEL_109f24ddbee443b7bccfd501985ae12c",
            "_dom_classes": [],
            "description": "Speed:",
            "step": 1,
            "_model_name": "IntSliderModel",
            "orientation": "horizontal",
            "max": 10,
            "_view_module": "@jupyter-widgets/controls",
            "_model_module_version": "1.5.0",
            "value": 10,
            "_view_count": null,
            "disabled": false,
            "_view_module_version": "1.5.0",
            "min": 1,
            "continuous_update": false,
            "readout_format": "d",
            "description_tooltip": null,
            "readout": true,
            "_model_module": "@jupyter-widgets/controls",
            "layout": "IPY_MODEL_f887aa7290034417b9f912267dec58a6"
          }
        },
        "97b6f20a05fc4cf8ad309b1578912763": {
          "model_module": "@jupyter-widgets/controls",
          "model_name": "DescriptionStyleModel",
          "state": {
            "_view_name": "StyleView",
            "_model_name": "DescriptionStyleModel",
            "description_width": "",
            "_view_module": "@jupyter-widgets/base",
            "_model_module_version": "1.5.0",
            "_view_count": null,
            "_view_module_version": "1.2.0",
            "_model_module": "@jupyter-widgets/controls"
          }
        },
        "f07b3a8bd4054e04ab195d20134a5efb": {
          "model_module": "@jupyter-widgets/base",
          "model_name": "LayoutModel",
          "state": {
            "_view_name": "LayoutView",
            "grid_template_rows": null,
            "right": null,
            "justify_content": null,
            "_view_module": "@jupyter-widgets/base",
            "overflow": null,
            "_model_module_version": "1.2.0",
            "_view_count": null,
            "flex_flow": null,
            "width": "500px",
            "min_width": null,
            "border": null,
            "align_items": null,
            "bottom": null,
            "_model_module": "@jupyter-widgets/base",
            "top": null,
            "grid_column": null,
            "overflow_y": null,
            "overflow_x": null,
            "grid_auto_flow": null,
            "grid_area": null,
            "grid_template_columns": null,
            "flex": null,
            "_model_name": "LayoutModel",
            "justify_items": null,
            "grid_row": null,
            "max_height": null,
            "align_content": null,
            "visibility": null,
            "align_self": null,
            "height": null,
            "min_height": null,
            "padding": null,
            "grid_auto_rows": null,
            "grid_gap": null,
            "max_width": null,
            "order": null,
            "_view_module_version": "1.2.0",
            "grid_template_areas": null,
            "object_position": null,
            "object_fit": null,
            "grid_auto_columns": null,
            "margin": null,
            "display": null,
            "left": null
          }
        },
        "c084973134c143639baa09cbae54f97f": {
          "model_module": "@jupyter-widgets/controls",
          "model_name": "ButtonStyleModel",
          "state": {
            "_view_name": "StyleView",
            "_model_name": "ButtonStyleModel",
            "_view_module": "@jupyter-widgets/base",
            "_model_module_version": "1.5.0",
            "_view_count": null,
            "button_color": null,
            "font_weight": "",
            "_view_module_version": "1.2.0",
            "_model_module": "@jupyter-widgets/controls"
          }
        },
        "58a26e3c88ac4a36b165eab408fb51a7": {
          "model_module": "@jupyter-widgets/base",
          "model_name": "LayoutModel",
          "state": {
            "_view_name": "LayoutView",
            "grid_template_rows": null,
            "right": null,
            "justify_content": null,
            "_view_module": "@jupyter-widgets/base",
            "overflow": null,
            "_model_module_version": "1.2.0",
            "_view_count": null,
            "flex_flow": null,
            "width": null,
            "min_width": null,
            "border": null,
            "align_items": null,
            "bottom": null,
            "_model_module": "@jupyter-widgets/base",
            "top": null,
            "grid_column": null,
            "overflow_y": null,
            "overflow_x": null,
            "grid_auto_flow": null,
            "grid_area": null,
            "grid_template_columns": null,
            "flex": null,
            "_model_name": "LayoutModel",
            "justify_items": null,
            "grid_row": null,
            "max_height": null,
            "align_content": null,
            "visibility": null,
            "align_self": null,
            "height": null,
            "min_height": null,
            "padding": null,
            "grid_auto_rows": null,
            "grid_gap": null,
            "max_width": null,
            "order": null,
            "_view_module_version": "1.2.0",
            "grid_template_areas": null,
            "object_position": null,
            "object_fit": null,
            "grid_auto_columns": null,
            "margin": null,
            "display": null,
            "left": null
          }
        },
        "53954ae83c074ce9bfe7dc5ce60277f8": {
          "model_module": "@jupyter-widgets/controls",
          "model_name": "DescriptionStyleModel",
          "state": {
            "_view_name": "StyleView",
            "_model_name": "DescriptionStyleModel",
            "description_width": "",
            "_view_module": "@jupyter-widgets/base",
            "_model_module_version": "1.5.0",
            "_view_count": null,
            "_view_module_version": "1.2.0",
            "_model_module": "@jupyter-widgets/controls"
          }
        },
        "c3b0a020f4104a0fbddee9b22406af9c": {
          "model_module": "@jupyter-widgets/base",
          "model_name": "LayoutModel",
          "state": {
            "_view_name": "LayoutView",
            "grid_template_rows": null,
            "right": null,
            "justify_content": null,
            "_view_module": "@jupyter-widgets/base",
            "overflow": null,
            "_model_module_version": "1.2.0",
            "_view_count": null,
            "flex_flow": null,
            "width": null,
            "min_width": null,
            "border": null,
            "align_items": null,
            "bottom": null,
            "_model_module": "@jupyter-widgets/base",
            "top": null,
            "grid_column": null,
            "overflow_y": null,
            "overflow_x": null,
            "grid_auto_flow": null,
            "grid_area": null,
            "grid_template_columns": null,
            "flex": null,
            "_model_name": "LayoutModel",
            "justify_items": null,
            "grid_row": null,
            "max_height": null,
            "align_content": null,
            "visibility": null,
            "align_self": null,
            "height": null,
            "min_height": null,
            "padding": null,
            "grid_auto_rows": null,
            "grid_gap": null,
            "max_width": null,
            "order": null,
            "_view_module_version": "1.2.0",
            "grid_template_areas": null,
            "object_position": null,
            "object_fit": null,
            "grid_auto_columns": null,
            "margin": null,
            "display": null,
            "left": null
          }
        },
        "077ddfe91236463fbb147946b3ddb207": {
          "model_module": "@jupyter-widgets/controls",
          "model_name": "ButtonStyleModel",
          "state": {
            "_view_name": "StyleView",
            "_model_name": "ButtonStyleModel",
            "_view_module": "@jupyter-widgets/base",
            "_model_module_version": "1.5.0",
            "_view_count": null,
            "button_color": null,
            "font_weight": "",
            "_view_module_version": "1.2.0",
            "_model_module": "@jupyter-widgets/controls"
          }
        },
        "3e748e80a25b4c8ab78b9feedbf9e661": {
          "model_module": "@jupyter-widgets/base",
          "model_name": "LayoutModel",
          "state": {
            "_view_name": "LayoutView",
            "grid_template_rows": null,
            "right": null,
            "justify_content": null,
            "_view_module": "@jupyter-widgets/base",
            "overflow": null,
            "_model_module_version": "1.2.0",
            "_view_count": null,
            "flex_flow": null,
            "width": "40px",
            "min_width": null,
            "border": null,
            "align_items": null,
            "bottom": null,
            "_model_module": "@jupyter-widgets/base",
            "top": null,
            "grid_column": null,
            "overflow_y": null,
            "overflow_x": null,
            "grid_auto_flow": null,
            "grid_area": null,
            "grid_template_columns": null,
            "flex": null,
            "_model_name": "LayoutModel",
            "justify_items": null,
            "grid_row": null,
            "max_height": null,
            "align_content": null,
            "visibility": null,
            "align_self": null,
            "height": null,
            "min_height": null,
            "padding": null,
            "grid_auto_rows": null,
            "grid_gap": null,
            "max_width": null,
            "order": null,
            "_view_module_version": "1.2.0",
            "grid_template_areas": null,
            "object_position": null,
            "object_fit": null,
            "grid_auto_columns": null,
            "margin": null,
            "display": null,
            "left": null
          }
        },
        "0910568c0fb143668407db36c80112b3": {
          "model_module": "@jupyter-widgets/controls",
          "model_name": "ButtonStyleModel",
          "state": {
            "_view_name": "StyleView",
            "_model_name": "ButtonStyleModel",
            "_view_module": "@jupyter-widgets/base",
            "_model_module_version": "1.5.0",
            "_view_count": null,
            "button_color": null,
            "font_weight": "",
            "_view_module_version": "1.2.0",
            "_model_module": "@jupyter-widgets/controls"
          }
        },
        "f5c175d61f3340edbc0f7159c0d91e84": {
          "model_module": "@jupyter-widgets/base",
          "model_name": "LayoutModel",
          "state": {
            "_view_name": "LayoutView",
            "grid_template_rows": null,
            "right": null,
            "justify_content": null,
            "_view_module": "@jupyter-widgets/base",
            "overflow": null,
            "_model_module_version": "1.2.0",
            "_view_count": null,
            "flex_flow": null,
            "width": "40px",
            "min_width": null,
            "border": null,
            "align_items": null,
            "bottom": null,
            "_model_module": "@jupyter-widgets/base",
            "top": null,
            "grid_column": null,
            "overflow_y": null,
            "overflow_x": null,
            "grid_auto_flow": null,
            "grid_area": null,
            "grid_template_columns": null,
            "flex": null,
            "_model_name": "LayoutModel",
            "justify_items": null,
            "grid_row": null,
            "max_height": null,
            "align_content": null,
            "visibility": null,
            "align_self": null,
            "height": null,
            "min_height": null,
            "padding": null,
            "grid_auto_rows": null,
            "grid_gap": null,
            "max_width": null,
            "order": null,
            "_view_module_version": "1.2.0",
            "grid_template_areas": null,
            "object_position": null,
            "object_fit": null,
            "grid_auto_columns": null,
            "margin": null,
            "display": null,
            "left": null
          }
        },
        "109f24ddbee443b7bccfd501985ae12c": {
          "model_module": "@jupyter-widgets/controls",
          "model_name": "SliderStyleModel",
          "state": {
            "_view_name": "StyleView",
            "handle_color": null,
            "_model_name": "SliderStyleModel",
            "description_width": "",
            "_view_module": "@jupyter-widgets/base",
            "_model_module_version": "1.5.0",
            "_view_count": null,
            "_view_module_version": "1.2.0",
            "_model_module": "@jupyter-widgets/controls"
          }
        },
        "f887aa7290034417b9f912267dec58a6": {
          "model_module": "@jupyter-widgets/base",
          "model_name": "LayoutModel",
          "state": {
            "_view_name": "LayoutView",
            "grid_template_rows": null,
            "right": null,
            "justify_content": null,
            "_view_module": "@jupyter-widgets/base",
            "overflow": null,
            "_model_module_version": "1.2.0",
            "_view_count": null,
            "flex_flow": null,
            "width": null,
            "min_width": null,
            "border": null,
            "align_items": null,
            "bottom": null,
            "_model_module": "@jupyter-widgets/base",
            "top": null,
            "grid_column": null,
            "overflow_y": null,
            "overflow_x": null,
            "grid_auto_flow": null,
            "grid_area": null,
            "grid_template_columns": null,
            "flex": null,
            "_model_name": "LayoutModel",
            "justify_items": null,
            "grid_row": null,
            "max_height": null,
            "align_content": null,
            "visibility": null,
            "align_self": null,
            "height": null,
            "min_height": null,
            "padding": null,
            "grid_auto_rows": null,
            "grid_gap": null,
            "max_width": null,
            "order": null,
            "_view_module_version": "1.2.0",
            "grid_template_areas": null,
            "object_position": null,
            "object_fit": null,
            "grid_auto_columns": null,
            "margin": null,
            "display": null,
            "left": null
          }
        },
        "7e450913d8e1467d8f4fd7c52c12c6ec": {
          "model_module": "@jupyter-widgets/base",
          "model_name": "LayoutModel",
          "state": {
            "_view_name": "LayoutView",
            "grid_template_rows": null,
            "right": null,
            "justify_content": null,
            "_view_module": "@jupyter-widgets/base",
            "overflow": null,
            "_model_module_version": "1.2.0",
            "_view_count": null,
            "flex_flow": null,
            "width": null,
            "min_width": null,
            "border": null,
            "align_items": null,
            "bottom": null,
            "_model_module": "@jupyter-widgets/base",
            "top": null,
            "grid_column": null,
            "overflow_y": null,
            "overflow_x": null,
            "grid_auto_flow": null,
            "grid_area": null,
            "grid_template_columns": null,
            "flex": null,
            "_model_name": "LayoutModel",
            "justify_items": null,
            "grid_row": null,
            "max_height": null,
            "align_content": null,
            "visibility": null,
            "align_self": null,
            "height": null,
            "min_height": null,
            "padding": null,
            "grid_auto_rows": null,
            "grid_gap": null,
            "max_width": null,
            "order": null,
            "_view_module_version": "1.2.0",
            "grid_template_areas": null,
            "object_position": null,
            "object_fit": null,
            "grid_auto_columns": null,
            "margin": null,
            "display": null,
            "left": null
          }
        },
        "84e60a943baa4dfeba0c4b7c99322373": {
          "model_module": "@jupyter-widgets/base",
          "model_name": "LayoutModel",
          "state": {
            "_view_name": "LayoutView",
            "grid_template_rows": null,
            "right": null,
            "justify_content": null,
            "_view_module": "@jupyter-widgets/base",
            "overflow": null,
            "_model_module_version": "1.2.0",
            "_view_count": null,
            "flex_flow": null,
            "width": null,
            "min_width": null,
            "border": null,
            "align_items": null,
            "bottom": null,
            "_model_module": "@jupyter-widgets/base",
            "top": null,
            "grid_column": null,
            "overflow_y": null,
            "overflow_x": null,
            "grid_auto_flow": null,
            "grid_area": null,
            "grid_template_columns": null,
            "flex": null,
            "_model_name": "LayoutModel",
            "justify_items": null,
            "grid_row": null,
            "max_height": null,
            "align_content": null,
            "visibility": null,
            "align_self": null,
            "height": null,
            "min_height": null,
            "padding": null,
            "grid_auto_rows": null,
            "grid_gap": null,
            "max_width": null,
            "order": null,
            "_view_module_version": "1.2.0",
            "grid_template_areas": null,
            "object_position": null,
            "object_fit": null,
            "grid_auto_columns": null,
            "margin": null,
            "display": null,
            "left": null
          }
        },
        "0553b0909d454d2a95e408273f011f43": {
          "model_module": "@jupyter-widgets/controls",
          "model_name": "VBoxModel",
          "state": {
            "_view_name": "VBoxView",
            "_dom_classes": [],
            "_model_name": "VBoxModel",
            "_view_module": "@jupyter-widgets/controls",
            "_model_module_version": "1.5.0",
            "_view_count": null,
            "_view_module_version": "1.5.0",
            "box_style": "",
            "layout": "IPY_MODEL_9e73ec6674ec461a8bac1d602e49c06d",
            "_model_module": "@jupyter-widgets/controls",
            "children": [
              "IPY_MODEL_e51605e12bd24ed68275c1a085266566",
              "IPY_MODEL_c027895bc511416fb6c5b3b38f5c1995",
              "IPY_MODEL_d2565c38af39475fb7205db30f9660a0",
              "IPY_MODEL_1412d691536345b0b06b8654be43670e"
            ]
          }
        },
        "9e73ec6674ec461a8bac1d602e49c06d": {
          "model_module": "@jupyter-widgets/base",
          "model_name": "LayoutModel",
          "state": {
            "_view_name": "LayoutView",
            "grid_template_rows": null,
            "right": null,
            "justify_content": null,
            "_view_module": "@jupyter-widgets/base",
            "overflow": null,
            "_model_module_version": "1.2.0",
            "_view_count": null,
            "flex_flow": null,
            "width": null,
            "min_width": null,
            "border": null,
            "align_items": null,
            "bottom": null,
            "_model_module": "@jupyter-widgets/base",
            "top": null,
            "grid_column": null,
            "overflow_y": null,
            "overflow_x": null,
            "grid_auto_flow": null,
            "grid_area": null,
            "grid_template_columns": null,
            "flex": null,
            "_model_name": "LayoutModel",
            "justify_items": null,
            "grid_row": null,
            "max_height": null,
            "align_content": null,
            "visibility": null,
            "align_self": null,
            "height": null,
            "min_height": null,
            "padding": null,
            "grid_auto_rows": null,
            "grid_gap": null,
            "max_width": null,
            "order": null,
            "_view_module_version": "1.2.0",
            "grid_template_areas": null,
            "object_position": null,
            "object_fit": null,
            "grid_auto_columns": null,
            "margin": null,
            "display": null,
            "left": null
          }
        },
        "e51605e12bd24ed68275c1a085266566": {
          "model_module": "@jupyter-widgets/controls",
          "model_name": "HBoxModel",
          "state": {
            "_view_name": "HBoxView",
            "_dom_classes": [],
            "_model_name": "HBoxModel",
            "_view_module": "@jupyter-widgets/controls",
            "_model_module_version": "1.5.0",
            "_view_count": null,
            "_view_module_version": "1.5.0",
            "box_style": "",
            "layout": "IPY_MODEL_99b6ddd322734877a51dfc677d9925ca",
            "_model_module": "@jupyter-widgets/controls",
            "children": [
              "IPY_MODEL_bd2a425ebd824cd9a4feb6ac0b3384c4",
              "IPY_MODEL_f5017edf30f147a0a03c5046bc72ac55"
            ]
          }
        },
        "c027895bc511416fb6c5b3b38f5c1995": {
          "model_module": "@jupyter-widgets/output",
          "model_name": "OutputModel",
          "state": {
            "_view_name": "OutputView",
            "msg_id": "",
            "_dom_classes": [],
            "_model_name": "OutputModel",
            "outputs": [
              {
                "output_type": "display_data",
                "metadata": {
                  "tags": []
                },
                "text/plain": "<graphviz.files.Source at 0x7f0b3efa7a90>",
                "image/svg+xml": "<?xml version=\"1.0\" encoding=\"UTF-8\" standalone=\"no\"?>\n<!DOCTYPE svg PUBLIC \"-//W3C//DTD SVG 1.1//EN\"\n \"http://www.w3.org/Graphics/SVG/1.1/DTD/svg11.dtd\">\n<!-- Generated by graphviz version 2.40.1 (20161225.0304)\n -->\n<!-- Title: %3 Pages: 1 -->\n<svg width=\"554pt\" height=\"235pt\"\n viewBox=\"0.00 0.00 554.00 235.00\" xmlns=\"http://www.w3.org/2000/svg\" xmlns:xlink=\"http://www.w3.org/1999/xlink\">\n<g id=\"graph0\" class=\"graph\" transform=\"scale(1 1) rotate(0) translate(4 231)\">\n<title>%3</title>\n<polygon fill=\"#ffffff\" stroke=\"transparent\" points=\"-4,4 -4,-231 550,-231 550,4 -4,4\"/>\n<!-- EMPTY -->\n<g id=\"node1\" class=\"node\">\n<title>EMPTY</title>\n</g>\n<!-- I -->\n<g id=\"node5\" class=\"node\">\n<title>I</title>\n<ellipse fill=\"none\" stroke=\"#000000\" cx=\"109\" cy=\"-18\" rx=\"18\" ry=\"18\"/>\n<text text-anchor=\"middle\" x=\"109\" y=\"-14.3\" font-family=\"Times,serif\" font-size=\"14.00\" fill=\"#000000\">I</text>\n</g>\n<!-- EMPTY&#45;&gt;I -->\n<g id=\"edge1\" class=\"edge\">\n<title>EMPTY&#45;&gt;I</title>\n<path fill=\"none\" stroke=\"#000000\" d=\"M54.3048,-18C62.6909,-18 71.9407,-18 80.4103,-18\"/>\n<polygon fill=\"#000000\" stroke=\"#000000\" points=\"80.5976,-21.5001 90.5976,-18 80.5976,-14.5001 80.5976,-21.5001\"/>\n</g>\n<!-- E -->\n<g id=\"node2\" class=\"node\">\n<title>E</title>\n<ellipse fill=\"none\" stroke=\"#000000\" cx=\"355\" cy=\"-78\" rx=\"18\" ry=\"18\"/>\n<text text-anchor=\"middle\" x=\"355\" y=\"-74.3\" font-family=\"Times,serif\" font-size=\"14.00\" fill=\"#000000\">E</text>\n</g>\n<!-- A -->\n<g id=\"node3\" class=\"node\">\n<title>A</title>\n<ellipse fill=\"none\" stroke=\"#000000\" cx=\"190\" cy=\"-107\" rx=\"18\" ry=\"18\"/>\n<text text-anchor=\"middle\" x=\"190\" y=\"-103.3\" font-family=\"Times,serif\" font-size=\"14.00\" fill=\"#000000\">A</text>\n</g>\n<!-- E&#45;&gt;A -->\n<g id=\"edge11\" class=\"edge\">\n<title>E&#45;&gt;A</title>\n<path fill=\"none\" stroke=\"#000000\" d=\"M337.0702,-81.5711C331.3055,-82.6965 324.8878,-83.9257 319,-85 284.2307,-91.3443 244.082,-98.1021 217.9313,-102.428\"/>\n<polygon fill=\"#000000\" stroke=\"#000000\" points=\"217.2677,-98.99 207.9702,-104.0701 218.4064,-105.8968 217.2677,-98.99\"/>\n<text text-anchor=\"start\" x=\"266.5\" y=\"-99.8\" font-family=\"Times,serif\" font-size=\"14.00\" fill=\"#000000\"> &#39;&#39;</text>\n</g>\n<!-- G -->\n<g id=\"node8\" class=\"node\">\n<title>G</title>\n<ellipse fill=\"none\" stroke=\"#000000\" cx=\"436\" cy=\"-78\" rx=\"18\" ry=\"18\"/>\n<text text-anchor=\"middle\" x=\"436\" y=\"-74.3\" font-family=\"Times,serif\" font-size=\"14.00\" fill=\"#000000\">G</text>\n</g>\n<!-- E&#45;&gt;G -->\n<g id=\"edge12\" class=\"edge\">\n<title>E&#45;&gt;G</title>\n<path fill=\"none\" stroke=\"#000000\" d=\"M373.3802,-78C383.4966,-78 396.2691,-78 407.6363,-78\"/>\n<polygon fill=\"#000000\" stroke=\"#000000\" points=\"407.9716,-81.5001 417.9716,-78 407.9716,-74.5001 407.9716,-81.5001\"/>\n<text text-anchor=\"start\" x=\"391\" y=\"-81.8\" font-family=\"Times,serif\" font-size=\"14.00\" fill=\"#000000\"> &#39;&#39;</text>\n</g>\n<!-- B -->\n<g id=\"node4\" class=\"node\">\n<title>B</title>\n<ellipse fill=\"none\" stroke=\"#000000\" cx=\"271\" cy=\"-209\" rx=\"18\" ry=\"18\"/>\n<text text-anchor=\"middle\" x=\"271\" y=\"-205.3\" font-family=\"Times,serif\" font-size=\"14.00\" fill=\"#000000\">B</text>\n</g>\n<!-- A&#45;&gt;B -->\n<g id=\"edge5\" class=\"edge\">\n<title>A&#45;&gt;B</title>\n<path fill=\"none\" stroke=\"#000000\" d=\"M197.1651,-123.8317C203.5249,-137.6319 213.7027,-157.2278 226,-172 232.2323,-179.4867 240.1446,-186.5771 247.5906,-192.5098\"/>\n<polygon fill=\"#000000\" stroke=\"#000000\" points=\"245.9104,-195.6292 255.9888,-198.8968 250.1479,-190.0574 245.9104,-195.6292\"/>\n<text text-anchor=\"start\" x=\"226\" y=\"-184.8\" font-family=\"Times,serif\" font-size=\"14.00\" fill=\"#000000\"> &#39;&#39;</text>\n</g>\n<!-- C -->\n<g id=\"node6\" class=\"node\">\n<title>C</title>\n<ellipse fill=\"none\" stroke=\"#000000\" cx=\"271\" cy=\"-53\" rx=\"18\" ry=\"18\"/>\n<text text-anchor=\"middle\" x=\"271\" y=\"-49.3\" font-family=\"Times,serif\" font-size=\"14.00\" fill=\"#000000\">C</text>\n</g>\n<!-- A&#45;&gt;C -->\n<g id=\"edge4\" class=\"edge\">\n<title>A&#45;&gt;C</title>\n<path fill=\"none\" stroke=\"#000000\" d=\"M203.5953,-95.1322C210.1621,-89.6416 218.2777,-83.1997 226,-78 232.1762,-73.8413 239.0984,-69.7417 245.627,-66.1031\"/>\n<polygon fill=\"#000000\" stroke=\"#000000\" points=\"247.6501,-68.9878 254.7776,-61.1488 244.3173,-62.8321 247.6501,-68.9878\"/>\n<text text-anchor=\"start\" x=\"226\" y=\"-81.8\" font-family=\"Times,serif\" font-size=\"14.00\" fill=\"#000000\"> &#39;&#39;</text>\n</g>\n<!-- D -->\n<g id=\"node7\" class=\"node\">\n<title>D</title>\n<ellipse fill=\"none\" stroke=\"#000000\" cx=\"355\" cy=\"-158\" rx=\"18\" ry=\"18\"/>\n<text text-anchor=\"middle\" x=\"355\" y=\"-154.3\" font-family=\"Times,serif\" font-size=\"14.00\" fill=\"#000000\">D</text>\n</g>\n<!-- B&#45;&gt;D -->\n<g id=\"edge7\" class=\"edge\">\n<title>B&#45;&gt;D</title>\n<path fill=\"none\" stroke=\"#000000\" d=\"M286.4069,-199.6458C298.7621,-192.1444 316.333,-181.4764 330.5978,-172.8156\"/>\n<polygon fill=\"#000000\" stroke=\"#000000\" points=\"332.6749,-175.6492 339.4063,-167.4676 329.042,-169.6657 332.6749,-175.6492\"/>\n<text text-anchor=\"start\" x=\"307\" y=\"-189.8\" font-family=\"Times,serif\" font-size=\"14.00\" fill=\"#000000\"> 1</text>\n</g>\n<!-- I&#45;&gt;A -->\n<g id=\"edge2\" class=\"edge\">\n<title>I&#45;&gt;A</title>\n<path fill=\"none\" stroke=\"#000000\" d=\"M121.3022,-31.5172C134.4616,-45.9764 155.5061,-69.0993 170.8389,-85.9464\"/>\n<polygon fill=\"#000000\" stroke=\"#000000\" points=\"168.5281,-88.6074 177.8475,-93.6472 173.7051,-83.8957 168.5281,-88.6074\"/>\n<text text-anchor=\"start\" x=\"145\" y=\"-68.8\" font-family=\"Times,serif\" font-size=\"14.00\" fill=\"#000000\"> &#39;&#39;</text>\n</g>\n<!-- I&#45;&gt;G -->\n<g id=\"edge3\" class=\"edge\">\n<title>I&#45;&gt;G</title>\n<path fill=\"none\" stroke=\"#000000\" d=\"M126.1867,-12.5831C142.4518,-7.9414 167.6386,-2 190,-2 190,-2 190,-2 355,-2 385.3374,-2 408.9784,-30.7028 422.696,-52.83\"/>\n<polygon fill=\"#000000\" stroke=\"#000000\" points=\"419.7107,-54.6581 427.7924,-61.5091 425.747,-51.1136 419.7107,-54.6581\"/>\n<text text-anchor=\"start\" x=\"266.5\" y=\"-5.8\" font-family=\"Times,serif\" font-size=\"14.00\" fill=\"#000000\"> &#39;&#39;</text>\n</g>\n<!-- C&#45;&gt;E -->\n<g id=\"edge8\" class=\"edge\">\n<title>C&#45;&gt;E</title>\n<path fill=\"none\" stroke=\"#000000\" d=\"M288.4049,-58.18C299.7804,-61.5656 314.8725,-66.0573 327.8129,-69.9086\"/>\n<polygon fill=\"#000000\" stroke=\"#000000\" points=\"327.0345,-73.3286 337.6174,-72.8266 329.0313,-66.6194 327.0345,-73.3286\"/>\n<text text-anchor=\"start\" x=\"307\" y=\"-69.8\" font-family=\"Times,serif\" font-size=\"14.00\" fill=\"#000000\"> 0</text>\n</g>\n<!-- D&#45;&gt;A -->\n<g id=\"edge9\" class=\"edge\">\n<title>D&#45;&gt;A</title>\n<path fill=\"none\" stroke=\"#000000\" d=\"M337.6388,-152.6338C308.9099,-143.754 251.2704,-125.9381 217.1292,-115.3854\"/>\n<polygon fill=\"#000000\" stroke=\"#000000\" points=\"217.9337,-111.9707 207.346,-112.3615 215.8665,-118.6585 217.9337,-111.9707\"/>\n<text text-anchor=\"start\" x=\"266.5\" y=\"-140.8\" font-family=\"Times,serif\" font-size=\"14.00\" fill=\"#000000\"> &#39;&#39;</text>\n</g>\n<!-- D&#45;&gt;G -->\n<g id=\"edge10\" class=\"edge\">\n<title>D&#45;&gt;G</title>\n<path fill=\"none\" stroke=\"#000000\" d=\"M368.0141,-145.1466C380.8858,-132.4338 400.771,-112.7941 415.7164,-98.0332\"/>\n<polygon fill=\"#000000\" stroke=\"#000000\" points=\"418.3628,-100.3387 423.0182,-90.8215 413.4439,-95.3583 418.3628,-100.3387\"/>\n<text text-anchor=\"start\" x=\"391\" y=\"-123.8\" font-family=\"Times,serif\" font-size=\"14.00\" fill=\"#000000\"> &#39;&#39;</text>\n</g>\n<!-- F -->\n<g id=\"node9\" class=\"node\">\n<title>F</title>\n<ellipse fill=\"none\" stroke=\"#000000\" cx=\"524\" cy=\"-78\" rx=\"18\" ry=\"18\"/>\n<ellipse fill=\"none\" stroke=\"#000000\" cx=\"524\" cy=\"-78\" rx=\"22\" ry=\"22\"/>\n<text text-anchor=\"middle\" x=\"524\" y=\"-74.3\" font-family=\"Times,serif\" font-size=\"14.00\" fill=\"#000000\">F</text>\n</g>\n<!-- G&#45;&gt;F -->\n<g id=\"edge6\" class=\"edge\">\n<title>G&#45;&gt;F</title>\n<path fill=\"none\" stroke=\"#000000\" d=\"M454.2337,-78C465.0103,-78 478.9708,-78 491.5692,-78\"/>\n<polygon fill=\"#000000\" stroke=\"#000000\" points=\"491.7317,-81.5001 501.7317,-78 491.7317,-74.5001 491.7317,-81.5001\"/>\n<text text-anchor=\"start\" x=\"472\" y=\"-81.8\" font-family=\"Times,serif\" font-size=\"14.00\" fill=\"#000000\"> 1</text>\n</g>\n</g>\n</svg>\n"
              }
            ],
            "_view_module": "@jupyter-widgets/output",
            "_model_module_version": "1.0.0",
            "_view_count": null,
            "_view_module_version": "1.0.0",
            "layout": "IPY_MODEL_ec76eeec14dd4ab8925a38650053ccc9",
            "_model_module": "@jupyter-widgets/output"
          }
        },
        "d2565c38af39475fb7205db30f9660a0": {
          "model_module": "@jupyter-widgets/output",
          "model_name": "OutputModel",
          "state": {
            "_view_name": "OutputView",
            "msg_id": "",
            "_dom_classes": [],
            "_model_name": "OutputModel",
            "outputs": [],
            "_view_module": "@jupyter-widgets/output",
            "_model_module_version": "1.0.0",
            "_view_count": null,
            "_view_module_version": "1.0.0",
            "layout": "IPY_MODEL_75d0da15673542f89c2a0cba53c69271",
            "_model_module": "@jupyter-widgets/output"
          }
        },
        "1412d691536345b0b06b8654be43670e": {
          "model_module": "@jupyter-widgets/controls",
          "model_name": "HBoxModel",
          "state": {
            "_view_name": "HBoxView",
            "_dom_classes": [],
            "_model_name": "HBoxModel",
            "_view_module": "@jupyter-widgets/controls",
            "_model_module_version": "1.5.0",
            "_view_count": null,
            "_view_module_version": "1.5.0",
            "box_style": "",
            "layout": "IPY_MODEL_2c771ce24a4945ad8865e7bb7933bb2d",
            "_model_module": "@jupyter-widgets/controls",
            "children": [
              "IPY_MODEL_474e237ac8654e83958d5cc7262708b5",
              "IPY_MODEL_80cfe6f534a04307b4f7b5e2fd715192",
              "IPY_MODEL_b26550a06e95498e991c1633e111f41f",
              "IPY_MODEL_159b9136e0f2482386708f3c7a197795"
            ]
          }
        },
        "99b6ddd322734877a51dfc677d9925ca": {
          "model_module": "@jupyter-widgets/base",
          "model_name": "LayoutModel",
          "state": {
            "_view_name": "LayoutView",
            "grid_template_rows": null,
            "right": null,
            "justify_content": null,
            "_view_module": "@jupyter-widgets/base",
            "overflow": null,
            "_model_module_version": "1.2.0",
            "_view_count": null,
            "flex_flow": null,
            "width": null,
            "min_width": null,
            "border": null,
            "align_items": null,
            "bottom": null,
            "_model_module": "@jupyter-widgets/base",
            "top": null,
            "grid_column": null,
            "overflow_y": null,
            "overflow_x": null,
            "grid_auto_flow": null,
            "grid_area": null,
            "grid_template_columns": null,
            "flex": null,
            "_model_name": "LayoutModel",
            "justify_items": null,
            "grid_row": null,
            "max_height": null,
            "align_content": null,
            "visibility": null,
            "align_self": null,
            "height": null,
            "min_height": null,
            "padding": null,
            "grid_auto_rows": null,
            "grid_gap": null,
            "max_width": null,
            "order": null,
            "_view_module_version": "1.2.0",
            "grid_template_areas": null,
            "object_position": null,
            "object_fit": null,
            "grid_auto_columns": null,
            "margin": null,
            "display": null,
            "left": null
          }
        },
        "bd2a425ebd824cd9a4feb6ac0b3384c4": {
          "model_module": "@jupyter-widgets/controls",
          "model_name": "TextModel",
          "state": {
            "_view_name": "TextView",
            "style": "IPY_MODEL_321ef210ae9740b19907aed1492dad12",
            "_dom_classes": [],
            "description": "Input:",
            "_model_name": "TextModel",
            "placeholder": "Sigma: {0,1}",
            "_view_module": "@jupyter-widgets/controls",
            "_model_module_version": "1.5.0",
            "value": "",
            "_view_count": null,
            "disabled": false,
            "_view_module_version": "1.5.0",
            "continuous_update": true,
            "description_tooltip": null,
            "_model_module": "@jupyter-widgets/controls",
            "layout": "IPY_MODEL_0bd0ae93b57e46e19e7e338ca03dab76"
          }
        },
        "f5017edf30f147a0a03c5046bc72ac55": {
          "model_module": "@jupyter-widgets/controls",
          "model_name": "ButtonModel",
          "state": {
            "_view_name": "ButtonView",
            "style": "IPY_MODEL_10ef3ff4c4164b1eb851ca4255b2c456",
            "_dom_classes": [],
            "description": "Animate",
            "_model_name": "ButtonModel",
            "button_style": "primary",
            "_view_module": "@jupyter-widgets/controls",
            "_model_module_version": "1.5.0",
            "tooltip": "",
            "_view_count": null,
            "disabled": false,
            "_view_module_version": "1.5.0",
            "layout": "IPY_MODEL_315ff1cc78c84ce1ad32bf5bbad26fd6",
            "_model_module": "@jupyter-widgets/controls",
            "icon": ""
          }
        },
        "2c771ce24a4945ad8865e7bb7933bb2d": {
          "model_module": "@jupyter-widgets/base",
          "model_name": "LayoutModel",
          "state": {
            "_view_name": "LayoutView",
            "grid_template_rows": null,
            "right": null,
            "justify_content": null,
            "_view_module": "@jupyter-widgets/base",
            "overflow": null,
            "_model_module_version": "1.2.0",
            "_view_count": null,
            "flex_flow": null,
            "width": null,
            "min_width": null,
            "border": null,
            "align_items": null,
            "bottom": null,
            "_model_module": "@jupyter-widgets/base",
            "top": null,
            "grid_column": null,
            "overflow_y": null,
            "overflow_x": null,
            "grid_auto_flow": null,
            "grid_area": null,
            "grid_template_columns": null,
            "flex": null,
            "_model_name": "LayoutModel",
            "justify_items": null,
            "grid_row": null,
            "max_height": null,
            "align_content": null,
            "visibility": null,
            "align_self": null,
            "height": null,
            "min_height": null,
            "padding": null,
            "grid_auto_rows": null,
            "grid_gap": null,
            "max_width": null,
            "order": null,
            "_view_module_version": "1.2.0",
            "grid_template_areas": null,
            "object_position": null,
            "object_fit": null,
            "grid_auto_columns": null,
            "margin": null,
            "display": null,
            "left": null
          }
        },
        "474e237ac8654e83958d5cc7262708b5": {
          "model_module": "@jupyter-widgets/controls",
          "model_name": "PlayModel",
          "state": {
            "_view_name": "PlayView",
            "style": "IPY_MODEL_5a6e5506cccc4700a800b6d01ee085c2",
            "interval": 950,
            "_dom_classes": [],
            "description": "Press play",
            "_model_name": "PlayModel",
            "max": 100,
            "_view_module": "@jupyter-widgets/controls",
            "_model_module_version": "1.5.0",
            "value": 0,
            "_view_count": null,
            "disabled": true,
            "_repeat": false,
            "_view_module_version": "1.5.0",
            "show_repeat": true,
            "min": 0,
            "_playing": false,
            "step": 1,
            "description_tooltip": null,
            "_model_module": "@jupyter-widgets/controls",
            "layout": "IPY_MODEL_27e073ccfb6e47379729e94d58559670"
          }
        },
        "80cfe6f534a04307b4f7b5e2fd715192": {
          "model_module": "@jupyter-widgets/controls",
          "model_name": "ButtonModel",
          "state": {
            "_view_name": "ButtonView",
            "style": "IPY_MODEL_116421cf6d94476fbd2b9e261f38aa66",
            "_dom_classes": [],
            "description": "",
            "_model_name": "ButtonModel",
            "button_style": "",
            "_view_module": "@jupyter-widgets/controls",
            "_model_module_version": "1.5.0",
            "tooltip": "",
            "_view_count": null,
            "disabled": true,
            "_view_module_version": "1.5.0",
            "layout": "IPY_MODEL_866d56a9daa249fdb837edddc964e0fd",
            "_model_module": "@jupyter-widgets/controls",
            "icon": "step-backward"
          }
        },
        "b26550a06e95498e991c1633e111f41f": {
          "model_module": "@jupyter-widgets/controls",
          "model_name": "ButtonModel",
          "state": {
            "_view_name": "ButtonView",
            "style": "IPY_MODEL_2bffc954e688418a838044af00349f70",
            "_dom_classes": [],
            "description": "",
            "_model_name": "ButtonModel",
            "button_style": "",
            "_view_module": "@jupyter-widgets/controls",
            "_model_module_version": "1.5.0",
            "tooltip": "",
            "_view_count": null,
            "disabled": true,
            "_view_module_version": "1.5.0",
            "layout": "IPY_MODEL_ec40f711241148c9bff48523b4245d8e",
            "_model_module": "@jupyter-widgets/controls",
            "icon": "step-forward"
          }
        },
        "159b9136e0f2482386708f3c7a197795": {
          "model_module": "@jupyter-widgets/controls",
          "model_name": "IntSliderModel",
          "state": {
            "_view_name": "IntSliderView",
            "style": "IPY_MODEL_85d3cf9bbeb842aa9c0991fc478dd08a",
            "_dom_classes": [],
            "description": "Speed:",
            "step": 1,
            "_model_name": "IntSliderModel",
            "orientation": "horizontal",
            "max": 10,
            "_view_module": "@jupyter-widgets/controls",
            "_model_module_version": "1.5.0",
            "value": 1,
            "_view_count": null,
            "disabled": true,
            "_view_module_version": "1.5.0",
            "min": 1,
            "continuous_update": false,
            "readout_format": "d",
            "description_tooltip": null,
            "readout": true,
            "_model_module": "@jupyter-widgets/controls",
            "layout": "IPY_MODEL_0f0bb3b7ab1249aabd24c6e6fcc4b2cd"
          }
        },
        "321ef210ae9740b19907aed1492dad12": {
          "model_module": "@jupyter-widgets/controls",
          "model_name": "DescriptionStyleModel",
          "state": {
            "_view_name": "StyleView",
            "_model_name": "DescriptionStyleModel",
            "description_width": "",
            "_view_module": "@jupyter-widgets/base",
            "_model_module_version": "1.5.0",
            "_view_count": null,
            "_view_module_version": "1.2.0",
            "_model_module": "@jupyter-widgets/controls"
          }
        },
        "0bd0ae93b57e46e19e7e338ca03dab76": {
          "model_module": "@jupyter-widgets/base",
          "model_name": "LayoutModel",
          "state": {
            "_view_name": "LayoutView",
            "grid_template_rows": null,
            "right": null,
            "justify_content": null,
            "_view_module": "@jupyter-widgets/base",
            "overflow": null,
            "_model_module_version": "1.2.0",
            "_view_count": null,
            "flex_flow": null,
            "width": "500px",
            "min_width": null,
            "border": null,
            "align_items": null,
            "bottom": null,
            "_model_module": "@jupyter-widgets/base",
            "top": null,
            "grid_column": null,
            "overflow_y": null,
            "overflow_x": null,
            "grid_auto_flow": null,
            "grid_area": null,
            "grid_template_columns": null,
            "flex": null,
            "_model_name": "LayoutModel",
            "justify_items": null,
            "grid_row": null,
            "max_height": null,
            "align_content": null,
            "visibility": null,
            "align_self": null,
            "height": null,
            "min_height": null,
            "padding": null,
            "grid_auto_rows": null,
            "grid_gap": null,
            "max_width": null,
            "order": null,
            "_view_module_version": "1.2.0",
            "grid_template_areas": null,
            "object_position": null,
            "object_fit": null,
            "grid_auto_columns": null,
            "margin": null,
            "display": null,
            "left": null
          }
        },
        "10ef3ff4c4164b1eb851ca4255b2c456": {
          "model_module": "@jupyter-widgets/controls",
          "model_name": "ButtonStyleModel",
          "state": {
            "_view_name": "StyleView",
            "_model_name": "ButtonStyleModel",
            "_view_module": "@jupyter-widgets/base",
            "_model_module_version": "1.5.0",
            "_view_count": null,
            "button_color": null,
            "font_weight": "",
            "_view_module_version": "1.2.0",
            "_model_module": "@jupyter-widgets/controls"
          }
        },
        "315ff1cc78c84ce1ad32bf5bbad26fd6": {
          "model_module": "@jupyter-widgets/base",
          "model_name": "LayoutModel",
          "state": {
            "_view_name": "LayoutView",
            "grid_template_rows": null,
            "right": null,
            "justify_content": null,
            "_view_module": "@jupyter-widgets/base",
            "overflow": null,
            "_model_module_version": "1.2.0",
            "_view_count": null,
            "flex_flow": null,
            "width": null,
            "min_width": null,
            "border": null,
            "align_items": null,
            "bottom": null,
            "_model_module": "@jupyter-widgets/base",
            "top": null,
            "grid_column": null,
            "overflow_y": null,
            "overflow_x": null,
            "grid_auto_flow": null,
            "grid_area": null,
            "grid_template_columns": null,
            "flex": null,
            "_model_name": "LayoutModel",
            "justify_items": null,
            "grid_row": null,
            "max_height": null,
            "align_content": null,
            "visibility": null,
            "align_self": null,
            "height": null,
            "min_height": null,
            "padding": null,
            "grid_auto_rows": null,
            "grid_gap": null,
            "max_width": null,
            "order": null,
            "_view_module_version": "1.2.0",
            "grid_template_areas": null,
            "object_position": null,
            "object_fit": null,
            "grid_auto_columns": null,
            "margin": null,
            "display": null,
            "left": null
          }
        },
        "5a6e5506cccc4700a800b6d01ee085c2": {
          "model_module": "@jupyter-widgets/controls",
          "model_name": "DescriptionStyleModel",
          "state": {
            "_view_name": "StyleView",
            "_model_name": "DescriptionStyleModel",
            "description_width": "",
            "_view_module": "@jupyter-widgets/base",
            "_model_module_version": "1.5.0",
            "_view_count": null,
            "_view_module_version": "1.2.0",
            "_model_module": "@jupyter-widgets/controls"
          }
        },
        "27e073ccfb6e47379729e94d58559670": {
          "model_module": "@jupyter-widgets/base",
          "model_name": "LayoutModel",
          "state": {
            "_view_name": "LayoutView",
            "grid_template_rows": null,
            "right": null,
            "justify_content": null,
            "_view_module": "@jupyter-widgets/base",
            "overflow": null,
            "_model_module_version": "1.2.0",
            "_view_count": null,
            "flex_flow": null,
            "width": null,
            "min_width": null,
            "border": null,
            "align_items": null,
            "bottom": null,
            "_model_module": "@jupyter-widgets/base",
            "top": null,
            "grid_column": null,
            "overflow_y": null,
            "overflow_x": null,
            "grid_auto_flow": null,
            "grid_area": null,
            "grid_template_columns": null,
            "flex": null,
            "_model_name": "LayoutModel",
            "justify_items": null,
            "grid_row": null,
            "max_height": null,
            "align_content": null,
            "visibility": null,
            "align_self": null,
            "height": null,
            "min_height": null,
            "padding": null,
            "grid_auto_rows": null,
            "grid_gap": null,
            "max_width": null,
            "order": null,
            "_view_module_version": "1.2.0",
            "grid_template_areas": null,
            "object_position": null,
            "object_fit": null,
            "grid_auto_columns": null,
            "margin": null,
            "display": null,
            "left": null
          }
        },
        "116421cf6d94476fbd2b9e261f38aa66": {
          "model_module": "@jupyter-widgets/controls",
          "model_name": "ButtonStyleModel",
          "state": {
            "_view_name": "StyleView",
            "_model_name": "ButtonStyleModel",
            "_view_module": "@jupyter-widgets/base",
            "_model_module_version": "1.5.0",
            "_view_count": null,
            "button_color": null,
            "font_weight": "",
            "_view_module_version": "1.2.0",
            "_model_module": "@jupyter-widgets/controls"
          }
        },
        "866d56a9daa249fdb837edddc964e0fd": {
          "model_module": "@jupyter-widgets/base",
          "model_name": "LayoutModel",
          "state": {
            "_view_name": "LayoutView",
            "grid_template_rows": null,
            "right": null,
            "justify_content": null,
            "_view_module": "@jupyter-widgets/base",
            "overflow": null,
            "_model_module_version": "1.2.0",
            "_view_count": null,
            "flex_flow": null,
            "width": "40px",
            "min_width": null,
            "border": null,
            "align_items": null,
            "bottom": null,
            "_model_module": "@jupyter-widgets/base",
            "top": null,
            "grid_column": null,
            "overflow_y": null,
            "overflow_x": null,
            "grid_auto_flow": null,
            "grid_area": null,
            "grid_template_columns": null,
            "flex": null,
            "_model_name": "LayoutModel",
            "justify_items": null,
            "grid_row": null,
            "max_height": null,
            "align_content": null,
            "visibility": null,
            "align_self": null,
            "height": null,
            "min_height": null,
            "padding": null,
            "grid_auto_rows": null,
            "grid_gap": null,
            "max_width": null,
            "order": null,
            "_view_module_version": "1.2.0",
            "grid_template_areas": null,
            "object_position": null,
            "object_fit": null,
            "grid_auto_columns": null,
            "margin": null,
            "display": null,
            "left": null
          }
        },
        "2bffc954e688418a838044af00349f70": {
          "model_module": "@jupyter-widgets/controls",
          "model_name": "ButtonStyleModel",
          "state": {
            "_view_name": "StyleView",
            "_model_name": "ButtonStyleModel",
            "_view_module": "@jupyter-widgets/base",
            "_model_module_version": "1.5.0",
            "_view_count": null,
            "button_color": null,
            "font_weight": "",
            "_view_module_version": "1.2.0",
            "_model_module": "@jupyter-widgets/controls"
          }
        },
        "ec40f711241148c9bff48523b4245d8e": {
          "model_module": "@jupyter-widgets/base",
          "model_name": "LayoutModel",
          "state": {
            "_view_name": "LayoutView",
            "grid_template_rows": null,
            "right": null,
            "justify_content": null,
            "_view_module": "@jupyter-widgets/base",
            "overflow": null,
            "_model_module_version": "1.2.0",
            "_view_count": null,
            "flex_flow": null,
            "width": "40px",
            "min_width": null,
            "border": null,
            "align_items": null,
            "bottom": null,
            "_model_module": "@jupyter-widgets/base",
            "top": null,
            "grid_column": null,
            "overflow_y": null,
            "overflow_x": null,
            "grid_auto_flow": null,
            "grid_area": null,
            "grid_template_columns": null,
            "flex": null,
            "_model_name": "LayoutModel",
            "justify_items": null,
            "grid_row": null,
            "max_height": null,
            "align_content": null,
            "visibility": null,
            "align_self": null,
            "height": null,
            "min_height": null,
            "padding": null,
            "grid_auto_rows": null,
            "grid_gap": null,
            "max_width": null,
            "order": null,
            "_view_module_version": "1.2.0",
            "grid_template_areas": null,
            "object_position": null,
            "object_fit": null,
            "grid_auto_columns": null,
            "margin": null,
            "display": null,
            "left": null
          }
        },
        "85d3cf9bbeb842aa9c0991fc478dd08a": {
          "model_module": "@jupyter-widgets/controls",
          "model_name": "SliderStyleModel",
          "state": {
            "_view_name": "StyleView",
            "handle_color": null,
            "_model_name": "SliderStyleModel",
            "description_width": "",
            "_view_module": "@jupyter-widgets/base",
            "_model_module_version": "1.5.0",
            "_view_count": null,
            "_view_module_version": "1.2.0",
            "_model_module": "@jupyter-widgets/controls"
          }
        },
        "0f0bb3b7ab1249aabd24c6e6fcc4b2cd": {
          "model_module": "@jupyter-widgets/base",
          "model_name": "LayoutModel",
          "state": {
            "_view_name": "LayoutView",
            "grid_template_rows": null,
            "right": null,
            "justify_content": null,
            "_view_module": "@jupyter-widgets/base",
            "overflow": null,
            "_model_module_version": "1.2.0",
            "_view_count": null,
            "flex_flow": null,
            "width": null,
            "min_width": null,
            "border": null,
            "align_items": null,
            "bottom": null,
            "_model_module": "@jupyter-widgets/base",
            "top": null,
            "grid_column": null,
            "overflow_y": null,
            "overflow_x": null,
            "grid_auto_flow": null,
            "grid_area": null,
            "grid_template_columns": null,
            "flex": null,
            "_model_name": "LayoutModel",
            "justify_items": null,
            "grid_row": null,
            "max_height": null,
            "align_content": null,
            "visibility": null,
            "align_self": null,
            "height": null,
            "min_height": null,
            "padding": null,
            "grid_auto_rows": null,
            "grid_gap": null,
            "max_width": null,
            "order": null,
            "_view_module_version": "1.2.0",
            "grid_template_areas": null,
            "object_position": null,
            "object_fit": null,
            "grid_auto_columns": null,
            "margin": null,
            "display": null,
            "left": null
          }
        },
        "ec76eeec14dd4ab8925a38650053ccc9": {
          "model_module": "@jupyter-widgets/base",
          "model_name": "LayoutModel",
          "state": {
            "_view_name": "LayoutView",
            "grid_template_rows": null,
            "right": null,
            "justify_content": null,
            "_view_module": "@jupyter-widgets/base",
            "overflow": null,
            "_model_module_version": "1.2.0",
            "_view_count": null,
            "flex_flow": null,
            "width": null,
            "min_width": null,
            "border": null,
            "align_items": null,
            "bottom": null,
            "_model_module": "@jupyter-widgets/base",
            "top": null,
            "grid_column": null,
            "overflow_y": null,
            "overflow_x": null,
            "grid_auto_flow": null,
            "grid_area": null,
            "grid_template_columns": null,
            "flex": null,
            "_model_name": "LayoutModel",
            "justify_items": null,
            "grid_row": null,
            "max_height": null,
            "align_content": null,
            "visibility": null,
            "align_self": null,
            "height": null,
            "min_height": null,
            "padding": null,
            "grid_auto_rows": null,
            "grid_gap": null,
            "max_width": null,
            "order": null,
            "_view_module_version": "1.2.0",
            "grid_template_areas": null,
            "object_position": null,
            "object_fit": null,
            "grid_auto_columns": null,
            "margin": null,
            "display": null,
            "left": null
          }
        },
        "75d0da15673542f89c2a0cba53c69271": {
          "model_module": "@jupyter-widgets/base",
          "model_name": "LayoutModel",
          "state": {
            "_view_name": "LayoutView",
            "grid_template_rows": null,
            "right": null,
            "justify_content": null,
            "_view_module": "@jupyter-widgets/base",
            "overflow": null,
            "_model_module_version": "1.2.0",
            "_view_count": null,
            "flex_flow": null,
            "width": null,
            "min_width": null,
            "border": null,
            "align_items": null,
            "bottom": null,
            "_model_module": "@jupyter-widgets/base",
            "top": null,
            "grid_column": null,
            "overflow_y": null,
            "overflow_x": null,
            "grid_auto_flow": null,
            "grid_area": null,
            "grid_template_columns": null,
            "flex": null,
            "_model_name": "LayoutModel",
            "justify_items": null,
            "grid_row": null,
            "max_height": null,
            "align_content": null,
            "visibility": null,
            "align_self": null,
            "height": null,
            "min_height": null,
            "padding": null,
            "grid_auto_rows": null,
            "grid_gap": null,
            "max_width": null,
            "order": null,
            "_view_module_version": "1.2.0",
            "grid_template_areas": null,
            "object_position": null,
            "object_fit": null,
            "grid_auto_columns": null,
            "margin": null,
            "display": null,
            "left": null
          }
        },
        "d05462cf20be4650b19142d988e968ba": {
          "model_module": "@jupyter-widgets/controls",
          "model_name": "VBoxModel",
          "state": {
            "_view_name": "VBoxView",
            "_dom_classes": [
              "widget-interact"
            ],
            "_model_name": "VBoxModel",
            "_view_module": "@jupyter-widgets/controls",
            "_model_module_version": "1.5.0",
            "_view_count": null,
            "_view_module_version": "1.5.0",
            "box_style": "",
            "layout": "IPY_MODEL_0d7aedfed8a64b508c99233ee5544c5f",
            "_model_module": "@jupyter-widgets/controls",
            "children": [
              "IPY_MODEL_18c5ca6ca37b4a4ea42e592bbc298742",
              "IPY_MODEL_0097b5caf82f4a96b3f561a2afd08018",
              "IPY_MODEL_c1ef713bd8a5400abeca48e77d0539af",
              "IPY_MODEL_17336c5b47704736bceb9e2e8ee053ce"
            ]
          }
        },
        "0d7aedfed8a64b508c99233ee5544c5f": {
          "model_module": "@jupyter-widgets/base",
          "model_name": "LayoutModel",
          "state": {
            "_view_name": "LayoutView",
            "grid_template_rows": null,
            "right": null,
            "justify_content": null,
            "_view_module": "@jupyter-widgets/base",
            "overflow": null,
            "_model_module_version": "1.2.0",
            "_view_count": null,
            "flex_flow": null,
            "width": null,
            "min_width": null,
            "border": null,
            "align_items": null,
            "bottom": null,
            "_model_module": "@jupyter-widgets/base",
            "top": null,
            "grid_column": null,
            "overflow_y": null,
            "overflow_x": null,
            "grid_auto_flow": null,
            "grid_area": null,
            "grid_template_columns": null,
            "flex": null,
            "_model_name": "LayoutModel",
            "justify_items": null,
            "grid_row": null,
            "max_height": null,
            "align_content": null,
            "visibility": null,
            "align_self": null,
            "height": null,
            "min_height": null,
            "padding": null,
            "grid_auto_rows": null,
            "grid_gap": null,
            "max_width": null,
            "order": null,
            "_view_module_version": "1.2.0",
            "grid_template_areas": null,
            "object_position": null,
            "object_fit": null,
            "grid_auto_columns": null,
            "margin": null,
            "display": null,
            "left": null
          }
        },
        "18c5ca6ca37b4a4ea42e592bbc298742": {
          "model_module": "@jupyter-widgets/controls",
          "model_name": "DropdownModel",
          "state": {
            "_options_labels": [
              "N1",
              "N2"
            ],
            "_view_name": "DropdownView",
            "style": "IPY_MODEL_06c528afb03547ab876f923198319eeb",
            "_dom_classes": [],
            "description": "N",
            "_model_name": "DropdownModel",
            "index": 1,
            "_view_module": "@jupyter-widgets/controls",
            "_model_module_version": "1.5.0",
            "_view_count": null,
            "disabled": false,
            "_view_module_version": "1.5.0",
            "description_tooltip": null,
            "_model_module": "@jupyter-widgets/controls",
            "layout": "IPY_MODEL_91ef9fdb7d37480f8f9c96d042810313"
          }
        },
        "0097b5caf82f4a96b3f561a2afd08018": {
          "model_module": "@jupyter-widgets/controls",
          "model_name": "TextModel",
          "state": {
            "_view_name": "TextView",
            "style": "IPY_MODEL_5b46e6cbcddf4d49a23883d126d03e46",
            "_dom_classes": [],
            "description": "s",
            "_model_name": "TextModel",
            "placeholder": "​",
            "_view_module": "@jupyter-widgets/controls",
            "_model_module_version": "1.5.0",
            "value": "10100101",
            "_view_count": null,
            "disabled": false,
            "_view_module_version": "1.5.0",
            "continuous_update": true,
            "description_tooltip": null,
            "_model_module": "@jupyter-widgets/controls",
            "layout": "IPY_MODEL_66451f3dae1842d0b271f231a4c82d6c"
          }
        },
        "c1ef713bd8a5400abeca48e77d0539af": {
          "model_module": "@jupyter-widgets/controls",
          "model_name": "IntSliderModel",
          "state": {
            "_view_name": "IntSliderView",
            "style": "IPY_MODEL_ced82ef00a604cf8b94097b17afa55f4",
            "_dom_classes": [],
            "description": "n",
            "step": 1,
            "_model_name": "IntSliderModel",
            "orientation": "horizontal",
            "max": 32,
            "_view_module": "@jupyter-widgets/controls",
            "_model_module_version": "1.5.0",
            "value": 16,
            "_view_count": null,
            "disabled": false,
            "_view_module_version": "1.5.0",
            "min": 0,
            "continuous_update": true,
            "readout_format": "d",
            "description_tooltip": null,
            "readout": true,
            "_model_module": "@jupyter-widgets/controls",
            "layout": "IPY_MODEL_2fc26fa812544bd598bd627fc60601bf"
          }
        },
        "17336c5b47704736bceb9e2e8ee053ce": {
          "model_module": "@jupyter-widgets/output",
          "model_name": "OutputModel",
          "state": {
            "_view_name": "OutputView",
            "msg_id": "",
            "_dom_classes": [],
            "_model_name": "OutputModel",
            "outputs": [
              {
                "output_type": "stream",
                "metadata": {
                  "tags": []
                },
                "text": "string =  10100101\nStates reached =  {'S1', 'S0', 'I'}\nStates reached =  {'S0', 'S2', 'I'}\nStates reached =  {'S0', 'F', 'I', 'S1'}\nStates reached =  {'S0', 'S2', 'I'}\nStates reached =  {'S0', 'F', 'I'}\nStates reached =  {'S1', 'S0', 'I'}\nStates reached =  {'S0', 'S2', 'I'}\nStates reached =  {'S0', 'F', 'I', 'S1'}\n",
                "stream": "stdout"
              }
            ],
            "_view_module": "@jupyter-widgets/output",
            "_model_module_version": "1.0.0",
            "_view_count": null,
            "_view_module_version": "1.0.0",
            "layout": "IPY_MODEL_bb6d718ae48a4a01ad3c1012af743083",
            "_model_module": "@jupyter-widgets/output"
          }
        },
        "06c528afb03547ab876f923198319eeb": {
          "model_module": "@jupyter-widgets/controls",
          "model_name": "DescriptionStyleModel",
          "state": {
            "_view_name": "StyleView",
            "_model_name": "DescriptionStyleModel",
            "description_width": "",
            "_view_module": "@jupyter-widgets/base",
            "_model_module_version": "1.5.0",
            "_view_count": null,
            "_view_module_version": "1.2.0",
            "_model_module": "@jupyter-widgets/controls"
          }
        },
        "91ef9fdb7d37480f8f9c96d042810313": {
          "model_module": "@jupyter-widgets/base",
          "model_name": "LayoutModel",
          "state": {
            "_view_name": "LayoutView",
            "grid_template_rows": null,
            "right": null,
            "justify_content": null,
            "_view_module": "@jupyter-widgets/base",
            "overflow": null,
            "_model_module_version": "1.2.0",
            "_view_count": null,
            "flex_flow": null,
            "width": null,
            "min_width": null,
            "border": null,
            "align_items": null,
            "bottom": null,
            "_model_module": "@jupyter-widgets/base",
            "top": null,
            "grid_column": null,
            "overflow_y": null,
            "overflow_x": null,
            "grid_auto_flow": null,
            "grid_area": null,
            "grid_template_columns": null,
            "flex": null,
            "_model_name": "LayoutModel",
            "justify_items": null,
            "grid_row": null,
            "max_height": null,
            "align_content": null,
            "visibility": null,
            "align_self": null,
            "height": null,
            "min_height": null,
            "padding": null,
            "grid_auto_rows": null,
            "grid_gap": null,
            "max_width": null,
            "order": null,
            "_view_module_version": "1.2.0",
            "grid_template_areas": null,
            "object_position": null,
            "object_fit": null,
            "grid_auto_columns": null,
            "margin": null,
            "display": null,
            "left": null
          }
        },
        "5b46e6cbcddf4d49a23883d126d03e46": {
          "model_module": "@jupyter-widgets/controls",
          "model_name": "DescriptionStyleModel",
          "state": {
            "_view_name": "StyleView",
            "_model_name": "DescriptionStyleModel",
            "description_width": "",
            "_view_module": "@jupyter-widgets/base",
            "_model_module_version": "1.5.0",
            "_view_count": null,
            "_view_module_version": "1.2.0",
            "_model_module": "@jupyter-widgets/controls"
          }
        },
        "66451f3dae1842d0b271f231a4c82d6c": {
          "model_module": "@jupyter-widgets/base",
          "model_name": "LayoutModel",
          "state": {
            "_view_name": "LayoutView",
            "grid_template_rows": null,
            "right": null,
            "justify_content": null,
            "_view_module": "@jupyter-widgets/base",
            "overflow": null,
            "_model_module_version": "1.2.0",
            "_view_count": null,
            "flex_flow": null,
            "width": null,
            "min_width": null,
            "border": null,
            "align_items": null,
            "bottom": null,
            "_model_module": "@jupyter-widgets/base",
            "top": null,
            "grid_column": null,
            "overflow_y": null,
            "overflow_x": null,
            "grid_auto_flow": null,
            "grid_area": null,
            "grid_template_columns": null,
            "flex": null,
            "_model_name": "LayoutModel",
            "justify_items": null,
            "grid_row": null,
            "max_height": null,
            "align_content": null,
            "visibility": null,
            "align_self": null,
            "height": null,
            "min_height": null,
            "padding": null,
            "grid_auto_rows": null,
            "grid_gap": null,
            "max_width": null,
            "order": null,
            "_view_module_version": "1.2.0",
            "grid_template_areas": null,
            "object_position": null,
            "object_fit": null,
            "grid_auto_columns": null,
            "margin": null,
            "display": null,
            "left": null
          }
        },
        "ced82ef00a604cf8b94097b17afa55f4": {
          "model_module": "@jupyter-widgets/controls",
          "model_name": "SliderStyleModel",
          "state": {
            "_view_name": "StyleView",
            "handle_color": null,
            "_model_name": "SliderStyleModel",
            "description_width": "",
            "_view_module": "@jupyter-widgets/base",
            "_model_module_version": "1.5.0",
            "_view_count": null,
            "_view_module_version": "1.2.0",
            "_model_module": "@jupyter-widgets/controls"
          }
        },
        "2fc26fa812544bd598bd627fc60601bf": {
          "model_module": "@jupyter-widgets/base",
          "model_name": "LayoutModel",
          "state": {
            "_view_name": "LayoutView",
            "grid_template_rows": null,
            "right": null,
            "justify_content": null,
            "_view_module": "@jupyter-widgets/base",
            "overflow": null,
            "_model_module_version": "1.2.0",
            "_view_count": null,
            "flex_flow": null,
            "width": null,
            "min_width": null,
            "border": null,
            "align_items": null,
            "bottom": null,
            "_model_module": "@jupyter-widgets/base",
            "top": null,
            "grid_column": null,
            "overflow_y": null,
            "overflow_x": null,
            "grid_auto_flow": null,
            "grid_area": null,
            "grid_template_columns": null,
            "flex": null,
            "_model_name": "LayoutModel",
            "justify_items": null,
            "grid_row": null,
            "max_height": null,
            "align_content": null,
            "visibility": null,
            "align_self": null,
            "height": null,
            "min_height": null,
            "padding": null,
            "grid_auto_rows": null,
            "grid_gap": null,
            "max_width": null,
            "order": null,
            "_view_module_version": "1.2.0",
            "grid_template_areas": null,
            "object_position": null,
            "object_fit": null,
            "grid_auto_columns": null,
            "margin": null,
            "display": null,
            "left": null
          }
        },
        "bb6d718ae48a4a01ad3c1012af743083": {
          "model_module": "@jupyter-widgets/base",
          "model_name": "LayoutModel",
          "state": {
            "_view_name": "LayoutView",
            "grid_template_rows": null,
            "right": null,
            "justify_content": null,
            "_view_module": "@jupyter-widgets/base",
            "overflow": null,
            "_model_module_version": "1.2.0",
            "_view_count": null,
            "flex_flow": null,
            "width": null,
            "min_width": null,
            "border": null,
            "align_items": null,
            "bottom": null,
            "_model_module": "@jupyter-widgets/base",
            "top": null,
            "grid_column": null,
            "overflow_y": null,
            "overflow_x": null,
            "grid_auto_flow": null,
            "grid_area": null,
            "grid_template_columns": null,
            "flex": null,
            "_model_name": "LayoutModel",
            "justify_items": null,
            "grid_row": null,
            "max_height": null,
            "align_content": null,
            "visibility": null,
            "align_self": null,
            "height": null,
            "min_height": null,
            "padding": null,
            "grid_auto_rows": null,
            "grid_gap": null,
            "max_width": null,
            "order": null,
            "_view_module_version": "1.2.0",
            "grid_template_areas": null,
            "object_position": null,
            "object_fit": null,
            "grid_auto_columns": null,
            "margin": null,
            "display": null,
            "left": null
          }
        }
      }
    },
    "colab": {
      "name": "04_1_NFA_Basics.ipynb",
      "provenance": [],
      "include_colab_link": true
    }
  },
  "cells": [
    {
      "cell_type": "markdown",
      "metadata": {
        "id": "view-in-github",
        "colab_type": "text"
      },
      "source": [
        "<a href=\"https://colab.research.google.com/github/croesusking/cse480-notebooks/blob/master/04_1_NFA_Basics.ipynb\" target=\"_parent\"><img src=\"https://colab.research.google.com/assets/colab-badge.svg\" alt=\"Open In Colab\"/></a>"
      ]
    },
    {
      "cell_type": "markdown",
      "metadata": {
        "run_control": {
          "frozen": false,
          "read_only": false
        },
        "id": "7NShmOJHU_-G"
      },
      "source": [
        "# NFA Basics\n",
        "\n",
        "You may wish to watch Ganesh's lecture on NFA a little, then play with the\n",
        "code below, and then finish watching."
      ]
    },
    {
      "cell_type": "code",
      "metadata": {
        "run_control": {
          "frozen": false,
          "read_only": false
        },
        "id": "KVkHOTGzU_-M"
      },
      "source": [
        "# This Youtube video walks through this notebook\n",
        "from IPython.display import YouTubeVideo\n",
        "YouTubeVideo('xjFtLF95uBc')"
      ],
      "execution_count": null,
      "outputs": []
    },
    {
      "cell_type": "code",
      "metadata": {
        "run_control": {
          "frozen": false,
          "read_only": false
        },
        "id": "gn5iLCu2U_-M",
        "colab": {
          "base_uri": "https://localhost:8080/"
        },
        "outputId": "8896cdb3-806b-43f8-d462-4033670c3cc2"
      },
      "source": [
        "#~~~~~~~~~~~~~~~~~~~~~~~~~~~~~~~~~~~~~~~~~~~~~~~~~~~~~~~\n",
        "import sys\n",
        "\n",
        "# -- Detect if in Own Install or in Colab\n",
        "try:\n",
        "    import google.colab\n",
        "    OWN_INSTALL = False\n",
        "except:\n",
        "    OWN_INSTALL = True\n",
        "    \n",
        "if OWN_INSTALL:\n",
        "    \n",
        "  #---- Leave these definitions ON if running on laptop\n",
        "  #---- Else turn OFF by putting them between ''' ... '''\n",
        "\n",
        "  sys.path[0:0] = ['../../../../..',  '../../../../../3rdparty',  \n",
        "                   '../../../..',  '../../../../3rdparty',  \n",
        "                   '../../..',     '../../../3rdparty', \n",
        "                   '../..',        '../../3rdparty',\n",
        "                   '..',           '../3rdparty' ]\n",
        "\n",
        "else: # In colab\n",
        "  ! if [ ! -d Jove ]; then git clone https://github.com/ganeshutah/Jove Jove; fi\n",
        "  sys.path.append('./Jove')\n",
        "  sys.path.append('./Jove/jove')\n",
        "\n",
        "# -- common imports --\n",
        "from jove.DotBashers import *\n",
        "from jove.Def_md2mc  import *\n",
        "from jove.Def_NFA    import *\n",
        "from jove.Def_DFA    import *\n",
        "from jove.AnimateNFA import *\n",
        "#~~~~~~~~~~~~~~~~~~~~~~~~~~~~~~~~~~~~~~~~~~~~~~~~~~~~~~~"
      ],
      "execution_count": null,
      "outputs": [
        {
          "output_type": "stream",
          "text": [
            "Cloning into 'Jove'...\n",
            "remote: Enumerating objects: 4634, done.\u001b[K\n",
            "remote: Total 4634 (delta 0), reused 0 (delta 0), pack-reused 4634\u001b[K\n",
            "Receiving objects: 100% (4634/4634), 7.38 MiB | 11.80 MiB/s, done.\n",
            "Resolving deltas: 100% (3005/3005), done.\n",
            "You may use any of these help commands:\n",
            "help(ResetStNum)\n",
            "help(NxtStateStr)\n",
            "\n",
            "You may use any of these help commands:\n",
            "help(md2mc)\n",
            ".. and if you want to dig more, then ..\n",
            "help(default_line_attr)\n",
            "help(length_ok_input_items)\n",
            "help(union_line_attr_list_fld)\n",
            "help(extend_rsltdict)\n",
            "help(form_delta)\n",
            "help(get_machine_components)\n",
            "\n",
            "You may use any of these help commands:\n",
            "help(mkp_dfa)\n",
            "help(mk_dfa)\n",
            "help(totalize_dfa)\n",
            "help(addtosigma_delta)\n",
            "help(step_dfa)\n",
            "help(run_dfa)\n",
            "help(accepts_dfa)\n",
            "help(comp_dfa)\n",
            "help(union_dfa)\n",
            "help(intersect_dfa)\n",
            "help(pruneUnreach)\n",
            "help(iso_dfa)\n",
            "help(langeq_dfa)\n",
            "help(same_status)\n",
            "help(h_langeq_dfa)\n",
            "help(fixptDist)\n",
            "help(min_dfa)\n",
            "help(pairFR)\n",
            "help(state_combos)\n",
            "help(sepFinNonFin)\n",
            "help(bash_eql_classes)\n",
            "help(listminus)\n",
            "help(bash_1)\n",
            "help(mk_rep_eqc)\n",
            "help(F_of)\n",
            "help(rep_of_s)\n",
            "help(q0_of)\n",
            "help(Delta_of)\n",
            "help(mk_state_eqc_name)\n",
            "\n",
            "You may use any of these help commands:\n",
            "help(mk_nfa)\n",
            "help(totalize_nfa)\n",
            "help(step_nfa)\n",
            "help(run_nfa)\n",
            "help(ec_step_nfa)\n",
            "help(Eclosure)\n",
            "help(Echelp)\n",
            "help(accepts_nfa)\n",
            "help(nfa2dfa)\n",
            "help(n2d)\n",
            "help(inSets)\n",
            "help(rev_dfa)\n",
            "help(min_dfa_brz)\n",
            "\n",
            " \"help(AnimateNFA)\" gives you info on how to use animations with NFA \n"
          ],
          "name": "stdout"
        }
      ]
    },
    {
      "cell_type": "markdown",
      "metadata": {
        "id": "ZdeiOYY0U_-N"
      },
      "source": [
        "# This NFA checks whether a string has \"01\" in it."
      ]
    },
    {
      "cell_type": "code",
      "metadata": {
        "id": "gm9r-uSNU_-N",
        "colab": {
          "base_uri": "https://localhost:8080/"
        },
        "outputId": "3e44fd07-5286-4870-f15c-e3db403e0c21"
      },
      "source": [
        "nfahas01 = md2mc('''\n",
        "NFA \n",
        "I : 0 | 1 -> I\n",
        "I : '' -> A\n",
        "A : 0  -> B\n",
        "B : 1  -> C\n",
        "C : 0 | 1 -> C\n",
        "C : '' -> F\n",
        "''')"
      ],
      "execution_count": null,
      "outputs": [
        {
          "output_type": "stream",
          "text": [
            "Generating LALR tables\n"
          ],
          "name": "stderr"
        }
      ]
    },
    {
      "cell_type": "markdown",
      "metadata": {
        "id": "TqvUF_IeU_-N"
      },
      "source": [
        "## This example is highly worth studying via animations.\n",
        "\n",
        "Put it in animate mode, and then single-step to see the EClosure of states"
      ]
    },
    {
      "cell_type": "code",
      "metadata": {
        "id": "MxlmsfeKU_-O",
        "colab": {
          "base_uri": "https://localhost:8080/",
          "height": 304,
          "referenced_widgets": [
            "6e691fa5a4b44342bbb1da04522155bd",
            "14e72e875594491ea77a4089f125c806",
            "1fde93842a5e4c32a2f6a25a59e4a6fe",
            "f3e81ae9188c4d1c8252d60953eb2b9a",
            "96c80ccff7744b7e8711ed352cb10352",
            "b5a64ffd196f4e02a54d4e0f4fc8d32b",
            "20068b2fed7f4647ab196fe2a1f5c93e",
            "32a62763029f4a6784ab81ac26c38cfc",
            "1b502d2e2c7d418ab54169e1e6daac6b",
            "c804881daf11452280b0ecd241f0ee6d",
            "540a5cb0630542c6abdb2c509b87a29d",
            "d6d8bbf67efb4be192a7aff7f9692cac",
            "a2ecfb01be844be6a4adf1eb523dc444",
            "cc184ad0ed5b496395ec91c345058153",
            "97b6f20a05fc4cf8ad309b1578912763",
            "f07b3a8bd4054e04ab195d20134a5efb",
            "c084973134c143639baa09cbae54f97f",
            "58a26e3c88ac4a36b165eab408fb51a7",
            "53954ae83c074ce9bfe7dc5ce60277f8",
            "c3b0a020f4104a0fbddee9b22406af9c",
            "077ddfe91236463fbb147946b3ddb207",
            "3e748e80a25b4c8ab78b9feedbf9e661",
            "0910568c0fb143668407db36c80112b3",
            "f5c175d61f3340edbc0f7159c0d91e84",
            "109f24ddbee443b7bccfd501985ae12c",
            "f887aa7290034417b9f912267dec58a6",
            "7e450913d8e1467d8f4fd7c52c12c6ec",
            "84e60a943baa4dfeba0c4b7c99322373"
          ]
        },
        "outputId": "8bb619ee-3a95-47e2-edca-9935e801756d"
      },
      "source": [
        "AnimateNFA(nfahas01, FuseEdges=False)\n",
        "display(HTML('<link rel=\\\"stylesheet\\\" href=\\\"//stackpath.bootstrapcdn.com/font-awesome/4.7.0/css/font-awesome.min.css\\\"/>'))"
      ],
      "execution_count": null,
      "outputs": [
        {
          "output_type": "display_data",
          "data": {
            "application/vnd.jupyter.widget-view+json": {
              "model_id": "6e691fa5a4b44342bbb1da04522155bd",
              "version_minor": 0,
              "version_major": 2
            },
            "text/plain": [
              "VBox(children=(HBox(children=(Text(value='', description='Input:', layout=Layout(width='500px'), placeholder='…"
            ]
          },
          "metadata": {
            "tags": []
          }
        },
        {
          "output_type": "display_data",
          "data": {
            "text/html": [
              "<link rel=\"stylesheet\" href=\"//stackpath.bootstrapcdn.com/font-awesome/4.7.0/css/font-awesome.min.css\"/>"
            ],
            "text/plain": [
              "<IPython.core.display.HTML object>"
            ]
          },
          "metadata": {
            "tags": []
          }
        }
      ]
    },
    {
      "cell_type": "markdown",
      "metadata": {
        "id": "lEbiSS7SU_-O"
      },
      "source": [
        "# This is an example from Figure 7.7 of the book.\n",
        "\n",
        "Presented in two different ways: one with a single initial state, and \n",
        "another with multiple initial states. Fig77 is the single initial state version, and\n",
        "Fig77a is with multiple initial states."
      ]
    },
    {
      "cell_type": "code",
      "metadata": {
        "id": "pdfEjKrkU_-O"
      },
      "source": [
        "Fig77 = md2mc('''NFA\n",
        "I : '' -> A, G\n",
        "A : '' -> B, C\n",
        "G : 1  -> F\n",
        "B : 1  -> D\n",
        "C : 0  -> E\n",
        "D : '' -> A, G\n",
        "E : '' -> A, G\n",
        "''')"
      ],
      "execution_count": null,
      "outputs": []
    },
    {
      "cell_type": "code",
      "metadata": {
        "scrolled": true,
        "id": "UfnpWPGxU_-P",
        "colab": {
          "base_uri": "https://localhost:8080/",
          "height": 398,
          "referenced_widgets": [
            "0553b0909d454d2a95e408273f011f43",
            "9e73ec6674ec461a8bac1d602e49c06d",
            "e51605e12bd24ed68275c1a085266566",
            "c027895bc511416fb6c5b3b38f5c1995",
            "d2565c38af39475fb7205db30f9660a0",
            "1412d691536345b0b06b8654be43670e",
            "99b6ddd322734877a51dfc677d9925ca",
            "bd2a425ebd824cd9a4feb6ac0b3384c4",
            "f5017edf30f147a0a03c5046bc72ac55",
            "2c771ce24a4945ad8865e7bb7933bb2d",
            "474e237ac8654e83958d5cc7262708b5",
            "80cfe6f534a04307b4f7b5e2fd715192",
            "b26550a06e95498e991c1633e111f41f",
            "159b9136e0f2482386708f3c7a197795",
            "321ef210ae9740b19907aed1492dad12",
            "0bd0ae93b57e46e19e7e338ca03dab76",
            "10ef3ff4c4164b1eb851ca4255b2c456",
            "315ff1cc78c84ce1ad32bf5bbad26fd6",
            "5a6e5506cccc4700a800b6d01ee085c2",
            "27e073ccfb6e47379729e94d58559670",
            "116421cf6d94476fbd2b9e261f38aa66",
            "866d56a9daa249fdb837edddc964e0fd",
            "2bffc954e688418a838044af00349f70",
            "ec40f711241148c9bff48523b4245d8e",
            "85d3cf9bbeb842aa9c0991fc478dd08a",
            "0f0bb3b7ab1249aabd24c6e6fcc4b2cd",
            "ec76eeec14dd4ab8925a38650053ccc9",
            "75d0da15673542f89c2a0cba53c69271"
          ]
        },
        "outputId": "b0e9556d-3f47-4815-fa62-d951d16b2759"
      },
      "source": [
        "AnimateNFA(Fig77, FuseEdges=False)\n",
        "display(HTML('<link rel=\\\"stylesheet\\\" href=\\\"//stackpath.bootstrapcdn.com/font-awesome/4.7.0/css/font-awesome.min.css\\\"/>'))"
      ],
      "execution_count": null,
      "outputs": [
        {
          "output_type": "display_data",
          "data": {
            "application/vnd.jupyter.widget-view+json": {
              "model_id": "0553b0909d454d2a95e408273f011f43",
              "version_minor": 0,
              "version_major": 2
            },
            "text/plain": [
              "VBox(children=(HBox(children=(Text(value='', description='Input:', layout=Layout(width='500px'), placeholder='…"
            ]
          },
          "metadata": {
            "tags": []
          }
        },
        {
          "output_type": "display_data",
          "data": {
            "text/html": [
              "<link rel=\"stylesheet\" href=\"//stackpath.bootstrapcdn.com/font-awesome/4.7.0/css/font-awesome.min.css\"/>"
            ],
            "text/plain": [
              "<IPython.core.display.HTML object>"
            ]
          },
          "metadata": {
            "tags": []
          }
        }
      ]
    },
    {
      "cell_type": "code",
      "metadata": {
        "id": "l2DwACPBU_-P"
      },
      "source": [
        "Fig77a = md2mc('''NFA\n",
        "IA : '' -> B, C\n",
        "IG : 1  -> F\n",
        "B : 1  -> D\n",
        "C : 0  -> E\n",
        "D : '' -> IA, IG\n",
        "E : '' -> IA, IG\n",
        "''')"
      ],
      "execution_count": null,
      "outputs": []
    },
    {
      "cell_type": "code",
      "metadata": {
        "id": "0tHUARb4U_-P",
        "colab": {
          "base_uri": "https://localhost:8080/",
          "height": 325
        },
        "outputId": "01d836d7-b4ca-47bf-a826-e4cde566679b"
      },
      "source": [
        "dotObj_nfa(Fig77a)"
      ],
      "execution_count": null,
      "outputs": [
        {
          "output_type": "execute_result",
          "data": {
            "text/plain": [
              "<graphviz.dot.Digraph at 0x7f0b3e085780>"
            ],
            "image/svg+xml": "<?xml version=\"1.0\" encoding=\"UTF-8\" standalone=\"no\"?>\n<!DOCTYPE svg PUBLIC \"-//W3C//DTD SVG 1.1//EN\"\n \"http://www.w3.org/Graphics/SVG/1.1/DTD/svg11.dtd\">\n<!-- Generated by graphviz version 2.40.1 (20161225.0304)\n -->\n<!-- Title: %3 Pages: 1 -->\n<svg width=\"484pt\" height=\"228pt\"\n viewBox=\"0.00 0.00 484.19 228.00\" xmlns=\"http://www.w3.org/2000/svg\" xmlns:xlink=\"http://www.w3.org/1999/xlink\">\n<g id=\"graph0\" class=\"graph\" transform=\"scale(1 1) rotate(0) translate(4 224)\">\n<title>%3</title>\n<polygon fill=\"#ffffff\" stroke=\"transparent\" points=\"-4,4 -4,-224 480.1926,-224 480.1926,4 -4,4\"/>\n<!-- EMPTY -->\n<g id=\"node1\" class=\"node\">\n<title>EMPTY</title>\n</g>\n<!-- IG -->\n<g id=\"node3\" class=\"node\">\n<title>IG</title>\n<ellipse fill=\"none\" stroke=\"#000000\" cx=\"363.3945\" cy=\"-158\" rx=\"20.5982\" ry=\"20.5982\"/>\n<text text-anchor=\"middle\" x=\"363.3945\" y=\"-154.3\" font-family=\"Times,serif\" font-size=\"14.00\" fill=\"#000000\">IG</text>\n</g>\n<!-- EMPTY&#45;&gt;IG -->\n<g id=\"edge1\" class=\"edge\">\n<title>EMPTY&#45;&gt;IG</title>\n<path fill=\"none\" stroke=\"#000000\" d=\"M45.4576,-189.2458C61.5641,-203.1772 86.2936,-220 111.7982,-220 111.7982,-220 111.7982,-220 279.5963,-220 305.9619,-220 329.4579,-199.9203 344.8116,-182.6154\"/>\n<polygon fill=\"#000000\" stroke=\"#000000\" points=\"347.5095,-184.8452 351.2741,-174.9418 342.1553,-180.3361 347.5095,-184.8452\"/>\n</g>\n<!-- IA -->\n<g id=\"node4\" class=\"node\">\n<title>IA</title>\n<ellipse fill=\"none\" stroke=\"#000000\" cx=\"111.7982\" cy=\"-123\" rx=\"20.5982\" ry=\"20.5982\"/>\n<text text-anchor=\"middle\" x=\"111.7982\" y=\"-119.3\" font-family=\"Times,serif\" font-size=\"14.00\" fill=\"#000000\">IA</text>\n</g>\n<!-- EMPTY&#45;&gt;IA -->\n<g id=\"edge2\" class=\"edge\">\n<title>EMPTY&#45;&gt;IA</title>\n<path fill=\"none\" stroke=\"#000000\" d=\"M54.2974,-155.5483C64.0571,-150.0238 75.0448,-143.8042 84.7808,-138.2932\"/>\n<polygon fill=\"#000000\" stroke=\"#000000\" points=\"86.6723,-141.2444 93.6507,-133.2724 83.2241,-135.1526 86.6723,-141.2444\"/>\n</g>\n<!-- E -->\n<g id=\"node2\" class=\"node\">\n<title>E</title>\n<ellipse fill=\"none\" stroke=\"#000000\" cx=\"279.5963\" cy=\"-72\" rx=\"18\" ry=\"18\"/>\n<text text-anchor=\"middle\" x=\"279.5963\" y=\"-68.3\" font-family=\"Times,serif\" font-size=\"14.00\" fill=\"#000000\">E</text>\n</g>\n<!-- E&#45;&gt;IG -->\n<g id=\"edge10\" class=\"edge\">\n<title>E&#45;&gt;IG</title>\n<path fill=\"none\" stroke=\"#000000\" d=\"M292.3234,-85.0615C305.3867,-98.468 325.9605,-119.5824 341.6178,-135.6512\"/>\n<polygon fill=\"#000000\" stroke=\"#000000\" points=\"339.3692,-138.3587 348.8548,-143.0783 344.3827,-133.4735 339.3692,-138.3587\"/>\n<text text-anchor=\"middle\" x=\"320.0963\" y=\"-121.8\" font-family=\"Times,serif\" font-size=\"14.00\" fill=\"#000000\">&#39;&#39; </text>\n</g>\n<!-- E&#45;&gt;IA -->\n<g id=\"edge11\" class=\"edge\">\n<title>E&#45;&gt;IA</title>\n<path fill=\"none\" stroke=\"#000000\" d=\"M262.2489,-77.2725C233.6893,-85.9528 176.4484,-103.3504 141.3903,-114.0059\"/>\n<polygon fill=\"#000000\" stroke=\"#000000\" points=\"140.2557,-110.6925 131.7057,-116.9494 142.2914,-117.39 140.2557,-110.6925\"/>\n<text text-anchor=\"middle\" x=\"195.5963\" y=\"-106.8\" font-family=\"Times,serif\" font-size=\"14.00\" fill=\"#000000\">&#39;&#39; </text>\n</g>\n<!-- F -->\n<g id=\"node8\" class=\"node\">\n<title>F</title>\n<ellipse fill=\"none\" stroke=\"#000000\" cx=\"454.1926\" cy=\"-158\" rx=\"18\" ry=\"18\"/>\n<ellipse fill=\"none\" stroke=\"#000000\" cx=\"454.1926\" cy=\"-158\" rx=\"22\" ry=\"22\"/>\n<text text-anchor=\"middle\" x=\"454.1926\" y=\"-154.3\" font-family=\"Times,serif\" font-size=\"14.00\" fill=\"#000000\">F</text>\n</g>\n<!-- IG&#45;&gt;F -->\n<g id=\"edge5\" class=\"edge\">\n<title>IG&#45;&gt;F</title>\n<path fill=\"none\" stroke=\"#000000\" d=\"M384.4536,-158C395.5861,-158 409.4908,-158 421.9489,-158\"/>\n<polygon fill=\"#000000\" stroke=\"#000000\" points=\"421.9809,-161.5001 431.9809,-158 421.9809,-154.5001 421.9809,-161.5001\"/>\n<text text-anchor=\"middle\" x=\"408.1926\" y=\"-161.8\" font-family=\"Times,serif\" font-size=\"14.00\" fill=\"#000000\">1 </text>\n</g>\n<!-- B -->\n<g id=\"node5\" class=\"node\">\n<title>B</title>\n<ellipse fill=\"none\" stroke=\"#000000\" cx=\"195.5963\" cy=\"-174\" rx=\"18\" ry=\"18\"/>\n<text text-anchor=\"middle\" x=\"195.5963\" y=\"-170.3\" font-family=\"Times,serif\" font-size=\"14.00\" fill=\"#000000\">B</text>\n</g>\n<!-- IA&#45;&gt;B -->\n<g id=\"edge4\" class=\"edge\">\n<title>IA&#45;&gt;B</title>\n<path fill=\"none\" stroke=\"#000000\" d=\"M129.5696,-133.8158C141.7486,-141.228 158.0534,-151.1512 171.4129,-159.2818\"/>\n<polygon fill=\"#000000\" stroke=\"#000000\" points=\"169.7424,-162.3624 180.1043,-164.5715 173.3816,-156.3827 169.7424,-162.3624\"/>\n<text text-anchor=\"middle\" x=\"155.0963\" y=\"-155.8\" font-family=\"Times,serif\" font-size=\"14.00\" fill=\"#000000\">&#39;&#39; </text>\n</g>\n<!-- C -->\n<g id=\"node6\" class=\"node\">\n<title>C</title>\n<ellipse fill=\"none\" stroke=\"#000000\" cx=\"195.5963\" cy=\"-18\" rx=\"18\" ry=\"18\"/>\n<text text-anchor=\"middle\" x=\"195.5963\" y=\"-14.3\" font-family=\"Times,serif\" font-size=\"14.00\" fill=\"#000000\">C</text>\n</g>\n<!-- IA&#45;&gt;C -->\n<g id=\"edge3\" class=\"edge\">\n<title>IA&#45;&gt;C</title>\n<path fill=\"none\" stroke=\"#000000\" d=\"M117.7043,-102.902C123.678,-85.3816 134.3666,-60.1571 150.5963,-43 155.9165,-37.3758 162.7887,-32.6953 169.5535,-28.9639\"/>\n<polygon fill=\"#000000\" stroke=\"#000000\" points=\"171.1756,-32.066 178.5556,-24.4642 168.0459,-25.8046 171.1756,-32.066\"/>\n<text text-anchor=\"middle\" x=\"155.0963\" y=\"-46.8\" font-family=\"Times,serif\" font-size=\"14.00\" fill=\"#000000\">&#39;&#39; </text>\n</g>\n<!-- D -->\n<g id=\"node7\" class=\"node\">\n<title>D</title>\n<ellipse fill=\"none\" stroke=\"#000000\" cx=\"279.5963\" cy=\"-158\" rx=\"18\" ry=\"18\"/>\n<text text-anchor=\"middle\" x=\"279.5963\" y=\"-154.3\" font-family=\"Times,serif\" font-size=\"14.00\" fill=\"#000000\">D</text>\n</g>\n<!-- B&#45;&gt;D -->\n<g id=\"edge6\" class=\"edge\">\n<title>B&#45;&gt;D</title>\n<path fill=\"none\" stroke=\"#000000\" d=\"M213.4105,-170.6068C224.5473,-168.4855 239.1257,-165.7087 251.765,-163.3012\"/>\n<polygon fill=\"#000000\" stroke=\"#000000\" points=\"252.6393,-166.6977 261.8077,-161.3883 251.3294,-159.8213 252.6393,-166.6977\"/>\n<text text-anchor=\"middle\" x=\"237.5963\" y=\"-170.8\" font-family=\"Times,serif\" font-size=\"14.00\" fill=\"#000000\">1 </text>\n</g>\n<!-- C&#45;&gt;E -->\n<g id=\"edge7\" class=\"edge\">\n<title>C&#45;&gt;E</title>\n<path fill=\"none\" stroke=\"#000000\" d=\"M212.0472,-25.5632C221.5308,-30.1677 233.5308,-36.4177 243.5963,-43 248.4661,-46.1846 253.4649,-49.8913 258.1291,-53.569\"/>\n<polygon fill=\"#000000\" stroke=\"#000000\" points=\"256.1013,-56.4316 266.0632,-60.0385 260.5249,-51.0065 256.1013,-56.4316\"/>\n<text text-anchor=\"middle\" x=\"237.5963\" y=\"-46.8\" font-family=\"Times,serif\" font-size=\"14.00\" fill=\"#000000\">0 </text>\n</g>\n<!-- D&#45;&gt;IG -->\n<g id=\"edge8\" class=\"edge\">\n<title>D&#45;&gt;IG</title>\n<path fill=\"none\" stroke=\"#000000\" d=\"M297.7793,-158C307.8773,-158 320.7158,-158 332.3538,-158\"/>\n<polygon fill=\"#000000\" stroke=\"#000000\" points=\"332.5912,-161.5001 342.5912,-158 332.5911,-154.5001 332.5912,-161.5001\"/>\n<text text-anchor=\"middle\" x=\"320.0963\" y=\"-161.8\" font-family=\"Times,serif\" font-size=\"14.00\" fill=\"#000000\">&#39;&#39; </text>\n</g>\n<!-- D&#45;&gt;IA -->\n<g id=\"edge9\" class=\"edge\">\n<title>D&#45;&gt;IA</title>\n<path fill=\"none\" stroke=\"#000000\" d=\"M263.2044,-150.0113C250.1022,-144.0053 231.0962,-136.1293 213.5963,-132 190.323,-126.5083 163.3393,-124.3045 143.003,-123.4488\"/>\n<polygon fill=\"#000000\" stroke=\"#000000\" points=\"142.8535,-119.942 132.7425,-123.1068 142.6203,-126.9381 142.8535,-119.942\"/>\n<text text-anchor=\"middle\" x=\"195.5963\" y=\"-135.8\" font-family=\"Times,serif\" font-size=\"14.00\" fill=\"#000000\">&#39;&#39; </text>\n</g>\n</g>\n</svg>\n"
          },
          "metadata": {
            "tags": []
          },
          "execution_count": 8
        }
      ]
    },
    {
      "cell_type": "code",
      "metadata": {
        "id": "im2bWzjSU_-P",
        "colab": {
          "base_uri": "https://localhost:8080/",
          "height": 357
        },
        "outputId": "e315c259-e308-4729-852e-c27b31052632"
      },
      "source": [
        "dotObj_dfa(nfa2dfa(Fig77a, STATENAME_MAXSIZE=50), STATENAME_MAXSIZE=50)"
      ],
      "execution_count": null,
      "outputs": [
        {
          "output_type": "execute_result",
          "data": {
            "text/plain": [
              "<graphviz.dot.Digraph at 0x7f0b3dcd6390>"
            ],
            "image/svg+xml": "<?xml version=\"1.0\" encoding=\"UTF-8\" standalone=\"no\"?>\n<!DOCTYPE svg PUBLIC \"-//W3C//DTD SVG 1.1//EN\"\n \"http://www.w3.org/Graphics/SVG/1.1/DTD/svg11.dtd\">\n<!-- Generated by graphviz version 2.40.1 (20161225.0304)\n -->\n<!-- Title: %3 Pages: 1 -->\n<svg width=\"614pt\" height=\"252pt\"\n viewBox=\"0.00 0.00 613.76 252.09\" xmlns=\"http://www.w3.org/2000/svg\" xmlns:xlink=\"http://www.w3.org/1999/xlink\">\n<g id=\"graph0\" class=\"graph\" transform=\"scale(1 1) rotate(0) translate(4 248.0888)\">\n<title>%3</title>\n<polygon fill=\"#ffffff\" stroke=\"transparent\" points=\"-4,4 -4,-248.0888 609.7636,-248.0888 609.7636,4 -4,4\"/>\n<!-- EMPTY -->\n<g id=\"node1\" class=\"node\">\n<title>EMPTY</title>\n</g>\n<!-- B_C_IA_IG -->\n<g id=\"node3\" class=\"node\">\n<title>B_C_IA_IG</title>\n<ellipse fill=\"none\" stroke=\"#000000\" cx=\"148.8449\" cy=\"-57.8449\" rx=\"57.6901\" ry=\"57.6901\"/>\n<text text-anchor=\"middle\" x=\"148.8449\" y=\"-54.1449\" font-family=\"Times,serif\" font-size=\"14.00\" fill=\"#000000\">B_C_IA_IG</text>\n</g>\n<!-- EMPTY&#45;&gt;B_C_IA_IG -->\n<g id=\"edge1\" class=\"edge\">\n<title>EMPTY&#45;&gt;B_C_IA_IG</title>\n<path fill=\"none\" stroke=\"#000000\" d=\"M54.0413,-57.8449C62.0733,-57.8449 71.2574,-57.8449 80.6758,-57.8449\"/>\n<polygon fill=\"#000000\" stroke=\"#000000\" points=\"80.9444,-61.345 90.9444,-57.8449 80.9444,-54.345 80.9444,-61.345\"/>\n</g>\n<!-- B_C_E_IA_IG -->\n<g id=\"node2\" class=\"node\">\n<title>B_C_E_IA_IG</title>\n<ellipse fill=\"none\" stroke=\"#000000\" cx=\"322.9337\" cy=\"-142.8449\" rx=\"68.4888\" ry=\"68.4888\"/>\n<text text-anchor=\"middle\" x=\"322.9337\" y=\"-139.1449\" font-family=\"Times,serif\" font-size=\"14.00\" fill=\"#000000\">B_C_E_IA_IG</text>\n</g>\n<!-- B_C_E_IA_IG&#45;&gt;B_C_E_IA_IG -->\n<g id=\"edge4\" class=\"edge\">\n<title>B_C_E_IA_IG&#45;&gt;B_C_E_IA_IG</title>\n<path fill=\"none\" stroke=\"#000000\" d=\"M306.7618,-209.3807C308.9181,-221.0034 314.3087,-229.0888 322.9337,-229.0888 328.8634,-229.0888 333.2643,-225.2672 336.1365,-219.1019\"/>\n<polygon fill=\"#000000\" stroke=\"#000000\" points=\"339.5318,-219.967 339.1056,-209.3807 332.8371,-217.9222 339.5318,-219.967\"/>\n<text text-anchor=\"middle\" x=\"322.9337\" y=\"-232.8888\" font-family=\"Times,serif\" font-size=\"14.00\" fill=\"#000000\">0 </text>\n</g>\n<!-- B_C_D_F_IA_IG -->\n<g id=\"node4\" class=\"node\">\n<title>B_C_D_F_IA_IG</title>\n<ellipse fill=\"none\" stroke=\"#000000\" cx=\"522.4706\" cy=\"-104.8449\" rx=\"79.0964\" ry=\"79.0964\"/>\n<ellipse fill=\"none\" stroke=\"#000000\" cx=\"522.4706\" cy=\"-104.8449\" rx=\"83.0864\" ry=\"83.0864\"/>\n<text text-anchor=\"middle\" x=\"522.4706\" y=\"-101.1449\" font-family=\"Times,serif\" font-size=\"14.00\" fill=\"#000000\">B_C_D_F_IA_IG</text>\n</g>\n<!-- B_C_E_IA_IG&#45;&gt;B_C_D_F_IA_IG -->\n<g id=\"edge5\" class=\"edge\">\n<title>B_C_E_IA_IG&#45;&gt;B_C_D_F_IA_IG</title>\n<path fill=\"none\" stroke=\"#000000\" d=\"M390.2096,-130.0328C403.2287,-127.5534 417.0764,-124.9162 430.7227,-122.3174\"/>\n<polygon fill=\"#000000\" stroke=\"#000000\" points=\"431.4403,-125.7437 440.609,-120.4347 430.1307,-118.8673 431.4403,-125.7437\"/>\n<text text-anchor=\"middle\" x=\"415.1776\" y=\"-129.6449\" font-family=\"Times,serif\" font-size=\"14.00\" fill=\"#000000\">1 </text>\n</g>\n<!-- B_C_IA_IG&#45;&gt;B_C_E_IA_IG -->\n<g id=\"edge2\" class=\"edge\">\n<title>B_C_IA_IG&#45;&gt;B_C_E_IA_IG</title>\n<path fill=\"none\" stroke=\"#000000\" d=\"M201.0773,-83.3477C217.1332,-91.1871 235.0812,-99.9503 252.1622,-108.2902\"/>\n<polygon fill=\"#000000\" stroke=\"#000000\" points=\"251.0233,-111.629 261.545,-112.8714 254.0946,-105.3387 251.0233,-111.629\"/>\n<text text-anchor=\"middle\" x=\"230.6897\" y=\"-104.6449\" font-family=\"Times,serif\" font-size=\"14.00\" fill=\"#000000\">0 </text>\n</g>\n<!-- B_C_IA_IG&#45;&gt;B_C_D_F_IA_IG -->\n<g id=\"edge3\" class=\"edge\">\n<title>B_C_IA_IG&#45;&gt;B_C_D_F_IA_IG</title>\n<path fill=\"none\" stroke=\"#000000\" d=\"M206.2381,-49.0598C255.7207,-43.1731 328.8287,-38.5237 391.1776,-50.8449 406.6956,-53.9115 422.6848,-58.8344 437.9335,-64.4903\"/>\n<polygon fill=\"#000000\" stroke=\"#000000\" points=\"436.7315,-67.7778 447.3215,-68.0965 439.2416,-61.2433 436.7315,-67.7778\"/>\n<text text-anchor=\"middle\" x=\"322.9337\" y=\"-54.6449\" font-family=\"Times,serif\" font-size=\"14.00\" fill=\"#000000\">1 </text>\n</g>\n<!-- B_C_D_F_IA_IG&#45;&gt;B_C_E_IA_IG -->\n<g id=\"edge6\" class=\"edge\">\n<title>B_C_D_F_IA_IG&#45;&gt;B_C_E_IA_IG</title>\n<path fill=\"none\" stroke=\"#000000\" d=\"M439.1516,-101.8179C428.9893,-102.553 418.8024,-103.8231 409.1776,-105.8449 404.2223,-106.8858 399.1991,-108.2192 394.1975,-109.7589\"/>\n<polygon fill=\"#000000\" stroke=\"#000000\" points=\"393.0075,-106.4662 384.6293,-112.9512 395.223,-113.1063 393.0075,-106.4662\"/>\n<text text-anchor=\"middle\" x=\"415.1776\" y=\"-109.6449\" font-family=\"Times,serif\" font-size=\"14.00\" fill=\"#000000\">0 </text>\n</g>\n<!-- B_C_D_F_IA_IG&#45;&gt;B_C_D_F_IA_IG -->\n<g id=\"edge7\" class=\"edge\">\n<title>B_C_D_F_IA_IG&#45;&gt;B_C_D_F_IA_IG</title>\n<path fill=\"none\" stroke=\"#000000\" d=\"M504.5365,-186.3139C507.3832,-198.1584 513.3612,-206.1378 522.4706,-206.1378 528.8756,-206.1378 533.7326,-202.1929 537.0414,-195.7333\"/>\n<polygon fill=\"#000000\" stroke=\"#000000\" points=\"540.3382,-196.9085 540.4047,-186.3139 533.7458,-194.5546 540.3382,-196.9085\"/>\n<text text-anchor=\"middle\" x=\"522.4706\" y=\"-209.9378\" font-family=\"Times,serif\" font-size=\"14.00\" fill=\"#000000\">1 </text>\n</g>\n</g>\n</svg>\n"
          },
          "metadata": {
            "tags": []
          },
          "execution_count": 9
        }
      ]
    },
    {
      "cell_type": "code",
      "metadata": {
        "run_control": {
          "frozen": false,
          "read_only": false
        },
        "id": "a14avfcJU_-Q"
      },
      "source": [
        "# Our automd markdown works for NFA also. Here is the NFA for\n",
        "# the language \"ends in 0101\"\n",
        "\n",
        "NFA_ends0101 = md2mc(''' \n",
        "!!---------------------------------------------------------------------------\n",
        "!! This NFA looks for patterns of the form \n",
        "!!\n",
        "!!     ......<some 0's and 1's>.....0101\n",
        "!!\n",
        "!! i.e., all strings that end in 0101.\n",
        "!!\n",
        "!! This example (over and above thirdlastis1.nfa) also illustrates\n",
        "!! the power of nondeterminism. Anytime we see a 0 from state I, we\n",
        "!! can have the NFA speculate that it is seeing the beginning of a\n",
        "!! 0101 pattern! If the NFA fails in its guess, it pays no price\n",
        "!! (because another guess is soon coming from behind).\n",
        "!!\n",
        "!! * We take 4 states in the NFA solution. The DFA solution takes\n",
        "!!   5 states.\n",
        "!!\n",
        "!! * This shows how burden is shifted from the\n",
        "!!   human to the computer doing the NFA simulation.\n",
        "!!   Even though the savings in states is not dramatic,\n",
        "!!   the effort to build this NFA is much lower than building\n",
        "!!   the corresponding DFA.\n",
        "!! \n",
        "!!-----------------------------------------------------------------\n",
        "!! For NFA, each line can be as follows:\n",
        "!!\n",
        "!! State : in1 | in2 ...  ->  COmma, Separated, State, List  !! comment\n",
        "!!-----------------------------------------------------------------\n",
        "\n",
        "NFA\n",
        "\n",
        "I    : 1   -> I      !! I goes to I upon 1\n",
        "\n",
        "I    : 0   -> S0, I  !! I goes to S0 and I upon 0\n",
        "\n",
        "S0   : 1   -> S01    !! S0 goes to S01 upon 1\n",
        "\n",
        "S01  : 0   -> S010   !! S01 goes to S010 upon 0\n",
        "\n",
        "S010 : 1   -> F      !! S010 goes to F upon F\n",
        "\n",
        "!!---\n",
        "''')"
      ],
      "execution_count": null,
      "outputs": []
    },
    {
      "cell_type": "code",
      "metadata": {
        "run_control": {
          "frozen": false,
          "read_only": false
        },
        "id": "9EZfvFBrU_-Q",
        "colab": {
          "base_uri": "https://localhost:8080/"
        },
        "outputId": "b9e52abb-2aef-44aa-b804-e09894e4c8b6"
      },
      "source": [
        "# Now let us see the dict version of the NFA\n",
        "NFA_ends0101 "
      ],
      "execution_count": null,
      "outputs": [
        {
          "output_type": "execute_result",
          "data": {
            "text/plain": [
              "{'Delta': {('I', '0'): {'I', 'S0'},\n",
              "  ('I', '1'): {'I'},\n",
              "  ('S0', '1'): {'S01'},\n",
              "  ('S01', '0'): {'S010'},\n",
              "  ('S010', '1'): {'F'}},\n",
              " 'F': {'F'},\n",
              " 'Q': {'F', 'I', 'S0', 'S01', 'S010'},\n",
              " 'Q0': {'I'},\n",
              " 'Sigma': {'0', '1'}}"
            ]
          },
          "metadata": {
            "tags": []
          },
          "execution_count": 11
        }
      ]
    },
    {
      "cell_type": "code",
      "metadata": {
        "run_control": {
          "frozen": false,
          "read_only": false
        },
        "id": "eEcLz5YPU_-R",
        "colab": {
          "base_uri": "https://localhost:8080/",
          "height": 185
        },
        "outputId": "e5026a01-ae0e-4200-ffc5-ec9d0a896f8b"
      },
      "source": [
        "# Let's see the drawing of this NFA\n",
        "dotObj_nfa(NFA_ends0101)  "
      ],
      "execution_count": null,
      "outputs": [
        {
          "output_type": "execute_result",
          "data": {
            "text/plain": [
              "<graphviz.dot.Digraph at 0x7f0b3e0fb128>"
            ],
            "image/svg+xml": "<?xml version=\"1.0\" encoding=\"UTF-8\" standalone=\"no\"?>\n<!DOCTYPE svg PUBLIC \"-//W3C//DTD SVG 1.1//EN\"\n \"http://www.w3.org/Graphics/SVG/1.1/DTD/svg11.dtd\">\n<!-- Generated by graphviz version 2.40.1 (20161225.0304)\n -->\n<!-- Title: %3 Pages: 1 -->\n<svg width=\"526pt\" height=\"123pt\"\n viewBox=\"0.00 0.00 525.69 122.55\" xmlns=\"http://www.w3.org/2000/svg\" xmlns:xlink=\"http://www.w3.org/1999/xlink\">\n<g id=\"graph0\" class=\"graph\" transform=\"scale(1 1) rotate(0) translate(4 118.5473)\">\n<title>%3</title>\n<polygon fill=\"#ffffff\" stroke=\"transparent\" points=\"-4,4 -4,-118.5473 521.6863,-118.5473 521.6863,4 -4,4\"/>\n<!-- EMPTY -->\n<g id=\"node1\" class=\"node\">\n<title>EMPTY</title>\n</g>\n<!-- I -->\n<g id=\"node2\" class=\"node\">\n<title>I</title>\n<ellipse fill=\"none\" stroke=\"#000000\" cx=\"109\" cy=\"-30.5473\" rx=\"18\" ry=\"18\"/>\n<text text-anchor=\"middle\" x=\"109\" y=\"-26.8473\" font-family=\"Times,serif\" font-size=\"14.00\" fill=\"#000000\">I</text>\n</g>\n<!-- EMPTY&#45;&gt;I -->\n<g id=\"edge1\" class=\"edge\">\n<title>EMPTY&#45;&gt;I</title>\n<path fill=\"none\" stroke=\"#000000\" d=\"M54.3048,-30.5473C62.6909,-30.5473 71.9407,-30.5473 80.4103,-30.5473\"/>\n<polygon fill=\"#000000\" stroke=\"#000000\" points=\"80.5976,-34.0474 90.5976,-30.5473 80.5976,-27.0474 80.5976,-34.0474\"/>\n</g>\n<!-- I&#45;&gt;I -->\n<g id=\"edge2\" class=\"edge\">\n<title>I&#45;&gt;I</title>\n<path fill=\"none\" stroke=\"#000000\" d=\"M105.7643,-48.329C105.2144,-57.8622 106.293,-66.5473 109,-66.5473 110.6496,-66.5473 111.6945,-63.3222 112.1347,-58.6454\"/>\n<polygon fill=\"#000000\" stroke=\"#000000\" points=\"115.6375,-58.3629 112.2357,-48.329 108.6379,-58.2942 115.6375,-58.3629\"/>\n<text text-anchor=\"middle\" x=\"109\" y=\"-70.3473\" font-family=\"Times,serif\" font-size=\"14.00\" fill=\"#000000\">1 </text>\n</g>\n<!-- I&#45;&gt;I -->\n<g id=\"edge4\" class=\"edge\">\n<title>I&#45;&gt;I</title>\n<path fill=\"none\" stroke=\"#000000\" d=\"M103.6841,-47.9676C100.6538,-65.3382 102.4258,-84.5473 109,-84.5473 114.2902,-84.5473 116.4708,-72.109 115.5419,-58.1993\"/>\n<polygon fill=\"#000000\" stroke=\"#000000\" points=\"118.9808,-57.4801 114.3159,-47.9676 112.0305,-58.313 118.9808,-57.4801\"/>\n<text text-anchor=\"middle\" x=\"109\" y=\"-88.3473\" font-family=\"Times,serif\" font-size=\"14.00\" fill=\"#000000\">0 </text>\n</g>\n<!-- S0 -->\n<g id=\"node4\" class=\"node\">\n<title>S0</title>\n<ellipse fill=\"none\" stroke=\"#000000\" cx=\"195.7982\" cy=\"-30.5473\" rx=\"20.5982\" ry=\"20.5982\"/>\n<text text-anchor=\"middle\" x=\"195.7982\" y=\"-26.8473\" font-family=\"Times,serif\" font-size=\"14.00\" fill=\"#000000\">S0</text>\n</g>\n<!-- I&#45;&gt;S0 -->\n<g id=\"edge3\" class=\"edge\">\n<title>I&#45;&gt;S0</title>\n<path fill=\"none\" stroke=\"#000000\" d=\"M127.4077,-30.5473C138.2934,-30.5473 152.3613,-30.5473 164.9052,-30.5473\"/>\n<polygon fill=\"#000000\" stroke=\"#000000\" points=\"164.9803,-34.0474 174.9802,-30.5473 164.9802,-27.0474 164.9803,-34.0474\"/>\n<text text-anchor=\"middle\" x=\"151\" y=\"-34.3473\" font-family=\"Times,serif\" font-size=\"14.00\" fill=\"#000000\">0 </text>\n</g>\n<!-- S01 -->\n<g id=\"node3\" class=\"node\">\n<title>S01</title>\n<ellipse fill=\"none\" stroke=\"#000000\" cx=\"290.594\" cy=\"-30.5473\" rx=\"25.9954\" ry=\"25.9954\"/>\n<text text-anchor=\"middle\" x=\"290.594\" y=\"-26.8473\" font-family=\"Times,serif\" font-size=\"14.00\" fill=\"#000000\">S01</text>\n</g>\n<!-- S010 -->\n<g id=\"node5\" class=\"node\">\n<title>S010</title>\n<ellipse fill=\"none\" stroke=\"#000000\" cx=\"395.139\" cy=\"-30.5473\" rx=\"30.5947\" ry=\"30.5947\"/>\n<text text-anchor=\"middle\" x=\"395.139\" y=\"-26.8473\" font-family=\"Times,serif\" font-size=\"14.00\" fill=\"#000000\">S010</text>\n</g>\n<!-- S01&#45;&gt;S010 -->\n<g id=\"edge6\" class=\"edge\">\n<title>S01&#45;&gt;S010</title>\n<path fill=\"none\" stroke=\"#000000\" d=\"M316.7054,-30.5473C328.0453,-30.5473 341.5984,-30.5473 354.2229,-30.5473\"/>\n<polygon fill=\"#000000\" stroke=\"#000000\" points=\"354.5401,-34.0474 364.54,-30.5473 354.54,-27.0474 354.5401,-34.0474\"/>\n<text text-anchor=\"middle\" x=\"340.5917\" y=\"-34.3473\" font-family=\"Times,serif\" font-size=\"14.00\" fill=\"#000000\">0 </text>\n</g>\n<!-- S0&#45;&gt;S01 -->\n<g id=\"edge5\" class=\"edge\">\n<title>S0&#45;&gt;S01</title>\n<path fill=\"none\" stroke=\"#000000\" d=\"M216.8364,-30.5473C227.8309,-30.5473 241.5999,-30.5473 254.2549,-30.5473\"/>\n<polygon fill=\"#000000\" stroke=\"#000000\" points=\"254.5378,-34.0474 264.5378,-30.5473 254.5378,-27.0474 254.5378,-34.0474\"/>\n<text text-anchor=\"middle\" x=\"240.5963\" y=\"-34.3473\" font-family=\"Times,serif\" font-size=\"14.00\" fill=\"#000000\">1 </text>\n</g>\n<!-- F -->\n<g id=\"node6\" class=\"node\">\n<title>F</title>\n<ellipse fill=\"none\" stroke=\"#000000\" cx=\"495.6863\" cy=\"-30.5473\" rx=\"18\" ry=\"18\"/>\n<ellipse fill=\"none\" stroke=\"#000000\" cx=\"495.6863\" cy=\"-30.5473\" rx=\"22\" ry=\"22\"/>\n<text text-anchor=\"middle\" x=\"495.6863\" y=\"-26.8473\" font-family=\"Times,serif\" font-size=\"14.00\" fill=\"#000000\">F</text>\n</g>\n<!-- S010&#45;&gt;F -->\n<g id=\"edge7\" class=\"edge\">\n<title>S010&#45;&gt;F</title>\n<path fill=\"none\" stroke=\"#000000\" d=\"M425.8528,-30.5473C437.7344,-30.5473 451.3429,-30.5473 463.3721,-30.5473\"/>\n<polygon fill=\"#000000\" stroke=\"#000000\" points=\"463.4535,-34.0474 473.4534,-30.5473 463.4534,-27.0474 463.4535,-34.0474\"/>\n<text text-anchor=\"middle\" x=\"449.6863\" y=\"-34.3473\" font-family=\"Times,serif\" font-size=\"14.00\" fill=\"#000000\">1 </text>\n</g>\n</g>\n</svg>\n"
          },
          "metadata": {
            "tags": []
          },
          "execution_count": 12
        }
      ]
    },
    {
      "cell_type": "code",
      "metadata": {
        "run_control": {
          "frozen": false,
          "read_only": false
        },
        "id": "3yvndznsU_-R",
        "colab": {
          "base_uri": "https://localhost:8080/",
          "height": 161
        },
        "outputId": "39378a21-18a1-44e9-9bca-f0c119b55a31"
      },
      "source": [
        "# The drawing produces separated self-loops. Let's fuse 'em.\n",
        "\n",
        "# Now we are going to fuse the separate self-loops into one.\n",
        "\n",
        "dotObj_nfa(NFA_ends0101, FuseEdges=True) "
      ],
      "execution_count": null,
      "outputs": [
        {
          "output_type": "execute_result",
          "data": {
            "text/plain": [
              "<graphviz.dot.Digraph at 0x7f0b3e0fba90>"
            ],
            "image/svg+xml": "<?xml version=\"1.0\" encoding=\"UTF-8\" standalone=\"no\"?>\n<!DOCTYPE svg PUBLIC \"-//W3C//DTD SVG 1.1//EN\"\n \"http://www.w3.org/Graphics/SVG/1.1/DTD/svg11.dtd\">\n<!-- Generated by graphviz version 2.40.1 (20161225.0304)\n -->\n<!-- Title: %3 Pages: 1 -->\n<svg width=\"526pt\" height=\"105pt\"\n viewBox=\"0.00 0.00 525.69 104.55\" xmlns=\"http://www.w3.org/2000/svg\" xmlns:xlink=\"http://www.w3.org/1999/xlink\">\n<g id=\"graph0\" class=\"graph\" transform=\"scale(1 1) rotate(0) translate(4 100.5473)\">\n<title>%3</title>\n<polygon fill=\"#ffffff\" stroke=\"transparent\" points=\"-4,4 -4,-100.5473 521.6863,-100.5473 521.6863,4 -4,4\"/>\n<!-- EMPTY -->\n<g id=\"node1\" class=\"node\">\n<title>EMPTY</title>\n</g>\n<!-- I -->\n<g id=\"node2\" class=\"node\">\n<title>I</title>\n<ellipse fill=\"none\" stroke=\"#000000\" cx=\"109\" cy=\"-30.5473\" rx=\"18\" ry=\"18\"/>\n<text text-anchor=\"middle\" x=\"109\" y=\"-26.8473\" font-family=\"Times,serif\" font-size=\"14.00\" fill=\"#000000\">I</text>\n</g>\n<!-- EMPTY&#45;&gt;I -->\n<g id=\"edge1\" class=\"edge\">\n<title>EMPTY&#45;&gt;I</title>\n<path fill=\"none\" stroke=\"#000000\" d=\"M54.3048,-30.5473C62.6909,-30.5473 71.9407,-30.5473 80.4103,-30.5473\"/>\n<polygon fill=\"#000000\" stroke=\"#000000\" points=\"80.5976,-34.0474 90.5976,-30.5473 80.5976,-27.0474 80.5976,-34.0474\"/>\n</g>\n<!-- I&#45;&gt;I -->\n<g id=\"edge2\" class=\"edge\">\n<title>I&#45;&gt;I</title>\n<path fill=\"none\" stroke=\"#000000\" d=\"M102.6208,-47.5846C101.3189,-57.4052 103.4453,-66.5473 109,-66.5473 112.4717,-66.5473 114.6042,-62.9762 115.3975,-57.9002\"/>\n<polygon fill=\"#000000\" stroke=\"#000000\" points=\"118.8971,-57.5783 115.3792,-47.5846 111.8971,-57.5908 118.8971,-57.5783\"/>\n<text text-anchor=\"middle\" x=\"109\" y=\"-85.3473\" font-family=\"Times,serif\" font-size=\"14.00\" fill=\"#000000\">0 </text>\n<text text-anchor=\"middle\" x=\"109\" y=\"-70.3473\" font-family=\"Times,serif\" font-size=\"14.00\" fill=\"#000000\"> 1 </text>\n</g>\n<!-- S0 -->\n<g id=\"node4\" class=\"node\">\n<title>S0</title>\n<ellipse fill=\"none\" stroke=\"#000000\" cx=\"195.7982\" cy=\"-30.5473\" rx=\"20.5982\" ry=\"20.5982\"/>\n<text text-anchor=\"middle\" x=\"195.7982\" y=\"-26.8473\" font-family=\"Times,serif\" font-size=\"14.00\" fill=\"#000000\">S0</text>\n</g>\n<!-- I&#45;&gt;S0 -->\n<g id=\"edge3\" class=\"edge\">\n<title>I&#45;&gt;S0</title>\n<path fill=\"none\" stroke=\"#000000\" d=\"M127.4077,-30.5473C138.2934,-30.5473 152.3613,-30.5473 164.9052,-30.5473\"/>\n<polygon fill=\"#000000\" stroke=\"#000000\" points=\"164.9803,-34.0474 174.9802,-30.5473 164.9802,-27.0474 164.9803,-34.0474\"/>\n<text text-anchor=\"middle\" x=\"151\" y=\"-34.3473\" font-family=\"Times,serif\" font-size=\"14.00\" fill=\"#000000\">0 </text>\n</g>\n<!-- S01 -->\n<g id=\"node3\" class=\"node\">\n<title>S01</title>\n<ellipse fill=\"none\" stroke=\"#000000\" cx=\"290.594\" cy=\"-30.5473\" rx=\"25.9954\" ry=\"25.9954\"/>\n<text text-anchor=\"middle\" x=\"290.594\" y=\"-26.8473\" font-family=\"Times,serif\" font-size=\"14.00\" fill=\"#000000\">S01</text>\n</g>\n<!-- S010 -->\n<g id=\"node5\" class=\"node\">\n<title>S010</title>\n<ellipse fill=\"none\" stroke=\"#000000\" cx=\"395.139\" cy=\"-30.5473\" rx=\"30.5947\" ry=\"30.5947\"/>\n<text text-anchor=\"middle\" x=\"395.139\" y=\"-26.8473\" font-family=\"Times,serif\" font-size=\"14.00\" fill=\"#000000\">S010</text>\n</g>\n<!-- S01&#45;&gt;S010 -->\n<g id=\"edge5\" class=\"edge\">\n<title>S01&#45;&gt;S010</title>\n<path fill=\"none\" stroke=\"#000000\" d=\"M316.7054,-30.5473C328.0453,-30.5473 341.5984,-30.5473 354.2229,-30.5473\"/>\n<polygon fill=\"#000000\" stroke=\"#000000\" points=\"354.5401,-34.0474 364.54,-30.5473 354.54,-27.0474 354.5401,-34.0474\"/>\n<text text-anchor=\"middle\" x=\"340.5917\" y=\"-34.3473\" font-family=\"Times,serif\" font-size=\"14.00\" fill=\"#000000\">0 </text>\n</g>\n<!-- S0&#45;&gt;S01 -->\n<g id=\"edge4\" class=\"edge\">\n<title>S0&#45;&gt;S01</title>\n<path fill=\"none\" stroke=\"#000000\" d=\"M216.8364,-30.5473C227.8309,-30.5473 241.5999,-30.5473 254.2549,-30.5473\"/>\n<polygon fill=\"#000000\" stroke=\"#000000\" points=\"254.5378,-34.0474 264.5378,-30.5473 254.5378,-27.0474 254.5378,-34.0474\"/>\n<text text-anchor=\"middle\" x=\"240.5963\" y=\"-34.3473\" font-family=\"Times,serif\" font-size=\"14.00\" fill=\"#000000\">1 </text>\n</g>\n<!-- F -->\n<g id=\"node6\" class=\"node\">\n<title>F</title>\n<ellipse fill=\"none\" stroke=\"#000000\" cx=\"495.6863\" cy=\"-30.5473\" rx=\"18\" ry=\"18\"/>\n<ellipse fill=\"none\" stroke=\"#000000\" cx=\"495.6863\" cy=\"-30.5473\" rx=\"22\" ry=\"22\"/>\n<text text-anchor=\"middle\" x=\"495.6863\" y=\"-26.8473\" font-family=\"Times,serif\" font-size=\"14.00\" fill=\"#000000\">F</text>\n</g>\n<!-- S010&#45;&gt;F -->\n<g id=\"edge6\" class=\"edge\">\n<title>S010&#45;&gt;F</title>\n<path fill=\"none\" stroke=\"#000000\" d=\"M425.8528,-30.5473C437.7344,-30.5473 451.3429,-30.5473 463.3721,-30.5473\"/>\n<polygon fill=\"#000000\" stroke=\"#000000\" points=\"463.4535,-34.0474 473.4534,-30.5473 463.4534,-27.0474 463.4535,-34.0474\"/>\n<text text-anchor=\"middle\" x=\"449.6863\" y=\"-34.3473\" font-family=\"Times,serif\" font-size=\"14.00\" fill=\"#000000\">1 </text>\n</g>\n</g>\n</svg>\n"
          },
          "metadata": {
            "tags": []
          },
          "execution_count": 13
        }
      ]
    },
    {
      "cell_type": "code",
      "metadata": {
        "id": "h8HKn5qkU_-R",
        "colab": {
          "base_uri": "https://localhost:8080/"
        },
        "outputId": "0e0c94e6-4927-45d4-c7ec-cc802cf22ac4"
      },
      "source": [
        "step_nfa(NFA_ends0101, 'F', '1')"
      ],
      "execution_count": null,
      "outputs": [
        {
          "output_type": "execute_result",
          "data": {
            "text/plain": [
              "set()"
            ]
          },
          "metadata": {
            "tags": []
          },
          "execution_count": 14
        }
      ]
    },
    {
      "cell_type": "markdown",
      "metadata": {
        "run_control": {
          "frozen": false,
          "read_only": false
        },
        "id": "-abSFE24U_-R"
      },
      "source": [
        "# NFA for 3rd-last is 1"
      ]
    },
    {
      "cell_type": "code",
      "metadata": {
        "run_control": {
          "frozen": false,
          "read_only": false
        },
        "id": "3UWbtOpNU_-S"
      },
      "source": [
        "# Here is the automd (markdown) for an NF whose third-last symbol is a 1\n",
        "\n",
        "NFA_3rdlast_1 = md2mc('''\n",
        "NFA\n",
        "\n",
        "I : 0  | 1  -> I  !! Upon a 0 or a 1, continue to stay in state I\n",
        "\n",
        "I : ''      -> S0 !! Nondeterministically transition to state S0\n",
        "\n",
        "S0 : 1      -> S1 !! This is the key \"1\" (third-last being 1) seen\n",
        "\n",
        "S1 : 0 | 1  -> S2 !! One 0/1 takes the NFA to S2\n",
        "\n",
        "S2 : 0 | 1  -> F  !! One more 0/1 takes the NFA to F\n",
        "\n",
        "''')"
      ],
      "execution_count": null,
      "outputs": []
    },
    {
      "cell_type": "code",
      "metadata": {
        "run_control": {
          "frozen": false,
          "read_only": false
        },
        "id": "UZHXiWc8U_-S",
        "colab": {
          "base_uri": "https://localhost:8080/"
        },
        "outputId": "d9c5fc33-9e10-4873-a91f-8ad52379ad6e"
      },
      "source": [
        "# Let us see its internal representation:\n",
        "NFA_3rdlast_1"
      ],
      "execution_count": null,
      "outputs": [
        {
          "output_type": "execute_result",
          "data": {
            "text/plain": [
              "{'Delta': {('I', ''): {'S0'},\n",
              "  ('I', '0'): {'I'},\n",
              "  ('I', '1'): {'I'},\n",
              "  ('S0', '1'): {'S1'},\n",
              "  ('S1', '0'): {'S2'},\n",
              "  ('S1', '1'): {'S2'},\n",
              "  ('S2', '0'): {'F'},\n",
              "  ('S2', '1'): {'F'}},\n",
              " 'F': {'F'},\n",
              " 'Q': {'F', 'I', 'S0', 'S1', 'S2'},\n",
              " 'Q0': {'I'},\n",
              " 'Sigma': {'0', '1'}}"
            ]
          },
          "metadata": {
            "tags": []
          },
          "execution_count": 16
        }
      ]
    },
    {
      "cell_type": "code",
      "metadata": {
        "run_control": {
          "frozen": false,
          "read_only": false
        },
        "id": "dGUzaTeeU_-S",
        "colab": {
          "base_uri": "https://localhost:8080/",
          "height": 149
        },
        "outputId": "fd3a9c0e-06a6-4848-f4af-67658e50410a"
      },
      "source": [
        "# Let us see this NFA drawn out:\n",
        "dotObj_nfa(NFA_3rdlast_1, FuseEdges=True)"
      ],
      "execution_count": null,
      "outputs": [
        {
          "output_type": "execute_result",
          "data": {
            "text/plain": [
              "<graphviz.dot.Digraph at 0x7f0b3dcd6b70>"
            ],
            "image/svg+xml": "<?xml version=\"1.0\" encoding=\"UTF-8\" standalone=\"no\"?>\n<!DOCTYPE svg PUBLIC \"-//W3C//DTD SVG 1.1//EN\"\n \"http://www.w3.org/Graphics/SVG/1.1/DTD/svg11.dtd\">\n<!-- Generated by graphviz version 2.40.1 (20161225.0304)\n -->\n<!-- Title: %3 Pages: 1 -->\n<svg width=\"501pt\" height=\"96pt\"\n viewBox=\"0.00 0.00 500.79 96.00\" xmlns=\"http://www.w3.org/2000/svg\" xmlns:xlink=\"http://www.w3.org/1999/xlink\">\n<g id=\"graph0\" class=\"graph\" transform=\"scale(1 1) rotate(0) translate(4 92)\">\n<title>%3</title>\n<polygon fill=\"#ffffff\" stroke=\"transparent\" points=\"-4,4 -4,-92 496.7889,-92 496.7889,4 -4,4\"/>\n<!-- EMPTY -->\n<g id=\"node1\" class=\"node\">\n<title>EMPTY</title>\n</g>\n<!-- I -->\n<g id=\"node5\" class=\"node\">\n<title>I</title>\n<ellipse fill=\"none\" stroke=\"#000000\" cx=\"109\" cy=\"-22\" rx=\"18\" ry=\"18\"/>\n<text text-anchor=\"middle\" x=\"109\" y=\"-18.3\" font-family=\"Times,serif\" font-size=\"14.00\" fill=\"#000000\">I</text>\n</g>\n<!-- EMPTY&#45;&gt;I -->\n<g id=\"edge1\" class=\"edge\">\n<title>EMPTY&#45;&gt;I</title>\n<path fill=\"none\" stroke=\"#000000\" d=\"M54.3048,-22C62.6909,-22 71.9407,-22 80.4103,-22\"/>\n<polygon fill=\"#000000\" stroke=\"#000000\" points=\"80.5976,-25.5001 90.5976,-22 80.5976,-18.5001 80.5976,-25.5001\"/>\n</g>\n<!-- S1 -->\n<g id=\"node2\" class=\"node\">\n<title>S1</title>\n<ellipse fill=\"none\" stroke=\"#000000\" cx=\"282.3945\" cy=\"-22\" rx=\"20.5982\" ry=\"20.5982\"/>\n<text text-anchor=\"middle\" x=\"282.3945\" y=\"-18.3\" font-family=\"Times,serif\" font-size=\"14.00\" fill=\"#000000\">S1</text>\n</g>\n<!-- S2 -->\n<g id=\"node4\" class=\"node\">\n<title>S2</title>\n<ellipse fill=\"none\" stroke=\"#000000\" cx=\"375.9908\" cy=\"-22\" rx=\"20.5982\" ry=\"20.5982\"/>\n<text text-anchor=\"middle\" x=\"375.9908\" y=\"-18.3\" font-family=\"Times,serif\" font-size=\"14.00\" fill=\"#000000\">S2</text>\n</g>\n<!-- S1&#45;&gt;S2 -->\n<g id=\"edge5\" class=\"edge\">\n<title>S1&#45;&gt;S2</title>\n<path fill=\"none\" stroke=\"#000000\" d=\"M303.6329,-22C315.8046,-22 331.3038,-22 344.8326,-22\"/>\n<polygon fill=\"#000000\" stroke=\"#000000\" points=\"345.1588,-25.5001 355.1588,-22 345.1587,-18.5001 345.1588,-25.5001\"/>\n<text text-anchor=\"middle\" x=\"329.1926\" y=\"-40.8\" font-family=\"Times,serif\" font-size=\"14.00\" fill=\"#000000\">0 </text>\n<text text-anchor=\"middle\" x=\"329.1926\" y=\"-25.8\" font-family=\"Times,serif\" font-size=\"14.00\" fill=\"#000000\"> 1 </text>\n</g>\n<!-- S0 -->\n<g id=\"node3\" class=\"node\">\n<title>S0</title>\n<ellipse fill=\"none\" stroke=\"#000000\" cx=\"192.7982\" cy=\"-22\" rx=\"20.5982\" ry=\"20.5982\"/>\n<text text-anchor=\"middle\" x=\"192.7982\" y=\"-18.3\" font-family=\"Times,serif\" font-size=\"14.00\" fill=\"#000000\">S0</text>\n</g>\n<!-- S0&#45;&gt;S1 -->\n<g id=\"edge4\" class=\"edge\">\n<title>S0&#45;&gt;S1</title>\n<path fill=\"none\" stroke=\"#000000\" d=\"M214.0312,-22C225.0778,-22 238.7967,-22 251.0394,-22\"/>\n<polygon fill=\"#000000\" stroke=\"#000000\" points=\"251.3138,-25.5001 261.3138,-22 251.3138,-18.5001 251.3138,-25.5001\"/>\n<text text-anchor=\"middle\" x=\"237.5963\" y=\"-25.8\" font-family=\"Times,serif\" font-size=\"14.00\" fill=\"#000000\">1 </text>\n</g>\n<!-- F -->\n<g id=\"node6\" class=\"node\">\n<title>F</title>\n<ellipse fill=\"none\" stroke=\"#000000\" cx=\"470.7889\" cy=\"-22\" rx=\"18\" ry=\"18\"/>\n<ellipse fill=\"none\" stroke=\"#000000\" cx=\"470.7889\" cy=\"-22\" rx=\"22\" ry=\"22\"/>\n<text text-anchor=\"middle\" x=\"470.7889\" y=\"-18.3\" font-family=\"Times,serif\" font-size=\"14.00\" fill=\"#000000\">F</text>\n</g>\n<!-- S2&#45;&gt;F -->\n<g id=\"edge6\" class=\"edge\">\n<title>S2&#45;&gt;F</title>\n<path fill=\"none\" stroke=\"#000000\" d=\"M397.0296,-22C409.2005,-22 424.7713,-22 438.4674,-22\"/>\n<polygon fill=\"#000000\" stroke=\"#000000\" points=\"438.4881,-25.5001 448.4881,-22 438.4881,-18.5001 438.4881,-25.5001\"/>\n<text text-anchor=\"middle\" x=\"422.7889\" y=\"-40.8\" font-family=\"Times,serif\" font-size=\"14.00\" fill=\"#000000\">0 </text>\n<text text-anchor=\"middle\" x=\"422.7889\" y=\"-25.8\" font-family=\"Times,serif\" font-size=\"14.00\" fill=\"#000000\"> 1 </text>\n</g>\n<!-- I&#45;&gt;S0 -->\n<g id=\"edge3\" class=\"edge\">\n<title>I&#45;&gt;S0</title>\n<path fill=\"none\" stroke=\"#000000\" d=\"M127.183,-22C137.281,-22 150.1195,-22 161.7575,-22\"/>\n<polygon fill=\"#000000\" stroke=\"#000000\" points=\"161.9949,-25.5001 171.9949,-22 161.9948,-18.5001 161.9949,-25.5001\"/>\n<text text-anchor=\"middle\" x=\"149.5\" y=\"-25.8\" font-family=\"Times,serif\" font-size=\"14.00\" fill=\"#000000\">&#39;&#39; </text>\n</g>\n<!-- I&#45;&gt;I -->\n<g id=\"edge2\" class=\"edge\">\n<title>I&#45;&gt;I</title>\n<path fill=\"none\" stroke=\"#000000\" d=\"M102.6208,-39.0373C101.3189,-48.8579 103.4453,-58 109,-58 112.4717,-58 114.6042,-54.4289 115.3975,-49.3529\"/>\n<polygon fill=\"#000000\" stroke=\"#000000\" points=\"118.8971,-49.031 115.3792,-39.0373 111.8971,-49.0435 118.8971,-49.031\"/>\n<text text-anchor=\"middle\" x=\"109\" y=\"-76.8\" font-family=\"Times,serif\" font-size=\"14.00\" fill=\"#000000\">0 </text>\n<text text-anchor=\"middle\" x=\"109\" y=\"-61.8\" font-family=\"Times,serif\" font-size=\"14.00\" fill=\"#000000\"> 1 </text>\n</g>\n</g>\n</svg>\n"
          },
          "metadata": {
            "tags": []
          },
          "execution_count": 17
        }
      ]
    },
    {
      "cell_type": "code",
      "metadata": {
        "run_control": {
          "frozen": false,
          "read_only": false
        },
        "id": "tsWnolxdU_-T",
        "colab": {
          "base_uri": "https://localhost:8080/"
        },
        "outputId": "fd523cc3-bb00-49cd-effc-40dda2a42c8c"
      },
      "source": [
        "# Let's step the NFA on epsilon:   \n",
        "step_nfa(NFA_3rdlast_1, \"I\", \"\")"
      ],
      "execution_count": null,
      "outputs": [
        {
          "output_type": "execute_result",
          "data": {
            "text/plain": [
              "{'S0'}"
            ]
          },
          "metadata": {
            "tags": []
          },
          "execution_count": 18
        }
      ]
    },
    {
      "cell_type": "code",
      "metadata": {
        "run_control": {
          "frozen": false,
          "read_only": false
        },
        "id": "mwEQaINxU_-U",
        "colab": {
          "base_uri": "https://localhost:8080/"
        },
        "outputId": "26081386-ed53-4660-b5c7-7b247ae08ecc"
      },
      "source": [
        "# Let's step it on '0': \n",
        "step_nfa(NFA_3rdlast_1, \"I\", \"0\")"
      ],
      "execution_count": null,
      "outputs": [
        {
          "output_type": "execute_result",
          "data": {
            "text/plain": [
              "{'I'}"
            ]
          },
          "metadata": {
            "tags": []
          },
          "execution_count": 19
        }
      ]
    },
    {
      "cell_type": "code",
      "metadata": {
        "run_control": {
          "frozen": false,
          "read_only": false
        },
        "id": "2QxN3v1ZU_-V",
        "colab": {
          "base_uri": "https://localhost:8080/"
        },
        "outputId": "54c8845b-9651-4135-cd01-1b1b1a2f6570"
      },
      "source": [
        "# Step it on a \"1\" to see two next states. That shows nondeterminism!\n",
        "step_nfa(NFA_3rdlast_1, \"I\", \"1\")  "
      ],
      "execution_count": null,
      "outputs": [
        {
          "output_type": "execute_result",
          "data": {
            "text/plain": [
              "{'I'}"
            ]
          },
          "metadata": {
            "tags": []
          },
          "execution_count": 20
        }
      ]
    },
    {
      "cell_type": "code",
      "metadata": {
        "run_control": {
          "frozen": false,
          "read_only": false
        },
        "id": "Z4vaUi73U_-V",
        "colab": {
          "base_uri": "https://localhost:8080/"
        },
        "outputId": "a3128a0b-9464-4be7-8288-557f2279af05"
      },
      "source": [
        "# What is the Eclosure of the set of states {I} ?\n",
        "Eclosure(NFA_3rdlast_1, {\"I\"})"
      ],
      "execution_count": null,
      "outputs": [
        {
          "output_type": "execute_result",
          "data": {
            "text/plain": [
              "{'I', 'S0'}"
            ]
          },
          "metadata": {
            "tags": []
          },
          "execution_count": 21
        }
      ]
    },
    {
      "cell_type": "code",
      "metadata": {
        "run_control": {
          "frozen": false,
          "read_only": false
        },
        "id": "j-yVcgP9U_-V"
      },
      "source": [
        "help(accepts_nfa)"
      ],
      "execution_count": null,
      "outputs": []
    },
    {
      "cell_type": "code",
      "metadata": {
        "run_control": {
          "frozen": false,
          "read_only": false
        },
        "id": "B01BFPSaU_-W",
        "colab": {
          "base_uri": "https://localhost:8080/"
        },
        "outputId": "462c8736-83e3-48c9-ad19-cc19c810d291"
      },
      "source": [
        "accepts_nfa(NFA_3rdlast_1, \"0100100\", chatty=True)"
      ],
      "execution_count": null,
      "outputs": [
        {
          "output_type": "stream",
          "text": [
            "States reached =  {'S0', 'I'}\n",
            "States reached =  {'S1', 'S0', 'I'}\n",
            "States reached =  {'S0', 'S2', 'I'}\n",
            "States reached =  {'S0', 'F', 'I'}\n",
            "States reached =  {'S1', 'S0', 'I'}\n",
            "States reached =  {'S0', 'S2', 'I'}\n",
            "States reached =  {'S0', 'F', 'I'}\n",
            "NFA accepts '0100100' by reaching {'S0', 'F', 'I'}\n"
          ],
          "name": "stdout"
        },
        {
          "output_type": "execute_result",
          "data": {
            "text/plain": [
              "True"
            ]
          },
          "metadata": {
            "tags": []
          },
          "execution_count": 22
        }
      ]
    },
    {
      "cell_type": "markdown",
      "metadata": {
        "run_control": {
          "frozen": false,
          "read_only": false
        },
        "id": "4GZqBCuyU_-W"
      },
      "source": [
        "# Let us run NFA interactively via widgets\n",
        "\n",
        "We have two NFA to play with, namely nfa_ends0101 and NFA_3rdlast_1\n"
      ]
    },
    {
      "cell_type": "code",
      "metadata": {
        "run_control": {
          "frozen": false,
          "read_only": false
        },
        "id": "EY-TmDXZU_-W"
      },
      "source": [
        "import ipywidgets as wdg\n",
        "def run_nfa_slider(N, s, n):\n",
        "    \"\"\"Run NFA N from N[\"Q0\"] (which is a set..) on substring s[0:n]\n",
        "    \"\"\"\n",
        "    S = N[\"Q0\"] \n",
        "    if (n > len(s)):\n",
        "        n = len(s)\n",
        "    print(\"string = \", s[0:n])\n",
        "    run_nfa(N, S, s[0:n], True)\n",
        "    \n",
        "def run_nfa_int(N1, N2):\n",
        "    \"\"\"Run interactively from the given NFA .. from {q0} \n",
        "       on input string's substring\n",
        "       as picked by slider.\n",
        "    \"\"\"\n",
        "    inp = input(\"Please provide string: \")\n",
        "    wdg.interact(run_nfa_slider, N = {'N1': N1, 'N2': N2}, \n",
        "                 s = inp, n=(0,32))\n",
        "    \n",
        "def test_run_nfa_int(N1, N2):\n",
        "    \"\"\"Test the interactive run of NFA.\n",
        "    \"\"\"\n",
        "    run_nfa_int(N1, N2)\n",
        "\n",
        "#-- enable this later. test_run_nfa_int()"
      ],
      "execution_count": null,
      "outputs": []
    },
    {
      "cell_type": "markdown",
      "metadata": {
        "run_control": {
          "frozen": false,
          "read_only": false
        },
        "id": "DowW2MPtU_-X"
      },
      "source": [
        "## Once you run the command below, provide a string\n",
        "\n",
        "Provide a string of 0's and 1's. Then you can use the pull-down to pick the NFA\n",
        "to test, and the slider to incrementally consume more of the input string.\n"
      ]
    },
    {
      "cell_type": "code",
      "metadata": {
        "run_control": {
          "frozen": false,
          "read_only": false
        },
        "id": "76VWL0kQU_-X",
        "colab": {
          "base_uri": "https://localhost:8080/",
          "height": 283,
          "referenced_widgets": [
            "d05462cf20be4650b19142d988e968ba",
            "0d7aedfed8a64b508c99233ee5544c5f",
            "18c5ca6ca37b4a4ea42e592bbc298742",
            "0097b5caf82f4a96b3f561a2afd08018",
            "c1ef713bd8a5400abeca48e77d0539af",
            "17336c5b47704736bceb9e2e8ee053ce",
            "06c528afb03547ab876f923198319eeb",
            "91ef9fdb7d37480f8f9c96d042810313",
            "5b46e6cbcddf4d49a23883d126d03e46",
            "66451f3dae1842d0b271f231a4c82d6c",
            "ced82ef00a604cf8b94097b17afa55f4",
            "2fc26fa812544bd598bd627fc60601bf",
            "bb6d718ae48a4a01ad3c1012af743083"
          ]
        },
        "outputId": "870f24e4-dc43-4574-8229-6bb9c1344e58"
      },
      "source": [
        "test_run_nfa_int(NFA_ends0101, NFA_3rdlast_1)"
      ],
      "execution_count": null,
      "outputs": [
        {
          "output_type": "stream",
          "text": [
            "Please provide string: 101001\n"
          ],
          "name": "stdout"
        },
        {
          "output_type": "display_data",
          "data": {
            "application/vnd.jupyter.widget-view+json": {
              "model_id": "d05462cf20be4650b19142d988e968ba",
              "version_minor": 0,
              "version_major": 2
            },
            "text/plain": [
              "interactive(children=(Dropdown(description='N', options={'N1': {'Q': {'S0', 'F', 'S01', 'S010', 'I'}, 'Sigma':…"
            ]
          },
          "metadata": {
            "tags": []
          }
        }
      ]
    },
    {
      "cell_type": "markdown",
      "metadata": {
        "id": "uh4i9j_RX2b5"
      },
      "source": [
        "# Done\r\n",
        "We went through and understood all the material."
      ]
    },
    {
      "cell_type": "code",
      "metadata": {
        "id": "QTwG3wt9X5_K"
      },
      "source": [
        ""
      ],
      "execution_count": null,
      "outputs": []
    }
  ]
}