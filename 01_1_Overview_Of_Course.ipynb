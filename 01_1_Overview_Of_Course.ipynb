{
  "nbformat": 4,
  "nbformat_minor": 0,
  "metadata": {
    "kernelspec": {
      "display_name": "Python 3",
      "language": "python",
      "name": "python3"
    },
    "language_info": {
      "codemirror_mode": {
        "name": "ipython",
        "version": 3
      },
      "file_extension": ".py",
      "mimetype": "text/x-python",
      "name": "python",
      "nbconvert_exporter": "python",
      "pygments_lexer": "ipython3",
      "version": "3.9.0"
    },
    "colab": {
      "name": "01_1_Overview_Of_Course.ipynb",
      "provenance": []
    }
  },
  "cells": [
    {
      "cell_type": "markdown",
      "metadata": {
        "id": "_bhitNijZfkh"
      },
      "source": [
        "# Overview of CSE 480 Computational Theory\n",
        "\n",
        "Adapted from the Fall 2020 version of CS 3100 Models of Computation,\n",
        "taught by Professor Ganesh Gopalakrishnan of the University of Utah\n",
        "School of Computing.\n",
        "\n",
        "The Winter 2021 version of this class will heavily depend on Jove because\n",
        "we believe strongly in __active learning__. Take a tour through this \n",
        "Jove User Manual and get a sense of where we will be going with the\n",
        "hands-on part of this class. The theory part of this class will soon\n",
        "unfold in front of you!"
      ]
    },
    {
      "cell_type": "markdown",
      "metadata": {
        "id": "ngQekncHZfks"
      },
      "source": [
        "## A Brief Orientation Video first \n",
        "\n",
        "A full-screen experience is available on your own installation of Jupyter or from [this direct Youtube link](https://youtu.be/EmZdlGmwY3A). After watching it, (unless you are already on Colab), install a Colab browser extension, and click on it. This Github page will lead you to a Colab page where you can run the code."
      ]
    },
    {
      "cell_type": "code",
      "metadata": {
        "id": "roMQq0zSZfku"
      },
      "source": [
        "from IPython.display import YouTubeVideo\n",
        "YouTubeVideo('EmZdlGmwY3A')"
      ],
      "execution_count": null,
      "outputs": []
    },
    {
      "cell_type": "markdown",
      "metadata": {
        "id": "SbySh88GZfkx"
      },
      "source": [
        "# A 5-minute Tour of Jove\n",
        "\n",
        "We will assume that you are working on Google's Colab (for your own installation, kindly follow the instructions in Jove_Installation_Guide.pdf). \n",
        "\n",
        "We now provide a 5-minute tour that exposes you to the essential aspects of Jove and the \"import\" statements you need to accomplish these.\n",
        "\n",
        "## Workflow: Write Markdown, Convert to Machine, Draw, Run or Explore\n",
        "\n",
        "This basic workflow of Jove consists of \n",
        "\n",
        "* including the minimal set of imports,\n",
        "* writing a markdown and converting it to a machine,\n",
        "* drawing the machine in a notebook cell, and\n",
        "* running/exploring the machine."
      ]
    },
    {
      "cell_type": "markdown",
      "metadata": {
        "id": "NLyTenURZfky"
      },
      "source": [
        "### Minimal Imports\n",
        "\n",
        "The import header in specific ipynb files vary; here is a minimal one that gets us going:"
      ]
    },
    {
      "cell_type": "code",
      "metadata": {
        "id": "5LXe6ZE2Zfky"
      },
      "source": [
        "import sys\n",
        "try:\n",
        "    import google.colab\n",
        "    OWN_INSTALL = False\n",
        "except:\n",
        "    OWN_INSTALL = True  \n",
        "if OWN_INSTALL:\n",
        "    print(\"Running on own machine. Include # sys.path[0:0] = [ '..', '../3rdparty' ] .. as needed\")\n",
        "    sys.path[0:0] = ['../../../../..',  '../../../../../3rdparty',  \n",
        "                     '../../../..',  '../../../../3rdparty',  \n",
        "                     '../../..',     '../../../3rdparty', \n",
        "                     '../..',        '../../3rdparty',\n",
        "                     '..',           '../3rdparty']\n",
        "\n",
        "else:\n",
        "    ! if [ ! -d Jove ]; then git clone https://github.com/ganeshutah/Jove Jove; fi\n",
        "    sys.path.append('./Jove')       # Set paths for Colab\n",
        "    sys.path.append('./Jove/jove')\n",
        "# -- Now include common imports - either here, or just before when needed --\n",
        "\n",
        "# -- these are almost always needed  \n",
        "from jove.Def_md2mc  import * # -- to convert markdowns to machines\n",
        "from jove.DotBashers import * # -- to draw machines"
      ],
      "execution_count": null,
      "outputs": []
    },
    {
      "cell_type": "markdown",
      "metadata": {
        "id": "nDVrTVVSZfkz"
      },
      "source": [
        "# The Full Animation Panel\n",
        "\n",
        "This is the dandiest part of Jove IMHO. This was written by Paul C.J. Carlson who\n",
        "took my class and was TA for me in CS 3100. You may even begin with this full \n",
        "animation panel and then get into the specifics discussed below, later. \n",
        "\n",
        "As soon as you execute the lines below, you will see tabs with legend \"Edit\", \"Animate\", and \"Help\". The \"Edit\" tab comes with ready machines to edit and run! You don't need to learn any syntax. The \"Animate\" tab helps you animate what you edited and created. Finally the \"Help\" tab tells you all the details, including the markdown syntax and the menu functions. The \"Options\" tab at the bottom allows you to select various properties.\n",
        "\n",
        "This UI is one of the coolest designs within Jove. It directly ties into the core functions of Jove."
      ]
    },
    {
      "cell_type": "code",
      "metadata": {
        "scrolled": true,
        "id": "5XgyO1uzZfk0"
      },
      "source": [
        "from jove.JoveEditor import *\n",
        "JoveEditor(examples=True)\n",
        "display(HTML('<link rel=\"stylesheet\" href=\"//stackpath.bootstrapcdn.com/font-awesome/4.7.0/css/font-awesome.min.css\"/>'))"
      ],
      "execution_count": null,
      "outputs": []
    },
    {
      "cell_type": "markdown",
      "metadata": {
        "id": "JJAUiIFnZfk0"
      },
      "source": [
        "# Approach without using the full animation panel\n",
        "\n",
        "It is important to use Jove without the full animation panel also. This way,\n",
        "you will learn more about its interactive exploration facilities. You will\n",
        "also learn how to introduce animation selectively. That is described below."
      ]
    },
    {
      "cell_type": "markdown",
      "metadata": {
        "id": "kDSOGdI4Zfk1"
      },
      "source": [
        "## Define and Draw Machines\n",
        "\n",
        "Define and draw machines. \n",
        "\n",
        "When defining machines, please employ the __Literate Programming__ style\n",
        "espoused by Prof. Donald Knuth:\n",
        "\n",
        "* describe your design plans in clear English in comments; and\n",
        "* embed your DFA code amidst these comments\n",
        "\n",
        "We define a DFA that accepts strings that contain a 010 in this manner, below.\n",
        "\n",
        "Note that we are overdoing the comments below, being our first illustration.\n",
        "In general, you must put \"just the right amount\" of comments -- not excessive, not scanty."
      ]
    },
    {
      "cell_type": "code",
      "metadata": {
        "id": "KzgL8_oRZfk2"
      },
      "source": [
        "DFA010 = md2mc('''\n",
        "DFA\n",
        "\n",
        "!! Overall plans: Name states to reflect information being recorded\n",
        "\n",
        "!! The initial state is not final, since a 010 has not been seen.\n",
        "!! Thus the initial state name is \"I\" and not \"IF\"\n",
        "\n",
        "!! Below, with each state such as I or S0, we provide both the moves out of it\n",
        "!! For larger alphabets, provide all the moves in a bunch. \n",
        "\n",
        "!! We prefer to first list moves that are not too interesting; this way you can \n",
        "!! forget those cases and move on.\n",
        "\n",
        "I : 1 -> I  !! Upon a '1', no progress toward 010, so throw '1' away\n",
        "I : 0 -> S0 !! '0' is interesting, as it is progressing toward 010; record it in the state\n",
        "\n",
        "S0 : 0 -> S0  !! No further progress, but progress so far is not lost either; stay at S0\n",
        "S0 : 1 -> S01 !! Now progress toward 010\n",
        "\n",
        "S01 : 1 -> I !! A \"spoiler\" of a '1' is seen. We revert back to I and start all over.\n",
        "S01 : 0 -> F !! Seen a 010. No more work to do!\n",
        "\n",
        "F : 0|1 -> F  !! Remain at F, having seen a 010\n",
        "''')"
      ],
      "execution_count": null,
      "outputs": []
    },
    {
      "cell_type": "code",
      "metadata": {
        "id": "AZ8fxilMZfk2"
      },
      "source": [
        "dotObj_dfa(DFA010)"
      ],
      "execution_count": null,
      "outputs": []
    },
    {
      "cell_type": "markdown",
      "metadata": {
        "id": "Z3EZT0I4Zfk3"
      },
      "source": [
        "### Fuse the Edges for Neatness\n",
        "\n",
        "We like to see all the edges separately to see \"it is all there\". \n",
        "After that, we want to fuse multiple edges between states. The\n",
        "\"FuseEdges=True\" below accomplishes that."
      ]
    },
    {
      "cell_type": "code",
      "metadata": {
        "id": "ojcs-hAeZfk3"
      },
      "source": [
        "dotObj_dfa(DFA010, FuseEdges=True)"
      ],
      "execution_count": null,
      "outputs": []
    },
    {
      "cell_type": "markdown",
      "metadata": {
        "id": "rWwRh2awZfk4"
      },
      "source": [
        "### Running DFA\n",
        "\n",
        "Now, we can step_dfa, run_dfa, and check for acceptance."
      ]
    },
    {
      "cell_type": "code",
      "metadata": {
        "id": "lsMJR8bNZfk5"
      },
      "source": [
        "from jove.Def_DFA import *"
      ],
      "execution_count": null,
      "outputs": []
    },
    {
      "cell_type": "code",
      "metadata": {
        "id": "rUBDuG9PZfk5"
      },
      "source": [
        "accepts_dfa(DFA010, \"0110010\")"
      ],
      "execution_count": null,
      "outputs": []
    },
    {
      "cell_type": "markdown",
      "metadata": {
        "id": "p2nq4O20ZflB"
      },
      "source": [
        "### Testing the DFA in Numeric Order\n",
        "\n",
        "Testing a DFA according to strings in numeric order is a good idea,\n",
        "as it ekes out bugs with respect to short strings. Usually DFAs are\n",
        "\"good\" if they work for \"all short strings\" (or almost all). For this,\n",
        "we include LangDef that defines \"nthnumeric\""
      ]
    },
    {
      "cell_type": "code",
      "metadata": {
        "id": "s2QLodfSZflB"
      },
      "source": [
        "from jove.LangDef import *"
      ],
      "execution_count": null,
      "outputs": []
    },
    {
      "cell_type": "code",
      "metadata": {
        "id": "Uzg9YWunZflC"
      },
      "source": [
        "help(nthnumeric)"
      ],
      "execution_count": null,
      "outputs": []
    },
    {
      "cell_type": "code",
      "metadata": {
        "id": "-9iXJzf0ZflC"
      },
      "source": [
        "TestStrings = [nthnumeric(i, ['0','1']) for i in range(32)]"
      ],
      "execution_count": null,
      "outputs": []
    },
    {
      "cell_type": "code",
      "metadata": {
        "id": "ld0TM5kQZflC"
      },
      "source": [
        "for test in TestStrings:\n",
        "    if accepts_dfa(DFA010, test):\n",
        "        print(\"DFA010 accepts \", test)\n",
        "    else:\n",
        "        print(\"DFA010 rejects \", test)    "
      ],
      "execution_count": null,
      "outputs": []
    },
    {
      "cell_type": "markdown",
      "metadata": {
        "id": "8iidg7-JZflD"
      },
      "source": [
        "### Use of Filter to Pick Out All Strings Accepted\n",
        "\n",
        "While testing as above is reassuring, it is often a good idea to pick out\n",
        "the essence of a machine using the Python 'filter' command. See an example\n",
        "below. You can learn about Python functions and features \n",
        "from [a good Python tutorial](https://www.python-course.eu)"
      ]
    },
    {
      "cell_type": "code",
      "metadata": {
        "id": "C8z6ss-sZflD"
      },
      "source": [
        "list(filter(lambda x: accepts_dfa(DFA010, x), TestStrings))"
      ],
      "execution_count": null,
      "outputs": []
    },
    {
      "cell_type": "markdown",
      "metadata": {
        "id": "24laZOeAZflE"
      },
      "source": [
        "## Animate Individual Machines\n",
        "\n",
        "This is how you can individually animate DFA created thus far"
      ]
    },
    {
      "cell_type": "code",
      "metadata": {
        "id": "-MZA9qy3ZflE"
      },
      "source": [
        "from jove.AnimateDFA import *\n",
        "AnimateDFA(DFA010, FuseEdges=False)\n",
        "display(HTML('<link rel=\"stylesheet\" href=\"//stackpath.bootstrapcdn.com/font-awesome/4.7.0/css/font-awesome.min.css\"/>'))"
      ],
      "execution_count": null,
      "outputs": []
    },
    {
      "cell_type": "markdown",
      "metadata": {
        "id": "l5nFkk9IZflE"
      },
      "source": [
        "### Why the \"display(HTML...)\" line?\n",
        "\n",
        "The line \"display(HTML...)\" used in the above cell is required to make\n",
        "the play/pause/stop buttons show up properly when run on Colab. \n",
        "This is based on a \n",
        "[suggestion I received from Stackoverflow](https://stackoverflow.com/questions/59595489/googles-colab-does-not-seem-to-show-the-icon-shapes-within-widgets-play)\n",
        "\n",
        "\n"
      ]
    },
    {
      "cell_type": "markdown",
      "metadata": {
        "id": "fanbDPPeZflF"
      },
      "source": [
        "# Details of Jove\n",
        "\n",
        "Jove is a collection of Jupyter notebooks that includes functions to create and manipulate automata, \n",
        "including Deterministic Finite Automata (DFA), Nondeterministic Finite State Automata (NFA), Pushdown\n",
        "Automata (PDA) and Turing Machines (TM). Jove also includes many features covering Derivative-based \n",
        "Pattern Matching, a Post Correspondence Problem (PCP) solution generator, a Binary Decision Diagram\n",
        "tool (BDD), and facilities to experiment with Lambda Calculus.\n",
        "\n",
        "\n",
        "This user manual is aimed at a beginner of Jove, and we will focus on its facilities to manipulate automata and allied notions such as regular expressions. We organize this user manual by first presenting the overall organization and philosophy of Jove. Following that, we will walk through some of the most common paths a beginner may traverse. With that in place, we believe that a more experienced user will be able to figure out the details of things we do not get into. In other words, we aim for brevity and readability of this documentation --- not encyclopaedic perfection at every juncture.\n",
        "\n"
      ]
    },
    {
      "cell_type": "markdown",
      "metadata": {
        "id": "wTkJwKI-ZflG"
      },
      "source": [
        "## Basics\n",
        "\n",
        "Jove has text-based commands that can be invoked in its Read-Eval-Print Loop (REPL). We will describe those first. We will then describe animation facilities included within Jove."
      ]
    },
    {
      "cell_type": "markdown",
      "metadata": {
        "id": "Ez1NNUx7ZflG"
      },
      "source": [
        "###  Jove Notebook Organization\n",
        "\n",
        "Each Jove notebook has a collection of path settings and a collection of file includes. We set it up so that Jove notebooks can run on Colab or on one's own laptop. These methods are subject to change; for now, we use these methods quite uniformly across all notebooks. The \"Common Imports\" area below is where we include files specific to the things we want to get done. These imports will be explained as we illustrate various examples."
      ]
    },
    {
      "cell_type": "markdown",
      "metadata": {
        "id": "OW9Tbv4FZflI"
      },
      "source": [
        "### The how and why of importing\n",
        "We import just what is necessary. When we import a Jove file such as \"jove.LangDef\" above, \n",
        "a bunch of \"help(fn)\" commands are advertised. This is to encourage the user to seek help\n",
        "with respect to any of the functions that now become \"available.\""
      ]
    },
    {
      "cell_type": "markdown",
      "metadata": {
        "id": "FvoAzKTyZflK"
      },
      "source": [
        "# Detailed Function Summary and Usage via Examples\n",
        "\n",
        "We will present examples that illustrate the cool features within Jove. We will leave it to the reader to read our forthcoming paper sigcse21jove.pdf for fuller explanations (available upon request). First we walk through some cool usages of Jove features put together to achieve interesting end goals. We then list all the interesting functions one by one."
      ]
    },
    {
      "cell_type": "markdown",
      "metadata": {
        "id": "qmHnMtJ1ZflT"
      },
      "source": [
        "## Functions through examples\n",
        "\n",
        "Please follow along the examples within SIGCSE.ipynb (available upon request; selective details to be included in our lessons) to understand many of Jove's functions and how they are put together. In here, you'll see how the state names tell you what Jove did in order to arrive at that state. For example, if you performed intersection or union, you'll see the compound states being separated by underscores.\n"
      ]
    },
    {
      "cell_type": "markdown",
      "metadata": {
        "id": "R25B0xcJZflW"
      },
      "source": [
        "## What About All the Machine Types?\n",
        "\n",
        "The best place to study all of Jove's functions and machine types is from Appendix B of our book. This lists functions per chapter.\n",
        "\n",
        "Another place from which to learn Jove's per-chapter functions is to go visit\n",
        "\n",
        "For_The_Public/Recommended/ and do things in the following order:\n",
        "\n",
        "* GentleTour\n",
        "  - A really good overview of Jove's features\n",
        "  \n",
        "* FollowsBook\n",
        "  - A really good overview of Jove per chapter\n",
        "  \n",
        "* Advanced\n",
        "  - \"The works\" -- shows you many advanced constructions"
      ]
    }
  ]
}