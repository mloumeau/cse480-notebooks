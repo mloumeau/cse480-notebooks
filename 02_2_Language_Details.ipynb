{
  "nbformat": 4,
  "nbformat_minor": 0,
  "metadata": {
    "kernelspec": {
      "display_name": "Python 3",
      "language": "python",
      "name": "python3"
    },
    "language_info": {
      "codemirror_mode": {
        "name": "ipython",
        "version": 3
      },
      "file_extension": ".py",
      "mimetype": "text/x-python",
      "name": "python",
      "nbconvert_exporter": "python",
      "pygments_lexer": "ipython3",
      "version": "3.9.0"
    },
    "toc": {
      "colors": {
        "hover_highlight": "#DAA520",
        "running_highlight": "#FF0000",
        "selected_highlight": "#FFD700"
      },
      "moveMenuLeft": true,
      "nav_menu": {
        "height": "207px",
        "width": "252px"
      },
      "navigate_menu": true,
      "number_sections": true,
      "sideBar": true,
      "threshold": 4,
      "toc_cell": false,
      "toc_section_display": "block",
      "toc_window_display": false,
      "widenNotebook": false
    },
    "colab": {
      "name": "02_2_Language_Details.ipynb",
      "provenance": [],
      "collapsed_sections": [
        "RI61vQtrFUba",
        "6O3neq4ZFUbc",
        "AgKiT6lRFUbe",
        "s83bZi0ZFUbf"
      ],
      "include_colab_link": true
    },
    "widgets": {
      "application/vnd.jupyter.widget-state+json": {
        "f19f4b245433437b972d1c32672aefb7": {
          "model_module": "@jupyter-widgets/controls",
          "model_name": "VBoxModel",
          "state": {
            "_view_name": "VBoxView",
            "_dom_classes": [
              "widget-interact"
            ],
            "_model_name": "VBoxModel",
            "_view_module": "@jupyter-widgets/controls",
            "_model_module_version": "1.5.0",
            "_view_count": null,
            "_view_module_version": "1.5.0",
            "box_style": "",
            "layout": "IPY_MODEL_5766244722d64c298f7308e0b98a4fd7",
            "_model_module": "@jupyter-widgets/controls",
            "children": [
              "IPY_MODEL_7a5b5badbee54f43808bb88c8b6a1a29",
              "IPY_MODEL_f73a2ea001fe442c98da87fba8a38c8c",
              "IPY_MODEL_db14592ffe7942b0882bfe8341b3e2e6"
            ]
          }
        },
        "5766244722d64c298f7308e0b98a4fd7": {
          "model_module": "@jupyter-widgets/base",
          "model_name": "LayoutModel",
          "state": {
            "_view_name": "LayoutView",
            "grid_template_rows": null,
            "right": null,
            "justify_content": null,
            "_view_module": "@jupyter-widgets/base",
            "overflow": null,
            "_model_module_version": "1.2.0",
            "_view_count": null,
            "flex_flow": null,
            "width": null,
            "min_width": null,
            "border": null,
            "align_items": null,
            "bottom": null,
            "_model_module": "@jupyter-widgets/base",
            "top": null,
            "grid_column": null,
            "overflow_y": null,
            "overflow_x": null,
            "grid_auto_flow": null,
            "grid_area": null,
            "grid_template_columns": null,
            "flex": null,
            "_model_name": "LayoutModel",
            "justify_items": null,
            "grid_row": null,
            "max_height": null,
            "align_content": null,
            "visibility": null,
            "align_self": null,
            "height": null,
            "min_height": null,
            "padding": null,
            "grid_auto_rows": null,
            "grid_gap": null,
            "max_width": null,
            "order": null,
            "_view_module_version": "1.2.0",
            "grid_template_areas": null,
            "object_position": null,
            "object_fit": null,
            "grid_auto_columns": null,
            "margin": null,
            "display": null,
            "left": null
          }
        },
        "7a5b5badbee54f43808bb88c8b6a1a29": {
          "model_module": "@jupyter-widgets/controls",
          "model_name": "DropdownModel",
          "state": {
            "_options_labels": [
              "L3",
              "L1",
              "L2",
              "M",
              "lphi",
              "lunit"
            ],
            "_view_name": "DropdownView",
            "style": "IPY_MODEL_5192bcde6ece4dae8ef0e9e7f8436f52",
            "_dom_classes": [],
            "description": "L",
            "_model_name": "DropdownModel",
            "index": 0,
            "_view_module": "@jupyter-widgets/controls",
            "_model_module_version": "1.5.0",
            "_view_count": null,
            "disabled": false,
            "_view_module_version": "1.5.0",
            "description_tooltip": null,
            "_model_module": "@jupyter-widgets/controls",
            "layout": "IPY_MODEL_bb05536400894337a4c034c401b93d62"
          }
        },
        "f73a2ea001fe442c98da87fba8a38c8c": {
          "model_module": "@jupyter-widgets/controls",
          "model_name": "IntSliderModel",
          "state": {
            "_view_name": "IntSliderView",
            "style": "IPY_MODEL_4ed0cd3d592240a7813a9d890bd4860b",
            "_dom_classes": [],
            "description": "n",
            "step": 1,
            "_model_name": "IntSliderModel",
            "orientation": "horizontal",
            "max": 7,
            "_view_module": "@jupyter-widgets/controls",
            "_model_module_version": "1.5.0",
            "value": 3,
            "_view_count": null,
            "disabled": false,
            "_view_module_version": "1.5.0",
            "min": 0,
            "continuous_update": true,
            "readout_format": "d",
            "description_tooltip": null,
            "readout": true,
            "_model_module": "@jupyter-widgets/controls",
            "layout": "IPY_MODEL_6d72c8daba5c4189a522d5be5d8c845b"
          }
        },
        "db14592ffe7942b0882bfe8341b3e2e6": {
          "model_module": "@jupyter-widgets/output",
          "model_name": "OutputModel",
          "state": {
            "_view_name": "OutputView",
            "msg_id": "",
            "_dom_classes": [],
            "_model_name": "OutputModel",
            "outputs": [
              {
                "output_type": "display_data",
                "metadata": {
                  "tags": []
                },
                "text/plain": "{'',\n 'a',\n 'aa',\n 'aaa',\n 'aab',\n 'aac',\n 'ab',\n 'aba',\n 'abb',\n 'abc',\n 'ac',\n 'aca',\n 'acb',\n 'acc',\n 'b',\n 'ba',\n 'baa',\n 'bab',\n 'bac',\n 'bb',\n 'bba',\n 'bbb',\n 'bbc',\n 'bc',\n 'bca',\n 'bcb',\n 'bcc',\n 'c',\n 'ca',\n 'caa',\n 'cab',\n 'cac',\n 'cb',\n 'cba',\n 'cbb',\n 'cbc',\n 'cc',\n 'cca',\n 'ccb',\n 'ccc'}"
              }
            ],
            "_view_module": "@jupyter-widgets/output",
            "_model_module_version": "1.0.0",
            "_view_count": null,
            "_view_module_version": "1.0.0",
            "layout": "IPY_MODEL_2a3739d8d3cd4e69821d2ff14f8f9dd5",
            "_model_module": "@jupyter-widgets/output"
          }
        },
        "5192bcde6ece4dae8ef0e9e7f8436f52": {
          "model_module": "@jupyter-widgets/controls",
          "model_name": "DescriptionStyleModel",
          "state": {
            "_view_name": "StyleView",
            "_model_name": "DescriptionStyleModel",
            "description_width": "",
            "_view_module": "@jupyter-widgets/base",
            "_model_module_version": "1.5.0",
            "_view_count": null,
            "_view_module_version": "1.2.0",
            "_model_module": "@jupyter-widgets/controls"
          }
        },
        "bb05536400894337a4c034c401b93d62": {
          "model_module": "@jupyter-widgets/base",
          "model_name": "LayoutModel",
          "state": {
            "_view_name": "LayoutView",
            "grid_template_rows": null,
            "right": null,
            "justify_content": null,
            "_view_module": "@jupyter-widgets/base",
            "overflow": null,
            "_model_module_version": "1.2.0",
            "_view_count": null,
            "flex_flow": null,
            "width": null,
            "min_width": null,
            "border": null,
            "align_items": null,
            "bottom": null,
            "_model_module": "@jupyter-widgets/base",
            "top": null,
            "grid_column": null,
            "overflow_y": null,
            "overflow_x": null,
            "grid_auto_flow": null,
            "grid_area": null,
            "grid_template_columns": null,
            "flex": null,
            "_model_name": "LayoutModel",
            "justify_items": null,
            "grid_row": null,
            "max_height": null,
            "align_content": null,
            "visibility": null,
            "align_self": null,
            "height": null,
            "min_height": null,
            "padding": null,
            "grid_auto_rows": null,
            "grid_gap": null,
            "max_width": null,
            "order": null,
            "_view_module_version": "1.2.0",
            "grid_template_areas": null,
            "object_position": null,
            "object_fit": null,
            "grid_auto_columns": null,
            "margin": null,
            "display": null,
            "left": null
          }
        },
        "4ed0cd3d592240a7813a9d890bd4860b": {
          "model_module": "@jupyter-widgets/controls",
          "model_name": "SliderStyleModel",
          "state": {
            "_view_name": "StyleView",
            "handle_color": null,
            "_model_name": "SliderStyleModel",
            "description_width": "",
            "_view_module": "@jupyter-widgets/base",
            "_model_module_version": "1.5.0",
            "_view_count": null,
            "_view_module_version": "1.2.0",
            "_model_module": "@jupyter-widgets/controls"
          }
        },
        "6d72c8daba5c4189a522d5be5d8c845b": {
          "model_module": "@jupyter-widgets/base",
          "model_name": "LayoutModel",
          "state": {
            "_view_name": "LayoutView",
            "grid_template_rows": null,
            "right": null,
            "justify_content": null,
            "_view_module": "@jupyter-widgets/base",
            "overflow": null,
            "_model_module_version": "1.2.0",
            "_view_count": null,
            "flex_flow": null,
            "width": null,
            "min_width": null,
            "border": null,
            "align_items": null,
            "bottom": null,
            "_model_module": "@jupyter-widgets/base",
            "top": null,
            "grid_column": null,
            "overflow_y": null,
            "overflow_x": null,
            "grid_auto_flow": null,
            "grid_area": null,
            "grid_template_columns": null,
            "flex": null,
            "_model_name": "LayoutModel",
            "justify_items": null,
            "grid_row": null,
            "max_height": null,
            "align_content": null,
            "visibility": null,
            "align_self": null,
            "height": null,
            "min_height": null,
            "padding": null,
            "grid_auto_rows": null,
            "grid_gap": null,
            "max_width": null,
            "order": null,
            "_view_module_version": "1.2.0",
            "grid_template_areas": null,
            "object_position": null,
            "object_fit": null,
            "grid_auto_columns": null,
            "margin": null,
            "display": null,
            "left": null
          }
        },
        "2a3739d8d3cd4e69821d2ff14f8f9dd5": {
          "model_module": "@jupyter-widgets/base",
          "model_name": "LayoutModel",
          "state": {
            "_view_name": "LayoutView",
            "grid_template_rows": null,
            "right": null,
            "justify_content": null,
            "_view_module": "@jupyter-widgets/base",
            "overflow": null,
            "_model_module_version": "1.2.0",
            "_view_count": null,
            "flex_flow": null,
            "width": null,
            "min_width": null,
            "border": null,
            "align_items": null,
            "bottom": null,
            "_model_module": "@jupyter-widgets/base",
            "top": null,
            "grid_column": null,
            "overflow_y": null,
            "overflow_x": null,
            "grid_auto_flow": null,
            "grid_area": null,
            "grid_template_columns": null,
            "flex": null,
            "_model_name": "LayoutModel",
            "justify_items": null,
            "grid_row": null,
            "max_height": null,
            "align_content": null,
            "visibility": null,
            "align_self": null,
            "height": null,
            "min_height": null,
            "padding": null,
            "grid_auto_rows": null,
            "grid_gap": null,
            "max_width": null,
            "order": null,
            "_view_module_version": "1.2.0",
            "grid_template_areas": null,
            "object_position": null,
            "object_fit": null,
            "grid_auto_columns": null,
            "margin": null,
            "display": null,
            "left": null
          }
        },
        "082e80c8c7364d108d901743d28f409f": {
          "model_module": "@jupyter-widgets/controls",
          "model_name": "VBoxModel",
          "state": {
            "_view_name": "VBoxView",
            "_dom_classes": [
              "widget-interact"
            ],
            "_model_name": "VBoxModel",
            "_view_module": "@jupyter-widgets/controls",
            "_model_module_version": "1.5.0",
            "_view_count": null,
            "_view_module_version": "1.5.0",
            "box_style": "",
            "layout": "IPY_MODEL_808ecdf4961f4122994282ffef23e73e",
            "_model_module": "@jupyter-widgets/controls",
            "children": [
              "IPY_MODEL_2db313c9e34e469ba15bac5c62d5b67d",
              "IPY_MODEL_52b3bae5baec4bb1895c3d7dd7567151",
              "IPY_MODEL_767ea909d04e4be19be50f1edf98b2c4"
            ]
          }
        },
        "808ecdf4961f4122994282ffef23e73e": {
          "model_module": "@jupyter-widgets/base",
          "model_name": "LayoutModel",
          "state": {
            "_view_name": "LayoutView",
            "grid_template_rows": null,
            "right": null,
            "justify_content": null,
            "_view_module": "@jupyter-widgets/base",
            "overflow": null,
            "_model_module_version": "1.2.0",
            "_view_count": null,
            "flex_flow": null,
            "width": null,
            "min_width": null,
            "border": null,
            "align_items": null,
            "bottom": null,
            "_model_module": "@jupyter-widgets/base",
            "top": null,
            "grid_column": null,
            "overflow_y": null,
            "overflow_x": null,
            "grid_auto_flow": null,
            "grid_area": null,
            "grid_template_columns": null,
            "flex": null,
            "_model_name": "LayoutModel",
            "justify_items": null,
            "grid_row": null,
            "max_height": null,
            "align_content": null,
            "visibility": null,
            "align_self": null,
            "height": null,
            "min_height": null,
            "padding": null,
            "grid_auto_rows": null,
            "grid_gap": null,
            "max_width": null,
            "order": null,
            "_view_module_version": "1.2.0",
            "grid_template_areas": null,
            "object_position": null,
            "object_fit": null,
            "grid_auto_columns": null,
            "margin": null,
            "display": null,
            "left": null
          }
        },
        "2db313c9e34e469ba15bac5c62d5b67d": {
          "model_module": "@jupyter-widgets/controls",
          "model_name": "DropdownModel",
          "state": {
            "_options_labels": [
              "L1",
              "L2",
              "M",
              "lphi",
              "lunit"
            ],
            "_view_name": "DropdownView",
            "style": "IPY_MODEL_bcfdb9ad6d30447281d1bee1d2c43649",
            "_dom_classes": [],
            "description": "L",
            "_model_name": "DropdownModel",
            "index": 0,
            "_view_module": "@jupyter-widgets/controls",
            "_model_module_version": "1.5.0",
            "_view_count": null,
            "disabled": false,
            "_view_module_version": "1.5.0",
            "description_tooltip": null,
            "_model_module": "@jupyter-widgets/controls",
            "layout": "IPY_MODEL_83a217329732428eb5712509e43f5168"
          }
        },
        "52b3bae5baec4bb1895c3d7dd7567151": {
          "model_module": "@jupyter-widgets/controls",
          "model_name": "IntSliderModel",
          "state": {
            "_view_name": "IntSliderView",
            "style": "IPY_MODEL_ba2b607e88be4ff8839ec9d2275ba2ff",
            "_dom_classes": [],
            "description": "n",
            "step": 1,
            "_model_name": "IntSliderModel",
            "orientation": "horizontal",
            "max": 7,
            "_view_module": "@jupyter-widgets/controls",
            "_model_module_version": "1.5.0",
            "value": 3,
            "_view_count": null,
            "disabled": false,
            "_view_module_version": "1.5.0",
            "min": 0,
            "continuous_update": true,
            "readout_format": "d",
            "description_tooltip": null,
            "readout": true,
            "_model_module": "@jupyter-widgets/controls",
            "layout": "IPY_MODEL_c242ca3b9c4349be971de89806a7e4a0"
          }
        },
        "767ea909d04e4be19be50f1edf98b2c4": {
          "model_module": "@jupyter-widgets/output",
          "model_name": "OutputModel",
          "state": {
            "_view_name": "OutputView",
            "msg_id": "",
            "_dom_classes": [],
            "_model_name": "OutputModel",
            "outputs": [
              {
                "output_type": "display_data",
                "metadata": {
                  "tags": []
                },
                "text/plain": "{'',\n 'a',\n 'aa',\n 'aaa',\n 'aabc',\n 'abc',\n 'abca',\n 'abcbc',\n 'bc',\n 'bca',\n 'bcaa',\n 'bcabc',\n 'bcbc',\n 'bcbca',\n 'bcbcbc'}"
              }
            ],
            "_view_module": "@jupyter-widgets/output",
            "_model_module_version": "1.0.0",
            "_view_count": null,
            "_view_module_version": "1.0.0",
            "layout": "IPY_MODEL_50fe04b9ba424e01bdae0280563139bc",
            "_model_module": "@jupyter-widgets/output"
          }
        },
        "bcfdb9ad6d30447281d1bee1d2c43649": {
          "model_module": "@jupyter-widgets/controls",
          "model_name": "DescriptionStyleModel",
          "state": {
            "_view_name": "StyleView",
            "_model_name": "DescriptionStyleModel",
            "description_width": "",
            "_view_module": "@jupyter-widgets/base",
            "_model_module_version": "1.5.0",
            "_view_count": null,
            "_view_module_version": "1.2.0",
            "_model_module": "@jupyter-widgets/controls"
          }
        },
        "83a217329732428eb5712509e43f5168": {
          "model_module": "@jupyter-widgets/base",
          "model_name": "LayoutModel",
          "state": {
            "_view_name": "LayoutView",
            "grid_template_rows": null,
            "right": null,
            "justify_content": null,
            "_view_module": "@jupyter-widgets/base",
            "overflow": null,
            "_model_module_version": "1.2.0",
            "_view_count": null,
            "flex_flow": null,
            "width": null,
            "min_width": null,
            "border": null,
            "align_items": null,
            "bottom": null,
            "_model_module": "@jupyter-widgets/base",
            "top": null,
            "grid_column": null,
            "overflow_y": null,
            "overflow_x": null,
            "grid_auto_flow": null,
            "grid_area": null,
            "grid_template_columns": null,
            "flex": null,
            "_model_name": "LayoutModel",
            "justify_items": null,
            "grid_row": null,
            "max_height": null,
            "align_content": null,
            "visibility": null,
            "align_self": null,
            "height": null,
            "min_height": null,
            "padding": null,
            "grid_auto_rows": null,
            "grid_gap": null,
            "max_width": null,
            "order": null,
            "_view_module_version": "1.2.0",
            "grid_template_areas": null,
            "object_position": null,
            "object_fit": null,
            "grid_auto_columns": null,
            "margin": null,
            "display": null,
            "left": null
          }
        },
        "ba2b607e88be4ff8839ec9d2275ba2ff": {
          "model_module": "@jupyter-widgets/controls",
          "model_name": "SliderStyleModel",
          "state": {
            "_view_name": "StyleView",
            "handle_color": null,
            "_model_name": "SliderStyleModel",
            "description_width": "",
            "_view_module": "@jupyter-widgets/base",
            "_model_module_version": "1.5.0",
            "_view_count": null,
            "_view_module_version": "1.2.0",
            "_model_module": "@jupyter-widgets/controls"
          }
        },
        "c242ca3b9c4349be971de89806a7e4a0": {
          "model_module": "@jupyter-widgets/base",
          "model_name": "LayoutModel",
          "state": {
            "_view_name": "LayoutView",
            "grid_template_rows": null,
            "right": null,
            "justify_content": null,
            "_view_module": "@jupyter-widgets/base",
            "overflow": null,
            "_model_module_version": "1.2.0",
            "_view_count": null,
            "flex_flow": null,
            "width": null,
            "min_width": null,
            "border": null,
            "align_items": null,
            "bottom": null,
            "_model_module": "@jupyter-widgets/base",
            "top": null,
            "grid_column": null,
            "overflow_y": null,
            "overflow_x": null,
            "grid_auto_flow": null,
            "grid_area": null,
            "grid_template_columns": null,
            "flex": null,
            "_model_name": "LayoutModel",
            "justify_items": null,
            "grid_row": null,
            "max_height": null,
            "align_content": null,
            "visibility": null,
            "align_self": null,
            "height": null,
            "min_height": null,
            "padding": null,
            "grid_auto_rows": null,
            "grid_gap": null,
            "max_width": null,
            "order": null,
            "_view_module_version": "1.2.0",
            "grid_template_areas": null,
            "object_position": null,
            "object_fit": null,
            "grid_auto_columns": null,
            "margin": null,
            "display": null,
            "left": null
          }
        },
        "50fe04b9ba424e01bdae0280563139bc": {
          "model_module": "@jupyter-widgets/base",
          "model_name": "LayoutModel",
          "state": {
            "_view_name": "LayoutView",
            "grid_template_rows": null,
            "right": null,
            "justify_content": null,
            "_view_module": "@jupyter-widgets/base",
            "overflow": null,
            "_model_module_version": "1.2.0",
            "_view_count": null,
            "flex_flow": null,
            "width": null,
            "min_width": null,
            "border": null,
            "align_items": null,
            "bottom": null,
            "_model_module": "@jupyter-widgets/base",
            "top": null,
            "grid_column": null,
            "overflow_y": null,
            "overflow_x": null,
            "grid_auto_flow": null,
            "grid_area": null,
            "grid_template_columns": null,
            "flex": null,
            "_model_name": "LayoutModel",
            "justify_items": null,
            "grid_row": null,
            "max_height": null,
            "align_content": null,
            "visibility": null,
            "align_self": null,
            "height": null,
            "min_height": null,
            "padding": null,
            "grid_auto_rows": null,
            "grid_gap": null,
            "max_width": null,
            "order": null,
            "_view_module_version": "1.2.0",
            "grid_template_areas": null,
            "object_position": null,
            "object_fit": null,
            "grid_auto_columns": null,
            "margin": null,
            "display": null,
            "left": null
          }
        },
        "ad96e88cf7b44e3fa8299b7a9582319b": {
          "model_module": "@jupyter-widgets/controls",
          "model_name": "VBoxModel",
          "state": {
            "_view_name": "VBoxView",
            "_dom_classes": [
              "widget-interact"
            ],
            "_model_name": "VBoxModel",
            "_view_module": "@jupyter-widgets/controls",
            "_model_module_version": "1.5.0",
            "_view_count": null,
            "_view_module_version": "1.5.0",
            "box_style": "",
            "layout": "IPY_MODEL_a4c41cb5b5a64232b4e84821076fe261",
            "_model_module": "@jupyter-widgets/controls",
            "children": [
              "IPY_MODEL_3b38e8121b164e30806d80f6ed88d0d5",
              "IPY_MODEL_4e2cd24fc7d84a3c922ac71049f88e4a",
              "IPY_MODEL_6915ac97f6b440d39a9dae31a15e7444"
            ]
          }
        },
        "a4c41cb5b5a64232b4e84821076fe261": {
          "model_module": "@jupyter-widgets/base",
          "model_name": "LayoutModel",
          "state": {
            "_view_name": "LayoutView",
            "grid_template_rows": null,
            "right": null,
            "justify_content": null,
            "_view_module": "@jupyter-widgets/base",
            "overflow": null,
            "_model_module_version": "1.2.0",
            "_view_count": null,
            "flex_flow": null,
            "width": null,
            "min_width": null,
            "border": null,
            "align_items": null,
            "bottom": null,
            "_model_module": "@jupyter-widgets/base",
            "top": null,
            "grid_column": null,
            "overflow_y": null,
            "overflow_x": null,
            "grid_auto_flow": null,
            "grid_area": null,
            "grid_template_columns": null,
            "flex": null,
            "_model_name": "LayoutModel",
            "justify_items": null,
            "grid_row": null,
            "max_height": null,
            "align_content": null,
            "visibility": null,
            "align_self": null,
            "height": null,
            "min_height": null,
            "padding": null,
            "grid_auto_rows": null,
            "grid_gap": null,
            "max_width": null,
            "order": null,
            "_view_module_version": "1.2.0",
            "grid_template_areas": null,
            "object_position": null,
            "object_fit": null,
            "grid_auto_columns": null,
            "margin": null,
            "display": null,
            "left": null
          }
        },
        "3b38e8121b164e30806d80f6ed88d0d5": {
          "model_module": "@jupyter-widgets/controls",
          "model_name": "DropdownModel",
          "state": {
            "_options_labels": [
              "Alph1",
              "Alph2"
            ],
            "_view_name": "DropdownView",
            "style": "IPY_MODEL_fbd9f2715cdb4851b03d8ff614567e9f",
            "_dom_classes": [],
            "description": "L",
            "_model_name": "DropdownModel",
            "index": 0,
            "_view_module": "@jupyter-widgets/controls",
            "_model_module_version": "1.5.0",
            "_view_count": null,
            "disabled": false,
            "_view_module_version": "1.5.0",
            "description_tooltip": null,
            "_model_module": "@jupyter-widgets/controls",
            "layout": "IPY_MODEL_5bb1db3a1df14c7c96fe23f8db2b2e07"
          }
        },
        "4e2cd24fc7d84a3c922ac71049f88e4a": {
          "model_module": "@jupyter-widgets/controls",
          "model_name": "IntSliderModel",
          "state": {
            "_view_name": "IntSliderView",
            "style": "IPY_MODEL_676ccf1a41c64293881e1a13a4b3c43e",
            "_dom_classes": [],
            "description": "n",
            "step": 1,
            "_model_name": "IntSliderModel",
            "orientation": "horizontal",
            "max": 7,
            "_view_module": "@jupyter-widgets/controls",
            "_model_module_version": "1.5.0",
            "value": 3,
            "_view_count": null,
            "disabled": false,
            "_view_module_version": "1.5.0",
            "min": 0,
            "continuous_update": true,
            "readout_format": "d",
            "description_tooltip": null,
            "readout": true,
            "_model_module": "@jupyter-widgets/controls",
            "layout": "IPY_MODEL_162dc0575f574f4493e3a1aa9f2a1021"
          }
        },
        "6915ac97f6b440d39a9dae31a15e7444": {
          "model_module": "@jupyter-widgets/output",
          "model_name": "OutputModel",
          "state": {
            "_view_name": "OutputView",
            "msg_id": "",
            "_dom_classes": [],
            "_model_name": "OutputModel",
            "outputs": [
              {
                "output_type": "display_data",
                "metadata": {
                  "tags": []
                },
                "text/plain": "{'',\n 'a',\n 'aa',\n 'aaa',\n 'aab',\n 'ab',\n 'aba',\n 'abb',\n 'b',\n 'ba',\n 'baa',\n 'bab',\n 'bb',\n 'bba',\n 'bbb'}"
              }
            ],
            "_view_module": "@jupyter-widgets/output",
            "_model_module_version": "1.0.0",
            "_view_count": null,
            "_view_module_version": "1.0.0",
            "layout": "IPY_MODEL_90ea141d34c44de9b4b5c5501ec80a47",
            "_model_module": "@jupyter-widgets/output"
          }
        },
        "fbd9f2715cdb4851b03d8ff614567e9f": {
          "model_module": "@jupyter-widgets/controls",
          "model_name": "DescriptionStyleModel",
          "state": {
            "_view_name": "StyleView",
            "_model_name": "DescriptionStyleModel",
            "description_width": "",
            "_view_module": "@jupyter-widgets/base",
            "_model_module_version": "1.5.0",
            "_view_count": null,
            "_view_module_version": "1.2.0",
            "_model_module": "@jupyter-widgets/controls"
          }
        },
        "5bb1db3a1df14c7c96fe23f8db2b2e07": {
          "model_module": "@jupyter-widgets/base",
          "model_name": "LayoutModel",
          "state": {
            "_view_name": "LayoutView",
            "grid_template_rows": null,
            "right": null,
            "justify_content": null,
            "_view_module": "@jupyter-widgets/base",
            "overflow": null,
            "_model_module_version": "1.2.0",
            "_view_count": null,
            "flex_flow": null,
            "width": null,
            "min_width": null,
            "border": null,
            "align_items": null,
            "bottom": null,
            "_model_module": "@jupyter-widgets/base",
            "top": null,
            "grid_column": null,
            "overflow_y": null,
            "overflow_x": null,
            "grid_auto_flow": null,
            "grid_area": null,
            "grid_template_columns": null,
            "flex": null,
            "_model_name": "LayoutModel",
            "justify_items": null,
            "grid_row": null,
            "max_height": null,
            "align_content": null,
            "visibility": null,
            "align_self": null,
            "height": null,
            "min_height": null,
            "padding": null,
            "grid_auto_rows": null,
            "grid_gap": null,
            "max_width": null,
            "order": null,
            "_view_module_version": "1.2.0",
            "grid_template_areas": null,
            "object_position": null,
            "object_fit": null,
            "grid_auto_columns": null,
            "margin": null,
            "display": null,
            "left": null
          }
        },
        "676ccf1a41c64293881e1a13a4b3c43e": {
          "model_module": "@jupyter-widgets/controls",
          "model_name": "SliderStyleModel",
          "state": {
            "_view_name": "StyleView",
            "handle_color": null,
            "_model_name": "SliderStyleModel",
            "description_width": "",
            "_view_module": "@jupyter-widgets/base",
            "_model_module_version": "1.5.0",
            "_view_count": null,
            "_view_module_version": "1.2.0",
            "_model_module": "@jupyter-widgets/controls"
          }
        },
        "162dc0575f574f4493e3a1aa9f2a1021": {
          "model_module": "@jupyter-widgets/base",
          "model_name": "LayoutModel",
          "state": {
            "_view_name": "LayoutView",
            "grid_template_rows": null,
            "right": null,
            "justify_content": null,
            "_view_module": "@jupyter-widgets/base",
            "overflow": null,
            "_model_module_version": "1.2.0",
            "_view_count": null,
            "flex_flow": null,
            "width": null,
            "min_width": null,
            "border": null,
            "align_items": null,
            "bottom": null,
            "_model_module": "@jupyter-widgets/base",
            "top": null,
            "grid_column": null,
            "overflow_y": null,
            "overflow_x": null,
            "grid_auto_flow": null,
            "grid_area": null,
            "grid_template_columns": null,
            "flex": null,
            "_model_name": "LayoutModel",
            "justify_items": null,
            "grid_row": null,
            "max_height": null,
            "align_content": null,
            "visibility": null,
            "align_self": null,
            "height": null,
            "min_height": null,
            "padding": null,
            "grid_auto_rows": null,
            "grid_gap": null,
            "max_width": null,
            "order": null,
            "_view_module_version": "1.2.0",
            "grid_template_areas": null,
            "object_position": null,
            "object_fit": null,
            "grid_auto_columns": null,
            "margin": null,
            "display": null,
            "left": null
          }
        },
        "90ea141d34c44de9b4b5c5501ec80a47": {
          "model_module": "@jupyter-widgets/base",
          "model_name": "LayoutModel",
          "state": {
            "_view_name": "LayoutView",
            "grid_template_rows": null,
            "right": null,
            "justify_content": null,
            "_view_module": "@jupyter-widgets/base",
            "overflow": null,
            "_model_module_version": "1.2.0",
            "_view_count": null,
            "flex_flow": null,
            "width": null,
            "min_width": null,
            "border": null,
            "align_items": null,
            "bottom": null,
            "_model_module": "@jupyter-widgets/base",
            "top": null,
            "grid_column": null,
            "overflow_y": null,
            "overflow_x": null,
            "grid_auto_flow": null,
            "grid_area": null,
            "grid_template_columns": null,
            "flex": null,
            "_model_name": "LayoutModel",
            "justify_items": null,
            "grid_row": null,
            "max_height": null,
            "align_content": null,
            "visibility": null,
            "align_self": null,
            "height": null,
            "min_height": null,
            "padding": null,
            "grid_auto_rows": null,
            "grid_gap": null,
            "max_width": null,
            "order": null,
            "_view_module_version": "1.2.0",
            "grid_template_areas": null,
            "object_position": null,
            "object_fit": null,
            "grid_auto_columns": null,
            "margin": null,
            "display": null,
            "left": null
          }
        }
      }
    }
  },
  "cells": [
    {
      "cell_type": "markdown",
      "metadata": {
        "id": "view-in-github",
        "colab_type": "text"
      },
      "source": [
        "<a href=\"https://colab.research.google.com/github/croesusking/cse480-notebooks/blob/master/02_2_Language_Details.ipynb\" target=\"_parent\"><img src=\"https://colab.research.google.com/assets/colab-badge.svg\" alt=\"Open In Colab\"/></a>"
      ]
    },
    {
      "cell_type": "markdown",
      "metadata": {
        "run_control": {
          "frozen": false,
          "read_only": false
        },
        "id": "-6ehCCBBFUbE"
      },
      "source": [
        "# Details covering Ch2, Ch3\n",
        "\n",
        "## Main Addition: Full definitions of various language builder functions presented here\n",
        "\n",
        "Some of the material in this module could be repetitious, but still good practice.\n",
        "\n",
        "A video describing the use of this module is below. Following that, we present the top-level functions defined in this module. Then come the function definitions themselves, and finally some tests that drive the functions and illustrate their usage.\n",
        "\n",
        "**Note**: Some of the contents of the video below may not correspond to the latest code in these notebooks. However the principles remain the same.\n",
        "\n",
        "**Note**: All functions have good internal documentation; so for example, if you run \"help(lstar)\", it will fully describe the lstar function.\n",
        "\n",
        "**Note**: The definition of nthnumeric has evolved (it now expects a list as its second argument)."
      ]
    },
    {
      "cell_type": "markdown",
      "metadata": {
        "id": "olXUDalaFUbO"
      },
      "source": [
        "## This video is the same as in 02_01_Language_Basics -- less than 18 mins, so plz watch to recap!"
      ]
    },
    {
      "cell_type": "code",
      "metadata": {
        "editable": false,
        "run_control": {
          "frozen": false,
          "read_only": false
        },
        "scrolled": true,
        "id": "V5MY7sWpFUbP",
        "colab": {
          "base_uri": "https://localhost:8080/",
          "height": 321
        },
        "outputId": "1b37178e-177c-40a2-9da8-a8863cad2637"
      },
      "source": [
        "from IPython.display import YouTubeVideo\n",
        "YouTubeVideo('TAEYvJn5eGc')"
      ],
      "execution_count": 2,
      "outputs": [
        {
          "output_type": "execute_result",
          "data": {
            "text/html": [
              "\n",
              "        <iframe\n",
              "            width=\"400\"\n",
              "            height=\"300\"\n",
              "            src=\"https://www.youtube.com/embed/TAEYvJn5eGc\"\n",
              "            frameborder=\"0\"\n",
              "            allowfullscreen\n",
              "        ></iframe>\n",
              "        "
            ],
            "text/plain": [
              "<IPython.lib.display.YouTubeVideo at 0x7fda509fc7f0>"
            ],
            "image/jpeg": "[encoded data removed]"
          },
          "metadata": {
            "tags": []
          },
          "execution_count": 2
        }
      ]
    },
    {
      "cell_type": "code",
      "metadata": {
        "colab": {
          "base_uri": "https://localhost:8080/"
        },
        "id": "IMSigFacMWBO",
        "outputId": "7d9eb5f6-fb4a-44ec-8ad9-9512edba8e59"
      },
      "source": [
        "#~~~~~~~~~~~~~~~~~~~~~~~~~~~~~~~~~~~~~~~~~~~~~~~~~~~~~~~\r\n",
        "import sys\r\n",
        "\r\n",
        "# -- Detect if in Own Install or in Colab\r\n",
        "try:\r\n",
        "    import google.colab\r\n",
        "    OWN_INSTALL = False\r\n",
        "except:\r\n",
        "    OWN_INSTALL = True\r\n",
        "    \r\n",
        "if OWN_INSTALL:\r\n",
        "\r\n",
        "  sys.path[0:0] = ['../../../../..',  '../../../../../3rdparty',  \r\n",
        "                   '../../../..',  '../../../../3rdparty',  \r\n",
        "                   '../../..',     '../../../3rdparty', \r\n",
        "                   '../..',        '../../3rdparty',\r\n",
        "                   '..',           '../3rdparty' ]\r\n",
        "\r\n",
        "else: # In colab\r\n",
        "  ! if [ ! -d Jove ]; then git clone https://github.com/ganeshutah/Jove Jove; fi\r\n",
        "  sys.path.append('./Jove')\r\n",
        "  sys.path.append('./Jove/jove')\r\n",
        "\r\n",
        "# -- common imports --\r\n",
        "from jove.LangDef   import *\r\n",
        "#~~~~~~~~~~~~~~~~~~~~~~~~~~~~~~~~~~~~~~~~~~~~~~~~~~~~~~~"
      ],
      "execution_count": 3,
      "outputs": [
        {
          "output_type": "stream",
          "text": [
            "Cloning into 'Jove'...\n",
            "remote: Enumerating objects: 4634, done.\u001b[K\n",
            "remote: Total 4634 (delta 0), reused 0 (delta 0), pack-reused 4634\u001b[K\n",
            "Receiving objects: 100% (4634/4634), 7.38 MiB | 25.35 MiB/s, done.\n",
            "Resolving deltas: 100% (3005/3005), done.\n",
            "You may use any of these help commands:\n",
            "help(lphi)\n",
            "help(lunit)\n",
            "help(lcat)\n",
            "help(lexp)\n",
            "help(lunion)\n",
            "help(lstar)\n",
            "help(srev)\n",
            "help(lrev)\n",
            "help(shomo)\n",
            "help(lhomo)\n",
            "help(powset)\n",
            "help(lint)\n",
            "help(lsymdiff)\n",
            "help(lminus)\n",
            "help(lissubset)\n",
            "help(lissuperset)\n",
            "help(lcomplem)\n",
            "help(product)\n",
            "help(nthnumeric)\n",
            "\n"
          ],
          "name": "stdout"
        }
      ]
    },
    {
      "cell_type": "markdown",
      "metadata": {
        "run_control": {
          "frozen": false,
          "read_only": false
        },
        "id": "OvetboeQFUbP"
      },
      "source": [
        "# Top-level functions in this module\n",
        " \n",
        "help(lphi)\n",
        "help(lunit)\n",
        "help(lcat)\n",
        "help(lexp)\n",
        "help(lunion)\n",
        "help(lstar)\n",
        "help(srev)\n",
        "help(lrev)\n",
        "help(shomo)\n",
        "help(lhomo)\n",
        "help(powset)\n",
        "help(lint)\n",
        "help(lsymdiff)\n",
        "help(lminus)\n",
        "help(lissubset)\n",
        "help(lissuperset)\n",
        "help(lcomplem)\n",
        "help(product)\n",
        "help(nthnumeric)\n"
      ]
    },
    {
      "cell_type": "markdown",
      "metadata": {
        "editable": false,
        "run_control": {
          "frozen": false,
          "read_only": false
        },
        "id": "sVGdBMhvFUbQ"
      },
      "source": [
        "<span style=\"color:blue\"> **Now we begin following along Chapter-2 of the book ** </span>\n",
        "\n",
        "# Chapter-2: Alphabet and Languages\n",
        "\n",
        "We begin our study of Alphabets and Languages. Please read the book. You *must* be doing two kinds of exercises:\n",
        "\n",
        "* Do exercises on paper. That is the math you need from this course. There is no short-cut to it.\n",
        "\n",
        "* Do the programming challenges (and play with the code) presented in this notebook (more exercises will be added). This programming part builds intuitions and helps knowledge stick. \n",
        "\n",
        "> Let us recall Prof. John McCarthy's quote\n",
        "\n",
        ">> You do not understand anything unless you have studied it in multiple ways\n",
        "\n",
        "It is to facilitate the \"study in multiple ways\" that the programming part is being given to you. It is the centerpiece of this work."
      ]
    },
    {
      "cell_type": "markdown",
      "metadata": {
        "editable": false,
        "run_control": {
          "frozen": false,
          "read_only": false
        },
        "id": "cA36LFDnFUbQ"
      },
      "source": [
        "<span style=\"color:blue\"> **Coding philosophy:** </span>\n",
        "\n",
        "Clearly, the code in this book can be cast into an object-oriented style. We avoid doing so for these reasons:\n",
        "\n",
        "* We want to keep the barrier to entry as low as possible. In fact, we are extremely parsimonious in our use of Python constructs. \n",
        "\n",
        "* We prefer to modularize each concept into specific sections where we treat the math and code as being almost at the same level. We also want these Jupyter notes to resemble Knuth's \"literate programs\". More reasons will be given in the Jupyter notes of Chapter 3."
      ]
    },
    {
      "cell_type": "markdown",
      "metadata": {
        "editable": false,
        "run_control": {
          "frozen": false,
          "read_only": false
        },
        "id": "DNpyfGWrFUbQ"
      },
      "source": [
        "<span style=\"color:blue\"> **------** </span>\n",
        "\n",
        "OK, now onto our subject matter!\n",
        "\n",
        "## Alphabet and Language\n",
        "\n",
        "\n",
        "An Alphabet is a *finite* set of finitary items, often called \"symbols\" - usually they are single characters, but they also could be finite strings or (in the case of GNFA) be themselves regular expressions.  Just think of an Alphabet $\\Sigma$ to be a *finite* and *non-empty* set of symbols.\n",
        "\n",
        " \n",
        "__Language__:\n",
        "\n",
        "\n",
        "A language is a set of sequences (strings) of symbols. We define languages through Python code as follows. \n",
        "\n",
        "We are defining regular languages here. \n",
        "\n",
        "The simplest regular language is $\\emptyset$, the empty language. This is like the \"zero\" of a language. Why so? We know that \"0\" is the annihilator for multiplication, i.e. 3 $\\times$ 0 = 0. What is the multiplication operation for languages? It is concatenation!\n",
        "\n",
        "\n",
        "* Notice that in almost all cases, languages are encoded using Python sets.\n",
        "\n",
        "* Exceptions will be pointed out when they occur.\n",
        "\n",
        "* Also, in almost all cases, languages are sets of strings."
      ]
    },
    {
      "cell_type": "markdown",
      "metadata": {
        "editable": false,
        "run_control": {
          "frozen": false,
          "read_only": false
        },
        "id": "WdEf5nBsFUbR"
      },
      "source": [
        "__Zero Language__:\n",
        "\n",
        "<span style=\"color:blue\"> **We begin with the empty language (ZERO of a language). We use lphi() to refere to this language, as phi (Greek symbol) is used to denote the empty set. ** </span>"
      ]
    },
    {
      "cell_type": "code",
      "metadata": {
        "code_folding": [
          3
        ],
        "editable": false,
        "run_control": {
          "frozen": false,
          "read_only": false
        },
        "id": "8x5eOIXBFUbS"
      },
      "source": [
        "# The theory of languages : Primitive languages and language builders\n",
        "\n",
        "def lphi():\n",
        "    \"\"\"In : None.\n",
        "       Out: Zero language, i.e. set({}).\n",
        "    \"\"\"\n",
        "    return set({})  # {} could be dict; so we put set(..)"
      ],
      "execution_count": 4,
      "outputs": []
    },
    {
      "cell_type": "code",
      "metadata": {
        "run_control": {
          "frozen": false,
          "read_only": false
        },
        "id": "ERhoviZrFUbS",
        "colab": {
          "base_uri": "https://localhost:8080/"
        },
        "outputId": "ce2e43a4-9c4d-45e7-c8fd-cc5cd430051c"
      },
      "source": [
        "lphi()"
      ],
      "execution_count": 5,
      "outputs": [
        {
          "output_type": "execute_result",
          "data": {
            "text/plain": [
              "set()"
            ]
          },
          "metadata": {
            "tags": []
          },
          "execution_count": 5
        }
      ]
    },
    {
      "cell_type": "markdown",
      "metadata": {
        "editable": false,
        "run_control": {
          "frozen": false,
          "read_only": false
        },
        "id": "culcJ-bJFUbT"
      },
      "source": [
        "__Unit Language__:\n",
        "\n",
        "<span style=\"color:blue\"> **Now we define the Unit language (ONE of a language) as well as concatenation. We use lunit() and lcat() to refer to these operations. ** </span>"
      ]
    },
    {
      "cell_type": "markdown",
      "metadata": {
        "editable": false,
        "run_control": {
          "frozen": false,
          "read_only": false
        },
        "id": "-vrbafa6FUbU"
      },
      "source": [
        "Now let us define the Unit language (\"1\" for languages with respect to concatenation viewed as multiplication).\n",
        "\n",
        "Let us also define language concatenation.\n",
        "\n",
        "> $L1 \\; L2 \\;\\; =\\;\\;  \\{x y \\; \\mid \\; x\\in L1 \\;\\wedge\\; y\\in L2\\}$"
      ]
    },
    {
      "cell_type": "markdown",
      "metadata": {
        "editable": false,
        "run_control": {
          "frozen": false,
          "read_only": false
        },
        "id": "6RrXN_K-FUbV"
      },
      "source": [
        "# Documentation Conventions\n",
        "\n",
        "* Functions will have comment strings that start with \"\"\" and end with \"\"\"\n",
        "* In : will specify inputs separately, mentioning conceptual object and rep (Python data-type) \n",
        "* Out: will mention output, mentioning conceptual object and rep (Python data-type)\n",
        "* Sometimes an example will follow\n",
        "* Extremely simple helper functions won't have much of a doc (usually a one-liner)\n",
        "* Example documentation:\n",
        "```\n",
        "  \"\"\"In : L1 (language : a set),\n",
        "          L2 (language : a set).\n",
        "     Out: L1 concat L2 (language : a set).\n",
        "     Example:\n",
        "     L1 = {'ab', 'bc'} \n",
        "     L2 = {'11', 'ab', '22'} \n",
        "     lcat(L1,L2) -> {'abab', 'bc22', 'ab11', 'ab22', 'bcab', 'bc11'}\n",
        "  \"\"\"\n",
        "```"
      ]
    },
    {
      "cell_type": "code",
      "metadata": {
        "editable": false,
        "run_control": {
          "frozen": false,
          "read_only": false
        },
        "id": "I1N4mW9aFUbV"
      },
      "source": [
        "def lunit():\n",
        "    \"\"\"In : None.\n",
        "       Out: {\"\"} (a language : a set).\n",
        "    \"\"\"\n",
        "    return {\"\"} # Set with epsilon\n",
        "\n",
        "def lcat(L1,L2):\n",
        "    \"\"\"In : L1 (language : a set),\n",
        "            L2 (language : a set).\n",
        "       Out: L1 concat L2 (language : a set).\n",
        "       Example:\n",
        "       L1 = {'ab', 'bc'} \n",
        "       L2 = {'11', 'ab', '22'} \n",
        "       lcat(L1,L2) -> {'abab', 'bc22', 'ab11', 'ab22', 'bcab', 'bc11'}\n",
        "    \"\"\"\n",
        "    return {x+y for x in L1 for y in L2}"
      ],
      "execution_count": 6,
      "outputs": []
    },
    {
      "cell_type": "code",
      "metadata": {
        "run_control": {
          "frozen": false,
          "read_only": false
        },
        "id": "AAhDC8c1FUbW",
        "colab": {
          "base_uri": "https://localhost:8080/",
          "height": 35
        },
        "outputId": "11e64bab-5dd7-49ed-873a-fb2114b4ec78"
      },
      "source": [
        "\"\""
      ],
      "execution_count": 7,
      "outputs": [
        {
          "output_type": "execute_result",
          "data": {
            "application/vnd.google.colaboratory.intrinsic+json": {
              "type": "string"
            },
            "text/plain": [
              "''"
            ]
          },
          "metadata": {
            "tags": []
          },
          "execution_count": 7
        }
      ]
    },
    {
      "cell_type": "code",
      "metadata": {
        "run_control": {
          "frozen": false,
          "read_only": false
        },
        "id": "d9CJCcmkFUbX",
        "colab": {
          "base_uri": "https://localhost:8080/"
        },
        "outputId": "47c44ec9-9177-49b5-d215-57d76eeb475c"
      },
      "source": [
        "L1 = {\"a\" * n for n in range(0,3)}\n",
        "L1"
      ],
      "execution_count": 8,
      "outputs": [
        {
          "output_type": "execute_result",
          "data": {
            "text/plain": [
              "{'', 'a', 'aa'}"
            ]
          },
          "metadata": {
            "tags": []
          },
          "execution_count": 8
        }
      ]
    },
    {
      "cell_type": "code",
      "metadata": {
        "run_control": {
          "frozen": false,
          "read_only": false
        },
        "id": "UUFGg45aFUbY",
        "colab": {
          "base_uri": "https://localhost:8080/"
        },
        "outputId": "bbd81ae3-5477-4983-b5f2-f493331e06de"
      },
      "source": [
        "L2 = {\"b\" * m for m in range(0,2)}\n",
        "L2"
      ],
      "execution_count": 9,
      "outputs": [
        {
          "output_type": "execute_result",
          "data": {
            "text/plain": [
              "{'', 'b'}"
            ]
          },
          "metadata": {
            "tags": []
          },
          "execution_count": 9
        }
      ]
    },
    {
      "cell_type": "code",
      "metadata": {
        "run_control": {
          "frozen": false,
          "read_only": false
        },
        "id": "W3gazwXmFUbZ",
        "colab": {
          "base_uri": "https://localhost:8080/"
        },
        "outputId": "a5c93ee7-5502-499e-9658-70917286d632"
      },
      "source": [
        "lcat(L1,L2)"
      ],
      "execution_count": 10,
      "outputs": [
        {
          "output_type": "execute_result",
          "data": {
            "text/plain": [
              "{'', 'a', 'aa', 'aab', 'ab', 'b'}"
            ]
          },
          "metadata": {
            "tags": []
          },
          "execution_count": 10
        }
      ]
    },
    {
      "cell_type": "code",
      "metadata": {
        "run_control": {
          "frozen": false,
          "read_only": false
        },
        "id": "sPitFPAnFUbZ",
        "colab": {
          "base_uri": "https://localhost:8080/"
        },
        "outputId": "71651e4b-86a1-466a-83a8-1b3a052ec180"
      },
      "source": [
        "lcat(lunit(), L1)"
      ],
      "execution_count": 11,
      "outputs": [
        {
          "output_type": "execute_result",
          "data": {
            "text/plain": [
              "{'', 'a', 'aa'}"
            ]
          },
          "metadata": {
            "tags": []
          },
          "execution_count": 11
        }
      ]
    },
    {
      "cell_type": "code",
      "metadata": {
        "run_control": {
          "frozen": false,
          "read_only": false
        },
        "id": "jMWgQn2jFUbZ",
        "colab": {
          "base_uri": "https://localhost:8080/"
        },
        "outputId": "a6f62f86-66a9-4867-8342-be4db98a5b00"
      },
      "source": [
        "x = {'','a'}\n",
        "xcrossx = { (a,b) for a in x for b in x}\n",
        "xcrossx"
      ],
      "execution_count": 12,
      "outputs": [
        {
          "output_type": "execute_result",
          "data": {
            "text/plain": [
              "{('', ''), ('', 'a'), ('a', ''), ('a', 'a')}"
            ]
          },
          "metadata": {
            "tags": []
          },
          "execution_count": 12
        }
      ]
    },
    {
      "cell_type": "code",
      "metadata": {
        "run_control": {
          "frozen": false,
          "read_only": false
        },
        "id": "qQSfJzdSFUbZ",
        "colab": {
          "base_uri": "https://localhost:8080/"
        },
        "outputId": "98fabca4-9d44-4850-e0d1-e33f48349317"
      },
      "source": [
        "len(lcat(x,x)) == len(xcrossx)"
      ],
      "execution_count": 13,
      "outputs": [
        {
          "output_type": "execute_result",
          "data": {
            "text/plain": [
              "False"
            ]
          },
          "metadata": {
            "tags": []
          },
          "execution_count": 13
        }
      ]
    },
    {
      "cell_type": "markdown",
      "metadata": {
        "editable": false,
        "run_control": {
          "frozen": false,
          "read_only": false
        },
        "id": "D23bLXRxFUba"
      },
      "source": [
        "__Language Concatenation vs. Cartesian Product__:\n",
        "\n",
        "<span style=\"color:blue\"> **Notice the similarity with cartesian product. We draw a string x from L1 and string y from L2, but instead of pairing them, we concatenate them.** </span>"
      ]
    },
    {
      "cell_type": "markdown",
      "metadata": {
        "editable": false,
        "run_control": {
          "frozen": false,
          "read_only": false
        },
        "id": "RI61vQtrFUba"
      },
      "source": [
        "## Illustrations \n",
        "\n",
        "We now illustrate \n",
        "\n",
        "* the Zero language lphi(), \n",
        "\n",
        "* unit language lunit(), \n",
        "\n",
        "* and the lcat() operator\n",
        "\n",
        "Let us take a simple example language L = $\\{{\\text 'a'}, {\\text 'bc'}\\}$ for illustration.\n",
        "\n",
        "Recall that in Python, there are multiple ways to quote strings ('a', \"a\", or \"\"\"a\"\"\"). The main idea is to support the nesting of quotes. So please don't be confused if we accidentally change our quoting method."
      ]
    },
    {
      "cell_type": "code",
      "metadata": {
        "editable": false,
        "run_control": {
          "frozen": false,
          "read_only": false
        },
        "id": "6apxaA3dFUba",
        "colab": {
          "base_uri": "https://localhost:8080/"
        },
        "outputId": "79584857-cdcb-48a4-f031-733635c820ef"
      },
      "source": [
        "L = {'a','bc'}\n",
        "\n",
        "print( \"lcat(lphi(), L) = \",  lcat(lphi(), L) )\n",
        " \n",
        "print( \"lcat(lunit(), L) = \",  lcat(lunit(), L)  )"
      ],
      "execution_count": 80,
      "outputs": [
        {
          "output_type": "stream",
          "text": [
            "lcat(lphi(), L) =  set()\n",
            "lcat(lunit(), L) =  {'a', 'bc'}\n"
          ],
          "name": "stdout"
        }
      ]
    },
    {
      "cell_type": "markdown",
      "metadata": {
        "editable": false,
        "run_control": {
          "frozen": false,
          "read_only": false
        },
        "id": "cgKIMV6mFUbb"
      },
      "source": [
        "\n",
        "Let us define another language through set comprehension, and exercise many different applications of concatenation.\n",
        "\n",
        "\n",
        "* Consider the language\n",
        "\n",
        " > M = $\\{ 0^m 1^n \\; \\mid \\; 0 \\leq m,n \\leq 3 \\;\\wedge\\; m < n \\}$"
      ]
    },
    {
      "cell_type": "code",
      "metadata": {
        "editable": false,
        "run_control": {
          "frozen": false,
          "read_only": false
        },
        "id": "81wGGcaiFUbb",
        "colab": {
          "base_uri": "https://localhost:8080/"
        },
        "outputId": "8c566e7c-356a-440d-8e6f-5a84c6939bcb"
      },
      "source": [
        "M = {\"0\"*m + \"1\"*n for m in range(3) for n in range(4) if m < n }\n",
        "print(M)"
      ],
      "execution_count": 81,
      "outputs": [
        {
          "output_type": "stream",
          "text": [
            "{'0111', '011', '11', '1', '111', '00111'}\n"
          ],
          "name": "stdout"
        }
      ]
    },
    {
      "cell_type": "code",
      "metadata": {
        "editable": false,
        "run_control": {
          "frozen": false,
          "read_only": false
        },
        "id": "9XJsLBtMFUbb",
        "colab": {
          "base_uri": "https://localhost:8080/"
        },
        "outputId": "e5ef282d-6312-4dc1-e5a9-d1aca1dce55a"
      },
      "source": [
        "print(\"lcat(L,M) = \", lcat(L,M))"
      ],
      "execution_count": 82,
      "outputs": [
        {
          "output_type": "stream",
          "text": [
            "lcat(L,M) =  {'bc0111', 'a011', 'a11', 'bc1', 'bc011', 'bc111', 'a1', 'a111', 'bc00111', 'a0111', 'bc11', 'a00111'}\n"
          ],
          "name": "stdout"
        }
      ]
    },
    {
      "cell_type": "code",
      "metadata": {
        "editable": false,
        "run_control": {
          "frozen": false,
          "read_only": false
        },
        "id": "EzcnxL64FUbc",
        "colab": {
          "base_uri": "https://localhost:8080/"
        },
        "outputId": "df475505-250e-43d0-89c9-b428de7b9301"
      },
      "source": [
        "print(\"lcat(M,lphi()) = \", lcat(M,lphi()))"
      ],
      "execution_count": 83,
      "outputs": [
        {
          "output_type": "stream",
          "text": [
            "lcat(M,lphi()) =  set()\n"
          ],
          "name": "stdout"
        }
      ]
    },
    {
      "cell_type": "code",
      "metadata": {
        "editable": false,
        "run_control": {
          "frozen": false,
          "read_only": false
        },
        "id": "-30mVXSxFUbc",
        "colab": {
          "base_uri": "https://localhost:8080/"
        },
        "outputId": "bbd574c4-7b74-431c-83d1-c937f207205d"
      },
      "source": [
        "print(\"lcat(M,lunit()) = \", lcat(M,lunit()))"
      ],
      "execution_count": 84,
      "outputs": [
        {
          "output_type": "stream",
          "text": [
            "lcat(M,lunit()) =  {'0111', '011', '11', '1', '111', '00111'}\n"
          ],
          "name": "stdout"
        }
      ]
    },
    {
      "cell_type": "markdown",
      "metadata": {
        "editable": false,
        "run_control": {
          "frozen": false,
          "read_only": false
        },
        "id": "yxj7Oe5cFUbc"
      },
      "source": [
        "<span style=\"color:green\"> **Need to add a few exercises here. ** </span>"
      ]
    },
    {
      "cell_type": "markdown",
      "metadata": {
        "editable": false,
        "run_control": {
          "frozen": false,
          "read_only": false
        },
        "id": "6O3neq4ZFUbc"
      },
      "source": [
        "### Exponentiation as repeated concatenation\n",
        "\n",
        "With concatenation and Unit under our belt, we can define exponentiation recursively. Exponentiation is repeated multiplication (which for us is concatenation).\n",
        "\n",
        "> $L^n = L L^{n-1}$\n",
        "\n",
        "> $L^0 = Unit$\n",
        "\n",
        "We must have $L^0 = lunit()$; that is the only logical choice. \n",
        "\n",
        "\n",
        "__Question:__  If you defined $L^0 = lphi()$, then what happens?\n",
        "\n",
        "The code below simulates the aforesaid recursion."
      ]
    },
    {
      "cell_type": "code",
      "metadata": {
        "editable": false,
        "run_control": {
          "frozen": false,
          "read_only": false
        },
        "id": "56Fb5cDYFUbc"
      },
      "source": [
        "def lexp(L,n):\n",
        "    \"\"\"In : L (language : a set),\n",
        "            n (exponent : a nat).\n",
        "       Out: L^n (language : a set).\n",
        "       Example:\n",
        "       L = {'ab', 'bc'}\n",
        "       n = 2\n",
        "       lexp(A,2) -> {'abab', 'bcab', 'bcbc', 'abbc'}\n",
        "    \"\"\"\n",
        "    return lunit() if n == 0 else lcat(L, lexp(L, n-1))"
      ],
      "execution_count": 85,
      "outputs": []
    },
    {
      "cell_type": "markdown",
      "metadata": {
        "editable": false,
        "run_control": {
          "frozen": false,
          "read_only": false
        },
        "id": "zbo9JzPrFUbd"
      },
      "source": [
        "\n",
        "__Let us now test our lexp functionality__:\n",
        "\n"
      ]
    },
    {
      "cell_type": "code",
      "metadata": {
        "editable": false,
        "run_control": {
          "frozen": false,
          "read_only": false
        },
        "id": "TGGOBnzaFUbd",
        "colab": {
          "base_uri": "https://localhost:8080/"
        },
        "outputId": "1ac3fd2e-9c65-4090-bfac-a0e35b4c9b16"
      },
      "source": [
        "L = {'a','bc'}\n",
        "lexp(L,2)"
      ],
      "execution_count": 86,
      "outputs": [
        {
          "output_type": "execute_result",
          "data": {
            "text/plain": [
              "{'aa', 'abc', 'bca', 'bcbc'}"
            ]
          },
          "metadata": {
            "tags": []
          },
          "execution_count": 86
        }
      ]
    },
    {
      "cell_type": "code",
      "metadata": {
        "editable": false,
        "run_control": {
          "frozen": false,
          "read_only": false
        },
        "id": "NVDT2MaeFUbd",
        "colab": {
          "base_uri": "https://localhost:8080/"
        },
        "outputId": "46725778-bc92-4618-c390-224adfe3f1b9"
      },
      "source": [
        "M = {\"0\"*m + \"1\"*n for m in range(3) for n in range(4) if m < n }\n",
        "print('M = ', M)\n",
        "print('lexp(M,2) = ')\n",
        "lexp(M,2)"
      ],
      "execution_count": 87,
      "outputs": [
        {
          "output_type": "stream",
          "text": [
            "M =  {'0111', '011', '11', '1', '111', '00111'}\n",
            "lexp(M,2) = \n"
          ],
          "name": "stdout"
        },
        {
          "output_type": "execute_result",
          "data": {
            "text/plain": [
              "{'0011100111',\n",
              " '00111011',\n",
              " '001110111',\n",
              " '001111',\n",
              " '0011111',\n",
              " '00111111',\n",
              " '01100111',\n",
              " '011011',\n",
              " '0110111',\n",
              " '0111',\n",
              " '011100111',\n",
              " '0111011',\n",
              " '01110111',\n",
              " '01111',\n",
              " '011111',\n",
              " '0111111',\n",
              " '100111',\n",
              " '1011',\n",
              " '10111',\n",
              " '11',\n",
              " '1100111',\n",
              " '11011',\n",
              " '110111',\n",
              " '111',\n",
              " '11100111',\n",
              " '111011',\n",
              " '1110111',\n",
              " '1111',\n",
              " '11111',\n",
              " '111111'}"
            ]
          },
          "metadata": {
            "tags": []
          },
          "execution_count": 87
        }
      ]
    },
    {
      "cell_type": "code",
      "metadata": {
        "editable": false,
        "run_control": {
          "frozen": false,
          "read_only": false
        },
        "id": "Vr8peWscFUbd",
        "colab": {
          "base_uri": "https://localhost:8080/"
        },
        "outputId": "67b56c5b-40d7-4357-b8f3-abe88fafa79f"
      },
      "source": [
        "L = {'a','bc'}\n",
        "M = {\"0\"*m + \"1\"*n for m in range(3) for n in range(4) if m < n }\n",
        "lexp(lcat(L,M),1)"
      ],
      "execution_count": 88,
      "outputs": [
        {
          "output_type": "execute_result",
          "data": {
            "text/plain": [
              "{'a00111',\n",
              " 'a011',\n",
              " 'a0111',\n",
              " 'a1',\n",
              " 'a11',\n",
              " 'a111',\n",
              " 'bc00111',\n",
              " 'bc011',\n",
              " 'bc0111',\n",
              " 'bc1',\n",
              " 'bc11',\n",
              " 'bc111'}"
            ]
          },
          "metadata": {
            "tags": []
          },
          "execution_count": 88
        }
      ]
    },
    {
      "cell_type": "markdown",
      "metadata": {
        "editable": false,
        "run_control": {
          "frozen": false,
          "read_only": false
        },
        "id": "f9IxrrC5FUbd"
      },
      "source": [
        "<span style=\"color:green\"> **Need to add a few exercises here. ** </span>"
      ]
    },
    {
      "cell_type": "markdown",
      "metadata": {
        "editable": false,
        "run_control": {
          "frozen": false,
          "read_only": false
        },
        "id": "7nQT_dzdFUbe"
      },
      "source": [
        "<span style=\"color:blue\"> **Definition of the star of a language through function lstar. Since star produces an infinite set in almost all cases, we define a _truncated_ version of star. ** </span>"
      ]
    },
    {
      "cell_type": "markdown",
      "metadata": {
        "editable": false,
        "run_control": {
          "frozen": false,
          "read_only": false
        },
        "id": "AgKiT6lRFUbe"
      },
      "source": [
        "\n",
        "### With lexp under our belt, we can define lstar. We will define \"star up to n\" and then set n to infinity.\n",
        "\n",
        "> $L^{*n} = L^n \\; \\cup \\; L^{*(n-1)}$\n",
        "\n",
        "> $L^{*0} = Unit$\n",
        "\n",
        "And thus the classical $L^* = L^{*n}\\;\\; {\\rm for}\\;\\; n=\\infty$, which we won't bother to \"run\" in Python :-).  We will only run $L^{*n}$ in Python.\n",
        "\n",
        "We also take care to test that lstar works correctly for lphi and Unit.\n"
      ]
    },
    {
      "cell_type": "code",
      "metadata": {
        "editable": false,
        "run_control": {
          "frozen": false,
          "read_only": false
        },
        "id": "KSfduEmmFUbe"
      },
      "source": [
        "def lunion(L1,L2):\n",
        "    \"\"\"In : L1 (language : a set),\n",
        "            L2 (language : a set).\n",
        "       Out: L1 union L2 (language : a set).\n",
        "    \"\"\"\n",
        "    return L1 | L2\n",
        "\n",
        "def lstar(L,n):\n",
        "    \"\"\"In : L (language : a set),\n",
        "            n (bound for lstar : a nat). \n",
        "       Out: L*_n (language : a set)\n",
        "    Example:\n",
        "    L = {'ab','bc'}\n",
        "    n = 2\n",
        "    lstar(L,2) -> {'abab', 'bcbc', 'ab', 'abbc', '', 'bc', 'bcab'}\n",
        "    \"\"\"\n",
        "    return lunit() if n == 0 else lunion(lexp(L,n), lstar(L,n-1))"
      ],
      "execution_count": 89,
      "outputs": []
    },
    {
      "cell_type": "code",
      "metadata": {
        "editable": false,
        "run_control": {
          "frozen": false,
          "read_only": false
        },
        "id": "HVZNxxJOFUbe",
        "colab": {
          "base_uri": "https://localhost:8080/"
        },
        "outputId": "7a7bd0ab-9e0b-44a3-b8f6-4f2d7543445e"
      },
      "source": [
        "L1 = {'a','bc'}\n",
        "lstar(L1,2) "
      ],
      "execution_count": 90,
      "outputs": [
        {
          "output_type": "execute_result",
          "data": {
            "text/plain": [
              "{'', 'a', 'aa', 'abc', 'bc', 'bca', 'bcbc'}"
            ]
          },
          "metadata": {
            "tags": []
          },
          "execution_count": 90
        }
      ]
    },
    {
      "cell_type": "code",
      "metadata": {
        "editable": false,
        "run_control": {
          "frozen": false,
          "read_only": false
        },
        "id": "fuuvPSEhFUbf",
        "colab": {
          "base_uri": "https://localhost:8080/"
        },
        "outputId": "8e450e2f-1f76-4455-ff65-90c4b57d9f61"
      },
      "source": [
        "L2 = {'ab','bc'}\n",
        "lstar(L2,2) "
      ],
      "execution_count": 91,
      "outputs": [
        {
          "output_type": "execute_result",
          "data": {
            "text/plain": [
              "{'', 'ab', 'abab', 'abbc', 'bc', 'bcab', 'bcbc'}"
            ]
          },
          "metadata": {
            "tags": []
          },
          "execution_count": 91
        }
      ]
    },
    {
      "cell_type": "code",
      "metadata": {
        "editable": false,
        "run_control": {
          "frozen": false,
          "read_only": false
        },
        "id": "RO3EvahdFUbf",
        "colab": {
          "base_uri": "https://localhost:8080/"
        },
        "outputId": "3510c0fb-fbd2-440c-fc9c-246737de1536"
      },
      "source": [
        "L2 = {'ab','bc'}\n",
        "lstar(L2,3)"
      ],
      "execution_count": 92,
      "outputs": [
        {
          "output_type": "execute_result",
          "data": {
            "text/plain": [
              "{'',\n",
              " 'ab',\n",
              " 'abab',\n",
              " 'ababab',\n",
              " 'ababbc',\n",
              " 'abbc',\n",
              " 'abbcab',\n",
              " 'abbcbc',\n",
              " 'bc',\n",
              " 'bcab',\n",
              " 'bcabab',\n",
              " 'bcabbc',\n",
              " 'bcbc',\n",
              " 'bcbcab',\n",
              " 'bcbcbc'}"
            ]
          },
          "metadata": {
            "tags": []
          },
          "execution_count": 92
        }
      ]
    },
    {
      "cell_type": "markdown",
      "metadata": {
        "editable": false,
        "run_control": {
          "frozen": false,
          "read_only": false
        },
        "id": "s83bZi0ZFUbf"
      },
      "source": [
        "#### Let us define a typical alphabet used in our studies: $\\Sigma = \\{0,1\\}$"
      ]
    },
    {
      "cell_type": "code",
      "metadata": {
        "editable": false,
        "run_control": {
          "frozen": false,
          "read_only": false
        },
        "id": "hJN0POZeFUbf"
      },
      "source": [
        "Sig01 = {'0','1'}"
      ],
      "execution_count": 93,
      "outputs": []
    },
    {
      "cell_type": "code",
      "metadata": {
        "editable": false,
        "run_control": {
          "frozen": false,
          "read_only": false
        },
        "id": "Ph1AC0CdFUbg",
        "colab": {
          "base_uri": "https://localhost:8080/"
        },
        "outputId": "8794a295-2ea5-4fea-fd8c-6d118f29ba43"
      },
      "source": [
        "lstar(Sig01,0)"
      ],
      "execution_count": 94,
      "outputs": [
        {
          "output_type": "execute_result",
          "data": {
            "text/plain": [
              "{''}"
            ]
          },
          "metadata": {
            "tags": []
          },
          "execution_count": 94
        }
      ]
    },
    {
      "cell_type": "code",
      "metadata": {
        "editable": false,
        "run_control": {
          "frozen": false,
          "read_only": false
        },
        "id": "AHGUUgFzFUbg",
        "colab": {
          "base_uri": "https://localhost:8080/"
        },
        "outputId": "7fe4d51b-bef8-4c1b-d8dc-1df8167684c6"
      },
      "source": [
        "lstar(Sig01,1)"
      ],
      "execution_count": 95,
      "outputs": [
        {
          "output_type": "execute_result",
          "data": {
            "text/plain": [
              "{'', '0', '1'}"
            ]
          },
          "metadata": {
            "tags": []
          },
          "execution_count": 95
        }
      ]
    },
    {
      "cell_type": "code",
      "metadata": {
        "editable": false,
        "run_control": {
          "frozen": false,
          "read_only": false
        },
        "id": "YK7roEn4FUbg",
        "colab": {
          "base_uri": "https://localhost:8080/"
        },
        "outputId": "1350f3a4-14a2-44f1-82ba-731cd360a14b"
      },
      "source": [
        "lstar(Sig01,2)"
      ],
      "execution_count": 96,
      "outputs": [
        {
          "output_type": "execute_result",
          "data": {
            "text/plain": [
              "{'', '0', '00', '01', '1', '10', '11'}"
            ]
          },
          "metadata": {
            "tags": []
          },
          "execution_count": 96
        }
      ]
    },
    {
      "cell_type": "code",
      "metadata": {
        "editable": false,
        "run_control": {
          "frozen": false,
          "read_only": false
        },
        "id": "QPwWyEFOFUbg"
      },
      "source": [
        ""
      ],
      "execution_count": 96,
      "outputs": []
    },
    {
      "cell_type": "code",
      "metadata": {
        "editable": false,
        "run_control": {
          "frozen": false,
          "read_only": false
        },
        "id": "nS_lEIxYFUbg",
        "colab": {
          "base_uri": "https://localhost:8080/"
        },
        "outputId": "47cd250b-ffc7-48a5-efd1-7ce426541531"
      },
      "source": [
        "lstar(Sig01,3)"
      ],
      "execution_count": 97,
      "outputs": [
        {
          "output_type": "execute_result",
          "data": {
            "text/plain": [
              "{'',\n",
              " '0',\n",
              " '00',\n",
              " '000',\n",
              " '001',\n",
              " '01',\n",
              " '010',\n",
              " '011',\n",
              " '1',\n",
              " '10',\n",
              " '100',\n",
              " '101',\n",
              " '11',\n",
              " '110',\n",
              " '111'}"
            ]
          },
          "metadata": {
            "tags": []
          },
          "execution_count": 97
        }
      ]
    },
    {
      "cell_type": "markdown",
      "metadata": {
        "editable": false,
        "run_control": {
          "frozen": false,
          "read_only": false
        },
        "id": "_KrmpHVuFUbh"
      },
      "source": [
        "<span style=\"color:blue\"> **Let's do a few exercises involving lstar. Use the pull-down provided by ipywidgets to select your language. Then use the slider to change the lstar truncation limit. If you had an infinite slider and slid it all the way to the right, you would be witnessing the \"true star\" :-) ** </span>"
      ]
    },
    {
      "cell_type": "code",
      "metadata": {
        "run_control": {
          "frozen": false,
          "read_only": false
        },
        "id": "LK-lHHo_FUbh",
        "colab": {
          "base_uri": "https://localhost:8080/",
          "height": 0,
          "referenced_widgets": [
            "f19f4b245433437b972d1c32672aefb7",
            "5766244722d64c298f7308e0b98a4fd7",
            "7a5b5badbee54f43808bb88c8b6a1a29",
            "f73a2ea001fe442c98da87fba8a38c8c",
            "db14592ffe7942b0882bfe8341b3e2e6",
            "5192bcde6ece4dae8ef0e9e7f8436f52",
            "bb05536400894337a4c034c401b93d62",
            "4ed0cd3d592240a7813a9d890bd4860b",
            "6d72c8daba5c4189a522d5be5d8c845b",
            "2a3739d8d3cd4e69821d2ff14f8f9dd5"
          ]
        },
        "outputId": "9ff05ba1-b5af-4778-9b1a-365363f8ac89"
      },
      "source": [
        "import ipywidgets as wdg\n",
        "L1 = {'a','bc'}\n",
        "L2 = {'ab','bc'}\n",
        "L3 = {'a','b','c'}\n",
        "M =  {'011', '111', '11', '0111', '00111', '1'}\n",
        "\n",
        "wdg.interact(lstar,\n",
        "L={'L3': L3, 'L1': L1, 'L2':L2, 'M': M, 'lphi': lphi(), 'lunit' : lunit()}, n=(0,7))"
      ],
      "execution_count": 98,
      "outputs": [
        {
          "output_type": "display_data",
          "data": {
            "application/vnd.jupyter.widget-view+json": {
              "model_id": "f19f4b245433437b972d1c32672aefb7",
              "version_minor": 0,
              "version_major": 2
            },
            "text/plain": [
              "interactive(children=(Dropdown(description='L', options={'L3': {'b', 'c', 'a'}, 'L1': {'bc', 'a'}, 'L2': {'bc'…"
            ]
          },
          "metadata": {
            "tags": []
          }
        },
        {
          "output_type": "execute_result",
          "data": {
            "text/plain": [
              "<function __main__.lstar>"
            ]
          },
          "metadata": {
            "tags": []
          },
          "execution_count": 98
        }
      ]
    },
    {
      "cell_type": "code",
      "metadata": {
        "editable": false,
        "run_control": {
          "frozen": false,
          "read_only": false
        },
        "id": "JgeGudmDFUbj",
        "colab": {
          "base_uri": "https://localhost:8080/",
          "height": 0,
          "referenced_widgets": [
            "082e80c8c7364d108d901743d28f409f",
            "808ecdf4961f4122994282ffef23e73e",
            "2db313c9e34e469ba15bac5c62d5b67d",
            "52b3bae5baec4bb1895c3d7dd7567151",
            "767ea909d04e4be19be50f1edf98b2c4",
            "bcfdb9ad6d30447281d1bee1d2c43649",
            "83a217329732428eb5712509e43f5168",
            "ba2b607e88be4ff8839ec9d2275ba2ff",
            "c242ca3b9c4349be971de89806a7e4a0",
            "50fe04b9ba424e01bdae0280563139bc"
          ]
        },
        "outputId": "1708e42f-8b7a-47f0-f836-26e8cc6cef76"
      },
      "source": [
        "import ipywidgets as wdg\n",
        "L1 = {'a','bc'}\n",
        "L2 = {'ab','bc'}\n",
        "M =  {'011', '111', '11', '0111', '00111', '1'}\n",
        "\n",
        "wdg.interact(lstar,\n",
        "L={'L1': L1, 'L2':L2, 'M': M, 'lphi': lphi(), 'lunit' : lunit()}, n=(0,7))"
      ],
      "execution_count": 99,
      "outputs": [
        {
          "output_type": "display_data",
          "data": {
            "application/vnd.jupyter.widget-view+json": {
              "model_id": "082e80c8c7364d108d901743d28f409f",
              "version_minor": 0,
              "version_major": 2
            },
            "text/plain": [
              "interactive(children=(Dropdown(description='L', options={'L1': {'bc', 'a'}, 'L2': {'bc', 'ab'}, 'M': {'0111', …"
            ]
          },
          "metadata": {
            "tags": []
          }
        },
        {
          "output_type": "execute_result",
          "data": {
            "text/plain": [
              "<function __main__.lstar>"
            ]
          },
          "metadata": {
            "tags": []
          },
          "execution_count": 99
        }
      ]
    },
    {
      "cell_type": "markdown",
      "metadata": {
        "id": "uRo90ZxsFUbj"
      },
      "source": [
        "## Important use-case: Star of an alphabet\n",
        "\n",
        "We generate the universe of strings possible over an alphabet by starring the alphabet (viewed as a language of strings of length 1). The illustration below shows that."
      ]
    },
    {
      "cell_type": "code",
      "metadata": {
        "id": "FF1Ysy8yFUbj",
        "colab": {
          "base_uri": "https://localhost:8080/",
          "height": 353,
          "referenced_widgets": [
            "ad96e88cf7b44e3fa8299b7a9582319b",
            "a4c41cb5b5a64232b4e84821076fe261",
            "3b38e8121b164e30806d80f6ed88d0d5",
            "4e2cd24fc7d84a3c922ac71049f88e4a",
            "6915ac97f6b440d39a9dae31a15e7444",
            "fbd9f2715cdb4851b03d8ff614567e9f",
            "5bb1db3a1df14c7c96fe23f8db2b2e07",
            "676ccf1a41c64293881e1a13a4b3c43e",
            "162dc0575f574f4493e3a1aa9f2a1021",
            "90ea141d34c44de9b4b5c5501ec80a47"
          ]
        },
        "outputId": "38156c05-cba8-414a-890f-bb1d40d42e89"
      },
      "source": [
        "Alph1 = {'a','b'}\n",
        "Alph2 = {'0','1'}\n",
        "wdg.interact(lstar, L={'Alph1': Alph1, 'Alph2':Alph2}, n=(0,7))"
      ],
      "execution_count": 34,
      "outputs": [
        {
          "output_type": "display_data",
          "data": {
            "application/vnd.jupyter.widget-view+json": {
              "model_id": "ad96e88cf7b44e3fa8299b7a9582319b",
              "version_minor": 0,
              "version_major": 2
            },
            "text/plain": [
              "interactive(children=(Dropdown(description='L', options={'Alph1': {'b', 'a'}, 'Alph2': {'1', '0'}}, value={'b'…"
            ]
          },
          "metadata": {
            "tags": []
          }
        },
        {
          "output_type": "execute_result",
          "data": {
            "text/plain": [
              "<function __main__.lstar>"
            ]
          },
          "metadata": {
            "tags": []
          },
          "execution_count": 34
        }
      ]
    },
    {
      "cell_type": "code",
      "metadata": {
        "editable": false,
        "run_control": {
          "frozen": false,
          "read_only": false
        },
        "id": "S5TQbIisFUbk",
        "colab": {
          "base_uri": "https://localhost:8080/"
        },
        "outputId": "1ea8b5bb-c044-4877-f6ae-e38427dda5d8"
      },
      "source": [
        "print(lstar(lunit(),10))\n",
        "print(lstar(lstar(lunit(), 10), 10))"
      ],
      "execution_count": 35,
      "outputs": [
        {
          "output_type": "stream",
          "text": [
            "{''}\n",
            "{''}\n"
          ],
          "name": "stdout"
        }
      ]
    },
    {
      "cell_type": "markdown",
      "metadata": {
        "editable": false,
        "run_control": {
          "frozen": false,
          "read_only": false
        },
        "id": "mIbI2SwAFUbk"
      },
      "source": [
        "\n",
        "Now, we present a set of operations on strings and languages that are self-explanatory, so we'll just summarize them:\n",
        "\n",
        "* srev - reverse a string\n",
        "* lrev - reverse a language. It maps srev over a language (set of strings).\n",
        "* shomo - apply a language homomorphism using a lambda passed in.  You can \"rot13\" code email using this :-)\n",
        "* lhomo - apply a homomorphism to a language.\n",
        "\n",
        "Since tests are embedded in the doc-strings of these functions, we will not show tests separately, but feel free to add tests.\n"
      ]
    },
    {
      "cell_type": "code",
      "metadata": {
        "editable": false,
        "run_control": {
          "frozen": false,
          "read_only": false
        },
        "id": "DpFgLYcYFUbk"
      },
      "source": [
        "# In Python, there isn't direct support for reversing a string.\n",
        "# The backward selection method implemented by S[::-1] is what \n",
        "# many recommend. This leaves the start and stride empty, and\n",
        "# specifies the direction to be going backwards. \n",
        "# Another method is \"\".join(reversed(s)) to reverse s\n",
        "\n",
        "def srev(S):\n",
        "    \"\"\"In : S (string)\n",
        "       Out: reverse of S (string)\n",
        "       Example:\n",
        "       srev('ab') -> 'ba'\n",
        "    \"\"\"\n",
        "    return S[::-1] \n",
        "\n",
        "def lrev(L):\n",
        "    \"\"\"In : L (language : a set)\n",
        "       Out: reverse of L (language : a set)\n",
        "       Example: \n",
        "       lrev({'ab', 'bc'}) -> {'cb', 'ba'}\n",
        "    \"\"\"\n",
        "    return set(map(lambda x: srev(x), L))\n",
        "\n",
        "def shomo(S,f):\n",
        "    \"\"\"In : S (string)\n",
        "            f (function from char to char)\n",
        "       Out: String homomorphism of S wrt f.\n",
        "       Example: \n",
        "       S = \"abcd\"\n",
        "       f = lambda x: chr( (ord(x)+1) % 256 )\n",
        "       shomo(\"abcd\",f) -> 'bcde'  \n",
        "    \"\"\"\n",
        "    return \"\".join(map(f,S))\n",
        "\n",
        "def lhomo(L,f):\n",
        "    \"\"\"In : L (language : set of strings)\n",
        "            f (function from char to char)\n",
        "       Out: Lang. homomorphism of L wrt f (language : set of str)\n",
        "       Example:\n",
        "       L = {\"Hello there\", \"a\", \"A\"}\n",
        "       f = rot13 = lambda x: chr( (ord(x)+13) % 256 )\n",
        "       lhomo(L, rot13) -> {'N', 'Uryy|-\\x81ur\\x7fr', 'n'}\n",
        "    \"\"\"\n",
        "    return set(map(lambda S: shomo(S,f), L))"
      ],
      "execution_count": 36,
      "outputs": []
    },
    {
      "cell_type": "markdown",
      "metadata": {
        "editable": false,
        "run_control": {
          "frozen": false,
          "read_only": false
        },
        "id": "c2qXwHHHFUbk"
      },
      "source": [
        "<span style=\"color:blue\"> **Let's do a few exercises involving srev, lrev, shomo and lhomo. ** </span>"
      ]
    },
    {
      "cell_type": "code",
      "metadata": {
        "editable": false,
        "run_control": {
          "frozen": false,
          "read_only": false
        },
        "id": "BJ-82j7WFUbl",
        "colab": {
          "base_uri": "https://localhost:8080/"
        },
        "outputId": "dad14f73-4826-4229-9d01-eec2ea5f9db7"
      },
      "source": [
        "L={'ab', '007'}\n",
        "\n",
        "# modulo-rotate all chars by one.\n",
        "rot1 = lambda x: chr( (ord(x)+1) % 256 ) \n",
        "\n",
        "# Don't be baffled if the sets print in a different order!               \n",
        "# Sets don't have a required positional presentation order\n",
        "# Watch for the CONTENTS of the set reversing !!\n",
        "print('lrev(L) = ', lrev(L)) \n",
        "\n",
        "print('lhomo(L, rot1) = ', lhomo(L, rot1))\n",
        "\n",
        "print('lrev(lhomo(L), rot1) = ', lrev(lhomo(L, rot1)))\n"
      ],
      "execution_count": 37,
      "outputs": [
        {
          "output_type": "stream",
          "text": [
            "lrev(L) =  {'ba', '700'}\n",
            "lhomo(L, rot1) =  {'bc', '118'}\n",
            "lrev(lhomo(L), rot1) =  {'811', 'cb'}\n"
          ],
          "name": "stdout"
        }
      ]
    },
    {
      "cell_type": "markdown",
      "metadata": {
        "editable": false,
        "run_control": {
          "frozen": false,
          "read_only": false
        },
        "id": "ClfSZmEVFUbl"
      },
      "source": [
        "<span style=\"color:blue\"> **We now introduce powersets which you may have forgotten. We will need this when discussing non-deterministic finite automata.** </span>"
      ]
    },
    {
      "cell_type": "markdown",
      "metadata": {
        "editable": false,
        "run_control": {
          "frozen": false,
          "read_only": false
        },
        "id": "W8hi-lswFUbl"
      },
      "source": [
        "\n",
        "\n",
        "We now define the powerset of a set S. We work with lists, as sets cannot contain other sets (not hashable, etc). But barring all that, here is the recursive definition being used.\n",
        "\n",
        "> Let $PowSminusX$ = $powset(S \\setminus x)$\n",
        "\n",
        "> Then, given $x \\in S$, we have $powset(S)$ = $PowSminusX  \\cup$  { $y\\cup x$  $\\mid$ $y\\in PowSminusX$ } \n",
        "\n",
        "That is,\n",
        "\n",
        "* Take out some $x\\in S$\n",
        "\n",
        "* Recursively compute $PowSminusX$\n",
        "\n",
        "* Now, $powset(S)$ has all the sets in $PowSminusX$ plus all the sets in $PowSminusX$ with $x$ added back, as well.\n",
        "\n",
        "Here is that code now.\n"
      ]
    },
    {
      "cell_type": "code",
      "metadata": {
        "editable": false,
        "run_control": {
          "frozen": false,
          "read_only": false
        },
        "id": "2uw_ntqmFUbl"
      },
      "source": [
        "def powset(S):\n",
        "    \"\"\"In : S (set)\n",
        "       Out: List of lists representing powerset.\n",
        "            Since sets/lists are unhashable, we convert the set \n",
        "            to a list,perform the powerset operations, leaving \n",
        "            the result as a list (can't convert back to a set).\n",
        "       Example:\n",
        "       S = {'ab', 'bc'}\n",
        "       powset(S) -> [['ab', 'bc'], ['bc'], ['ab'], []]\n",
        "    \"\"\"\n",
        "    L=list(S)\n",
        "    if L==[]:\n",
        "        return([[]])\n",
        "    else:\n",
        "        pow_rest0 = powset(L[1:])\n",
        "        pow_rest1 = list(map(lambda Ls: [L[0]] + Ls, pow_rest0))\n",
        "        return(pow_rest0 + pow_rest1)"
      ],
      "execution_count": 38,
      "outputs": []
    },
    {
      "cell_type": "code",
      "metadata": {
        "run_control": {
          "frozen": false,
          "read_only": false
        },
        "id": "9BKcVKn6FUbm",
        "colab": {
          "base_uri": "https://localhost:8080/"
        },
        "outputId": "af2f0786-38cb-48e6-865e-0c8a66317b90"
      },
      "source": [
        "powset({'a','b','c'})"
      ],
      "execution_count": 39,
      "outputs": [
        {
          "output_type": "execute_result",
          "data": {
            "text/plain": [
              "[[], ['a'], ['c'], ['c', 'a'], ['b'], ['b', 'a'], ['b', 'c'], ['b', 'c', 'a']]"
            ]
          },
          "metadata": {
            "tags": []
          },
          "execution_count": 39
        }
      ]
    },
    {
      "cell_type": "markdown",
      "metadata": {
        "editable": false,
        "run_control": {
          "frozen": false,
          "read_only": false
        },
        "id": "fZszVzq6FUbm"
      },
      "source": [
        "<span style=\"color:blue\"> **There are familiar operations on languages such as union and intersection. \n",
        "PAY SPECIAL ATTENTION to lcomplem, the function computing language complements.\n",
        "The definition of language complement is with respect to the universe  $\\Sigma^*$. \n",
        "Since we can compute only finite approximations of star, the function lcomplem is also like star in that we take a truncation parameter. You can follow how lcomplem works through experiments; once you get that, you must imagine how it works in math.\n",
        "Also pay attenti\n",
        "on to cartesian product. It works like normal cartesian products do (you may see a superficial similarity with concatenation where we draw pairs of strings but concatenate the strings). ** </span>"
      ]
    },
    {
      "cell_type": "markdown",
      "metadata": {
        "editable": false,
        "run_control": {
          "frozen": false,
          "read_only": false
        },
        "id": "881UTQHQFUbm"
      },
      "source": [
        "\n",
        "Finally, we have a whole list of familiar language-theoretic operations:\n",
        "\n",
        "* lunion - language union\n",
        "\n",
        "* lint - language intersection\n",
        "\n",
        "* lsymdiff - language symmetric difference\n",
        "\n",
        "* lminus - language subtraction\n",
        "\n",
        "* lissubset - language subset test\n",
        "\n",
        "* lissuperset - language superset test\n",
        "\n",
        "* lcomplem - language complement with respect to \"star upto m\" of the alphabet (not the full alphabet star, mind you)\n",
        "\n",
        "* product - cartesian product\n",
        "\n",
        "We do not provide too many tests for these rather familiar functions. But please make sure you understand language complements well!\n"
      ]
    },
    {
      "cell_type": "code",
      "metadata": {
        "editable": false,
        "run_control": {
          "frozen": false,
          "read_only": false
        },
        "id": "NeK68CRYFUbm"
      },
      "source": [
        "# Define lunion (as before)\n",
        "def lunion(L1,L2):\n",
        "    \"\"\"In : L1 (language : set of strings)\n",
        "            L2 (language : set of strings)\n",
        "       Out: L1 union L2 (sets of strings)\n",
        "    \"\"\"\n",
        "    return L1 | L2\n",
        "\n",
        "def lint(L1,L2):\n",
        "    \"\"\"In : L1 (language : set of strings)\n",
        "            L2 (language : set of strings)\n",
        "       Out: L1 intersection L2 (sets of strings)\n",
        "    \"\"\"\n",
        "    return L1 & L2\n",
        "\n",
        "def lsymdiff(L1,L2):\n",
        "    \"\"\"In : L1 (language : set of strings)\n",
        "            L2 (language : set of strings)\n",
        "       Out: (L1 \\ L2) union (L2 \\ L1) (sets of strings)\n",
        "       Example:\n",
        "       lsymdiff({'ab', 'bc'}, {'11', 'ab', '22'}) -> {'11', '22', 'bc'}\n",
        "    \"\"\"\n",
        "    return L1 ^ L2\n",
        "\n",
        "def lminus(L1,L2):\n",
        "    \"\"\"Language subtraction of two languages (sets of strings)\n",
        "       Can do it as L1.difference(L2) also. \n",
        "    \"\"\"\n",
        "    return L1 - L2\n",
        "\n",
        "def lissubset(L1,L2):\n",
        "    \"\"\"In : L1 (language : set of strings)\n",
        "            L2 (language : set of strings)\n",
        "       Out: L1 is subset or equal to L2 (True/False)\n",
        "    \"\"\"\n",
        "    return L1 <= L2\n",
        "\n",
        "def lissuperset(L1,L2):\n",
        "    \"\"\"In : L1 (language : set of strings)\n",
        "            L2 (language : set of strings)\n",
        "       Out: L1 is superset or equal to L2 (True/False)\n",
        "    \"\"\"\n",
        "    return L1 >= L2\n",
        "    \n",
        "def lcomplem(L,sigma,n):\n",
        "    \"\"\"In : L (language : set of strings)\n",
        "            sigma (alphabet : set of strings)\n",
        "            n (finite limit for lstar : int)\n",
        "       Out : sigma*_n - L (language : set of strings)\n",
        "       Example:\n",
        "       L = {'0', '10', '010'}\n",
        "       sigma = {'0', '1'}\n",
        "       n = 3\n",
        "       lcomplem(L4,{'0','1'}, 3) -> \n",
        "       {'', '000', '101', '011', '00', '1', \n",
        "        '001', '110', '111', '100', '01', '11'}\n",
        "    \"\"\"\n",
        "    return lstar(sigma,n) - L  \n",
        "\n",
        "def product(S1,S2):\n",
        "    \"\"\"In : S1 (set)\n",
        "            S2 (set)\n",
        "       Out: Cartesian product of S1 and S2 (set of pairs)\n",
        "    \"\"\"\n",
        "    return { (x,y) for x in S1 for y in S2 }\n",
        "\n",
        "#--end"
      ],
      "execution_count": 40,
      "outputs": []
    },
    {
      "cell_type": "code",
      "metadata": {
        "editable": false,
        "run_control": {
          "frozen": false,
          "read_only": false
        },
        "id": "kdeauf5jFUbm"
      },
      "source": [
        "L1 = {'0101'}"
      ],
      "execution_count": 41,
      "outputs": []
    },
    {
      "cell_type": "code",
      "metadata": {
        "editable": false,
        "run_control": {
          "frozen": false,
          "read_only": false
        },
        "id": "QQ0hTX5NFUbn"
      },
      "source": [
        "L2 = lstar({'0','1'}, 2)"
      ],
      "execution_count": 42,
      "outputs": []
    },
    {
      "cell_type": "code",
      "metadata": {
        "editable": false,
        "run_control": {
          "frozen": false,
          "read_only": false
        },
        "id": "f5TSRlcLFUbn"
      },
      "source": [
        "# Python variable L2L1 denotes concat of L2 and L1\n",
        "L2L1 = lcat(L2,L1)  "
      ],
      "execution_count": 43,
      "outputs": []
    },
    {
      "cell_type": "code",
      "metadata": {
        "editable": false,
        "run_control": {
          "frozen": false,
          "read_only": false
        },
        "id": "jX1TnaUVFUbn",
        "colab": {
          "base_uri": "https://localhost:8080/"
        },
        "outputId": "a8e35925-bdf2-49a6-f5ed-062dbd3f4f85"
      },
      "source": [
        "L2L1"
      ],
      "execution_count": 44,
      "outputs": [
        {
          "output_type": "execute_result",
          "data": {
            "text/plain": [
              "{'000101', '00101', '0101', '010101', '100101', '10101', '110101'}"
            ]
          },
          "metadata": {
            "tags": []
          },
          "execution_count": 44
        }
      ]
    },
    {
      "cell_type": "code",
      "metadata": {
        "editable": false,
        "run_control": {
          "frozen": false,
          "read_only": false
        },
        "id": "XbCvBtPUFUbn"
      },
      "source": [
        "L3 = lcat(L1, lunion(lunit(), L2L1))  "
      ],
      "execution_count": 45,
      "outputs": []
    },
    {
      "cell_type": "code",
      "metadata": {
        "editable": false,
        "run_control": {
          "frozen": false,
          "read_only": false
        },
        "id": "LVlAHNdtFUbn",
        "colab": {
          "base_uri": "https://localhost:8080/"
        },
        "outputId": "03bf4c1a-f087-4b5d-9521-632842f50f35"
      },
      "source": [
        "L3"
      ],
      "execution_count": 46,
      "outputs": [
        {
          "output_type": "execute_result",
          "data": {
            "text/plain": [
              "{'0101',\n",
              " '0101000101',\n",
              " '010100101',\n",
              " '01010101',\n",
              " '0101010101',\n",
              " '0101100101',\n",
              " '010110101',\n",
              " '0101110101'}"
            ]
          },
          "metadata": {
            "tags": []
          },
          "execution_count": 46
        }
      ]
    },
    {
      "cell_type": "code",
      "metadata": {
        "editable": false,
        "run_control": {
          "frozen": false,
          "read_only": false
        },
        "id": "-_9Oqb2XFUbn",
        "colab": {
          "base_uri": "https://localhost:8080/"
        },
        "outputId": "fd37ecae-1fcb-4134-b0a5-acdb75280a99"
      },
      "source": [
        "# Note that I've provided a truncation limit of 10 for lstar\n",
        "# involved in language complement.\n",
        "\n",
        "L4 = {'0', '10', '010'}\n",
        "\n",
        "print('L4 = ', L4)\n",
        "\n",
        "print(\"----\")\n",
        "print(\"lcomplem(L4,{'0','1'}, 1) = \",  lcomplem(L4,{'0','1'}, 1) )  \n",
        "\n",
        "print(\"----\")\n",
        "print(\"lcomplem(L4,{'0','1'}, 2) = \",  lcomplem(L4,{'0','1'}, 2) ) \n",
        "\n",
        "print(\"----\")\n",
        "print(\"lcomplem(L4,{'0','1'}, 3) = \",  lcomplem(L4,{'0','1'}, 3) ) \n",
        "\n",
        "print(\"----\")\n",
        "print(\"lcomplem(L4,{'0','1'}, 4) = \",  lcomplem(L4,{'0','1'}, 4) ) \n",
        "\n",
        "print(\"----\")\n",
        "print(\"In the limit, we get everything in {0,1}* \")\n",
        "print(\".. except for '0', '10', and '010'. \")"
      ],
      "execution_count": 47,
      "outputs": [
        {
          "output_type": "stream",
          "text": [
            "L4 =  {'10', '010', '0'}\n",
            "----\n",
            "lcomplem(L4,{'0','1'}, 1) =  {'', '1'}\n",
            "----\n",
            "lcomplem(L4,{'0','1'}, 2) =  {'', '01', '11', '00', '1'}\n",
            "----\n",
            "lcomplem(L4,{'0','1'}, 3) =  {'', '011', '101', '01', '11', '00', '1', '111', '100', '001', '000', '110'}\n",
            "----\n",
            "lcomplem(L4,{'0','1'}, 4) =  {'', '101', '01', '1010', '1100', '1101', '1111', '1', '100', '000', '0100', '0111', '011', '1000', '11', '00', '0011', '0010', '1110', '0101', '0000', '1001', '111', '001', '1011', '0001', '110', '0110'}\n",
            "----\n",
            "In the limit, we get everything in {0,1}* \n",
            ".. except for '0', '10', and '010'. \n"
          ],
          "name": "stdout"
        }
      ]
    },
    {
      "cell_type": "markdown",
      "metadata": {
        "collapsed": true,
        "editable": false,
        "run_control": {
          "frozen": false,
          "read_only": false
        },
        "id": "ZONueqAnFUbn"
      },
      "source": [
        "<span style=\"color:blue\"> **This finishes Chapter-2 of the book ** </span>"
      ]
    },
    {
      "cell_type": "code",
      "metadata": {
        "run_control": {
          "frozen": false,
          "read_only": false
        },
        "id": "o65StR2aFUbo",
        "colab": {
          "base_uri": "https://localhost:8080/"
        },
        "outputId": "53b3e02c-eb6d-4a49-e1a5-94fd3e2b836c"
      },
      "source": [
        "help(lsymdiff)"
      ],
      "execution_count": 48,
      "outputs": [
        {
          "output_type": "stream",
          "text": [
            "Help on function lsymdiff in module __main__:\n",
            "\n",
            "lsymdiff(L1, L2)\n",
            "    In : L1 (language : set of strings)\n",
            "         L2 (language : set of strings)\n",
            "    Out: (L1 \\ L2) union (L2 \\ L1) (sets of strings)\n",
            "    Example:\n",
            "    lsymdiff({'ab', 'bc'}, {'11', 'ab', '22'}) -> {'11', '22', 'bc'}\n",
            "\n"
          ],
          "name": "stdout"
        }
      ]
    },
    {
      "cell_type": "code",
      "metadata": {
        "run_control": {
          "frozen": false,
          "read_only": false
        },
        "id": "huIC0dyvFUbo"
      },
      "source": [
        "As = { \"a\"*i for i in range(8)}"
      ],
      "execution_count": 49,
      "outputs": []
    },
    {
      "cell_type": "code",
      "metadata": {
        "run_control": {
          "frozen": false,
          "read_only": false
        },
        "id": "uBveNITsFUbo",
        "colab": {
          "base_uri": "https://localhost:8080/"
        },
        "outputId": "e859b3de-4966-4f08-a788-6faedb8969c9"
      },
      "source": [
        "As"
      ],
      "execution_count": 50,
      "outputs": [
        {
          "output_type": "execute_result",
          "data": {
            "text/plain": [
              "{'', 'a', 'aa', 'aaa', 'aaaa', 'aaaaa', 'aaaaaa', 'aaaaaaa'}"
            ]
          },
          "metadata": {
            "tags": []
          },
          "execution_count": 50
        }
      ]
    },
    {
      "cell_type": "code",
      "metadata": {
        "run_control": {
          "frozen": false,
          "read_only": false
        },
        "id": "3CCxEHWzFUbo"
      },
      "source": [
        "Bs = { \"b\"*i for i in range(8)}"
      ],
      "execution_count": 51,
      "outputs": []
    },
    {
      "cell_type": "code",
      "metadata": {
        "run_control": {
          "frozen": false,
          "read_only": false
        },
        "id": "VuMwfIQdFUbo",
        "colab": {
          "base_uri": "https://localhost:8080/"
        },
        "outputId": "3d3ae358-248e-445e-d977-0bb7af5d195a"
      },
      "source": [
        "Bs"
      ],
      "execution_count": 52,
      "outputs": [
        {
          "output_type": "execute_result",
          "data": {
            "text/plain": [
              "{'', 'b', 'bb', 'bbb', 'bbbb', 'bbbbb', 'bbbbbb', 'bbbbbbb'}"
            ]
          },
          "metadata": {
            "tags": []
          },
          "execution_count": 52
        }
      ]
    },
    {
      "cell_type": "code",
      "metadata": {
        "run_control": {
          "frozen": false,
          "read_only": false
        },
        "id": "81oxz43sFUbp"
      },
      "source": [
        "Cs = { \"c\"*i for i in range(8)}"
      ],
      "execution_count": 53,
      "outputs": []
    },
    {
      "cell_type": "code",
      "metadata": {
        "run_control": {
          "frozen": false,
          "read_only": false
        },
        "id": "pVBmBSjaFUbp",
        "colab": {
          "base_uri": "https://localhost:8080/"
        },
        "outputId": "e8edcf31-d48b-4c2f-eea5-2db617cfc3d8"
      },
      "source": [
        "Cs"
      ],
      "execution_count": 54,
      "outputs": [
        {
          "output_type": "execute_result",
          "data": {
            "text/plain": [
              "{'', 'c', 'cc', 'ccc', 'cccc', 'ccccc', 'cccccc', 'ccccccc'}"
            ]
          },
          "metadata": {
            "tags": []
          },
          "execution_count": 54
        }
      ]
    },
    {
      "cell_type": "code",
      "metadata": {
        "run_control": {
          "frozen": false,
          "read_only": false
        },
        "id": "GyBp5UthFUbp"
      },
      "source": [
        "ABs = { \"a\"*i + \"b\" * i for i in range (8)}"
      ],
      "execution_count": 55,
      "outputs": []
    },
    {
      "cell_type": "code",
      "metadata": {
        "run_control": {
          "frozen": false,
          "read_only": false
        },
        "id": "qQpC3aNyFUbp",
        "colab": {
          "base_uri": "https://localhost:8080/"
        },
        "outputId": "ac22aea9-cdba-4df7-a740-8383dacb13b8"
      },
      "source": [
        "ABs"
      ],
      "execution_count": 56,
      "outputs": [
        {
          "output_type": "execute_result",
          "data": {
            "text/plain": [
              "{'',\n",
              " 'aaaaaaabbbbbbb',\n",
              " 'aaaaaabbbbbb',\n",
              " 'aaaaabbbbb',\n",
              " 'aaaabbbb',\n",
              " 'aaabbb',\n",
              " 'aabb',\n",
              " 'ab'}"
            ]
          },
          "metadata": {
            "tags": []
          },
          "execution_count": 56
        }
      ]
    },
    {
      "cell_type": "code",
      "metadata": {
        "run_control": {
          "frozen": false,
          "read_only": false
        },
        "id": "XiufngPsFUbp"
      },
      "source": [
        "BCs = { \"b\"*i + \"c\" * i for i in range (8)}"
      ],
      "execution_count": 57,
      "outputs": []
    },
    {
      "cell_type": "code",
      "metadata": {
        "run_control": {
          "frozen": false,
          "read_only": false
        },
        "id": "tqPuPuUMFUbp",
        "colab": {
          "base_uri": "https://localhost:8080/"
        },
        "outputId": "9330029b-a305-42a9-e1cf-5f40cd52c069"
      },
      "source": [
        "BCs"
      ],
      "execution_count": 58,
      "outputs": [
        {
          "output_type": "execute_result",
          "data": {
            "text/plain": [
              "{'',\n",
              " 'bbbbbbbccccccc',\n",
              " 'bbbbbbcccccc',\n",
              " 'bbbbbccccc',\n",
              " 'bbbbcccc',\n",
              " 'bbbccc',\n",
              " 'bbcc',\n",
              " 'bc'}"
            ]
          },
          "metadata": {
            "tags": []
          },
          "execution_count": 58
        }
      ]
    },
    {
      "cell_type": "code",
      "metadata": {
        "run_control": {
          "frozen": false,
          "read_only": false
        },
        "id": "KVV-8BvwFUbu",
        "colab": {
          "base_uri": "https://localhost:8080/"
        },
        "outputId": "d251db85-9db5-41d5-e5a5-f999d4e49efc"
      },
      "source": [
        "lcat(ABs, Cs)"
      ],
      "execution_count": 59,
      "outputs": [
        {
          "output_type": "execute_result",
          "data": {
            "text/plain": [
              "{'',\n",
              " 'aaaaaaabbbbbbb',\n",
              " 'aaaaaaabbbbbbbc',\n",
              " 'aaaaaaabbbbbbbcc',\n",
              " 'aaaaaaabbbbbbbccc',\n",
              " 'aaaaaaabbbbbbbcccc',\n",
              " 'aaaaaaabbbbbbbccccc',\n",
              " 'aaaaaaabbbbbbbcccccc',\n",
              " 'aaaaaaabbbbbbbccccccc',\n",
              " 'aaaaaabbbbbb',\n",
              " 'aaaaaabbbbbbc',\n",
              " 'aaaaaabbbbbbcc',\n",
              " 'aaaaaabbbbbbccc',\n",
              " 'aaaaaabbbbbbcccc',\n",
              " 'aaaaaabbbbbbccccc',\n",
              " 'aaaaaabbbbbbcccccc',\n",
              " 'aaaaaabbbbbbccccccc',\n",
              " 'aaaaabbbbb',\n",
              " 'aaaaabbbbbc',\n",
              " 'aaaaabbbbbcc',\n",
              " 'aaaaabbbbbccc',\n",
              " 'aaaaabbbbbcccc',\n",
              " 'aaaaabbbbbccccc',\n",
              " 'aaaaabbbbbcccccc',\n",
              " 'aaaaabbbbbccccccc',\n",
              " 'aaaabbbb',\n",
              " 'aaaabbbbc',\n",
              " 'aaaabbbbcc',\n",
              " 'aaaabbbbccc',\n",
              " 'aaaabbbbcccc',\n",
              " 'aaaabbbbccccc',\n",
              " 'aaaabbbbcccccc',\n",
              " 'aaaabbbbccccccc',\n",
              " 'aaabbb',\n",
              " 'aaabbbc',\n",
              " 'aaabbbcc',\n",
              " 'aaabbbccc',\n",
              " 'aaabbbcccc',\n",
              " 'aaabbbccccc',\n",
              " 'aaabbbcccccc',\n",
              " 'aaabbbccccccc',\n",
              " 'aabb',\n",
              " 'aabbc',\n",
              " 'aabbcc',\n",
              " 'aabbccc',\n",
              " 'aabbcccc',\n",
              " 'aabbccccc',\n",
              " 'aabbcccccc',\n",
              " 'aabbccccccc',\n",
              " 'ab',\n",
              " 'abc',\n",
              " 'abcc',\n",
              " 'abccc',\n",
              " 'abcccc',\n",
              " 'abccccc',\n",
              " 'abcccccc',\n",
              " 'abccccccc',\n",
              " 'c',\n",
              " 'cc',\n",
              " 'ccc',\n",
              " 'cccc',\n",
              " 'ccccc',\n",
              " 'cccccc',\n",
              " 'ccccccc'}"
            ]
          },
          "metadata": {
            "tags": []
          },
          "execution_count": 59
        }
      ]
    },
    {
      "cell_type": "code",
      "metadata": {
        "run_control": {
          "frozen": false,
          "read_only": false
        },
        "id": "EZaVs9MPFUbv",
        "colab": {
          "base_uri": "https://localhost:8080/"
        },
        "outputId": "14267df3-edc7-483e-c3c4-692dfbebc9e7"
      },
      "source": [
        "lcat(As, Bs)"
      ],
      "execution_count": 60,
      "outputs": [
        {
          "output_type": "execute_result",
          "data": {
            "text/plain": [
              "{'',\n",
              " 'a',\n",
              " 'aa',\n",
              " 'aaa',\n",
              " 'aaaa',\n",
              " 'aaaaa',\n",
              " 'aaaaaa',\n",
              " 'aaaaaaa',\n",
              " 'aaaaaaab',\n",
              " 'aaaaaaabb',\n",
              " 'aaaaaaabbb',\n",
              " 'aaaaaaabbbb',\n",
              " 'aaaaaaabbbbb',\n",
              " 'aaaaaaabbbbbb',\n",
              " 'aaaaaaabbbbbbb',\n",
              " 'aaaaaab',\n",
              " 'aaaaaabb',\n",
              " 'aaaaaabbb',\n",
              " 'aaaaaabbbb',\n",
              " 'aaaaaabbbbb',\n",
              " 'aaaaaabbbbbb',\n",
              " 'aaaaaabbbbbbb',\n",
              " 'aaaaab',\n",
              " 'aaaaabb',\n",
              " 'aaaaabbb',\n",
              " 'aaaaabbbb',\n",
              " 'aaaaabbbbb',\n",
              " 'aaaaabbbbbb',\n",
              " 'aaaaabbbbbbb',\n",
              " 'aaaab',\n",
              " 'aaaabb',\n",
              " 'aaaabbb',\n",
              " 'aaaabbbb',\n",
              " 'aaaabbbbb',\n",
              " 'aaaabbbbbb',\n",
              " 'aaaabbbbbbb',\n",
              " 'aaab',\n",
              " 'aaabb',\n",
              " 'aaabbb',\n",
              " 'aaabbbb',\n",
              " 'aaabbbbb',\n",
              " 'aaabbbbbb',\n",
              " 'aaabbbbbbb',\n",
              " 'aab',\n",
              " 'aabb',\n",
              " 'aabbb',\n",
              " 'aabbbb',\n",
              " 'aabbbbb',\n",
              " 'aabbbbbb',\n",
              " 'aabbbbbbb',\n",
              " 'ab',\n",
              " 'abb',\n",
              " 'abbb',\n",
              " 'abbbb',\n",
              " 'abbbbb',\n",
              " 'abbbbbb',\n",
              " 'abbbbbbb',\n",
              " 'b',\n",
              " 'bb',\n",
              " 'bbb',\n",
              " 'bbbb',\n",
              " 'bbbbb',\n",
              " 'bbbbbb',\n",
              " 'bbbbbbb'}"
            ]
          },
          "metadata": {
            "tags": []
          },
          "execution_count": 60
        }
      ]
    },
    {
      "cell_type": "code",
      "metadata": {
        "run_control": {
          "frozen": false,
          "read_only": false
        },
        "id": "HFCV68OpFUbv"
      },
      "source": [
        "ABCs = {\"a\"*i + \"b\"*i + \"c\"*i for i in range(8)}"
      ],
      "execution_count": 61,
      "outputs": []
    },
    {
      "cell_type": "code",
      "metadata": {
        "run_control": {
          "frozen": false,
          "read_only": false
        },
        "id": "lYF1z-uSFUbw",
        "colab": {
          "base_uri": "https://localhost:8080/"
        },
        "outputId": "6b9cfadb-8333-42cf-9365-c4d3f3916421"
      },
      "source": [
        "ABCs"
      ],
      "execution_count": 62,
      "outputs": [
        {
          "output_type": "execute_result",
          "data": {
            "text/plain": [
              "{'',\n",
              " 'aaaaaaabbbbbbbccccccc',\n",
              " 'aaaaaabbbbbbcccccc',\n",
              " 'aaaaabbbbbccccc',\n",
              " 'aaaabbbbcccc',\n",
              " 'aaabbbccc',\n",
              " 'aabbcc',\n",
              " 'abc'}"
            ]
          },
          "metadata": {
            "tags": []
          },
          "execution_count": 62
        }
      ]
    },
    {
      "cell_type": "markdown",
      "metadata": {
        "run_control": {
          "frozen": false,
          "read_only": false
        },
        "id": "2tBSluTYFUbw"
      },
      "source": [
        "# Now, do the exercises at the end of Ch2 and Ch3"
      ]
    },
    {
      "cell_type": "markdown",
      "metadata": {
        "id": "ywAdkUkAF7fX"
      },
      "source": [
        "2.1.3\r\n",
        "\r\n",
        "1. As per our definitions, can Nat be an alphabet? Why or why not?  \r\n",
        "    -No, because alphabets need to be finite, and *Nat* is infinite. \r\n",
        "2. Consider the string \"Hello there!\". What are the symbols present  in this string, and what is the smallest alphabet underlying this string?\r\n",
        "    - Symbols: \"Hello there!\"\r\n",
        "    - Alphabet: {'H','e','l','o',' ','t','h','r','!'}\r\n",
        "3. Are all palindromes the concatenation of a string with its reverse?  If not, why not?\r\n",
        "    - No. Not all palindromes require doubling up on the center character. It is possible to have just a single character in the center.\r\n",
        "\r\n"
      ]
    },
    {
      "cell_type": "markdown",
      "metadata": {
        "id": "5xpsVsdBIpvF"
      },
      "source": [
        "2.1.4\r\n",
        "\r\n",
        "1. Consider a string s = abacaca. Now consider the string exponentiation s 4. How many a’s are there in s 4? How about b’s, c’s and  d’s?  \r\n"
      ]
    },
    {
      "cell_type": "code",
      "metadata": {
        "id": "-cn5FAAfI90m",
        "colab": {
          "base_uri": "https://localhost:8080/"
        },
        "outputId": "7b464b3a-9e0d-440e-a6f6-77e756e8f519"
      },
      "source": [
        "#Question 1\r\n",
        "\r\n",
        "S = {'abacaca'}\r\n",
        "string = str(lexp(S,4))\r\n",
        "Ays=[]\r\n",
        "Bees=[]\r\n",
        "Cees=[]\r\n",
        "for x in string:\r\n",
        "  if x == 'a':\r\n",
        "    Ays.append(x)\r\n",
        "  if x == 'b':\r\n",
        "    Bees.append(x)\r\n",
        "  if x == 'c':\r\n",
        "    Cees.append(x)\r\n",
        "\r\n",
        "print(\"a's = \", len(Ays))\r\n",
        "print(\"b's = \", len(Bees))\r\n",
        "print(\"c's = \", len(Cees))"
      ],
      "execution_count": 72,
      "outputs": [
        {
          "output_type": "stream",
          "text": [
            "a's =  16\n",
            "b's =  4\n",
            "c's =  8\n"
          ],
          "name": "stdout"
        }
      ]
    },
    {
      "cell_type": "markdown",
      "metadata": {
        "id": "1ru2e9yRKjfO"
      },
      "source": [
        "2. Let Nat be regarded as the universal set in some domain of discourse. Now consider subsets of Nat, and let us view set intersection of such sets as “multiplication.” In that case, what is the  One element of this multiplication operator? What is the Zero element? Recall that for any s ⊆ Nat, these One and Zero elements  must satisfy:  \r\n",
        "(a) s∩One = s  \r\n",
        "    - The One element must be *Nat*\r\n",
        "(b) s∩ Zero = Zero\r\n",
        "    - The Zero element must be the empty set."
      ]
    },
    {
      "cell_type": "markdown",
      "metadata": {
        "id": "IYj1XbSBLnRd"
      },
      "source": [
        "2.2\r\n",
        "\r\n",
        "1. Why is ε not a member of La_l t_b?  \r\n",
        "    - Since i < j, and j >= 0, the first element, has to be when j = 1, which gives us a single 'b'.\r\n",
        "2. Which inequality in the definition of La_l t_b would you alter in  order to induce ε into this language? \r\n",
        "    - From < to <=\r\n"
      ]
    },
    {
      "cell_type": "code",
      "metadata": {
        "id": "7nrRSc5yN0pz",
        "outputId": "6c3df420-73b8-471d-cd69-9a3a4b441925",
        "colab": {
          "base_uri": "https://localhost:8080/"
        }
      },
      "source": [
        "#2.2 python\r\n",
        "\r\n",
        "#1\r\n",
        "\r\n",
        "print(\"Question 1: \",['a'*i + 'b'*j + 'c'*k for i in range(3) for j in range(3) for k in range(3)])\r\n",
        "\r\n",
        "#2\r\n",
        "\r\n",
        "parens = {'('*i + ')'*i for i in range(6)}\r\n",
        "print(\"Question 2: \", parens)\r\n",
        "\r\n",
        "#3\r\n",
        "\r\n",
        "#(p+q)[::-1] == (q[::-1] + p[::-1])\r\n",
        "# This statement will be true for any two strings in python.\r\n",
        "# By reversing the concatenation of the two strings, it will\r\n",
        "# always return the second part reversed followed by the first\r\n",
        "# part reversed.\r\n",
        "\r\n",
        "# 4\r\n",
        "\r\n",
        "# L1 produces what question 2 generates\r\n",
        "# L2 doesn't have to have nested parenthesis,\r\n",
        "#  for example, it could have \"()()\".\r\n",
        "# L3 doesn't even need to balance out the opening\r\n",
        "# paren with a closed one. For example, \")()(\"\r\n",
        "\r\n",
        "# As a results, L1 is a subset of L2, and L2 is a subset of L3"
      ],
      "execution_count": 73,
      "outputs": [
        {
          "output_type": "stream",
          "text": [
            "Question 1:  ['', 'c', 'cc', 'b', 'bc', 'bcc', 'bb', 'bbc', 'bbcc', 'a', 'ac', 'acc', 'ab', 'abc', 'abcc', 'abb', 'abbc', 'abbcc', 'aa', 'aac', 'aacc', 'aab', 'aabc', 'aabcc', 'aabb', 'aabbc', 'aabbcc']\n",
            "Question 2:  {'', '((((()))))', '()', '(())', '(((())))', '((()))'}\n"
          ],
          "name": "stdout"
        }
      ]
    },
    {
      "cell_type": "markdown",
      "metadata": {
        "id": "ZY4t6IG2NUvV"
      },
      "source": [
        "2.2.2\r\n",
        "\r\n",
        "1. What is the difference between {ε} and {∅}? Which of these is a  language over the alphabet {2,3}?\r\n",
        "    - {ε} is the language containing '', while {∅} is equal to set(). {ε} is the language over {2,3}. \r\n",
        "2. Prove that {ε} is indeed the One element for language concatenation by showing that it left-multiplies or right-multiplies any  language L to give back L.\r\n"
      ]
    },
    {
      "cell_type": "code",
      "metadata": {
        "id": "XaOE0TerSovn",
        "outputId": "c1ad30e5-1bcb-48f9-dfd5-929db677ea6f",
        "colab": {
          "base_uri": "https://localhost:8080/"
        }
      },
      "source": [
        "#Question 1 and 2\r\n",
        "\r\n",
        "print(lcat({'2','3'}, {''}))\r\n",
        "print(lcat({'2','3'}, {}))\r\n",
        "\r\n",
        "print(lcat({''}, {'2','3'}))\r\n",
        "print(lcat({}, {'2','3'}))"
      ],
      "execution_count": 74,
      "outputs": [
        {
          "output_type": "stream",
          "text": [
            "{'2', '3'}\n",
            "set()\n",
            "{'2', '3'}\n",
            "set()\n"
          ],
          "name": "stdout"
        }
      ]
    },
    {
      "cell_type": "markdown",
      "metadata": {
        "id": "7IlabyuqTxY_"
      },
      "source": [
        "1. Suppose Σ = {0,1}—commonly called “the alphabet” is treated as  a language. All alphabets are special cases of languages; there is  nothing surprising here! The alphabet Σ = {0,1} is a language of  two strings, each of length 1. Now, write out the contents of the  following language exponents in their entirety. To avoid confusion,  we have written out the answer for one case:  \r\n",
        "(a) Σ 2 = {00,01,10,11}  \r\n",
        "(b) Σ 0 =?  \r\n",
        "(c) Σ 1 =?  \r\n",
        "(d) Σ 3 =?  \r\n",
        "\r\n",
        "2. Suppose a language M = {0,10} is given. What are the following  language exponents? We work out one case in detail for you.  \r\n",
        "(a) M2 = {00,010,100,1010}. Here is the explanation:\r\n",
        "  • M2 = MM\r\n",
        "  • This means we must select two random strings from M  (repetitions allowed) and concatenate them.\r\n",
        "  • The random selections can yield\r\n",
        "    – 0 and 0, whose concatenation is 00;\r\n",
        "    – 0 and 10, whose concatenation is 010;\r\n",
        "    – 10 and 0, whose concatenation is 100;\r\n",
        "    – 10 and 10, whose concatenation is 1010.\r\n",
        "(b) M0 =?  \r\n",
        "(c) M1 =?  \r\n",
        "(d) M3 =?  \r\n",
        "\r\n",
        "3. On Page 20, we defined three languages L1, L2, and L3. Answer  these questions with respect to these languages.  \r\n",
        "(a) List the three shortest strings in L 3  1  .  \r\n",
        "(b) List a string of length 6 in L2 that is not in L n 1 for any n.  \r\n",
        "(c) What is the shortest string common to L 0 1, L 0 2, and L 0 3, and  why?\r\n",
        "\r\n"
      ]
    },
    {
      "cell_type": "code",
      "metadata": {
        "id": "Z_C-arZzUpBO",
        "outputId": "404507b4-cba0-448d-d23d-111b1fe58456",
        "colab": {
          "base_uri": "https://localhost:8080/"
        }
      },
      "source": [
        "sigma = {'0','1'}\r\n",
        "\r\n",
        "print(lexp(sigma, 2))\r\n",
        "print(lexp(sigma, 0))\r\n",
        "print(lexp(sigma, 1))\r\n",
        "print(lexp(sigma, 3))"
      ],
      "execution_count": 75,
      "outputs": [
        {
          "output_type": "stream",
          "text": [
            "{'10', '01', '11', '00'}\n",
            "{''}\n",
            "{'1', '0'}\n",
            "{'010', '011', '101', '111', '100', '001', '000', '110'}\n"
          ],
          "name": "stdout"
        }
      ]
    },
    {
      "cell_type": "code",
      "metadata": {
        "id": "FnUJieiAVHf4",
        "outputId": "5cfc0c5a-96e0-46ae-bbf8-2f967ad038d4",
        "colab": {
          "base_uri": "https://localhost:8080/"
        }
      },
      "source": [
        "alpha = {'0','10'}\r\n",
        "\r\n",
        "print(lexp(alpha, 2))\r\n",
        "print(lexp(alpha, 0))\r\n",
        "print(lexp(alpha, 1))\r\n",
        "print(lexp(alpha, 3))\r\n"
      ],
      "execution_count": 76,
      "outputs": [
        {
          "output_type": "stream",
          "text": [
            "{'010', '100', '00', '1010'}\n",
            "{''}\n",
            "{'10', '0'}\n",
            "{'1000', '101010', '10100', '0010', '10010', '000', '01010', '0100'}\n"
          ],
          "name": "stdout"
        }
      ]
    },
    {
      "cell_type": "code",
      "metadata": {
        "id": "odG0567nWQSf",
        "outputId": "f514a5b3-b0b6-4d48-ee7a-3ed7aea39e7f",
        "colab": {
          "base_uri": "https://localhost:8080/"
        }
      },
      "source": [
        "#Question 1\r\n",
        "\r\n",
        "parens = ['('*i + ')'*i for i in range(3)]\r\n",
        "\r\n",
        "for x in parens:\r\n",
        "  print(x*3)\r\n",
        "\r\n",
        "# Question 2\r\n",
        "\r\n",
        "#()(()) or (())()\r\n",
        "\r\n",
        "#Question 3\r\n",
        "\r\n",
        "# If we multiply our results by 0, it doesn't matter what the alphabet is,\r\n",
        "# the end result will always be the empty string. Therefore the shortest\r\n",
        "# common string will be the empty string."
      ],
      "execution_count": 77,
      "outputs": [
        {
          "output_type": "stream",
          "text": [
            "\n",
            "()()()\n",
            "(())(())(())\n"
          ],
          "name": "stdout"
        }
      ]
    },
    {
      "cell_type": "markdown",
      "metadata": {
        "id": "P1BrX3HGa46f"
      },
      "source": [
        "2.2.6\r\n",
        "\r\n",
        "1. On Page 20, we defined three languages L1, L2, and L3. Answer  these questions with respect to these languages.  \r\n",
        "(a) Does L1 ∪ L2 match any of these three languages? Which  one, why?  \r\n",
        "    - L1 ∪ L2 would result in L2 since L1 is a subset of L2.\r\n",
        "(b) Repeat for L1 ∪ L3 and L1 ∩ L2. \r\n",
        "    - L1 is a subset for L2 and L2 is a subset for L3. Therefore, L1 ∪ L3 would result in L3 and L1 ∩ L2 would result in L1.\r\n",
        "\r\n",
        "2. (This question can be answered with the hints given below, even  though we are introducing “star” officially only in the next chapter.) Let us define a function star with the following definition:  \r\n",
        "(a) star(L,0) = L 0  \r\n",
        "(b) star(L,1) = L 0 ∪ L 1  \r\n",
        "(c) star(L,2) = L 0 ∪ L 1 ∪ L 2  \r\n",
        "\r\n",
        "Now write down the contents of star(L,n) for various L and n.  Again, to avoid confusion, we have written out the answer for  some number of cases:  \r\n",
        "(a) star({0,1},2) = {ε,0,1,00,01,10,11}  \r\n",
        "(b) star({0,1},0) =?  \r\n",
        "(c) star({0,1},1) =?  \r\n",
        "(d) star({0,1},3) =?  \r\n",
        "(e) star({0,10},2) = {ε,0,10,00,010,100,1010}  \r\n",
        "(f) star({0,10},0) =?  \r\n",
        "(g) star({0,10},1) =?  \r\n",
        "(h) star({0,10},3) =? \r\n",
        "(i) star({0,1,00,ε},2) = {ε,0,1,00,01,000,10,11,100,001,0000}  \r\n",
        "(j) How many elements are there in star({0,1},n)? Explain  your answer.  \r\n",
        "(k) Suppose we define  \r\n",
        "star({0,1}) = star({0,1},∞)  \r\n",
        "\r\n",
        "That is, when we drop the second argument of the overloaded star function, we assume that its meaning is the  same as the star function of two arguments where the second argument is set to ∞.  Question: How would you describe one random string in  star({0,1})?  Think of a general way of characterizing it; here is a start:  An arbitrary string that is finite/infinite and each symbol  in the string is a....\r\n",
        "\r\n"
      ]
    },
    {
      "cell_type": "code",
      "metadata": {
        "id": "coWIihSyb_UQ",
        "outputId": "04270585-cc42-45bc-b788-352e537c0e20",
        "colab": {
          "base_uri": "https://localhost:8080/"
        }
      },
      "source": [
        "#Question 2\r\n",
        "\r\n",
        "print(\"a) \", lstar(sigma,2))\r\n",
        "print(\"b) \", lstar(sigma,0))\r\n",
        "print(\"c) \", lstar(sigma,1))\r\n",
        "print(\"d) \", lstar(sigma,3))\r\n",
        "print(\"e) \", lstar(alpha,2))\r\n",
        "print(\"f) \", lstar(alpha,0))\r\n",
        "print(\"g) \", lstar(alpha,1))\r\n",
        "print(\"h) \", lstar(alpha,3))\r\n",
        "\r\n",
        "#Question 2 j\r\n",
        "\r\n",
        "#Formula = 2**(n+1)-1\r\n",
        "newList=[2**(n+1)-1 ==len(lstar(sigma,n)) for n in range(20)]\r\n",
        "print(all(newList))\r\n",
        "\r\n",
        "#Question 2 k\r\n",
        "\r\n",
        "#An arbitrary string that is finite/infinite and each symbol in the string is a 0 or 1"
      ],
      "execution_count": 78,
      "outputs": [
        {
          "output_type": "stream",
          "text": [
            "a)  {'', '00', '01', '11', '10', '1', '0'}\n",
            "b)  {''}\n",
            "c)  {'', '1', '0'}\n",
            "d)  {'', '010', '011', '101', '01', '11', '00', '1', '0', '111', '100', '10', '001', '000', '110'}\n",
            "e)  {'', '010', '100', '10', '1010', '00', '0'}\n",
            "f)  {''}\n",
            "g)  {'', '10', '0'}\n",
            "h)  {'', '010', '1000', '1010', '101010', '10100', '00', '0010', '0', '100', '10010', '000', '10', '01010', '0100'}\n",
            "True\n"
          ],
          "name": "stdout"
        }
      ]
    },
    {
      "cell_type": "code",
      "metadata": {
        "id": "XSjQE3iFeuna",
        "outputId": "5c3dd336-d0f4-42e8-f6f6-3361d96b83f1",
        "colab": {
          "base_uri": "https://localhost:8080/"
        }
      },
      "source": [
        "#Questions 2.3\r\n",
        "\r\n",
        "#1\r\n",
        "Le={'0'*2*i for i in range(20)}\r\n",
        "print(Le)\r\n",
        "\r\n",
        "p = {x for x in Le if len(Le) % 2 == 0}\r\n",
        "print(len(Le)==len(p))\r\n",
        "\r\n",
        "#2\r\n",
        "print(Le=={'00'*i for i in range(20)})\r\n",
        "\r\n",
        "#3\r\n",
        "Lo={'0'*(2*i+1) for i in range(20)}\r\n",
        "print(lunion(Lo,Le)==lstar({'0'},39))\r\n"
      ],
      "execution_count": 79,
      "outputs": [
        {
          "output_type": "stream",
          "text": [
            "{'', '00000000000000000000', '000000000000000000000000000000000000', '00000000', '00', '0000000000000000000000', '000000000000000000000000', '0000', '000000', '0000000000', '00000000000000', '0000000000000000', '00000000000000000000000000', '0000000000000000000000000000', '000000000000000000000000000000', '000000000000', '0000000000000000000000000000000000', '000000000000000000', '00000000000000000000000000000000', '00000000000000000000000000000000000000'}\n",
            "True\n",
            "True\n",
            "True\n"
          ],
          "name": "stdout"
        }
      ]
    },
    {
      "cell_type": "markdown",
      "metadata": {
        "id": "TQQrfc2VrGZL"
      },
      "source": [
        "\\#4\r\n",
        "\r\n",
        "n 0s followed by n 1s. Equal amount of 0s and 1s, starting with all the 0s, followed by all the 1s\r\n",
        "\r\n",
        "\\#5\r\n",
        "\r\n",
        "a = true, since it's the same definition with a different variable.\r\n",
        "\r\n",
        "b = false, since n could be a different variable.\r\n",
        "\r\n",
        "c = false, since 0 and 1 will always be present, omitting the empty string.\r\n",
        "\r\n",
        "d = false, same as c, but also would be missing 01\r\n",
        "\r\n",
        "e = true, it allows for all possibilities of 0s followed by 1s, and includes \r\n",
        "the empty string.\r\n",
        "\r\n",
        "f = true, there will always be an equal amout of 0s followed by 1s.\r\n",
        "\r\n",
        "\\#6\r\n",
        "\r\n",
        "Yes it is true.  When i is declared in seperate sets, it is no longer the same variable.  Therefore\r\n",
        "the i for 0, does not need to equal the i for 1.\r\n",
        "\r\n",
        "\\#7\r\n",
        "\r\n",
        "a) It is not true. This would produce a partial compliment, but would be leaving all the possibilites\r\n",
        "of 1s followed by 0s.\r\n",
        "\r\n",
        "b) \"010\", \"110\", \"100\", \"101\"\r\n",
        "\r\n",
        "c) L6 = L8 U {{0,1}*i, 1{0,1}*j, 0{0,1}*k : i, j,k >= 0}\r\n",
        "\r\n",
        "d) L8 is a partial compliment of L6, and is therefore a subset of the compliment of L6."
      ]
    },
    {
      "cell_type": "code",
      "metadata": {
        "colab": {
          "base_uri": "https://localhost:8080/"
        },
        "id": "N1vTadlOr5w_",
        "outputId": "4ab96342-1e0b-4a96-81a7-873842bbdb5b"
      },
      "source": [
        "#3.2 Question 1\r\n",
        "\r\n",
        "from random import sample\r\n",
        "\r\n",
        "sample(list(lstar({'(',')'},5)),6)"
      ],
      "execution_count": 65,
      "outputs": [
        {
          "output_type": "execute_result",
          "data": {
            "text/plain": [
              "[')()((', '()()(', ')))((', '', '))()(', ')()']"
            ]
          },
          "metadata": {
            "tags": []
          },
          "execution_count": 65
        }
      ]
    },
    {
      "cell_type": "code",
      "metadata": {
        "colab": {
          "base_uri": "https://localhost:8080/"
        },
        "id": "9jA6RB8GtaMK",
        "outputId": "63b167aa-7615-4987-a4f6-77663654eee4"
      },
      "source": [
        "#3.2 Question 2\r\n",
        "\r\n",
        "testingList=[]\r\n",
        "for x in range(10):\r\n",
        "  testing={'0'*i+'1'*j for i in range(x+1) for j in range(x+1)}\r\n",
        "  testingList.append(testing==lcat(lstar({'0'},x),lstar({'1'},x)))\r\n",
        "\r\n",
        "print(all(testingList))"
      ],
      "execution_count": 66,
      "outputs": [
        {
          "output_type": "stream",
          "text": [
            "True\n"
          ],
          "name": "stdout"
        }
      ]
    },
    {
      "cell_type": "markdown",
      "metadata": {
        "id": "NFlQ6-Ouv65C"
      },
      "source": [
        "3.2 Question 3\r\n",
        "\r\n",
        "The Zero language which equals {}, and the Unit language which equals {\"\"}"
      ]
    },
    {
      "cell_type": "markdown",
      "metadata": {
        "id": "YyFS2f98xD_y"
      },
      "source": [
        "3.2 Question 4\r\n",
        "\r\n",
        "a) The answer is LP2. Originally I thought LP1, but then I realized that only accomodates for even length palindromes. LP2 accounts not only for even, but odd length palindromes.\r\n",
        "\r\n",
        "b) Since LP2 covers all the palindromes, LP2 is considered context-free."
      ]
    },
    {
      "cell_type": "code",
      "metadata": {
        "colab": {
          "base_uri": "https://localhost:8080/"
        },
        "id": "gylaL9TAyeUr",
        "outputId": "f8c89864-102d-448b-f6d5-e9b69614a698"
      },
      "source": [
        "#3.2 Question 5.a\r\n",
        "\r\n",
        "newList=[]\r\n",
        "for x in range(20):\r\n",
        "  Le={'00'*i for i in range(x)}\r\n",
        "  Lo={'0'*(2*i+1) for i in range(x)}\r\n",
        "  if x > 0:\r\n",
        "    newList.append(lunion(Lo,Le)==lstar({'0'},2*x-1))\r\n",
        " \r\n",
        "print(all(newList))"
      ],
      "execution_count": 67,
      "outputs": [
        {
          "output_type": "stream",
          "text": [
            "True\n"
          ],
          "name": "stdout"
        }
      ]
    },
    {
      "cell_type": "markdown",
      "metadata": {
        "id": "fTG7Vt2B0l7R"
      },
      "source": [
        "3.2 Question 5.b\r\n",
        "\r\n",
        "It is true of Le, but not Lo.  Any even number * 2 returns an even number, making it a valid case.  Any odd number * 2 returns an even number which would make this case false."
      ]
    },
    {
      "cell_type": "markdown",
      "metadata": {
        "id": "4yUG5n5K1Qea"
      },
      "source": [
        "3.2 Question 5.c\r\n",
        "\r\n",
        "The same principles apply to the previous question.  Any even number times any integer, results in an even number."
      ]
    },
    {
      "cell_type": "markdown",
      "metadata": {
        "id": "9GBBa5Dx2-ki"
      },
      "source": [
        "3.2 Question 5.d\r\n",
        "\r\n",
        "No it is not. LoLo has to include a single '0' as its shortest element.  It does not contain the empty string like Le does.\r\n",
        "\r\n",
        "i)If we start with every element, excluding the empty string, and we subtract every element AND the empty string, we are left with a set containing nothing, which is the Zero language.\r\n",
        "\r\n",
        "ii) If we start with every element, AND the empty string, and we subtract every element, we are left with the set of the empty string, in other words, the Unit language."
      ]
    },
    {
      "cell_type": "markdown",
      "metadata": {
        "id": "3vDRIaFM4Ke9"
      },
      "source": [
        "3.2 Question 5.e\r\n",
        "\r\n",
        "No. Le* contains only the even length elements, but {0}* contains even and odd length elements."
      ]
    },
    {
      "cell_type": "markdown",
      "metadata": {
        "id": "lWF6lGqP4Z96"
      },
      "source": [
        "3.2 Question 5.f\r\n",
        "\r\n",
        "No. Lo* contains all the even and odd length elements, and {0}* contains all the even and odd length elements."
      ]
    },
    {
      "cell_type": "markdown",
      "metadata": {
        "id": "WS9B1-Ox6C1Z"
      },
      "source": [
        "\r\n",
        "3.2 Question 6\r\n",
        "\r\n",
        "![Screenshot 2021-01-15 192027.png](data:image/png;base64,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)\r\n",
        "\r\n",
        "\r\n",
        "Obviously this is the answer provided.  What I got out of this was seeing the maneuvering of the expressions to manipulate them to show what we want.  The biggest take away for me was step 3.  It proves that LiLj = Li+j.  Since we converted multiplication style concatentation into addition style concatenation (while still being equivalent), we were able to show that i + j = k because i,j and k progress to infinity.\r\n"
      ]
    },
    {
      "cell_type": "markdown",
      "metadata": {
        "id": "VzoR_bj-_rpI"
      },
      "source": [
        "3.4.1 Question 1.a\r\n",
        "\r\n",
        "Leqabc and intersection of (Las, Lbs, Lcs):  The only time they would intersect is when there are an equal amount of letters in the string AND the ordering is all the a's, followed by all the b's, followed by all the c's.\r\n",
        "\r\n"
      ]
    },
    {
      "cell_type": "code",
      "metadata": {
        "colab": {
          "base_uri": "https://localhost:8080/"
        },
        "id": "W3S4YklGCPP1",
        "outputId": "478e0b7f-a24b-4596-a212-73723ad11a04"
      },
      "source": [
        "#3.4.1 Question 1.b \r\n",
        "\r\n",
        "Lx = {'a'*i+'b'*i+'c'*i for i in range(10)}\r\n",
        "print(Lx)"
      ],
      "execution_count": 68,
      "outputs": [
        {
          "output_type": "stream",
          "text": [
            "{'', 'aaaaabbbbbccccc', 'aabbcc', 'aaaaaaaabbbbbbbbcccccccc', 'abc', 'aaaaaaabbbbbbbccccccc', 'aaaaaaaaabbbbbbbbbccccccccc', 'aaaaaabbbbbbcccccc', 'aaabbbccc', 'aaaabbbbcccc'}\n"
          ],
          "name": "stdout"
        }
      ]
    },
    {
      "cell_type": "markdown",
      "metadata": {
        "id": "0sbvywUJDBl0"
      },
      "source": [
        "3.4.1 Question 1.c\r\n",
        "\r\n",
        "Leqabc and intersection of (Lcs, Las, Lcs, Lbs, Lcs):  The only time they would intersect is when there are an equal amount of letters in the string AND the ordering is c's, followed by a's, followed by c's, followed by b's, followed by c's.\r\n"
      ]
    },
    {
      "cell_type": "markdown",
      "metadata": {
        "id": "b571UvlvDxID"
      },
      "source": [
        "3.5 Question 1\r\n",
        "\r\n",
        "It is not homomorphic because when it is split into multiple pieces, it does not hold true."
      ]
    },
    {
      "cell_type": "code",
      "metadata": {
        "colab": {
          "base_uri": "https://localhost:8080/"
        },
        "id": "HRXTtDuVEWKa",
        "outputId": "e8bf397c-5cf1-42ba-ed90-a8a730ae65fb"
      },
      "source": [
        "#3.5 Question 2\r\n",
        "\r\n",
        "def rot3(x):\r\n",
        "  if ord(x)+3 > 122:\r\n",
        "    x = chr(ord(x) - 26)\r\n",
        "  return chr(ord(x)+3 % 256)\r\n",
        "\r\n",
        "\r\n",
        "ourAlpha = {'a','b','c','d','e','f','g','h','i','j','k','l','m','n','o','p','q','r','s','t','u','v','w','x','y','z'}\r\n",
        "\r\n",
        "lhomo(ourAlpha,rot3)"
      ],
      "execution_count": 69,
      "outputs": [
        {
          "output_type": "execute_result",
          "data": {
            "text/plain": [
              "{'a',\n",
              " 'b',\n",
              " 'c',\n",
              " 'd',\n",
              " 'e',\n",
              " 'f',\n",
              " 'g',\n",
              " 'h',\n",
              " 'i',\n",
              " 'j',\n",
              " 'k',\n",
              " 'l',\n",
              " 'm',\n",
              " 'n',\n",
              " 'o',\n",
              " 'p',\n",
              " 'q',\n",
              " 'r',\n",
              " 's',\n",
              " 't',\n",
              " 'u',\n",
              " 'v',\n",
              " 'w',\n",
              " 'x',\n",
              " 'y',\n",
              " 'z'}"
            ]
          },
          "metadata": {
            "tags": []
          },
          "execution_count": 69
        }
      ]
    },
    {
      "cell_type": "markdown",
      "metadata": {
        "id": "DjfpDlUdJZLN"
      },
      "source": [
        "3.5 Question 2\r\n",
        "\r\n",
        "With the code provided above, it is indeed a homomorphism.  However, mapping multiple letters to a single letter in the same function, cannot work. Therefore, only the first of the question is true."
      ]
    },
    {
      "cell_type": "code",
      "metadata": {
        "colab": {
          "base_uri": "https://localhost:8080/"
        },
        "id": "bE6WkbbVKZlU",
        "outputId": "17672234-0341-48b6-cb08-65d79ddef37e"
      },
      "source": [
        "#3.6 Question 1\r\n",
        "\r\n",
        "def lexlt(s, t):\r\n",
        "    if (s==\"\"):\r\n",
        "        return True\r\n",
        "    if (t==\"\"):\r\n",
        "        return False\r\n",
        "    if (s[0] < t[0]):\r\n",
        "        return True\r\n",
        "    return (s[0] == t[0]) & lexlt(s[1::], t[1::])\r\n",
        "\r\n",
        "\r\n",
        "L1 = {\"abacus\", \"bandana\", \"pig\", \"cat\", \"dodo\", \"zulu\", \"physics\"}\r\n",
        "L2 = {\"dog\", \"zebra\", \"zzxyz\", \"pimento\"}\r\n",
        "L = set(product(L1,L2))\r\n",
        "set(filter(lambda xy: lexlt(xy[0],xy[1]), L))"
      ],
      "execution_count": 70,
      "outputs": [
        {
          "output_type": "execute_result",
          "data": {
            "text/plain": [
              "{('abacus', 'dog'),\n",
              " ('abacus', 'pimento'),\n",
              " ('abacus', 'zebra'),\n",
              " ('abacus', 'zzxyz'),\n",
              " ('bandana', 'dog'),\n",
              " ('bandana', 'pimento'),\n",
              " ('bandana', 'zebra'),\n",
              " ('bandana', 'zzxyz'),\n",
              " ('cat', 'dog'),\n",
              " ('cat', 'pimento'),\n",
              " ('cat', 'zebra'),\n",
              " ('cat', 'zzxyz'),\n",
              " ('dodo', 'dog'),\n",
              " ('dodo', 'pimento'),\n",
              " ('dodo', 'zebra'),\n",
              " ('dodo', 'zzxyz'),\n",
              " ('physics', 'pimento'),\n",
              " ('physics', 'zebra'),\n",
              " ('physics', 'zzxyz'),\n",
              " ('pig', 'pimento'),\n",
              " ('pig', 'zebra'),\n",
              " ('pig', 'zzxyz'),\n",
              " ('zulu', 'zzxyz')}"
            ]
          },
          "metadata": {
            "tags": []
          },
          "execution_count": 70
        }
      ]
    },
    {
      "cell_type": "code",
      "metadata": {
        "colab": {
          "base_uri": "https://localhost:8080/"
        },
        "id": "RzOVpRlaL0S3",
        "outputId": "9d2a420d-273f-4f01-ee0d-60c7c0860574"
      },
      "source": [
        "#3.6 Question 1\r\n",
        "ourList=[]\r\n",
        "for x in range(10):\r\n",
        "  ourList.append(nthnumeric(x, ['0','1']))\r\n",
        "\r\n",
        "print(ourList)\r\n",
        "\r\n",
        "#Question 2\r\n",
        "ourList.sort()\r\n",
        "print(ourList)"
      ],
      "execution_count": 71,
      "outputs": [
        {
          "output_type": "stream",
          "text": [
            "['', '0', '1', '00', '01', '10', '11', '000', '001', '010']\n",
            "['', '0', '00', '000', '001', '01', '010', '1', '10', '11']\n"
          ],
          "name": "stdout"
        }
      ]
    }
  ]
}