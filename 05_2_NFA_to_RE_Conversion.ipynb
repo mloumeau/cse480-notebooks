{
  "nbformat": 4,
  "nbformat_minor": 0,
  "metadata": {
    "colab": {
      "name": "05_2_NFA_to_RE_Conversion.ipynb",
      "provenance": [],
      "include_colab_link": true
    },
    "kernelspec": {
      "display_name": "Python 3",
      "language": "python",
      "name": "python3"
    },
    "language_info": {
      "codemirror_mode": {
        "name": "ipython",
        "version": 3
      },
      "file_extension": ".py",
      "mimetype": "text/x-python",
      "name": "python",
      "nbconvert_exporter": "python",
      "pygments_lexer": "ipython3",
      "version": "3.9.0"
    },
    "toc": {
      "colors": {
        "hover_highlight": "#DAA520",
        "running_highlight": "#FF0000",
        "selected_highlight": "#FFD700"
      },
      "moveMenuLeft": true,
      "nav_menu": {
        "height": "121px",
        "width": "252px"
      },
      "navigate_menu": true,
      "number_sections": true,
      "sideBar": true,
      "threshold": 4,
      "toc_cell": false,
      "toc_section_display": "block",
      "toc_window_display": false,
      "widenNotebook": false
    }
  },
  "cells": [
    {
      "cell_type": "markdown",
      "metadata": {
        "id": "view-in-github",
        "colab_type": "text"
      },
      "source": [
        "<a href=\"https://colab.research.google.com/github/croesusking/cse480-notebooks/blob/master/05_2_NFA_to_RE_Conversion.ipynb\" target=\"_parent\"><img src=\"https://colab.research.google.com/assets/colab-badge.svg\" alt=\"Open In Colab\"/></a>"
      ]
    },
    {
      "cell_type": "markdown",
      "metadata": {
        "id": "1an9nmMw1Fac",
        "run_control": {
          "frozen": false,
          "read_only": false
        }
      },
      "source": [
        "# Imports, then Presentation\n"
      ]
    },
    {
      "cell_type": "code",
      "metadata": {
        "id": "y863_jSu1Fad",
        "run_control": {
          "frozen": false,
          "read_only": false
        },
        "scrolled": true,
        "outputId": "ffc8e46a-330b-4d25-bfaf-792ed0d8e839",
        "colab": {
          "base_uri": "https://localhost:8080/"
        }
      },
      "source": [
        "#~~~~~~~~~~~~~~~~~~~~~~~~~~~~~~~~~~~~~~~~~~~~~~~~~~~~~~~\n",
        "import sys\n",
        "\n",
        "# -- Detect if in Own Install or in Colab\n",
        "try:\n",
        "    import google.colab\n",
        "    OWN_INSTALL = False\n",
        "except:\n",
        "    OWN_INSTALL = True\n",
        "    \n",
        "if OWN_INSTALL:\n",
        "  \n",
        "  sys.path[0:0] = ['../../../../..',  '../../../../../3rdparty',  \n",
        "                   '../../../..',  '../../../../3rdparty',  \n",
        "                   '../../..',     '../../../3rdparty', \n",
        "                   '../..',        '../../3rdparty',\n",
        "                   '..',           '../3rdparty',\n",
        "                   '../Jove',      '../Jove/jove']\n",
        "\n",
        "else: # In colab\n",
        "  ! if [ ! -d Jove ]; then git clone https://github.com/ganeshutah/Jove Jove; fi\n",
        "  sys.path.append('./Jove')\n",
        "  sys.path.append('./Jove/jove')\n",
        "\n",
        "# -- common imports --\n",
        "from jove.DotBashers import *\n",
        "from jove.Def_md2mc  import *\n",
        "from jove.Def_NFA    import *\n",
        "from jove.Def_DFA    import *\n",
        "from jove.Def_NFA2RE import *\n",
        "from jove.Def_RE2NFA import *\n",
        "from jove.AnimateNFA import *\n",
        "#~~~~~~~~~~~~~~~~~~~~~~~~~~~~~~~~~~~~~~~~~~~~~~~~~~~~~~~"
      ],
      "execution_count": 1,
      "outputs": [
        {
          "output_type": "stream",
          "text": [
            "Cloning into 'Jove'...\n",
            "remote: Enumerating objects: 4634, done.\u001b[K\n",
            "remote: Total 4634 (delta 0), reused 0 (delta 0), pack-reused 4634\u001b[K\n",
            "Receiving objects: 100% (4634/4634), 7.38 MiB | 21.70 MiB/s, done.\n",
            "Resolving deltas: 100% (3005/3005), done.\n",
            "You may use any of these help commands:\n",
            "help(ResetStNum)\n",
            "help(NxtStateStr)\n",
            "\n",
            "You may use any of these help commands:\n",
            "help(md2mc)\n",
            ".. and if you want to dig more, then ..\n",
            "help(default_line_attr)\n",
            "help(length_ok_input_items)\n",
            "help(union_line_attr_list_fld)\n",
            "help(extend_rsltdict)\n",
            "help(form_delta)\n",
            "help(get_machine_components)\n",
            "\n",
            "You may use any of these help commands:\n",
            "help(mkp_dfa)\n",
            "help(mk_dfa)\n",
            "help(totalize_dfa)\n",
            "help(addtosigma_delta)\n",
            "help(step_dfa)\n",
            "help(run_dfa)\n",
            "help(accepts_dfa)\n",
            "help(comp_dfa)\n",
            "help(union_dfa)\n",
            "help(intersect_dfa)\n",
            "help(pruneUnreach)\n",
            "help(iso_dfa)\n",
            "help(langeq_dfa)\n",
            "help(same_status)\n",
            "help(h_langeq_dfa)\n",
            "help(fixptDist)\n",
            "help(min_dfa)\n",
            "help(pairFR)\n",
            "help(state_combos)\n",
            "help(sepFinNonFin)\n",
            "help(bash_eql_classes)\n",
            "help(listminus)\n",
            "help(bash_1)\n",
            "help(mk_rep_eqc)\n",
            "help(F_of)\n",
            "help(rep_of_s)\n",
            "help(q0_of)\n",
            "help(Delta_of)\n",
            "help(mk_state_eqc_name)\n",
            "\n",
            "You may use any of these help commands:\n",
            "help(mk_nfa)\n",
            "help(totalize_nfa)\n",
            "help(step_nfa)\n",
            "help(run_nfa)\n",
            "help(ec_step_nfa)\n",
            "help(Eclosure)\n",
            "help(Echelp)\n",
            "help(accepts_nfa)\n",
            "help(nfa2dfa)\n",
            "help(n2d)\n",
            "help(inSets)\n",
            "help(rev_dfa)\n",
            "help(min_dfa_brz)\n",
            "\n",
            "You may use any of these help commands:\n",
            "help(RE2Str)\n",
            "help(mk_gnfa)\n",
            "help(mk_gnfa_from_D)\n",
            "help(dfa2nfa)\n",
            "help(del_gnfa_states)\n",
            "help(gnfa_w_REStr)\n",
            "help(del_one_gnfa_state)\n",
            "help(Edges_Exist_Via)\n",
            "help(choose_state_to_del)\n",
            "help(form_alt_RE)\n",
            "help(form_concat_RE)\n",
            "help(form_kleene_RE)\n",
            "\n",
            "You may use any of these help commands:\n",
            "help(re2nfa)\n",
            "\n",
            " \"help(AnimateNFA)\" gives you info on how to use animations with NFA \n"
          ],
          "name": "stdout"
        }
      ]
    },
    {
      "cell_type": "markdown",
      "metadata": {
        "id": "BzOCjuwm1Fae"
      },
      "source": [
        "# Operations on FA\n",
        "## The Convenience of having Epsilon Transitions\n",
        "The \"just because I feel like it\" transition!\n",
        "## Complementation\n",
        "Swapping final and non-final states does the trick.\n",
        "## Concatenation\n",
        "Juxtapose and add ε-transitions.\n",
        "## Union\n",
        "Add ε-transitions from a new initial state to old initial states.\n",
        "## Use All Three Operations\n",
        "You should be able to build (by hand) an NFA from the Regular Expression $(01 \\cup 0)^*$.\n",
        "## Intersection\n",
        "This is akin to the composition of graphs.\n"
      ]
    },
    {
      "cell_type": "markdown",
      "metadata": {
        "id": "TyqmSYZE5Ee2"
      },
      "source": [
        "## Converting Finite Automata to Regular Expressions\n",
        "The conversion of a Finite Automaton to a Regular Expression is nicely automated with the Jove tools, but it is also instructive to further study the manual process.\n",
        "\n",
        "Here is a different than Ganesh's but equivalent take on this process.\n",
        "\n",
        "The manual conversion begins by creating from the given Deterministic or Nondeterministic Finite Automaton a **Generalized** Nondeterministic Finite Automaton (GNFA) --- defined as an NFA that allows regular expressions to label its transitions, not just alphabet symbols.\n",
        "The process of converting a Finite Automaton to a GNFA begins by adding a new start state and a new accept state, with ε-transitions from the new start state to the old start state, and from the old accept states to the new accept state. At each stage of the conversion, a state is chosen to delete, hence decreasing the number of states by one. At some point, the number of states will be two --- and those will be the two new states that were added. The label between these two states will be the regular expression that is equivalent to the original NFA.\n"
      ]
    },
    {
      "cell_type": "markdown",
      "metadata": {
        "id": "2lKAs18U5Ee6"
      },
      "source": [
        "With $G$ being a GNFA, here is a recursive procedure to convert $G$ to a Regular Expression.\n",
        "\n",
        "CONVERT($G$):\n",
        "1. Let $k$ be the number of states of $G$.\n",
        "2. If $k = 2$, then $G$ must consist of a start state, an accept state, and a single arrow connnecting them labeled with a regular expression $R$. Return the expression $R$.\n",
        "3. If $k > 2$, select any state $S_{del} \\in Q$ different from $S_{start}$ and $S_{accept}$ and let $G^{\\prime}$ be the GNFA\n",
        "\n",
        "$(Q^{\\prime}, \\Sigma, \\delta^{\\prime}, S_{start}, S_{accept})$, where\n",
        "\n",
        "$Q^{\\prime} = Q - \\{S_{del}\\}$ and for any $S_i \\in Q^{\\prime} - \\{S_{accept}\\}$ and any $S_j \\in Q^{\\prime} - \\{S_{start}\\}$ let\n",
        "\n",
        "$\\delta^{\\prime}(S_i, S_j) = (R_1)(R_2)^*(R_3) \\cup (R_4)$\n",
        "\n",
        "for $R_1 = \\delta(S_i, S_{del}), R_2 = \\delta(S_{del}, S_{del}), R_3 = \\delta(S_{del}, S_j)$, and $R_4 = \\delta(S_i, S_j)$.\n",
        "\n",
        "4. Compute CONVERT($G^{\\prime}$) and return this value."
      ]
    },
    {
      "cell_type": "markdown",
      "metadata": {
        "id": "Oh43VwQd5Ee9"
      },
      "source": [
        "### Simple Example\n",
        "Refer to these two figures:\n",
        "\n",
        "Before deleting state:\n",
        "![before-deleting-state.png](attachment:before-deleting-state.png)"
      ]
    },
    {
      "cell_type": "markdown",
      "metadata": {
        "id": "feJJyuHC5Ee-"
      },
      "source": [
        "After deleting state:\n",
        "![after-deleting-state.png](attachment:after-deleting-state.png)"
      ]
    },
    {
      "cell_type": "markdown",
      "metadata": {
        "id": "bzSLwiCI5Ee-"
      },
      "source": [
        "Here is the markdown for the example NFA (or is it a DFA?):"
      ]
    },
    {
      "cell_type": "code",
      "metadata": {
        "id": "vl1oR1Ns5Ee_",
        "outputId": "3849a4c9-3c17-4231-fd56-da4c41ea743e",
        "colab": {
          "base_uri": "https://localhost:8080/"
        }
      },
      "source": [
        "fa1 = md2mc('''\n",
        "       NFA\n",
        "       I : a -> I\n",
        "       I : b -> F\n",
        "       F : a -> F\n",
        "       F : b -> I\n",
        "''')"
      ],
      "execution_count": 2,
      "outputs": [
        {
          "output_type": "stream",
          "text": [
            "Generating LALR tables\n"
          ],
          "name": "stderr"
        }
      ]
    },
    {
      "cell_type": "code",
      "metadata": {
        "id": "8UbDrNhh1Faj",
        "outputId": "8e839497-1055-41b8-8a3f-f79c2b139f80",
        "colab": {
          "base_uri": "https://localhost:8080/",
          "height": 134
        }
      },
      "source": [
        "dotObj_nfa(fa1)"
      ],
      "execution_count": 3,
      "outputs": [
        {
          "output_type": "execute_result",
          "data": {
            "text/plain": [
              "<graphviz.dot.Digraph at 0x7f62c3c13be0>"
            ],
            "image/svg+xml": "<?xml version=\"1.0\" encoding=\"UTF-8\" standalone=\"no\"?>\n<!DOCTYPE svg PUBLIC \"-//W3C//DTD SVG 1.1//EN\"\n \"http://www.w3.org/Graphics/SVG/1.1/DTD/svg11.dtd\">\n<!-- Generated by graphviz version 2.40.1 (20161225.0304)\n -->\n<!-- Title: %3 Pages: 1 -->\n<svg width=\"227pt\" height=\"85pt\"\n viewBox=\"0.00 0.00 227.00 85.00\" xmlns=\"http://www.w3.org/2000/svg\" xmlns:xlink=\"http://www.w3.org/1999/xlink\">\n<g id=\"graph0\" class=\"graph\" transform=\"scale(1 1) rotate(0) translate(4 81)\">\n<title>%3</title>\n<polygon fill=\"#ffffff\" stroke=\"transparent\" points=\"-4,4 -4,-81 223,-81 223,4 -4,4\"/>\n<!-- EMPTY -->\n<g id=\"node1\" class=\"node\">\n<title>EMPTY</title>\n</g>\n<!-- I -->\n<g id=\"node2\" class=\"node\">\n<title>I</title>\n<ellipse fill=\"none\" stroke=\"#000000\" cx=\"109\" cy=\"-22\" rx=\"18\" ry=\"18\"/>\n<text text-anchor=\"middle\" x=\"109\" y=\"-18.3\" font-family=\"Times,serif\" font-size=\"14.00\" fill=\"#000000\">I</text>\n</g>\n<!-- EMPTY&#45;&gt;I -->\n<g id=\"edge1\" class=\"edge\">\n<title>EMPTY&#45;&gt;I</title>\n<path fill=\"none\" stroke=\"#000000\" d=\"M54.3048,-22C62.6909,-22 71.9407,-22 80.4103,-22\"/>\n<polygon fill=\"#000000\" stroke=\"#000000\" points=\"80.5976,-25.5001 90.5976,-22 80.5976,-18.5001 80.5976,-25.5001\"/>\n</g>\n<!-- I&#45;&gt;I -->\n<g id=\"edge2\" class=\"edge\">\n<title>I&#45;&gt;I</title>\n<path fill=\"none\" stroke=\"#000000\" d=\"M102.6208,-39.0373C101.3189,-48.8579 103.4453,-58 109,-58 112.4717,-58 114.6042,-54.4289 115.3975,-49.3529\"/>\n<polygon fill=\"#000000\" stroke=\"#000000\" points=\"118.8971,-49.031 115.3792,-39.0373 111.8971,-49.0435 118.8971,-49.031\"/>\n<text text-anchor=\"middle\" x=\"109\" y=\"-61.8\" font-family=\"Times,serif\" font-size=\"14.00\" fill=\"#000000\">a </text>\n</g>\n<!-- F -->\n<g id=\"node3\" class=\"node\">\n<title>F</title>\n<ellipse fill=\"none\" stroke=\"#000000\" cx=\"197\" cy=\"-22\" rx=\"18\" ry=\"18\"/>\n<ellipse fill=\"none\" stroke=\"#000000\" cx=\"197\" cy=\"-22\" rx=\"22\" ry=\"22\"/>\n<text text-anchor=\"middle\" x=\"197\" y=\"-18.3\" font-family=\"Times,serif\" font-size=\"14.00\" fill=\"#000000\">F</text>\n</g>\n<!-- I&#45;&gt;F -->\n<g id=\"edge3\" class=\"edge\">\n<title>I&#45;&gt;F</title>\n<path fill=\"none\" stroke=\"#000000\" d=\"M127.2337,-22C138.0103,-22 151.9708,-22 164.5692,-22\"/>\n<polygon fill=\"#000000\" stroke=\"#000000\" points=\"164.7317,-25.5001 174.7317,-22 164.7317,-18.5001 164.7317,-25.5001\"/>\n<text text-anchor=\"middle\" x=\"151\" y=\"-25.8\" font-family=\"Times,serif\" font-size=\"14.00\" fill=\"#000000\">b </text>\n</g>\n<!-- F&#45;&gt;I -->\n<g id=\"edge5\" class=\"edge\">\n<title>F&#45;&gt;I</title>\n<path fill=\"none\" stroke=\"#000000\" d=\"M178.5288,-9.5151C168.7254,-4.3636 156.3821,-.1807 145,-3 141.0235,-3.985 137.0019,-5.4981 133.1597,-7.2497\"/>\n<polygon fill=\"#000000\" stroke=\"#000000\" points=\"131.3818,-4.2287 124.1057,-11.93 134.5962,-10.447 131.3818,-4.2287\"/>\n<text text-anchor=\"middle\" x=\"151\" y=\"-6.8\" font-family=\"Times,serif\" font-size=\"14.00\" fill=\"#000000\">b </text>\n</g>\n<!-- F&#45;&gt;F -->\n<g id=\"edge4\" class=\"edge\">\n<title>F&#45;&gt;F</title>\n<path fill=\"none\" stroke=\"#000000\" d=\"M188.6298,-42.5808C187.4716,-52.8447 190.2617,-62 197,-62 201.3167,-62 204.0131,-58.2427 205.0891,-52.8436\"/>\n<polygon fill=\"#000000\" stroke=\"#000000\" points=\"208.595,-52.6729 205.3702,-42.5808 201.5976,-52.4812 208.595,-52.6729\"/>\n<text text-anchor=\"middle\" x=\"197\" y=\"-65.8\" font-family=\"Times,serif\" font-size=\"14.00\" fill=\"#000000\">a </text>\n</g>\n</g>\n</svg>\n"
          },
          "metadata": {
            "tags": []
          },
          "execution_count": 3
        }
      ]
    },
    {
      "cell_type": "markdown",
      "metadata": {
        "id": "lNvtz_C51Faj"
      },
      "source": [
        "After the conversion from an NFA to a GNFA has started by first adding a new start state and a new accept state, the CONVERT procedure can produce several solutions depending on the order the original states are deleted.\n",
        "\n",
        "For simplicity, just remove them in order (1, 2, 3, etc., where state I is relabeled '1', and state F is relabeled '2'):\n",
        "\n",
        "$0 \\rightarrow 1 (I) \\rightarrow 2 (F) \\rightarrow 3$\n",
        "\n",
        "If you call 0 the new start state and 3 the new accept state, then transitions from 0 to 1 and 2 to 3 are labeled with $\\epsilon$ (the empty string). Now if you squint your eyes and look at states 0, 1 and 2 as if they were states $S_i$, $S_{del}$ and $S_j$ respectively, as in the above figures, then step 3 of the CONVERT procedure goes like this:\n",
        "\n",
        "$$R_1 = \\epsilon, R_2 = a, R_3 = b, R_4 = \\emptyset.$$\n",
        "\n",
        "So with those substitutions, a new label from state 0 to state 2 is $a^{*}b$, which is just\n",
        "\n",
        "$$(R_1)(R_2)^{*}(R_3)\\ {\\cup}\\ (R_4).$$\n",
        "\n",
        "But wait --- we can't totally remove state 1 yet, as it still has transitions going to it!\n",
        "\n",
        "So if you repeat this procedure with state 2 being **both** state $S_i$ **and** state $S_j$, and state 1 being $S_{del}$, then you get $(ba^{*}b\\ {\\cup}\\ a)$ as the regular expression labeling the transition from state 2 to itself.\n",
        "\n",
        "(Here $R_1 = b, R_2 = a, R_3 = b, R_4 = a$.)\n",
        "\n",
        "Finally, using state 0 as $S_i$ and state 3 as $S_j$, and state 2 as $S_{del}$, then you get $a^{*}b(ba^{*}b\\ {\\cup}\\ a)^{*}$ as the single regular expression that results when the procedure ends.\n",
        "\n",
        "(Here $R_1 = a^{*}b, R_2 = ba^{*}b\\ {\\cup}\\ a, R_3 = \\epsilon, R_4 = \\emptyset$.)\n",
        "\n",
        "So, $a^{*}b(ba^{*}b\\ {\\cup}\\ a)^{*}$ is the answer."
      ]
    },
    {
      "cell_type": "markdown",
      "metadata": {
        "id": "dzLMqDgH5EfD"
      },
      "source": [
        "## A more \"systematized\" version\n",
        "First, show existing transitions as $xy = RE$ using juxtaposed digits $x$ and $y$ to represent the **from** state and the **to** state, and $RE$ the regular expression labeling the transition between them:\n",
        "\n",
        "|     |   |   |\n",
        "|-----|---|---|\n",
        "| 11  | = | a |\n",
        "| 12  | = | b |\n",
        "| 21  | = | b |\n",
        "| 22  | = | a |\n",
        "\n",
        "   Next, add initial state 0 and new final state 3:\n",
        "   \n",
        "\n",
        "|    |   |   |\n",
        "|----|---|---|\n",
        "| 01 | = | $\\epsilon$  |\n",
        "| 02 | = | $\\emptyset$ |\n",
        "| 03 | = | $\\emptyset$ |\n",
        "| 23 | = | $\\epsilon$  |\n"
      ]
    },
    {
      "cell_type": "markdown",
      "metadata": {
        "id": "RxJfShAI5EfF"
      },
      "source": [
        "Recall that $\\epsilon$, representing the empty string, is not the same as $\\emptyset$, the empty set. Note that $02$ and $03$ are **empty** (as in empty set, not empty string) transitions. Any transitions not listed (e.g., $13$) are assumed empty, and would be included and labeled as such if we were being meticulous!\n",
        "\n",
        "Next, remove state 1 and relabel transitions between all the remaining states (0, 2 and 3):\n",
        "\n",
        "|    |   |   |\n",
        "|----|---|---|\n",
        "| 02 | = | $(01)(11)^{*}(12) \\cup 02$ | = | $(\\epsilon)(a)*(b) \\cup \\emptyset$ | = | $a^{*}b$ |\n",
        "| 22 | = | $(21)(11)^{*}(12) \\cup 22$ | = | $ba^{*}b \\cup a$       |   |     |\n",
        "| 23 | = | $(21)(11)^{*}(13) \\cup 23$ | = | $ba^{*}\\emptyset \\cup \\epsilon$       | = | $\\epsilon$   |\n",
        "| 32 | = | $(31)(11)^{*}(12) \\cup 32$ | = | $\\emptyset a^{*}b \\cup \\emptyset$      | = | $\\emptyset$   |\n",
        "| 33 | = | $(31)(11)^{*}(13) \\cup 33$ | = | $\\emptyset a^{*}a \\cup \\emptyset$      | = | $\\emptyset$   |\n",
        "\n",
        "Finally, remove state 2 and relabel the transition between the remaining states (0 and 3):\n",
        "\n",
        "|    |   |   |\n",
        "|----|---|---|\n",
        "| 03 | = | $(02)(22)^{*}(23) \\cup 03$ | = | $a^{*}b(ba^{*}b \\cup a)^{*}\\epsilon \\cup \\emptyset$ | = | $a^{*}b(ba^{*}b \\cup a)^{*}$ |\n"
      ]
    },
    {
      "cell_type": "markdown",
      "metadata": {
        "id": "vsuVlkfb5EfJ"
      },
      "source": [
        "## You Do This Harder Example\n",
        "This one has one more state than the previous one:"
      ]
    },
    {
      "cell_type": "code",
      "metadata": {
        "id": "qmfm_xkL5EfK"
      },
      "source": [
        " dfa = '''\n",
        "    DFA\n",
        "    IF1 : a|b -> S2\n",
        "    S2  : a   -> S2\n",
        "    S2  : b   -> F3\n",
        "    F3  : a   -> IF1\n",
        "    F3  : b   -> S2\n",
        "  '''"
      ],
      "execution_count": 4,
      "outputs": []
    },
    {
      "cell_type": "code",
      "metadata": {
        "id": "uWWBYG2g5EfK",
        "outputId": "7f70dccd-d702-4cc5-91c1-ad9e6675ee8e",
        "colab": {
          "base_uri": "https://localhost:8080/",
          "height": 168
        }
      },
      "source": [
        "dotObj_dfa(md2mc(dfa))"
      ],
      "execution_count": 6,
      "outputs": [
        {
          "output_type": "execute_result",
          "data": {
            "text/plain": [
              "<graphviz.dot.Digraph at 0x7f62c4aad278>"
            ],
            "image/svg+xml": "<?xml version=\"1.0\" encoding=\"UTF-8\" standalone=\"no\"?>\n<!DOCTYPE svg PUBLIC \"-//W3C//DTD SVG 1.1//EN\"\n \"http://www.w3.org/Graphics/SVG/1.1/DTD/svg11.dtd\">\n<!-- Generated by graphviz version 2.40.1 (20161225.0304)\n -->\n<!-- Title: %3 Pages: 1 -->\n<svg width=\"342pt\" height=\"110pt\"\n viewBox=\"0.00 0.00 342.29 109.80\" xmlns=\"http://www.w3.org/2000/svg\" xmlns:xlink=\"http://www.w3.org/1999/xlink\">\n<g id=\"graph0\" class=\"graph\" transform=\"scale(1 1) rotate(0) translate(4 105.7982)\">\n<title>%3</title>\n<polygon fill=\"#ffffff\" stroke=\"transparent\" points=\"-4,4 -4,-105.7982 338.2884,-105.7982 338.2884,4 -4,4\"/>\n<!-- EMPTY -->\n<g id=\"node1\" class=\"node\">\n<title>EMPTY</title>\n</g>\n<!-- IF1 -->\n<g id=\"node4\" class=\"node\">\n<title>IF1</title>\n<ellipse fill=\"none\" stroke=\"#000000\" cx=\"119.0479\" cy=\"-58.7982\" rx=\"24.089\" ry=\"24.089\"/>\n<ellipse fill=\"none\" stroke=\"#000000\" cx=\"119.0479\" cy=\"-58.7982\" rx=\"28.0958\" ry=\"28.0958\"/>\n<text text-anchor=\"middle\" x=\"119.0479\" y=\"-55.0982\" font-family=\"Times,serif\" font-size=\"14.00\" fill=\"#000000\">IF1</text>\n</g>\n<!-- EMPTY&#45;&gt;IF1 -->\n<g id=\"edge1\" class=\"edge\">\n<title>EMPTY&#45;&gt;IF1</title>\n<path fill=\"none\" stroke=\"#000000\" d=\"M54.1195,-58.7982C62.4288,-58.7982 71.7332,-58.7982 80.6453,-58.7982\"/>\n<polygon fill=\"#000000\" stroke=\"#000000\" points=\"80.8442,-62.2983 90.8441,-58.7982 80.8441,-55.2983 80.8442,-62.2983\"/>\n</g>\n<!-- S2 -->\n<g id=\"node2\" class=\"node\">\n<title>S2</title>\n<ellipse fill=\"none\" stroke=\"#000000\" cx=\"215.8939\" cy=\"-20.7982\" rx=\"20.5982\" ry=\"20.5982\"/>\n<text text-anchor=\"middle\" x=\"215.8939\" y=\"-17.0982\" font-family=\"Times,serif\" font-size=\"14.00\" fill=\"#000000\">S2</text>\n</g>\n<!-- S2&#45;&gt;S2 -->\n<g id=\"edge4\" class=\"edge\">\n<title>S2&#45;&gt;S2</title>\n<path fill=\"none\" stroke=\"#000000\" d=\"M207.9339,-40.3618C206.7093,-50.4777 209.3626,-59.5963 215.8939,-59.5963 220.078,-59.5963 222.6705,-55.854 223.6716,-50.5047\"/>\n<polygon fill=\"#000000\" stroke=\"#000000\" points=\"227.1736,-50.4231 223.8538,-40.3618 220.1747,-50.2973 227.1736,-50.4231\"/>\n<text text-anchor=\"middle\" x=\"215.8939\" y=\"-63.3963\" font-family=\"Times,serif\" font-size=\"14.00\" fill=\"#000000\">a </text>\n</g>\n<!-- F3 -->\n<g id=\"node3\" class=\"node\">\n<title>F3</title>\n<ellipse fill=\"none\" stroke=\"#000000\" cx=\"309.4902\" cy=\"-58.7982\" rx=\"20.6302\" ry=\"20.6302\"/>\n<ellipse fill=\"none\" stroke=\"#000000\" cx=\"309.4902\" cy=\"-58.7982\" rx=\"24.5979\" ry=\"24.5979\"/>\n<text text-anchor=\"middle\" x=\"309.4902\" y=\"-55.0982\" font-family=\"Times,serif\" font-size=\"14.00\" fill=\"#000000\">F3</text>\n</g>\n<!-- S2&#45;&gt;F3 -->\n<g id=\"edge5\" class=\"edge\">\n<title>S2&#45;&gt;F3</title>\n<path fill=\"none\" stroke=\"#000000\" d=\"M235.2193,-28.8095C241.4321,-31.3738 248.3482,-34.2167 254.692,-36.7982 261.8078,-39.6937 269.4532,-42.7792 276.7083,-45.6953\"/>\n<polygon fill=\"#000000\" stroke=\"#000000\" points=\"275.6894,-49.0576 286.2736,-49.5331 278.296,-42.561 275.6894,-49.0576\"/>\n<text text-anchor=\"middle\" x=\"260.692\" y=\"-45.5982\" font-family=\"Times,serif\" font-size=\"14.00\" fill=\"#000000\">b </text>\n</g>\n<!-- F3&#45;&gt;S2 -->\n<g id=\"edge7\" class=\"edge\">\n<title>F3&#45;&gt;S2</title>\n<path fill=\"none\" stroke=\"#000000\" d=\"M294.2504,-38.552C286.9144,-30.4785 277.3858,-22.0938 266.692,-17.7982 260.4515,-15.2913 253.4305,-14.5406 246.6451,-14.7233\"/>\n<polygon fill=\"#000000\" stroke=\"#000000\" points=\"245.9648,-11.2706 236.3222,-15.6605 246.5977,-18.2419 245.9648,-11.2706\"/>\n<text text-anchor=\"middle\" x=\"260.692\" y=\"-21.5982\" font-family=\"Times,serif\" font-size=\"14.00\" fill=\"#000000\">b </text>\n</g>\n<!-- F3&#45;&gt;IF1 -->\n<g id=\"edge6\" class=\"edge\">\n<title>F3&#45;&gt;IF1</title>\n<path fill=\"none\" stroke=\"#000000\" d=\"M286.7207,-68.7973C272.6167,-74.4371 253.9588,-80.9159 236.692,-83.7982 218.4571,-86.842 213.3504,-86.7217 195.0957,-83.7982 181.6686,-81.6478 167.3963,-77.4892 154.8863,-73.1716\"/>\n<polygon fill=\"#000000\" stroke=\"#000000\" points=\"155.8755,-69.8078 145.2811,-69.7102 153.5023,-76.3932 155.8755,-69.8078\"/>\n<text text-anchor=\"middle\" x=\"215.8939\" y=\"-90.5982\" font-family=\"Times,serif\" font-size=\"14.00\" fill=\"#000000\">a </text>\n</g>\n<!-- IF1&#45;&gt;S2 -->\n<g id=\"edge2\" class=\"edge\">\n<title>IF1&#45;&gt;S2</title>\n<path fill=\"none\" stroke=\"#000000\" d=\"M145.4057,-48.9922C155.3606,-45.2405 166.7735,-40.8816 177.0957,-36.7982 180.3796,-35.4991 183.8107,-34.1184 187.2157,-32.7335\"/>\n<polygon fill=\"#000000\" stroke=\"#000000\" points=\"188.6753,-35.9179 196.5983,-28.8839 186.0182,-29.4417 188.6753,-35.9179\"/>\n<text text-anchor=\"middle\" x=\"171.0957\" y=\"-45.5982\" font-family=\"Times,serif\" font-size=\"14.00\" fill=\"#000000\">a </text>\n</g>\n<!-- IF1&#45;&gt;S2 -->\n<g id=\"edge3\" class=\"edge\">\n<title>IF1&#45;&gt;S2</title>\n<path fill=\"none\" stroke=\"#000000\" d=\"M137.0274,-37.2227C144.7744,-29.558 154.4917,-21.8348 165.0957,-17.7982 171.381,-15.4055 178.42,-14.7011 185.2088,-14.8925\"/>\n<polygon fill=\"#000000\" stroke=\"#000000\" points=\"185.2542,-18.4105 195.5266,-15.8167 185.8788,-11.4384 185.2542,-18.4105\"/>\n<text text-anchor=\"middle\" x=\"171.0957\" y=\"-21.5982\" font-family=\"Times,serif\" font-size=\"14.00\" fill=\"#000000\">b </text>\n</g>\n</g>\n</svg>\n"
          },
          "metadata": {
            "tags": []
          },
          "execution_count": 6
        }
      ]
    },
    {
      "cell_type": "markdown",
      "metadata": {
        "id": "jrJ8oLtE5SHO"
      },
      "source": [
        "$\\epsilon$ + ((a + b) ((a + bb)\\*) ba)\\* + ((a + b) ((a + bb)\\*) b)\r\n"
      ]
    },
    {
      "cell_type": "code",
      "metadata": {
        "colab": {
          "base_uri": "https://localhost:8080/"
        },
        "id": "QEdh4H5h5WhU",
        "outputId": "825e1f5e-a04c-44a6-ac13-2ac7ef2d93e4"
      },
      "source": [
        "help(re2nfa)"
      ],
      "execution_count": 7,
      "outputs": [
        {
          "output_type": "stream",
          "text": [
            "Help on function re2nfa in module jove.Def_RE2NFA:\n",
            "\n",
            "re2nfa(s, stno=0)\n",
            "    Given a string s representing an RE and an optional\n",
            "    state number stno (default 0), generate an NFA that\n",
            "    is language equivalent to the RE\n",
            "\n"
          ],
          "name": "stdout"
        }
      ]
    },
    {
      "cell_type": "markdown",
      "metadata": {
        "id": "l2SOuuDL6Q9Q"
      },
      "source": [
        "Answer: If you removed states 1, 2, 3 in that order, you should have converted the DFA to the RE: '' + ((a + b)a*b((b + a(a + b))a*b)*('' + a))\r\n"
      ]
    },
    {
      "cell_type": "markdown",
      "metadata": {
        "id": "V9nRzOHS1Fax"
      },
      "source": [
        "# END\n"
      ]
    }
  ]
}