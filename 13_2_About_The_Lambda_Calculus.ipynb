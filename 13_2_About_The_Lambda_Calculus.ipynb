{
  "nbformat": 4,
  "nbformat_minor": 0,
  "metadata": {
    "colab": {
      "name": "13_2_About_The_Lambda_Calculus.ipynb",
      "provenance": [],
      "toc_visible": true,
      "include_colab_link": true
    },
    "kernelspec": {
      "name": "python3",
      "display_name": "Python 3"
    },
    "language_info": {
      "name": "python"
    }
  },
  "cells": [
    {
      "cell_type": "markdown",
      "metadata": {
        "id": "view-in-github",
        "colab_type": "text"
      },
      "source": [
        "<a href=\"https://colab.research.google.com/github/mloumeau/cse480-notebooks/blob/master/13_2_About_The_Lambda_Calculus.ipynb\" target=\"_parent\"><img src=\"https://colab.research.google.com/assets/colab-badge.svg\" alt=\"Open In Colab\"/></a>"
      ]
    },
    {
      "cell_type": "markdown",
      "metadata": {
        "id": "z6S3fs7Ia2rm"
      },
      "source": [
        "# About The Lambda Calculus\n",
        "## Readiness Assurance Test\n",
        "### Due: Wednesday, 31 March 2021, 2:45pm"
      ]
    },
    {
      "cell_type": "markdown",
      "metadata": {
        "id": "rsczdHKQtldp"
      },
      "source": [
        "<font color=red>Good work on the first problem, Matthew!\n",
        "\n",
        "Please look at [the exemplary answer to the last problem](#scrollTo=V00eq2XPtwMQ).\n",
        "</font>"
      ]
    },
    {
      "cell_type": "markdown",
      "metadata": {
        "id": "LYmfBBPdxwlh"
      },
      "source": [
        "## TODO Define gcd"
      ]
    },
    {
      "cell_type": "markdown",
      "metadata": {
        "id": "Wz0_Shc8yFgO"
      },
      "source": [
        "Euclid's method to compute the greatest common divisor of two natural numbers can be specified in the Lambda syntax as:"
      ]
    },
    {
      "cell_type": "code",
      "metadata": {
        "id": "lSm4IRKqx65i"
      },
      "source": [
        "gcd = lambda x: lambda y: y if (x==y) else gcd(x-y)(y) if (x>y) else gcd(x)(y-x)"
      ],
      "execution_count": null,
      "outputs": []
    },
    {
      "cell_type": "markdown",
      "metadata": {
        "id": "4fDpfrvpVjjw"
      },
      "source": [
        "Much like Chapter 18 shows how to compute ```fact``` to be ```Ye(prefact)```, show how to compute ```pregcd``` using a ```Ye``` application."
      ]
    },
    {
      "cell_type": "code",
      "metadata": {
        "id": "Qa67gbR4Vk_J"
      },
      "source": [
        "Ye = lambda f: (lambda x: x(x))(lambda y: f(lambda v: y(y)(v)))"
      ],
      "execution_count": null,
      "outputs": []
    },
    {
      "cell_type": "markdown",
      "metadata": {
        "id": "NC5NbP5etGCg"
      },
      "source": [
        "\n",
        "Note that ```pregcd``` is *curried* (see page 311); but that does not matter yet --- computing ```gcd``` from ```pregcd``` works the same despite having a curried function of two arguments. So, define ```pregcd``` in this manner, and then ```gcd```.\n",
        "    \n",
        "Then, using your ```gcd``` function, evaluate these:\n",
        "* ```gcd(450)(6000)```\n",
        "* ```gcd(450)(6001)```\n",
        "* ```gcd(450)(6002)```\n",
        "* ```gcd(450)(6003)```\n",
        "* ```gcd(453)(6003)```"
      ]
    },
    {
      "cell_type": "markdown",
      "metadata": {
        "id": "AAQD6DA_xjKg"
      },
      "source": [
        "## Refresher"
      ]
    },
    {
      "cell_type": "code",
      "metadata": {
        "id": "L0t1Xfeh7dte"
      },
      "source": [
        "# The identity function, I:\n",
        "# ---\n",
        "# I takes as well as returns a quantity c\n",
        "#\n",
        "I    = lambda c: c\n",
        "\n",
        "# The ZERO function, ZERO:\n",
        "# ---\n",
        "# The lambda expression below models 0. The encoding scheme used is that of\n",
        "# Church Numerals. Basically, it can also be written lambda b: lambda c: c\n",
        "# that is, the lambda body is \"c\"\n",
        "# or in other words zero applications of b to c.\n",
        "#\n",
        "# The reason that this defines 0 adequately will soon become apparent.\n",
        "#\n",
        "ZERO = lambda b: I\n",
        "\n",
        "# The successor function, S:\n",
        "# ---\n",
        "# This is how the successor function is encoded. Basically, it will help\n",
        "# wrap one more \"b\" application around an innermost c, as will soon be demoed.\n",
        "#\n",
        "S    = lambda a: lambda b: lambda c: b(a(b)(c))"
      ],
      "execution_count": null,
      "outputs": []
    },
    {
      "cell_type": "code",
      "metadata": {
        "id": "Hu13_uAX6xq2"
      },
      "source": [
        "def increment(n):\n",
        "    \"\"\"Standard increment of n. Helps define ChurchToNat.\n",
        "    \"\"\"\n",
        "    return n+1\n",
        "\n",
        "def ChurchToNat(c):\n",
        "    \"\"\"To define the Church numeral to Nat converter, all we need to do is\n",
        "       accept c, which is a function representing the Church numeral. We then\n",
        "       specialize c with the standard increment applied to 0. The result will\n",
        "       be that the Church numeral in question will end up applying increment\n",
        "       to 0 n times.\n",
        "       \"\"\"\n",
        "    return c(increment)(0)\n",
        "\n",
        "def NatToChurch(n):\n",
        "    \"\"\"A reverse converter now converts a standard natural number to a\n",
        "       Church numeral. This is done by applying S (i.e. our successor\n",
        "       function) n times to 0.\n",
        "    \"\"\"\n",
        "    if n == 0:\n",
        "        return ZERO\n",
        "    else:\n",
        "        return S(NatToChurch(n-1))"
      ],
      "execution_count": null,
      "outputs": []
    },
    {
      "cell_type": "code",
      "metadata": {
        "id": "MeeOFICB6LQ4",
        "colab": {
          "base_uri": "https://localhost:8080/"
        },
        "outputId": "fd5d15e6-9a1d-4c9a-bc41-4bd67cafd684"
      },
      "source": [
        "ChurchToNat(ZERO)"
      ],
      "execution_count": null,
      "outputs": [
        {
          "output_type": "execute_result",
          "data": {
            "text/plain": [
              "0"
            ]
          },
          "metadata": {
            "tags": []
          },
          "execution_count": 26
        }
      ]
    },
    {
      "cell_type": "markdown",
      "metadata": {
        "id": "xAMVxLQN-7ju"
      },
      "source": [
        "## Answers"
      ]
    },
    {
      "cell_type": "code",
      "metadata": {
        "id": "3nq0qQ-r7PJ_",
        "colab": {
          "base_uri": "https://localhost:8080/"
        },
        "outputId": "adc36553-4de2-4f9a-aa9d-2d44d46678a5"
      },
      "source": [
        "print(gcd(450)(6000))\n",
        "print(gcd(450)(6001))\n",
        "print(gcd(450)(6002))\n",
        "print(gcd(450)(6003))\n",
        "print(gcd(453)(6003))"
      ],
      "execution_count": null,
      "outputs": [
        {
          "output_type": "stream",
          "text": [
            "150\n",
            "1\n",
            "2\n",
            "9\n",
            "3\n"
          ],
          "name": "stdout"
        }
      ]
    },
    {
      "cell_type": "code",
      "metadata": {
        "id": "HwnjZM2m8Cid"
      },
      "source": [
        "pregcd = lambda gcd: lambda x: lambda y: y if (x==y) else gcd(x-y)(y) if (x>y) else gcd(x)(y-x)"
      ],
      "execution_count": null,
      "outputs": []
    },
    {
      "cell_type": "code",
      "metadata": {
        "id": "LZNh8dji8Tu-",
        "colab": {
          "base_uri": "https://localhost:8080/"
        },
        "outputId": "490790a1-d1d3-455e-cd1b-178db8c348f0"
      },
      "source": [
        "answer = Ye(pregcd)\n",
        "print(answer(450)(6000))\n",
        "print(answer(450)(6001))\n",
        "print(answer(450)(6002))\n",
        "print(answer(450)(6003))\n",
        "print(answer(453)(6003))"
      ],
      "execution_count": null,
      "outputs": [
        {
          "output_type": "stream",
          "text": [
            "150\n",
            "1\n",
            "2\n",
            "9\n",
            "3\n"
          ],
          "name": "stdout"
        }
      ]
    },
    {
      "cell_type": "code",
      "metadata": {
        "id": "IHDqqzGL_Mzg",
        "colab": {
          "base_uri": "https://localhost:8080/"
        },
        "outputId": "59fcc15a-f46d-4ef3-9f6c-7aa6045fdd68"
      },
      "source": [
        "print(gcd(450)(6000) == answer(450)(6000))\n",
        "print(gcd(450)(6001) == answer(450)(6001))\n",
        "print(gcd(450)(6002) == answer(450)(6002))\n",
        "print(gcd(450)(6003) == answer(450)(6003))\n",
        "print(gcd(453)(6003) == answer(453)(6003))"
      ],
      "execution_count": null,
      "outputs": [
        {
          "output_type": "stream",
          "text": [
            "True\n",
            "True\n",
            "True\n",
            "True\n",
            "True\n"
          ],
          "name": "stdout"
        }
      ]
    },
    {
      "cell_type": "markdown",
      "metadata": {
        "id": "d6dWC5B1xk6T"
      },
      "source": [
        "## The Ye Combinator"
      ]
    },
    {
      "cell_type": "markdown",
      "metadata": {
        "id": "WJ_L5XKQxnTB"
      },
      "source": [
        "Study how to show that $Y_e$ is indeed a **fixed point** combinator. This means that for any $G$, we get\n",
        "\n",
        "$Y_e\\; G = G(Y_e\\: G)$\n",
        "\n",
        "Remember, a combinator is just a function with no free variables.\n",
        "\n",
        "For visual clarity, the following steps use $()$ or $[]$ interchangeably.\n",
        "\n",
        "1. $Y_e G = (\\lambda f. (\\lambda x. (xx) [\\lambda y. f(\\lambda v. ((yy)v))])G$ --- Apply Beta reduction to pull in $G$, and get\n",
        "2. $ = (\\lambda x. (xx) [\\lambda y. G(\\lambda v. ((yy)v))])$ --- Apply Beta reduction once again.\n",
        "3. $ = [\\lambda y. G(\\lambda v. ((yy)v))] [\\lambda y. G(\\lambda v. ((yy)v))]$ --- This is $Y_e G$, which we will use later!\n",
        "4. $ = G(\\lambda v. (( [\\lambda y. G(\\lambda v. ((yy)v))] [\\lambda y. G(\\lambda v. ((yy)v))]  )v ))$ --- Apply Beta reduction once again.\n",
        "5. $ = G(\\lambda v. (( Y_e G  )v ))$ --- Using (3) from above.\n",
        "6. $ = G( Y_e G )$ --- Using Eta reduction.\n",
        "\n",
        "Or, as Ganesh [shows more colorfully](https://drive.google.com/file/d/1ikri1pU4LkiNzlkCQW5AdpoanwC0HS5q/view) --- the trick is to see what a previous step, i.e. (3) --- designated as (*) in his document --- had already calculated!\n",
        "\n",
        "\n",
        "\n"
      ]
    },
    {
      "cell_type": "markdown",
      "metadata": {
        "id": "_gKXLEemePS9"
      },
      "source": [
        "Compare with [Hai (Paul) Liu’s step-by-step Lambda Viewer](http://projectultimatum.org/cgi-bin/lambda). Just copy and paste into the text box in the Lambda Viewer the lambda expression\n",
        "   \n",
        "(\\f.(\\x.(x x)) (\\y.f(\\v.((y y) v)))) g\n",
        "\n",
        "Play around with different modes of evaluation from the drop-down menu."
      ]
    },
    {
      "cell_type": "markdown",
      "metadata": {
        "id": "UKCrefyTz4-2"
      },
      "source": [
        "## TODO Now You Try It"
      ]
    },
    {
      "cell_type": "markdown",
      "metadata": {
        "id": "8I91Vioyz7XE"
      },
      "source": [
        "Define the $L$ function as follows:\n",
        "\n",
        "$L = \\lambda{}abcdefghijklmnopqstuvwxyzr.r(thisisafixedpointcombinator)$\n",
        "\n",
        "Your task is to show that $L^{26}$ ($L$ applied to itself 26 times --- treated as a single function) is a fixed point combinator.\n",
        "\n",
        "So, you must show that for any function $G$, $L^{26} G = G (L^{26} G)$."
      ]
    },
    {
      "cell_type": "markdown",
      "metadata": {
        "id": "V00eq2XPtwMQ"
      },
      "source": [
        "<font color=red>Here's how to show it, using the hint:</font>\n",
        "\n",
        "* $L^2 = L L = \\lambda{}bcdefghijklmnopqstuvwxyzr.r(thisisLfixedpointcombinLtor)$\n",
        "* $L^3 = L L L = \\lambda{}cdefghijklmnopqstuvwxyzr.r(thisisLfixedpointcomLinLtor)$\n",
        "* $L^4 = L L L L = \\lambda{}defghijklmnopqstuvwxyzr.r(thisisLfixedpointLomLinLtor)$\n",
        "* ...\n",
        "* $L^{25} = \\lambda{}zr.r(L^{26}r)$\n",
        "* $L^{26} = \\lambda{}r.r(L^{26}r)$\n",
        "* $L^{26} G = \\lambda{}r.r(L^{26}r) G = G(L^{26} G)$ by Eta reduction."
      ]
    },
    {
      "cell_type": "markdown",
      "metadata": {
        "id": "nLqXts2FbOz6"
      },
      "source": [
        "### Hint"
      ]
    },
    {
      "cell_type": "markdown",
      "metadata": {
        "id": "roFhubAcbRq4"
      },
      "source": [
        "$L^2 = L L = \\lambda{}bcdefghijklmnopqstuvwxyzr.r(thisisLfixedpointcombinLtor)$\n"
      ]
    }
  ]
}